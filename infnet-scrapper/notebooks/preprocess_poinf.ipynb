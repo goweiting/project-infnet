{
 "cells": [
  {
   "cell_type": "markdown",
   "metadata": {
    "toc": true
   },
   "source": [
    "<h1>Table of Contents<span class=\"tocSkip\"></span></h1>\n",
    "<div class=\"toc\"><ul class=\"toc-item\"><li><span><a href=\"#Preprocess-Scrapped-Data\" data-toc-modified-id=\"Preprocess-Scrapped-Data-1\">Preprocess Scrapped Data</a></span></li><li><span><a href=\"#PeopleOfInformatics.csv:\" data-toc-modified-id=\"PeopleOfInformatics.csv:-2\"><code>PeopleOfInformatics</code>.csv:</a></span><ul class=\"toc-item\"><li><span><a href=\"#Check-for-duplicated-names\" data-toc-modified-id=\"Check-for-duplicated-names-2.1\">Check for duplicated <code>names</code></a></span></li><li><span><a href=\"#Check-the-institute-field\" data-toc-modified-id=\"Check-the-institute-field-2.2\">Check the <code>institute</code> field</a></span></li><li><span><a href=\"#Create-a-mapping-for-the-institutes-found\" data-toc-modified-id=\"Create-a-mapping-for-the-institutes-found-2.3\">Create a mapping for the <code>institutes</code> found</a></span></li><li><span><a href=\"#Alias/shortnames\" data-toc-modified-id=\"Alias/shortnames-2.4\">Alias/shortnames</a></span></li></ul></li><li><span><a href=\"#publications.csv-:\" data-toc-modified-id=\"publications.csv-:-3\"><code>publications</code>.csv :</a></span><ul class=\"toc-item\"><li><span><a href=\"#Assigning-unique-ID-to-external-academic\" data-toc-modified-id=\"Assigning-unique-ID-to-external-academic-3.1\">Assigning unique ID to external academic</a></span></li><li><span><a href=\"#Creating-index-for-collaboration:\" data-toc-modified-id=\"Creating-index-for-collaboration:-3.2\">Creating index for collaboration:</a></span></li></ul></li><li><span><a href=\"#Visualising-the-data\" data-toc-modified-id=\"Visualising-the-data-4\">Visualising the data</a></span><ul class=\"toc-item\"><li><span><a href=\"#Distribution-of-institutes\" data-toc-modified-id=\"Distribution-of-institutes-4.1\">Distribution of institutes</a></span></li><li><span><a href=\"#Distribution-of-publications-(by-year)\" data-toc-modified-id=\"Distribution-of-publications-(by-year)-4.2\">Distribution of publications (by year)</a></span></li><li><span><a href=\"#Distribution-of-publications-(number-of-coauthors)\" data-toc-modified-id=\"Distribution-of-publications-(number-of-coauthors)-4.3\">Distribution of publications (number of coauthors)</a></span></li></ul></li></ul></div>"
   ]
  },
  {
   "cell_type": "markdown",
   "metadata": {},
   "source": [
    "---\n",
    "# Preprocess Scrapped Data\n",
    "In this notebook, we clean the data that was scrapped from Edinbugh Research Explorer for the School of Informatics. Preprocessing the data is critical especially for this dataset, as it was noted by many other researchers on collaboration networks that the data collected are usually fuzzy (the problem of alias being used inconsistently for many individuals will resurface later). "
   ]
  },
  {
   "cell_type": "code",
   "execution_count": 1,
   "metadata": {},
   "outputs": [],
   "source": [
    "import pandas as pd\n",
    "import os, csv"
   ]
  },
  {
   "cell_type": "code",
   "execution_count": 2,
   "metadata": {},
   "outputs": [],
   "source": [
    "peopleOfInf_csv = '../data/peopleOfInformatics.csv'\n",
    "publications_csv = '../data/publications.csv'"
   ]
  },
  {
   "cell_type": "markdown",
   "metadata": {},
   "source": [
    "# `PeopleOfInformatics`.csv:\n",
    "This file contains information about the individuals in the School of Informatics. Information scrapped includes \n",
    "\n",
    "1. An unique individual id,\n",
    "2. First and Last name,\n",
    "3. indvidual's position in the school, and\n",
    "4. institute they belong to"
   ]
  },
  {
   "cell_type": "code",
   "execution_count": 3,
   "metadata": {
    "code_folding": []
   },
   "outputs": [],
   "source": [
    "# Import the csv:\n",
    "pd_pplOfInf = \\\n",
    "pd.read_csv(\n",
    "    filepath_or_buffer=peopleOfInf_csv,\n",
    "    names=[\n",
    "        'id', 'last_name', 'first_name', 'perseonal_url', 'position', 'parent',\n",
    "        'institute'\n",
    "    ],\n",
    "    index_col=False)"
   ]
  },
  {
   "cell_type": "code",
   "execution_count": 4,
   "metadata": {},
   "outputs": [
    {
     "name": "stdout",
     "output_type": "stream",
     "text": [
      "imported:  296\n",
      "number of indivudals = 296\n"
     ]
    }
   ],
   "source": [
    "print 'imported: ', len(pd_pplOfInf.index)\n",
    "print 'number of indivudals =', len(pd.unique(pd_pplOfInf['perseonal_url']))"
   ]
  },
  {
   "cell_type": "code",
   "execution_count": 5,
   "metadata": {
    "code_folding": []
   },
   "outputs": [
    {
     "name": "stdout",
     "output_type": "stream",
     "text": [
      "imported:  296\n",
      "number of indivudals = 292\n"
     ]
    }
   ],
   "source": [
    "# create a column for the full name (= last_name + full_name)\n",
    "_join_names = lambda (x, y): \" \".join([x, y])\n",
    "pd_pplOfInf['full_name'] = list(\n",
    "    map(_join_names, zip(pd_pplOfInf['last_name'], pd_pplOfInf['first_name'])))\n",
    "\n",
    "print 'imported: ', len(pd_pplOfInf.index)\n",
    "print 'number of indivudals =', len(pd.unique(pd_pplOfInf['full_name']))"
   ]
  },
  {
   "cell_type": "markdown",
   "metadata": {},
   "source": [
    "There are some names, three to be specific, that are duplicated!"
   ]
  },
  {
   "cell_type": "markdown",
   "metadata": {},
   "source": [
    "## Check for duplicated `names`"
   ]
  },
  {
   "cell_type": "code",
   "execution_count": 6,
   "metadata": {},
   "outputs": [
    {
     "data": {
      "text/html": [
       "<div>\n",
       "<style scoped>\n",
       "    .dataframe tbody tr th:only-of-type {\n",
       "        vertical-align: middle;\n",
       "    }\n",
       "\n",
       "    .dataframe tbody tr th {\n",
       "        vertical-align: top;\n",
       "    }\n",
       "\n",
       "    .dataframe thead th {\n",
       "        text-align: right;\n",
       "    }\n",
       "</style>\n",
       "<table border=\"1\" class=\"dataframe\">\n",
       "  <thead>\n",
       "    <tr style=\"text-align: right;\">\n",
       "      <th></th>\n",
       "      <th>id</th>\n",
       "      <th>last_name</th>\n",
       "      <th>first_name</th>\n",
       "      <th>perseonal_url</th>\n",
       "      <th>position</th>\n",
       "      <th>parent</th>\n",
       "      <th>institute</th>\n",
       "      <th>full_name</th>\n",
       "    </tr>\n",
       "  </thead>\n",
       "  <tbody>\n",
       "    <tr>\n",
       "      <th>65</th>\n",
       "      <td>863ba3ac-4506-49fe-aa7f-5568cba5e388</td>\n",
       "      <td>elliott</td>\n",
       "      <td>desmond</td>\n",
       "      <td>http://www.research.ed.ac.uk/portal/en/persons...</td>\n",
       "      <td>visitor default visitor</td>\n",
       "      <td>school of informatics</td>\n",
       "      <td>UNKNOWN</td>\n",
       "      <td>elliott desmond</td>\n",
       "    </tr>\n",
       "    <tr>\n",
       "      <th>66</th>\n",
       "      <td>9333c02f-770b-4b9c-b3d2-ff1322fc99aa</td>\n",
       "      <td>elliott</td>\n",
       "      <td>desmond</td>\n",
       "      <td>http://www.research.ed.ac.uk/portal/en/persons...</td>\n",
       "      <td>research associate</td>\n",
       "      <td>school of informatics</td>\n",
       "      <td>institute of language cognition and computation</td>\n",
       "      <td>elliott desmond</td>\n",
       "    </tr>\n",
       "    <tr>\n",
       "      <th>96</th>\n",
       "      <td>003ec9bb-18aa-4e6e-95e9-359f0968262a</td>\n",
       "      <td>gray</td>\n",
       "      <td>gavin</td>\n",
       "      <td>http://www.research.ed.ac.uk/portal/en/persons...</td>\n",
       "      <td>research assistant</td>\n",
       "      <td>school of informatics</td>\n",
       "      <td>institute for adaptive and neural computation</td>\n",
       "      <td>gray gavin</td>\n",
       "    </tr>\n",
       "    <tr>\n",
       "      <th>97</th>\n",
       "      <td>11447e11-aff5-438e-8fb6-264da9fb5483</td>\n",
       "      <td>gray</td>\n",
       "      <td>gavin</td>\n",
       "      <td>http://www.research.ed.ac.uk/portal/en/persons...</td>\n",
       "      <td>unknown</td>\n",
       "      <td>neuroinformatics dtc</td>\n",
       "      <td>UNKNOWN</td>\n",
       "      <td>gray gavin</td>\n",
       "    </tr>\n",
       "    <tr>\n",
       "      <th>170</th>\n",
       "      <td>265079a1-b5d5-4ff1-bf46-d0ad26e0d424</td>\n",
       "      <td>maneth</td>\n",
       "      <td>sebastian</td>\n",
       "      <td>http://www.research.ed.ac.uk/portal/en/persons...</td>\n",
       "      <td>unknown</td>\n",
       "      <td>laboratory for foundations of computer science</td>\n",
       "      <td>UNKNOWN</td>\n",
       "      <td>maneth sebastian</td>\n",
       "    </tr>\n",
       "    <tr>\n",
       "      <th>171</th>\n",
       "      <td>ef703785-d96b-49af-9b95-df74fa8fc4a2</td>\n",
       "      <td>maneth</td>\n",
       "      <td>sebastian</td>\n",
       "      <td>http://www.research.ed.ac.uk/portal/en/persons...</td>\n",
       "      <td>visitor official visitor</td>\n",
       "      <td>school of informatics</td>\n",
       "      <td>UNKNOWN</td>\n",
       "      <td>maneth sebastian</td>\n",
       "    </tr>\n",
       "    <tr>\n",
       "      <th>248</th>\n",
       "      <td>0ed800f5-a3a0-47d7-a8b3-f97a4f2b6931</td>\n",
       "      <td>steuwer</td>\n",
       "      <td>michel</td>\n",
       "      <td>http://www.research.ed.ac.uk/portal/en/persons...</td>\n",
       "      <td>unknown</td>\n",
       "      <td>institute for computing systems architecture</td>\n",
       "      <td>UNKNOWN</td>\n",
       "      <td>steuwer michel</td>\n",
       "    </tr>\n",
       "    <tr>\n",
       "      <th>249</th>\n",
       "      <td>5ddb75bd-0bf1-4792-ba2f-52821719fc3b</td>\n",
       "      <td>steuwer</td>\n",
       "      <td>michel</td>\n",
       "      <td>http://www.research.ed.ac.uk/portal/en/persons...</td>\n",
       "      <td>visitor official visitor</td>\n",
       "      <td>school of informatics</td>\n",
       "      <td>UNKNOWN</td>\n",
       "      <td>steuwer michel</td>\n",
       "    </tr>\n",
       "  </tbody>\n",
       "</table>\n",
       "</div>"
      ],
      "text/plain": [
       "                                       id last_name first_name  \\\n",
       "65   863ba3ac-4506-49fe-aa7f-5568cba5e388   elliott    desmond   \n",
       "66   9333c02f-770b-4b9c-b3d2-ff1322fc99aa   elliott    desmond   \n",
       "96   003ec9bb-18aa-4e6e-95e9-359f0968262a      gray      gavin   \n",
       "97   11447e11-aff5-438e-8fb6-264da9fb5483      gray      gavin   \n",
       "170  265079a1-b5d5-4ff1-bf46-d0ad26e0d424    maneth  sebastian   \n",
       "171  ef703785-d96b-49af-9b95-df74fa8fc4a2    maneth  sebastian   \n",
       "248  0ed800f5-a3a0-47d7-a8b3-f97a4f2b6931   steuwer     michel   \n",
       "249  5ddb75bd-0bf1-4792-ba2f-52821719fc3b   steuwer     michel   \n",
       "\n",
       "                                         perseonal_url  \\\n",
       "65   http://www.research.ed.ac.uk/portal/en/persons...   \n",
       "66   http://www.research.ed.ac.uk/portal/en/persons...   \n",
       "96   http://www.research.ed.ac.uk/portal/en/persons...   \n",
       "97   http://www.research.ed.ac.uk/portal/en/persons...   \n",
       "170  http://www.research.ed.ac.uk/portal/en/persons...   \n",
       "171  http://www.research.ed.ac.uk/portal/en/persons...   \n",
       "248  http://www.research.ed.ac.uk/portal/en/persons...   \n",
       "249  http://www.research.ed.ac.uk/portal/en/persons...   \n",
       "\n",
       "                     position                                          parent  \\\n",
       "65    visitor default visitor                           school of informatics   \n",
       "66         research associate                           school of informatics   \n",
       "96         research assistant                           school of informatics   \n",
       "97                    unknown                            neuroinformatics dtc   \n",
       "170                   unknown  laboratory for foundations of computer science   \n",
       "171  visitor official visitor                           school of informatics   \n",
       "248                   unknown    institute for computing systems architecture   \n",
       "249  visitor official visitor                           school of informatics   \n",
       "\n",
       "                                           institute         full_name  \n",
       "65                                           UNKNOWN   elliott desmond  \n",
       "66   institute of language cognition and computation   elliott desmond  \n",
       "96     institute for adaptive and neural computation        gray gavin  \n",
       "97                                           UNKNOWN        gray gavin  \n",
       "170                                          UNKNOWN  maneth sebastian  \n",
       "171                                          UNKNOWN  maneth sebastian  \n",
       "248                                          UNKNOWN    steuwer michel  \n",
       "249                                          UNKNOWN    steuwer michel  "
      ]
     },
     "execution_count": 6,
     "metadata": {},
     "output_type": "execute_result"
    }
   ],
   "source": [
    "dups_full_name = pd_pplOfInf.duplicated(subset='full_name', keep=False)\n",
    "small = pd_pplOfInf[dups_full_name]\n",
    "small"
   ]
  },
  {
   "cell_type": "markdown",
   "metadata": {},
   "source": [
    "Manually checking the data gives us:\n",
    "\n",
    "1) `elliott,desmond`\n",
    "    - (65) does not have any research output\n",
    "    - (66) is the main page with multiple research output\n",
    "\n",
    "3) `gray gavin`\n",
    "    - (96) is the main page with multiple research output\n",
    "    - (97) does not have any research output\n",
    "\n",
    "3) `maneth,sebastian`\n",
    "    - (170) is the main page with multiple research output\n",
    "    - (171) does not have any research output\n",
    "\n",
    "4) `steuwer,michel`\n",
    "    - (248) is the main page with multiple output\n",
    "    - (249) does not have any research output\n",
    "\n"
   ]
  },
  {
   "cell_type": "code",
   "execution_count": 7,
   "metadata": {},
   "outputs": [],
   "source": [
    "# Corresponding IDs to be dropped!\n",
    "to_drop = [\n",
    "    '863ba3ac-4506-49fe-aa7f-5568cba5e388',\n",
    "    '11447e11-aff5-438e-8fb6-264da9fb5483',\n",
    "    'ef703785-d96b-49af-9b95-df74fa8fc4a2',\n",
    "    '5ddb75bd-0bf1-4792-ba2f-52821719fc3b'\n",
    "]"
   ]
  },
  {
   "cell_type": "code",
   "execution_count": 8,
   "metadata": {},
   "outputs": [],
   "source": [
    "# manually remove index 65, 97, 171, 249\n",
    "pd_pplOfInf_dropped = pd_pplOfInf.drop([65, 97, 171, 249], axis=0)"
   ]
  },
  {
   "cell_type": "code",
   "execution_count": 9,
   "metadata": {
    "scrolled": true
   },
   "outputs": [
    {
     "name": "stdout",
     "output_type": "stream",
     "text": [
      "size of df:  292\n",
      "number of indivudals = 292\n"
     ]
    }
   ],
   "source": [
    "# Confirm that the number of individuals tallies:\n",
    "print 'size of df: ', len(pd_pplOfInf_dropped)\n",
    "print 'number of indivudals =', len(pd.unique(pd_pplOfInf_dropped['full_name']))"
   ]
  },
  {
   "cell_type": "markdown",
   "metadata": {},
   "source": [
    "## Check the `institute` field\n",
    "There are multiple institutes field where `school of informatics` was present; while most are labelled `UNKNOWN` by the scrapper as no such information is present."
   ]
  },
  {
   "cell_type": "markdown",
   "metadata": {},
   "source": [
    "`Before processing institute field:`"
   ]
  },
  {
   "cell_type": "code",
   "execution_count": 10,
   "metadata": {},
   "outputs": [
    {
     "name": "stdout",
     "output_type": "stream",
     "text": [
      "UNKNOWN: 80\n",
      "centre for intelligent systems and their applications: 19\n",
      "deanery of clinical sciences: 1\n",
      "edinburgh neuroscience: 1\n",
      "institute for adaptive and neural computation: 29\n",
      "institute for computing systems architecture: 24\n",
      "institute of language cognition and computation: 59\n",
      "institute of perception action and behaviour: 19\n",
      "laboratory for foundations of computer science: 57\n",
      "school of informatics: 2\n",
      "school of philosophy psychology and language sciences: 1\n"
     ]
    }
   ],
   "source": [
    "# separate the individuals by community:\n",
    "gb = pd_pplOfInf_dropped.groupby('institute')\n",
    "for k, group in gb:\n",
    "    print '{}: {}'.format(k, len(group))"
   ]
  },
  {
   "cell_type": "markdown",
   "metadata": {},
   "source": [
    "The distribution of the individuals in the institutes is not ideal; some of the institutes name may fall into the parent field. To avoid such instances, we copy the `parent`'s field into the `institute`'s field if the entry in the parent's field belongs to one of the institute names"
   ]
  },
  {
   "cell_type": "code",
   "execution_count": 11,
   "metadata": {},
   "outputs": [],
   "source": [
    "pd_pplOfInf_c = pd_pplOfInf_dropped.copy()"
   ]
  },
  {
   "cell_type": "code",
   "execution_count": 12,
   "metadata": {},
   "outputs": [],
   "source": [
    "def check_inst(row):\n",
    "    \"\"\"\n",
    "    # check that the dataset for institute names:\n",
    "    # if parent is not 'school of informatics', and institute is unknown, copy it over:\n",
    "    \"\"\"\n",
    "    inst = row.institute\n",
    "    par = row.parent\n",
    "    # We want to remove institute=school of informatics:\n",
    "    if inst == 'UNKNOWN' or inst == 'school of informatics':\n",
    "        if par == 'school of informatics':\n",
    "            inst = 'UNKNOWN'\n",
    "        else:\n",
    "            inst = par\n",
    "    return inst"
   ]
  },
  {
   "cell_type": "code",
   "execution_count": 13,
   "metadata": {},
   "outputs": [],
   "source": [
    "pd_pplOfInf_c['institute'] = pd_pplOfInf_c.apply(check_inst, axis=1)"
   ]
  },
  {
   "cell_type": "code",
   "execution_count": 14,
   "metadata": {},
   "outputs": [
    {
     "name": "stdout",
     "output_type": "stream",
     "text": [
      "size of df:  292\n",
      "number of indivudals = 292\n"
     ]
    }
   ],
   "source": [
    "# Confirm that the number of individuals tallies:\n",
    "print 'size of df: ', len(pd_pplOfInf_c)\n",
    "print 'number of indivudals =', len(pd.unique(pd_pplOfInf_c['full_name']))"
   ]
  },
  {
   "cell_type": "markdown",
   "metadata": {},
   "source": [
    "`After processing institute field`"
   ]
  },
  {
   "cell_type": "code",
   "execution_count": 15,
   "metadata": {},
   "outputs": [
    {
     "name": "stdout",
     "output_type": "stream",
     "text": [
      "AFTER PROCESSING\n",
      "UNKNOWN: 49\n",
      "centre for intelligent systems and their applications: 23\n",
      "deanery of clinical sciences: 1\n",
      "edinburgh neuroscience: 1\n",
      "institute for adaptive and neural computation: 30\n",
      "institute for computing systems architecture: 28\n",
      "institute of language cognition and computation: 62\n",
      "institute of perception action and behaviour: 19\n",
      "laboratory for foundations of computer science: 62\n",
      "neuroinformatics dtc: 16\n",
      "school of philosophy psychology and language sciences: 1\n"
     ]
    }
   ],
   "source": [
    "print 'AFTER PROCESSING'\n",
    "# separate the individuals by community:\n",
    "infcommunity = {}\n",
    "gb = pd_pplOfInf_c.groupby('institute')\n",
    "for k, group in gb:\n",
    "    print '{}: {}'.format(k, len(group))"
   ]
  },
  {
   "cell_type": "markdown",
   "metadata": {},
   "source": [
    "## Create a mapping for the `institutes` found"
   ]
  },
  {
   "cell_type": "code",
   "execution_count": 16,
   "metadata": {},
   "outputs": [
    {
     "name": "stdout",
     "output_type": "stream",
     "text": [
      "number of institutes found: 11\n"
     ]
    }
   ],
   "source": [
    "# Creat a mapping for the institutes to classes:\n",
    "institutes = dict()\n",
    "k = 0\n",
    "for i in pd.unique(pd_pplOfInf_c['institute']):\n",
    "    institutes[i] = k\n",
    "    k += 1\n",
    "print 'number of institutes found: {}'.format(len(institutes))"
   ]
  },
  {
   "cell_type": "code",
   "execution_count": 17,
   "metadata": {},
   "outputs": [],
   "source": [
    "# Save the institutes info:\n",
    "import cPickle as pkl\n",
    "pkl.dump(institutes, open('../data/institutes.pkl', 'w'), pkl.HIGHEST_PROTOCOL)"
   ]
  },
  {
   "cell_type": "markdown",
   "metadata": {},
   "source": [
    "Add the numeric class for institute:"
   ]
  },
  {
   "cell_type": "code",
   "execution_count": 18,
   "metadata": {
    "scrolled": false
   },
   "outputs": [],
   "source": [
    "# Set the class to each of the institute instance:\n",
    "pd_pplOfInf_c['institute_class'] = pd_pplOfInf_c.apply(\n",
    "    lambda row: institutes[row['institute']], axis=1)"
   ]
  },
  {
   "cell_type": "code",
   "execution_count": 19,
   "metadata": {},
   "outputs": [
    {
     "name": "stdout",
     "output_type": "stream",
     "text": [
      "class 0-UNKNOWN: 49\n",
      "class 1-centre for intelligent systems and their applications: 23\n",
      "class 2-institute of language cognition and computation: 62\n",
      "class 3-laboratory for foundations of computer science: 62\n",
      "class 4-institute for adaptive and neural computation: 30\n",
      "class 5-institute for computing systems architecture: 28\n",
      "class 6-neuroinformatics dtc: 16\n",
      "class 7-institute of perception action and behaviour: 19\n",
      "class 8-deanery of clinical sciences: 1\n",
      "class 9-edinburgh neuroscience: 1\n",
      "class 10-school of philosophy psychology and language sciences: 1\n"
     ]
    }
   ],
   "source": [
    "# separate the individuals by community:\n",
    "infcommunity = {}\n",
    "gb = pd_pplOfInf_c.groupby('institute_class')\n",
    "x = []\n",
    "y= []\n",
    "for k, group in gb:\n",
    "    infcommunity[k] = group\n",
    "    className = [name for (name, _k) in institutes.items() if _k == k][0]\n",
    "    x.append(className)\n",
    "    y.append(len(group))\n",
    "    print 'class {}-{}: {}'.format(k, className, len(group))"
   ]
  },
  {
   "cell_type": "markdown",
   "metadata": {},
   "source": [
    "From the Edinburgh Research Explorer, we know that [school of informatics](http://www.research.ed.ac.uk/portal/en/organisations/school-of-informatics%28d9a3581f-93a4-4d74-bf29-14c86a1da9f4%29.html) have the following institutes:\n",
    "- Centre for Intelligent Systems and their Applications (1)\n",
    "- Institute of Language, Cogn)tion and Computation (2)\n",
    "- Laboratory for Foundations of Computer Science (3)\n",
    "- Institute for Adaptive and Neural Computation (4)\n",
    "- Institute for Computing Systems Architecture (5)\n",
    "- Neuroinformatics DTC (6)\n",
    "- Institute of Perception, Action and Behaviour (7)\n",
    "\n",
    "with the numbers in the brackets corresponding to the mapping in the institutes dictionary. This will be useful later for our visualisation and creation of subgraphs"
   ]
  },
  {
   "cell_type": "markdown",
   "metadata": {},
   "source": [
    "## Alias/shortnames"
   ]
  },
  {
   "cell_type": "markdown",
   "metadata": {},
   "source": [
    "In publications, author's name are not spelled in full when cited. Rather, they are represented in contracted forms, such as `Calautti, M., Libkin, L. & Pieris, A` instead of `Marco Calautti, Leonid Libkin, & Andreas Pieris` respectively. This could be a problem down stream as an individual's name (in publication) may presented in full for some, and in shortname for others. This make mapping the a certain publication to individuals a challenge.\n",
    "\n",
    "To mitigate this, additional information (scrapped from Edinburgh research explorer) to assign shortnames (aliases) to an individual will be useful. These shortnames are assign to an individual in the school if the name is linked to their personal page on the research explorer"
   ]
  },
  {
   "cell_type": "code",
   "execution_count": 20,
   "metadata": {},
   "outputs": [],
   "source": [
    "# assign the alias to each individuals, if exists:\n",
    "poinf_alias = '../data/peopleOfInformatics_ALIAS.csv'\n",
    "pd_poinf_alias = pd.read_csv(poinf_alias, names=['id', 'alias'])"
   ]
  },
  {
   "cell_type": "code",
   "execution_count": 21,
   "metadata": {},
   "outputs": [
    {
     "name": "stdout",
     "output_type": "stream",
     "text": [
      "<class 'pandas.core.frame.DataFrame'>\n",
      "RangeIndex: 225 entries, 0 to 224\n",
      "Data columns (total 2 columns):\n",
      "id       225 non-null object\n",
      "alias    225 non-null object\n",
      "dtypes: object(2)\n",
      "memory usage: 3.6+ KB\n"
     ]
    }
   ],
   "source": [
    "pd_poinf_alias.info()"
   ]
  },
  {
   "cell_type": "code",
   "execution_count": 22,
   "metadata": {},
   "outputs": [],
   "source": [
    "# Remve any alias information that belongs to individual from the to_drop list\n",
    "pd_poinf_alias = pd_poinf_alias[~pd_poinf_alias['id'].isin(to_drop)]"
   ]
  },
  {
   "cell_type": "code",
   "execution_count": 23,
   "metadata": {},
   "outputs": [],
   "source": [
    "# Merge the two pandas dataset to include the alias\n",
    "lookup_poinf = pd_pplOfInf_c.set_index('id').join(\n",
    "    pd_poinf_alias.set_index('id'), how='inner')"
   ]
  },
  {
   "cell_type": "code",
   "execution_count": 24,
   "metadata": {},
   "outputs": [
    {
     "data": {
      "text/plain": [
       "224"
      ]
     },
     "execution_count": 24,
     "metadata": {},
     "output_type": "execute_result"
    }
   ],
   "source": [
    "len(lookup_poinf)"
   ]
  },
  {
   "cell_type": "code",
   "execution_count": 25,
   "metadata": {},
   "outputs": [
    {
     "data": {
      "text/html": [
       "<div>\n",
       "<style scoped>\n",
       "    .dataframe tbody tr th:only-of-type {\n",
       "        vertical-align: middle;\n",
       "    }\n",
       "\n",
       "    .dataframe tbody tr th {\n",
       "        vertical-align: top;\n",
       "    }\n",
       "\n",
       "    .dataframe thead th {\n",
       "        text-align: right;\n",
       "    }\n",
       "</style>\n",
       "<table border=\"1\" class=\"dataframe\">\n",
       "  <thead>\n",
       "    <tr style=\"text-align: right;\">\n",
       "      <th></th>\n",
       "      <th>last_name</th>\n",
       "      <th>first_name</th>\n",
       "      <th>perseonal_url</th>\n",
       "      <th>position</th>\n",
       "      <th>parent</th>\n",
       "      <th>institute</th>\n",
       "      <th>full_name</th>\n",
       "      <th>institute_class</th>\n",
       "      <th>alias</th>\n",
       "    </tr>\n",
       "    <tr>\n",
       "      <th>id</th>\n",
       "      <th></th>\n",
       "      <th></th>\n",
       "      <th></th>\n",
       "      <th></th>\n",
       "      <th></th>\n",
       "      <th></th>\n",
       "      <th></th>\n",
       "      <th></th>\n",
       "      <th></th>\n",
       "    </tr>\n",
       "  </thead>\n",
       "  <tbody>\n",
       "    <tr>\n",
       "      <th>a78a09b5-138e-407e-8c09-34414853eb20</th>\n",
       "      <td>bishop</td>\n",
       "      <td>christopher</td>\n",
       "      <td>http://www.research.ed.ac.uk/portal/en/persons...</td>\n",
       "      <td>professor</td>\n",
       "      <td>school of informatics</td>\n",
       "      <td>institute for adaptive and neural computation</td>\n",
       "      <td>bishop christopher</td>\n",
       "      <td>4</td>\n",
       "      <td>bishop, c. m.|bishop, c. m.  (ed.)|bishop, c.</td>\n",
       "    </tr>\n",
       "    <tr>\n",
       "      <th>90396347-473b-4fba-8b1d-a1d25ea18b6b</th>\n",
       "      <td>buneman</td>\n",
       "      <td>peter</td>\n",
       "      <td>http://www.research.ed.ac.uk/portal/en/persons...</td>\n",
       "      <td>professor</td>\n",
       "      <td>school of informatics</td>\n",
       "      <td>laboratory for foundations of computer science</td>\n",
       "      <td>buneman peter</td>\n",
       "      <td>3</td>\n",
       "      <td>buneman, p.  (ed.)|buneman, o. p.|buneman, p. ...</td>\n",
       "    </tr>\n",
       "    <tr>\n",
       "      <th>77aa9e59-2429-41d9-a3e7-f936298f61a6</th>\n",
       "      <td>kheirbakhsh abadi</td>\n",
       "      <td>aydin</td>\n",
       "      <td>http://www.research.ed.ac.uk/portal/en/persons...</td>\n",
       "      <td>research associate</td>\n",
       "      <td>school of informatics</td>\n",
       "      <td>laboratory for foundations of computer science</td>\n",
       "      <td>kheirbakhsh abadi aydin</td>\n",
       "      <td>3</td>\n",
       "      <td>kheirbakhsh abadi, a.</td>\n",
       "    </tr>\n",
       "    <tr>\n",
       "      <th>27720d3a-e8d1-41ae-ade3-22504c6a46f3</th>\n",
       "      <td>tylecek</td>\n",
       "      <td>radim</td>\n",
       "      <td>http://www.research.ed.ac.uk/portal/en/persons...</td>\n",
       "      <td>research associate</td>\n",
       "      <td>school of informatics</td>\n",
       "      <td>institute of perception action and behaviour</td>\n",
       "      <td>tylecek radim</td>\n",
       "      <td>7</td>\n",
       "      <td>tylecek, r.</td>\n",
       "    </tr>\n",
       "  </tbody>\n",
       "</table>\n",
       "</div>"
      ],
      "text/plain": [
       "                                              last_name   first_name  \\\n",
       "id                                                                     \n",
       "a78a09b5-138e-407e-8c09-34414853eb20             bishop  christopher   \n",
       "90396347-473b-4fba-8b1d-a1d25ea18b6b            buneman        peter   \n",
       "77aa9e59-2429-41d9-a3e7-f936298f61a6  kheirbakhsh abadi        aydin   \n",
       "27720d3a-e8d1-41ae-ade3-22504c6a46f3            tylecek        radim   \n",
       "\n",
       "                                                                          perseonal_url  \\\n",
       "id                                                                                        \n",
       "a78a09b5-138e-407e-8c09-34414853eb20  http://www.research.ed.ac.uk/portal/en/persons...   \n",
       "90396347-473b-4fba-8b1d-a1d25ea18b6b  http://www.research.ed.ac.uk/portal/en/persons...   \n",
       "77aa9e59-2429-41d9-a3e7-f936298f61a6  http://www.research.ed.ac.uk/portal/en/persons...   \n",
       "27720d3a-e8d1-41ae-ade3-22504c6a46f3  http://www.research.ed.ac.uk/portal/en/persons...   \n",
       "\n",
       "                                                position  \\\n",
       "id                                                         \n",
       "a78a09b5-138e-407e-8c09-34414853eb20           professor   \n",
       "90396347-473b-4fba-8b1d-a1d25ea18b6b           professor   \n",
       "77aa9e59-2429-41d9-a3e7-f936298f61a6  research associate   \n",
       "27720d3a-e8d1-41ae-ade3-22504c6a46f3  research associate   \n",
       "\n",
       "                                                     parent  \\\n",
       "id                                                            \n",
       "a78a09b5-138e-407e-8c09-34414853eb20  school of informatics   \n",
       "90396347-473b-4fba-8b1d-a1d25ea18b6b  school of informatics   \n",
       "77aa9e59-2429-41d9-a3e7-f936298f61a6  school of informatics   \n",
       "27720d3a-e8d1-41ae-ade3-22504c6a46f3  school of informatics   \n",
       "\n",
       "                                                                           institute  \\\n",
       "id                                                                                     \n",
       "a78a09b5-138e-407e-8c09-34414853eb20   institute for adaptive and neural computation   \n",
       "90396347-473b-4fba-8b1d-a1d25ea18b6b  laboratory for foundations of computer science   \n",
       "77aa9e59-2429-41d9-a3e7-f936298f61a6  laboratory for foundations of computer science   \n",
       "27720d3a-e8d1-41ae-ade3-22504c6a46f3    institute of perception action and behaviour   \n",
       "\n",
       "                                                    full_name  \\\n",
       "id                                                              \n",
       "a78a09b5-138e-407e-8c09-34414853eb20       bishop christopher   \n",
       "90396347-473b-4fba-8b1d-a1d25ea18b6b            buneman peter   \n",
       "77aa9e59-2429-41d9-a3e7-f936298f61a6  kheirbakhsh abadi aydin   \n",
       "27720d3a-e8d1-41ae-ade3-22504c6a46f3            tylecek radim   \n",
       "\n",
       "                                      institute_class  \\\n",
       "id                                                      \n",
       "a78a09b5-138e-407e-8c09-34414853eb20                4   \n",
       "90396347-473b-4fba-8b1d-a1d25ea18b6b                3   \n",
       "77aa9e59-2429-41d9-a3e7-f936298f61a6                3   \n",
       "27720d3a-e8d1-41ae-ade3-22504c6a46f3                7   \n",
       "\n",
       "                                                                                  alias  \n",
       "id                                                                                       \n",
       "a78a09b5-138e-407e-8c09-34414853eb20      bishop, c. m.|bishop, c. m.  (ed.)|bishop, c.  \n",
       "90396347-473b-4fba-8b1d-a1d25ea18b6b  buneman, p.  (ed.)|buneman, o. p.|buneman, p. ...  \n",
       "77aa9e59-2429-41d9-a3e7-f936298f61a6                              kheirbakhsh abadi, a.  \n",
       "27720d3a-e8d1-41ae-ade3-22504c6a46f3                                        tylecek, r.  "
      ]
     },
     "execution_count": 25,
     "metadata": {},
     "output_type": "execute_result"
    }
   ],
   "source": [
    "lookup_poinf.iloc[[21,25,100,200]]"
   ]
  },
  {
   "cell_type": "code",
   "execution_count": 26,
   "metadata": {
    "scrolled": true
   },
   "outputs": [
    {
     "data": {
      "text/html": [
       "<div>\n",
       "<style scoped>\n",
       "    .dataframe tbody tr th:only-of-type {\n",
       "        vertical-align: middle;\n",
       "    }\n",
       "\n",
       "    .dataframe tbody tr th {\n",
       "        vertical-align: top;\n",
       "    }\n",
       "\n",
       "    .dataframe thead th {\n",
       "        text-align: right;\n",
       "    }\n",
       "</style>\n",
       "<table border=\"1\" class=\"dataframe\">\n",
       "  <thead>\n",
       "    <tr style=\"text-align: right;\">\n",
       "      <th></th>\n",
       "      <th>last_name</th>\n",
       "      <th>first_name</th>\n",
       "      <th>perseonal_url</th>\n",
       "      <th>position</th>\n",
       "      <th>parent</th>\n",
       "      <th>institute</th>\n",
       "      <th>full_name</th>\n",
       "      <th>institute_class</th>\n",
       "      <th>alias</th>\n",
       "    </tr>\n",
       "    <tr>\n",
       "      <th>id</th>\n",
       "      <th></th>\n",
       "      <th></th>\n",
       "      <th></th>\n",
       "      <th></th>\n",
       "      <th></th>\n",
       "      <th></th>\n",
       "      <th></th>\n",
       "      <th></th>\n",
       "      <th></th>\n",
       "    </tr>\n",
       "  </thead>\n",
       "  <tbody>\n",
       "    <tr>\n",
       "      <th>1419562d-17ae-4ef2-9014-ca629eed6adb</th>\n",
       "      <td>o'boyle</td>\n",
       "      <td>michael</td>\n",
       "      <td>http://www.research.ed.ac.uk/portal/en/persons...</td>\n",
       "      <td>personal chair in computer science</td>\n",
       "      <td>school of informatics</td>\n",
       "      <td>institute for computing systems architecture</td>\n",
       "      <td>o'boyle michael</td>\n",
       "      <td>5</td>\n",
       "      <td>o'boyle, m. f. p.|o'boyle, m.|o'boyle, m. f. p...</td>\n",
       "    </tr>\n",
       "  </tbody>\n",
       "</table>\n",
       "</div>"
      ],
      "text/plain": [
       "                                     last_name first_name  \\\n",
       "id                                                          \n",
       "1419562d-17ae-4ef2-9014-ca629eed6adb   o'boyle    michael   \n",
       "\n",
       "                                                                          perseonal_url  \\\n",
       "id                                                                                        \n",
       "1419562d-17ae-4ef2-9014-ca629eed6adb  http://www.research.ed.ac.uk/portal/en/persons...   \n",
       "\n",
       "                                                                position  \\\n",
       "id                                                                         \n",
       "1419562d-17ae-4ef2-9014-ca629eed6adb  personal chair in computer science   \n",
       "\n",
       "                                                     parent  \\\n",
       "id                                                            \n",
       "1419562d-17ae-4ef2-9014-ca629eed6adb  school of informatics   \n",
       "\n",
       "                                                                         institute  \\\n",
       "id                                                                                   \n",
       "1419562d-17ae-4ef2-9014-ca629eed6adb  institute for computing systems architecture   \n",
       "\n",
       "                                            full_name  institute_class  \\\n",
       "id                                                                       \n",
       "1419562d-17ae-4ef2-9014-ca629eed6adb  o'boyle michael                5   \n",
       "\n",
       "                                                                                  alias  \n",
       "id                                                                                       \n",
       "1419562d-17ae-4ef2-9014-ca629eed6adb  o'boyle, m. f. p.|o'boyle, m.|o'boyle, m. f. p...  "
      ]
     },
     "execution_count": 26,
     "metadata": {},
     "output_type": "execute_result"
    }
   ],
   "source": [
    "lookup_poinf[lookup_poinf.last_name=='o\\'boyle']"
   ]
  },
  {
   "cell_type": "code",
   "execution_count": 27,
   "metadata": {},
   "outputs": [
    {
     "data": {
      "text/html": [
       "<div>\n",
       "<style scoped>\n",
       "    .dataframe tbody tr th:only-of-type {\n",
       "        vertical-align: middle;\n",
       "    }\n",
       "\n",
       "    .dataframe tbody tr th {\n",
       "        vertical-align: top;\n",
       "    }\n",
       "\n",
       "    .dataframe thead th {\n",
       "        text-align: right;\n",
       "    }\n",
       "</style>\n",
       "<table border=\"1\" class=\"dataframe\">\n",
       "  <thead>\n",
       "    <tr style=\"text-align: right;\">\n",
       "      <th></th>\n",
       "      <th>last_name</th>\n",
       "      <th>first_name</th>\n",
       "      <th>perseonal_url</th>\n",
       "      <th>position</th>\n",
       "      <th>parent</th>\n",
       "      <th>institute</th>\n",
       "      <th>full_name</th>\n",
       "      <th>institute_class</th>\n",
       "      <th>alias</th>\n",
       "    </tr>\n",
       "    <tr>\n",
       "      <th>id</th>\n",
       "      <th></th>\n",
       "      <th></th>\n",
       "      <th></th>\n",
       "      <th></th>\n",
       "      <th></th>\n",
       "      <th></th>\n",
       "      <th></th>\n",
       "      <th></th>\n",
       "      <th></th>\n",
       "    </tr>\n",
       "  </thead>\n",
       "  <tbody>\n",
       "    <tr>\n",
       "      <th>e76a7c40-a177-4eb5-9ac3-12ab104895f8</th>\n",
       "      <td>perera</td>\n",
       "      <td>roland</td>\n",
       "      <td>http://www.research.ed.ac.uk/portal/en/persons...</td>\n",
       "      <td>research associate</td>\n",
       "      <td>school of informatics</td>\n",
       "      <td>laboratory for foundations of computer science</td>\n",
       "      <td>perera roland</td>\n",
       "      <td>3</td>\n",
       "      <td>perera, r.</td>\n",
       "    </tr>\n",
       "  </tbody>\n",
       "</table>\n",
       "</div>"
      ],
      "text/plain": [
       "                                     last_name first_name  \\\n",
       "id                                                          \n",
       "e76a7c40-a177-4eb5-9ac3-12ab104895f8    perera     roland   \n",
       "\n",
       "                                                                          perseonal_url  \\\n",
       "id                                                                                        \n",
       "e76a7c40-a177-4eb5-9ac3-12ab104895f8  http://www.research.ed.ac.uk/portal/en/persons...   \n",
       "\n",
       "                                                position  \\\n",
       "id                                                         \n",
       "e76a7c40-a177-4eb5-9ac3-12ab104895f8  research associate   \n",
       "\n",
       "                                                     parent  \\\n",
       "id                                                            \n",
       "e76a7c40-a177-4eb5-9ac3-12ab104895f8  school of informatics   \n",
       "\n",
       "                                                                           institute  \\\n",
       "id                                                                                     \n",
       "e76a7c40-a177-4eb5-9ac3-12ab104895f8  laboratory for foundations of computer science   \n",
       "\n",
       "                                          full_name  institute_class  \\\n",
       "id                                                                     \n",
       "e76a7c40-a177-4eb5-9ac3-12ab104895f8  perera roland                3   \n",
       "\n",
       "                                           alias  \n",
       "id                                                \n",
       "e76a7c40-a177-4eb5-9ac3-12ab104895f8  perera, r.  "
      ]
     },
     "execution_count": 27,
     "metadata": {},
     "output_type": "execute_result"
    }
   ],
   "source": [
    "lookup_poinf[lookup_poinf.last_name=='perera']"
   ]
  },
  {
   "cell_type": "code",
   "execution_count": 28,
   "metadata": {},
   "outputs": [],
   "source": [
    "# Write the lookup_poinf to the index:\n",
    "lookup_poinf.to_csv(path_or_buf='../data/lookup_poinf.csv', index=True, index_label='id', header=True)"
   ]
  },
  {
   "cell_type": "code",
   "execution_count": 29,
   "metadata": {},
   "outputs": [],
   "source": [
    "lookup_poinf.to_pickle(path='../data/lookup_poinf.pkl')"
   ]
  },
  {
   "cell_type": "markdown",
   "metadata": {},
   "source": [
    "---\n",
    "# `publications`.csv :\n",
    "There are two csv files related to information from publications:\n",
    "1. `publications.csv`\n",
    "2. `pubpage_aliases.csv`\n",
    "\n",
    "`publcations.csv` contains data scrapped from the each publication under the school of informatics. The fields are:`pub_id`,`date`,`year`,`title`,`authors`,`pub_url`,`doi_url`,`pdf_url`,`abstract`, and `publications`. For our collaboration network, we are only interested in the `pub_id`, `year` (for temporal study), and `authors`.\n",
    "\n",
    "`pubpage_aliases.csv` contains mapping of `shortnames` of authors for each publication. As mentioned in the [previous section](#Alias/shortnames)."
   ]
  },
  {
   "cell_type": "code",
   "execution_count": 30,
   "metadata": {},
   "outputs": [],
   "source": [
    "pd_publications = pd.read_csv(publications_csv) \n",
    "pubpage_alias = pd.read_csv('../data/pubpage_aliases.csv', names=['pub_id', 'names', 'shortnames'])\n",
    "# merge the dataframes:\n",
    "lookup_pub = pd_publications.set_index('pub_id').join(pubpage_alias.set_index('pub_id'))"
   ]
  },
  {
   "cell_type": "code",
   "execution_count": 31,
   "metadata": {},
   "outputs": [
    {
     "name": "stdout",
     "output_type": "stream",
     "text": [
      "<class 'pandas.core.frame.DataFrame'>\n",
      "Index: 8810 entries, 400818dc-63af-4a26-80c5-906f98e1f8ab to b2920a27-5293-4f4a-8874-4a0ea804d91a\n",
      "Data columns (total 11 columns):\n",
      "date            8810 non-null object\n",
      "year            8810 non-null object\n",
      "title           8806 non-null object\n",
      "authors         8810 non-null object\n",
      "pub_url         8810 non-null object\n",
      "doi_url         8810 non-null object\n",
      "pdf_url         8810 non-null object\n",
      "abstract        8796 non-null object\n",
      "publications    8810 non-null object\n",
      "names           8810 non-null object\n",
      "shortnames      8809 non-null object\n",
      "dtypes: object(11)\n",
      "memory usage: 1.1+ MB\n"
     ]
    }
   ],
   "source": [
    "lookup_pub.info()"
   ]
  },
  {
   "cell_type": "code",
   "execution_count": 32,
   "metadata": {},
   "outputs": [
    {
     "data": {
      "text/html": [
       "<div>\n",
       "<style scoped>\n",
       "    .dataframe tbody tr th:only-of-type {\n",
       "        vertical-align: middle;\n",
       "    }\n",
       "\n",
       "    .dataframe tbody tr th {\n",
       "        vertical-align: top;\n",
       "    }\n",
       "\n",
       "    .dataframe thead th {\n",
       "        text-align: right;\n",
       "    }\n",
       "</style>\n",
       "<table border=\"1\" class=\"dataframe\">\n",
       "  <thead>\n",
       "    <tr style=\"text-align: right;\">\n",
       "      <th></th>\n",
       "      <th>date</th>\n",
       "      <th>year</th>\n",
       "      <th>title</th>\n",
       "      <th>authors</th>\n",
       "      <th>pub_url</th>\n",
       "      <th>doi_url</th>\n",
       "      <th>pdf_url</th>\n",
       "      <th>abstract</th>\n",
       "      <th>publications</th>\n",
       "      <th>names</th>\n",
       "      <th>shortnames</th>\n",
       "    </tr>\n",
       "    <tr>\n",
       "      <th>pub_id</th>\n",
       "      <th></th>\n",
       "      <th></th>\n",
       "      <th></th>\n",
       "      <th></th>\n",
       "      <th></th>\n",
       "      <th></th>\n",
       "      <th></th>\n",
       "      <th></th>\n",
       "      <th></th>\n",
       "      <th></th>\n",
       "      <th></th>\n",
       "    </tr>\n",
       "  </thead>\n",
       "  <tbody>\n",
       "    <tr>\n",
       "      <th>400818dc-63af-4a26-80c5-906f98e1f8ab</th>\n",
       "      <td>1989</td>\n",
       "      <td>1989</td>\n",
       "      <td>ballooning stability analysis of jet hmode dis...</td>\n",
       "      <td>d.p. o'brien|r. galvao|m. keilhacker|e. lazzar...</td>\n",
       "      <td>http://www.research.ed.ac.uk/portal/en/publica...</td>\n",
       "      <td>UNKNOWN</td>\n",
       "      <td>UNKNOWN</td>\n",
       "      <td>previous studies of the stability of a large a...</td>\n",
       "      <td>proceedings 16th european conference on contr...</td>\n",
       "      <td>d.p. o'brien|r. galvao|m. keilhacker|e. lazzar...</td>\n",
       "      <td>brien, d. p.|galvao, r.|keilhacker, m.|lazzaro...</td>\n",
       "    </tr>\n",
       "    <tr>\n",
       "      <th>18b1a861-afef-4fff-bc80-d02e05be18c4</th>\n",
       "      <td>2013</td>\n",
       "      <td>2013</td>\n",
       "      <td>query processing in data integration</td>\n",
       "      <td>paolo guagliardo|piotr wieczorek</td>\n",
       "      <td>http://www.research.ed.ac.uk/portal/en/publica...</td>\n",
       "      <td>UNKNOWN</td>\n",
       "      <td>UNKNOWN</td>\n",
       "      <td>in this chapter we illustrate the main techniq...</td>\n",
       "      <td>data exchange, integration, and streams,dagstu...</td>\n",
       "      <td>paolo guagliardo|piotr wieczorek</td>\n",
       "      <td>guagliardo, p.|wieczorek, p.</td>\n",
       "    </tr>\n",
       "    <tr>\n",
       "      <th>309fdbfc-227b-4588-9264-f0f4e3cadfcb</th>\n",
       "      <td>Mar 1994</td>\n",
       "      <td>1994</td>\n",
       "      <td>comprehension syntax</td>\n",
       "      <td>p. buneman|l. libkin|d. suciu|v. tannen|l. wong</td>\n",
       "      <td>http://www.research.ed.ac.uk/portal/en/publica...</td>\n",
       "      <td>http://dx.doi.org/10.1145/181550.181564</td>\n",
       "      <td>http://www.research.ed.ac.uk/portal/files/1651...</td>\n",
       "      <td>the syntax of comprehensions is very close to ...</td>\n",
       "      <td>sigmod record</td>\n",
       "      <td>p. buneman|l. libkin|d. suciu|v. tannen|l. wong</td>\n",
       "      <td>buneman, p.|libkin, l.|suciu, d.|tannen, v. |w...</td>\n",
       "    </tr>\n",
       "  </tbody>\n",
       "</table>\n",
       "</div>"
      ],
      "text/plain": [
       "                                          date  year  \\\n",
       "pub_id                                                 \n",
       "400818dc-63af-4a26-80c5-906f98e1f8ab      1989  1989   \n",
       "18b1a861-afef-4fff-bc80-d02e05be18c4      2013  2013   \n",
       "309fdbfc-227b-4588-9264-f0f4e3cadfcb  Mar 1994  1994   \n",
       "\n",
       "                                                                                  title  \\\n",
       "pub_id                                                                                    \n",
       "400818dc-63af-4a26-80c5-906f98e1f8ab  ballooning stability analysis of jet hmode dis...   \n",
       "18b1a861-afef-4fff-bc80-d02e05be18c4               query processing in data integration   \n",
       "309fdbfc-227b-4588-9264-f0f4e3cadfcb                               comprehension syntax   \n",
       "\n",
       "                                                                                authors  \\\n",
       "pub_id                                                                                    \n",
       "400818dc-63af-4a26-80c5-906f98e1f8ab  d.p. o'brien|r. galvao|m. keilhacker|e. lazzar...   \n",
       "18b1a861-afef-4fff-bc80-d02e05be18c4                   paolo guagliardo|piotr wieczorek   \n",
       "309fdbfc-227b-4588-9264-f0f4e3cadfcb    p. buneman|l. libkin|d. suciu|v. tannen|l. wong   \n",
       "\n",
       "                                                                                pub_url  \\\n",
       "pub_id                                                                                    \n",
       "400818dc-63af-4a26-80c5-906f98e1f8ab  http://www.research.ed.ac.uk/portal/en/publica...   \n",
       "18b1a861-afef-4fff-bc80-d02e05be18c4  http://www.research.ed.ac.uk/portal/en/publica...   \n",
       "309fdbfc-227b-4588-9264-f0f4e3cadfcb  http://www.research.ed.ac.uk/portal/en/publica...   \n",
       "\n",
       "                                                                      doi_url  \\\n",
       "pub_id                                                                          \n",
       "400818dc-63af-4a26-80c5-906f98e1f8ab                                  UNKNOWN   \n",
       "18b1a861-afef-4fff-bc80-d02e05be18c4                                  UNKNOWN   \n",
       "309fdbfc-227b-4588-9264-f0f4e3cadfcb  http://dx.doi.org/10.1145/181550.181564   \n",
       "\n",
       "                                                                                pdf_url  \\\n",
       "pub_id                                                                                    \n",
       "400818dc-63af-4a26-80c5-906f98e1f8ab                                            UNKNOWN   \n",
       "18b1a861-afef-4fff-bc80-d02e05be18c4                                            UNKNOWN   \n",
       "309fdbfc-227b-4588-9264-f0f4e3cadfcb  http://www.research.ed.ac.uk/portal/files/1651...   \n",
       "\n",
       "                                                                               abstract  \\\n",
       "pub_id                                                                                    \n",
       "400818dc-63af-4a26-80c5-906f98e1f8ab  previous studies of the stability of a large a...   \n",
       "18b1a861-afef-4fff-bc80-d02e05be18c4  in this chapter we illustrate the main techniq...   \n",
       "309fdbfc-227b-4588-9264-f0f4e3cadfcb  the syntax of comprehensions is very close to ...   \n",
       "\n",
       "                                                                           publications  \\\n",
       "pub_id                                                                                    \n",
       "400818dc-63af-4a26-80c5-906f98e1f8ab   proceedings 16th european conference on contr...   \n",
       "18b1a861-afef-4fff-bc80-d02e05be18c4  data exchange, integration, and streams,dagstu...   \n",
       "309fdbfc-227b-4588-9264-f0f4e3cadfcb                                      sigmod record   \n",
       "\n",
       "                                                                                  names  \\\n",
       "pub_id                                                                                    \n",
       "400818dc-63af-4a26-80c5-906f98e1f8ab  d.p. o'brien|r. galvao|m. keilhacker|e. lazzar...   \n",
       "18b1a861-afef-4fff-bc80-d02e05be18c4                   paolo guagliardo|piotr wieczorek   \n",
       "309fdbfc-227b-4588-9264-f0f4e3cadfcb    p. buneman|l. libkin|d. suciu|v. tannen|l. wong   \n",
       "\n",
       "                                                                             shortnames  \n",
       "pub_id                                                                                   \n",
       "400818dc-63af-4a26-80c5-906f98e1f8ab  brien, d. p.|galvao, r.|keilhacker, m.|lazzaro...  \n",
       "18b1a861-afef-4fff-bc80-d02e05be18c4                       guagliardo, p.|wieczorek, p.  \n",
       "309fdbfc-227b-4588-9264-f0f4e3cadfcb  buneman, p.|libkin, l.|suciu, d.|tannen, v. |w...  "
      ]
     },
     "execution_count": 32,
     "metadata": {},
     "output_type": "execute_result"
    }
   ],
   "source": [
    "lookup_pub.head(3)"
   ]
  },
  {
   "cell_type": "code",
   "execution_count": 33,
   "metadata": {
    "scrolled": false
   },
   "outputs": [],
   "source": [
    "# Remove columns that are not required for us to generate the colaboration graph\n",
    "lookup_pub.drop(\n",
    "    labels=[\n",
    "        'title', 'date', 'pub_url', 'pdf_url', 'doi_url', 'abstract',\n",
    "        'publications', 'names'\n",
    "    ],\n",
    "    axis=1,\n",
    "    inplace=True)"
   ]
  },
  {
   "cell_type": "code",
   "execution_count": 34,
   "metadata": {},
   "outputs": [
    {
     "data": {
      "text/html": [
       "<div>\n",
       "<style scoped>\n",
       "    .dataframe tbody tr th:only-of-type {\n",
       "        vertical-align: middle;\n",
       "    }\n",
       "\n",
       "    .dataframe tbody tr th {\n",
       "        vertical-align: top;\n",
       "    }\n",
       "\n",
       "    .dataframe thead th {\n",
       "        text-align: right;\n",
       "    }\n",
       "</style>\n",
       "<table border=\"1\" class=\"dataframe\">\n",
       "  <thead>\n",
       "    <tr style=\"text-align: right;\">\n",
       "      <th></th>\n",
       "      <th>year</th>\n",
       "      <th>authors</th>\n",
       "      <th>shortnames</th>\n",
       "    </tr>\n",
       "    <tr>\n",
       "      <th>pub_id</th>\n",
       "      <th></th>\n",
       "      <th></th>\n",
       "      <th></th>\n",
       "    </tr>\n",
       "  </thead>\n",
       "  <tbody>\n",
       "    <tr>\n",
       "      <th>400818dc-63af-4a26-80c5-906f98e1f8ab</th>\n",
       "      <td>1989</td>\n",
       "      <td>d.p. o'brien|r. galvao|m. keilhacker|e. lazzar...</td>\n",
       "      <td>brien, d. p.|galvao, r.|keilhacker, m.|lazzaro...</td>\n",
       "    </tr>\n",
       "    <tr>\n",
       "      <th>18b1a861-afef-4fff-bc80-d02e05be18c4</th>\n",
       "      <td>2013</td>\n",
       "      <td>paolo guagliardo|piotr wieczorek</td>\n",
       "      <td>guagliardo, p.|wieczorek, p.</td>\n",
       "    </tr>\n",
       "    <tr>\n",
       "      <th>309fdbfc-227b-4588-9264-f0f4e3cadfcb</th>\n",
       "      <td>1994</td>\n",
       "      <td>p. buneman|l. libkin|d. suciu|v. tannen|l. wong</td>\n",
       "      <td>buneman, p.|libkin, l.|suciu, d.|tannen, v. |w...</td>\n",
       "    </tr>\n",
       "    <tr>\n",
       "      <th>d5814bab-5fc2-4c31-92b7-543c7ce75cb4</th>\n",
       "      <td>2012</td>\n",
       "      <td>p.l. de leon|m. pucher|j. yamagishi|i. hernaez...</td>\n",
       "      <td>leon, p. l.|pucher, m.|yamagishi, j.|hernaez, ...</td>\n",
       "    </tr>\n",
       "  </tbody>\n",
       "</table>\n",
       "</div>"
      ],
      "text/plain": [
       "                                      year  \\\n",
       "pub_id                                       \n",
       "400818dc-63af-4a26-80c5-906f98e1f8ab  1989   \n",
       "18b1a861-afef-4fff-bc80-d02e05be18c4  2013   \n",
       "309fdbfc-227b-4588-9264-f0f4e3cadfcb  1994   \n",
       "d5814bab-5fc2-4c31-92b7-543c7ce75cb4  2012   \n",
       "\n",
       "                                                                                authors  \\\n",
       "pub_id                                                                                    \n",
       "400818dc-63af-4a26-80c5-906f98e1f8ab  d.p. o'brien|r. galvao|m. keilhacker|e. lazzar...   \n",
       "18b1a861-afef-4fff-bc80-d02e05be18c4                   paolo guagliardo|piotr wieczorek   \n",
       "309fdbfc-227b-4588-9264-f0f4e3cadfcb    p. buneman|l. libkin|d. suciu|v. tannen|l. wong   \n",
       "d5814bab-5fc2-4c31-92b7-543c7ce75cb4  p.l. de leon|m. pucher|j. yamagishi|i. hernaez...   \n",
       "\n",
       "                                                                             shortnames  \n",
       "pub_id                                                                                   \n",
       "400818dc-63af-4a26-80c5-906f98e1f8ab  brien, d. p.|galvao, r.|keilhacker, m.|lazzaro...  \n",
       "18b1a861-afef-4fff-bc80-d02e05be18c4                       guagliardo, p.|wieczorek, p.  \n",
       "309fdbfc-227b-4588-9264-f0f4e3cadfcb  buneman, p.|libkin, l.|suciu, d.|tannen, v. |w...  \n",
       "d5814bab-5fc2-4c31-92b7-543c7ce75cb4  leon, p. l.|pucher, m.|yamagishi, j.|hernaez, ...  "
      ]
     },
     "execution_count": 34,
     "metadata": {},
     "output_type": "execute_result"
    }
   ],
   "source": [
    "lookup_pub.head(4)"
   ]
  },
  {
   "cell_type": "markdown",
   "metadata": {},
   "source": [
    "In the previous section on alias for People of informatics, we attempt to unravel the aliases for each individuals. Our dataset, however, have many individuals who may not be from the school of informatics (external academics), but have collaborated with individuals from the school of informatics.\n",
    "\n",
    "Our task for the external academics are:\n",
    "1. Assign an unique ID for them\n",
    "2. Unravel through the publication and assign ids for the publications"
   ]
  },
  {
   "cell_type": "markdown",
   "metadata": {},
   "source": [
    "## Assigning unique ID to external academic"
   ]
  },
  {
   "cell_type": "code",
   "execution_count": 35,
   "metadata": {
    "scrolled": true
   },
   "outputs": [],
   "source": [
    "import re\n",
    "\n",
    "# Fuzzy search to check if the names actually match\n",
    "# TODO: use nameparser package!\n",
    "pairs = set()\n",
    "for (names, shortnames) in zip(lookup_pub.authors, lookup_pub.shortnames):\n",
    "    _names = str(names).split('|')\n",
    "    _shortnames = str(shortnames).split('|')\n",
    "    _shortnames = map(lambda x: x.strip(), _shortnames)\n",
    "\n",
    "    if len(_names) == len(_shortnames):\n",
    "        _pairs = zip(_names, _shortnames)\n",
    "        for p in _pairs:\n",
    "            # simplistic search and match:\n",
    "            _lastname1 = p[0].split(\" \")[-1]\n",
    "            _lastname2 = p[1].split(\" \")[0]\n",
    "            _lastname2 = re.findall(r'[a-z]*', _lastname2)[0]\n",
    "            if _lastname1[-len(_lastname2):] == _lastname2:\n",
    "                pairs.add(p)\n",
    "\n",
    "allNames = [p[0] for p in list(pairs)]\n",
    "allShortNames = [p[1] for p in list(pairs)]"
   ]
  },
  {
   "cell_type": "code",
   "execution_count": 36,
   "metadata": {},
   "outputs": [
    {
     "name": "stdout",
     "output_type": "stream",
     "text": [
      "Total number of individuals in the collaboration network:  9977\n"
     ]
    }
   ],
   "source": [
    "print 'Total number of individuals in the collaboration network: ', str(len(allNames))"
   ]
  },
  {
   "cell_type": "code",
   "execution_count": 37,
   "metadata": {},
   "outputs": [],
   "source": [
    "# Combine all the alias for individuals in the school of informatics into a list\n",
    "poinf_aliases = []\n",
    "for aliases in lookup_poinf.alias:\n",
    "    if type(aliases) is str:\n",
    "        poinf_aliases.extend(aliases.split(\"|\"))"
   ]
  },
  {
   "cell_type": "code",
   "execution_count": 38,
   "metadata": {},
   "outputs": [],
   "source": [
    "external_aliases = set(allShortNames).difference(set(poinf_aliases))"
   ]
  },
  {
   "cell_type": "code",
   "execution_count": 39,
   "metadata": {},
   "outputs": [
    {
     "name": "stdout",
     "output_type": "stream",
     "text": [
      "Number of external individuals in collaboration network:  7679\n"
     ]
    }
   ],
   "source": [
    "print 'Number of external individuals in collaboration network: ', str(len(external_aliases))"
   ]
  },
  {
   "cell_type": "code",
   "execution_count": 40,
   "metadata": {},
   "outputs": [],
   "source": [
    "# Give an unique id to each alias:\n",
    "from itertools import count\n",
    "from collections import defaultdict\n",
    "lookup_ext_academic = defaultdict(count().next)"
   ]
  },
  {
   "cell_type": "code",
   "execution_count": 41,
   "metadata": {},
   "outputs": [],
   "source": [
    "# Create a dictionary for fast lookup of individuals who are not in school of informatics\n",
    "for i in list(external_aliases):\n",
    "    lookup_ext_academic[i]"
   ]
  },
  {
   "cell_type": "code",
   "execution_count": 42,
   "metadata": {},
   "outputs": [],
   "source": [
    "# create a dictionary for fast lookup of individuals in school of informatics\n",
    "lookup_poinf_alias = {}\n",
    "for pers_id, aliases in zip(lookup_poinf.index, lookup_poinf.alias):\n",
    "    if type(aliases) is str:\n",
    "        _aliases = aliases.split(\"|\")\n",
    "        for alias in _aliases:\n",
    "            lookup_poinf_alias[str(alias).strip()] = pers_id"
   ]
  },
  {
   "cell_type": "markdown",
   "metadata": {},
   "source": [
    "## Creating index for collaboration:\n",
    "Now that we have an assigned ID for external individuals and individuals who are in school of informatics, we can use these IDs to represent these individuals for each collaboration."
   ]
  },
  {
   "cell_type": "code",
   "execution_count": 43,
   "metadata": {},
   "outputs": [],
   "source": [
    "def collabIds(_shortnames):\n",
    "    # collaborators id\n",
    "    collab_id = []\n",
    "    try:\n",
    "        for i in _shortnames.split(\"|\"):\n",
    "            i = i.strip()\n",
    "            if i in lookup_poinf_alias:\n",
    "                collab_id.append(lookup_poinf_alias[i])\n",
    "            elif i in lookup_ext_academic:\n",
    "                collab_id.append(lookup_ext_academic[i])\n",
    "            #else:\n",
    "            #    print i\n",
    "    except:\n",
    "        return []\n",
    "    return collab_id"
   ]
  },
  {
   "cell_type": "code",
   "execution_count": 44,
   "metadata": {},
   "outputs": [],
   "source": [
    "lookup_pub['collab_id'] = lookup_pub.apply(\n",
    "    lambda row: collabIds(row.shortnames), axis=1)"
   ]
  },
  {
   "cell_type": "code",
   "execution_count": 45,
   "metadata": {},
   "outputs": [
    {
     "data": {
      "text/html": [
       "<div>\n",
       "<style scoped>\n",
       "    .dataframe tbody tr th:only-of-type {\n",
       "        vertical-align: middle;\n",
       "    }\n",
       "\n",
       "    .dataframe tbody tr th {\n",
       "        vertical-align: top;\n",
       "    }\n",
       "\n",
       "    .dataframe thead th {\n",
       "        text-align: right;\n",
       "    }\n",
       "</style>\n",
       "<table border=\"1\" class=\"dataframe\">\n",
       "  <thead>\n",
       "    <tr style=\"text-align: right;\">\n",
       "      <th></th>\n",
       "      <th>year</th>\n",
       "      <th>authors</th>\n",
       "      <th>shortnames</th>\n",
       "      <th>collab_id</th>\n",
       "    </tr>\n",
       "    <tr>\n",
       "      <th>pub_id</th>\n",
       "      <th></th>\n",
       "      <th></th>\n",
       "      <th></th>\n",
       "      <th></th>\n",
       "    </tr>\n",
       "  </thead>\n",
       "  <tbody>\n",
       "    <tr>\n",
       "      <th>400818dc-63af-4a26-80c5-906f98e1f8ab</th>\n",
       "      <td>1989</td>\n",
       "      <td>d.p. o'brien|r. galvao|m. keilhacker|e. lazzar...</td>\n",
       "      <td>brien, d. p.|galvao, r.|keilhacker, m.|lazzaro...</td>\n",
       "      <td>[324, 1942, 560, 5635, 5099, a78a09b5-138e-407...</td>\n",
       "    </tr>\n",
       "    <tr>\n",
       "      <th>18b1a861-afef-4fff-bc80-d02e05be18c4</th>\n",
       "      <td>2013</td>\n",
       "      <td>paolo guagliardo|piotr wieczorek</td>\n",
       "      <td>guagliardo, p.|wieczorek, p.</td>\n",
       "      <td>[653c9723-b374-4ad3-9cef-0f7e7f45d812, 4953]</td>\n",
       "    </tr>\n",
       "    <tr>\n",
       "      <th>309fdbfc-227b-4588-9264-f0f4e3cadfcb</th>\n",
       "      <td>1994</td>\n",
       "      <td>p. buneman|l. libkin|d. suciu|v. tannen|l. wong</td>\n",
       "      <td>buneman, p.|libkin, l.|suciu, d.|tannen, v. |w...</td>\n",
       "      <td>[90396347-473b-4fba-8b1d-a1d25ea18b6b, a22b33f...</td>\n",
       "    </tr>\n",
       "    <tr>\n",
       "      <th>d5814bab-5fc2-4c31-92b7-543c7ce75cb4</th>\n",
       "      <td>2012</td>\n",
       "      <td>p.l. de leon|m. pucher|j. yamagishi|i. hernaez...</td>\n",
       "      <td>leon, p. l.|pucher, m.|yamagishi, j.|hernaez, ...</td>\n",
       "      <td>[1180, 5318, 4d11a99a-0d04-42f4-8089-d433a57c2...</td>\n",
       "    </tr>\n",
       "  </tbody>\n",
       "</table>\n",
       "</div>"
      ],
      "text/plain": [
       "                                      year  \\\n",
       "pub_id                                       \n",
       "400818dc-63af-4a26-80c5-906f98e1f8ab  1989   \n",
       "18b1a861-afef-4fff-bc80-d02e05be18c4  2013   \n",
       "309fdbfc-227b-4588-9264-f0f4e3cadfcb  1994   \n",
       "d5814bab-5fc2-4c31-92b7-543c7ce75cb4  2012   \n",
       "\n",
       "                                                                                authors  \\\n",
       "pub_id                                                                                    \n",
       "400818dc-63af-4a26-80c5-906f98e1f8ab  d.p. o'brien|r. galvao|m. keilhacker|e. lazzar...   \n",
       "18b1a861-afef-4fff-bc80-d02e05be18c4                   paolo guagliardo|piotr wieczorek   \n",
       "309fdbfc-227b-4588-9264-f0f4e3cadfcb    p. buneman|l. libkin|d. suciu|v. tannen|l. wong   \n",
       "d5814bab-5fc2-4c31-92b7-543c7ce75cb4  p.l. de leon|m. pucher|j. yamagishi|i. hernaez...   \n",
       "\n",
       "                                                                             shortnames  \\\n",
       "pub_id                                                                                    \n",
       "400818dc-63af-4a26-80c5-906f98e1f8ab  brien, d. p.|galvao, r.|keilhacker, m.|lazzaro...   \n",
       "18b1a861-afef-4fff-bc80-d02e05be18c4                       guagliardo, p.|wieczorek, p.   \n",
       "309fdbfc-227b-4588-9264-f0f4e3cadfcb  buneman, p.|libkin, l.|suciu, d.|tannen, v. |w...   \n",
       "d5814bab-5fc2-4c31-92b7-543c7ce75cb4  leon, p. l.|pucher, m.|yamagishi, j.|hernaez, ...   \n",
       "\n",
       "                                                                              collab_id  \n",
       "pub_id                                                                                   \n",
       "400818dc-63af-4a26-80c5-906f98e1f8ab  [324, 1942, 560, 5635, 5099, a78a09b5-138e-407...  \n",
       "18b1a861-afef-4fff-bc80-d02e05be18c4       [653c9723-b374-4ad3-9cef-0f7e7f45d812, 4953]  \n",
       "309fdbfc-227b-4588-9264-f0f4e3cadfcb  [90396347-473b-4fba-8b1d-a1d25ea18b6b, a22b33f...  \n",
       "d5814bab-5fc2-4c31-92b7-543c7ce75cb4  [1180, 5318, 4d11a99a-0d04-42f4-8089-d433a57c2...  "
      ]
     },
     "execution_count": 45,
     "metadata": {},
     "output_type": "execute_result"
    }
   ],
   "source": [
    "lookup_pub.head(4)"
   ]
  },
  {
   "cell_type": "code",
   "execution_count": 46,
   "metadata": {},
   "outputs": [],
   "source": [
    "# Create egelist\n",
    "from itertools import product\n",
    "\n",
    "\n",
    "def generateEdges(ids):\n",
    "    products = product(ids, ids)\n",
    "    differentPairs = []\n",
    "    for (i, v) in products:\n",
    "        if i != v and (v, i) not in differentPairs:\n",
    "            differentPairs.append((i, v))\n",
    "    return differentPairs"
   ]
  },
  {
   "cell_type": "code",
   "execution_count": 47,
   "metadata": {},
   "outputs": [],
   "source": [
    "lookup_pub['edges'] = lookup_pub.apply(\n",
    "    lambda row: generateEdges(row.collab_id), axis=1)"
   ]
  },
  {
   "cell_type": "code",
   "execution_count": 48,
   "metadata": {},
   "outputs": [
    {
     "data": {
      "text/plain": [
       "\"d.p. o'brien|r. galvao|m. keilhacker|e. lazzaro|m.l. watkins|c.m. bishop\""
      ]
     },
     "execution_count": 48,
     "metadata": {},
     "output_type": "execute_result"
    }
   ],
   "source": [
    "lookup_pub.iloc[0].authors"
   ]
  },
  {
   "cell_type": "code",
   "execution_count": 49,
   "metadata": {},
   "outputs": [
    {
     "data": {
      "text/plain": [
       "[(324, 1942),\n",
       " (324, 560),\n",
       " (324, 5635),\n",
       " (324, 5099),\n",
       " (324, 'a78a09b5-138e-407e-8c09-34414853eb20'),\n",
       " (1942, 560),\n",
       " (1942, 5635),\n",
       " (1942, 5099),\n",
       " (1942, 'a78a09b5-138e-407e-8c09-34414853eb20'),\n",
       " (560, 5635),\n",
       " (560, 5099),\n",
       " (560, 'a78a09b5-138e-407e-8c09-34414853eb20'),\n",
       " (5635, 5099),\n",
       " (5635, 'a78a09b5-138e-407e-8c09-34414853eb20'),\n",
       " (5099, 'a78a09b5-138e-407e-8c09-34414853eb20')]"
      ]
     },
     "execution_count": 49,
     "metadata": {},
     "output_type": "execute_result"
    }
   ],
   "source": [
    "lookup_pub.iloc[0].edges"
   ]
  },
  {
   "cell_type": "code",
   "execution_count": 50,
   "metadata": {},
   "outputs": [],
   "source": [
    "# Write the dataset to csv file for portability:\n",
    "lookup_pub.to_csv(\n",
    "    path_or_buf='../data/lookup_pub.csv',\n",
    "    header=True,\n",
    "    index=True,\n",
    "    index_label='pub_id')"
   ]
  },
  {
   "cell_type": "code",
   "execution_count": 51,
   "metadata": {},
   "outputs": [],
   "source": [
    "lookup_pub.to_pickle(path='../data/lookup_pub.pkl')"
   ]
  },
  {
   "cell_type": "markdown",
   "metadata": {},
   "source": [
    "# Visualising the data"
   ]
  },
  {
   "cell_type": "code",
   "execution_count": 52,
   "metadata": {},
   "outputs": [],
   "source": [
    "%matplotlib inline\n",
    "import matplotlib.pyplot as plt\n",
    "import seaborn as sns\n",
    "sns.set(style=\"darkgrid\")"
   ]
  },
  {
   "cell_type": "markdown",
   "metadata": {},
   "source": [
    "## Distribution of institutes"
   ]
  },
  {
   "cell_type": "code",
   "execution_count": 53,
   "metadata": {},
   "outputs": [
    {
     "data": {
      "text/plain": [
       "<matplotlib.axes._subplots.AxesSubplot at 0x108d6e110>"
      ]
     },
     "execution_count": 53,
     "metadata": {},
     "output_type": "execute_result"
    },
    {
     "data": {
      "image/png": "[encoded data removed]",
      "text/plain": [
       "<matplotlib.figure.Figure at 0x1a0d9c9dd0>"
      ]
     },
     "metadata": {},
     "output_type": "display_data"
    }
   ],
   "source": [
    "fig, ax = plt.subplots(1, 1, figsize=(8, 8))\n",
    "sns.barplot(y, x, palette=\"Set3\", ax=ax)\n",
    "# plt.savefig('institute_distribution.pdf', format='pdf', bbox_inches='tight')"
   ]
  },
  {
   "cell_type": "markdown",
   "metadata": {},
   "source": [
    "## Distribution of publications (by year)"
   ]
  },
  {
   "cell_type": "code",
   "execution_count": 54,
   "metadata": {},
   "outputs": [],
   "source": [
    "a = set()"
   ]
  },
  {
   "cell_type": "code",
   "execution_count": 55,
   "metadata": {},
   "outputs": [],
   "source": [
    "years = set()\n",
    "data = {}\n",
    "num_authors = {}\n",
    "\n",
    "gb = lookup_pub.groupby('year')\n",
    "for k, group in gb:\n",
    "    if len(k) > 4:\n",
    "        year = k[-2:]\n",
    "        if int(year) > 17: # 2017\n",
    "            year = 1900 + int(year)\n",
    "        else:\n",
    "            year = 2000 + int(year)\n",
    "    else:\n",
    "        year = int(k)\n",
    "    years.add(k)\n",
    "    \n",
    "    if year in data.keys():\n",
    "        data[year] += len(group)\n",
    "    else:\n",
    "        data[year] = len(group)\n",
    "        \n",
    "    for pub in group.authors:\n",
    "        num = len(pub.split(\"|\"))\n",
    "        if num in num_authors.keys():\n",
    "            num_authors[num] += 1\n",
    "        else:\n",
    "            num_authors[num] = 1"
   ]
  },
  {
   "cell_type": "code",
   "execution_count": 56,
   "metadata": {},
   "outputs": [
    {
     "data": {
      "text/plain": [
       "Text(0,0.5,u'Number of publications')"
      ]
     },
     "execution_count": 56,
     "metadata": {},
     "output_type": "execute_result"
    },
    {
     "data": {
      "image/png": "[encoded data removed]",
      "text/plain": [
       "<matplotlib.figure.Figure at 0x1a169f0850>"
      ]
     },
     "metadata": {},
     "output_type": "display_data"
    }
   ],
   "source": [
    "fig, ax = plt.subplots(1, 1, figsize=(10, 8))\n",
    "sns.barplot(data.keys(), data.values(), ax=ax, palette=\"Set3\")\n",
    "ax.set_xticklabels(data.keys(), rotation=60)\n",
    "ax.set_xlabel('Year')\n",
    "ax.set_ylabel('Number of publications')\n",
    "# fig.savefig('distr_pub_year.pdf', format='pdf', bbox_inches='tight')"
   ]
  },
  {
   "cell_type": "markdown",
   "metadata": {},
   "source": [
    "## Distribution of publications (number of coauthors)"
   ]
  },
  {
   "cell_type": "code",
   "execution_count": 57,
   "metadata": {},
   "outputs": [
    {
     "data": {
      "text/plain": [
       "Text(0,0.5,u'Number of publications')"
      ]
     },
     "execution_count": 57,
     "metadata": {},
     "output_type": "execute_result"
    },
    {
     "data": {
      "image/png": "[encoded data removed]",
      "text/plain": [
       "<matplotlib.figure.Figure at 0x1a16d81690>"
      ]
     },
     "metadata": {},
     "output_type": "display_data"
    }
   ],
   "source": [
    "fig, ax = plt.subplots(1, 1, figsize=(10, 8))\n",
    "sns.barplot(num_authors.keys(), num_authors.values(), ax=ax, palette=\"Set3\")\n",
    "ax.set_xlabel('Number of (co)authors')\n",
    "ax.set_ylabel('Number of publications')\n",
    "# fig.savefig('distr_pub_num_cauthors.pdf', format='pdf', bbox_inches='tight')"
   ]
  }
 ],
 "metadata": {
  "kernelspec": {
   "display_name": "Python 2",
   "language": "python",
   "name": "python2"
  },
  "language_info": {
   "codemirror_mode": {
    "name": "ipython",
    "version": 2
   },
   "file_extension": ".py",
   "mimetype": "text/x-python",
   "name": "python",
   "nbconvert_exporter": "python",
   "pygments_lexer": "ipython2",
   "version": "2.7.14"
  },
  "notify_time": "10",
  "toc": {
   "nav_menu": {},
   "number_sections": false,
   "sideBar": false,
   "skip_h1_title": false,
   "title_cell": "Table of Contents",
   "title_sidebar": "Contents",
   "toc_cell": true,
   "toc_position": {
    "height": "392px",
    "left": "35px",
    "top": "65.5667px",
    "width": "296px"
   },
   "toc_section_display": true,
   "toc_window_display": true
  },
  "varInspector": {
   "cols": {
    "lenName": 16,
    "lenType": 16,
    "lenVar": 40
   },
   "kernels_config": {
    "python": {
     "delete_cmd_postfix": "",
     "delete_cmd_prefix": "del ",
     "library": "var_list.py",
     "varRefreshCmd": "print(var_dic_list())"
    },
    "r": {
     "delete_cmd_postfix": ") ",
     "delete_cmd_prefix": "rm(",
     "library": "var_list.r",
     "varRefreshCmd": "cat(var_dic_list()) "
    }
   },
   "types_to_exclude": [
    "module",
    "function",
    "builtin_function_or_method",
    "instance",
    "_Feature"
   ],
   "window_display": false
  }
 },
 "nbformat": 4,
 "nbformat_minor": 2
}
