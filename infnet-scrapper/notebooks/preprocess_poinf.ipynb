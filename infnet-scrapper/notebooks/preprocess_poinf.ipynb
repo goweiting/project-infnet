{
 "cells": [
  {
   "cell_type": "markdown",
   "metadata": {
    "toc": true
   },
   "source": [
    "<h1>Table of Contents<span class=\"tocSkip\"></span></h1>\n",
    "<div class=\"toc\"><ul class=\"toc-item\"><li><span><a href=\"#Preprocess-Scrapped-Data\" data-toc-modified-id=\"Preprocess-Scrapped-Data-1\">Preprocess Scrapped Data</a></span></li><li><span><a href=\"#PeopleOfInformatics.csv:\" data-toc-modified-id=\"PeopleOfInformatics.csv:-2\"><code>PeopleOfInformatics</code>.csv:</a></span><ul class=\"toc-item\"><li><span><a href=\"#Check-for-duplicated-names\" data-toc-modified-id=\"Check-for-duplicated-names-2.1\">Check for duplicated <code>names</code></a></span></li><li><span><a href=\"#Check-the-institute-field\" data-toc-modified-id=\"Check-the-institute-field-2.2\">Check the <code>institute</code> field</a></span></li><li><span><a href=\"#Alias/shortnames\" data-toc-modified-id=\"Alias/shortnames-2.3\">Alias/shortnames</a></span></li></ul></li><li><span><a href=\"#publications.csv-:\" data-toc-modified-id=\"publications.csv-:-3\"><code>publications</code>.csv :</a></span><ul class=\"toc-item\"><li><span><a href=\"#Assigning-unique-ID-to-external-academic\" data-toc-modified-id=\"Assigning-unique-ID-to-external-academic-3.1\">Assigning unique ID to external academic</a></span></li><li><span><a href=\"#Creating-index-for-collaboration:\" data-toc-modified-id=\"Creating-index-for-collaboration:-3.2\">Creating index for collaboration:</a></span></li></ul></li></ul></div>"
   ]
  },
  {
   "cell_type": "markdown",
   "metadata": {},
   "source": [
    "---\n",
    "# Preprocess Scrapped Data\n",
    "In this notebook, we clean the data that was scrapped from Edinbugh Research Explorer for the School of Informatics. Preprocessing the data is critical especially for this dataset, as it was noted by many other researchers on collaboration networks that the data collected are usually fuzzy (the problem of alias being used inconsistently for many individuals will resurface later). "
   ]
  },
  {
   "cell_type": "code",
   "execution_count": 1,
   "metadata": {
    "ExecuteTime": {
     "end_time": "2017-12-17T01:20:40.157130Z",
     "start_time": "2017-12-17T01:20:39.930467Z"
    }
   },
   "outputs": [],
   "source": [
    "import pandas as pd\n",
    "import os, csv"
   ]
  },
  {
   "cell_type": "code",
   "execution_count": 2,
   "metadata": {
    "ExecuteTime": {
     "end_time": "2017-12-17T01:20:40.167191Z",
     "start_time": "2017-12-17T01:20:40.161586Z"
    }
   },
   "outputs": [],
   "source": [
    "peopleOfInf_csv = '../data/peopleOfInformatics.csv'\n",
    "publications_csv = '../data/publications.csv'"
   ]
  },
  {
   "cell_type": "markdown",
   "metadata": {},
   "source": [
    "# `PeopleOfInformatics`.csv:\n",
    "This file contains information about the individuals in the School of Informatics. Information scrapped includes the unique individual id, first and last name, indvidual's position in the school, and the institute they belong to."
   ]
  },
  {
   "cell_type": "code",
   "execution_count": 3,
   "metadata": {
    "ExecuteTime": {
     "end_time": "2017-12-17T01:20:40.189692Z",
     "start_time": "2017-12-17T01:20:40.172364Z"
    },
    "code_folding": []
   },
   "outputs": [
    {
     "name": "stdout",
     "output_type": "stream",
     "text": [
      "imported:  296\n",
      "number of indivudals = 292\n"
     ]
    }
   ],
   "source": [
    "# Import the csv:\n",
    "pd_pplOfInf = \\\n",
    "pd.read_csv(\n",
    "    filepath_or_buffer=peopleOfInf_csv,\n",
    "    names=[\n",
    "        'id', 'last_name', 'first_name', 'perseonal_url', 'position', 'parent',\n",
    "        'institute'\n",
    "    ],\n",
    "    index_col=False)\n",
    "\n",
    "# create a column for the full name (= last_name + full_name)\n",
    "_join_names = lambda (x, y): \" \".join([x, y])\n",
    "pd_pplOfInf['full_name'] = list(\n",
    "    map(_join_names, zip(pd_pplOfInf['last_name'], pd_pplOfInf['first_name'])))\n",
    "\n",
    "print 'imported: ', len(pd_pplOfInf.index)\n",
    "print 'number of indivudals =', len(pd.unique(pd_pplOfInf['full_name']))"
   ]
  },
  {
   "cell_type": "markdown",
   "metadata": {},
   "source": [
    "## Check for duplicated `names`"
   ]
  },
  {
   "cell_type": "code",
   "execution_count": 4,
   "metadata": {
    "ExecuteTime": {
     "end_time": "2017-12-17T01:20:40.245177Z",
     "start_time": "2017-12-17T01:20:40.195242Z"
    }
   },
   "outputs": [
    {
     "data": {
      "text/html": [
       "<div>\n",
       "<style scoped>\n",
       "    .dataframe tbody tr th:only-of-type {\n",
       "        vertical-align: middle;\n",
       "    }\n",
       "\n",
       "    .dataframe tbody tr th {\n",
       "        vertical-align: top;\n",
       "    }\n",
       "\n",
       "    .dataframe thead th {\n",
       "        text-align: right;\n",
       "    }\n",
       "</style>\n",
       "<table border=\"1\" class=\"dataframe\">\n",
       "  <thead>\n",
       "    <tr style=\"text-align: right;\">\n",
       "      <th></th>\n",
       "      <th>id</th>\n",
       "      <th>last_name</th>\n",
       "      <th>first_name</th>\n",
       "      <th>perseonal_url</th>\n",
       "      <th>position</th>\n",
       "      <th>parent</th>\n",
       "      <th>institute</th>\n",
       "      <th>full_name</th>\n",
       "    </tr>\n",
       "  </thead>\n",
       "  <tbody>\n",
       "    <tr>\n",
       "      <th>65</th>\n",
       "      <td>863ba3ac-4506-49fe-aa7f-5568cba5e388</td>\n",
       "      <td>elliott</td>\n",
       "      <td>desmond</td>\n",
       "      <td>http://www.research.ed.ac.uk/portal/en/persons...</td>\n",
       "      <td>visitor default visitor</td>\n",
       "      <td>school of informatics</td>\n",
       "      <td>UNKNOWN</td>\n",
       "      <td>elliott desmond</td>\n",
       "    </tr>\n",
       "    <tr>\n",
       "      <th>66</th>\n",
       "      <td>9333c02f-770b-4b9c-b3d2-ff1322fc99aa</td>\n",
       "      <td>elliott</td>\n",
       "      <td>desmond</td>\n",
       "      <td>http://www.research.ed.ac.uk/portal/en/persons...</td>\n",
       "      <td>research associate</td>\n",
       "      <td>school of informatics</td>\n",
       "      <td>institute of language cognition and computation</td>\n",
       "      <td>elliott desmond</td>\n",
       "    </tr>\n",
       "    <tr>\n",
       "      <th>96</th>\n",
       "      <td>003ec9bb-18aa-4e6e-95e9-359f0968262a</td>\n",
       "      <td>gray</td>\n",
       "      <td>gavin</td>\n",
       "      <td>http://www.research.ed.ac.uk/portal/en/persons...</td>\n",
       "      <td>research assistant</td>\n",
       "      <td>school of informatics</td>\n",
       "      <td>institute for adaptive and neural computation</td>\n",
       "      <td>gray gavin</td>\n",
       "    </tr>\n",
       "    <tr>\n",
       "      <th>97</th>\n",
       "      <td>11447e11-aff5-438e-8fb6-264da9fb5483</td>\n",
       "      <td>gray</td>\n",
       "      <td>gavin</td>\n",
       "      <td>http://www.research.ed.ac.uk/portal/en/persons...</td>\n",
       "      <td>unknown</td>\n",
       "      <td>neuroinformatics dtc</td>\n",
       "      <td>UNKNOWN</td>\n",
       "      <td>gray gavin</td>\n",
       "    </tr>\n",
       "    <tr>\n",
       "      <th>170</th>\n",
       "      <td>265079a1-b5d5-4ff1-bf46-d0ad26e0d424</td>\n",
       "      <td>maneth</td>\n",
       "      <td>sebastian</td>\n",
       "      <td>http://www.research.ed.ac.uk/portal/en/persons...</td>\n",
       "      <td>unknown</td>\n",
       "      <td>laboratory for foundations of computer science</td>\n",
       "      <td>UNKNOWN</td>\n",
       "      <td>maneth sebastian</td>\n",
       "    </tr>\n",
       "    <tr>\n",
       "      <th>171</th>\n",
       "      <td>ef703785-d96b-49af-9b95-df74fa8fc4a2</td>\n",
       "      <td>maneth</td>\n",
       "      <td>sebastian</td>\n",
       "      <td>http://www.research.ed.ac.uk/portal/en/persons...</td>\n",
       "      <td>visitor official visitor</td>\n",
       "      <td>school of informatics</td>\n",
       "      <td>UNKNOWN</td>\n",
       "      <td>maneth sebastian</td>\n",
       "    </tr>\n",
       "    <tr>\n",
       "      <th>248</th>\n",
       "      <td>0ed800f5-a3a0-47d7-a8b3-f97a4f2b6931</td>\n",
       "      <td>steuwer</td>\n",
       "      <td>michel</td>\n",
       "      <td>http://www.research.ed.ac.uk/portal/en/persons...</td>\n",
       "      <td>unknown</td>\n",
       "      <td>institute for computing systems architecture</td>\n",
       "      <td>UNKNOWN</td>\n",
       "      <td>steuwer michel</td>\n",
       "    </tr>\n",
       "    <tr>\n",
       "      <th>249</th>\n",
       "      <td>5ddb75bd-0bf1-4792-ba2f-52821719fc3b</td>\n",
       "      <td>steuwer</td>\n",
       "      <td>michel</td>\n",
       "      <td>http://www.research.ed.ac.uk/portal/en/persons...</td>\n",
       "      <td>visitor official visitor</td>\n",
       "      <td>school of informatics</td>\n",
       "      <td>UNKNOWN</td>\n",
       "      <td>steuwer michel</td>\n",
       "    </tr>\n",
       "  </tbody>\n",
       "</table>\n",
       "</div>"
      ],
      "text/plain": [
       "                                       id last_name first_name  \\\n",
       "65   863ba3ac-4506-49fe-aa7f-5568cba5e388   elliott    desmond   \n",
       "66   9333c02f-770b-4b9c-b3d2-ff1322fc99aa   elliott    desmond   \n",
       "96   003ec9bb-18aa-4e6e-95e9-359f0968262a      gray      gavin   \n",
       "97   11447e11-aff5-438e-8fb6-264da9fb5483      gray      gavin   \n",
       "170  265079a1-b5d5-4ff1-bf46-d0ad26e0d424    maneth  sebastian   \n",
       "171  ef703785-d96b-49af-9b95-df74fa8fc4a2    maneth  sebastian   \n",
       "248  0ed800f5-a3a0-47d7-a8b3-f97a4f2b6931   steuwer     michel   \n",
       "249  5ddb75bd-0bf1-4792-ba2f-52821719fc3b   steuwer     michel   \n",
       "\n",
       "                                         perseonal_url  \\\n",
       "65   http://www.research.ed.ac.uk/portal/en/persons...   \n",
       "66   http://www.research.ed.ac.uk/portal/en/persons...   \n",
       "96   http://www.research.ed.ac.uk/portal/en/persons...   \n",
       "97   http://www.research.ed.ac.uk/portal/en/persons...   \n",
       "170  http://www.research.ed.ac.uk/portal/en/persons...   \n",
       "171  http://www.research.ed.ac.uk/portal/en/persons...   \n",
       "248  http://www.research.ed.ac.uk/portal/en/persons...   \n",
       "249  http://www.research.ed.ac.uk/portal/en/persons...   \n",
       "\n",
       "                     position                                          parent  \\\n",
       "65    visitor default visitor                           school of informatics   \n",
       "66         research associate                           school of informatics   \n",
       "96         research assistant                           school of informatics   \n",
       "97                    unknown                            neuroinformatics dtc   \n",
       "170                   unknown  laboratory for foundations of computer science   \n",
       "171  visitor official visitor                           school of informatics   \n",
       "248                   unknown    institute for computing systems architecture   \n",
       "249  visitor official visitor                           school of informatics   \n",
       "\n",
       "                                           institute         full_name  \n",
       "65                                           UNKNOWN   elliott desmond  \n",
       "66   institute of language cognition and computation   elliott desmond  \n",
       "96     institute for adaptive and neural computation        gray gavin  \n",
       "97                                           UNKNOWN        gray gavin  \n",
       "170                                          UNKNOWN  maneth sebastian  \n",
       "171                                          UNKNOWN  maneth sebastian  \n",
       "248                                          UNKNOWN    steuwer michel  \n",
       "249                                          UNKNOWN    steuwer michel  "
      ]
     },
     "execution_count": 4,
     "metadata": {},
     "output_type": "execute_result"
    }
   ],
   "source": [
    "dups_full_name = pd_pplOfInf.duplicated(subset='full_name', keep=False)\n",
    "small = pd_pplOfInf[dups_full_name]\n",
    "small"
   ]
  },
  {
   "cell_type": "markdown",
   "metadata": {},
   "source": [
    "Manually checking the data gives us:\n",
    "\n",
    "1) `elliott,desmond`\n",
    "    - (65) does not have any research output\n",
    "    - (66) is the main page with multiple research output\n",
    "\n",
    "3) `gray gavin`\n",
    "    - (96) is the main page with multiple research output\n",
    "    - (97) does not have any research output\n",
    "\n",
    "3) `maneth,sebastian`\n",
    "    - (170) is the main page with multiple research output\n",
    "    - (171) does not have any research output\n",
    "\n",
    "4) `steuwer,michel`\n",
    "    - (248) is the main page with multiple output\n",
    "    - (249) does not have any research output\n",
    "\n"
   ]
  },
  {
   "cell_type": "code",
   "execution_count": 5,
   "metadata": {
    "ExecuteTime": {
     "end_time": "2017-12-17T01:20:40.257881Z",
     "start_time": "2017-12-17T01:20:40.250880Z"
    }
   },
   "outputs": [],
   "source": [
    "# manually remove index 65, 97, 171, 249\n",
    "pd_pplOfInf.drop([65, 97, 171, 249], axis=0, inplace=True)"
   ]
  },
  {
   "cell_type": "code",
   "execution_count": 6,
   "metadata": {
    "ExecuteTime": {
     "end_time": "2017-12-17T01:20:40.270597Z",
     "start_time": "2017-12-17T01:20:40.263579Z"
    }
   },
   "outputs": [
    {
     "name": "stdout",
     "output_type": "stream",
     "text": [
      "size of df:  292\n",
      "number of indivudals = 292\n"
     ]
    }
   ],
   "source": [
    "# Confirm that the number of individuals tallies:\n",
    "print 'size of df: ', len(pd_pplOfInf.index)\n",
    "print 'number of indivudals =', len(pd.unique(pd_pplOfInf['full_name']))"
   ]
  },
  {
   "cell_type": "markdown",
   "metadata": {},
   "source": [
    "## Check the `institute` field\n",
    "There are multiple institutes field where `school of informatics` was present; while most are labelled `UNKNOWN` by the scrapper as no such information is present."
   ]
  },
  {
   "cell_type": "code",
   "execution_count": 7,
   "metadata": {
    "ExecuteTime": {
     "end_time": "2017-12-17T01:20:40.288814Z",
     "start_time": "2017-12-17T01:20:40.275480Z"
    }
   },
   "outputs": [
    {
     "name": "stdout",
     "output_type": "stream",
     "text": [
      "BEFORE PROCESSING\n",
      "UNKNOWN: 80\n",
      "centre for intelligent systems and their applications: 19\n",
      "deanery of clinical sciences: 1\n",
      "edinburgh neuroscience: 1\n",
      "institute for adaptive and neural computation: 29\n",
      "institute for computing systems architecture: 24\n",
      "institute of language cognition and computation: 59\n",
      "institute of perception action and behaviour: 19\n",
      "laboratory for foundations of computer science: 57\n",
      "school of informatics: 2\n",
      "school of philosophy psychology and language sciences: 1\n"
     ]
    }
   ],
   "source": [
    "print 'BEFORE PROCESSING'\n",
    "# separate the individuals by community:\n",
    "infcommunity = {}\n",
    "gb = pd_pplOfInf.groupby('institute')\n",
    "for k, group in gb:\n",
    "    print '{}: {}'.format(k, len(group))"
   ]
  },
  {
   "cell_type": "markdown",
   "metadata": {},
   "source": [
    "The distribution of the individuals in the institutes is not ideal; some of the institutes name may fall into the parent field. To avoid such instances, we copy the `parent`'s field into the `institute`'s field if the entry in the parent's field belongs to one of the institute names"
   ]
  },
  {
   "cell_type": "code",
   "execution_count": 8,
   "metadata": {
    "ExecuteTime": {
     "end_time": "2017-12-17T01:20:40.393506Z",
     "start_time": "2017-12-17T01:20:40.293068Z"
    }
   },
   "outputs": [],
   "source": [
    "# check that the dataset for institute names:\n",
    "# if parent is not 'school of informatics', and institute is unknown, copy it over:\n",
    "parent = pd_pplOfInf['parent']\n",
    "institute = pd_pplOfInf['institute']\n",
    "for i, (par, inst) in enumerate(zip(parent, institute)):\n",
    "    # We want to remove institute=school of informatics:\n",
    "    if inst == 'UNKNOWN' or inst == 'school of informatics':\n",
    "        if par == 'school of informatics':\n",
    "            inst = 'UNKNOWN'\n",
    "        else:\n",
    "            inst = par\n",
    "    #     pd_pplOfInf.institute[i] = inst\n",
    "    pd_pplOfInf.loc[i, 'institute'] = inst"
   ]
  },
  {
   "cell_type": "code",
   "execution_count": 9,
   "metadata": {
    "ExecuteTime": {
     "end_time": "2017-12-17T01:20:40.411619Z",
     "start_time": "2017-12-17T01:20:40.399225Z"
    }
   },
   "outputs": [
    {
     "name": "stdout",
     "output_type": "stream",
     "text": [
      "AFTER PROCESSING\n",
      "UNKNOWN: 50\n",
      "centre for intelligent systems and their applications: 23\n",
      "deanery of clinical sciences: 1\n",
      "edinburgh neuroscience: 1\n",
      "institute for adaptive and neural computation: 30\n",
      "institute for computing systems architecture: 28\n",
      "institute of language cognition and computation: 63\n",
      "institute of perception action and behaviour: 20\n",
      "laboratory for foundations of computer science: 63\n",
      "neuroinformatics dtc: 16\n",
      "school of philosophy psychology and language sciences: 1\n"
     ]
    }
   ],
   "source": [
    "print 'AFTER PROCESSING'\n",
    "# separate the individuals by community:\n",
    "infcommunity = {}\n",
    "gb = pd_pplOfInf.groupby('institute')\n",
    "for k, group in gb:\n",
    "    print '{}: {}'.format(k, len(group))"
   ]
  },
  {
   "cell_type": "code",
   "execution_count": 10,
   "metadata": {
    "ExecuteTime": {
     "end_time": "2017-12-17T01:20:40.425840Z",
     "start_time": "2017-12-17T01:20:40.417474Z"
    }
   },
   "outputs": [
    {
     "name": "stdout",
     "output_type": "stream",
     "text": [
      "number of institutes found: 11\n"
     ]
    }
   ],
   "source": [
    "# Creat a mapping for the institutes to classes:\n",
    "institutes = dict()\n",
    "k = 0\n",
    "for i in pd.unique(pd_pplOfInf['institute']):\n",
    "    institutes[i] = k\n",
    "    k += 1\n",
    "print 'number of institutes found: {}'.format(len(institutes))"
   ]
  },
  {
   "cell_type": "code",
   "execution_count": 11,
   "metadata": {
    "ExecuteTime": {
     "end_time": "2017-12-17T01:20:40.436422Z",
     "start_time": "2017-12-17T01:20:40.430424Z"
    }
   },
   "outputs": [],
   "source": [
    "# Save the institutes info:\n",
    "import cPickle as pkl\n",
    "pkl.dump(institutes, open('../data/institutes.pkl', 'w'), pkl.HIGHEST_PROTOCOL)"
   ]
  },
  {
   "cell_type": "code",
   "execution_count": 12,
   "metadata": {
    "ExecuteTime": {
     "end_time": "2017-12-17T01:20:40.458243Z",
     "start_time": "2017-12-17T01:20:40.441502Z"
    },
    "scrolled": false
   },
   "outputs": [],
   "source": [
    "# Set the class to each of the institute instance:\n",
    "pd_pplOfInf['institute_class'] = pd_pplOfInf.apply(\n",
    "    lambda row: institutes[row['institute']], axis=1)"
   ]
  },
  {
   "cell_type": "code",
   "execution_count": 13,
   "metadata": {
    "ExecuteTime": {
     "end_time": "2017-12-17T01:20:40.480995Z",
     "start_time": "2017-12-17T01:20:40.463292Z"
    },
    "scrolled": true
   },
   "outputs": [
    {
     "data": {
      "text/html": [
       "<div>\n",
       "<style scoped>\n",
       "    .dataframe tbody tr th:only-of-type {\n",
       "        vertical-align: middle;\n",
       "    }\n",
       "\n",
       "    .dataframe tbody tr th {\n",
       "        vertical-align: top;\n",
       "    }\n",
       "\n",
       "    .dataframe thead th {\n",
       "        text-align: right;\n",
       "    }\n",
       "</style>\n",
       "<table border=\"1\" class=\"dataframe\">\n",
       "  <thead>\n",
       "    <tr style=\"text-align: right;\">\n",
       "      <th></th>\n",
       "      <th>id</th>\n",
       "      <th>last_name</th>\n",
       "      <th>first_name</th>\n",
       "      <th>perseonal_url</th>\n",
       "      <th>position</th>\n",
       "      <th>parent</th>\n",
       "      <th>institute</th>\n",
       "      <th>full_name</th>\n",
       "      <th>institute_class</th>\n",
       "    </tr>\n",
       "  </thead>\n",
       "  <tbody>\n",
       "  </tbody>\n",
       "</table>\n",
       "</div>"
      ],
      "text/plain": [
       "Empty DataFrame\n",
       "Columns: [id, last_name, first_name, perseonal_url, position, parent, institute, full_name, institute_class]\n",
       "Index: []"
      ]
     },
     "execution_count": 13,
     "metadata": {},
     "output_type": "execute_result"
    }
   ],
   "source": [
    "pd_pplOfInf[pd_pplOfInf.institute=='school of informatics']"
   ]
  },
  {
   "cell_type": "code",
   "execution_count": 14,
   "metadata": {
    "ExecuteTime": {
     "end_time": "2017-12-17T01:20:40.497410Z",
     "start_time": "2017-12-17T01:20:40.484456Z"
    }
   },
   "outputs": [
    {
     "name": "stdout",
     "output_type": "stream",
     "text": [
      "class 0-UNKNOWN: 50\n",
      "class 1-centre for intelligent systems and their applications: 23\n",
      "class 2-institute of language cognition and computation: 63\n",
      "class 3-laboratory for foundations of computer science: 63\n",
      "class 4-institute for adaptive and neural computation: 30\n",
      "class 5-institute for computing systems architecture: 28\n",
      "class 6-neuroinformatics dtc: 16\n",
      "class 7-institute of perception action and behaviour: 20\n",
      "class 8-deanery of clinical sciences: 1\n",
      "class 9-edinburgh neuroscience: 1\n",
      "class 10-school of philosophy psychology and language sciences: 1\n"
     ]
    }
   ],
   "source": [
    "# separate the individuals by community:\n",
    "infcommunity = {}\n",
    "gb = pd_pplOfInf.groupby('institute_class')\n",
    "for k, group in gb:\n",
    "    infcommunity[k] = group\n",
    "    className = [name for (name, _k) in institutes.items() if _k == k][0]\n",
    "    print 'class {}-{}: {}'.format(k, className, len(group))"
   ]
  },
  {
   "cell_type": "markdown",
   "metadata": {},
   "source": [
    "From the Edinburgh Research Explorer, we know that [school of informatics](http://www.research.ed.ac.uk/portal/en/organisations/school-of-informatics%28d9a3581f-93a4-4d74-bf29-14c86a1da9f4%29.html) have the following institutes:\n",
    "- Centre for Intelligent Systems and their Applications (1)\n",
    "- Institute of Language, Cogn)tion and Computation (2)\n",
    "- Laboratory for Foundations of Computer Science (3)\n",
    "- Institute for Adaptive and Neural Computation (4)\n",
    "- Institute for Computing Systems Architecture (5)\n",
    "- Neuroinformatics DTC (6)\n",
    "- Institute of Perception, Action and Behaviour (7)\n",
    "\n",
    "with the numbers in the brackets corresponding to the mapping in the institutes dictionary. This will be useful later for our visualisation and creation of subgraphs"
   ]
  },
  {
   "cell_type": "markdown",
   "metadata": {},
   "source": [
    "## Alias/shortnames"
   ]
  },
  {
   "cell_type": "markdown",
   "metadata": {},
   "source": [
    "In publications, author's name are not spelled in full when cited. Rather, they are represented in contracted forms, such as `Calautti, M., Libkin, L. & Pieris, A` instead of `Marco Calautti, Leonid Libkin, & Andreas Pieris` respectively. This could be a problem down stream as an individual's name (in publication) may presented in full for some, and in shortname for others. This make mapping the a certain publication to individuals a challenge.\n",
    "\n",
    "To mitigate this, additional information (scrapped from Edinburgh research explorer) to assign shortnames (aliases) to an individual will be useful. These shortnames are assign to an individual in the school if the name is linked to their personal page on the research explorer"
   ]
  },
  {
   "cell_type": "code",
   "execution_count": 15,
   "metadata": {
    "ExecuteTime": {
     "end_time": "2017-12-17T01:20:40.512817Z",
     "start_time": "2017-12-17T01:20:40.503859Z"
    }
   },
   "outputs": [],
   "source": [
    "# assign the alias to each individuals, if exists:\n",
    "poinf_alias = '../data/peopleOfInformatics_ALIAS.csv'\n",
    "pd_poinf_alias = pd.read_csv(poinf_alias, names=['id', 'alias'])"
   ]
  },
  {
   "cell_type": "code",
   "execution_count": 16,
   "metadata": {
    "ExecuteTime": {
     "end_time": "2017-12-17T01:20:40.529322Z",
     "start_time": "2017-12-17T01:20:40.517802Z"
    }
   },
   "outputs": [],
   "source": [
    "# Merge the two pandas dataset to include the alias\n",
    "lookup_poinf = pd_pplOfInf.set_index('id').join(pd_poinf_alias.set_index('id'))"
   ]
  },
  {
   "cell_type": "code",
   "execution_count": 17,
   "metadata": {
    "ExecuteTime": {
     "end_time": "2017-12-17T01:20:40.571403Z",
     "start_time": "2017-12-17T01:20:40.534317Z"
    }
   },
   "outputs": [
    {
     "data": {
      "text/html": [
       "<div>\n",
       "<style scoped>\n",
       "    .dataframe tbody tr th:only-of-type {\n",
       "        vertical-align: middle;\n",
       "    }\n",
       "\n",
       "    .dataframe tbody tr th {\n",
       "        vertical-align: top;\n",
       "    }\n",
       "\n",
       "    .dataframe thead th {\n",
       "        text-align: right;\n",
       "    }\n",
       "</style>\n",
       "<table border=\"1\" class=\"dataframe\">\n",
       "  <thead>\n",
       "    <tr style=\"text-align: right;\">\n",
       "      <th></th>\n",
       "      <th>last_name</th>\n",
       "      <th>first_name</th>\n",
       "      <th>perseonal_url</th>\n",
       "      <th>position</th>\n",
       "      <th>parent</th>\n",
       "      <th>institute</th>\n",
       "      <th>full_name</th>\n",
       "      <th>institute_class</th>\n",
       "      <th>alias</th>\n",
       "    </tr>\n",
       "    <tr>\n",
       "      <th>id</th>\n",
       "      <th></th>\n",
       "      <th></th>\n",
       "      <th></th>\n",
       "      <th></th>\n",
       "      <th></th>\n",
       "      <th></th>\n",
       "      <th></th>\n",
       "      <th></th>\n",
       "      <th></th>\n",
       "    </tr>\n",
       "  </thead>\n",
       "  <tbody>\n",
       "    <tr>\n",
       "      <th>102286ee-5f21-4aed-abfd-e4ea1a615223</th>\n",
       "      <td>oberlander</td>\n",
       "      <td>jon</td>\n",
       "      <td>http://www.research.ed.ac.uk/portal/en/persons...</td>\n",
       "      <td>professor</td>\n",
       "      <td>school of informatics</td>\n",
       "      <td>institute of language cognition and computation</td>\n",
       "      <td>oberlander jon</td>\n",
       "      <td>2</td>\n",
       "      <td>oberlander, j.</td>\n",
       "    </tr>\n",
       "    <tr>\n",
       "      <th>12ea09ae-bba3-4ca6-b4e1-98e678043f8c</th>\n",
       "      <td>winn</td>\n",
       "      <td>john</td>\n",
       "      <td>http://www.research.ed.ac.uk/portal/en/persons...</td>\n",
       "      <td>visitor official visitor</td>\n",
       "      <td>school of informatics</td>\n",
       "      <td>institute of perception action and behaviour</td>\n",
       "      <td>winn john</td>\n",
       "      <td>7</td>\n",
       "      <td>NaN</td>\n",
       "    </tr>\n",
       "    <tr>\n",
       "      <th>55edc24c-73ac-4c72-9508-958445f08e5c</th>\n",
       "      <td>van rossum</td>\n",
       "      <td>mark</td>\n",
       "      <td>http://www.research.ed.ac.uk/portal/en/persons...</td>\n",
       "      <td>personal chair of computational neuroscience</td>\n",
       "      <td>school of informatics</td>\n",
       "      <td>institute of perception action and behaviour</td>\n",
       "      <td>van rossum mark</td>\n",
       "      <td>7</td>\n",
       "      <td>rossum, m. v.|van rossum, m. c.|van rossum, m....</td>\n",
       "    </tr>\n",
       "    <tr>\n",
       "      <th>b605a8d1-7d65-4380-8cb4-21004fad3dfc</th>\n",
       "      <td>leoni</td>\n",
       "      <td>david</td>\n",
       "      <td>http://www.research.ed.ac.uk/portal/en/persons...</td>\n",
       "      <td>unknown</td>\n",
       "      <td>centre for intelligent systems and their appli...</td>\n",
       "      <td>UNKNOWN</td>\n",
       "      <td>leoni david</td>\n",
       "      <td>0</td>\n",
       "      <td>leoni, d.</td>\n",
       "    </tr>\n",
       "  </tbody>\n",
       "</table>\n",
       "</div>"
      ],
      "text/plain": [
       "                                       last_name first_name  \\\n",
       "id                                                            \n",
       "102286ee-5f21-4aed-abfd-e4ea1a615223  oberlander        jon   \n",
       "12ea09ae-bba3-4ca6-b4e1-98e678043f8c        winn       john   \n",
       "55edc24c-73ac-4c72-9508-958445f08e5c  van rossum       mark   \n",
       "b605a8d1-7d65-4380-8cb4-21004fad3dfc       leoni      david   \n",
       "\n",
       "                                                                          perseonal_url  \\\n",
       "id                                                                                        \n",
       "102286ee-5f21-4aed-abfd-e4ea1a615223  http://www.research.ed.ac.uk/portal/en/persons...   \n",
       "12ea09ae-bba3-4ca6-b4e1-98e678043f8c  http://www.research.ed.ac.uk/portal/en/persons...   \n",
       "55edc24c-73ac-4c72-9508-958445f08e5c  http://www.research.ed.ac.uk/portal/en/persons...   \n",
       "b605a8d1-7d65-4380-8cb4-21004fad3dfc  http://www.research.ed.ac.uk/portal/en/persons...   \n",
       "\n",
       "                                                                          position  \\\n",
       "id                                                                                   \n",
       "102286ee-5f21-4aed-abfd-e4ea1a615223                                     professor   \n",
       "12ea09ae-bba3-4ca6-b4e1-98e678043f8c                      visitor official visitor   \n",
       "55edc24c-73ac-4c72-9508-958445f08e5c  personal chair of computational neuroscience   \n",
       "b605a8d1-7d65-4380-8cb4-21004fad3dfc                                       unknown   \n",
       "\n",
       "                                                                                 parent  \\\n",
       "id                                                                                        \n",
       "102286ee-5f21-4aed-abfd-e4ea1a615223                              school of informatics   \n",
       "12ea09ae-bba3-4ca6-b4e1-98e678043f8c                              school of informatics   \n",
       "55edc24c-73ac-4c72-9508-958445f08e5c                              school of informatics   \n",
       "b605a8d1-7d65-4380-8cb4-21004fad3dfc  centre for intelligent systems and their appli...   \n",
       "\n",
       "                                                                            institute  \\\n",
       "id                                                                                      \n",
       "102286ee-5f21-4aed-abfd-e4ea1a615223  institute of language cognition and computation   \n",
       "12ea09ae-bba3-4ca6-b4e1-98e678043f8c     institute of perception action and behaviour   \n",
       "55edc24c-73ac-4c72-9508-958445f08e5c     institute of perception action and behaviour   \n",
       "b605a8d1-7d65-4380-8cb4-21004fad3dfc                                          UNKNOWN   \n",
       "\n",
       "                                            full_name  institute_class  \\\n",
       "id                                                                       \n",
       "102286ee-5f21-4aed-abfd-e4ea1a615223   oberlander jon                2   \n",
       "12ea09ae-bba3-4ca6-b4e1-98e678043f8c        winn john                7   \n",
       "55edc24c-73ac-4c72-9508-958445f08e5c  van rossum mark                7   \n",
       "b605a8d1-7d65-4380-8cb4-21004fad3dfc      leoni david                0   \n",
       "\n",
       "                                                                                  alias  \n",
       "id                                                                                       \n",
       "102286ee-5f21-4aed-abfd-e4ea1a615223                                     oberlander, j.  \n",
       "12ea09ae-bba3-4ca6-b4e1-98e678043f8c                                                NaN  \n",
       "55edc24c-73ac-4c72-9508-958445f08e5c  rossum, m. v.|van rossum, m. c.|van rossum, m....  \n",
       "b605a8d1-7d65-4380-8cb4-21004fad3dfc                                          leoni, d.  "
      ]
     },
     "execution_count": 17,
     "metadata": {},
     "output_type": "execute_result"
    }
   ],
   "source": [
    "lookup_poinf.iloc[[21,25,100,200]]"
   ]
  },
  {
   "cell_type": "code",
   "execution_count": 18,
   "metadata": {
    "ExecuteTime": {
     "end_time": "2017-12-17T01:20:40.605735Z",
     "start_time": "2017-12-17T01:20:40.576715Z"
    },
    "scrolled": true
   },
   "outputs": [
    {
     "data": {
      "text/html": [
       "<div>\n",
       "<style scoped>\n",
       "    .dataframe tbody tr th:only-of-type {\n",
       "        vertical-align: middle;\n",
       "    }\n",
       "\n",
       "    .dataframe tbody tr th {\n",
       "        vertical-align: top;\n",
       "    }\n",
       "\n",
       "    .dataframe thead th {\n",
       "        text-align: right;\n",
       "    }\n",
       "</style>\n",
       "<table border=\"1\" class=\"dataframe\">\n",
       "  <thead>\n",
       "    <tr style=\"text-align: right;\">\n",
       "      <th></th>\n",
       "      <th>last_name</th>\n",
       "      <th>first_name</th>\n",
       "      <th>perseonal_url</th>\n",
       "      <th>position</th>\n",
       "      <th>parent</th>\n",
       "      <th>institute</th>\n",
       "      <th>full_name</th>\n",
       "      <th>institute_class</th>\n",
       "      <th>alias</th>\n",
       "    </tr>\n",
       "    <tr>\n",
       "      <th>id</th>\n",
       "      <th></th>\n",
       "      <th></th>\n",
       "      <th></th>\n",
       "      <th></th>\n",
       "      <th></th>\n",
       "      <th></th>\n",
       "      <th></th>\n",
       "      <th></th>\n",
       "      <th></th>\n",
       "    </tr>\n",
       "  </thead>\n",
       "  <tbody>\n",
       "    <tr>\n",
       "      <th>1419562d-17ae-4ef2-9014-ca629eed6adb</th>\n",
       "      <td>o'boyle</td>\n",
       "      <td>michael</td>\n",
       "      <td>http://www.research.ed.ac.uk/portal/en/persons...</td>\n",
       "      <td>personal chair in computer science</td>\n",
       "      <td>school of informatics</td>\n",
       "      <td>institute of perception action and behaviour</td>\n",
       "      <td>o'boyle michael</td>\n",
       "      <td>7</td>\n",
       "      <td>o'boyle, m. f. p.|o'boyle, m.|o'boyle, m. f. p...</td>\n",
       "    </tr>\n",
       "  </tbody>\n",
       "</table>\n",
       "</div>"
      ],
      "text/plain": [
       "                                     last_name first_name  \\\n",
       "id                                                          \n",
       "1419562d-17ae-4ef2-9014-ca629eed6adb   o'boyle    michael   \n",
       "\n",
       "                                                                          perseonal_url  \\\n",
       "id                                                                                        \n",
       "1419562d-17ae-4ef2-9014-ca629eed6adb  http://www.research.ed.ac.uk/portal/en/persons...   \n",
       "\n",
       "                                                                position  \\\n",
       "id                                                                         \n",
       "1419562d-17ae-4ef2-9014-ca629eed6adb  personal chair in computer science   \n",
       "\n",
       "                                                     parent  \\\n",
       "id                                                            \n",
       "1419562d-17ae-4ef2-9014-ca629eed6adb  school of informatics   \n",
       "\n",
       "                                                                         institute  \\\n",
       "id                                                                                   \n",
       "1419562d-17ae-4ef2-9014-ca629eed6adb  institute of perception action and behaviour   \n",
       "\n",
       "                                            full_name  institute_class  \\\n",
       "id                                                                       \n",
       "1419562d-17ae-4ef2-9014-ca629eed6adb  o'boyle michael                7   \n",
       "\n",
       "                                                                                  alias  \n",
       "id                                                                                       \n",
       "1419562d-17ae-4ef2-9014-ca629eed6adb  o'boyle, m. f. p.|o'boyle, m.|o'boyle, m. f. p...  "
      ]
     },
     "execution_count": 18,
     "metadata": {},
     "output_type": "execute_result"
    }
   ],
   "source": [
    "lookup_poinf[lookup_poinf.last_name=='o\\'boyle']"
   ]
  },
  {
   "cell_type": "code",
   "execution_count": 19,
   "metadata": {
    "ExecuteTime": {
     "end_time": "2017-12-17T01:20:40.638830Z",
     "start_time": "2017-12-17T01:20:40.611814Z"
    }
   },
   "outputs": [
    {
     "data": {
      "text/html": [
       "<div>\n",
       "<style scoped>\n",
       "    .dataframe tbody tr th:only-of-type {\n",
       "        vertical-align: middle;\n",
       "    }\n",
       "\n",
       "    .dataframe tbody tr th {\n",
       "        vertical-align: top;\n",
       "    }\n",
       "\n",
       "    .dataframe thead th {\n",
       "        text-align: right;\n",
       "    }\n",
       "</style>\n",
       "<table border=\"1\" class=\"dataframe\">\n",
       "  <thead>\n",
       "    <tr style=\"text-align: right;\">\n",
       "      <th></th>\n",
       "      <th>last_name</th>\n",
       "      <th>first_name</th>\n",
       "      <th>perseonal_url</th>\n",
       "      <th>position</th>\n",
       "      <th>parent</th>\n",
       "      <th>institute</th>\n",
       "      <th>full_name</th>\n",
       "      <th>institute_class</th>\n",
       "      <th>alias</th>\n",
       "    </tr>\n",
       "    <tr>\n",
       "      <th>id</th>\n",
       "      <th></th>\n",
       "      <th></th>\n",
       "      <th></th>\n",
       "      <th></th>\n",
       "      <th></th>\n",
       "      <th></th>\n",
       "      <th></th>\n",
       "      <th></th>\n",
       "      <th></th>\n",
       "    </tr>\n",
       "  </thead>\n",
       "  <tbody>\n",
       "    <tr>\n",
       "      <th>e76a7c40-a177-4eb5-9ac3-12ab104895f8</th>\n",
       "      <td>perera</td>\n",
       "      <td>roland</td>\n",
       "      <td>http://www.research.ed.ac.uk/portal/en/persons...</td>\n",
       "      <td>research associate</td>\n",
       "      <td>school of informatics</td>\n",
       "      <td>institute for computing systems architecture</td>\n",
       "      <td>perera roland</td>\n",
       "      <td>5</td>\n",
       "      <td>perera, r.</td>\n",
       "    </tr>\n",
       "  </tbody>\n",
       "</table>\n",
       "</div>"
      ],
      "text/plain": [
       "                                     last_name first_name  \\\n",
       "id                                                          \n",
       "e76a7c40-a177-4eb5-9ac3-12ab104895f8    perera     roland   \n",
       "\n",
       "                                                                          perseonal_url  \\\n",
       "id                                                                                        \n",
       "e76a7c40-a177-4eb5-9ac3-12ab104895f8  http://www.research.ed.ac.uk/portal/en/persons...   \n",
       "\n",
       "                                                position  \\\n",
       "id                                                         \n",
       "e76a7c40-a177-4eb5-9ac3-12ab104895f8  research associate   \n",
       "\n",
       "                                                     parent  \\\n",
       "id                                                            \n",
       "e76a7c40-a177-4eb5-9ac3-12ab104895f8  school of informatics   \n",
       "\n",
       "                                                                         institute  \\\n",
       "id                                                                                   \n",
       "e76a7c40-a177-4eb5-9ac3-12ab104895f8  institute for computing systems architecture   \n",
       "\n",
       "                                          full_name  institute_class  \\\n",
       "id                                                                     \n",
       "e76a7c40-a177-4eb5-9ac3-12ab104895f8  perera roland                5   \n",
       "\n",
       "                                           alias  \n",
       "id                                                \n",
       "e76a7c40-a177-4eb5-9ac3-12ab104895f8  perera, r.  "
      ]
     },
     "execution_count": 19,
     "metadata": {},
     "output_type": "execute_result"
    }
   ],
   "source": [
    "lookup_poinf[lookup_poinf.last_name=='perera']"
   ]
  },
  {
   "cell_type": "code",
   "execution_count": 20,
   "metadata": {
    "ExecuteTime": {
     "end_time": "2017-12-17T01:20:40.654693Z",
     "start_time": "2017-12-17T01:20:40.645334Z"
    }
   },
   "outputs": [],
   "source": [
    "# Write the lookup_poinf to the index:\n",
    "lookup_poinf.to_csv(path_or_buf='../data/lookup_poinf.csv', index=True, index_label='id', header=True)"
   ]
  },
  {
   "cell_type": "code",
   "execution_count": 21,
   "metadata": {
    "ExecuteTime": {
     "end_time": "2017-12-17T01:20:40.671002Z",
     "start_time": "2017-12-17T01:20:40.660412Z"
    }
   },
   "outputs": [],
   "source": [
    "lookup_poinf.to_pickle(path='../data/lookup_poinf.pkl')"
   ]
  },
  {
   "cell_type": "markdown",
   "metadata": {},
   "source": [
    "---\n",
    "# `publications`.csv :\n",
    "There are two csv files related to information from publications:\n",
    "1. `publications.csv`\n",
    "2. `pubpage_aliases.csv`\n",
    "\n",
    "`publcations.csv` contains data scrapped from the each publication under the school of informatics. The fields are:`pub_id`,`date`,`year`,`title`,`authors`,`pub_url`,`doi_url`,`pdf_url`,`abstract`, and `publications`. For our collaboration network, we are only interested in the `pub_id`, `year` (for temporal study), and `authors`.\n",
    "\n",
    "`pubpage_aliases.csv` contains mapping of `shortnames` of authors for each publication. As mentioned in the [previous section](#Alias/shortnames)."
   ]
  },
  {
   "cell_type": "code",
   "execution_count": 22,
   "metadata": {
    "ExecuteTime": {
     "end_time": "2017-12-17T01:20:40.841026Z",
     "start_time": "2017-12-17T01:20:40.676833Z"
    }
   },
   "outputs": [],
   "source": [
    "pd_publications = pd.read_csv(publications_csv) \n",
    "pubpage_alias = pd.read_csv('../data/pubpage_aliases.csv', names=['pub_id', 'names', 'shortnames'])\n",
    "# merge the dataframes:\n",
    "lookup_pub = pd_publications.set_index('pub_id').join(pubpage_alias.set_index('pub_id'))"
   ]
  },
  {
   "cell_type": "code",
   "execution_count": 23,
   "metadata": {
    "ExecuteTime": {
     "end_time": "2017-12-17T01:20:40.860178Z",
     "start_time": "2017-12-17T01:20:40.846420Z"
    },
    "scrolled": false
   },
   "outputs": [],
   "source": [
    "lookup_pub.drop(\n",
    "    labels=[\n",
    "        'title', 'date', 'pub_url', 'pdf_url', 'doi_url', 'abstract',\n",
    "        'publications', 'names'\n",
    "    ],\n",
    "    axis=1,\n",
    "    inplace=True)"
   ]
  },
  {
   "cell_type": "code",
   "execution_count": 24,
   "metadata": {
    "ExecuteTime": {
     "end_time": "2017-12-17T01:20:40.896666Z",
     "start_time": "2017-12-17T01:20:40.866362Z"
    }
   },
   "outputs": [
    {
     "data": {
      "text/html": [
       "<div>\n",
       "<style scoped>\n",
       "    .dataframe tbody tr th:only-of-type {\n",
       "        vertical-align: middle;\n",
       "    }\n",
       "\n",
       "    .dataframe tbody tr th {\n",
       "        vertical-align: top;\n",
       "    }\n",
       "\n",
       "    .dataframe thead th {\n",
       "        text-align: right;\n",
       "    }\n",
       "</style>\n",
       "<table border=\"1\" class=\"dataframe\">\n",
       "  <thead>\n",
       "    <tr style=\"text-align: right;\">\n",
       "      <th></th>\n",
       "      <th>year</th>\n",
       "      <th>authors</th>\n",
       "      <th>shortnames</th>\n",
       "    </tr>\n",
       "    <tr>\n",
       "      <th>pub_id</th>\n",
       "      <th></th>\n",
       "      <th></th>\n",
       "      <th></th>\n",
       "    </tr>\n",
       "  </thead>\n",
       "  <tbody>\n",
       "    <tr>\n",
       "      <th>400818dc-63af-4a26-80c5-906f98e1f8ab</th>\n",
       "      <td>1989</td>\n",
       "      <td>d.p. o'brien|r. galvao|m. keilhacker|e. lazzar...</td>\n",
       "      <td>brien, d. p.|galvao, r.|keilhacker, m.|lazzaro...</td>\n",
       "    </tr>\n",
       "    <tr>\n",
       "      <th>18b1a861-afef-4fff-bc80-d02e05be18c4</th>\n",
       "      <td>2013</td>\n",
       "      <td>paolo guagliardo|piotr wieczorek</td>\n",
       "      <td>guagliardo, p.|wieczorek, p.</td>\n",
       "    </tr>\n",
       "    <tr>\n",
       "      <th>309fdbfc-227b-4588-9264-f0f4e3cadfcb</th>\n",
       "      <td>1994</td>\n",
       "      <td>p. buneman|l. libkin|d. suciu|v. tannen|l. wong</td>\n",
       "      <td>buneman, p.|libkin, l.|suciu, d.|tannen, v. |w...</td>\n",
       "    </tr>\n",
       "    <tr>\n",
       "      <th>d5814bab-5fc2-4c31-92b7-543c7ce75cb4</th>\n",
       "      <td>2012</td>\n",
       "      <td>p.l. de leon|m. pucher|j. yamagishi|i. hernaez...</td>\n",
       "      <td>leon, p. l.|pucher, m.|yamagishi, j.|hernaez, ...</td>\n",
       "    </tr>\n",
       "    <tr>\n",
       "      <th>880944d3-26db-4003-9186-130bf3202941</th>\n",
       "      <td>2014</td>\n",
       "      <td>navid nikaein|mahesh k. marina|saravana manick...</td>\n",
       "      <td>nikaein, n.|marina, m. k.|manickam, s.|dawson,...</td>\n",
       "    </tr>\n",
       "    <tr>\n",
       "      <th>57881982-3f10-4035-9dfb-9e76dcfbc00d</th>\n",
       "      <td>2007</td>\n",
       "      <td>nobuyuki bannai|robert b. fisher|alexander aga...</td>\n",
       "      <td>bannai, n.|fisher, r. b.|agathos, a.</td>\n",
       "    </tr>\n",
       "    <tr>\n",
       "      <th>2fdf828d-62a7-48f0-bd3e-403e20735174</th>\n",
       "      <td>2010</td>\n",
       "      <td>moa johansson|lucas dixon|alan bundy</td>\n",
       "      <td>johansson, m.|dixon, l. |bundy, a.</td>\n",
       "    </tr>\n",
       "    <tr>\n",
       "      <th>46253c7e-fc72-49a0-b7b2-c375d71969ee</th>\n",
       "      <td>2013</td>\n",
       "      <td>r. kumar|a. martinez|a. gonzalez</td>\n",
       "      <td>kumar, r.|martinez, a. |gonzalez, a.</td>\n",
       "    </tr>\n",
       "    <tr>\n",
       "      <th>6b3f3c93-53e1-42b2-be11-66a7cede3a57</th>\n",
       "      <td>2016</td>\n",
       "      <td>roly perera|julien lange|simon j. gay</td>\n",
       "      <td>perera, r.|lange, j. |gay, s. j.</td>\n",
       "    </tr>\n",
       "    <tr>\n",
       "      <th>4481a8b4-22ed-42f5-801a-c0cf515e70d0</th>\n",
       "      <td>1991</td>\n",
       "      <td>peter dayan|jon oberlander</td>\n",
       "      <td>dayan, p. |oberlander, j.</td>\n",
       "    </tr>\n",
       "  </tbody>\n",
       "</table>\n",
       "</div>"
      ],
      "text/plain": [
       "                                      year  \\\n",
       "pub_id                                       \n",
       "400818dc-63af-4a26-80c5-906f98e1f8ab  1989   \n",
       "18b1a861-afef-4fff-bc80-d02e05be18c4  2013   \n",
       "309fdbfc-227b-4588-9264-f0f4e3cadfcb  1994   \n",
       "d5814bab-5fc2-4c31-92b7-543c7ce75cb4  2012   \n",
       "880944d3-26db-4003-9186-130bf3202941  2014   \n",
       "57881982-3f10-4035-9dfb-9e76dcfbc00d  2007   \n",
       "2fdf828d-62a7-48f0-bd3e-403e20735174  2010   \n",
       "46253c7e-fc72-49a0-b7b2-c375d71969ee  2013   \n",
       "6b3f3c93-53e1-42b2-be11-66a7cede3a57  2016   \n",
       "4481a8b4-22ed-42f5-801a-c0cf515e70d0  1991   \n",
       "\n",
       "                                                                                authors  \\\n",
       "pub_id                                                                                    \n",
       "400818dc-63af-4a26-80c5-906f98e1f8ab  d.p. o'brien|r. galvao|m. keilhacker|e. lazzar...   \n",
       "18b1a861-afef-4fff-bc80-d02e05be18c4                   paolo guagliardo|piotr wieczorek   \n",
       "309fdbfc-227b-4588-9264-f0f4e3cadfcb    p. buneman|l. libkin|d. suciu|v. tannen|l. wong   \n",
       "d5814bab-5fc2-4c31-92b7-543c7ce75cb4  p.l. de leon|m. pucher|j. yamagishi|i. hernaez...   \n",
       "880944d3-26db-4003-9186-130bf3202941  navid nikaein|mahesh k. marina|saravana manick...   \n",
       "57881982-3f10-4035-9dfb-9e76dcfbc00d  nobuyuki bannai|robert b. fisher|alexander aga...   \n",
       "2fdf828d-62a7-48f0-bd3e-403e20735174               moa johansson|lucas dixon|alan bundy   \n",
       "46253c7e-fc72-49a0-b7b2-c375d71969ee                   r. kumar|a. martinez|a. gonzalez   \n",
       "6b3f3c93-53e1-42b2-be11-66a7cede3a57              roly perera|julien lange|simon j. gay   \n",
       "4481a8b4-22ed-42f5-801a-c0cf515e70d0                         peter dayan|jon oberlander   \n",
       "\n",
       "                                                                             shortnames  \n",
       "pub_id                                                                                   \n",
       "400818dc-63af-4a26-80c5-906f98e1f8ab  brien, d. p.|galvao, r.|keilhacker, m.|lazzaro...  \n",
       "18b1a861-afef-4fff-bc80-d02e05be18c4                       guagliardo, p.|wieczorek, p.  \n",
       "309fdbfc-227b-4588-9264-f0f4e3cadfcb  buneman, p.|libkin, l.|suciu, d.|tannen, v. |w...  \n",
       "d5814bab-5fc2-4c31-92b7-543c7ce75cb4  leon, p. l.|pucher, m.|yamagishi, j.|hernaez, ...  \n",
       "880944d3-26db-4003-9186-130bf3202941  nikaein, n.|marina, m. k.|manickam, s.|dawson,...  \n",
       "57881982-3f10-4035-9dfb-9e76dcfbc00d               bannai, n.|fisher, r. b.|agathos, a.  \n",
       "2fdf828d-62a7-48f0-bd3e-403e20735174                 johansson, m.|dixon, l. |bundy, a.  \n",
       "46253c7e-fc72-49a0-b7b2-c375d71969ee               kumar, r.|martinez, a. |gonzalez, a.  \n",
       "6b3f3c93-53e1-42b2-be11-66a7cede3a57                   perera, r.|lange, j. |gay, s. j.  \n",
       "4481a8b4-22ed-42f5-801a-c0cf515e70d0                          dayan, p. |oberlander, j.  "
      ]
     },
     "execution_count": 24,
     "metadata": {},
     "output_type": "execute_result"
    }
   ],
   "source": [
    "lookup_pub.head(10)"
   ]
  },
  {
   "cell_type": "markdown",
   "metadata": {},
   "source": [
    "In the previous section on alias for People of informatics, we attempt to unravel the aliases for each individuals. Our dataset, however, have many individuals who may not be from the school of informatics (external academics), but have collaborated with individuals from the school of informatics.\n",
    "\n",
    "Our task for the external academics are:\n",
    "1. Assign an unique ID for them\n",
    "2. Unravel through the publication and assign ids for the publications"
   ]
  },
  {
   "cell_type": "markdown",
   "metadata": {},
   "source": [
    "## Assigning unique ID to external academic"
   ]
  },
  {
   "cell_type": "code",
   "execution_count": 25,
   "metadata": {
    "ExecuteTime": {
     "end_time": "2017-12-17T01:20:41.129016Z",
     "start_time": "2017-12-17T01:20:40.902698Z"
    },
    "scrolled": true
   },
   "outputs": [],
   "source": [
    "import re\n",
    "pairs = set()\n",
    "for (names, shortnames) in zip(lookup_pub.authors, lookup_pub.shortnames):\n",
    "    _names = str(names).split('|')\n",
    "    _shortnames = str(shortnames).split('|')\n",
    "    _shortnames = map(lambda x: x.strip(), _shortnames)\n",
    "\n",
    "    if len(_names) == len(_shortnames):\n",
    "        _pairs = zip(_names, _shortnames)\n",
    "        for p in _pairs:\n",
    "            # simplistic search and match:\n",
    "            _lastname1 = p[0].split(\" \")[-1]\n",
    "            _lastname2 = p[1].split(\" \")[0]\n",
    "            _lastname2 = re.findall(r'[a-z]*', _lastname2)[0]\n",
    "            if _lastname1[-len(_lastname2):] == _lastname2:\n",
    "                pairs.add(p)\n",
    "\n",
    "allNames = [p[0] for p in list(pairs)]\n",
    "allShortNames = [p[1] for p in list(pairs)]"
   ]
  },
  {
   "cell_type": "code",
   "execution_count": 26,
   "metadata": {
    "ExecuteTime": {
     "end_time": "2017-12-17T01:20:41.141348Z",
     "start_time": "2017-12-17T01:20:41.135044Z"
    }
   },
   "outputs": [
    {
     "name": "stdout",
     "output_type": "stream",
     "text": [
      "Total number of individuals in the collaboration network:  9977\n"
     ]
    }
   ],
   "source": [
    "print 'Total number of individuals in the collaboration network: ', str(len(allNames))"
   ]
  },
  {
   "cell_type": "code",
   "execution_count": 27,
   "metadata": {
    "ExecuteTime": {
     "end_time": "2017-12-17T01:20:41.156216Z",
     "start_time": "2017-12-17T01:20:41.147460Z"
    }
   },
   "outputs": [],
   "source": [
    "# Combine all the alias for individuals in the school of informatics into a list\n",
    "poinf_aliases = []\n",
    "for aliases in lookup_poinf.alias:\n",
    "    if type(aliases) is str:\n",
    "        poinf_aliases.extend(aliases.split(\"|\"))"
   ]
  },
  {
   "cell_type": "code",
   "execution_count": 28,
   "metadata": {
    "ExecuteTime": {
     "end_time": "2017-12-17T01:20:41.169200Z",
     "start_time": "2017-12-17T01:20:41.161010Z"
    }
   },
   "outputs": [],
   "source": [
    "external_aliases = set(allShortNames).difference(set(poinf_aliases))"
   ]
  },
  {
   "cell_type": "code",
   "execution_count": 29,
   "metadata": {
    "ExecuteTime": {
     "end_time": "2017-12-17T01:20:41.183215Z",
     "start_time": "2017-12-17T01:20:41.175260Z"
    }
   },
   "outputs": [
    {
     "name": "stdout",
     "output_type": "stream",
     "text": [
      "Number of external individuals in collaboration network:  7679\n"
     ]
    }
   ],
   "source": [
    "print 'Number of external individuals in collaboration network: ', str(len(external_aliases))"
   ]
  },
  {
   "cell_type": "code",
   "execution_count": 30,
   "metadata": {
    "ExecuteTime": {
     "end_time": "2017-12-17T01:20:41.196279Z",
     "start_time": "2017-12-17T01:20:41.190031Z"
    }
   },
   "outputs": [],
   "source": [
    "# Give an unique id to each alias:\n",
    "from itertools import count\n",
    "from collections import defaultdict\n",
    "lookup_ext_academic = defaultdict(count().next)"
   ]
  },
  {
   "cell_type": "code",
   "execution_count": 31,
   "metadata": {
    "ExecuteTime": {
     "end_time": "2017-12-17T01:20:41.214535Z",
     "start_time": "2017-12-17T01:20:41.201629Z"
    }
   },
   "outputs": [],
   "source": [
    "# Create a dictionary for fast lookup of individuals who are not in school of informatics\n",
    "for i in list(external_aliases):\n",
    "    lookup_ext_academic[i]"
   ]
  },
  {
   "cell_type": "code",
   "execution_count": 32,
   "metadata": {
    "ExecuteTime": {
     "end_time": "2017-12-17T01:20:41.230665Z",
     "start_time": "2017-12-17T01:20:41.220580Z"
    }
   },
   "outputs": [],
   "source": [
    "# create a dictionary for fast lookup of individuals in school of informatics\n",
    "lookup_poinf_alias = {}\n",
    "for pers_id, aliases in zip(lookup_poinf.index, lookup_poinf.alias):\n",
    "    if type(aliases) is str:\n",
    "        _aliases = aliases.split(\"|\")\n",
    "        for alias in _aliases:\n",
    "            lookup_poinf_alias[str(alias).strip()] = pers_id"
   ]
  },
  {
   "cell_type": "markdown",
   "metadata": {},
   "source": [
    "## Creating index for collaboration:\n",
    "Now that we have an assigned ID for external individuals and individuals who are in school of informatics, we can use these IDs to represent these individuals for each collaboration."
   ]
  },
  {
   "cell_type": "code",
   "execution_count": 34,
   "metadata": {
    "ExecuteTime": {
     "end_time": "2017-12-17T01:20:51.293991Z",
     "start_time": "2017-12-17T01:20:51.283684Z"
    }
   },
   "outputs": [],
   "source": [
    "def collabIds(_shortnames):\n",
    "    # collaborators id\n",
    "    collab_id = []\n",
    "    try:\n",
    "        for i in _shortnames.split(\"|\"):\n",
    "            i = i.strip()\n",
    "            if i in lookup_poinf_alias:\n",
    "                collab_id.append(lookup_poinf_alias[i])\n",
    "            elif i in lookup_ext_academic:\n",
    "                collab_id.append(lookup_ext_academic[i])\n",
    "            #else:\n",
    "                # print i\n",
    "    except:\n",
    "        return []\n",
    "    return collab_id"
   ]
  },
  {
   "cell_type": "code",
   "execution_count": 35,
   "metadata": {
    "ExecuteTime": {
     "end_time": "2017-12-17T01:20:53.171515Z",
     "start_time": "2017-12-17T01:20:52.904806Z"
    }
   },
   "outputs": [],
   "source": [
    "lookup_pub['collab_id'] = lookup_pub.apply(\n",
    "    lambda row: collabIds(row.shortnames), axis=1)"
   ]
  },
  {
   "cell_type": "code",
   "execution_count": 36,
   "metadata": {
    "ExecuteTime": {
     "end_time": "2017-12-17T01:20:56.108041Z",
     "start_time": "2017-12-17T01:20:56.067765Z"
    }
   },
   "outputs": [
    {
     "data": {
      "text/html": [
       "<div>\n",
       "<style scoped>\n",
       "    .dataframe tbody tr th:only-of-type {\n",
       "        vertical-align: middle;\n",
       "    }\n",
       "\n",
       "    .dataframe tbody tr th {\n",
       "        vertical-align: top;\n",
       "    }\n",
       "\n",
       "    .dataframe thead th {\n",
       "        text-align: right;\n",
       "    }\n",
       "</style>\n",
       "<table border=\"1\" class=\"dataframe\">\n",
       "  <thead>\n",
       "    <tr style=\"text-align: right;\">\n",
       "      <th></th>\n",
       "      <th>year</th>\n",
       "      <th>authors</th>\n",
       "      <th>shortnames</th>\n",
       "      <th>collab_id</th>\n",
       "    </tr>\n",
       "    <tr>\n",
       "      <th>pub_id</th>\n",
       "      <th></th>\n",
       "      <th></th>\n",
       "      <th></th>\n",
       "      <th></th>\n",
       "    </tr>\n",
       "  </thead>\n",
       "  <tbody>\n",
       "    <tr>\n",
       "      <th>400818dc-63af-4a26-80c5-906f98e1f8ab</th>\n",
       "      <td>1989</td>\n",
       "      <td>d.p. o'brien|r. galvao|m. keilhacker|e. lazzar...</td>\n",
       "      <td>brien, d. p.|galvao, r.|keilhacker, m.|lazzaro...</td>\n",
       "      <td>[324, 1942, 560, 5635, 5099, a78a09b5-138e-407...</td>\n",
       "    </tr>\n",
       "    <tr>\n",
       "      <th>18b1a861-afef-4fff-bc80-d02e05be18c4</th>\n",
       "      <td>2013</td>\n",
       "      <td>paolo guagliardo|piotr wieczorek</td>\n",
       "      <td>guagliardo, p.|wieczorek, p.</td>\n",
       "      <td>[653c9723-b374-4ad3-9cef-0f7e7f45d812, 4953]</td>\n",
       "    </tr>\n",
       "    <tr>\n",
       "      <th>309fdbfc-227b-4588-9264-f0f4e3cadfcb</th>\n",
       "      <td>1994</td>\n",
       "      <td>p. buneman|l. libkin|d. suciu|v. tannen|l. wong</td>\n",
       "      <td>buneman, p.|libkin, l.|suciu, d.|tannen, v. |w...</td>\n",
       "      <td>[90396347-473b-4fba-8b1d-a1d25ea18b6b, a22b33f...</td>\n",
       "    </tr>\n",
       "    <tr>\n",
       "      <th>d5814bab-5fc2-4c31-92b7-543c7ce75cb4</th>\n",
       "      <td>2012</td>\n",
       "      <td>p.l. de leon|m. pucher|j. yamagishi|i. hernaez...</td>\n",
       "      <td>leon, p. l.|pucher, m.|yamagishi, j.|hernaez, ...</td>\n",
       "      <td>[1180, 5318, 4d11a99a-0d04-42f4-8089-d433a57c2...</td>\n",
       "    </tr>\n",
       "    <tr>\n",
       "      <th>880944d3-26db-4003-9186-130bf3202941</th>\n",
       "      <td>2014</td>\n",
       "      <td>navid nikaein|mahesh k. marina|saravana manick...</td>\n",
       "      <td>nikaein, n.|marina, m. k.|manickam, s.|dawson,...</td>\n",
       "      <td>[3859, 06760916-edca-488e-93da-baff6204a453, 2...</td>\n",
       "    </tr>\n",
       "    <tr>\n",
       "      <th>57881982-3f10-4035-9dfb-9e76dcfbc00d</th>\n",
       "      <td>2007</td>\n",
       "      <td>nobuyuki bannai|robert b. fisher|alexander aga...</td>\n",
       "      <td>bannai, n.|fisher, r. b.|agathos, a.</td>\n",
       "      <td>[4666, 670f7376-cd3d-4eb5-8a57-736d6c988f42, 6...</td>\n",
       "    </tr>\n",
       "    <tr>\n",
       "      <th>2fdf828d-62a7-48f0-bd3e-403e20735174</th>\n",
       "      <td>2010</td>\n",
       "      <td>moa johansson|lucas dixon|alan bundy</td>\n",
       "      <td>johansson, m.|dixon, l. |bundy, a.</td>\n",
       "      <td>[5545, 414, bfb547ed-a4df-4a6c-b1be-8ecd9b13419f]</td>\n",
       "    </tr>\n",
       "    <tr>\n",
       "      <th>46253c7e-fc72-49a0-b7b2-c375d71969ee</th>\n",
       "      <td>2013</td>\n",
       "      <td>r. kumar|a. martinez|a. gonzalez</td>\n",
       "      <td>kumar, r.|martinez, a. |gonzalez, a.</td>\n",
       "      <td>[eb085c28-d4a0-4d51-83e8-881a148e7fff, 1453, 3...</td>\n",
       "    </tr>\n",
       "    <tr>\n",
       "      <th>6b3f3c93-53e1-42b2-be11-66a7cede3a57</th>\n",
       "      <td>2016</td>\n",
       "      <td>roly perera|julien lange|simon j. gay</td>\n",
       "      <td>perera, r.|lange, j. |gay, s. j.</td>\n",
       "      <td>[e76a7c40-a177-4eb5-9ac3-12ab104895f8, 6456, 2...</td>\n",
       "    </tr>\n",
       "    <tr>\n",
       "      <th>4481a8b4-22ed-42f5-801a-c0cf515e70d0</th>\n",
       "      <td>1991</td>\n",
       "      <td>peter dayan|jon oberlander</td>\n",
       "      <td>dayan, p. |oberlander, j.</td>\n",
       "      <td>[360, 102286ee-5f21-4aed-abfd-e4ea1a615223]</td>\n",
       "    </tr>\n",
       "  </tbody>\n",
       "</table>\n",
       "</div>"
      ],
      "text/plain": [
       "                                      year  \\\n",
       "pub_id                                       \n",
       "400818dc-63af-4a26-80c5-906f98e1f8ab  1989   \n",
       "18b1a861-afef-4fff-bc80-d02e05be18c4  2013   \n",
       "309fdbfc-227b-4588-9264-f0f4e3cadfcb  1994   \n",
       "d5814bab-5fc2-4c31-92b7-543c7ce75cb4  2012   \n",
       "880944d3-26db-4003-9186-130bf3202941  2014   \n",
       "57881982-3f10-4035-9dfb-9e76dcfbc00d  2007   \n",
       "2fdf828d-62a7-48f0-bd3e-403e20735174  2010   \n",
       "46253c7e-fc72-49a0-b7b2-c375d71969ee  2013   \n",
       "6b3f3c93-53e1-42b2-be11-66a7cede3a57  2016   \n",
       "4481a8b4-22ed-42f5-801a-c0cf515e70d0  1991   \n",
       "\n",
       "                                                                                authors  \\\n",
       "pub_id                                                                                    \n",
       "400818dc-63af-4a26-80c5-906f98e1f8ab  d.p. o'brien|r. galvao|m. keilhacker|e. lazzar...   \n",
       "18b1a861-afef-4fff-bc80-d02e05be18c4                   paolo guagliardo|piotr wieczorek   \n",
       "309fdbfc-227b-4588-9264-f0f4e3cadfcb    p. buneman|l. libkin|d. suciu|v. tannen|l. wong   \n",
       "d5814bab-5fc2-4c31-92b7-543c7ce75cb4  p.l. de leon|m. pucher|j. yamagishi|i. hernaez...   \n",
       "880944d3-26db-4003-9186-130bf3202941  navid nikaein|mahesh k. marina|saravana manick...   \n",
       "57881982-3f10-4035-9dfb-9e76dcfbc00d  nobuyuki bannai|robert b. fisher|alexander aga...   \n",
       "2fdf828d-62a7-48f0-bd3e-403e20735174               moa johansson|lucas dixon|alan bundy   \n",
       "46253c7e-fc72-49a0-b7b2-c375d71969ee                   r. kumar|a. martinez|a. gonzalez   \n",
       "6b3f3c93-53e1-42b2-be11-66a7cede3a57              roly perera|julien lange|simon j. gay   \n",
       "4481a8b4-22ed-42f5-801a-c0cf515e70d0                         peter dayan|jon oberlander   \n",
       "\n",
       "                                                                             shortnames  \\\n",
       "pub_id                                                                                    \n",
       "400818dc-63af-4a26-80c5-906f98e1f8ab  brien, d. p.|galvao, r.|keilhacker, m.|lazzaro...   \n",
       "18b1a861-afef-4fff-bc80-d02e05be18c4                       guagliardo, p.|wieczorek, p.   \n",
       "309fdbfc-227b-4588-9264-f0f4e3cadfcb  buneman, p.|libkin, l.|suciu, d.|tannen, v. |w...   \n",
       "d5814bab-5fc2-4c31-92b7-543c7ce75cb4  leon, p. l.|pucher, m.|yamagishi, j.|hernaez, ...   \n",
       "880944d3-26db-4003-9186-130bf3202941  nikaein, n.|marina, m. k.|manickam, s.|dawson,...   \n",
       "57881982-3f10-4035-9dfb-9e76dcfbc00d               bannai, n.|fisher, r. b.|agathos, a.   \n",
       "2fdf828d-62a7-48f0-bd3e-403e20735174                 johansson, m.|dixon, l. |bundy, a.   \n",
       "46253c7e-fc72-49a0-b7b2-c375d71969ee               kumar, r.|martinez, a. |gonzalez, a.   \n",
       "6b3f3c93-53e1-42b2-be11-66a7cede3a57                   perera, r.|lange, j. |gay, s. j.   \n",
       "4481a8b4-22ed-42f5-801a-c0cf515e70d0                          dayan, p. |oberlander, j.   \n",
       "\n",
       "                                                                              collab_id  \n",
       "pub_id                                                                                   \n",
       "400818dc-63af-4a26-80c5-906f98e1f8ab  [324, 1942, 560, 5635, 5099, a78a09b5-138e-407...  \n",
       "18b1a861-afef-4fff-bc80-d02e05be18c4       [653c9723-b374-4ad3-9cef-0f7e7f45d812, 4953]  \n",
       "309fdbfc-227b-4588-9264-f0f4e3cadfcb  [90396347-473b-4fba-8b1d-a1d25ea18b6b, a22b33f...  \n",
       "d5814bab-5fc2-4c31-92b7-543c7ce75cb4  [1180, 5318, 4d11a99a-0d04-42f4-8089-d433a57c2...  \n",
       "880944d3-26db-4003-9186-130bf3202941  [3859, 06760916-edca-488e-93da-baff6204a453, 2...  \n",
       "57881982-3f10-4035-9dfb-9e76dcfbc00d  [4666, 670f7376-cd3d-4eb5-8a57-736d6c988f42, 6...  \n",
       "2fdf828d-62a7-48f0-bd3e-403e20735174  [5545, 414, bfb547ed-a4df-4a6c-b1be-8ecd9b13419f]  \n",
       "46253c7e-fc72-49a0-b7b2-c375d71969ee  [eb085c28-d4a0-4d51-83e8-881a148e7fff, 1453, 3...  \n",
       "6b3f3c93-53e1-42b2-be11-66a7cede3a57  [e76a7c40-a177-4eb5-9ac3-12ab104895f8, 6456, 2...  \n",
       "4481a8b4-22ed-42f5-801a-c0cf515e70d0        [360, 102286ee-5f21-4aed-abfd-e4ea1a615223]  "
      ]
     },
     "execution_count": 36,
     "metadata": {},
     "output_type": "execute_result"
    }
   ],
   "source": [
    "lookup_pub.head(10)"
   ]
  },
  {
   "cell_type": "code",
   "execution_count": 37,
   "metadata": {
    "ExecuteTime": {
     "end_time": "2017-12-17T01:20:59.011416Z",
     "start_time": "2017-12-17T01:20:59.003704Z"
    }
   },
   "outputs": [],
   "source": [
    "# Create egelist\n",
    "from itertools import product\n",
    "\n",
    "\n",
    "def generateEdges(ids):\n",
    "    products = product(ids, ids)\n",
    "    differentPairs = []\n",
    "    for (i, v) in products:\n",
    "        if i != v and (v, i) not in differentPairs:\n",
    "            differentPairs.append((i, v))\n",
    "    return differentPairs"
   ]
  },
  {
   "cell_type": "code",
   "execution_count": 38,
   "metadata": {
    "ExecuteTime": {
     "end_time": "2017-12-17T01:21:02.424940Z",
     "start_time": "2017-12-17T01:21:01.933419Z"
    }
   },
   "outputs": [],
   "source": [
    "lookup_pub['edges'] = lookup_pub.apply(lambda row: generateEdges(row.collab_id), axis=1)"
   ]
  },
  {
   "cell_type": "code",
   "execution_count": 39,
   "metadata": {
    "ExecuteTime": {
     "end_time": "2017-12-17T01:21:02.440317Z",
     "start_time": "2017-12-17T01:21:02.430454Z"
    }
   },
   "outputs": [
    {
     "data": {
      "text/plain": [
       "\"d.p. o'brien|r. galvao|m. keilhacker|e. lazzaro|m.l. watkins|c.m. bishop\""
      ]
     },
     "execution_count": 39,
     "metadata": {},
     "output_type": "execute_result"
    }
   ],
   "source": [
    "lookup_pub.iloc[0].authors"
   ]
  },
  {
   "cell_type": "code",
   "execution_count": 40,
   "metadata": {
    "ExecuteTime": {
     "end_time": "2017-12-17T01:21:02.458264Z",
     "start_time": "2017-12-17T01:21:02.446458Z"
    }
   },
   "outputs": [
    {
     "data": {
      "text/plain": [
       "[(324, 1942),\n",
       " (324, 560),\n",
       " (324, 5635),\n",
       " (324, 5099),\n",
       " (324, 'a78a09b5-138e-407e-8c09-34414853eb20'),\n",
       " (1942, 560),\n",
       " (1942, 5635),\n",
       " (1942, 5099),\n",
       " (1942, 'a78a09b5-138e-407e-8c09-34414853eb20'),\n",
       " (560, 5635),\n",
       " (560, 5099),\n",
       " (560, 'a78a09b5-138e-407e-8c09-34414853eb20'),\n",
       " (5635, 5099),\n",
       " (5635, 'a78a09b5-138e-407e-8c09-34414853eb20'),\n",
       " (5099, 'a78a09b5-138e-407e-8c09-34414853eb20')]"
      ]
     },
     "execution_count": 40,
     "metadata": {},
     "output_type": "execute_result"
    }
   ],
   "source": [
    "lookup_pub.iloc[0].edges"
   ]
  },
  {
   "cell_type": "code",
   "execution_count": 41,
   "metadata": {
    "ExecuteTime": {
     "end_time": "2017-12-17T01:21:02.586809Z",
     "start_time": "2017-12-17T01:21:02.463991Z"
    }
   },
   "outputs": [],
   "source": [
    "# Write the dataset to csv file for portability:\n",
    "lookup_pub.to_csv(path_or_buf='../data/lookup_pub.csv',header=True,index=True,index_label='pub_id')"
   ]
  },
  {
   "cell_type": "code",
   "execution_count": 42,
   "metadata": {
    "ExecuteTime": {
     "end_time": "2017-12-17T01:21:02.806270Z",
     "start_time": "2017-12-17T01:21:02.592092Z"
    }
   },
   "outputs": [],
   "source": [
    "lookup_pub.to_pickle(path='../data/lookup_pub.pkl')"
   ]
  }
 ],
 "metadata": {
  "kernelspec": {
   "display_name": "Python 2",
   "language": "python",
   "name": "python2"
  },
  "language_info": {
   "codemirror_mode": {
    "name": "ipython",
    "version": 2
   },
   "file_extension": ".py",
   "mimetype": "text/x-python",
   "name": "python",
   "nbconvert_exporter": "python",
   "pygments_lexer": "ipython2",
   "version": "2.7.14"
  },
  "notify_time": "10",
  "toc": {
   "nav_menu": {},
   "number_sections": false,
   "sideBar": true,
   "skip_h1_title": false,
   "title_cell": "Table of Contents",
   "title_sidebar": "Contents",
   "toc_cell": true,
   "toc_position": {},
   "toc_section_display": false,
   "toc_window_display": true
  },
  "varInspector": {
   "cols": {
    "lenName": 16,
    "lenType": 16,
    "lenVar": 40
   },
   "kernels_config": {
    "python": {
     "delete_cmd_postfix": "",
     "delete_cmd_prefix": "del ",
     "library": "var_list.py",
     "varRefreshCmd": "print(var_dic_list())"
    },
    "r": {
     "delete_cmd_postfix": ") ",
     "delete_cmd_prefix": "rm(",
     "library": "var_list.r",
     "varRefreshCmd": "cat(var_dic_list()) "
    }
   },
   "types_to_exclude": [
    "module",
    "function",
    "builtin_function_or_method",
    "instance",
    "_Feature"
   ],
   "window_display": false
  }
 },
 "nbformat": 4,
 "nbformat_minor": 2
}
