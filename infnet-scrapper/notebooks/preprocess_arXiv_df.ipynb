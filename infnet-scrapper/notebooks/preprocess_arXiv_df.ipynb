{
 "cells": [
  {
   "cell_type": "markdown",
   "metadata": {},
   "source": [
    "# Preprocess metadata from `arXiv.org`"
   ]
  },
  {
   "cell_type": "code",
   "execution_count": 2,
   "metadata": {
    "ExecuteTime": {
     "end_time": "2018-01-20T00:39:41.794497Z",
     "start_time": "2018-01-20T00:39:41.495370Z"
    }
   },
   "outputs": [],
   "source": [
    "import pandas as pd \n",
    "import gzip as gz"
   ]
  },
  {
   "cell_type": "code",
   "execution_count": 3,
   "metadata": {
    "ExecuteTime": {
     "end_time": "2018-01-20T00:54:00.438489Z",
     "start_time": "2018-01-20T00:54:00.435036Z"
    }
   },
   "outputs": [],
   "source": [
    "import os\n",
    "DATA_DIR = '../data_arXiv/cs'\n",
    "STORE_DIR = DATA_DIR + \"/BY_YEAR\""
   ]
  },
  {
   "cell_type": "code",
   "execution_count": 12,
   "metadata": {
    "ExecuteTime": {
     "end_time": "2018-01-20T01:49:35.385297Z",
     "start_time": "2018-01-20T01:48:32.908588Z"
    },
    "scrolled": false
   },
   "outputs": [
    {
     "name": "stdout",
     "output_type": "stream",
     "text": [
      "2001\n",
      "2002\n",
      "2004\n",
      "2005\n",
      "2006\n",
      "2007\n",
      "2008\n",
      "2009\n",
      "2010\n",
      "2011\n",
      "2012\n",
      "2013\n",
      "2014\n",
      "2015\n",
      "2016\n",
      "2017\n",
      "2018\n"
     ]
    }
   ],
   "source": [
    "try:\n",
    "    os.mkdir(STORE_DIR)\n",
    "except:\n",
    "    pass\n",
    "\n",
    "years = []\n",
    "df = pd.DataFrame()\n",
    "\n",
    "for zipfile in sorted(os.listdir(DATA_DIR)):\n",
    "    try:\n",
    "        year = int(zipfile[:4])\n",
    "    except ValueError:\n",
    "        df.to_pickle(STORE_DIR + \"/\" + str(years[-1]))\n",
    "        print(years[-1])\n",
    "        break\n",
    "\n",
    "    if len(years) == 0:\n",
    "        years.append(year)\n",
    "        \n",
    "    if year not in years:\n",
    "        # Store the file\n",
    "        df.to_pickle(STORE_DIR + \"/\" + str(years[-1]))\n",
    "        print(years[-1])\n",
    "        df = pd.DataFrame()\n",
    "        years.append(year)\n",
    "\n",
    "    with gz.open(DATA_DIR + \"/\" + zipfile, 'rb') as f:\n",
    "        _df = pd.read_csv(\n",
    "            f,\n",
    "            sep='\\t',\n",
    "            header=None,\n",
    "            names=['arXiv_id', 'categories', 'authors', 'title', 'abstract'])\n",
    "        df = df.append(_df,ignore_index=True)"
   ]
  },
  {
   "cell_type": "code",
   "execution_count": 15,
   "metadata": {
    "ExecuteTime": {
     "end_time": "2018-01-20T01:51:29.871255Z",
     "start_time": "2018-01-20T01:51:29.863900Z"
    }
   },
   "outputs": [],
   "source": [
    "df = pd.read_pickle(STORE_DIR + \"/\" + str(2013))"
   ]
  },
  {
   "cell_type": "code",
   "execution_count": 17,
   "metadata": {
    "ExecuteTime": {
     "end_time": "2018-01-20T01:51:40.151449Z",
     "start_time": "2018-01-20T01:51:40.101024Z"
    }
   },
   "outputs": [
    {
     "data": {
      "text/html": [
       "<div>\n",
       "<style scoped>\n",
       "    .dataframe tbody tr th:only-of-type {\n",
       "        vertical-align: middle;\n",
       "    }\n",
       "\n",
       "    .dataframe tbody tr th {\n",
       "        vertical-align: top;\n",
       "    }\n",
       "\n",
       "    .dataframe thead th {\n",
       "        text-align: right;\n",
       "    }\n",
       "</style>\n",
       "<table border=\"1\" class=\"dataframe\">\n",
       "  <thead>\n",
       "    <tr style=\"text-align: right;\">\n",
       "      <th></th>\n",
       "      <th>arXiv_id</th>\n",
       "      <th>categories</th>\n",
       "      <th>authors</th>\n",
       "      <th>title</th>\n",
       "      <th>abstract</th>\n",
       "    </tr>\n",
       "  </thead>\n",
       "  <tbody>\n",
       "    <tr>\n",
       "      <th>0</th>\n",
       "      <td>1301.0079</td>\n",
       "      <td>cs.IT math.IT</td>\n",
       "      <td>Kaspi+Yonatan|Merhav+Neri</td>\n",
       "      <td>Zero-Delay and Causal Single-User and Multi-Us...</td>\n",
       "      <td>We consider zero-delay single-user and multi-u...</td>\n",
       "    </tr>\n",
       "    <tr>\n",
       "      <th>1</th>\n",
       "      <td>1301.0080</td>\n",
       "      <td>cs.IT math.IT</td>\n",
       "      <td>Xing+Chengwen|Li+Shuo|Fei+Zesong|Kuang+Jingming</td>\n",
       "      <td>How to Understand LMMSE Transceiver Design for...</td>\n",
       "      <td>In this paper , a unified linear minimum mean-...</td>\n",
       "    </tr>\n",
       "    <tr>\n",
       "      <th>2</th>\n",
       "      <td>1301.0082</td>\n",
       "      <td>cs.LG cs.DC</td>\n",
       "      <td>Catak+F. Ozgur|Balaban+M. Erdal</td>\n",
       "      <td>CloudSVM : Training an SVM Classifier in Cloud...</td>\n",
       "      <td>In conventional method , distributed support v...</td>\n",
       "    </tr>\n",
       "  </tbody>\n",
       "</table>\n",
       "</div>"
      ],
      "text/plain": [
       "    arXiv_id     categories                                          authors  \\\n",
       "0  1301.0079  cs.IT math.IT                        Kaspi+Yonatan|Merhav+Neri   \n",
       "1  1301.0080  cs.IT math.IT  Xing+Chengwen|Li+Shuo|Fei+Zesong|Kuang+Jingming   \n",
       "2  1301.0082    cs.LG cs.DC                  Catak+F. Ozgur|Balaban+M. Erdal   \n",
       "\n",
       "                                               title  \\\n",
       "0  Zero-Delay and Causal Single-User and Multi-Us...   \n",
       "1  How to Understand LMMSE Transceiver Design for...   \n",
       "2  CloudSVM : Training an SVM Classifier in Cloud...   \n",
       "\n",
       "                                            abstract  \n",
       "0  We consider zero-delay single-user and multi-u...  \n",
       "1  In this paper , a unified linear minimum mean-...  \n",
       "2  In conventional method , distributed support v...  "
      ]
     },
     "execution_count": 17,
     "metadata": {},
     "output_type": "execute_result"
    }
   ],
   "source": [
    "df.head(3)"
   ]
  },
  {
   "cell_type": "code",
   "execution_count": 19,
   "metadata": {},
   "outputs": [
    {
     "name": "stdout",
     "output_type": "stream",
     "text": [
      "<class 'pandas.core.frame.DataFrame'>\n",
      "RangeIndex: 12838 entries, 0 to 12837\n",
      "Data columns (total 5 columns):\n",
      "arXiv_id      12838 non-null float64\n",
      "categories    12838 non-null object\n",
      "authors       12838 non-null object\n",
      "title         12838 non-null object\n",
      "abstract      12838 non-null object\n",
      "dtypes: float64(1), object(4)\n",
      "memory usage: 501.6+ KB\n"
     ]
    }
   ],
   "source": [
    "df.info()"
   ]
  },
  {
   "cell_type": "code",
   "execution_count": null,
   "metadata": {},
   "outputs": [],
   "source": []
  }
 ],
 "metadata": {
  "kernelspec": {
   "display_name": "Python 3",
   "language": "python",
   "name": "python3"
  },
  "language_info": {
   "codemirror_mode": {
    "name": "ipython",
    "version": 3
   },
   "file_extension": ".py",
   "mimetype": "text/x-python",
   "name": "python",
   "nbconvert_exporter": "python",
   "pygments_lexer": "ipython3",
   "version": "3.6.4"
  },
  "toc": {
   "nav_menu": {},
   "number_sections": true,
   "sideBar": true,
   "skip_h1_title": false,
   "title_cell": "Table of Contents",
   "title_sidebar": "Contents",
   "toc_cell": false,
   "toc_position": {
    "height": "calc(100% - 180px)",
    "left": "10px",
    "top": "150px",
    "width": "166px"
   },
   "toc_section_display": true,
   "toc_window_display": true
  },
  "varInspector": {
   "cols": {
    "lenName": 16,
    "lenType": 16,
    "lenVar": 40
   },
   "kernels_config": {
    "python": {
     "delete_cmd_postfix": "",
     "delete_cmd_prefix": "del ",
     "library": "var_list.py",
     "varRefreshCmd": "print(var_dic_list())"
    },
    "r": {
     "delete_cmd_postfix": ") ",
     "delete_cmd_prefix": "rm(",
     "library": "var_list.r",
     "varRefreshCmd": "cat(var_dic_list()) "
    }
   },
   "types_to_exclude": [
    "module",
    "function",
    "builtin_function_or_method",
    "instance",
    "_Feature"
   ],
   "window_display": false
  }
 },
 "nbformat": 4,
 "nbformat_minor": 2
}
