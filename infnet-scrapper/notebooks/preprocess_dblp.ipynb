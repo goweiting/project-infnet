{
 "cells": [
  {
   "cell_type": "markdown",
   "metadata": {},
   "source": [
    "# Pre-procesing DBLP dataset\n",
    "\n",
    "Aim: using `dblp` dataset for 'transfer learning'. \n",
    "\n",
    "[DBLP dataset scrapped by aminer.org](https://aminer.org/citation); includes abstract too, although some might not have them.\n"
   ]
  },
  {
   "cell_type": "code",
   "execution_count": 2,
   "metadata": {
    "ExecuteTime": {
     "end_time": "2018-01-23T22:36:14.601164Z",
     "start_time": "2018-01-23T22:36:11.218292Z"
    }
   },
   "outputs": [],
   "source": [
    "import json\n",
    "import pandas as pd\n",
    "import os"
   ]
  },
  {
   "cell_type": "code",
   "execution_count": null,
   "metadata": {
    "ExecuteTime": {
     "end_time": "2018-01-23T19:46:22.478511Z",
     "start_time": "2018-01-23T19:46:22.476013Z"
    }
   },
   "outputs": [],
   "source": [
    "REQUIRED_FILEDS = frozenset(['authors','abstract','references','id','year','title','venue'])\n",
    "\n",
    "def dblp_format(dct):\n",
    "    \"\"\"\n",
    "    Object hook to ensure that all the publications are of the same sort:\n",
    "    -authors\n",
    "    -abstract\n",
    "    -references\n",
    "    -title\n",
    "    -venue\n",
    "    -year\n",
    "    -id\n",
    "    \"\"\"\n",
    "    # Ensure that all the required fields exists; otherwise, pad it with \"\"\n",
    "    fields = set(dct.keys())\n",
    "    lacking = REQUIRED_FILEDS.difference(fields)\n",
    "    #     print(lacking)\n",
    "    for i in list(lacking):\n",
    "        dct[i] = \"\"\n",
    "\n",
    "    # wrap so that no erros from pandas when coercing in DF\n",
    "    out = {\n",
    "        'authors': pd.Series(dct['authors']),\n",
    "        'abstract': dct['abstract'],\n",
    "        'references':pd.Series(dct['references']), \n",
    "        'id': dct['id'],\n",
    "        'year': dct['year'],\n",
    "        'title': dct['title'],\n",
    "        'venue': dct['venue']\n",
    "    }\n",
    "    return out"
   ]
  },
  {
   "cell_type": "code",
   "execution_count": 3,
   "metadata": {
    "ExecuteTime": {
     "end_time": "2018-01-23T22:55:13.903392Z",
     "start_time": "2018-01-23T22:36:30.406312Z"
    },
    "scrolled": true
   },
   "outputs": [
    {
     "name": "stdout",
     "output_type": "stream",
     "text": [
      "../data_dblp/dblp-ref/dblp-ref-0.json\n",
      "../data_dblp/dblp-ref/dblp-ref-1.json\n",
      "../data_dblp/dblp-ref/dblp-ref-2.json\n",
      "../data_dblp/dblp-ref/dblp-ref-3.json\n"
     ]
    },
    {
     "data": {
      "text/html": [
       "<div>\n",
       "<style scoped>\n",
       "    .dataframe tbody tr th:only-of-type {\n",
       "        vertical-align: middle;\n",
       "    }\n",
       "\n",
       "    .dataframe tbody tr th {\n",
       "        vertical-align: top;\n",
       "    }\n",
       "\n",
       "    .dataframe thead th {\n",
       "        text-align: right;\n",
       "    }\n",
       "</style>\n",
       "<table border=\"1\" class=\"dataframe\">\n",
       "  <thead>\n",
       "    <tr style=\"text-align: right;\">\n",
       "      <th></th>\n",
       "      <th>abstract</th>\n",
       "      <th>authors</th>\n",
       "      <th>id</th>\n",
       "      <th>references</th>\n",
       "      <th>title</th>\n",
       "      <th>venue</th>\n",
       "      <th>year</th>\n",
       "    </tr>\n",
       "  </thead>\n",
       "  <tbody>\n",
       "    <tr>\n",
       "      <th>0</th>\n",
       "      <td>The purpose of this study is to develop a lear...</td>\n",
       "      <td>[Makoto Satoh, Ryo Muramatsu, Mizue Kayama, Ka...</td>\n",
       "      <td>00127ee2-cb05-48ce-bc49-9de556b93346</td>\n",
       "      <td>[51c7e02e-f5ed-431a-8cf5-f761f266d4be, 69b625b...</td>\n",
       "      <td>Preliminary Design of a Network Protocol Learn...</td>\n",
       "      <td>international conference on human-computer int...</td>\n",
       "      <td>2013</td>\n",
       "    </tr>\n",
       "    <tr>\n",
       "      <th>1</th>\n",
       "      <td>This paper describes the design and implementa...</td>\n",
       "      <td>[Gareth Beale, Graeme Earl]</td>\n",
       "      <td>001c58d3-26ad-46b3-ab3a-c1e557d16821</td>\n",
       "      <td>[10482dd3-4642-4193-842f-85f3b70fcf65, 3133714...</td>\n",
       "      <td>A methodology for the physically accurate visu...</td>\n",
       "      <td>visual analytics science and technology</td>\n",
       "      <td>2011</td>\n",
       "    </tr>\n",
       "    <tr>\n",
       "      <th>2</th>\n",
       "      <td>This article applied GARCH model instead AR or...</td>\n",
       "      <td>[Altaf Hossain, Faisal Zaman, Mohammed Nasser,...</td>\n",
       "      <td>001c8744-73c4-4b04-9364-22d31a10dbf1</td>\n",
       "      <td>[2d84c0f2-e656-4ce7-b018-90eda1c132fe, a083a1b...</td>\n",
       "      <td>Comparison of GARCH, Neural Network and Suppor...</td>\n",
       "      <td>pattern recognition and machine intelligence</td>\n",
       "      <td>2009</td>\n",
       "    </tr>\n",
       "    <tr>\n",
       "      <th>3</th>\n",
       "      <td>NaN</td>\n",
       "      <td>[Jea-Bum Park, Byungmok Kim, Jian Shen, Sun-Yo...</td>\n",
       "      <td>00338203-9eb3-40c5-9f31-cbac73a519ec</td>\n",
       "      <td>[8c78e4b0-632b-4293-b491-85b1976675e6, 9cdc54f...</td>\n",
       "      <td>Development of Remote Monitoring and Control D...</td>\n",
       "      <td></td>\n",
       "      <td>2011</td>\n",
       "    </tr>\n",
       "    <tr>\n",
       "      <th>4</th>\n",
       "      <td>NaN</td>\n",
       "      <td>[Giovanna Guerrini, Isabella Merlo]</td>\n",
       "      <td>0040b022-1472-4f70-a753-74832df65266</td>\n",
       "      <td>NaN</td>\n",
       "      <td>Reasonig about Set-Oriented Methods in Object ...</td>\n",
       "      <td></td>\n",
       "      <td>1998</td>\n",
       "    </tr>\n",
       "    <tr>\n",
       "      <th>5</th>\n",
       "      <td>NaN</td>\n",
       "      <td>[Rafael Álvarez, Leandro Tortosa, José-Francis...</td>\n",
       "      <td>005ce28f-ed77-4e97-afdc-a296137186a1</td>\n",
       "      <td>NaN</td>\n",
       "      <td>COMPARING GNG3D AND QUADRIC ERROR METRICS METH...</td>\n",
       "      <td>international conference on computer graphics ...</td>\n",
       "      <td>2009</td>\n",
       "    </tr>\n",
       "    <tr>\n",
       "      <th>6</th>\n",
       "      <td>NaN</td>\n",
       "      <td>[Jovan Dj. Golic, Guglielmo Morgari]</td>\n",
       "      <td>00638a94-23bf-4fa6-b5ce-40d799c65da7</td>\n",
       "      <td>NaN</td>\n",
       "      <td>Vectorial fast correlation attacks.</td>\n",
       "      <td></td>\n",
       "      <td>2004</td>\n",
       "    </tr>\n",
       "    <tr>\n",
       "      <th>7</th>\n",
       "      <td>NaN</td>\n",
       "      <td>[Guzin Ulutas, Mustafa Ulutas, Vasif V. Nabiyev]</td>\n",
       "      <td>00701b05-684f-45f9-b281-425abfec482c</td>\n",
       "      <td>[5626736c-e434-4e2d-8405-54940fab88ab, 8e87e87...</td>\n",
       "      <td>Improved Secret Image Sharing Method By Encodi...</td>\n",
       "      <td>international symposium on computer and inform...</td>\n",
       "      <td>2011</td>\n",
       "    </tr>\n",
       "    <tr>\n",
       "      <th>8</th>\n",
       "      <td>NaN</td>\n",
       "      <td>[Pranay Chaudhuri, Hussein Thompson]</td>\n",
       "      <td>00745041-3636-4d18-bbec-783c4278c40d</td>\n",
       "      <td>NaN</td>\n",
       "      <td>A Self-Stabilizing Algorithm for Finding the C...</td>\n",
       "      <td>parallel and distributed processing techniques...</td>\n",
       "      <td>2003</td>\n",
       "    </tr>\n",
       "    <tr>\n",
       "      <th>9</th>\n",
       "      <td>NaN</td>\n",
       "      <td>[Dominik Szajerman, Adam Jurczyński]</td>\n",
       "      <td>00964544-cbe2-4da9-bb5a-03333160eb34</td>\n",
       "      <td>[3fcd7cdc-20e6-4ea3-a41c-db126fcc5cfe, bf3a11c...</td>\n",
       "      <td>Fur Visualisation for Computer Game Engines an...</td>\n",
       "      <td>international conference on computer vision an...</td>\n",
       "      <td>2014</td>\n",
       "    </tr>\n",
       "    <tr>\n",
       "      <th>10</th>\n",
       "      <td>Recent achievements in Natural Language Proces...</td>\n",
       "      <td>[Ankita Brahmachari, Priya Singh, Avdhesh Garg...</td>\n",
       "      <td>00a119c4-d367-4607-b3c8-b237f2971bff</td>\n",
       "      <td>[84d47128-58d0-4187-aa44-389fde7d5c83, e0dce69...</td>\n",
       "      <td>Identifying Psychological Theme Words from Emo...</td>\n",
       "      <td></td>\n",
       "      <td>2013</td>\n",
       "    </tr>\n",
       "    <tr>\n",
       "      <th>11</th>\n",
       "      <td>NaN</td>\n",
       "      <td>[David Al-Dabass, Christopher Goodwin, K. Siva...</td>\n",
       "      <td>00ba1eb4-d1aa-4587-892b-d9dcc38c1a78</td>\n",
       "      <td>NaN</td>\n",
       "      <td>Simulation of a vision steering system for roa...</td>\n",
       "      <td></td>\n",
       "      <td>1995</td>\n",
       "    </tr>\n",
       "    <tr>\n",
       "      <th>12</th>\n",
       "      <td>Recently, Bridges and Reich introduced the con...</td>\n",
       "      <td>[Alvaro L. Islas, Constance M. Schober]</td>\n",
       "      <td>00bcf2d5-1592-46b0-81fd-933f90b5ecca</td>\n",
       "      <td>[]</td>\n",
       "      <td>Multi"
      ],
      "text/plain": [
       "                                                  abstract  \\\n",
       "0        The purpose of this study is to develop a lear...   \n",
       "1        This paper describes the design and implementa...   \n",
       "2        This article applied GARCH model instead AR or...   \n",
       "3                                                      NaN   \n",
       "4                                                      NaN   \n",
       "5                                                      NaN   \n",
       "6                                                      NaN   \n",
       "7                                                      NaN   \n",
       "8                                                      NaN   \n",
       "9                                                      NaN   \n",
       "10       Recent achievements in Natural Language Proces...   \n",
       "11                                                     NaN   \n",
       "12       Recently, Bridges and Reich introduced the con...   \n",
       "13       Most applications of the abstract interpretati...   \n",
       "14       Three speech training systems for hearing-impa...   \n",
       "15                                                     NaN   \n",
       "16       This paper focuses on knowledge engineering fo...   \n",
       "17                                                     NaN   \n",
       "18                                                     NaN   \n",
       "19                                                     NaN   \n",
       "20       Embedded systems often have limited amounts of...   \n",
       "21                                                     NaN   \n",
       "22       Xax is a browser plugin model that enables dev...   \n",
       "23       In recent years, most of mobile phones have a ...   \n",
       "24                                                     NaN   \n",
       "25                                                     NaN   \n",
       "26       Previous language modeling approaches to infor...   \n",
       "27                                                     NaN   \n",
       "28                                                     NaN   \n",
       "29       Spatial encryption is a generic public-key cry...   \n",
       "...                                                    ...   \n",
       "3078977                                                NaN   \n",
       "3078978                                                NaN   \n",
       "3078979                                                NaN   \n",
       "3078980                                                NaN   \n",
       "3078981                                                NaN   \n",
       "3078982                                                NaN   \n",
       "3078983                                                NaN   \n",
       "3078984                                                NaN   \n",
       "3078985                                                NaN   \n",
       "3078986                                                NaN   \n",
       "3078987                                                NaN   \n",
       "3078988                                                NaN   \n",
       "3078989                                                NaN   \n",
       "3078990                                                NaN   \n",
       "3078991                                                NaN   \n",
       "3078992                                                NaN   \n",
       "3078993                                                NaN   \n",
       "3078994                                                NaN   \n",
       "3078995                                                NaN   \n",
       "3078996                                                NaN   \n",
       "3078997                                                NaN   \n",
       "3078998                                                NaN   \n",
       "3078999                                                NaN   \n",
       "3079000                                                NaN   \n",
       "3079001                                                NaN   \n",
       "3079002                                                NaN   \n",
       "3079003                                                NaN   \n",
       "3079004                                                NaN   \n",
       "3079005                                                NaN   \n",
       "3079006                                                NaN   \n",
       "\n",
       "                                                   authors  \\\n",
       "0        [Makoto Satoh, Ryo Muramatsu, Mizue Kayama, Ka...   \n",
       "1                              [Gareth Beale, Graeme Earl]   \n",
       "2        [Altaf Hossain, Faisal Zaman, Mohammed Nasser,...   \n",
       "3        [Jea-Bum Park, Byungmok Kim, Jian Shen, Sun-Yo...   \n",
       "4                      [Giovanna Guerrini, Isabella Merlo]   \n",
       "5        [Rafael Álvarez, Leandro Tortosa, José-Francis...   \n",
       "6                     [Jovan Dj. Golic, Guglielmo Morgari]   \n",
       "7         [Guzin Ulutas, Mustafa Ulutas, Vasif V. Nabiyev]   \n",
       "8                     [Pranay Chaudhuri, Hussein Thompson]   \n",
       "9                     [Dominik Szajerman, Adam Jurczyński]   \n",
       "10       [Ankita Brahmachari, Priya Singh, Avdhesh Garg...   \n",
       "11       [David Al-Dabass, Christopher Goodwin, K. Siva...   \n",
       "12                 [Alvaro L. Islas, Constance M. Schober]   \n",
       "13                         [Patrick Cousot, Radhia Cousot]   \n",
       "14                 [Minoru Shigenaga, Yoshihiro Sekiguchi]   \n",
       "15            [Reiko Heckel, Tom Mens, Michel Wermelinger]   \n",
       "16       [Efthymios Alepis, Maria Virvou, Katerina Kaba...   \n",
       "17       [Milos Zelezný, Petr Císar, Zd"
      ]
     },
     "execution_count": 3,
     "metadata": {},
     "output_type": "execute_result"
    },
    {
     "data": {
      "text/html": [
       "<b>limit_output extension: Maximum message size of 5000 exceeded with 22600 characters</b>"
      ]
     },
     "metadata": {},
     "output_type": "display_data"
    }
   ],
   "source": [
    "df_dblp = pd.DataFrame()\n",
    "_tmp = []\n",
    "for jsonFile in os.listdir('../data_dblp/dblp-ref/'):\n",
    "    num_count = 0\n",
    "    f = '../data_dblp/dblp-ref/' + jsonFile\n",
    "    _tmp.append(pd.read_json(f, lines=True, encoding='utf-8'))\n",
    "    print(f)"
   ]
  },
  {
   "cell_type": "code",
   "execution_count": 6,
   "metadata": {
    "ExecuteTime": {
     "end_time": "2018-01-23T22:57:42.590502Z",
     "start_time": "2018-01-23T22:57:25.979270Z"
    }
   },
   "outputs": [],
   "source": [
    "df_dblp = df_dblp.append(_tmp, ignore_index=True)\n",
    "df_dblp.set_index('id',inplace=True)"
   ]
  },
  {
   "cell_type": "code",
   "execution_count": 9,
   "metadata": {
    "ExecuteTime": {
     "end_time": "2018-01-23T23:14:14.566597Z",
     "start_time": "2018-01-23T23:14:14.021727Z"
    }
   },
   "outputs": [
    {
     "name": "stdout",
     "output_type": "stream",
     "text": [
      "<class 'pandas.core.frame.DataFrame'>\n",
      "Index: 3079007 entries, 00127ee2-cb05-48ce-bc49-9de556b93346 to ff941105-0890-447a-a15f-1623dec0870e\n",
      "Data columns (total 6 columns):\n",
      "abstract      object\n",
      "authors       object\n",
      "references    object\n",
      "title         object\n",
      "venue         object\n",
      "year          int64\n",
      "dtypes: int64(1), object(5)\n",
      "memory usage: 164.4+ MB\n"
     ]
    }
   ],
   "source": [
    "df_dblp.info()"
   ]
  },
  {
   "cell_type": "code",
   "execution_count": 10,
   "metadata": {
    "ExecuteTime": {
     "end_time": "2018-01-23T23:14:53.086173Z",
     "start_time": "2018-01-23T23:14:52.852146Z"
    }
   },
   "outputs": [],
   "source": [
    "gb = df_dblp.groupby('year')"
   ]
  },
  {
   "cell_type": "code",
   "execution_count": 16,
   "metadata": {
    "ExecuteTime": {
     "end_time": "2018-01-24T00:09:37.596084Z",
     "start_time": "2018-01-23T23:28:16.114046Z"
    },
    "collapsed": true
   },
   "outputs": [
    {
     "name": "stdout",
     "output_type": "stream",
     "text": [
      "1936\n",
      "1937\n",
      "1938\n",
      "1939\n",
      "1940\n",
      "1941\n",
      "1942\n",
      "1943\n",
      "1944\n",
      "1945\n",
      "1946\n",
      "1947\n",
      "1948\n",
      "1949\n",
      "1950\n",
      "1951\n",
      "1952\n",
      "1953\n",
      "1954\n",
      "1955\n",
      "1956\n",
      "1957\n",
      "1958\n",
      "1959\n",
      "1960\n",
      "1961\n",
      "1962\n",
      "1963\n",
      "1964\n",
      "1965\n",
      "1966\n",
      "1967\n",
      "1968\n",
      "1969\n",
      "1970\n",
      "1971\n",
      "1972\n",
      "1973\n",
      "1974\n",
      "1975\n",
      "1976\n",
      "1977\n",
      "1978\n",
      "1979\n",
      "1980\n",
      "1981\n",
      "1982\n",
      "1983\n",
      "1984\n",
      "1985\n",
      "1986\n",
      "1987\n",
      "1988\n",
      "1989\n",
      "1990\n",
      "1991\n",
      "1992\n",
      "1993\n",
      "1994\n",
      "1995\n",
      "1996\n",
      "1997\n",
      "1998\n",
      "1999\n",
      "2000\n",
      "2001\n",
      "2002\n",
      "2003\n",
      "2004\n",
      "2005\n",
      "2006\n",
      "2007\n",
      "2008\n",
      "2009\n",
      "2010\n",
      "2011\n",
      "2012\n",
      "2013\n",
      "2014\n",
      "2015\n",
      "2016\n",
      "2017\n",
      "2018\n"
     ]
    }
   ],
   "source": [
    "for (g,df) in gb:\n",
    "    print(g)\n",
    "    df.to_csv(path_or_buf='../data_dblp/'+str(g)+'.gz',compression='gzip')\n",
    "    df.to_pickle('../data_dblp/'+str(g)+'.pkl')"
   ]
  },
  {
   "cell_type": "code",
   "execution_count": null,
   "metadata": {},
   "outputs": [],
   "source": []
  }
 ],
 "metadata": {
  "kernelspec": {
   "display_name": "Python [conda env:infnet3]",
   "language": "python",
   "name": "conda-env-infnet3-py"
  },
  "toc": {
   "nav_menu": {},
   "number_sections": true,
   "sideBar": true,
   "skip_h1_title": false,
   "title_cell": "Table of Contents",
   "title_sidebar": "Contents",
   "toc_cell": false,
   "toc_position": {},
   "toc_section_display": true,
   "toc_window_display": false
  },
  "varInspector": {
   "cols": {
    "lenName": 16,
    "lenType": 16,
    "lenVar": 40
   },
   "kernels_config": {
    "python": {
     "delete_cmd_postfix": "",
     "delete_cmd_prefix": "del ",
     "library": "var_list.py",
     "varRefreshCmd": "print(var_dic_list())"
    },
    "r": {
     "delete_cmd_postfix": ") ",
     "delete_cmd_prefix": "rm(",
     "library": "var_list.r",
     "varRefreshCmd": "cat(var_dic_list()) "
    }
   },
   "oldHeight": 123,
   "position": {
    "height": "439px",
    "left": "870px",
    "right": "63px",
    "top": "145px",
    "width": "536px"
   },
   "types_to_exclude": [
    "module",
    "function",
    "builtin_function_or_method",
    "instance",
    "_Feature"
   ],
   "varInspector_section_display": "block",
   "window_display": false
  }
 },
 "nbformat": 4,
 "nbformat_minor": 2
}
