{
 "cells": [
  {
   "cell_type": "markdown",
   "metadata": {
    "toc": true
   },
   "source": [
    "<h1>Table of Contents<span class=\"tocSkip\"></span></h1>\n",
    "<div class=\"toc\" style=\"margin-top: 1em;\"><ul class=\"toc-item\"><li><span><a href=\"#Preproces-DBLP-dataset-data_dblp\" data-toc-modified-id=\"Preproces-DBLP-dataset-data_dblp-1\"><span class=\"toc-item-num\">1&nbsp;&nbsp;</span>Preproces DBLP dataset <a href=\"../data_dblp\" target=\"_blank\"><code>data_dblp</code></a></a></span><ul class=\"toc-item\"><li><span><a href=\"#Save-DBLP-by-years:\" data-toc-modified-id=\"Save-DBLP-by-years:-1.1\"><span class=\"toc-item-num\">1.1&nbsp;&nbsp;</span>Save DBLP by years:</a></span></li><li><span><a href=\"#Create-summary_toks\" data-toc-modified-id=\"Create-summary_toks-1.2\"><span class=\"toc-item-num\">1.2&nbsp;&nbsp;</span>Create <code>summary_toks</code></a></span></li><li><span><a href=\"#Generate-bigram-and-trigram\" data-toc-modified-id=\"Generate-bigram-and-trigram-1.3\"><span class=\"toc-item-num\">1.3&nbsp;&nbsp;</span>Generate bigram and trigram</a></span></li></ul></li></ul></div>"
   ]
  },
  {
   "cell_type": "markdown",
   "metadata": {},
   "source": [
    "<big style=\"background-color:DodgerBlue;\">data_dblp</big>"
   ]
  },
  {
   "cell_type": "markdown",
   "metadata": {},
   "source": [
    "# Preproces DBLP dataset [`data_dblp`](../data_dblp)\n",
    "\n",
    "Aim: using `dblp` dataset for 'transfer learning'. \n",
    "\n",
    "[DBLP dataset scrapped by aminer.org](https://aminer.org/citation); includes abstract too, although some might not have them.\n"
   ]
  },
  {
   "cell_type": "markdown",
   "metadata": {},
   "source": [
    "## Save DBLP by years:"
   ]
  },
  {
   "cell_type": "code",
   "execution_count": 1,
   "metadata": {
    "ExecuteTime": {
     "end_time": "2018-01-24T21:11:06.900923Z",
     "start_time": "2018-01-24T21:11:06.533690Z"
    }
   },
   "outputs": [],
   "source": [
    "import json\n",
    "import os\n",
    "import pandas as pd"
   ]
  },
  {
   "cell_type": "code",
   "execution_count": 3,
   "metadata": {
    "ExecuteTime": {
     "end_time": "2018-01-23T22:55:13.903392Z",
     "start_time": "2018-01-23T22:36:30.406312Z"
    },
    "collapsed": true,
    "deletable": false,
    "editable": false,
    "run_control": {
     "frozen": true
    }
   },
   "outputs": [
    {
     "name": "stdout",
     "output_type": "stream",
     "text": [
      "../data_dblp/dblp-ref/dblp-ref-0.json\n",
      "../data_dblp/dblp-ref/dblp-ref-1.json\n",
      "../data_dblp/dblp-ref/dblp-ref-2.json\n",
      "../data_dblp/dblp-ref/dblp-ref-3.json\n"
     ]
    },
    {
     "data": {
      "text/html": [
       "<div>\n",
       "<style scoped>\n",
       "    .dataframe tbody tr th:only-of-type {\n",
       "        vertical-align: middle;\n",
       "    }\n",
       "\n",
       "    .dataframe tbody tr th {\n",
       "        vertical-align: top;\n",
       "    }\n",
       "\n",
       "    .dataframe thead th {\n",
       "        text-align: right;\n",
       "    }\n",
       "</style>\n",
       "<table border=\"1\" class=\"dataframe\">\n",
       "  <thead>\n",
       "    <tr style=\"text-align: right;\">\n",
       "      <th></th>\n",
       "      <th>abstract</th>\n",
       "      <th>authors</th>\n",
       "      <th>id</th>\n",
       "      <th>references</th>\n",
       "      <th>title</th>\n",
       "      <th>venue</th>\n",
       "      <th>year</th>\n",
       "    </tr>\n",
       "  </thead>\n",
       "  <tbody>\n",
       "    <tr>\n",
       "      <th>0</th>\n",
       "      <td>The purpose of this study is to develop a lear...</td>\n",
       "      <td>[Makoto Satoh, Ryo Muramatsu, Mizue Kayama, Ka...</td>\n",
       "      <td>00127ee2-cb05-48ce-bc49-9de556b93346</td>\n",
       "      <td>[51c7e02e-f5ed-431a-8cf5-f761f266d4be, 69b625b...</td>\n",
       "      <td>Preliminary Design of a Network Protocol Learn...</td>\n",
       "      <td>international conference on human-computer int...</td>\n",
       "      <td>2013</td>\n",
       "    </tr>\n",
       "    <tr>\n",
       "      <th>1</th>\n",
       "      <td>This paper describes the design and implementa...</td>\n",
       "      <td>[Gareth Beale, Graeme Earl]</td>\n",
       "      <td>001c58d3-26ad-46b3-ab3a-c1e557d16821</td>\n",
       "      <td>[10482dd3-4642-4193-842f-85f3b70fcf65, 3133714...</td>\n",
       "      <td>A methodology for the physically accurate visu...</td>\n",
       "      <td>visual analytics science and technology</td>\n",
       "      <td>2011</td>\n",
       "    </tr>\n",
       "    <tr>\n",
       "      <th>2</th>\n",
       "      <td>This article applied GARCH model instead AR or...</td>\n",
       "      <td>[Altaf Hossain, Faisal Zaman, Mohammed Nasser,...</td>\n",
       "      <td>001c8744-73c4-4b04-9364-22d31a10dbf1</td>\n",
       "      <td>[2d84c0f2-e656-4ce7-b018-90eda1c132fe, a083a1b...</td>\n",
       "      <td>Comparison of GARCH, Neural Network and Suppor...</td>\n",
       "      <td>pattern recognition and machine intelligence</td>\n",
       "      <td>2009</td>\n",
       "    </tr>\n",
       "    <tr>\n",
       "      <th>3</th>\n",
       "      <td>NaN</td>\n",
       "      <td>[Jea-Bum Park, Byungmok Kim, Jian Shen, Sun-Yo...</td>\n",
       "      <td>00338203-9eb3-40c5-9f31-cbac73a519ec</td>\n",
       "      <td>[8c78e4b0-632b-4293-b491-85b1976675e6, 9cdc54f...</td>\n",
       "      <td>Development of Remote Monitoring and Control D...</td>\n",
       "      <td></td>\n",
       "      <td>2011</td>\n",
       "    </tr>\n",
       "    <tr>\n",
       "      <th>4</th>\n",
       "      <td>NaN</td>\n",
       "      <td>[Giovanna Guerrini, Isabella Merlo]</td>\n",
       "      <td>0040b022-1472-4f70-a753-74832df65266</td>\n",
       "      <td>NaN</td>\n",
       "      <td>Reasonig about Set-Oriented Methods in Object ...</td>\n",
       "      <td></td>\n",
       "      <td>1998</td>\n",
       "    </tr>\n",
       "    <tr>\n",
       "      <th>5</th>\n",
       "      <td>NaN</td>\n",
       "      <td>[Rafael Álvarez, Leandro Tortosa, José-Francis...</td>\n",
       "      <td>005ce28f-ed77-4e97-afdc-a296137186a1</td>\n",
       "      <td>NaN</td>\n",
       "      <td>COMPARING GNG3D AND QUADRIC ERROR METRICS METH...</td>\n",
       "      <td>international conference on computer graphics ...</td>\n",
       "      <td>2009</td>\n",
       "    </tr>\n",
       "    <tr>\n",
       "      <th>6</th>\n",
       "      <td>NaN</td>\n",
       "      <td>[Jovan Dj. Golic, Guglielmo Morgari]</td>\n",
       "      <td>00638a94-23bf-4fa6-b5ce-40d799c65da7</td>\n",
       "      <td>NaN</td>\n",
       "      <td>Vectorial fast correlation attacks.</td>\n",
       "      <td></td>\n",
       "      <td>2004</td>\n",
       "    </tr>\n",
       "    <tr>\n",
       "      <th>7</th>\n",
       "      <td>NaN</td>\n",
       "      <td>[Guzin Ulutas, Mustafa Ulutas, Vasif V. Nabiyev]</td>\n",
       "      <td>00701b05-684f-45f9-b281-425abfec482c</td>\n",
       "      <td>[5626736c-e434-4e2d-8405-54940fab88ab, 8e87e87...</td>\n",
       "      <td>Improved Secret Image Sharing Method By Encodi...</td>\n",
       "      <td>international symposium on computer and inform...</td>\n",
       "      <td>2011</td>\n",
       "    </tr>\n",
       "    <tr>\n",
       "      <th>8</th>\n",
       "      <td>NaN</td>\n",
       "      <td>[Pranay Chaudhuri, Hussein Thompson]</td>\n",
       "      <td>00745041-3636-4d18-bbec-783c4278c40d</td>\n",
       "      <td>NaN</td>\n",
       "      <td>A Self-Stabilizing Algorithm for Finding the C...</td>\n",
       "      <td>parallel and distributed processing techniques...</td>\n",
       "      <td>2003</td>\n",
       "    </tr>\n",
       "    <tr>\n",
       "      <th>9</th>\n",
       "      <td>NaN</td>\n",
       "      <td>[Dominik Szajerman, Adam Jurczyński]</td>\n",
       "      <td>00964544-cbe2-4da9-bb5a-03333160eb34</td>\n",
       "      <td>[3fcd7cdc-20e6-4ea3-a41c-db126fcc5cfe, bf3a11c...</td>\n",
       "      <td>Fur Visualisation for Computer Game Engines an...</td>\n",
       "      <td>international conference on computer vision an...</td>\n",
       "      <td>2014</td>\n",
       "    </tr>\n",
       "    <tr>\n",
       "      <th>10</th>\n",
       "      <td>Recent achievements in Natural Language Proces...</td>\n",
       "      <td>[Ankita Brahmachari, Priya Singh, Avdhesh Garg...</td>\n",
       "      <td>00a119c4-d367-4607-b3c8-b237f2971bff</td>\n",
       "      <td>[84d47128-58d0-4187-aa44-389fde7d5c83, e0dce69...</td>\n",
       "      <td>Identifying Psychological Theme Words from Emo...</td>\n",
       "      <td></td>\n",
       "      <td>2013</td>\n",
       "    </tr>\n",
       "    <tr>\n",
       "      <th>11</th>\n",
       "      <td>NaN</td>\n",
       "      <td>[David Al-Dabass, Christopher Goodwin, K. Siva...</td>\n",
       "      <td>00ba1eb4-d1aa-4587-892b-d9dcc38c1a78</td>\n",
       "      <td>NaN</td>\n",
       "      <td>Simulation of a vision steering system for roa...</td>\n",
       "      <td></td>\n",
       "      <td>1995</td>\n",
       "    </tr>\n",
       "    <tr>\n",
       "      <th>12</th>\n",
       "      <td>Recently, Bridges and Reich introduced the con...</td>\n",
       "      <td>[Alvaro L. Islas, Constance M. Schober]</td>\n",
       "      <td>00bcf2d5-1592-46b0-81fd-933f90b5ecca</td>\n",
       "      <td>[]</td>\n",
       "      <td>Multi"
      ],
      "text/plain": [
       "                                                  abstract  \\\n",
       "0        The purpose of this study is to develop a lear...   \n",
       "1        This paper describes the design and implementa...   \n",
       "2        This article applied GARCH model instead AR or...   \n",
       "3                                                      NaN   \n",
       "4                                                      NaN   \n",
       "5                                                      NaN   \n",
       "6                                                      NaN   \n",
       "7                                                      NaN   \n",
       "8                                                      NaN   \n",
       "9                                                      NaN   \n",
       "10       Recent achievements in Natural Language Proces...   \n",
       "11                                                     NaN   \n",
       "12       Recently, Bridges and Reich introduced the con...   \n",
       "13       Most applications of the abstract interpretati...   \n",
       "14       Three speech training systems for hearing-impa...   \n",
       "15                                                     NaN   \n",
       "16       This paper focuses on knowledge engineering fo...   \n",
       "17                                                     NaN   \n",
       "18                                                     NaN   \n",
       "19                                                     NaN   \n",
       "20       Embedded systems often have limited amounts of...   \n",
       "21                                                     NaN   \n",
       "22       Xax is a browser plugin model that enables dev...   \n",
       "23       In recent years, most of mobile phones have a ...   \n",
       "24                                                     NaN   \n",
       "25                                                     NaN   \n",
       "26       Previous language modeling approaches to infor...   \n",
       "27                                                     NaN   \n",
       "28                                                     NaN   \n",
       "29       Spatial encryption is a generic public-key cry...   \n",
       "...                                                    ...   \n",
       "3078977                                                NaN   \n",
       "3078978                                                NaN   \n",
       "3078979                                                NaN   \n",
       "3078980                                                NaN   \n",
       "3078981                                                NaN   \n",
       "3078982                                                NaN   \n",
       "3078983                                                NaN   \n",
       "3078984                                                NaN   \n",
       "3078985                                                NaN   \n",
       "3078986                                                NaN   \n",
       "3078987                                                NaN   \n",
       "3078988                                                NaN   \n",
       "3078989                                                NaN   \n",
       "3078990                                                NaN   \n",
       "3078991                                                NaN   \n",
       "3078992                                                NaN   \n",
       "3078993                                                NaN   \n",
       "3078994                                                NaN   \n",
       "3078995                                                NaN   \n",
       "3078996                                                NaN   \n",
       "3078997                                                NaN   \n",
       "3078998                                                NaN   \n",
       "3078999                                                NaN   \n",
       "3079000                                                NaN   \n",
       "3079001                                                NaN   \n",
       "3079002                                                NaN   \n",
       "3079003                                                NaN   \n",
       "3079004                                                NaN   \n",
       "3079005                                                NaN   \n",
       "3079006                                                NaN   \n",
       "\n",
       "                                                   authors  \\\n",
       "0        [Makoto Satoh, Ryo Muramatsu, Mizue Kayama, Ka...   \n",
       "1                              [Gareth Beale, Graeme Earl]   \n",
       "2        [Altaf Hossain, Faisal Zaman, Mohammed Nasser,...   \n",
       "3        [Jea-Bum Park, Byungmok Kim, Jian Shen, Sun-Yo...   \n",
       "4                      [Giovanna Guerrini, Isabella Merlo]   \n",
       "5        [Rafael Álvarez, Leandro Tortosa, José-Francis...   \n",
       "6                     [Jovan Dj. Golic, Guglielmo Morgari]   \n",
       "7         [Guzin Ulutas, Mustafa Ulutas, Vasif V. Nabiyev]   \n",
       "8                     [Pranay Chaudhuri, Hussein Thompson]   \n",
       "9                     [Dominik Szajerman, Adam Jurczyński]   \n",
       "10       [Ankita Brahmachari, Priya Singh, Avdhesh Garg...   \n",
       "11       [David Al-Dabass, Christopher Goodwin, K. Siva...   \n",
       "12                 [Alvaro L. Islas, Constance M. Schober]   \n",
       "13                         [Patrick Cousot, Radhia Cousot]   \n",
       "14                 [Minoru Shigenaga, Yoshihiro Sekiguchi]   \n",
       "15            [Reiko Heckel, Tom Mens, Michel Wermelinger]   \n",
       "16       [Efthymios Alepis, Maria Virvou, Katerina Kaba...   \n",
       "17       [Milos Zelezný, Petr Císar, Zd"
      ]
     },
     "execution_count": 3,
     "metadata": {},
     "output_type": "execute_result"
    },
    {
     "data": {
      "text/html": [
       "<b>limit_output extension: Maximum message size of 5000 exceeded with 22600 characters</b>"
      ]
     },
     "metadata": {},
     "output_type": "display_data"
    }
   ],
   "source": [
    "## DO NOT RUN THIS UNLESS YOU ARE BUILDING IT AGAIN!!  ##\n",
    "# df_dblp = pd.DataFrame()\n",
    "# _tmp = []\n",
    "# for jsonFile in os.listdir('../data_dblp/dblp-ref/'):\n",
    "#     num_count = 0\n",
    "#     f = '../data_dblp/dblp-ref/' + jsonFile\n",
    "#     _tmp.append(pd.read_json(f, lines=True, encoding='utf-8'))\n",
    "#     print(f)"
   ]
  },
  {
   "cell_type": "code",
   "execution_count": 6,
   "metadata": {
    "ExecuteTime": {
     "end_time": "2018-01-23T22:57:42.590502Z",
     "start_time": "2018-01-23T22:57:25.979270Z"
    }
   },
   "outputs": [],
   "source": [
    "# Create a massive dataframe\n",
    "df_dblp = df_dblp.append(_tmp, ignore_index=True)\n",
    "df_dblp.set_index('id',inplace=True)"
   ]
  },
  {
   "cell_type": "code",
   "execution_count": 9,
   "metadata": {
    "ExecuteTime": {
     "end_time": "2018-01-23T23:14:14.566597Z",
     "start_time": "2018-01-23T23:14:14.021727Z"
    }
   },
   "outputs": [
    {
     "name": "stdout",
     "output_type": "stream",
     "text": [
      "<class 'pandas.core.frame.DataFrame'>\n",
      "Index: 3079007 entries, 00127ee2-cb05-48ce-bc49-9de556b93346 to ff941105-0890-447a-a15f-1623dec0870e\n",
      "Data columns (total 6 columns):\n",
      "abstract      object\n",
      "authors       object\n",
      "references    object\n",
      "title         object\n",
      "venue         object\n",
      "year          int64\n",
      "dtypes: int64(1), object(5)\n",
      "memory usage: 164.4+ MB\n"
     ]
    }
   ],
   "source": [
    "df_dblp.info()"
   ]
  },
  {
   "cell_type": "code",
   "execution_count": 10,
   "metadata": {
    "ExecuteTime": {
     "end_time": "2018-01-23T23:14:53.086173Z",
     "start_time": "2018-01-23T23:14:52.852146Z"
    }
   },
   "outputs": [],
   "source": [
    "# Sort the dataset by year and save it\n",
    "gb = df_dblp.groupby('year')"
   ]
  },
  {
   "cell_type": "code",
   "execution_count": 16,
   "metadata": {
    "ExecuteTime": {
     "end_time": "2018-01-24T00:09:37.596084Z",
     "start_time": "2018-01-23T23:28:16.114046Z"
    },
    "collapsed": true
   },
   "outputs": [
    {
     "name": "stdout",
     "output_type": "stream",
     "text": [
      "1936\n",
      "1937\n",
      "1938\n",
      "1939\n",
      "1940\n",
      "1941\n",
      "1942\n",
      "1943\n",
      "1944\n",
      "1945\n",
      "1946\n",
      "1947\n",
      "1948\n",
      "1949\n",
      "1950\n",
      "1951\n",
      "1952\n",
      "1953\n",
      "1954\n",
      "1955\n",
      "1956\n",
      "1957\n",
      "1958\n",
      "1959\n",
      "1960\n",
      "1961\n",
      "1962\n",
      "1963\n",
      "1964\n",
      "1965\n",
      "1966\n",
      "1967\n",
      "1968\n",
      "1969\n",
      "1970\n",
      "1971\n",
      "1972\n",
      "1973\n",
      "1974\n",
      "1975\n",
      "1976\n",
      "1977\n",
      "1978\n",
      "1979\n",
      "1980\n",
      "1981\n",
      "1982\n",
      "1983\n",
      "1984\n",
      "1985\n",
      "1986\n",
      "1987\n",
      "1988\n",
      "1989\n",
      "1990\n",
      "1991\n",
      "1992\n",
      "1993\n",
      "1994\n",
      "1995\n",
      "1996\n",
      "1997\n",
      "1998\n",
      "1999\n",
      "2000\n",
      "2001\n",
      "2002\n",
      "2003\n",
      "2004\n",
      "2005\n",
      "2006\n",
      "2007\n",
      "2008\n",
      "2009\n",
      "2010\n",
      "2011\n",
      "2012\n",
      "2013\n",
      "2014\n",
      "2015\n",
      "2016\n",
      "2017\n",
      "2018\n"
     ]
    }
   ],
   "source": [
    "for (g,df) in gb:\n",
    "    print(g)\n",
    "    df.to_csv(path_or_buf='../data_dblp/'+str(g)+'.gz',compression='gzip')\n",
    "    df.to_pickle('../data_dblp/'+str(g)+'.pkl')"
   ]
  },
  {
   "cell_type": "markdown",
   "metadata": {},
   "source": [
    "## Create `summary_toks`"
   ]
  },
  {
   "cell_type": "code",
   "execution_count": 2,
   "metadata": {
    "ExecuteTime": {
     "end_time": "2018-01-24T21:11:14.814303Z",
     "start_time": "2018-01-24T21:11:14.226595Z"
    }
   },
   "outputs": [],
   "source": [
    "from preprocess import preprocess # our package with all the lambda functions from NLTK"
   ]
  },
  {
   "cell_type": "code",
   "execution_count": 3,
   "metadata": {
    "ExecuteTime": {
     "end_time": "2018-01-24T21:37:22.390971Z",
     "start_time": "2018-01-24T21:11:32.686468Z"
    },
    "deletable": false,
    "editable": false,
    "run_control": {
     "frozen": true
    }
   },
   "outputs": [
    {
     "name": "stdout",
     "output_type": "stream",
     "text": [
      "1939.pkl\n",
      "1969.pkl\n",
      "1967.pkl\n",
      "2003.pkl\n",
      "1946.pkl\n",
      "2012.pkl\n",
      "1950.pkl\n",
      "1945.pkl\n",
      "1994.pkl\n",
      "1986.pkl\n",
      "1953.pkl\n",
      "2010.pkl\n",
      "2013.pkl\n",
      "1938.pkl\n",
      "1959.pkl\n",
      "1974.pkl\n",
      "1985.pkl\n",
      "1958.pkl\n",
      "1975.pkl\n",
      "1981.pkl\n",
      "1947.pkl\n",
      "2018.pkl\n",
      "1988.pkl\n",
      "1999.pkl\n",
      "1998.pkl\n",
      "1937.pkl\n",
      "2017.pkl\n",
      "1952.pkl\n",
      "2002.pkl\n",
      "2014.pkl\n",
      "1962.pkl\n",
      "1961.pkl\n",
      "2009.pkl\n",
      "1944.pkl\n",
      "1973.pkl\n",
      "1990.pkl\n",
      "2001.pkl\n",
      "1993.pkl\n",
      "2015.pkl\n",
      "1936.pkl\n",
      "1979.pkl\n",
      "1991.pkl\n",
      "1983.pkl\n",
      "2004.pkl\n",
      "1987.pkl\n",
      "2005.pkl\n",
      "1977.pkl\n",
      "1966.pkl\n",
      "1970.pkl\n",
      "1997.pkl\n",
      "1971.pkl\n",
      "2007.pkl\n",
      "1995.pkl\n",
      "1956.pkl\n",
      "1942.pkl\n",
      "1957.pkl\n",
      "1940.pkl\n",
      "1984.pkl\n",
      "1948.pkl\n",
      "1978.pkl\n",
      "1963.pkl\n",
      "1954.pkl\n",
      "1980.pkl\n",
      "1955.pkl\n",
      "1949.pkl\n",
      "1951.pkl\n",
      "1982.pkl\n",
      "2016.pkl\n",
      "1976.pkl\n",
      "2011.pkl\n",
      "1965.pkl\n",
      "1964.pkl\n",
      "1989.pkl\n",
      "1972.pkl\n",
      "1941.pkl\n",
      "1968.pkl\n",
      "1943.pkl\n",
      "1960.pkl\n",
      "2006.pkl\n",
      "1996.pkl\n",
      "1992.pkl\n",
      "2000.pkl\n",
      "2008.pkl\n"
     ]
    }
   ],
   "source": [
    "tmp = []\n",
    "DIR_HEAD = '../data_dblp/'\n",
    "for pklFile in [f for f in os.listdir(DIR_HEAD) if f[-4:] == '.pkl']:\n",
    "    print(pklFile)\n",
    "    _df = pd.read_pickle(DIR_HEAD + pklFile)\n",
    "    _df.fillna('', inplace=True)\n",
    "    _df['summary'] = _df.apply(\n",
    "        lambda row: str(row.title + \". \" + row.venue + \". \" + row.abstract),\n",
    "        axis=1)\n",
    "    _df['summary_toks'] = _df['summary'].apply(preprocess)\n",
    "    tmp.append(_df[['year', 'summary_toks']])\n",
    "    del (_df)  # Free up space"
   ]
  },
  {
   "cell_type": "code",
   "execution_count": 4,
   "metadata": {
    "ExecuteTime": {
     "end_time": "2018-01-24T21:37:27.603857Z",
     "start_time": "2018-01-24T21:37:24.597498Z"
    }
   },
   "outputs": [],
   "source": [
    "df_dblp = pd.concat(tmp)\n",
    "del(tmp)"
   ]
  },
  {
   "cell_type": "code",
   "execution_count": 5,
   "metadata": {
    "ExecuteTime": {
     "end_time": "2018-01-24T21:37:27.611184Z",
     "start_time": "2018-01-24T21:37:27.605928Z"
    }
   },
   "outputs": [
    {
     "name": "stdout",
     "output_type": "stream",
     "text": [
      "<class 'pandas.core.frame.DataFrame'>\n",
      "Index: 3079007 entries, 0de82371-cb49-42d2-a26b-5838c847c569 to f02f2544-60c6-4278-bbd4-704553cd7156\n",
      "Data columns (total 2 columns):\n",
      "year            int64\n",
      "summary_toks    object\n",
      "dtypes: int64(1), object(1)\n",
      "memory usage: 70.5+ MB\n"
     ]
    }
   ],
   "source": [
    "df_dblp.info()"
   ]
  },
  {
   "cell_type": "code",
   "execution_count": 6,
   "metadata": {
    "ExecuteTime": {
     "end_time": "2018-01-24T21:37:27.635179Z",
     "start_time": "2018-01-24T21:37:27.613085Z"
    }
   },
   "outputs": [
    {
     "name": "stdout",
     "output_type": "stream",
     "text": [
      "Size of collection from dblp:  3079007\n"
     ]
    }
   ],
   "source": [
    "print('Size of collection from dblp: ', len(df_dblp))"
   ]
  },
  {
   "cell_type": "markdown",
   "metadata": {},
   "source": [
    "## Generate bigram and trigram"
   ]
  },
  {
   "cell_type": "code",
   "execution_count": 7,
   "metadata": {
    "ExecuteTime": {
     "end_time": "2018-01-24T22:00:35.858293Z",
     "start_time": "2018-01-24T22:00:34.765340Z"
    }
   },
   "outputs": [],
   "source": [
    "from gensim.models.phrases import Phraser, Phrases"
   ]
  },
  {
   "cell_type": "code",
   "execution_count": 8,
   "metadata": {
    "ExecuteTime": {
     "end_time": "2018-01-24T22:44:45.009082Z",
     "start_time": "2018-01-24T22:00:35.860361Z"
    }
   },
   "outputs": [],
   "source": [
    "summary_toks = df_dblp.summary_toks.tolist()\n",
    "_bigram = Phrases(summary_toks, min_count=20)\n",
    "bigram = Phraser(_bigram)\n",
    "# Create trigram detector\n",
    "_trigram = Phrases(bigram[summary_toks], min_count=10)\n",
    "trigram = Phraser(_trigram)"
   ]
  },
  {
   "cell_type": "code",
   "execution_count": 9,
   "metadata": {
    "ExecuteTime": {
     "end_time": "2018-01-24T22:47:52.033581Z",
     "start_time": "2018-01-24T22:44:45.012210Z"
    }
   },
   "outputs": [],
   "source": [
    "# save the bigram and trigram phrases models too!\n",
    "_bigram.save('../data_dblp/bigram.metadata')\n",
    "_trigram.save('../data_dblp/trigram.metadata')"
   ]
  },
  {
   "cell_type": "code",
   "execution_count": 10,
   "metadata": {
    "ExecuteTime": {
     "end_time": "2018-01-24T23:27:54.288372Z",
     "start_time": "2018-01-24T22:47:52.040026Z"
    }
   },
   "outputs": [],
   "source": [
    "df_dblp['bigram_toks'] = df_dblp['summary_toks'].apply(\n",
    "    lambda x: [x for x in bigram[x] if x.count('_') == 1])\n",
    "df_dblp['trigram_toks'] = df_dblp['summary_toks'].apply(\n",
    "    lambda x: [x for x in trigram[bigram[x]] if x.count('_') == 2])"
   ]
  },
  {
   "cell_type": "code",
   "execution_count": 11,
   "metadata": {
    "ExecuteTime": {
     "end_time": "2018-01-24T23:37:37.300815Z",
     "start_time": "2018-01-24T23:37:37.265158Z"
    }
   },
   "outputs": [
    {
     "data": {
      "text/html": [
       "<div>\n",
       "<style scoped>\n",
       "    .dataframe tbody tr th:only-of-type {\n",
       "        vertical-align: middle;\n",
       "    }\n",
       "\n",
       "    .dataframe tbody tr th {\n",
       "        vertical-align: top;\n",
       "    }\n",
       "\n",
       "    .dataframe thead th {\n",
       "        text-align: right;\n",
       "    }\n",
       "</style>\n",
       "<table border=\"1\" class=\"dataframe\">\n",
       "  <thead>\n",
       "    <tr style=\"text-align: right;\">\n",
       "      <th></th>\n",
       "      <th>year</th>\n",
       "      <th>summary_toks</th>\n",
       "      <th>bigram_toks</th>\n",
       "      <th>trigram_toks</th>\n",
       "    </tr>\n",
       "    <tr>\n",
       "      <th>id</th>\n",
       "      <th></th>\n",
       "      <th></th>\n",
       "      <th></th>\n",
       "      <th></th>\n",
       "    </tr>\n",
       "  </thead>\n",
       "  <tbody>\n",
       "    <tr>\n",
       "      <th>0de82371-cb49-42d2-a26b-5838c847c569</th>\n",
       "      <td>1939</td>\n",
       "      <td>[system, logic, based, ordinal, proceeding, th...</td>\n",
       "      <td>[london_mathematical]</td>\n",
       "      <td>[the_london_mathematical]</td>\n",
       "    </tr>\n",
       "    <tr>\n",
       "      <th>104384d3-e00e-428f-84a6-e19682f440ad</th>\n",
       "      <td>1939</td>\n",
       "      <td>[an, informal, exposition, proof, godel, theor...</td>\n",
       "      <td>[journal_symbolic]</td>\n",
       "      <td>[journal_symbolic_logic]</td>\n",
       "    </tr>\n",
       "    <tr>\n",
       "      <th>1a3dbdb2-fe81-44e8-b418-d1deca6d785e</th>\n",
       "      <td>1939</td>\n",
       "      <td>[theorem, deducibility, second, order, functio...</td>\n",
       "      <td>[journal_symbolic]</td>\n",
       "      <td>[journal_symbolic_logic]</td>\n",
       "    </tr>\n",
       "  </tbody>\n",
       "</table>\n",
       "</div>"
      ],
      "text/plain": [
       "                                      year  \\\n",
       "id                                           \n",
       "0de82371-cb49-42d2-a26b-5838c847c569  1939   \n",
       "104384d3-e00e-428f-84a6-e19682f440ad  1939   \n",
       "1a3dbdb2-fe81-44e8-b418-d1deca6d785e  1939   \n",
       "\n",
       "                                                                           summary_toks  \\\n",
       "id                                                                                        \n",
       "0de82371-cb49-42d2-a26b-5838c847c569  [system, logic, based, ordinal, proceeding, th...   \n",
       "104384d3-e00e-428f-84a6-e19682f440ad  [an, informal, exposition, proof, godel, theor...   \n",
       "1a3dbdb2-fe81-44e8-b418-d1deca6d785e  [theorem, deducibility, second, order, functio...   \n",
       "\n",
       "                                                bigram_toks  \\\n",
       "id                                                            \n",
       "0de82371-cb49-42d2-a26b-5838c847c569  [london_mathematical]   \n",
       "104384d3-e00e-428f-84a6-e19682f440ad     [journal_symbolic]   \n",
       "1a3dbdb2-fe81-44e8-b418-d1deca6d785e     [journal_symbolic]   \n",
       "\n",
       "                                                   trigram_toks  \n",
       "id                                                               \n",
       "0de82371-cb49-42d2-a26b-5838c847c569  [the_london_mathematical]  \n",
       "104384d3-e00e-428f-84a6-e19682f440ad   [journal_symbolic_logic]  \n",
       "1a3dbdb2-fe81-44e8-b418-d1deca6d785e   [journal_symbolic_logic]  "
      ]
     },
     "execution_count": 11,
     "metadata": {},
     "output_type": "execute_result"
    }
   ],
   "source": [
    "df_dblp.head(3)"
   ]
  },
  {
   "cell_type": "code",
   "execution_count": 12,
   "metadata": {
    "ExecuteTime": {
     "end_time": "2018-01-24T23:51:45.028438Z",
     "start_time": "2018-01-24T23:48:11.929775Z"
    }
   },
   "outputs": [
    {
     "name": "stderr",
     "output_type": "stream",
     "text": [
      "/afs/inf.ed.ac.uk/user/s14/s1450710/miniconda3/envs/infnet3/lib/python3.6/site-packages/ipykernel_launcher.py:2: SettingWithCopyWarning: \n",
      "A value is trying to be set on a copy of a slice from a DataFrame.\n",
      "Try using .loc[row_indexer,col_indexer] = value instead\n",
      "\n",
      "See the caveats in the documentation: http://pandas.pydata.org/pandas-docs/stable/indexing.html#indexing-view-versus-copy\n",
      "  \n"
     ]
    }
   ],
   "source": [
    "df_save = df_dblp[['year']]\n",
    "df_save['toks'] = df_dblp.apply(\n",
    "    lambda row: row.summary_toks + row.bigram_toks + row.trigram_toks, axis=1)"
   ]
  },
  {
   "cell_type": "code",
   "execution_count": 16,
   "metadata": {
    "ExecuteTime": {
     "end_time": "2018-01-25T00:04:39.093842Z",
     "start_time": "2018-01-25T00:04:39.085002Z"
    }
   },
   "outputs": [
    {
     "name": "stdout",
     "output_type": "stream",
     "text": [
      "<class 'pandas.core.frame.DataFrame'>\n",
      "Index: 3079007 entries, 0de82371-cb49-42d2-a26b-5838c847c569 to f02f2544-60c6-4278-bbd4-704553cd7156\n",
      "Data columns (total 2 columns):\n",
      "year    int64\n",
      "toks    object\n",
      "dtypes: int64(1), object(1)\n",
      "memory usage: 70.5+ MB\n"
     ]
    }
   ],
   "source": [
    "df_save.info()"
   ]
  },
  {
   "cell_type": "code",
   "execution_count": 18,
   "metadata": {
    "ExecuteTime": {
     "end_time": "2018-01-25T00:09:55.810266Z",
     "start_time": "2018-01-25T00:08:07.979658Z"
    }
   },
   "outputs": [],
   "source": [
    "df_save.to_pickle('../data_dblp/toks.dblp.pkl', protocol=-1)"
   ]
  },
  {
   "cell_type": "code",
   "execution_count": null,
   "metadata": {},
   "outputs": [],
   "source": []
  }
 ],
 "metadata": {
  "kernelspec": {
   "display_name": "Python 3",
   "language": "python",
   "name": "python3"
  },
  "language_info": {
   "codemirror_mode": {
    "name": "ipython",
    "version": 3
   },
   "file_extension": ".py",
   "mimetype": "text/x-python",
   "name": "python",
   "nbconvert_exporter": "python",
   "pygments_lexer": "ipython3",
   "version": "3.6.4"
  },
  "toc": {
   "nav_menu": {},
   "number_sections": true,
   "sideBar": false,
   "skip_h1_title": false,
   "toc_cell": true,
   "toc_position": {
    "height": "221px",
    "left": "1636px",
    "right": "223.517px",
    "top": "135.483px",
    "width": "232px"
   },
   "toc_section_display": "block",
   "toc_window_display": true
  },
  "varInspector": {
   "cols": {
    "lenName": 16,
    "lenType": 16,
    "lenVar": 40
   },
   "kernels_config": {
    "python": {
     "delete_cmd_postfix": "",
     "delete_cmd_prefix": "del ",
     "library": "var_list.py",
     "varRefreshCmd": "print(var_dic_list())"
    },
    "r": {
     "delete_cmd_postfix": ") ",
     "delete_cmd_prefix": "rm(",
     "library": "var_list.r",
     "varRefreshCmd": "cat(var_dic_list()) "
    }
   },
   "oldHeight": 416.76666,
   "position": {
    "height": "439px",
    "left": "222px",
    "right": "1333.52px",
    "top": "360px",
    "width": "536px"
   },
   "types_to_exclude": [
    "module",
    "function",
    "builtin_function_or_method",
    "instance",
    "_Feature"
   ],
   "varInspector_section_display": "block",
   "window_display": false
  }
 },
 "nbformat": 4,
 "nbformat_minor": 2
}
