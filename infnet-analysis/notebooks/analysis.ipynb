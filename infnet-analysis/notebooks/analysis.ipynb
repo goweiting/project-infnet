{
 "cells": [
  {
   "cell_type": "markdown",
   "metadata": {},
   "source": [
    "# Analysis\n",
    "\n",
    "The final stroke of the project involve analysing the networks created:"
   ]
  },
  {
   "cell_type": "code",
   "execution_count": 1,
   "metadata": {
    "ExecuteTime": {
     "end_time": "2018-04-08T11:41:44.941454Z",
     "start_time": "2018-04-08T11:41:44.193207Z"
    }
   },
   "outputs": [],
   "source": [
    "## import required packages\n",
    "import os\n",
    "import pickle as pkl\n",
    "import pandas as pd\n",
    "import networkx as nx\n",
    "import numpy as np\n",
    "from numpy.random import RandomState\n",
    "rng = RandomState(781772)\n",
    "import logging\n",
    "logging.basicConfig(\n",
    "    format='%(asctime)s : %(levelname)s : %(message)s', level=logging.INFO)\n",
    "from pprint import pprint\n",
    "## graphics:\n",
    "import seaborn as sns\n",
    "import matplotlib.pyplot as plt\n",
    "%matplotlib inline\n",
    "plt.style.use(['seaborn-poster'])\n",
    "\n",
    "# home-made packages\n",
    "import network_artist as artist\n",
    "from infnet_helper import *"
   ]
  },
  {
   "cell_type": "code",
   "execution_count": 2,
   "metadata": {
    "ExecuteTime": {
     "end_time": "2018-04-08T11:41:45.067079Z",
     "start_time": "2018-04-08T11:41:44.943181Z"
    }
   },
   "outputs": [],
   "source": [
    "lookup_combined_toks = prepare_toks(with_pdf2txt=False)"
   ]
  },
  {
   "cell_type": "code",
   "execution_count": 3,
   "metadata": {
    "ExecuteTime": {
     "end_time": "2018-04-08T11:41:45.074375Z",
     "start_time": "2018-04-08T11:41:45.068730Z"
    }
   },
   "outputs": [],
   "source": [
    "lookup_poinf = get_lookup_poinf()"
   ]
  },
  {
   "cell_type": "code",
   "execution_count": 4,
   "metadata": {
    "ExecuteTime": {
     "end_time": "2018-04-08T11:41:45.091780Z",
     "start_time": "2018-04-08T11:41:45.076001Z"
    }
   },
   "outputs": [
    {
     "name": "stdout",
     "output_type": "stream",
     "text": [
      "224\n"
     ]
    }
   ],
   "source": [
    "# remove individuals without  any publications since they wont appear in the collab net\n",
    "lookup_poinf.dropna(subset=['pub_ids'], inplace=True)\n",
    "print(len(lookup_poinf))"
   ]
  },
  {
   "cell_type": "code",
   "execution_count": 5,
   "metadata": {
    "ExecuteTime": {
     "end_time": "2018-04-08T11:41:45.125156Z",
     "start_time": "2018-04-08T11:41:45.093160Z"
    },
    "scrolled": false
   },
   "outputs": [
    {
     "data": {
      "text/html": [
       "<div>\n",
       "<style scoped>\n",
       "    .dataframe tbody tr th:only-of-type {\n",
       "        vertical-align: middle;\n",
       "    }\n",
       "\n",
       "    .dataframe tbody tr th {\n",
       "        vertical-align: top;\n",
       "    }\n",
       "\n",
       "    .dataframe thead th {\n",
       "        text-align: right;\n",
       "    }\n",
       "</style>\n",
       "<table border=\"1\" class=\"dataframe\">\n",
       "  <thead>\n",
       "    <tr style=\"text-align: right;\">\n",
       "      <th></th>\n",
       "      <th>last_name</th>\n",
       "      <th>first_name</th>\n",
       "      <th>personal_url</th>\n",
       "      <th>position</th>\n",
       "      <th>parent</th>\n",
       "      <th>institute</th>\n",
       "      <th>full_name</th>\n",
       "      <th>institute_class</th>\n",
       "      <th>alias</th>\n",
       "      <th>first_pub_year</th>\n",
       "      <th>total_pub</th>\n",
       "      <th>total_pub_1997</th>\n",
       "      <th>total_pub_2012</th>\n",
       "      <th>pub_ids</th>\n",
       "    </tr>\n",
       "    <tr>\n",
       "      <th>id</th>\n",
       "      <th></th>\n",
       "      <th></th>\n",
       "      <th></th>\n",
       "      <th></th>\n",
       "      <th></th>\n",
       "      <th></th>\n",
       "      <th></th>\n",
       "      <th></th>\n",
       "      <th></th>\n",
       "      <th></th>\n",
       "      <th></th>\n",
       "      <th></th>\n",
       "      <th></th>\n",
       "      <th></th>\n",
       "    </tr>\n",
       "  </thead>\n",
       "  <tbody>\n",
       "    <tr>\n",
       "      <th>d089bb44-7d0b-4b3f-b556-27def993d1d1</th>\n",
       "      <td>albrecht</td>\n",
       "      <td>stefano</td>\n",
       "      <td>http://www.research.ed.ac.uk/portal/en/persons...</td>\n",
       "      <td>lecturer in artificial intelligence</td>\n",
       "      <td>school of informatics</td>\n",
       "      <td>centre for intelligent systems and their appli...</td>\n",
       "      <td>albrecht stefano</td>\n",
       "      <td>1</td>\n",
       "      <td>albrecht, s. v.|albrecht, s.</td>\n",
       "      <td>2014.0</td>\n",
       "      <td>12</td>\n",
       "      <td>12</td>\n",
       "      <td>12</td>\n",
       "      <td>{5b69211e-5874-4c07-a3cb-545f09bfe70c, 990f481...</td>\n",
       "    </tr>\n",
       "    <tr>\n",
       "      <th>ecd799fb-4f63-44ae-a078-b009099f2c8c</th>\n",
       "      <td>alex</td>\n",
       "      <td>beatrice</td>\n",
       "      <td>http://www.research.ed.ac.uk/portal/en/persons...</td>\n",
       "      <td>research fellow</td>\n",
       "      <td>school of informatics</td>\n",
       "      <td>institute of language cognition and computation</td>\n",
       "      <td>alex beatrice</td>\n",
       "      <td>2</td>\n",
       "      <td>alex, b.  (ed.)|alex, b.|symington, b.</td>\n",
       "      <td>2012.0</td>\n",
       "      <td>43</td>\n",
       "      <td>43</td>\n",
       "      <td>20</td>\n",
       "      <td>{5d00df5f-3359-4188-afc2-4ebadf8d826e, 5c90210...</td>\n",
       "    </tr>\n",
       "    <tr>\n",
       "      <th>1997d4be-de27-44bd-ad89-36e6f386225d</th>\n",
       "      <td>alexandru</td>\n",
       "      <td>cristina</td>\n",
       "      <td>http://www.research.ed.ac.uk/portal/en/persons...</td>\n",
       "      <td>research associate</td>\n",
       "      <td>school of informatics</td>\n",
       "      <td>centre for intelligent systems and their appli...</td>\n",
       "      <td>alexandru cristina</td>\n",
       "      <td>1</td>\n",
       "      <td>alexandru, c.|alexandru, c. a.|alexandru, c-a.</td>\n",
       "      <td>2011.0</td>\n",
       "      <td>9</td>\n",
       "      <td>9</td>\n",
       "      <td>7</td>\n",
       "      <td>{d850fd37-078c-4526-bcc4-fec310dc2728, ebe0d59...</td>\n",
       "    </tr>\n",
       "  </tbody>\n",
       "</table>\n",
       "</div>"
      ],
      "text/plain": [
       "                                      last_name first_name  \\\n",
       "id                                                           \n",
       "d089bb44-7d0b-4b3f-b556-27def993d1d1   albrecht    stefano   \n",
       "ecd799fb-4f63-44ae-a078-b009099f2c8c       alex   beatrice   \n",
       "1997d4be-de27-44bd-ad89-36e6f386225d  alexandru   cristina   \n",
       "\n",
       "                                                                           personal_url  \\\n",
       "id                                                                                        \n",
       "d089bb44-7d0b-4b3f-b556-27def993d1d1  http://www.research.ed.ac.uk/portal/en/persons...   \n",
       "ecd799fb-4f63-44ae-a078-b009099f2c8c  http://www.research.ed.ac.uk/portal/en/persons...   \n",
       "1997d4be-de27-44bd-ad89-36e6f386225d  http://www.research.ed.ac.uk/portal/en/persons...   \n",
       "\n",
       "                                                                 position  \\\n",
       "id                                                                          \n",
       "d089bb44-7d0b-4b3f-b556-27def993d1d1  lecturer in artificial intelligence   \n",
       "ecd799fb-4f63-44ae-a078-b009099f2c8c                      research fellow   \n",
       "1997d4be-de27-44bd-ad89-36e6f386225d                   research associate   \n",
       "\n",
       "                                                     parent  \\\n",
       "id                                                            \n",
       "d089bb44-7d0b-4b3f-b556-27def993d1d1  school of informatics   \n",
       "ecd799fb-4f63-44ae-a078-b009099f2c8c  school of informatics   \n",
       "1997d4be-de27-44bd-ad89-36e6f386225d  school of informatics   \n",
       "\n",
       "                                                                              institute  \\\n",
       "id                                                                                        \n",
       "d089bb44-7d0b-4b3f-b556-27def993d1d1  centre for intelligent systems and their appli...   \n",
       "ecd799fb-4f63-44ae-a078-b009099f2c8c    institute of language cognition and computation   \n",
       "1997d4be-de27-44bd-ad89-36e6f386225d  centre for intelligent systems and their appli...   \n",
       "\n",
       "                                               full_name  institute_class  \\\n",
       "id                                                                          \n",
       "d089bb44-7d0b-4b3f-b556-27def993d1d1    albrecht stefano                1   \n",
       "ecd799fb-4f63-44ae-a078-b009099f2c8c       alex beatrice                2   \n",
       "1997d4be-de27-44bd-ad89-36e6f386225d  alexandru cristina                1   \n",
       "\n",
       "                                                                               alias  \\\n",
       "id                                                                                     \n",
       "d089bb44-7d0b-4b3f-b556-27def993d1d1                    albrecht, s. v.|albrecht, s.   \n",
       "ecd799fb-4f63-44ae-a078-b009099f2c8c          alex, b.  (ed.)|alex, b.|symington, b.   \n",
       "1997d4be-de27-44bd-ad89-36e6f386225d  alexandru, c.|alexandru, c. a.|alexandru, c-a.   \n",
       "\n",
       "                                      first_pub_year  total_pub  \\\n",
       "id                                                                \n",
       "d089bb44-7d0b-4b3f-b556-27def993d1d1          2014.0         12   \n",
       "ecd799fb-4f63-44ae-a078-b009099f2c8c          2012.0         43   \n",
       "1997d4be-de27-44bd-ad89-36e6f386225d          2011.0          9   \n",
       "\n",
       "                                      total_pub_1997  total_pub_2012  \\\n",
       "id                                                                     \n",
       "d089bb44-7d0b-4b3f-b556-27def993d1d1              12              12   \n",
       "ecd799fb-4f63-44ae-a078-b009099f2c8c              43              20   \n",
       "1997d4be-de27-44bd-ad89-36e6f386225d               9               7   \n",
       "\n",
       "                                                                                pub_ids  \n",
       "id                                                                                       \n",
       "d089bb44-7d0b-4b3f-b556-27def993d1d1  {5b69211e-5874-4c07-a3cb-545f09bfe70c, 990f481...  \n",
       "ecd799fb-4f63-44ae-a078-b009099f2c8c  {5d00df5f-3359-4188-afc2-4ebadf8d826e, 5c90210...  \n",
       "1997d4be-de27-44bd-ad89-36e6f386225d  {d850fd37-078c-4526-bcc4-fec310dc2728, ebe0d59...  "
      ]
     },
     "execution_count": 5,
     "metadata": {},
     "output_type": "execute_result"
    }
   ],
   "source": [
    "lookup_poinf.head(3)"
   ]
  },
  {
   "cell_type": "code",
   "execution_count": 6,
   "metadata": {
    "ExecuteTime": {
     "end_time": "2018-04-08T11:41:45.256873Z",
     "start_time": "2018-04-08T11:41:45.126507Z"
    }
   },
   "outputs": [],
   "source": [
    "lookup_pub = get_lookup_pub(1997,2017)"
   ]
  },
  {
   "cell_type": "code",
   "execution_count": 7,
   "metadata": {
    "ExecuteTime": {
     "end_time": "2018-04-08T11:41:45.277770Z",
     "start_time": "2018-04-08T11:41:45.258439Z"
    }
   },
   "outputs": [
    {
     "data": {
      "text/html": [
       "<div>\n",
       "<style scoped>\n",
       "    .dataframe tbody tr th:only-of-type {\n",
       "        vertical-align: middle;\n",
       "    }\n",
       "\n",
       "    .dataframe tbody tr th {\n",
       "        vertical-align: top;\n",
       "    }\n",
       "\n",
       "    .dataframe thead th {\n",
       "        text-align: right;\n",
       "    }\n",
       "</style>\n",
       "<table border=\"1\" class=\"dataframe\">\n",
       "  <thead>\n",
       "    <tr style=\"text-align: right;\">\n",
       "      <th></th>\n",
       "      <th>year</th>\n",
       "      <th>title</th>\n",
       "      <th>authors</th>\n",
       "      <th>shortnames</th>\n",
       "      <th>nb_authors</th>\n",
       "      <th>nb_shortnames</th>\n",
       "      <th>collab_id</th>\n",
       "      <th>edges</th>\n",
       "      <th>collab_poinf</th>\n",
       "      <th>nb_poinf</th>\n",
       "    </tr>\n",
       "    <tr>\n",
       "      <th>pub_id</th>\n",
       "      <th></th>\n",
       "      <th></th>\n",
       "      <th></th>\n",
       "      <th></th>\n",
       "      <th></th>\n",
       "      <th></th>\n",
       "      <th></th>\n",
       "      <th></th>\n",
       "      <th></th>\n",
       "      <th></th>\n",
       "    </tr>\n",
       "  </thead>\n",
       "  <tbody>\n",
       "    <tr>\n",
       "      <th>18b1a861-afef-4fff-bc80-d02e05be18c4</th>\n",
       "      <td>2013</td>\n",
       "      <td>query processing in data integration</td>\n",
       "      <td>[paolo guagliardo, piotr wieczorek]</td>\n",
       "      <td>[guagliardo, p., wieczorek, p.]</td>\n",
       "      <td>2</td>\n",
       "      <td>2</td>\n",
       "      <td>[653c9723-b374-4ad3-9cef-0f7e7f45d812, 4886]</td>\n",
       "      <td>[(653c9723-b374-4ad3-9cef-0f7e7f45d812, 4886)]</td>\n",
       "      <td>[653c9723-b374-4ad3-9cef-0f7e7f45d812]</td>\n",
       "      <td>1</td>\n",
       "    </tr>\n",
       "    <tr>\n",
       "      <th>d5814bab-5fc2-4c31-92b7-543c7ce75cb4</th>\n",
       "      <td>2012</td>\n",
       "      <td>evaluation of speaker verification security an...</td>\n",
       "      <td>[p.l. de leon, m. pucher, j. yamagishi, i. her...</td>\n",
       "      <td>[leon, p. l., pucher, m., yamagishi, j., herna...</td>\n",
       "      <td>5</td>\n",
       "      <td>5</td>\n",
       "      <td>[3084, 4137, 4d11a99a-0d04-42f4-8089-d433a57c2...</td>\n",
       "      <td>[(3084, 4137), (3084, 4d11a99a-0d04-42f4-8089-...</td>\n",
       "      <td>[4d11a99a-0d04-42f4-8089-d433a57c2463]</td>\n",
       "      <td>1</td>\n",
       "    </tr>\n",
       "    <tr>\n",
       "      <th>880944d3-26db-4003-9186-130bf3202941</th>\n",
       "      <td>2014</td>\n",
       "      <td>openairinterface a flexible platform for g res...</td>\n",
       "      <td>[navid nikaein, mahesh k. marina, saravana man...</td>\n",
       "      <td>[nikaein, n., marina, m. k., manickam, s., daw...</td>\n",
       "      <td>6</td>\n",
       "      <td>6</td>\n",
       "      <td>[796, 06760916-edca-488e-93da-baff6204a453, 54...</td>\n",
       "      <td>[(796, 06760916-edca-488e-93da-baff6204a453), ...</td>\n",
       "      <td>[06760916-edca-488e-93da-baff6204a453]</td>\n",
       "      <td>1</td>\n",
       "    </tr>\n",
       "  </tbody>\n",
       "</table>\n",
       "</div>"
      ],
      "text/plain": [
       "                                      year  \\\n",
       "pub_id                                       \n",
       "18b1a861-afef-4fff-bc80-d02e05be18c4  2013   \n",
       "d5814bab-5fc2-4c31-92b7-543c7ce75cb4  2012   \n",
       "880944d3-26db-4003-9186-130bf3202941  2014   \n",
       "\n",
       "                                                                                  title  \\\n",
       "pub_id                                                                                    \n",
       "18b1a861-afef-4fff-bc80-d02e05be18c4               query processing in data integration   \n",
       "d5814bab-5fc2-4c31-92b7-543c7ce75cb4  evaluation of speaker verification security an...   \n",
       "880944d3-26db-4003-9186-130bf3202941  openairinterface a flexible platform for g res...   \n",
       "\n",
       "                                                                                authors  \\\n",
       "pub_id                                                                                    \n",
       "18b1a861-afef-4fff-bc80-d02e05be18c4                [paolo guagliardo, piotr wieczorek]   \n",
       "d5814bab-5fc2-4c31-92b7-543c7ce75cb4  [p.l. de leon, m. pucher, j. yamagishi, i. her...   \n",
       "880944d3-26db-4003-9186-130bf3202941  [navid nikaein, mahesh k. marina, saravana man...   \n",
       "\n",
       "                                                                             shortnames  \\\n",
       "pub_id                                                                                    \n",
       "18b1a861-afef-4fff-bc80-d02e05be18c4                    [guagliardo, p., wieczorek, p.]   \n",
       "d5814bab-5fc2-4c31-92b7-543c7ce75cb4  [leon, p. l., pucher, m., yamagishi, j., herna...   \n",
       "880944d3-26db-4003-9186-130bf3202941  [nikaein, n., marina, m. k., manickam, s., daw...   \n",
       "\n",
       "                                      nb_authors  nb_shortnames  \\\n",
       "pub_id                                                            \n",
       "18b1a861-afef-4fff-bc80-d02e05be18c4           2              2   \n",
       "d5814bab-5fc2-4c31-92b7-543c7ce75cb4           5              5   \n",
       "880944d3-26db-4003-9186-130bf3202941           6              6   \n",
       "\n",
       "                                                                              collab_id  \\\n",
       "pub_id                                                                                    \n",
       "18b1a861-afef-4fff-bc80-d02e05be18c4       [653c9723-b374-4ad3-9cef-0f7e7f45d812, 4886]   \n",
       "d5814bab-5fc2-4c31-92b7-543c7ce75cb4  [3084, 4137, 4d11a99a-0d04-42f4-8089-d433a57c2...   \n",
       "880944d3-26db-4003-9186-130bf3202941  [796, 06760916-edca-488e-93da-baff6204a453, 54...   \n",
       "\n",
       "                                                                                  edges  \\\n",
       "pub_id                                                                                    \n",
       "18b1a861-afef-4fff-bc80-d02e05be18c4     [(653c9723-b374-4ad3-9cef-0f7e7f45d812, 4886)]   \n",
       "d5814bab-5fc2-4c31-92b7-543c7ce75cb4  [(3084, 4137), (3084, 4d11a99a-0d04-42f4-8089-...   \n",
       "880944d3-26db-4003-9186-130bf3202941  [(796, 06760916-edca-488e-93da-baff6204a453), ...   \n",
       "\n",
       "                                                                collab_poinf  \\\n",
       "pub_id                                                                         \n",
       "18b1a861-afef-4fff-bc80-d02e05be18c4  [653c9723-b374-4ad3-9cef-0f7e7f45d812]   \n",
       "d5814bab-5fc2-4c31-92b7-543c7ce75cb4  [4d11a99a-0d04-42f4-8089-d433a57c2463]   \n",
       "880944d3-26db-4003-9186-130bf3202941  [06760916-edca-488e-93da-baff6204a453]   \n",
       "\n",
       "                                      nb_poinf  \n",
       "pub_id                                          \n",
       "18b1a861-afef-4fff-bc80-d02e05be18c4         1  \n",
       "d5814bab-5fc2-4c31-92b7-543c7ce75cb4         1  \n",
       "880944d3-26db-4003-9186-130bf3202941         1  "
      ]
     },
     "execution_count": 7,
     "metadata": {},
     "output_type": "execute_result"
    }
   ],
   "source": [
    "lookup_pub.head(3)"
   ]
  },
  {
   "cell_type": "code",
   "execution_count": 8,
   "metadata": {
    "ExecuteTime": {
     "end_time": "2018-04-08T11:41:45.294941Z",
     "start_time": "2018-04-08T11:41:45.279125Z"
    }
   },
   "outputs": [],
   "source": [
    "def test_symmetric(mat):\n",
    "    return np.allclose(mat, mat.T)"
   ]
  },
  {
   "cell_type": "code",
   "execution_count": 9,
   "metadata": {
    "ExecuteTime": {
     "end_time": "2018-04-08T11:41:45.360064Z",
     "start_time": "2018-04-08T11:41:45.296790Z"
    }
   },
   "outputs": [],
   "source": [
    "def get_mixing_dict(g,\n",
    "                    characteristic_name,\n",
    "                    characteristic_type='attribute',\n",
    "                    weight=None,\n",
    "                    target_order=None):\n",
    "    \"\"\"\n",
    "    target_order is however you want the matrix and _atributes to be arrange, mainly for printing\n",
    "    \"\"\"\n",
    "    \n",
    "    assert characteristic_type in [\n",
    "        'attribute', 'numeric', 'degree'\n",
    "    ], 'only accepts \"attribute\" or \"numeric\" or \"degree\"'\n",
    "\n",
    "    if characteristic_type == 'attribute':\n",
    "        mixing_dict = nx.attribute_mixing_dict(\n",
    "            g, attribute=characteristic_name)\n",
    "    elif characteristic_type == 'numeric':\n",
    "        mixing_dict = nx.degree_mixing_dict(\n",
    "            g, attribute=characteristic_name, weight=weight)\n",
    "    elif characteristic_type == 'degree':\n",
    "        mixing_dict = nx.degree_mixing_dict(g, weight=weight)\n",
    "\n",
    "    num_attributes = len(list(mixing_dict.keys()))\n",
    "    _attributes = list(mixing_dict.keys())\n",
    "    if target_order is not None:\n",
    "        for t in target_order:\n",
    "            # ensure that the list is identical!\n",
    "            assert t in _attributes, 'given order have {}, but not observed in g'.format(t)\n",
    "        _attributes = target_order\n",
    "        \n",
    "    mat = np.zeros((num_attributes, num_attributes))\n",
    "\n",
    "    for i in range(num_attributes):\n",
    "        _i = _attributes[i]\n",
    "        for j in range(num_attributes):\n",
    "            _j = _attributes[j]\n",
    "            try:\n",
    "                mat[i][j] = mixing_dict[_i][_j]\n",
    "            except  KeyError:\n",
    "                mat[i][j] = 0\n",
    "        # reduce the mixing_dict diagonal by half, because it counts it twice!\n",
    "        \n",
    "        mat[i][i] = mat[i][i] / 2 \n",
    "        \n",
    "\n",
    "    # count the number of nodes with a particular attribute\n",
    "    count_dict = {i: 0 for i in _attributes}\n",
    "\n",
    "    for i, d in g.nodes(data=True):\n",
    "        count_dict[d[characteristic_name]] += 1\n",
    "    return mixing_dict, mat, count_dict, _attributes"
   ]
  },
  {
   "cell_type": "code",
   "execution_count": 10,
   "metadata": {
    "ExecuteTime": {
     "end_time": "2018-04-08T11:41:45.408642Z",
     "start_time": "2018-04-08T11:41:45.361652Z"
    }
   },
   "outputs": [],
   "source": [
    "def pairwise_comparison(edge_matrix, attr_names, count_dict):\n",
    "    \"\"\"\n",
    "    Pairwise comparison between attributes by:\n",
    "    1) count number of attributes for each attribute, and get the probability of observing each (p, q) \n",
    "    2) calculate the expected probability 2*p*q\n",
    "    3) count fraction of edges (actual) going between class and the world\n",
    "    \"\"\"\n",
    "    # calculate sums of edges outgoing from each inst:\n",
    "    a, b = edge_matrix.shape\n",
    "    assert a == b, 'edge_matrix should be square'\n",
    "\n",
    "    _edge = edge_matrix.copy()\n",
    "    np.fill_diagonal(_edge, 0.)\n",
    "    edges_across = np.sum(_edge, axis=0)\n",
    "    total = np.sum(np.triu(edge_matrix))\n",
    "\n",
    "    # store results\n",
    "    res_prob = np.zeros_like(edge_matrix)\n",
    "    res_frac = np.zeros_like(edge_matrix)\n",
    "\n",
    "    for i in range(len(attr_names)):\n",
    "        num_i_nodes = count_dict[attr_names[i]]\n",
    "        across_i = _edge[i, :]\n",
    "        within_i = edge_matrix[i, i]\n",
    "\n",
    "\n",
    "        for j in range(len(attr_names)):\n",
    "            if i == j:\n",
    "                continue\n",
    "\n",
    "            num_j_nodes = count_dict[attr_names[j]]\n",
    "            within_j = edge_matrix[j, j]\n",
    "            between_ij = across_i[j]\n",
    "            total_edges = within_j + within_i + between_ij\n",
    "            \n",
    "            p = num_i_nodes / (num_i_nodes + num_j_nodes)\n",
    "            prob = 2 * p * (1 - p)\n",
    "\n",
    "            frac = (between_ij) / total_edges\n",
    "            res_prob[i][j] = prob\n",
    "            res_frac[i][j] = frac\n",
    "            logging.info((\n",
    "                '{}({}) - {}({})\\n\\twithin_i:{} within_j:{} btw_ij:{}\\n\\t{:.3f} & {:.3f}'.\n",
    "                format(attr_names[i], num_i_nodes, attr_names[j], num_j_nodes,\n",
    "                       within_i, within_j, between_ij, prob, frac)))\n",
    "    return res_prob, res_frac"
   ]
  },
  {
   "cell_type": "code",
   "execution_count": 11,
   "metadata": {
    "ExecuteTime": {
     "end_time": "2018-04-08T11:41:45.439520Z",
     "start_time": "2018-04-08T11:41:45.410058Z"
    }
   },
   "outputs": [],
   "source": [
    "def one_vs_world(edge_matrix, attr_names, count_dict):\n",
    "    \"\"\"\n",
    "    Comparison between each attribute type against the rest\n",
    "    1) count number of attributes for each attribute, and get the probability of observing each (p, q) \n",
    "    2) calculate the expected probability 2*p*q\n",
    "    3) count fraction of edges (actual) going between class and the world\n",
    "    \"\"\"\n",
    "    # calculate sums of edges outgoing from each inst:\n",
    "    a,b = edge_matrix.shape\n",
    "    assert a==b, 'edge_matrix should be square'\n",
    "    _edge = edge_matrix.copy()\n",
    "    np.fill_diagonal(_edge, 0.)\n",
    "    edges_across = np.sum(_edge, axis=0)\n",
    "    total = np.sum(np.triu(edge_matrix))\n",
    "    # store results\n",
    "    total_num_nodes = sum(list(count_dict.values()))\n",
    "#     print(edges_across)\n",
    "    diff=[]\n",
    "    for i in range(len(attr_names)):\n",
    "        p = count_dict[attr_names[i]] / total_num_nodes\n",
    "        prob = 2 * p * (1 - p)\n",
    "        # number of edges within p:\n",
    "        within = edge_matrix[i][i]\n",
    "        outside = edges_across[i]\n",
    "        frac = outside / (total)\n",
    "        logging.info(('{} within:{} outside:{}\\n{:.3f} & {:.3f}'.format(\n",
    "            attr_names[i], within, outside, prob, frac)))\n",
    "        diff.append(frac-prob)\n",
    "    return diff"
   ]
  },
  {
   "cell_type": "code",
   "execution_count": 12,
   "metadata": {
    "ExecuteTime": {
     "end_time": "2018-04-08T11:41:45.466194Z",
     "start_time": "2018-04-08T11:41:45.441341Z"
    }
   },
   "outputs": [],
   "source": [
    "inst = get_institute()"
   ]
  },
  {
   "cell_type": "code",
   "execution_count": 13,
   "metadata": {
    "ExecuteTime": {
     "end_time": "2018-04-08T11:41:45.483547Z",
     "start_time": "2018-04-08T11:41:45.467706Z"
    }
   },
   "outputs": [],
   "source": [
    "inst_order = list(inst.keys())"
   ]
  },
  {
   "cell_type": "markdown",
   "metadata": {},
   "source": [
    "# `infnet6yr`"
   ]
  },
  {
   "cell_type": "code",
   "execution_count": 14,
   "metadata": {
    "ExecuteTime": {
     "end_time": "2018-04-08T11:41:45.657874Z",
     "start_time": "2018-04-08T11:41:45.485139Z"
    }
   },
   "outputs": [],
   "source": [
    "lookup_pub = get_lookup_pub(2012, 2017)"
   ]
  },
  {
   "cell_type": "code",
   "execution_count": 15,
   "metadata": {
    "ExecuteTime": {
     "end_time": "2018-04-08T11:41:45.823411Z",
     "start_time": "2018-04-08T11:41:45.659452Z"
    }
   },
   "outputs": [],
   "source": [
    "# create nx graph\n",
    "g_infnet6yr = nx.Graph()\n",
    "# add edges:\n",
    "poinf_list = lookup_poinf.index.tolist()\n",
    "edges = lookup_pub.edges.tolist()\n",
    "for e in edges:\n",
    "    for (a, b) in e:\n",
    "        if a in poinf_list and b in poinf_list:\n",
    "            g_infnet6yr.add_edge(a, b)"
   ]
  },
  {
   "cell_type": "code",
   "execution_count": 16,
   "metadata": {
    "ExecuteTime": {
     "end_time": "2018-04-08T11:41:45.827778Z",
     "start_time": "2018-04-08T11:41:45.825045Z"
    }
   },
   "outputs": [
    {
     "name": "stdout",
     "output_type": "stream",
     "text": [
      "Name: \n",
      "Type: Graph\n",
      "Number of nodes: 184\n",
      "Number of edges: 361\n",
      "Average degree:   3.9239\n"
     ]
    }
   ],
   "source": [
    "print(nx.info(g_infnet6yr))"
   ]
  },
  {
   "cell_type": "code",
   "execution_count": 17,
   "metadata": {
    "ExecuteTime": {
     "end_time": "2018-04-08T11:41:45.851604Z",
     "start_time": "2018-04-08T11:41:45.829240Z"
    }
   },
   "outputs": [],
   "source": [
    "# Additional attributes\n",
    "nx.set_node_attributes(g_infnet6yr, lookup_poinf.loc[list(\n",
    "    g_infnet6yr.nodes)]['full_name'].to_dict(), 'name')\n",
    "nx.set_node_attributes(g_infnet6yr, lookup_poinf.loc[list(\n",
    "    g_infnet6yr.nodes)]['institute'].to_dict(), 'institute')\n",
    "nx.set_node_attributes(g_infnet6yr, lookup_poinf.loc[list(\n",
    "    g_infnet6yr.nodes)]['position'].to_dict(), 'position')\n",
    "nx.set_node_attributes(g_infnet6yr, lookup_poinf.loc[list(\n",
    "    g_infnet6yr.nodes)]['first_pub_year'].to_dict(), 'year')\n",
    "nx.set_node_attributes(g_infnet6yr, lookup_poinf.loc[list(\n",
    "    g_infnet6yr.nodes)]['institute_class'].to_dict(), 'group')"
   ]
  },
  {
   "cell_type": "code",
   "execution_count": 18,
   "metadata": {
    "ExecuteTime": {
     "end_time": "2018-04-08T11:41:46.511816Z",
     "start_time": "2018-04-08T11:41:45.853249Z"
    }
   },
   "outputs": [
    {
     "data": {
      "text/plain": [
       "<matplotlib.axes._subplots.AxesSubplot at 0x7f8080a75828>"
      ]
     },
     "execution_count": 18,
     "metadata": {},
     "output_type": "execute_result"
    },
    {
     "data": {
      "image/png": "[encoded data removed]",
      "text/plain": [
       "<matplotlib.figure.Figure at 0x7f8080a75780>"
      ]
     },
     "metadata": {},
     "output_type": "display_data"
    }
   ],
   "source": [
    "pos = nx.spring_layout(g_infnet6yr,k=10)\n",
    "f = plt.figure(figsize=(12,8))\n",
    "ax = f.add_subplot(111)\n",
    "nx.draw(\n",
    "    g_infnet6yr,\n",
    "    node_size=60,\n",
    "    ax=ax,\n",
    "    alpha=.8,\n",
    "    node_color=artist.color_by_inst(g_infnet6yr, lookup_poinf))\n",
    "artist.add_inst_labels(ax,with_legend=True)"
   ]
  },
  {
   "cell_type": "code",
   "execution_count": 143,
   "metadata": {
    "ExecuteTime": {
     "end_time": "2018-04-06T08:46:27.417458Z",
     "start_time": "2018-04-06T08:46:27.398196Z"
    },
    "deletable": false,
    "editable": false,
    "run_control": {
     "frozen": true
    }
   },
   "outputs": [],
   "source": [
    "# Save as json file\n",
    "import json\n",
    "dat = nx.readwrite.json_graph.node_link_data(g_infnet6yr)\n",
    "json.dump(dat, open('../../data/data_schoolofinf/json/infnet6yr.json','w'))"
   ]
  },
  {
   "cell_type": "markdown",
   "metadata": {
    "deletable": false,
    "editable": false,
    "run_control": {
     "frozen": true
    }
   },
   "source": [
    "## community detection"
   ]
  },
  {
   "cell_type": "markdown",
   "metadata": {},
   "source": [
    "### Girvan-newman method"
   ]
  },
  {
   "cell_type": "code",
   "execution_count": 19,
   "metadata": {
    "ExecuteTime": {
     "end_time": "2018-04-08T11:41:52.657133Z",
     "start_time": "2018-04-08T11:41:46.513360Z"
    },
    "scrolled": true
   },
   "outputs": [
    {
     "name": "stderr",
     "output_type": "stream",
     "text": [
      "2018-04-08 12:41:47,613 : INFO : best_score: 0.253\n",
      "2018-04-08 12:41:48,469 : INFO : best_score: 0.352\n",
      "2018-04-08 12:41:48,752 : INFO : best_score: 0.458\n",
      "2018-04-08 12:41:49,264 : INFO : best_score: 0.656\n",
      "2018-04-08 12:41:49,302 : INFO : best_score: 0.671\n",
      "2018-04-08 12:41:49,368 : INFO : best_score: 0.683\n",
      "2018-04-08 12:41:49,400 : INFO : best_score: 0.690\n",
      "2018-04-08 12:41:49,513 : INFO : best_score: 0.708\n",
      "2018-04-08 12:41:49,564 : INFO : best_score: 0.717\n",
      "2018-04-08 12:41:49,728 : INFO : best_score: 0.736\n",
      "2018-04-08 12:41:49,808 : INFO : best_score: 0.755\n"
     ]
    }
   ],
   "source": [
    "best_partition_gn_infnet6yr , best_score = get_best_gnalgo(g_infnet6yr)"
   ]
  },
  {
   "cell_type": "code",
   "execution_count": 20,
   "metadata": {
    "ExecuteTime": {
     "end_time": "2018-04-08T11:41:52.662160Z",
     "start_time": "2018-04-08T11:41:52.659115Z"
    }
   },
   "outputs": [
    {
     "name": "stdout",
     "output_type": "stream",
     "text": [
      "0.7546826681808765\n"
     ]
    }
   ],
   "source": [
    "print(best_score)"
   ]
  },
  {
   "cell_type": "code",
   "execution_count": 21,
   "metadata": {
    "ExecuteTime": {
     "end_time": "2018-04-08T11:41:52.761624Z",
     "start_time": "2018-04-08T11:41:52.663664Z"
    }
   },
   "outputs": [],
   "source": [
    "pos_infnet6yr_spirng = nx.spring_layout(g_infnet6yr)"
   ]
  },
  {
   "cell_type": "code",
   "execution_count": 22,
   "metadata": {
    "ExecuteTime": {
     "end_time": "2018-04-08T11:41:52.862069Z",
     "start_time": "2018-04-08T11:41:52.763094Z"
    }
   },
   "outputs": [],
   "source": [
    "G_infnet6yr_gn = create_community_graph(best_partition_gn_infnet6yr, g_infnet6yr)  # create graph\n",
    "pos_G_infnet6yr_gn = nx.spring_layout(G_infnet6yr_gn, k=.2, pos=pos_infnet6yr_spirng)  # create pos"
   ]
  },
  {
   "cell_type": "code",
   "execution_count": 23,
   "metadata": {
    "ExecuteTime": {
     "end_time": "2018-04-08T11:41:52.867200Z",
     "start_time": "2018-04-08T11:41:52.863585Z"
    }
   },
   "outputs": [
    {
     "name": "stdout",
     "output_type": "stream",
     "text": [
      "{1, 2, 3, 4, 5, 6, 7, 8, 9, 10, 11, 12, 13, 14, 15, 16, 17}\n"
     ]
    }
   ],
   "source": [
    "a=set()\n",
    "for i,j in best_partition_gn_infnet6yr.items():\n",
    "    a.add(j)\n",
    "print(a)"
   ]
  },
  {
   "cell_type": "markdown",
   "metadata": {},
   "source": [
    "### Modularity opitmisation"
   ]
  },
  {
   "cell_type": "code",
   "execution_count": 24,
   "metadata": {
    "ExecuteTime": {
     "end_time": "2018-04-08T11:41:52.905114Z",
     "start_time": "2018-04-08T11:41:52.868696Z"
    }
   },
   "outputs": [
    {
     "name": "stdout",
     "output_type": "stream",
     "text": [
      "0.756301747224162\n"
     ]
    }
   ],
   "source": [
    "best_partition_mod_infnet6yr = community.best_partition(g_infnet6yr)\n",
    "print(community.modularity(best_partition_mod_infnet6yr, g_infnet6yr))"
   ]
  },
  {
   "cell_type": "code",
   "execution_count": 25,
   "metadata": {
    "ExecuteTime": {
     "end_time": "2018-04-08T11:41:52.935126Z",
     "start_time": "2018-04-08T11:41:52.907123Z"
    }
   },
   "outputs": [],
   "source": [
    "G_infnet6yr_mod = create_community_graph(best_partition_mod_infnet6yr, g_infnet6yr)"
   ]
  },
  {
   "cell_type": "code",
   "execution_count": 26,
   "metadata": {
    "ExecuteTime": {
     "end_time": "2018-04-08T11:41:52.954085Z",
     "start_time": "2018-04-08T11:41:52.936648Z"
    }
   },
   "outputs": [
    {
     "name": "stdout",
     "output_type": "stream",
     "text": [
      "{0, 1, 2, 3, 4, 5, 6, 7, 8, 9, 10, 11, 12, 13, 14, 15}\n"
     ]
    }
   ],
   "source": [
    "a=set()\n",
    "for i,j in best_partition_mod_infnet6yr.items():\n",
    "    a.add(j)\n",
    "print(a)"
   ]
  },
  {
   "cell_type": "markdown",
   "metadata": {},
   "source": [
    "## Homophily"
   ]
  },
  {
   "cell_type": "markdown",
   "metadata": {},
   "source": [
    "### by institute"
   ]
  },
  {
   "cell_type": "code",
   "execution_count": 106,
   "metadata": {
    "ExecuteTime": {
     "end_time": "2018-04-08T12:25:46.374029Z",
     "start_time": "2018-04-08T12:25:46.367143Z"
    }
   },
   "outputs": [],
   "source": [
    "edges_dict, mat, count_dict, attr_names = get_mixing_dict(\n",
    "    g_infnet6yr,\n",
    "    'institute',\n",
    "    characteristic_type='attribute',target_order=inst_order)"
   ]
  },
  {
   "cell_type": "code",
   "execution_count": 107,
   "metadata": {
    "ExecuteTime": {
     "end_time": "2018-04-08T12:25:49.524189Z",
     "start_time": "2018-04-08T12:25:49.462716Z"
    },
    "scrolled": true
   },
   "outputs": [
    {
     "name": "stderr",
     "output_type": "stream",
     "text": [
      "2018-04-08 13:25:49,463 : INFO : UNKNOWN(8) - centre for intelligent systems and their applications(18)\n",
      "\twithin_i:4.0 within_j:25.0 btw_ij:3.0\n",
      "\t0.426 & 0.094\n",
      "2018-04-08 13:25:49,464 : INFO : UNKNOWN(8) - institute of language cognition and computation(42)\n",
      "\twithin_i:4.0 within_j:93.0 btw_ij:7.0\n",
      "\t0.269 & 0.067\n",
      "2018-04-08 13:25:49,465 : INFO : UNKNOWN(8) - laboratory for foundations of computer science(49)\n",
      "\twithin_i:4.0 within_j:55.0 btw_ij:1.0\n",
      "\t0.241 & 0.017\n",
      "2018-04-08 13:25:49,466 : INFO : UNKNOWN(8) - institute for adaptive and neural computation(20)\n",
      "\twithin_i:4.0 within_j:20.0 btw_ij:0.0\n",
      "\t0.408 & 0.000\n",
      "2018-04-08 13:25:49,467 : INFO : UNKNOWN(8) - institute for computing systems architecture(21)\n",
      "\twithin_i:4.0 within_j:32.0 btw_ij:0.0\n",
      "\t0.400 & 0.000\n",
      "2018-04-08 13:25:49,467 : INFO : UNKNOWN(8) - neuroinformatics dtc(12)\n",
      "\twithin_i:4.0 within_j:0.0 btw_ij:0.0\n",
      "\t0.480 & 0.000\n",
      "2018-04-08 13:25:49,468 : INFO : UNKNOWN(8) - institute of perception action and behaviour(12)\n",
      "\twithin_i:4.0 within_j:11.0 btw_ij:1.0\n",
      "\t0.480 & 0.062\n",
      "2018-04-08 13:25:49,469 : INFO : UNKNOWN(8) - deanery of clinical sciences(1)\n",
      "\twithin_i:4.0 within_j:0.0 btw_ij:0.0\n",
      "\t0.198 & 0.000\n",
      "2018-04-08 13:25:49,470 : INFO : UNKNOWN(8) - school of philosophy psychology and language sciences(1)\n",
      "\twithin_i:4.0 within_j:0.0 btw_ij:0.0\n",
      "\t0.198 & 0.000\n",
      "2018-04-08 13:25:49,470 : INFO : centre for intelligent systems and their applications(18) - UNKNOWN(8)\n",
      "\twithin_i:25.0 within_j:4.0 btw_ij:3.0\n",
      "\t0.426 & 0.094\n",
      "2018-04-08 13:25:49,471 : INFO : centre for intelligent systems and their applications(18) - institute of language cognition and computation(42)\n",
      "\twithin_i:25.0 within_j:93.0 btw_ij:6.0\n",
      "\t0.420 & 0.048\n",
      "2018-04-08 13:25:49,472 : INFO : centre for intelligent systems and their applications(18) - laboratory for foundations of computer science(49)\n",
      "\twithin_i:25.0 within_j:55.0 btw_ij:10.0\n",
      "\t0.393 & 0.111\n",
      "2018-04-08 13:25:49,472 : INFO : centre for intelligent systems and their applications(18) - institute for adaptive and neural computation(20)\n",
      "\twithin_i:25.0 within_j:20.0 btw_ij:1.0\n",
      "\t0.499 & 0.022\n",
      "2018-04-08 13:25:49,473 : INFO : centre for intelligent systems and their applications(18) - institute for computing systems architecture(21)\n",
      "\twithin_i:25.0 within_j:32.0 btw_ij:0.0\n",
      "\t0.497 & 0.000\n",
      "2018-04-08 13:25:49,473 : INFO : centre for intelligent systems and their applications(18) - neuroinformatics dtc(12)\n",
      "\twithin_i:25.0 within_j:0.0 btw_ij:0.0\n",
      "\t0.480 & 0.000\n",
      "2018-04-08 13:25:49,474 : INFO : centre for intelligent systems and their applications(18) - institute of perception action and behaviour(12)\n",
      "\twithin_i:25.0 within_j:11.0 btw_ij:3.0\n",
      "\t0.480 & 0.077\n",
      "2018-04-08 13:25:49,475 : INFO : centre for intelligent systems and their applications(18) - deanery of clinical sciences(1)\n",
      "\twithin_i:25.0 within_j:0.0 btw_ij:0.0\n",
      "\t0.100 & 0.000\n",
      "2018-04-08 13:25:49,476 : INFO : centre for intelligent systems and their applications(18) - school of philosophy psychology and language sciences(1)\n",
      "\twithin_i:25.0 within_j:0.0 btw_ij:1.0\n",
      "\t0.100 & 0.038\n",
      "2018-04-08 13:25:49,476 : INFO : institute of language cognition and computation(42) - UNKNOWN(8)\n",
      "\twithin_i:93.0 within_j:4.0 btw_ij:7.0\n",
      "\t0.269 & 0.067\n",
      "2018-04-08 13:25:49,477 : INFO : institute of language cognition and computation(42) - centre for intelligent systems and their applications(18)\n",
      "\twithin_i:93.0 within_j:25.0 btw_ij:6.0\n",
      "\t0.420 & 0.048\n",
      "2018-04-08 13:25:49,478 : INFO : institute of language cognition and computation(42) - laboratory for foundations of computer science(49)\n",
      "\twithin_i:93.0 within_j:55.0 btw_ij:9.0\n",
      "\t0.497 & 0.057\n",
      "2018-04-08 13:25:49,478 : INFO : institute of language cognition and computation(42) - institute for adaptive and neural computation(20)\n",
      "\twithin_i:93.0 within_j:20.0 btw_ij:16.0\n",
      "\t0.437 & 0.124\n",
      "2018-04-08 13:25:49,479 : INFO : institute of language cognition and computation(42) - institute for computing systems architecture(21)\n",
      "\twithin_i:93.0 within_j:32.0 btw_ij:3.0\n",
      "\t0.444 & 0.023\n",
      "2018-04-08 13:25:49,480 : INFO : institute of language cognition and computation(42) - neuroinformatics dtc(12)\n",
      "\twithin_i:93.0 within_j:0.0 btw_ij:1.0\n",
      "\t0.346 & 0.011\n",
      "2018-04-08 13:25:49,480 : INFO : institute of language cognition and computation(42) - institute of perception action and behaviour(12)\n",
      "\twithin_i:93.0 within_j:11.0 btw_ij:5.0\n",
      "\t0.346 & 0.046\n",
      "2018-04-08 13:25:49,481 : INFO : institute of language cognition and computation(42) - deanery of clinical sciences(1)\n",
      "\twithin_i:93.0 within_j:0.0 btw_ij:0.0\n",
      "\t0.045 & 0.000\n",
      "2018-04-08 13:25:49,482 : INFO : institute of language cognition and computation(42) - school of philosophy psychology and language sciences(1)\n",
      "\twithin_i:93.0 within_j:0.0 btw_ij:5.0\n",
      "\t0.045 & 0.051\n",
      "2018-04-08 13:25:49,483 : INFO : laboratory for foundations of computer science(49) - UNKNOWN(8)\n",
      "\twithin_i:55.0 within_j:4.0 btw_ij:1.0\n",
      "\t0.241 & 0.017\n",
      "2018-04-08 13:25:49,483 : INFO : laboratory for foundations of computer science(49) - centre for intelligent systems and their applications(18)\n",
      "\twithin_i:55.0 within_j:25.0 btw_ij:10.0\n",
      "\t0.393 & 0.111\n",
      "2018-04-08 13:25:49,484 : INFO : laboratory for foundations of computer science(49) - institute of language cognition and computation(42)\n",
      "\twithin_i:55.0 within_j:93.0 btw_ij:9.0\n",
      "\t0.497 & 0.057\n",
      "2018-04-08 13:25:49,485 : INFO : laboratory for foundations of computer science(49) - institute for adaptive and neural computation(20)\n",
      "\twithin_i:55.0 within_j:20.0 btw_ij:8.0\n",
      "\t0.412 & 0.096\n",
      "2018-04-08 13:25:49,485 : INFO : laboratory for foundations of computer science(49) - institute for computing systems architecture(21)\n",
      "\twithin_i:55.0 within_j:32.0 btw_ij:9.0\n",
      "\t0.420 & 0.094\n",
      "2018-04-08 13:25:49,486 : INFO : laboratory for foundations of computer science(49) - neuroinformatics dtc(12)\n",
      "\twithin_i:55.0 within_j:0.0 btw_ij:0.0\n",
      "\t0.316 & 0.000\n",
      "2018-04-08 13:25:49,487 : INFO : laboratory for foundations of computer science(49) - institute of perception action and behaviour(12)\n",
      "\twithin_i:55.0 within_j:11.0 btw_ij:0.0\n",
      "\t0.316 & 0.000\n",
      "2018-04-08 13:25:49,488 : INFO : laboratory for foundations of computer science(49) - deanery of clinical sciences(1)\n",
      "\twithin_i:55.0 within_j:0.0 btw_ij:0.0\n",
      "\t0.039 & 0.000\n",
      "2018-04-08 13:25:49,488 : INFO : laboratory for foundations of computer science(49) - school of philosophy psychology and language sciences(1)\n",
      "\twithin_i:55.0 within_j:0.0 btw_ij:2.0\n",
      "\t0.039 & 0.035\n",
      "2018-04-08 13:25:49,489 : INFO : institute for adaptive and neural computation(20) - UNKNOWN(8)\n",
      "\twithin_i:20.0 within_j:4.0 btw_ij:0.0\n",
      "\t0.408 & 0.000\n",
      "2018-04-08 13:25:49,490 : INFO : institute for adaptive and neural computation(20) - centre for intelligent systems and their applications(18)\n",
      "\twithin_i:20.0 within_j:25.0 btw_ij:1.0\n",
      "\t0.499 & 0.022\n",
      "2018-04-08 13:25:49,490 : INFO : institute for adaptive and neural computation(20) - institute of language cognition and computation(42)\n",
      "\twithin_i:20.0 within_j:93.0 btw_ij:16.0\n",
      "\t0.437 & 0.124\n",
      "2018-04-08 13:25:49,491 : INFO : institute for adaptive and neural computation(20) - laboratory for foundations of computer science(49)\n",
      "\twithin_i:20.0 within_j:55.0 btw_ij:8.0\n",
      "\t0.412 & 0.096\n",
      "2018-04-08 13:25:49,491 : INFO : institute for adaptive and neural computation(20) - institute for computing systems architecture(21)\n",
      "\twithin_i:20.0 within_j:32.0 btw_ij:1.0\n",
      "\t0.500 & 0.019\n",
      "2018-04-08 13:25:49,492 : INFO : institute for adaptive and neural computation(20) - neuroinformatics dtc(12)\n",
      "\twithin_i:20.0 within_j:0.0 btw_ij:16.0\n",
      "\t0.469 & 0.444\n",
      "2018-04-08 13:25:49,492 : INFO : institute for adaptive and neural computation(20) - institute of perception action and behaviour(12)\n",
      "\twithin_i:20.0 within_j:11.0 btw_ij:5.0\n",
      "\t0.469 & 0.139\n",
      "2018-04-08 13:25:49,493 : INFO : institute for adaptive and neural computation(20) - deanery of clinical sciences(1)\n",
      "\twithin_i:20.0 within_j:0.0 btw_ij:0.0\n",
      "\t0.091 & 0.000\n",
      "2018-04-08 13:25:49,494 : INFO : institute for adaptive and neural computation(20) - school of philosophy psychology and language sciences(1)\n",
      "\twithin_i:20.0 within_j:0.0 btw_ij:0.0\n",
      "\t0.091 & 0.000\n",
      "2018-04-08 13:25:49,494 : INFO : institute for computing systems architecture(21) - UNKNOWN(8)\n",
      "\twithin_i:32.0 within_j:4.0 btw_ij:0.0\n",
      "\t0.400 & 0.000\n",
      "2018-04-08 13:25:49,495 : INFO : institute for computing systems architecture(21) - centre for intelligent systems and their applications(18)\n",
      "\twithin_i:32.0 within_j:25.0 btw_ij:0.0\n",
      "\t0.497 & 0.000\n"
     ]
    },
    {
     "name": "stderr",
     "output_type": "stream",
     "text": [
      "2018-04-08 13:25:49,496 : INFO : institute for computing systems architecture(21) - institute of language cognition and computation(42)\n",
      "\twithin_i:32.0 within_j:93.0 btw_ij:3.0\n",
      "\t0.444 & 0.023\n",
      "2018-04-08 13:25:49,496 : INFO : institute for computing systems architecture(21) - laboratory for foundations of computer science(49)\n",
      "\twithin_i:32.0 within_j:55.0 btw_ij:9.0\n",
      "\t0.420 & 0.094\n",
      "2018-04-08 13:25:49,497 : INFO : institute for computing systems architecture(21) - institute for adaptive and neural computation(20)\n",
      "\twithin_i:32.0 within_j:20.0 btw_ij:1.0\n",
      "\t0.500 & 0.019\n",
      "2018-04-08 13:25:49,498 : INFO : institute for computing systems architecture(21) - neuroinformatics dtc(12)\n",
      "\twithin_i:32.0 within_j:0.0 btw_ij:0.0\n",
      "\t0.463 & 0.000\n",
      "2018-04-08 13:25:49,498 : INFO : institute for computing systems architecture(21) - institute of perception action and behaviour(12)\n",
      "\twithin_i:32.0 within_j:11.0 btw_ij:4.0\n",
      "\t0.463 & 0.085\n",
      "2018-04-08 13:25:49,499 : INFO : institute for computing systems architecture(21) - deanery of clinical sciences(1)\n",
      "\twithin_i:32.0 within_j:0.0 btw_ij:0.0\n",
      "\t0.087 & 0.000\n",
      "2018-04-08 13:25:49,499 : INFO : institute for computing systems architecture(21) - school of philosophy psychology and language sciences(1)\n",
      "\twithin_i:32.0 within_j:0.0 btw_ij:0.0\n",
      "\t0.087 & 0.000\n",
      "2018-04-08 13:25:49,500 : INFO : neuroinformatics dtc(12) - UNKNOWN(8)\n",
      "\twithin_i:0.0 within_j:4.0 btw_ij:0.0\n",
      "\t0.480 & 0.000\n",
      "2018-04-08 13:25:49,501 : INFO : neuroinformatics dtc(12) - centre for intelligent systems and their applications(18)\n",
      "\twithin_i:0.0 within_j:25.0 btw_ij:0.0\n",
      "\t0.480 & 0.000\n",
      "2018-04-08 13:25:49,501 : INFO : neuroinformatics dtc(12) - institute of language cognition and computation(42)\n",
      "\twithin_i:0.0 within_j:93.0 btw_ij:1.0\n",
      "\t0.346 & 0.011\n",
      "2018-04-08 13:25:49,502 : INFO : neuroinformatics dtc(12) - laboratory for foundations of computer science(49)\n",
      "\twithin_i:0.0 within_j:55.0 btw_ij:0.0\n",
      "\t0.316 & 0.000\n",
      "2018-04-08 13:25:49,502 : INFO : neuroinformatics dtc(12) - institute for adaptive and neural computation(20)\n",
      "\twithin_i:0.0 within_j:20.0 btw_ij:16.0\n",
      "\t0.469 & 0.444\n",
      "2018-04-08 13:25:49,503 : INFO : neuroinformatics dtc(12) - institute for computing systems architecture(21)\n",
      "\twithin_i:0.0 within_j:32.0 btw_ij:0.0\n",
      "\t0.463 & 0.000\n",
      "2018-04-08 13:25:49,504 : INFO : neuroinformatics dtc(12) - institute of perception action and behaviour(12)\n",
      "\twithin_i:0.0 within_j:11.0 btw_ij:3.0\n",
      "\t0.500 & 0.214\n",
      "/afs/inf.ed.ac.uk/user/s14/s1450710/miniconda3/envs/infnet3/lib/python3.6/site-packages/ipykernel_launcher.py:39: RuntimeWarning: invalid value encountered in double_scalars\n",
      "2018-04-08 13:25:49,504 : INFO : neuroinformatics dtc(12) - deanery of clinical sciences(1)\n",
      "\twithin_i:0.0 within_j:0.0 btw_ij:0.0\n",
      "\t0.142 & nan\n",
      "2018-04-08 13:25:49,505 : INFO : neuroinformatics dtc(12) - school of philosophy psychology and language sciences(1)\n",
      "\twithin_i:0.0 within_j:0.0 btw_ij:0.0\n",
      "\t0.142 & nan\n",
      "2018-04-08 13:25:49,506 : INFO : institute of perception action and behaviour(12) - UNKNOWN(8)\n",
      "\twithin_i:11.0 within_j:4.0 btw_ij:1.0\n",
      "\t0.480 & 0.062\n",
      "2018-04-08 13:25:49,507 : INFO : institute of perception action and behaviour(12) - centre for intelligent systems and their applications(18)\n",
      "\twithin_i:11.0 within_j:25.0 btw_ij:3.0\n",
      "\t0.480 & 0.077\n",
      "2018-04-08 13:25:49,507 : INFO : institute of perception action and behaviour(12) - institute of language cognition and computation(42)\n",
      "\twithin_i:11.0 within_j:93.0 btw_ij:5.0\n",
      "\t0.346 & 0.046\n",
      "2018-04-08 13:25:49,508 : INFO : institute of perception action and behaviour(12) - laboratory for foundations of computer science(49)\n",
      "\twithin_i:11.0 within_j:55.0 btw_ij:0.0\n",
      "\t0.316 & 0.000\n",
      "2018-04-08 13:25:49,508 : INFO : institute of perception action and behaviour(12) - institute for adaptive and neural computation(20)\n",
      "\twithin_i:11.0 within_j:20.0 btw_ij:5.0\n",
      "\t0.469 & 0.139\n",
      "2018-04-08 13:25:49,509 : INFO : institute of perception action and behaviour(12) - institute for computing systems architecture(21)\n",
      "\twithin_i:11.0 within_j:32.0 btw_ij:4.0\n",
      "\t0.463 & 0.085\n",
      "2018-04-08 13:25:49,510 : INFO : institute of perception action and behaviour(12) - neuroinformatics dtc(12)\n",
      "\twithin_i:11.0 within_j:0.0 btw_ij:3.0\n",
      "\t0.500 & 0.214\n",
      "2018-04-08 13:25:49,510 : INFO : institute of perception action and behaviour(12) - deanery of clinical sciences(1)\n",
      "\twithin_i:11.0 within_j:0.0 btw_ij:0.0\n",
      "\t0.142 & 0.000\n",
      "2018-04-08 13:25:49,511 : INFO : institute of perception action and behaviour(12) - school of philosophy psychology and language sciences(1)\n",
      "\twithin_i:11.0 within_j:0.0 btw_ij:0.0\n",
      "\t0.142 & 0.000\n",
      "2018-04-08 13:25:49,511 : INFO : deanery of clinical sciences(1) - UNKNOWN(8)\n",
      "\twithin_i:0.0 within_j:4.0 btw_ij:0.0\n",
      "\t0.198 & 0.000\n",
      "2018-04-08 13:25:49,512 : INFO : deanery of clinical sciences(1) - centre for intelligent systems and their applications(18)\n",
      "\twithin_i:0.0 within_j:25.0 btw_ij:0.0\n",
      "\t0.100 & 0.000\n",
      "2018-04-08 13:25:49,513 : INFO : deanery of clinical sciences(1) - institute of language cognition and computation(42)\n",
      "\twithin_i:0.0 within_j:93.0 btw_ij:0.0\n",
      "\t0.045 & 0.000\n",
      "2018-04-08 13:25:49,513 : INFO : deanery of clinical sciences(1) - laboratory for foundations of computer science(49)\n",
      "\twithin_i:0.0 within_j:55.0 btw_ij:0.0\n",
      "\t0.039 & 0.000\n",
      "2018-04-08 13:25:49,514 : INFO : deanery of clinical sciences(1) - institute for adaptive and neural computation(20)\n",
      "\twithin_i:0.0 within_j:20.0 btw_ij:0.0\n",
      "\t0.091 & 0.000\n",
      "2018-04-08 13:25:49,515 : INFO : deanery of clinical sciences(1) - institute for computing systems architecture(21)\n",
      "\twithin_i:0.0 within_j:32.0 btw_ij:0.0\n",
      "\t0.087 & 0.000\n",
      "2018-04-08 13:25:49,515 : INFO : deanery of clinical sciences(1) - neuroinformatics dtc(12)\n",
      "\twithin_i:0.0 within_j:0.0 btw_ij:0.0\n",
      "\t0.142 & nan\n",
      "2018-04-08 13:25:49,516 : INFO : deanery of clinical sciences(1) - institute of perception action and behaviour(12)\n",
      "\twithin_i:0.0 within_j:11.0 btw_ij:0.0\n",
      "\t0.142 & 0.000\n",
      "2018-04-08 13:25:49,516 : INFO : deanery of clinical sciences(1) - school of philosophy psychology and language sciences(1)\n",
      "\twithin_i:0.0 within_j:0.0 btw_ij:1.0\n",
      "\t0.500 & 1.000\n",
      "2018-04-08 13:25:49,517 : INFO : school of philosophy psychology and language sciences(1) - UNKNOWN(8)\n",
      "\twithin_i:0.0 within_j:4.0 btw_ij:0.0\n",
      "\t0.198 & 0.000\n",
      "2018-04-08 13:25:49,518 : INFO : school of philosophy psychology and language sciences(1) - centre for intelligent systems and their applications(18)\n",
      "\twithin_i:0.0 within_j:25.0 btw_ij:1.0\n",
      "\t0.100 & 0.038\n",
      "2018-04-08 13:25:49,518 : INFO : school of philosophy psychology and language sciences(1) - institute of language cognition and computation(42)\n",
      "\twithin_i:0.0 within_j:93.0 btw_ij:5.0\n",
      "\t0.045 & 0.051\n",
      "2018-04-08 13:25:49,519 : INFO : school of philosophy psychology and language sciences(1) - laboratory for foundations of computer science(49)\n",
      "\twithin_i:0.0 within_j:55.0 btw_ij:2.0\n",
      "\t0.039 & 0.035\n",
      "2018-04-08 13:25:49,519 : INFO : school of philosophy psychology and language sciences(1) - institute for adaptive and neural computation(20)\n",
      "\twithin_i:0.0 within_j:20.0 btw_ij:0.0\n",
      "\t0.091 & 0.000\n",
      "2018-04-08 13:25:49,520 : INFO : school of philosophy psychology and language sciences(1) - institute for computing systems architecture(21)\n",
      "\twithin_i:0.0 within_j:32.0 btw_ij:0.0\n",
      "\t0.087 & 0.000\n",
      "2018-04-08 13:25:49,521 : INFO : school of philosophy psychology and language sciences(1) - neuroinformatics dtc(12)\n",
      "\twithin_i:0.0 within_j:0.0 btw_ij:0.0\n",
      "\t0.142 & nan\n",
      "2018-04-08 13:25:49,521 : INFO : school of philosophy psychology and language sciences(1) - institute of perception action and behaviour(12)\n",
      "\twithin_i:0.0 within_j:11.0 btw_ij:0.0\n",
      "\t0.142 & 0.000\n",
      "2018-04-08 13:25:49,522 : INFO : school of philosophy psychology and language sciences(1) - deanery of clinical sciences(1)\n",
      "\twithin_i:0.0 within_j:0.0 btw_ij:1.0\n",
      "\t0.500 & 1.000\n"
     ]
    }
   ],
   "source": [
    "res_prob, res_frac = pairwise_comparison(mat, attr_names, count_dict)"
   ]
  },
  {
   "cell_type": "code",
   "execution_count": 121,
   "metadata": {
    "ExecuteTime": {
     "end_time": "2018-04-08T12:29:04.069292Z",
     "start_time": "2018-04-08T12:29:03.720118Z"
    }
   },
   "outputs": [
    {
     "data": {
      "image/png": "[encoded data removed]",
      "text/plain": [
       "<matplotlib.figure.Figure at 0x7f806a0d4d68>"
      ]
     },
     "metadata": {},
     "output_type": "display_data"
    }
   ],
   "source": [
    "# element wise division with res_prob, s.t. if >= 1 then cross-edges more than expected\n",
    "res = np.subtract(res_frac,res_prob)\n",
    "\n",
    "f = plt.figure(figsize=(10,8))\n",
    "ax= f.add_subplot(111)\n",
    "cbar_ax = f.add_axes([0.7, .55, .05, .3])\n",
    "cbar_ax.set_xlabel('difference from $2pq$')\n",
    "ax = sns.heatmap(\n",
    "    res[1:-2,1:-2],\n",
    "    yticklabels=[x + \" ({})\".format(i) for i,x in enumerate(attr_names[1:-2])],\n",
    "    cmap=sns.diverging_palette(240, 20, n=9, as_cmap=True),\n",
    "    annot=True,\n",
    "    linewidths=2,\n",
    "#     center=0,\n",
    "    square=True,\n",
    "    ax=ax,\n",
    "#     cbar=True,\n",
    "    cbar_ax=cbar_ax,\n",
    "    mask=np.triu(np.zeros_like(res_frac[1:-2,1:-2])==0),\n",
    "    robust=True)\n",
    "# f.tight_layout()"
   ]
  },
  {
   "cell_type": "code",
   "execution_count": 122,
   "metadata": {
    "ExecuteTime": {
     "end_time": "2018-04-08T12:29:07.210937Z",
     "start_time": "2018-04-08T12:29:07.040134Z"
    }
   },
   "outputs": [],
   "source": [
    "f.savefig('IMG/homo_inst_infnet6yr.pdf',format='pdf',bbox_inches='tight')"
   ]
  },
  {
   "cell_type": "code",
   "execution_count": 31,
   "metadata": {
    "ExecuteTime": {
     "end_time": "2018-04-08T11:41:53.497687Z",
     "start_time": "2018-04-08T11:41:53.494583Z"
    }
   },
   "outputs": [
    {
     "data": {
      "text/plain": [
       "{'UNKNOWN': 8,\n",
       " 'centre for intelligent systems and their applications': 18,\n",
       " 'deanery of clinical sciences': 1,\n",
       " 'institute for adaptive and neural computation': 20,\n",
       " 'institute for computing systems architecture': 21,\n",
       " 'institute of language cognition and computation': 42,\n",
       " 'institute of perception action and behaviour': 12,\n",
       " 'laboratory for foundations of computer science': 49,\n",
       " 'neuroinformatics dtc': 12,\n",
       " 'school of philosophy psychology and language sciences': 1}"
      ]
     },
     "execution_count": 31,
     "metadata": {},
     "output_type": "execute_result"
    }
   ],
   "source": [
    "count_dict"
   ]
  },
  {
   "cell_type": "code",
   "execution_count": 32,
   "metadata": {
    "ExecuteTime": {
     "end_time": "2018-04-08T11:41:53.522850Z",
     "start_time": "2018-04-08T11:41:53.499183Z"
    },
    "scrolled": false
   },
   "outputs": [
    {
     "name": "stderr",
     "output_type": "stream",
     "text": [
      "2018-04-08 12:41:53,514 : INFO : UNKNOWN within:4.0 outside:12.0\n",
      "0.083 & 0.033\n",
      "2018-04-08 12:41:53,515 : INFO : centre for intelligent systems and their applications within:25.0 outside:24.0\n",
      "0.177 & 0.066\n",
      "2018-04-08 12:41:53,515 : INFO : institute of language cognition and computation within:93.0 outside:52.0\n",
      "0.352 & 0.144\n",
      "2018-04-08 12:41:53,516 : INFO : laboratory for foundations of computer science within:55.0 outside:39.0\n",
      "0.391 & 0.108\n",
      "2018-04-08 12:41:53,517 : INFO : institute for adaptive and neural computation within:20.0 outside:47.0\n",
      "0.194 & 0.130\n",
      "2018-04-08 12:41:53,518 : INFO : institute for computing systems architecture within:32.0 outside:17.0\n",
      "0.202 & 0.047\n",
      "2018-04-08 12:41:53,518 : INFO : neuroinformatics dtc within:0.0 outside:20.0\n",
      "0.122 & 0.055\n",
      "2018-04-08 12:41:53,519 : INFO : institute of perception action and behaviour within:11.0 outside:21.0\n",
      "0.122 & 0.058\n",
      "2018-04-08 12:41:53,520 : INFO : deanery of clinical sciences within:0.0 outside:1.0\n",
      "0.011 & 0.003\n",
      "2018-04-08 12:41:53,520 : INFO : school of philosophy psychology and language sciences within:0.0 outside:9.0\n",
      "0.011 & 0.025\n"
     ]
    }
   ],
   "source": [
    "diff = one_vs_world(mat, attr_names, count_dict)"
   ]
  },
  {
   "cell_type": "code",
   "execution_count": 33,
   "metadata": {
    "ExecuteTime": {
     "end_time": "2018-04-08T11:41:53.534305Z",
     "start_time": "2018-04-08T11:41:53.524302Z"
    }
   },
   "outputs": [
    {
     "name": "stdout",
     "output_type": "stream",
     "text": [
      "-0.050\n",
      "-0.110\n",
      "-0.208\n",
      "-0.283\n",
      "-0.064\n",
      "-0.155\n",
      "-0.067\n",
      "-0.064\n",
      "-0.008\n",
      "0.014\n"
     ]
    }
   ],
   "source": [
    "for i in diff:\n",
    "    print('{:.3f}'.format(i))"
   ]
  },
  {
   "cell_type": "code",
   "execution_count": 34,
   "metadata": {
    "ExecuteTime": {
     "end_time": "2018-04-08T11:41:53.552797Z",
     "start_time": "2018-04-08T11:41:53.535642Z"
    }
   },
   "outputs": [
    {
     "data": {
      "text/plain": [
       "-0.09938648419376965"
      ]
     },
     "execution_count": 34,
     "metadata": {},
     "output_type": "execute_result"
    }
   ],
   "source": [
    "np.mean(diff)"
   ]
  },
  {
   "cell_type": "markdown",
   "metadata": {},
   "source": [
    "###  by node degree"
   ]
  },
  {
   "cell_type": "code",
   "execution_count": 197,
   "metadata": {
    "ExecuteTime": {
     "end_time": "2018-04-08T13:42:39.162471Z",
     "start_time": "2018-04-08T13:42:39.158191Z"
    }
   },
   "outputs": [],
   "source": [
    "# add degree info\n",
    "nx.set_node_attributes(g_infnet6yr,dict(g_infnet6yr.degree),'degree')"
   ]
  },
  {
   "cell_type": "code",
   "execution_count": 195,
   "metadata": {
    "ExecuteTime": {
     "end_time": "2018-04-08T13:41:58.489177Z",
     "start_time": "2018-04-08T13:41:58.477813Z"
    }
   },
   "outputs": [],
   "source": [
    "edges_dict, mat, count_dict, attr_names = get_mixing_dict(\n",
    "    g_infnet6yr,\n",
    "    'degree',\n",
    "    characteristic_type='degree')"
   ]
  },
  {
   "cell_type": "code",
   "execution_count": 203,
   "metadata": {
    "ExecuteTime": {
     "end_time": "2018-04-08T13:44:49.604746Z",
     "start_time": "2018-04-08T13:44:49.595419Z"
    }
   },
   "outputs": [],
   "source": [
    "degree__ = {}\n",
    "for i,d in g_infnet6yr.nodes(data=True):\n",
    "    if d['degree'] >=10:\n",
    "        try:\n",
    "            degree__[d['degree']].add(i)\n",
    "        except KeyError:\n",
    "            degree__[d['degree']] = set(list([i]))"
   ]
  },
  {
   "cell_type": "code",
   "execution_count": 204,
   "metadata": {
    "ExecuteTime": {
     "end_time": "2018-04-08T13:44:52.706649Z",
     "start_time": "2018-04-08T13:44:52.702749Z"
    }
   },
   "outputs": [
    {
     "data": {
      "text/plain": [
       "{10: {'1b064412-0109-4090-a60f-bafcbbad74be',\n",
       "  '1c6a1e04-4291-426e-a921-42be34ba8494'},\n",
       " 11: {'d173bfd9-d693-428d-a61f-9ad70c4649d2',\n",
       "  'f0e55345-3da8-451d-bd30-8b1068015efc',\n",
       "  'f804a9ce-5cc1-456b-b652-a91c8e034c68'},\n",
       " 12: {'2b36a690-b726-438e-8eb7-1128a7e7775d',\n",
       "  '3dd7e2c0-ebc3-4ab7-918b-5bacb961ce91',\n",
       "  '9cb66eca-0de2-438b-8896-9c5d6d748601'},\n",
       " 17: {'570a3e8e-0e1c-4d8e-8cf5-8374bdc9a5c4'},\n",
       " 18: {'3593b144-170a-4242-90cf-16ffbe82f45f'}}"
      ]
     },
     "execution_count": 204,
     "metadata": {},
     "output_type": "execute_result"
    }
   ],
   "source": [
    "degree__"
   ]
  },
  {
   "cell_type": "code",
   "execution_count": 213,
   "metadata": {
    "ExecuteTime": {
     "end_time": "2018-04-08T13:47:59.747888Z",
     "start_time": "2018-04-08T13:47:59.729528Z"
    }
   },
   "outputs": [],
   "source": [
    "df=[]\n",
    "for i,k in degree__.items():\n",
    "    df.append(lookup_poinf.loc[list(k)])\n",
    "_df = pd.concat(df)"
   ]
  },
  {
   "cell_type": "code",
   "execution_count": 214,
   "metadata": {
    "ExecuteTime": {
     "end_time": "2018-04-08T13:48:03.254775Z",
     "start_time": "2018-04-08T13:48:03.228094Z"
    }
   },
   "outputs": [
    {
     "data": {
      "text/html": [
       "<div>\n",
       "<style scoped>\n",
       "    .dataframe tbody tr th:only-of-type {\n",
       "        vertical-align: middle;\n",
       "    }\n",
       "\n",
       "    .dataframe tbody tr th {\n",
       "        vertical-align: top;\n",
       "    }\n",
       "\n",
       "    .dataframe thead th {\n",
       "        text-align: right;\n",
       "    }\n",
       "</style>\n",
       "<table border=\"1\" class=\"dataframe\">\n",
       "  <thead>\n",
       "    <tr style=\"text-align: right;\">\n",
       "      <th></th>\n",
       "      <th>last_name</th>\n",
       "      <th>first_name</th>\n",
       "      <th>personal_url</th>\n",
       "      <th>position</th>\n",
       "      <th>parent</th>\n",
       "      <th>institute</th>\n",
       "      <th>full_name</th>\n",
       "      <th>institute_class</th>\n",
       "      <th>alias</th>\n",
       "      <th>first_pub_year</th>\n",
       "      <th>total_pub</th>\n",
       "      <th>total_pub_1997</th>\n",
       "      <th>total_pub_2012</th>\n",
       "      <th>pub_ids</th>\n",
       "    </tr>\n",
       "    <tr>\n",
       "      <th>id</th>\n",
       "      <th></th>\n",
       "      <th></th>\n",
       "      <th></th>\n",
       "      <th></th>\n",
       "      <th></th>\n",
       "      <th></th>\n",
       "      <th></th>\n",
       "      <th></th>\n",
       "      <th></th>\n",
       "      <th></th>\n",
       "      <th></th>\n",
       "      <th></th>\n",
       "      <th></th>\n",
       "      <th></th>\n",
       "    </tr>\n",
       "  </thead>\n",
       "  <tbody>\n",
       "    <tr>\n",
       "      <th>9cb66eca-0de2-438b-8896-9c5d6d748601</th>\n",
       "      <td>moore</td>\n",
       "      <td>johanna</td>\n",
       "      <td>http://www.research.ed.ac.uk/portal/en/persons...</td>\n",
       "      <td>chair of artificial intelligence and head of s...</td>\n",
       "      <td>school of informatics</td>\n",
       "      <td>institute of language cognition and computation</td>\n",
       "      <td>moore johanna</td>\n",
       "      <td>2</td>\n",
       "      <td>moore, j. d.|moore, j.|d. moore, j.</td>\n",
       "      <td>2009.0</td>\n",
       "      <td>168</td>\n",
       "      <td>134</td>\n",
       "      <td>26</td>\n",
       "      <td>{66a493cc-a626-40b5-93cd-08a49287691a, 9a27a67...</td>\n",
       "    </tr>\n",
       "    <tr>\n",
       "      <th>3dd7e2c0-ebc3-4ab7-918b-5bacb961ce91</th>\n",
       "      <td>sennrich</td>\n",
       "      <td>rico</td>\n",
       "      <td>http://www.research.ed.ac.uk/portal/en/persons...</td>\n",
       "      <td>lecturer in machine learning</td>\n",
       "      <td>school of informatics</td>\n",
       "      <td>institute of language cognition and computation</td>\n",
       "      <td>sennrich rico</td>\n",
       "      <td>2</td>\n",
       "      <td>sennrich, r.</td>\n",
       "      <td>2011.0</td>\n",
       "      <td>52</td>\n",
       "      <td>52</td>\n",
       "      <td>38</td>\n",
       "      <td>{90e29f37-7292-4240-8d06-27f544ef8a69, dbec704...</td>\n",
       "    </tr>\n",
       "    <tr>\n",
       "      <th>2b36a690-b726-438e-8eb7-1128a7e7775d</th>\n",
       "      <td>ramamoorthy</td>\n",
       "      <td>ram</td>\n",
       "      <td>http://www.research.ed.ac.uk/portal/en/persons...</td>\n",
       "      <td>reader</td>\n",
       "      <td>school of informatics</td>\n",
       "      <td>institute of perception action and behaviour</td>\n",
       "      <td>ramamoorthy ram</td>\n",
       "      <td>7</td>\n",
       "      <td>ramamoorthy, s.|ramamoorthy, r.</td>\n",
       "      <td>2014.0</td>\n",
       "      <td>79</td>\n",
       "      <td>79</td>\n",
       "      <td>52</td>\n",
       "      <td>{b795e67a-3980-48e5-be62-ecb2cc70a24c, c02079a...</td>\n",
       "    </tr>\n",
       "    <tr>\n",
       "      <th>570a3e8e-0e1c-4d8e-8cf5-8374bdc9a5c4</th>\n",
       "      <td>bell</td>\n",
       "      <td>peter</td>\n",
       "      <td>http://www.research.ed.ac.uk/portal/en/persons...</td>\n",
       "      <td>senior researcher</td>\n",
       "      <td>school of informatics</td>\n",
       "      <td>institute of language cognition and computation</td>\n",
       "      <td>bell peter</td>\n",
       "      <td>2</td>\n",
       "      <td>bell, p.|bell, p. j.</td>\n",
       "      <td>2015.0</td>\n",
       "      <td>49</td>\n",
       "      <td>49</td>\n",
       "      <td>44</td>\n",
       "      <td>{66db19fe-be0d-44c5-b2cb-8158c1f3815e, a960d96...</td>\n",
       "    </tr>\n",
       "    <tr>\n",
       "      <th>3593b144-170a-4242-90cf-16ffbe82f45f</th>\n",
       "      <td>renals</td>\n",
       "      <td>steve</td>\n",
       "      <td>http://www.research.ed.ac.uk/portal/en/persons...</td>\n",
       "      <td>chair of speech technology</td>\n",
       "      <td>school of informatics</td>\n",
       "      <td>institute of language cognition and computation</td>\n",
       "      <td>renals steve</td>\n",
       "      <td>2</td>\n",
       "      <td>renals, s.  (ed.)|renals, s.|renals, s. j.</td>\n",
       "      <td>2015.0</td>\n",
       "      <td>199</td>\n",
       "      <td>198</td>\n",
       "      <td>87</td>\n",
       "      <td>{66a493cc-a626-40b5-93cd-08a49287691a, 66db19f...</td>\n",
       "    </tr>\n",
       "    <tr>\n",
       "      <th>1c6a1e04-4291-426e-a921-42be34ba8494</th>\n",
       "      <td>cheney</td>\n",
       "      <td>james</td>\n",
       "      <td>http://www.research.ed.ac.uk/portal/en/persons...</td>\n",
       "      <td>reader</td>\n",
       "      <td>school of informatics</td>\n",
       "      <td>laboratory for foundations of computer science</td>\n",
       "      <td>cheney james</td>\n",
       "      <td>3</td>\n",
       "      <td>cheney, j.  (ed.)|cheney, j.|cheney, j. r.</td>\n",
       "      <td>2009.0</td>\n",
       "      <td>127</td>\n",
       "      <td>126</td>\n",
       "      <td>51</td>\n",
       "      <td>{209af60b-9309-4fc8-97da-b696812287fb, 144a644...</td>\n",
       "    </tr>\n",
       "    <tr>\n",
       "      <th>1b064412-0109-4090-a60f-bafcbbad74be</th>\n",
       "      <td>kilgour</td>\n",
       "      <td>jonathan</td>\n",
       "      <td>http://www.research.ed.ac.uk/portal/en/persons...</td>\n",
       "      <td>research fellow</td>\n",
       "      <td>school of informatics</td>\n",
       "      <td>institute of language cognition and computation</td>\n",
       "      <td>kilgour jonathan</td>\n",
       "      <td>2</td>\n",
       "      <td>kilgour, j.</td>\n",
       "      <td>2008.0</td>\n",
       "      <td>22</td>\n",
       "      <td>22</td>\n",
       "      <td>4</td>\n",
       "      <td>{8379f9f9-0979-494a-96f8-48f0651809ca, e86b48f...</td>\n",
       "    </tr>\n",
       "    <tr>\n",
       "      <th>f804a9ce-5cc1-456b-b652-a91c8e034c68</th>\n",
       "      <td>birch</td>\n",
       "      <td>alexandra</td>\n",
       "      <td>http://www.research.ed.ac.uk/portal/en/persons...</td>\n",
       "      <td>senior researcher</td>\n",
       "      <td>school of informatics</td>\n",
       "      <td>institute of language cognition and computation</td>\n",
       "      <td>birch alexandra</td>\n",
       "      <td>2</td>\n",
       "      <td>birch-mayne, a.|birch, a.</td>\n",
       "      <td>2013.0</td>\n",
       "      <td>31</td>\n",
       "      <td>31</td>\n",
       "      <td>19</td>\n",
       "      <td>{22636f47-d217-4cd0-87ef-4042ce0cfd64, cfb167d...</td>\n",
       "    </tr>\n",
       "    <tr>\n",
       "      <th>d173bfd9-d693-428d-a61f-9ad70c4649d2</th>\n",
       "      <td>germann</td>\n",
       "      <td>ulrich</td>\n",
       "      <td>http://www.research.ed.ac.uk/portal/en/persons...</td>\n",
       "      <td>senior researcher</td>\n",
       "      <td>school of informatics</td>\n",
       "      <td>institute of language cognition and computation</td>\n",
       "      <td>germann ulrich</td>\n",
       "      <td>2</td>\n",
       "      <td>germann, u.</td>\n",
       "      <td>2017.0</td>\n",
       "      <td>26</td>\n",
       "      <td>26</td>\n",
       "      <td>16</td>\n",
       "      <td>{fe766d2e-c50a-42b2-8a5a-10c0f711d14b, 6ca5998...</td>\n",
       "    </tr>\n",
       "    <tr>\n",
       "      <th>f0e55345-3da8-451d-bd30-8b1068015efc</th>\n",
       "      <td>koehn</td>\n",
       "      <td>philipp</td>\n",
       "      <td>http://www.research.ed.ac.uk/portal/en/persons...</td>\n",
       "      <td>personal chair in machine translation</td>\n",
       "      <td>school of informatics</td>\n",
       "      <td>institute of language cognition and computation</td>\n",
       "      <td>koehn philipp</td>\n",
       "      <td>2</td>\n",
       "      <td>koehn, p.</td>\n",
       "      <td>2007.0</td>\n",
       "      <td>161</td>\n",
       "      <td>161</td>\n",
       "      <td>82</td>\n",
       "      <td>{35c3bf67-828c-43bc-ade2-100003b08704, 66db19f...</td>\n",
       "    </tr>\n",
       "  </tbody>\n",
       "</table>\n",
       "</div>"
      ],
      "text/plain": [
       "                                        last_name first_name  \\\n",
       "id                                                             \n",
       "9cb66eca-0de2-438b-8896-9c5d6d748601        moore    johanna   \n",
       "3dd7e2c0-ebc3-4ab7-918b-5bacb961ce91     sennrich       rico   \n",
       "2b36a690-b726-438e-8eb7-1128a7e7775d  ramamoorthy        ram   \n",
       "570a3e8e-0e1c-4d8e-8cf5-8374bdc9a5c4         bell      peter   \n",
       "3593b144-170a-4242-90cf-16ffbe82f45f       renals      steve   \n",
       "1c6a1e04-4291-426e-a921-42be34ba8494       cheney      james   \n",
       "1b064412-0109-4090-a60f-bafcbbad74be      kilgour   jonathan   \n",
       "f804a9ce-5cc1-456b-b652-a91c8e034c68        birch  alexandra   \n",
       "d173bfd9-d693-428d-a61f-9ad70c4649d2      germann     ulrich   \n",
       "f0e55345-3da8-451d-bd30-8b1068015efc        koehn    philipp   \n",
       "\n",
       "                                                                           personal_url  \\\n",
       "id                                                                                        \n",
       "9cb66eca-0de2-438b-8896-9c5d6d748601  http://www.research.ed.ac.uk/portal/en/persons...   \n",
       "3dd7e2c0-ebc3-4ab7-918b-5bacb961ce91  http://www.research.ed.ac.uk/portal/en/persons...   \n",
       "2b36a690-b726-438e-8eb7-1128a7e7775d  http://www.research.ed.ac.uk/portal/en/persons...   \n",
       "570a3e8e-0e1c-4d8e-8cf5-8374bdc9a5c4  http://www.research.ed.ac.uk/portal/en/persons...   \n",
       "3593b144-170a-4242-90cf-16ffbe82f45f  http://www.research.ed.ac.uk/portal/en/persons...   \n",
       "1c6a1e04-4291-426e-a921-42be34ba8494  http://www.research.ed.ac.uk/portal/en/persons...   \n",
       "1b064412-0109-4090-a60f-bafcbbad74be  http://www.research.ed.ac.uk/portal/en/persons...   \n",
       "f804a9ce-5cc1-456b-b652-a91c8e034c68  http://www.research.ed.ac.uk/portal/en/persons...   \n",
       "d173bfd9-d693-428d-a61f-9ad70c4649d2  http://www.research.ed.ac.uk/portal/en/persons...   \n",
       "f0e55345-3da8-451d-bd30-8b1068015efc  http://www.research.ed.ac.uk/portal/en/persons...   \n",
       "\n",
       "                                                                               position  \\\n",
       "id                                                                                        \n",
       "9cb66eca-0de2-438b-8896-9c5d6d748601  chair of artificial intelligence and head of s...   \n",
       "3dd7e2c0-ebc3-4ab7-918b-5bacb961ce91                       lecturer in machine learning   \n",
       "2b36a690-b726-438e-8eb7-1128a7e7775d                                             reader   \n",
       "570a3e8e-0e1c-4d8e-8cf5-8374bdc9a5c4                                  senior researcher   \n",
       "3593b144-170a-4242-90cf-16ffbe82f45f                         chair of speech technology   \n",
       "1c6a1e04-4291-426e-a921-42be34ba8494                                             reader   \n",
       "1b064412-0109-4090-a60f-bafcbbad74be                                    research fellow   \n",
       "f804a9ce-5cc1-456b-b652-a91c8e034c68                                  senior researcher   \n",
       "d173bfd9-d693-428d-a61f-9ad70c4649d2                                  senior researcher   \n",
       "f0e55345-3da8-451d-bd30-8b1068015efc              personal chair in machine translation   \n",
       "\n",
       "                                                     parent  \\\n",
       "id                                                            \n",
       "9cb66eca-0de2-438b-8896-9c5d6d748601  school of informatics   \n",
       "3dd7e2c0-ebc3-4ab7-918b-5bacb961ce91  school of informatics   \n",
       "2b36a690-b726-438e-8eb7-1128a7e7775d  school of informatics   \n",
       "570a3e8e-0e1c-4d8e-8cf5-8374bdc9a5c4  school of informatics   \n",
       "3593b144-170a-4242-90cf-16ffbe82f45f  school of informatics   \n",
       "1c6a1e04-4291-426e-a921-42be34ba8494  school of informatics   \n",
       "1b064412-0109-4090-a60f-bafcbbad74be  school of informatics   \n",
       "f804a9ce-5cc1-456b-b652-a91c8e034c68  school of informatics   \n",
       "d173bfd9-d693-428d-a61f-9ad70c4649d2  school of informatics   \n",
       "f0e55345-3da8-451d-bd30-8b1068015efc  school of informatics   \n",
       "\n",
       "                                                                            institute  \\\n",
       "id                                                                                      \n",
       "9cb66eca-0de2-438b-8896-9c5d6d748601  institute of language cognition and computation   \n",
       "3dd7e2c0-ebc3-4ab7-918b-5bacb961ce91  institute of language cognition and computation   \n",
       "2b36a690-b726-438e-8eb7-1128a7e7775d     institute of perception action and behaviour   \n",
       "570a3e8e-0e1c-4d8e-8cf5-8374bdc9a5c4  institute of language cognition and computation   \n",
       "3593b144-170a-4242-90cf-16ffbe82f45f  institute of language cognition and computation   \n",
       "1c6a1e04-4291-426e-a921-42be34ba8494   laboratory for foundations of computer science   \n",
       "1b064412-0109-4090-a60f-bafcbbad74be  institute of language cognition and computation   \n",
       "f804a9ce-5cc1-456b-b652-a91c8e034c68  institute of language cognition and computation   \n",
       "d173bfd9-d693-428d-a61f-9ad70c4649d2  institute of language cognition and computation   \n",
       "f0e55345-3da8-451d-bd30-8b1068015efc  institute of language cognition and computation   \n",
       "\n",
       "                                             full_name  institute_class  \\\n",
       "id                                                                        \n",
       "9cb66eca-0de2-438b-8896-9c5d6d748601     moore johanna                2   \n",
       "3dd7e2c0-ebc3-4ab7-918b-5bacb961ce91     sennrich rico                2   \n",
       "2b36a690-b726-438e-8eb7-1128a7e7775d   ramamoorthy ram                7   \n",
       "570a3e8e-0e1c-4d8e-8cf5-8374bdc9a5c4        bell peter                2   \n",
       "3593b144-170a-4242-90cf-16ffbe82f45f      renals steve                2   \n",
       "1c6a1e04-4291-426e-a921-42be34ba8494      cheney james                3   \n",
       "1b064412-0109-4090-a60f-bafcbbad74be  kilgour jonathan                2   \n",
       "f804a9ce-5cc1-456b-b652-a91c8e034c68   birch alexandra                2   \n",
       "d173bfd9-d693-428d-a61f-9ad70c4649d2    germann ulrich                2   \n",
       "f0e55345-3da8-451d-bd30-8b1068015efc     koehn philipp                2   \n",
       "\n",
       "                                                                           alias  \\\n",
       "id                                                                                 \n",
       "9cb66eca-0de2-438b-8896-9c5d6d748601         moore, j. d.|moore, j.|d. moore, j.   \n",
       "3dd7e2c0-ebc3-4ab7-918b-5bacb961ce91                                sennrich, r.   \n",
       "2b36a690-b726-438e-8eb7-1128a7e7775d             ramamoorthy, s.|ramamoorthy, r.   \n",
       "570a3e8e-0e1c-4d8e-8cf5-8374bdc9a5c4                        bell, p.|bell, p. j.   \n",
       "3593b144-170a-4242-90cf-16ffbe82f45f  renals, s.  (ed.)|renals, s.|renals, s. j.   \n",
       "1c6a1e04-4291-426e-a921-42be34ba8494  cheney, j.  (ed.)|cheney, j.|cheney, j. r.   \n",
       "1b064412-0109-4090-a60f-bafcbbad74be                                 kilgour, j.   \n",
       "f804a9ce-5cc1-456b-b652-a91c8e034c68                   birch-mayne, a.|birch, a.   \n",
       "d173bfd9-d693-428d-a61f-9ad70c4649d2                                 germann, u.   \n",
       "f0e55345-3da8-451d-bd30-8b1068015efc                                   koehn, p.   \n",
       "\n",
       "                                      first_pub_year  total_pub  \\\n",
       "id                                                                \n",
       "9cb66eca-0de2-438b-8896-9c5d6d748601          2009.0        168   \n",
       "3dd7e2c0-ebc3-4ab7-918b-5bacb961ce91          2011.0         52   \n",
       "2b36a690-b726-438e-8eb7-1128a7e7775d          2014.0         79   \n",
       "570a3e8e-0e1c-4d8e-8cf5-8374bdc9a5c4          2015.0         49   \n",
       "3593b144-170a-4242-90cf-16ffbe82f45f          2015.0        199   \n",
       "1c6a1e04-4291-426e-a921-42be34ba8494          2009.0        127   \n",
       "1b064412-0109-4090-a60f-bafcbbad74be          2008.0         22   \n",
       "f804a9ce-5cc1-456b-b652-a91c8e034c68          2013.0         31   \n",
       "d173bfd9-d693-428d-a61f-9ad70c4649d2          2017.0         26   \n",
       "f0e55345-3da8-451d-bd30-8b1068015efc          2007.0        161   \n",
       "\n",
       "                                      total_pub_1997  total_pub_2012  \\\n",
       "id                                                                     \n",
       "9cb66eca-0de2-438b-8896-9c5d6d748601             134              26   \n",
       "3dd7e2c0-ebc3-4ab7-918b-5bacb961ce91              52              38   \n",
       "2b36a690-b726-438e-8eb7-1128a7e7775d              79              52   \n",
       "570a3e8e-0e1c-4d8e-8cf5-8374bdc9a5c4              49              44   \n",
       "3593b144-170a-4242-90cf-16ffbe82f45f             198              87   \n",
       "1c6a1e04-4291-426e-a921-42be34ba8494             126              51   \n",
       "1b064412-0109-4090-a60f-bafcbbad74be              22               4   \n",
       "f804a9ce-5cc1-456b-b652-a91c8e034c68              31              19   \n",
       "d173bfd9-d693-428d-a61f-9ad70c4649d2              26              16   \n",
       "f0e55345-3da8-451d-bd30-8b1068015efc             161              82   \n",
       "\n",
       "                                                                                pub_ids  \n",
       "id                                                                                       \n",
       "9cb66eca-0de2-438b-8896-9c5d6d748601  {66a493cc-a626-40b5-93cd-08a49287691a, 9a27a67...  \n",
       "3dd7e2c0-ebc3-4ab7-918b-5bacb961ce91  {90e29f37-7292-4240-8d06-27f544ef8a69, dbec704...  \n",
       "2b36a690-b726-438e-8eb7-1128a7e7775d  {b795e67a-3980-48e5-be62-ecb2cc70a24c, c02079a...  \n",
       "570a3e8e-0e1c-4d8e-8cf5-8374bdc9a5c4  {66db19fe-be0d-44c5-b2cb-8158c1f3815e, a960d96...  \n",
       "3593b144-170a-4242-90cf-16ffbe82f45f  {66a493cc-a626-40b5-93cd-08a49287691a, 66db19f...  \n",
       "1c6a1e04-4291-426e-a921-42be34ba8494  {209af60b-9309-4fc8-97da-b696812287fb, 144a644...  \n",
       "1b064412-0109-4090-a60f-bafcbbad74be  {8379f9f9-0979-494a-96f8-48f0651809ca, e86b48f...  \n",
       "f804a9ce-5cc1-456b-b652-a91c8e034c68  {22636f47-d217-4cd0-87ef-4042ce0cfd64, cfb167d...  \n",
       "d173bfd9-d693-428d-a61f-9ad70c4649d2  {fe766d2e-c50a-42b2-8a5a-10c0f711d14b, 6ca5998...  \n",
       "f0e55345-3da8-451d-bd30-8b1068015efc  {35c3bf67-828c-43bc-ade2-100003b08704, 66db19f...  "
      ]
     },
     "execution_count": 214,
     "metadata": {},
     "output_type": "execute_result"
    }
   ],
   "source": [
    "_df"
   ]
  },
  {
   "cell_type": "code",
   "execution_count": null,
   "metadata": {},
   "outputs": [],
   "source": []
  },
  {
   "cell_type": "code",
   "execution_count": 140,
   "metadata": {
    "ExecuteTime": {
     "end_time": "2018-04-08T13:04:33.473349Z",
     "start_time": "2018-04-08T13:04:33.446813Z"
    }
   },
   "outputs": [],
   "source": [
    "target_order = sorted(attr_names)"
   ]
  },
  {
   "cell_type": "code",
   "execution_count": 141,
   "metadata": {
    "ExecuteTime": {
     "end_time": "2018-04-08T13:04:33.497439Z",
     "start_time": "2018-04-08T13:04:33.475736Z"
    }
   },
   "outputs": [],
   "source": [
    "edges_dict, mat, count_dict, attr_names = get_mixing_dict(\n",
    "    g_infnet6yr,\n",
    "    'degree',\n",
    "    characteristic_type='degree', target_order=target_order)"
   ]
  },
  {
   "cell_type": "code",
   "execution_count": 142,
   "metadata": {
    "ExecuteTime": {
     "end_time": "2018-04-08T13:04:33.525032Z",
     "start_time": "2018-04-08T13:04:33.499776Z"
    },
    "scrolled": false
   },
   "outputs": [
    {
     "name": "stderr",
     "output_type": "stream",
     "text": [
      "2018-04-08 14:04:33,514 : INFO : 1 within:5.0 outside:28.0\n",
      "0.328 & 0.078\n",
      "2018-04-08 14:04:33,515 : INFO : 2 within:5.0 outside:64.0\n",
      "0.321 & 0.177\n",
      "2018-04-08 14:04:33,516 : INFO : 3 within:5.0 outside:65.0\n",
      "0.235 & 0.180\n",
      "2018-04-08 14:04:33,517 : INFO : 4 within:14.0 outside:60.0\n",
      "0.211 & 0.166\n",
      "2018-04-08 14:04:33,517 : INFO : 5 within:5.0 outside:70.0\n",
      "0.159 & 0.194\n",
      "2018-04-08 14:04:33,518 : INFO : 6 within:10.0 outside:118.0\n",
      "0.219 & 0.327\n",
      "2018-04-08 14:04:33,519 : INFO : 7 within:0.0 outside:21.0\n",
      "0.032 & 0.058\n",
      "2018-04-08 14:04:33,519 : INFO : 8 within:1.0 outside:46.0\n",
      "0.063 & 0.127\n",
      "2018-04-08 14:04:33,520 : INFO : 9 within:1.0 outside:34.0\n",
      "0.043 & 0.094\n",
      "2018-04-08 14:04:33,520 : INFO : 10 within:0.0 outside:20.0\n",
      "0.022 & 0.055\n",
      "2018-04-08 14:04:33,521 : INFO : 11 within:3.0 outside:27.0\n",
      "0.032 & 0.075\n",
      "2018-04-08 14:04:33,522 : INFO : 12 within:0.0 outside:36.0\n",
      "0.032 & 0.100\n",
      "2018-04-08 14:04:33,522 : INFO : 17 within:0.0 outside:17.0\n",
      "0.011 & 0.047\n",
      "2018-04-08 14:04:33,523 : INFO : 18 within:0.0 outside:18.0\n",
      "0.011 & 0.050\n"
     ]
    }
   ],
   "source": [
    "attr_names_degree_infnet6yr = attr_names\n",
    "diff_degree_infnet6yr = one_vs_world(mat,attr_names,count_dict)"
   ]
  },
  {
   "cell_type": "code",
   "execution_count": 143,
   "metadata": {
    "ExecuteTime": {
     "end_time": "2018-04-08T13:04:48.114403Z",
     "start_time": "2018-04-08T13:04:48.111338Z"
    }
   },
   "outputs": [
    {
     "name": "stdout",
     "output_type": "stream",
     "text": [
      "-0.250\n",
      "-0.144\n",
      "-0.055\n",
      "-0.044\n",
      "0.035\n",
      "0.108\n",
      "0.026\n",
      "0.064\n",
      "0.052\n",
      "0.034\n",
      "0.043\n",
      "0.068\n",
      "0.036\n",
      "0.039\n"
     ]
    }
   ],
   "source": [
    "for i in diff:\n",
    "    print('{:.3f}'.format(i))"
   ]
  },
  {
   "cell_type": "code",
   "execution_count": 144,
   "metadata": {
    "ExecuteTime": {
     "end_time": "2018-04-08T13:04:51.083475Z",
     "start_time": "2018-04-08T13:04:51.080425Z"
    }
   },
   "outputs": [
    {
     "data": {
      "text/plain": [
       "0.0008295100999937877"
      ]
     },
     "execution_count": 144,
     "metadata": {},
     "output_type": "execute_result"
    }
   ],
   "source": [
    "np.mean(diff)"
   ]
  },
  {
   "cell_type": "code",
   "execution_count": 132,
   "metadata": {
    "ExecuteTime": {
     "end_time": "2018-04-08T13:00:26.386815Z",
     "start_time": "2018-04-08T13:00:26.292351Z"
    }
   },
   "outputs": [
    {
     "name": "stderr",
     "output_type": "stream",
     "text": [
      "2018-04-08 14:00:26,293 : INFO : 1(38) - 2(37)\n",
      "\twithin_i:5.0 within_j:5.0 btw_ij:5.0\n",
      "\t0.500 & 0.333\n",
      "2018-04-08 14:00:26,294 : INFO : 1(38) - 3(25)\n",
      "\twithin_i:5.0 within_j:5.0 btw_ij:2.0\n",
      "\t0.479 & 0.167\n",
      "2018-04-08 14:00:26,294 : INFO : 1(38) - 4(22)\n",
      "\twithin_i:5.0 within_j:14.0 btw_ij:2.0\n",
      "\t0.464 & 0.095\n",
      "2018-04-08 14:00:26,295 : INFO : 1(38) - 5(16)\n",
      "\twithin_i:5.0 within_j:5.0 btw_ij:4.0\n",
      "\t0.417 & 0.286\n",
      "2018-04-08 14:00:26,296 : INFO : 1(38) - 6(23)\n",
      "\twithin_i:5.0 within_j:10.0 btw_ij:8.0\n",
      "\t0.470 & 0.348\n",
      "2018-04-08 14:00:26,296 : INFO : 1(38) - 7(3)\n",
      "\twithin_i:5.0 within_j:0.0 btw_ij:2.0\n",
      "\t0.136 & 0.286\n",
      "2018-04-08 14:00:26,297 : INFO : 1(38) - 8(6)\n",
      "\twithin_i:5.0 within_j:1.0 btw_ij:2.0\n",
      "\t0.236 & 0.250\n",
      "2018-04-08 14:00:26,298 : INFO : 1(38) - 9(4)\n",
      "\twithin_i:5.0 within_j:1.0 btw_ij:1.0\n",
      "\t0.172 & 0.143\n",
      "2018-04-08 14:00:26,298 : INFO : 1(38) - 10(2)\n",
      "\twithin_i:5.0 within_j:0.0 btw_ij:0.0\n",
      "\t0.095 & 0.000\n",
      "2018-04-08 14:00:26,299 : INFO : 1(38) - 11(3)\n",
      "\twithin_i:5.0 within_j:3.0 btw_ij:0.0\n",
      "\t0.136 & 0.000\n",
      "2018-04-08 14:00:26,299 : INFO : 1(38) - 12(3)\n",
      "\twithin_i:5.0 within_j:0.0 btw_ij:2.0\n",
      "\t0.136 & 0.286\n",
      "2018-04-08 14:00:26,300 : INFO : 1(38) - 17(1)\n",
      "\twithin_i:5.0 within_j:0.0 btw_ij:0.0\n",
      "\t0.050 & 0.000\n",
      "2018-04-08 14:00:26,301 : INFO : 1(38) - 18(1)\n",
      "\twithin_i:5.0 within_j:0.0 btw_ij:0.0\n",
      "\t0.050 & 0.000\n",
      "2018-04-08 14:00:26,301 : INFO : 2(37) - 1(38)\n",
      "\twithin_i:5.0 within_j:5.0 btw_ij:5.0\n",
      "\t0.500 & 0.333\n",
      "2018-04-08 14:00:26,302 : INFO : 2(37) - 3(25)\n",
      "\twithin_i:5.0 within_j:5.0 btw_ij:13.0\n",
      "\t0.481 & 0.565\n",
      "2018-04-08 14:00:26,302 : INFO : 2(37) - 4(22)\n",
      "\twithin_i:5.0 within_j:14.0 btw_ij:7.0\n",
      "\t0.468 & 0.269\n",
      "2018-04-08 14:00:26,303 : INFO : 2(37) - 5(16)\n",
      "\twithin_i:5.0 within_j:5.0 btw_ij:6.0\n",
      "\t0.422 & 0.375\n",
      "2018-04-08 14:00:26,303 : INFO : 2(37) - 6(23)\n",
      "\twithin_i:5.0 within_j:10.0 btw_ij:13.0\n",
      "\t0.473 & 0.464\n",
      "2018-04-08 14:00:26,304 : INFO : 2(37) - 7(3)\n",
      "\twithin_i:5.0 within_j:0.0 btw_ij:2.0\n",
      "\t0.139 & 0.286\n",
      "2018-04-08 14:00:26,305 : INFO : 2(37) - 8(6)\n",
      "\twithin_i:5.0 within_j:1.0 btw_ij:1.0\n",
      "\t0.240 & 0.143\n",
      "2018-04-08 14:00:26,305 : INFO : 2(37) - 9(4)\n",
      "\twithin_i:5.0 within_j:1.0 btw_ij:6.0\n",
      "\t0.176 & 0.500\n",
      "2018-04-08 14:00:26,306 : INFO : 2(37) - 10(2)\n",
      "\twithin_i:5.0 within_j:0.0 btw_ij:1.0\n",
      "\t0.097 & 0.167\n",
      "2018-04-08 14:00:26,306 : INFO : 2(37) - 11(3)\n",
      "\twithin_i:5.0 within_j:3.0 btw_ij:2.0\n",
      "\t0.139 & 0.200\n",
      "2018-04-08 14:00:26,307 : INFO : 2(37) - 12(3)\n",
      "\twithin_i:5.0 within_j:0.0 btw_ij:4.0\n",
      "\t0.139 & 0.444\n",
      "2018-04-08 14:00:26,307 : INFO : 2(37) - 17(1)\n",
      "\twithin_i:5.0 within_j:0.0 btw_ij:2.0\n",
      "\t0.051 & 0.286\n",
      "2018-04-08 14:00:26,308 : INFO : 2(37) - 18(1)\n",
      "\twithin_i:5.0 within_j:0.0 btw_ij:2.0\n",
      "\t0.051 & 0.286\n",
      "2018-04-08 14:00:26,309 : INFO : 3(25) - 1(38)\n",
      "\twithin_i:5.0 within_j:5.0 btw_ij:2.0\n",
      "\t0.479 & 0.167\n",
      "2018-04-08 14:00:26,309 : INFO : 3(25) - 2(37)\n",
      "\twithin_i:5.0 within_j:5.0 btw_ij:13.0\n",
      "\t0.481 & 0.565\n",
      "2018-04-08 14:00:26,310 : INFO : 3(25) - 4(22)\n",
      "\twithin_i:5.0 within_j:14.0 btw_ij:8.0\n",
      "\t0.498 & 0.296\n",
      "2018-04-08 14:00:26,310 : INFO : 3(25) - 5(16)\n",
      "\twithin_i:5.0 within_j:5.0 btw_ij:8.0\n",
      "\t0.476 & 0.444\n",
      "2018-04-08 14:00:26,311 : INFO : 3(25) - 6(23)\n",
      "\twithin_i:5.0 within_j:10.0 btw_ij:17.0\n",
      "\t0.499 & 0.531\n",
      "2018-04-08 14:00:26,311 : INFO : 3(25) - 7(3)\n",
      "\twithin_i:5.0 within_j:0.0 btw_ij:0.0\n",
      "\t0.191 & 0.000\n",
      "2018-04-08 14:00:26,312 : INFO : 3(25) - 8(6)\n",
      "\twithin_i:5.0 within_j:1.0 btw_ij:4.0\n",
      "\t0.312 & 0.400\n",
      "2018-04-08 14:00:26,313 : INFO : 3(25) - 9(4)\n",
      "\twithin_i:5.0 within_j:1.0 btw_ij:6.0\n",
      "\t0.238 & 0.500\n",
      "2018-04-08 14:00:26,313 : INFO : 3(25) - 10(2)\n",
      "\twithin_i:5.0 within_j:0.0 btw_ij:4.0\n",
      "\t0.137 & 0.444\n",
      "2018-04-08 14:00:26,314 : INFO : 3(25) - 11(3)\n",
      "\twithin_i:5.0 within_j:3.0 btw_ij:0.0\n",
      "\t0.191 & 0.000\n",
      "2018-04-08 14:00:26,314 : INFO : 3(25) - 12(3)\n",
      "\twithin_i:5.0 within_j:0.0 btw_ij:3.0\n",
      "\t0.191 & 0.375\n",
      "2018-04-08 14:00:26,315 : INFO : 3(25) - 17(1)\n",
      "\twithin_i:5.0 within_j:0.0 btw_ij:0.0\n",
      "\t0.074 & 0.000\n",
      "2018-04-08 14:00:26,315 : INFO : 3(25) - 18(1)\n",
      "\twithin_i:5.0 within_j:0.0 btw_ij:0.0\n",
      "\t0.074 & 0.000\n",
      "2018-04-08 14:00:26,316 : INFO : 4(22) - 1(38)\n",
      "\twithin_i:14.0 within_j:5.0 btw_ij:2.0\n",
      "\t0.464 & 0.095\n",
      "2018-04-08 14:00:26,317 : INFO : 4(22) - 2(37)\n",
      "\twithin_i:14.0 within_j:5.0 btw_ij:7.0\n",
      "\t0.468 & 0.269\n",
      "2018-04-08 14:00:26,317 : INFO : 4(22) - 3(25)\n",
      "\twithin_i:14.0 within_j:5.0 btw_ij:8.0\n",
      "\t0.498 & 0.296\n",
      "2018-04-08 14:00:26,318 : INFO : 4(22) - 5(16)\n",
      "\twithin_i:14.0 within_j:5.0 btw_ij:9.0\n",
      "\t0.488 & 0.321\n",
      "2018-04-08 14:00:26,318 : INFO : 4(22) - 6(23)\n",
      "\twithin_i:14.0 within_j:10.0 btw_ij:19.0\n",
      "\t0.500 & 0.442\n",
      "2018-04-08 14:00:26,319 : INFO : 4(22) - 7(3)\n",
      "\twithin_i:14.0 within_j:0.0 btw_ij:0.0\n",
      "\t0.211 & 0.000\n",
      "2018-04-08 14:00:26,319 : INFO : 4(22) - 8(6)\n",
      "\twithin_i:14.0 within_j:1.0 btw_ij:2.0\n",
      "\t0.337 & 0.118\n",
      "2018-04-08 14:00:26,320 : INFO : 4(22) - 9(4)\n",
      "\twithin_i:14.0 within_j:1.0 btw_ij:2.0\n",
      "\t0.260 & 0.118\n",
      "2018-04-08 14:00:26,320 : INFO : 4(22) - 10(2)\n",
      "\twithin_i:14.0 within_j:0.0 btw_ij:2.0\n",
      "\t0.153 & 0.125\n",
      "2018-04-08 14:00:26,321 : INFO : 4(22) - 11(3)\n",
      "\twithin_i:14.0 within_j:3.0 btw_ij:1.0\n",
      "\t0.211 & 0.056\n",
      "2018-04-08 14:00:26,322 : INFO : 4(22) - 12(3)\n",
      "\twithin_i:14.0 within_j:0.0 btw_ij:1.0\n",
      "\t0.211 & 0.067\n",
      "2018-04-08 14:00:26,322 : INFO : 4(22) - 17(1)\n",
      "\twithin_i:14.0 within_j:0.0 btw_ij:3.0\n",
      "\t0.083 & 0.176\n",
      "2018-04-08 14:00:26,323 : INFO : 4(22) - 18(1)\n",
      "\twithin_i:14.0 within_j:0.0 btw_ij:4.0\n",
      "\t0.083 & 0.222\n",
      "2018-04-08 14:00:26,323 : INFO : 5(16) - 1(38)\n",
      "\twithin_i:5.0 within_j:5.0 btw_ij:4.0\n",
      "\t0.417 & 0.286\n",
      "2018-04-08 14:00:26,324 : INFO : 5(16) - 2(37)\n",
      "\twithin_i:5.0 within_j:5.0 btw_ij:6.0\n",
      "\t0.422 & 0.375\n",
      "2018-04-08 14:00:26,324 : INFO : 5(16) - 3(25)\n",
      "\twithin_i:5.0 within_j:5.0 btw_ij:8.0\n",
      "\t0.476 & 0.444\n",
      "2018-04-08 14:00:26,325 : INFO : 5(16) - 4(22)\n",
      "\twithin_i:5.0 within_j:14.0 btw_ij:9.0\n",
      "\t0.488 & 0.321\n",
      "2018-04-08 14:00:26,325 : INFO : 5(16) - 6(23)\n",
      "\twithin_i:5.0 within_j:10.0 btw_ij:20.0\n",
      "\t0.484 & 0.571\n",
      "2018-04-08 14:00:26,326 : INFO : 5(16) - 7(3)\n",
      "\twithin_i:5.0 within_j:0.0 btw_ij:2.0\n",
      "\t0.266 & 0.286\n",
      "2018-04-08 14:00:26,326 : INFO : 5(16) - 8(6)\n",
      "\twithin_i:5.0 within_j:1.0 btw_ij:8.0\n",
      "\t0.397 & 0.571\n",
      "2018-04-08 14:00:26,327 : INFO : 5(16) - 9(4)\n",
      "\twithin_i:5.0 within_j:1.0 btw_ij:3.0\n",
      "\t0.320 & 0.333\n",
      "2018-04-08 14:00:26,327 : INFO : 5(16) - 10(2)\n",
      "\twithin_i:5.0 within_j:0.0 btw_ij:2.0\n",
      "\t0.198 & 0.286\n",
      "2018-04-08 14:00:26,328 : INFO : 5(16) - 11(3)\n",
      "\twithin_i:5.0 within_j:3.0 btw_ij:5.0\n",
      "\t0.266 & 0.385\n",
      "2018-04-08 14:00:26,329 : INFO : 5(16) - 12(3)\n",
      "\twithin_i:5.0 within_j:0.0 btw_ij:3.0\n",
      "\t0.266 & 0.375\n",
      "2018-04-08 14:00:26,329 : INFO : 5(16) - 17(1)\n",
      "\twithin_i:5.0 within_j:0.0 btw_ij:0.0\n",
      "\t0.111 & 0.000\n",
      "2018-04-08 14:00:26,330 : INFO : 5(16) - 18(1)\n",
      "\twithin_i:5.0 within_j:0.0 btw_ij:0.0\n",
      "\t0.111 & 0.000\n",
      "2018-04-08 14:00:26,330 : INFO : 6(23) - 1(38)\n",
      "\twithin_i:10.0 within_j:5.0 btw_ij:8.0\n",
      "\t0.470 & 0.348\n",
      "2018-04-08 14:00:26,331 : INFO : 6(23) - 2(37)\n",
      "\twithin_i:10.0 within_j:5.0 btw_ij:13.0\n",
      "\t0.473 & 0.464\n",
      "2018-04-08 14:00:26,331 : INFO : 6(23) - 3(25)\n",
      "\twithin_i:10.0 within_j:5.0 btw_ij:17.0\n",
      "\t0.499 & 0.531\n",
      "2018-04-08 14:00:26,332 : INFO : 6(23) - 4(22)\n",
      "\twithin_i:10.0 within_j:14.0 btw_ij:19.0\n",
      "\t0.500 & 0.442\n",
      "2018-04-08 14:00:26,332 : INFO : 6(23) - 5(16)\n",
      "\twithin_i:10.0 within_j:5.0 btw_ij:20.0\n",
      "\t0.484 & 0.571\n",
      "2018-04-08 14:00:26,333 : INFO : 6(23) - 7(3)\n",
      "\twithin_i:10.0 within_j:0.0 btw_ij:3.0\n",
      "\t0.204 & 0.231\n",
      "2018-04-08 14:00:26,334 : INFO : 6(23) - 8(6)\n",
      "\twithin_i:10.0 within_j:1.0 btw_ij:13.0\n",
      "\t0.328 & 0.542\n",
      "2018-04-08 14:00:26,334 : INFO : 6(23) - 9(4)\n",
      "\twithin_i:10.0 within_j:1.0 btw_ij:7.0\n",
      "\t0.252 & 0.389\n",
      "2018-04-08 14:00:26,335 : INFO : 6(23) - 10(2)\n",
      "\twithin_i:10.0 within_j:0.0 btw_ij:5.0\n",
      "\t0.147 & 0.333\n",
      "2018-04-08 14:00:26,335 : INFO : 6(23) - 11(3)\n",
      "\twithin_i:10.0 within_j:3.0 btw_ij:2.0\n",
      "\t0.204 & 0.133\n",
      "2018-04-08 14:00:26,336 : INFO : 6(23) - 12(3)\n",
      "\twithin_i:10.0 within_j:0.0 btw_ij:7.0\n",
      "\t0.204 & 0.412\n",
      "2018-04-08 14:00:26,336 : INFO : 6(23) - 17(1)\n",
      "\twithin_i:10.0 within_j:0.0 btw_ij:2.0\n",
      "\t0.080 & 0.167\n",
      "2018-04-08 14:00:26,337 : INFO : 6(23) - 18(1)\n",
      "\twithin_i:10.0 within_j:0.0 btw_ij:2.0\n",
      "\t0.080 & 0.167\n",
      "2018-04-08 14:00:26,337 : INFO : 7(3) - 1(38)\n",
      "\twithin_i:0.0 within_j:5.0 btw_ij:2.0\n",
      "\t0.136 & 0.286\n",
      "2018-04-08 14:00:26,338 : INFO : 7(3) - 2(37)\n",
      "\twithin_i:0.0 within_j:5.0 btw_ij:2.0\n",
      "\t0.139 & 0.286\n",
      "2018-04-08 14:00:26,338 : INFO : 7(3) - 3(25)\n",
      "\twithin_i:0.0 within_j:5.0 btw_ij:0.0\n",
      "\t0.191 & 0.000\n",
      "2018-04-08 14:00:26,339 : INFO : 7(3) - 4(22)\n",
      "\twithin_i:0.0 within_j:14.0 btw_ij:0.0\n",
      "\t0.211 & 0.000\n"
     ]
    },
    {
     "name": "stderr",
     "output_type": "stream",
     "text": [
      "2018-04-08 14:00:26,339 : INFO : 7(3) - 5(16)\n",
      "\twithin_i:0.0 within_j:5.0 btw_ij:2.0\n",
      "\t0.266 & 0.286\n",
      "2018-04-08 14:00:26,340 : INFO : 7(3) - 6(23)\n",
      "\twithin_i:0.0 within_j:10.0 btw_ij:3.0\n",
      "\t0.204 & 0.231\n",
      "2018-04-08 14:00:26,340 : INFO : 7(3) - 8(6)\n",
      "\twithin_i:0.0 within_j:1.0 btw_ij:2.0\n",
      "\t0.444 & 0.667\n",
      "2018-04-08 14:00:26,341 : INFO : 7(3) - 9(4)\n",
      "\twithin_i:0.0 within_j:1.0 btw_ij:2.0\n",
      "\t0.490 & 0.667\n",
      "2018-04-08 14:00:26,341 : INFO : 7(3) - 10(2)\n",
      "\twithin_i:0.0 within_j:0.0 btw_ij:1.0\n",
      "\t0.480 & 1.000\n",
      "2018-04-08 14:00:26,342 : INFO : 7(3) - 11(3)\n",
      "\twithin_i:0.0 within_j:3.0 btw_ij:3.0\n",
      "\t0.500 & 0.500\n",
      "2018-04-08 14:00:26,342 : INFO : 7(3) - 12(3)\n",
      "\twithin_i:0.0 within_j:0.0 btw_ij:2.0\n",
      "\t0.500 & 1.000\n",
      "2018-04-08 14:00:26,343 : INFO : 7(3) - 17(1)\n",
      "\twithin_i:0.0 within_j:0.0 btw_ij:1.0\n",
      "\t0.375 & 1.000\n",
      "2018-04-08 14:00:26,343 : INFO : 7(3) - 18(1)\n",
      "\twithin_i:0.0 within_j:0.0 btw_ij:1.0\n",
      "\t0.375 & 1.000\n",
      "2018-04-08 14:00:26,344 : INFO : 8(6) - 1(38)\n",
      "\twithin_i:1.0 within_j:5.0 btw_ij:2.0\n",
      "\t0.236 & 0.250\n",
      "2018-04-08 14:00:26,344 : INFO : 8(6) - 2(37)\n",
      "\twithin_i:1.0 within_j:5.0 btw_ij:1.0\n",
      "\t0.240 & 0.143\n",
      "2018-04-08 14:00:26,345 : INFO : 8(6) - 3(25)\n",
      "\twithin_i:1.0 within_j:5.0 btw_ij:4.0\n",
      "\t0.312 & 0.400\n",
      "2018-04-08 14:00:26,345 : INFO : 8(6) - 4(22)\n",
      "\twithin_i:1.0 within_j:14.0 btw_ij:2.0\n",
      "\t0.337 & 0.118\n",
      "2018-04-08 14:00:26,346 : INFO : 8(6) - 5(16)\n",
      "\twithin_i:1.0 within_j:5.0 btw_ij:8.0\n",
      "\t0.397 & 0.571\n",
      "2018-04-08 14:00:26,346 : INFO : 8(6) - 6(23)\n",
      "\twithin_i:1.0 within_j:10.0 btw_ij:13.0\n",
      "\t0.328 & 0.542\n",
      "2018-04-08 14:00:26,347 : INFO : 8(6) - 7(3)\n",
      "\twithin_i:1.0 within_j:0.0 btw_ij:2.0\n",
      "\t0.444 & 0.667\n",
      "2018-04-08 14:00:26,347 : INFO : 8(6) - 9(4)\n",
      "\twithin_i:1.0 within_j:1.0 btw_ij:1.0\n",
      "\t0.480 & 0.333\n",
      "2018-04-08 14:00:26,348 : INFO : 8(6) - 10(2)\n",
      "\twithin_i:1.0 within_j:0.0 btw_ij:1.0\n",
      "\t0.375 & 0.500\n",
      "2018-04-08 14:00:26,348 : INFO : 8(6) - 11(3)\n",
      "\twithin_i:1.0 within_j:3.0 btw_ij:5.0\n",
      "\t0.444 & 0.556\n",
      "2018-04-08 14:00:26,349 : INFO : 8(6) - 12(3)\n",
      "\twithin_i:1.0 within_j:0.0 btw_ij:3.0\n",
      "\t0.444 & 0.750\n",
      "2018-04-08 14:00:26,349 : INFO : 8(6) - 17(1)\n",
      "\twithin_i:1.0 within_j:0.0 btw_ij:2.0\n",
      "\t0.245 & 0.667\n",
      "2018-04-08 14:00:26,350 : INFO : 8(6) - 18(1)\n",
      "\twithin_i:1.0 within_j:0.0 btw_ij:2.0\n",
      "\t0.245 & 0.667\n",
      "2018-04-08 14:00:26,350 : INFO : 9(4) - 1(38)\n",
      "\twithin_i:1.0 within_j:5.0 btw_ij:1.0\n",
      "\t0.172 & 0.143\n",
      "2018-04-08 14:00:26,351 : INFO : 9(4) - 2(37)\n",
      "\twithin_i:1.0 within_j:5.0 btw_ij:6.0\n",
      "\t0.176 & 0.500\n",
      "2018-04-08 14:00:26,351 : INFO : 9(4) - 3(25)\n",
      "\twithin_i:1.0 within_j:5.0 btw_ij:6.0\n",
      "\t0.238 & 0.500\n",
      "2018-04-08 14:00:26,352 : INFO : 9(4) - 4(22)\n",
      "\twithin_i:1.0 within_j:14.0 btw_ij:2.0\n",
      "\t0.260 & 0.118\n",
      "2018-04-08 14:00:26,352 : INFO : 9(4) - 5(16)\n",
      "\twithin_i:1.0 within_j:5.0 btw_ij:3.0\n",
      "\t0.320 & 0.333\n",
      "2018-04-08 14:00:26,353 : INFO : 9(4) - 6(23)\n",
      "\twithin_i:1.0 within_j:10.0 btw_ij:7.0\n",
      "\t0.252 & 0.389\n",
      "2018-04-08 14:00:26,353 : INFO : 9(4) - 7(3)\n",
      "\twithin_i:1.0 within_j:0.0 btw_ij:2.0\n",
      "\t0.490 & 0.667\n",
      "2018-04-08 14:00:26,354 : INFO : 9(4) - 8(6)\n",
      "\twithin_i:1.0 within_j:1.0 btw_ij:1.0\n",
      "\t0.480 & 0.333\n",
      "2018-04-08 14:00:26,354 : INFO : 9(4) - 10(2)\n",
      "\twithin_i:1.0 within_j:0.0 btw_ij:1.0\n",
      "\t0.444 & 0.500\n",
      "2018-04-08 14:00:26,355 : INFO : 9(4) - 11(3)\n",
      "\twithin_i:1.0 within_j:3.0 btw_ij:0.0\n",
      "\t0.490 & 0.000\n",
      "2018-04-08 14:00:26,355 : INFO : 9(4) - 12(3)\n",
      "\twithin_i:1.0 within_j:0.0 btw_ij:4.0\n",
      "\t0.490 & 0.800\n",
      "2018-04-08 14:00:26,356 : INFO : 9(4) - 17(1)\n",
      "\twithin_i:1.0 within_j:0.0 btw_ij:0.0\n",
      "\t0.320 & 0.000\n",
      "2018-04-08 14:00:26,356 : INFO : 9(4) - 18(1)\n",
      "\twithin_i:1.0 within_j:0.0 btw_ij:1.0\n",
      "\t0.320 & 0.500\n",
      "2018-04-08 14:00:26,357 : INFO : 10(2) - 1(38)\n",
      "\twithin_i:0.0 within_j:5.0 btw_ij:0.0\n",
      "\t0.095 & 0.000\n",
      "2018-04-08 14:00:26,357 : INFO : 10(2) - 2(37)\n",
      "\twithin_i:0.0 within_j:5.0 btw_ij:1.0\n",
      "\t0.097 & 0.167\n",
      "2018-04-08 14:00:26,358 : INFO : 10(2) - 3(25)\n",
      "\twithin_i:0.0 within_j:5.0 btw_ij:4.0\n",
      "\t0.137 & 0.444\n",
      "2018-04-08 14:00:26,358 : INFO : 10(2) - 4(22)\n",
      "\twithin_i:0.0 within_j:14.0 btw_ij:2.0\n",
      "\t0.153 & 0.125\n",
      "2018-04-08 14:00:26,358 : INFO : 10(2) - 5(16)\n",
      "\twithin_i:0.0 within_j:5.0 btw_ij:2.0\n",
      "\t0.198 & 0.286\n",
      "2018-04-08 14:00:26,359 : INFO : 10(2) - 6(23)\n",
      "\twithin_i:0.0 within_j:10.0 btw_ij:5.0\n",
      "\t0.147 & 0.333\n",
      "2018-04-08 14:00:26,359 : INFO : 10(2) - 7(3)\n",
      "\twithin_i:0.0 within_j:0.0 btw_ij:1.0\n",
      "\t0.480 & 1.000\n",
      "2018-04-08 14:00:26,360 : INFO : 10(2) - 8(6)\n",
      "\twithin_i:0.0 within_j:1.0 btw_ij:1.0\n",
      "\t0.375 & 0.500\n",
      "2018-04-08 14:00:26,360 : INFO : 10(2) - 9(4)\n",
      "\twithin_i:0.0 within_j:1.0 btw_ij:1.0\n",
      "\t0.444 & 0.500\n",
      "2018-04-08 14:00:26,361 : INFO : 10(2) - 11(3)\n",
      "\twithin_i:0.0 within_j:3.0 btw_ij:0.0\n",
      "\t0.480 & 0.000\n",
      "2018-04-08 14:00:26,361 : INFO : 10(2) - 12(3)\n",
      "\twithin_i:0.0 within_j:0.0 btw_ij:1.0\n",
      "\t0.480 & 1.000\n",
      "2018-04-08 14:00:26,362 : INFO : 10(2) - 17(1)\n",
      "\twithin_i:0.0 within_j:0.0 btw_ij:1.0\n",
      "\t0.444 & 1.000\n",
      "2018-04-08 14:00:26,362 : INFO : 10(2) - 18(1)\n",
      "\twithin_i:0.0 within_j:0.0 btw_ij:1.0\n",
      "\t0.444 & 1.000\n",
      "2018-04-08 14:00:26,363 : INFO : 11(3) - 1(38)\n",
      "\twithin_i:3.0 within_j:5.0 btw_ij:0.0\n",
      "\t0.136 & 0.000\n",
      "2018-04-08 14:00:26,363 : INFO : 11(3) - 2(37)\n",
      "\twithin_i:3.0 within_j:5.0 btw_ij:2.0\n",
      "\t0.139 & 0.200\n",
      "2018-04-08 14:00:26,363 : INFO : 11(3) - 3(25)\n",
      "\twithin_i:3.0 within_j:5.0 btw_ij:0.0\n",
      "\t0.191 & 0.000\n",
      "2018-04-08 14:00:26,364 : INFO : 11(3) - 4(22)\n",
      "\twithin_i:3.0 within_j:14.0 btw_ij:1.0\n",
      "\t0.211 & 0.056\n",
      "2018-04-08 14:00:26,364 : INFO : 11(3) - 5(16)\n",
      "\twithin_i:3.0 within_j:5.0 btw_ij:5.0\n",
      "\t0.266 & 0.385\n",
      "2018-04-08 14:00:26,365 : INFO : 11(3) - 6(23)\n",
      "\twithin_i:3.0 within_j:10.0 btw_ij:2.0\n",
      "\t0.204 & 0.133\n",
      "2018-04-08 14:00:26,365 : INFO : 11(3) - 7(3)\n",
      "\twithin_i:3.0 within_j:0.0 btw_ij:3.0\n",
      "\t0.500 & 0.500\n",
      "2018-04-08 14:00:26,366 : INFO : 11(3) - 8(6)\n",
      "\twithin_i:3.0 within_j:1.0 btw_ij:5.0\n",
      "\t0.444 & 0.556\n",
      "2018-04-08 14:00:26,366 : INFO : 11(3) - 9(4)\n",
      "\twithin_i:3.0 within_j:1.0 btw_ij:0.0\n",
      "\t0.490 & 0.000\n",
      "2018-04-08 14:00:26,366 : INFO : 11(3) - 10(2)\n",
      "\twithin_i:3.0 within_j:0.0 btw_ij:0.0\n",
      "\t0.480 & 0.000\n",
      "2018-04-08 14:00:26,367 : INFO : 11(3) - 12(3)\n",
      "\twithin_i:3.0 within_j:0.0 btw_ij:3.0\n",
      "\t0.500 & 0.500\n",
      "2018-04-08 14:00:26,367 : INFO : 11(3) - 17(1)\n",
      "\twithin_i:3.0 within_j:0.0 btw_ij:3.0\n",
      "\t0.375 & 0.500\n",
      "2018-04-08 14:00:26,368 : INFO : 11(3) - 18(1)\n",
      "\twithin_i:3.0 within_j:0.0 btw_ij:3.0\n",
      "\t0.375 & 0.500\n",
      "2018-04-08 14:00:26,368 : INFO : 12(3) - 1(38)\n",
      "\twithin_i:0.0 within_j:5.0 btw_ij:2.0\n",
      "\t0.136 & 0.286\n",
      "2018-04-08 14:00:26,369 : INFO : 12(3) - 2(37)\n",
      "\twithin_i:0.0 within_j:5.0 btw_ij:4.0\n",
      "\t0.139 & 0.444\n",
      "2018-04-08 14:00:26,369 : INFO : 12(3) - 3(25)\n",
      "\twithin_i:0.0 within_j:5.0 btw_ij:3.0\n",
      "\t0.191 & 0.375\n",
      "2018-04-08 14:00:26,370 : INFO : 12(3) - 4(22)\n",
      "\twithin_i:0.0 within_j:14.0 btw_ij:1.0\n",
      "\t0.211 & 0.067\n",
      "2018-04-08 14:00:26,370 : INFO : 12(3) - 5(16)\n",
      "\twithin_i:0.0 within_j:5.0 btw_ij:3.0\n",
      "\t0.266 & 0.375\n",
      "2018-04-08 14:00:26,371 : INFO : 12(3) - 6(23)\n",
      "\twithin_i:0.0 within_j:10.0 btw_ij:7.0\n",
      "\t0.204 & 0.412\n",
      "2018-04-08 14:00:26,371 : INFO : 12(3) - 7(3)\n",
      "\twithin_i:0.0 within_j:0.0 btw_ij:2.0\n",
      "\t0.500 & 1.000\n",
      "2018-04-08 14:00:26,372 : INFO : 12(3) - 8(6)\n",
      "\twithin_i:0.0 within_j:1.0 btw_ij:3.0\n",
      "\t0.444 & 0.750\n",
      "2018-04-08 14:00:26,372 : INFO : 12(3) - 9(4)\n",
      "\twithin_i:0.0 within_j:1.0 btw_ij:4.0\n",
      "\t0.490 & 0.800\n",
      "2018-04-08 14:00:26,372 : INFO : 12(3) - 10(2)\n",
      "\twithin_i:0.0 within_j:0.0 btw_ij:1.0\n",
      "\t0.480 & 1.000\n",
      "2018-04-08 14:00:26,373 : INFO : 12(3) - 11(3)\n",
      "\twithin_i:0.0 within_j:3.0 btw_ij:3.0\n",
      "\t0.500 & 0.500\n",
      "2018-04-08 14:00:26,373 : INFO : 12(3) - 17(1)\n",
      "\twithin_i:0.0 within_j:0.0 btw_ij:2.0\n",
      "\t0.375 & 1.000\n",
      "2018-04-08 14:00:26,374 : INFO : 12(3) - 18(1)\n",
      "\twithin_i:0.0 within_j:0.0 btw_ij:1.0\n",
      "\t0.375 & 1.000\n",
      "2018-04-08 14:00:26,374 : INFO : 17(1) - 1(38)\n",
      "\twithin_i:0.0 within_j:5.0 btw_ij:0.0\n",
      "\t0.050 & 0.000\n",
      "2018-04-08 14:00:26,375 : INFO : 17(1) - 2(37)\n",
      "\twithin_i:0.0 within_j:5.0 btw_ij:2.0\n",
      "\t0.051 & 0.286\n",
      "2018-04-08 14:00:26,375 : INFO : 17(1) - 3(25)\n",
      "\twithin_i:0.0 within_j:5.0 btw_ij:0.0\n",
      "\t0.074 & 0.000\n",
      "2018-04-08 14:00:26,375 : INFO : 17(1) - 4(22)\n",
      "\twithin_i:0.0 within_j:14.0 btw_ij:3.0\n",
      "\t0.083 & 0.176\n",
      "2018-04-08 14:00:26,376 : INFO : 17(1) - 5(16)\n",
      "\twithin_i:0.0 within_j:5.0 btw_ij:0.0\n",
      "\t0.111 & 0.000\n",
      "2018-04-08 14:00:26,376 : INFO : 17(1) - 6(23)\n",
      "\twithin_i:0.0 within_j:10.0 btw_ij:2.0\n",
      "\t0.080 & 0.167\n",
      "2018-04-08 14:00:26,377 : INFO : 17(1) - 7(3)\n",
      "\twithin_i:0.0 within_j:0.0 btw_ij:1.0\n",
      "\t0.375 & 1.000\n",
      "2018-04-08 14:00:26,377 : INFO : 17(1) - 8(6)\n",
      "\twithin_i:0.0 within_j:1.0 btw_ij:2.0\n",
      "\t0.245 & 0.667\n",
      "2018-04-08 14:00:26,378 : INFO : 17(1) - 9(4)\n",
      "\twithin_i:0.0 within_j:1.0 btw_ij:0.0\n",
      "\t0.320 & 0.000\n"
     ]
    },
    {
     "name": "stderr",
     "output_type": "stream",
     "text": [
      "2018-04-08 14:00:26,378 : INFO : 17(1) - 10(2)\n",
      "\twithin_i:0.0 within_j:0.0 btw_ij:1.0\n",
      "\t0.444 & 1.000\n",
      "2018-04-08 14:00:26,379 : INFO : 17(1) - 11(3)\n",
      "\twithin_i:0.0 within_j:3.0 btw_ij:3.0\n",
      "\t0.375 & 0.500\n",
      "2018-04-08 14:00:26,379 : INFO : 17(1) - 12(3)\n",
      "\twithin_i:0.0 within_j:0.0 btw_ij:2.0\n",
      "\t0.375 & 1.000\n",
      "2018-04-08 14:00:26,379 : INFO : 17(1) - 18(1)\n",
      "\twithin_i:0.0 within_j:0.0 btw_ij:1.0\n",
      "\t0.500 & 1.000\n",
      "2018-04-08 14:00:26,380 : INFO : 18(1) - 1(38)\n",
      "\twithin_i:0.0 within_j:5.0 btw_ij:0.0\n",
      "\t0.050 & 0.000\n",
      "2018-04-08 14:00:26,380 : INFO : 18(1) - 2(37)\n",
      "\twithin_i:0.0 within_j:5.0 btw_ij:2.0\n",
      "\t0.051 & 0.286\n",
      "2018-04-08 14:00:26,381 : INFO : 18(1) - 3(25)\n",
      "\twithin_i:0.0 within_j:5.0 btw_ij:0.0\n",
      "\t0.074 & 0.000\n",
      "2018-04-08 14:00:26,381 : INFO : 18(1) - 4(22)\n",
      "\twithin_i:0.0 within_j:14.0 btw_ij:4.0\n",
      "\t0.083 & 0.222\n",
      "2018-04-08 14:00:26,382 : INFO : 18(1) - 5(16)\n",
      "\twithin_i:0.0 within_j:5.0 btw_ij:0.0\n",
      "\t0.111 & 0.000\n",
      "2018-04-08 14:00:26,382 : INFO : 18(1) - 6(23)\n",
      "\twithin_i:0.0 within_j:10.0 btw_ij:2.0\n",
      "\t0.080 & 0.167\n",
      "2018-04-08 14:00:26,382 : INFO : 18(1) - 7(3)\n",
      "\twithin_i:0.0 within_j:0.0 btw_ij:1.0\n",
      "\t0.375 & 1.000\n",
      "2018-04-08 14:00:26,383 : INFO : 18(1) - 8(6)\n",
      "\twithin_i:0.0 within_j:1.0 btw_ij:2.0\n",
      "\t0.245 & 0.667\n",
      "2018-04-08 14:00:26,383 : INFO : 18(1) - 9(4)\n",
      "\twithin_i:0.0 within_j:1.0 btw_ij:1.0\n",
      "\t0.320 & 0.500\n",
      "2018-04-08 14:00:26,384 : INFO : 18(1) - 10(2)\n",
      "\twithin_i:0.0 within_j:0.0 btw_ij:1.0\n",
      "\t0.444 & 1.000\n",
      "2018-04-08 14:00:26,384 : INFO : 18(1) - 11(3)\n",
      "\twithin_i:0.0 within_j:3.0 btw_ij:3.0\n",
      "\t0.375 & 0.500\n",
      "2018-04-08 14:00:26,384 : INFO : 18(1) - 12(3)\n",
      "\twithin_i:0.0 within_j:0.0 btw_ij:1.0\n",
      "\t0.375 & 1.000\n",
      "2018-04-08 14:00:26,385 : INFO : 18(1) - 17(1)\n",
      "\twithin_i:0.0 within_j:0.0 btw_ij:1.0\n",
      "\t0.500 & 1.000\n"
     ]
    }
   ],
   "source": [
    "res_prob, res_frac = pairwise_comparison(mat,attr_names,count_dict)"
   ]
  },
  {
   "cell_type": "code",
   "execution_count": 133,
   "metadata": {
    "ExecuteTime": {
     "end_time": "2018-04-08T13:00:29.336288Z",
     "start_time": "2018-04-08T13:00:29.334368Z"
    }
   },
   "outputs": [],
   "source": [
    "res  = np.subtract(res_frac,res_prob)"
   ]
  },
  {
   "cell_type": "code",
   "execution_count": 134,
   "metadata": {
    "ExecuteTime": {
     "end_time": "2018-04-08T13:00:32.870152Z",
     "start_time": "2018-04-08T13:00:32.293492Z"
    },
    "scrolled": false
   },
   "outputs": [
    {
     "name": "stderr",
     "output_type": "stream",
     "text": [
      "/afs/inf.ed.ac.uk/user/s14/s1450710/miniconda3/envs/infnet3/lib/python3.6/site-packages/matplotlib/cbook/deprecation.py:106: MatplotlibDeprecationWarning: Adding an axes using the same arguments as a previous axes currently reuses the earlier instance.  In a future version, a new instance will always be created and returned.  Meanwhile, this warning can be suppressed, and the future behavior ensured, by passing a unique label to each axes instance.\n",
      "  warnings.warn(message, mplDeprecation, stacklevel=1)\n"
     ]
    },
    {
     "data": {
      "text/plain": [
       "Text(117.86,0.5,'node degrees')"
      ]
     },
     "execution_count": 134,
     "metadata": {},
     "output_type": "execute_result"
    },
    {
     "data": {
      "image/png": "[encoded data removed]",
      "text/plain": [
       "<matplotlib.figure.Figure at 0x7f8081480390>"
      ]
     },
     "metadata": {},
     "output_type": "display_data"
    }
   ],
   "source": [
    "f = plt.figure(figsize=(10,8))\n",
    "ax= f.add_subplot(111)\n",
    "ax = f.add_subplot(111)\n",
    "cbar_ax = f.add_axes([.66, .55, .05, .3])\n",
    "cbar_ax.set_xlabel('difference from $2pq$')\n",
    "ax = sns.heatmap(\n",
    "    res,\n",
    "    yticklabels=attr_names,\n",
    "    xticklabels=attr_names,\n",
    "    cmap=sns.diverging_palette(240, 20, n=9, as_cmap=True),\n",
    "    annot=True,\n",
    "    linewidths=2,\n",
    "    square=True,\n",
    "    center=0,\n",
    "    ax=ax,\n",
    "    cbar=True,\n",
    "    cbar_ax=cbar_ax,\n",
    "    mask=np.triu(np.zeros_like(res_frac)==0),\n",
    "    robust=True)\n",
    "ax.set_xlabel('node degrees')\n",
    "ax.set_ylabel('node degrees')"
   ]
  },
  {
   "cell_type": "code",
   "execution_count": 45,
   "metadata": {
    "ExecuteTime": {
     "end_time": "2018-04-08T11:41:54.634093Z",
     "start_time": "2018-04-08T11:41:54.338865Z"
    }
   },
   "outputs": [],
   "source": [
    "f.savefig('IMG/homo_degree_infnet6yr.pdf',format='pdf',bbox_inches='tight')"
   ]
  },
  {
   "cell_type": "markdown",
   "metadata": {},
   "source": [
    "## infnet6yr- community detection\n",
    "\n",
    "use mod network since its high..."
   ]
  },
  {
   "cell_type": "markdown",
   "metadata": {},
   "source": [
    "### by inst"
   ]
  },
  {
   "cell_type": "code",
   "execution_count": 74,
   "metadata": {
    "ExecuteTime": {
     "end_time": "2018-04-08T11:50:19.906313Z",
     "start_time": "2018-04-08T11:50:19.900351Z"
    }
   },
   "outputs": [],
   "source": [
    "edges_dict, mat, count_dict, attr_names = get_mixing_dict(\n",
    "    G_infnet6yr_mod, characteristic_name='institute', target_order=inst_order)"
   ]
  },
  {
   "cell_type": "code",
   "execution_count": 75,
   "metadata": {
    "ExecuteTime": {
     "end_time": "2018-04-08T11:50:19.968060Z",
     "start_time": "2018-04-08T11:50:19.914789Z"
    }
   },
   "outputs": [
    {
     "name": "stderr",
     "output_type": "stream",
     "text": [
      "2018-04-08 12:50:19,959 : INFO : UNKNOWN within:4.0 outside:11.0\n",
      "0.083 & 0.035\n",
      "2018-04-08 12:50:19,960 : INFO : centre for intelligent systems and their applications within:23.0 outside:15.0\n",
      "0.177 & 0.048\n",
      "2018-04-08 12:50:19,961 : INFO : institute of language cognition and computation within:79.0 outside:45.0\n",
      "0.352 & 0.143\n",
      "2018-04-08 12:50:19,962 : INFO : laboratory for foundations of computer science within:49.0 outside:31.0\n",
      "0.391 & 0.099\n",
      "2018-04-08 12:50:19,962 : INFO : institute for adaptive and neural computation within:18.0 outside:44.0\n",
      "0.194 & 0.140\n",
      "2018-04-08 12:50:19,963 : INFO : institute for computing systems architecture within:29.0 outside:12.0\n",
      "0.202 & 0.038\n",
      "2018-04-08 12:50:19,964 : INFO : neuroinformatics dtc within:0.0 outside:20.0\n",
      "0.122 & 0.064\n",
      "2018-04-08 12:50:19,964 : INFO : institute of perception action and behaviour within:11.0 outside:16.0\n",
      "0.122 & 0.051\n",
      "2018-04-08 12:50:19,965 : INFO : deanery of clinical sciences within:0.0 outside:1.0\n",
      "0.011 & 0.003\n",
      "2018-04-08 12:50:19,966 : INFO : school of philosophy psychology and language sciences within:0.0 outside:7.0\n",
      "0.011 & 0.022\n"
     ]
    }
   ],
   "source": [
    "# 1 vs world:\n",
    "diff = one_vs_world(mat, attr_names, count_dict)"
   ]
  },
  {
   "cell_type": "code",
   "execution_count": 76,
   "metadata": {
    "ExecuteTime": {
     "end_time": "2018-04-08T11:50:30.922208Z",
     "start_time": "2018-04-08T11:50:30.917410Z"
    }
   },
   "outputs": [
    {
     "name": "stdout",
     "output_type": "stream",
     "text": [
      "-0.048\n",
      "-0.129\n",
      "-0.209\n",
      "-0.292\n",
      "-0.054\n",
      "-0.164\n",
      "-0.058\n",
      "-0.071\n",
      "-0.008\n",
      "0.011\n"
     ]
    }
   ],
   "source": [
    "for d in diff:\n",
    "    print('{:.3f}'.format(d))"
   ]
  },
  {
   "cell_type": "code",
   "execution_count": 49,
   "metadata": {
    "ExecuteTime": {
     "end_time": "2018-04-08T11:41:54.705593Z",
     "start_time": "2018-04-08T11:41:54.688707Z"
    }
   },
   "outputs": [
    {
     "data": {
      "text/plain": [
       "-0.10209128508301926"
      ]
     },
     "execution_count": 49,
     "metadata": {},
     "output_type": "execute_result"
    }
   ],
   "source": [
    "np.mean(diff)"
   ]
  },
  {
   "cell_type": "code",
   "execution_count": 50,
   "metadata": {
    "ExecuteTime": {
     "end_time": "2018-04-08T11:41:54.776614Z",
     "start_time": "2018-04-08T11:41:54.707048Z"
    }
   },
   "outputs": [
    {
     "name": "stderr",
     "output_type": "stream",
     "text": [
      "2018-04-08 12:41:54,721 : INFO : UNKNOWN(8) - centre for intelligent systems and their applications(18)\n",
      "\twithin_i:4.0 within_j:23.0 btw_ij:3.0\n",
      "\t0.426 & 0.100\n",
      "2018-04-08 12:41:54,722 : INFO : UNKNOWN(8) - institute of language cognition and computation(42)\n",
      "\twithin_i:4.0 within_j:79.0 btw_ij:6.0\n",
      "\t0.269 & 0.067\n",
      "2018-04-08 12:41:54,723 : INFO : UNKNOWN(8) - laboratory for foundations of computer science(49)\n",
      "\twithin_i:4.0 within_j:49.0 btw_ij:1.0\n",
      "\t0.241 & 0.019\n",
      "2018-04-08 12:41:54,724 : INFO : UNKNOWN(8) - institute for adaptive and neural computation(20)\n",
      "\twithin_i:4.0 within_j:18.0 btw_ij:0.0\n",
      "\t0.408 & 0.000\n",
      "2018-04-08 12:41:54,724 : INFO : UNKNOWN(8) - institute for computing systems architecture(21)\n",
      "\twithin_i:4.0 within_j:29.0 btw_ij:0.0\n",
      "\t0.400 & 0.000\n",
      "2018-04-08 12:41:54,725 : INFO : UNKNOWN(8) - neuroinformatics dtc(12)\n",
      "\twithin_i:4.0 within_j:0.0 btw_ij:0.0\n",
      "\t0.480 & 0.000\n",
      "2018-04-08 12:41:54,726 : INFO : UNKNOWN(8) - institute of perception action and behaviour(12)\n",
      "\twithin_i:4.0 within_j:11.0 btw_ij:1.0\n",
      "\t0.480 & 0.062\n",
      "2018-04-08 12:41:54,726 : INFO : UNKNOWN(8) - deanery of clinical sciences(1)\n",
      "\twithin_i:4.0 within_j:0.0 btw_ij:0.0\n",
      "\t0.198 & 0.000\n",
      "2018-04-08 12:41:54,727 : INFO : UNKNOWN(8) - school of philosophy psychology and language sciences(1)\n",
      "\twithin_i:4.0 within_j:0.0 btw_ij:0.0\n",
      "\t0.198 & 0.000\n",
      "2018-04-08 12:41:54,727 : INFO : centre for intelligent systems and their applications(18) - UNKNOWN(8)\n",
      "\twithin_i:23.0 within_j:4.0 btw_ij:3.0\n",
      "\t0.426 & 0.100\n",
      "2018-04-08 12:41:54,728 : INFO : centre for intelligent systems and their applications(18) - institute of language cognition and computation(42)\n",
      "\twithin_i:23.0 within_j:79.0 btw_ij:5.0\n",
      "\t0.420 & 0.047\n",
      "2018-04-08 12:41:54,729 : INFO : centre for intelligent systems and their applications(18) - laboratory for foundations of computer science(49)\n",
      "\twithin_i:23.0 within_j:49.0 btw_ij:6.0\n",
      "\t0.393 & 0.077\n",
      "2018-04-08 12:41:54,729 : INFO : centre for intelligent systems and their applications(18) - institute for adaptive and neural computation(20)\n",
      "\twithin_i:23.0 within_j:18.0 btw_ij:0.0\n",
      "\t0.499 & 0.000\n",
      "2018-04-08 12:41:54,730 : INFO : centre for intelligent systems and their applications(18) - institute for computing systems architecture(21)\n",
      "\twithin_i:23.0 within_j:29.0 btw_ij:0.0\n",
      "\t0.497 & 0.000\n",
      "2018-04-08 12:41:54,731 : INFO : centre for intelligent systems and their applications(18) - neuroinformatics dtc(12)\n",
      "\twithin_i:23.0 within_j:0.0 btw_ij:0.0\n",
      "\t0.480 & 0.000\n",
      "2018-04-08 12:41:54,731 : INFO : centre for intelligent systems and their applications(18) - institute of perception action and behaviour(12)\n",
      "\twithin_i:23.0 within_j:11.0 btw_ij:1.0\n",
      "\t0.480 & 0.029\n",
      "2018-04-08 12:41:54,732 : INFO : centre for intelligent systems and their applications(18) - deanery of clinical sciences(1)\n",
      "\twithin_i:23.0 within_j:0.0 btw_ij:0.0\n",
      "\t0.100 & 0.000\n",
      "2018-04-08 12:41:54,733 : INFO : centre for intelligent systems and their applications(18) - school of philosophy psychology and language sciences(1)\n",
      "\twithin_i:23.0 within_j:0.0 btw_ij:0.0\n",
      "\t0.100 & 0.000\n",
      "2018-04-08 12:41:54,733 : INFO : institute of language cognition and computation(42) - UNKNOWN(8)\n",
      "\twithin_i:79.0 within_j:4.0 btw_ij:6.0\n",
      "\t0.269 & 0.067\n",
      "2018-04-08 12:41:54,734 : INFO : institute of language cognition and computation(42) - centre for intelligent systems and their applications(18)\n",
      "\twithin_i:79.0 within_j:23.0 btw_ij:5.0\n",
      "\t0.420 & 0.047\n",
      "2018-04-08 12:41:54,734 : INFO : institute of language cognition and computation(42) - laboratory for foundations of computer science(49)\n",
      "\twithin_i:79.0 within_j:49.0 btw_ij:7.0\n",
      "\t0.497 & 0.052\n",
      "2018-04-08 12:41:54,735 : INFO : institute of language cognition and computation(42) - institute for adaptive and neural computation(20)\n",
      "\twithin_i:79.0 within_j:18.0 btw_ij:14.0\n",
      "\t0.437 & 0.126\n",
      "2018-04-08 12:41:54,736 : INFO : institute of language cognition and computation(42) - institute for computing systems architecture(21)\n",
      "\twithin_i:79.0 within_j:29.0 btw_ij:3.0\n",
      "\t0.444 & 0.027\n",
      "2018-04-08 12:41:54,736 : INFO : institute of language cognition and computation(42) - neuroinformatics dtc(12)\n",
      "\twithin_i:79.0 within_j:0.0 btw_ij:1.0\n",
      "\t0.346 & 0.013\n",
      "2018-04-08 12:41:54,737 : INFO : institute of language cognition and computation(42) - institute of perception action and behaviour(12)\n",
      "\twithin_i:79.0 within_j:11.0 btw_ij:5.0\n",
      "\t0.346 & 0.053\n",
      "2018-04-08 12:41:54,738 : INFO : institute of language cognition and computation(42) - deanery of clinical sciences(1)\n",
      "\twithin_i:79.0 within_j:0.0 btw_ij:0.0\n",
      "\t0.045 & 0.000\n",
      "2018-04-08 12:41:54,738 : INFO : institute of language cognition and computation(42) - school of philosophy psychology and language sciences(1)\n",
      "\twithin_i:79.0 within_j:0.0 btw_ij:4.0\n",
      "\t0.045 & 0.048\n",
      "2018-04-08 12:41:54,739 : INFO : laboratory for foundations of computer science(49) - UNKNOWN(8)\n",
      "\twithin_i:49.0 within_j:4.0 btw_ij:1.0\n",
      "\t0.241 & 0.019\n",
      "2018-04-08 12:41:54,740 : INFO : laboratory for foundations of computer science(49) - centre for intelligent systems and their applications(18)\n",
      "\twithin_i:49.0 within_j:23.0 btw_ij:6.0\n",
      "\t0.393 & 0.077\n",
      "2018-04-08 12:41:54,740 : INFO : laboratory for foundations of computer science(49) - institute of language cognition and computation(42)\n",
      "\twithin_i:49.0 within_j:79.0 btw_ij:7.0\n",
      "\t0.497 & 0.052\n",
      "2018-04-08 12:41:54,741 : INFO : laboratory for foundations of computer science(49) - institute for adaptive and neural computation(20)\n",
      "\twithin_i:49.0 within_j:18.0 btw_ij:8.0\n",
      "\t0.412 & 0.107\n",
      "2018-04-08 12:41:54,742 : INFO : laboratory for foundations of computer science(49) - institute for computing systems architecture(21)\n",
      "\twithin_i:49.0 within_j:29.0 btw_ij:7.0\n",
      "\t0.420 & 0.082\n",
      "2018-04-08 12:41:54,742 : INFO : laboratory for foundations of computer science(49) - neuroinformatics dtc(12)\n",
      "\twithin_i:49.0 within_j:0.0 btw_ij:0.0\n",
      "\t0.316 & 0.000\n",
      "2018-04-08 12:41:54,743 : INFO : laboratory for foundations of computer science(49) - institute of perception action and behaviour(12)\n",
      "\twithin_i:49.0 within_j:11.0 btw_ij:0.0\n",
      "\t0.316 & 0.000\n",
      "2018-04-08 12:41:54,743 : INFO : laboratory for foundations of computer science(49) - deanery of clinical sciences(1)\n",
      "\twithin_i:49.0 within_j:0.0 btw_ij:0.0\n",
      "\t0.039 & 0.000\n",
      "2018-04-08 12:41:54,744 : INFO : laboratory for foundations of computer science(49) - school of philosophy psychology and language sciences(1)\n",
      "\twithin_i:49.0 within_j:0.0 btw_ij:2.0\n",
      "\t0.039 & 0.039\n",
      "2018-04-08 12:41:54,744 : INFO : institute for adaptive and neural computation(20) - UNKNOWN(8)\n",
      "\twithin_i:18.0 within_j:4.0 btw_ij:0.0\n",
      "\t0.408 & 0.000\n",
      "2018-04-08 12:41:54,745 : INFO : institute for adaptive and neural computation(20) - centre for intelligent systems and their applications(18)\n",
      "\twithin_i:18.0 within_j:23.0 btw_ij:0.0\n",
      "\t0.499 & 0.000\n",
      "2018-04-08 12:41:54,746 : INFO : institute for adaptive and neural computation(20) - institute of language cognition and computation(42)\n",
      "\twithin_i:18.0 within_j:79.0 btw_ij:14.0\n",
      "\t0.437 & 0.126\n",
      "2018-04-08 12:41:54,746 : INFO : institute for adaptive and neural computation(20) - laboratory for foundations of computer science(49)\n",
      "\twithin_i:18.0 within_j:49.0 btw_ij:8.0\n",
      "\t0.412 & 0.107\n",
      "2018-04-08 12:41:54,747 : INFO : institute for adaptive and neural computation(20) - institute for computing systems architecture(21)\n",
      "\twithin_i:18.0 within_j:29.0 btw_ij:1.0\n",
      "\t0.500 & 0.021\n",
      "2018-04-08 12:41:54,747 : INFO : institute for adaptive and neural computation(20) - neuroinformatics dtc(12)\n",
      "\twithin_i:18.0 within_j:0.0 btw_ij:16.0\n",
      "\t0.469 & 0.471\n",
      "2018-04-08 12:41:54,748 : INFO : institute for adaptive and neural computation(20) - institute of perception action and behaviour(12)\n",
      "\twithin_i:18.0 within_j:11.0 btw_ij:5.0\n",
      "\t0.469 & 0.147\n",
      "2018-04-08 12:41:54,748 : INFO : institute for adaptive and neural computation(20) - deanery of clinical sciences(1)\n",
      "\twithin_i:18.0 within_j:0.0 btw_ij:0.0\n",
      "\t0.091 & 0.000\n",
      "2018-04-08 12:41:54,749 : INFO : institute for adaptive and neural computation(20) - school of philosophy psychology and language sciences(1)\n",
      "\twithin_i:18.0 within_j:0.0 btw_ij:0.0\n",
      "\t0.091 & 0.000\n",
      "2018-04-08 12:41:54,749 : INFO : institute for computing systems architecture(21) - UNKNOWN(8)\n",
      "\twithin_i:29.0 within_j:4.0 btw_ij:0.0\n",
      "\t0.400 & 0.000\n",
      "2018-04-08 12:41:54,750 : INFO : institute for computing systems architecture(21) - centre for intelligent systems and their applications(18)\n",
      "\twithin_i:29.0 within_j:23.0 btw_ij:0.0\n",
      "\t0.497 & 0.000\n"
     ]
    },
    {
     "name": "stderr",
     "output_type": "stream",
     "text": [
      "2018-04-08 12:41:54,750 : INFO : institute for computing systems architecture(21) - institute of language cognition and computation(42)\n",
      "\twithin_i:29.0 within_j:79.0 btw_ij:3.0\n",
      "\t0.444 & 0.027\n",
      "2018-04-08 12:41:54,751 : INFO : institute for computing systems architecture(21) - laboratory for foundations of computer science(49)\n",
      "\twithin_i:29.0 within_j:49.0 btw_ij:7.0\n",
      "\t0.420 & 0.082\n",
      "2018-04-08 12:41:54,752 : INFO : institute for computing systems architecture(21) - institute for adaptive and neural computation(20)\n",
      "\twithin_i:29.0 within_j:18.0 btw_ij:1.0\n",
      "\t0.500 & 0.021\n",
      "2018-04-08 12:41:54,752 : INFO : institute for computing systems architecture(21) - neuroinformatics dtc(12)\n",
      "\twithin_i:29.0 within_j:0.0 btw_ij:0.0\n",
      "\t0.463 & 0.000\n",
      "2018-04-08 12:41:54,753 : INFO : institute for computing systems architecture(21) - institute of perception action and behaviour(12)\n",
      "\twithin_i:29.0 within_j:11.0 btw_ij:1.0\n",
      "\t0.463 & 0.024\n",
      "2018-04-08 12:41:54,753 : INFO : institute for computing systems architecture(21) - deanery of clinical sciences(1)\n",
      "\twithin_i:29.0 within_j:0.0 btw_ij:0.0\n",
      "\t0.087 & 0.000\n",
      "2018-04-08 12:41:54,754 : INFO : institute for computing systems architecture(21) - school of philosophy psychology and language sciences(1)\n",
      "\twithin_i:29.0 within_j:0.0 btw_ij:0.0\n",
      "\t0.087 & 0.000\n",
      "2018-04-08 12:41:54,754 : INFO : neuroinformatics dtc(12) - UNKNOWN(8)\n",
      "\twithin_i:0.0 within_j:4.0 btw_ij:0.0\n",
      "\t0.480 & 0.000\n",
      "2018-04-08 12:41:54,755 : INFO : neuroinformatics dtc(12) - centre for intelligent systems and their applications(18)\n",
      "\twithin_i:0.0 within_j:23.0 btw_ij:0.0\n",
      "\t0.480 & 0.000\n",
      "2018-04-08 12:41:54,756 : INFO : neuroinformatics dtc(12) - institute of language cognition and computation(42)\n",
      "\twithin_i:0.0 within_j:79.0 btw_ij:1.0\n",
      "\t0.346 & 0.013\n",
      "2018-04-08 12:41:54,756 : INFO : neuroinformatics dtc(12) - laboratory for foundations of computer science(49)\n",
      "\twithin_i:0.0 within_j:49.0 btw_ij:0.0\n",
      "\t0.316 & 0.000\n",
      "2018-04-08 12:41:54,757 : INFO : neuroinformatics dtc(12) - institute for adaptive and neural computation(20)\n",
      "\twithin_i:0.0 within_j:18.0 btw_ij:16.0\n",
      "\t0.469 & 0.471\n",
      "2018-04-08 12:41:54,757 : INFO : neuroinformatics dtc(12) - institute for computing systems architecture(21)\n",
      "\twithin_i:0.0 within_j:29.0 btw_ij:0.0\n",
      "\t0.463 & 0.000\n",
      "2018-04-08 12:41:54,758 : INFO : neuroinformatics dtc(12) - institute of perception action and behaviour(12)\n",
      "\twithin_i:0.0 within_j:11.0 btw_ij:3.0\n",
      "\t0.500 & 0.214\n",
      "/afs/inf.ed.ac.uk/user/s14/s1450710/miniconda3/envs/infnet3/lib/python3.6/site-packages/ipykernel_launcher.py:39: RuntimeWarning: invalid value encountered in double_scalars\n",
      "2018-04-08 12:41:54,759 : INFO : neuroinformatics dtc(12) - deanery of clinical sciences(1)\n",
      "\twithin_i:0.0 within_j:0.0 btw_ij:0.0\n",
      "\t0.142 & nan\n",
      "2018-04-08 12:41:54,759 : INFO : neuroinformatics dtc(12) - school of philosophy psychology and language sciences(1)\n",
      "\twithin_i:0.0 within_j:0.0 btw_ij:0.0\n",
      "\t0.142 & nan\n",
      "2018-04-08 12:41:54,760 : INFO : institute of perception action and behaviour(12) - UNKNOWN(8)\n",
      "\twithin_i:11.0 within_j:4.0 btw_ij:1.0\n",
      "\t0.480 & 0.062\n",
      "2018-04-08 12:41:54,760 : INFO : institute of perception action and behaviour(12) - centre for intelligent systems and their applications(18)\n",
      "\twithin_i:11.0 within_j:23.0 btw_ij:1.0\n",
      "\t0.480 & 0.029\n",
      "2018-04-08 12:41:54,761 : INFO : institute of perception action and behaviour(12) - institute of language cognition and computation(42)\n",
      "\twithin_i:11.0 within_j:79.0 btw_ij:5.0\n",
      "\t0.346 & 0.053\n",
      "2018-04-08 12:41:54,761 : INFO : institute of perception action and behaviour(12) - laboratory for foundations of computer science(49)\n",
      "\twithin_i:11.0 within_j:49.0 btw_ij:0.0\n",
      "\t0.316 & 0.000\n",
      "2018-04-08 12:41:54,762 : INFO : institute of perception action and behaviour(12) - institute for adaptive and neural computation(20)\n",
      "\twithin_i:11.0 within_j:18.0 btw_ij:5.0\n",
      "\t0.469 & 0.147\n",
      "2018-04-08 12:41:54,762 : INFO : institute of perception action and behaviour(12) - institute for computing systems architecture(21)\n",
      "\twithin_i:11.0 within_j:29.0 btw_ij:1.0\n",
      "\t0.463 & 0.024\n",
      "2018-04-08 12:41:54,763 : INFO : institute of perception action and behaviour(12) - neuroinformatics dtc(12)\n",
      "\twithin_i:11.0 within_j:0.0 btw_ij:3.0\n",
      "\t0.500 & 0.214\n",
      "2018-04-08 12:41:54,763 : INFO : institute of perception action and behaviour(12) - deanery of clinical sciences(1)\n",
      "\twithin_i:11.0 within_j:0.0 btw_ij:0.0\n",
      "\t0.142 & 0.000\n",
      "2018-04-08 12:41:54,764 : INFO : institute of perception action and behaviour(12) - school of philosophy psychology and language sciences(1)\n",
      "\twithin_i:11.0 within_j:0.0 btw_ij:0.0\n",
      "\t0.142 & 0.000\n",
      "2018-04-08 12:41:54,764 : INFO : deanery of clinical sciences(1) - UNKNOWN(8)\n",
      "\twithin_i:0.0 within_j:4.0 btw_ij:0.0\n",
      "\t0.198 & 0.000\n",
      "2018-04-08 12:41:54,765 : INFO : deanery of clinical sciences(1) - centre for intelligent systems and their applications(18)\n",
      "\twithin_i:0.0 within_j:23.0 btw_ij:0.0\n",
      "\t0.100 & 0.000\n",
      "2018-04-08 12:41:54,765 : INFO : deanery of clinical sciences(1) - institute of language cognition and computation(42)\n",
      "\twithin_i:0.0 within_j:79.0 btw_ij:0.0\n",
      "\t0.045 & 0.000\n",
      "2018-04-08 12:41:54,766 : INFO : deanery of clinical sciences(1) - laboratory for foundations of computer science(49)\n",
      "\twithin_i:0.0 within_j:49.0 btw_ij:0.0\n",
      "\t0.039 & 0.000\n",
      "2018-04-08 12:41:54,767 : INFO : deanery of clinical sciences(1) - institute for adaptive and neural computation(20)\n",
      "\twithin_i:0.0 within_j:18.0 btw_ij:0.0\n",
      "\t0.091 & 0.000\n",
      "2018-04-08 12:41:54,767 : INFO : deanery of clinical sciences(1) - institute for computing systems architecture(21)\n",
      "\twithin_i:0.0 within_j:29.0 btw_ij:0.0\n",
      "\t0.087 & 0.000\n",
      "2018-04-08 12:41:54,768 : INFO : deanery of clinical sciences(1) - neuroinformatics dtc(12)\n",
      "\twithin_i:0.0 within_j:0.0 btw_ij:0.0\n",
      "\t0.142 & nan\n",
      "2018-04-08 12:41:54,768 : INFO : deanery of clinical sciences(1) - institute of perception action and behaviour(12)\n",
      "\twithin_i:0.0 within_j:11.0 btw_ij:0.0\n",
      "\t0.142 & 0.000\n",
      "2018-04-08 12:41:54,769 : INFO : deanery of clinical sciences(1) - school of philosophy psychology and language sciences(1)\n",
      "\twithin_i:0.0 within_j:0.0 btw_ij:1.0\n",
      "\t0.500 & 1.000\n",
      "2018-04-08 12:41:54,769 : INFO : school of philosophy psychology and language sciences(1) - UNKNOWN(8)\n",
      "\twithin_i:0.0 within_j:4.0 btw_ij:0.0\n",
      "\t0.198 & 0.000\n",
      "2018-04-08 12:41:54,770 : INFO : school of philosophy psychology and language sciences(1) - centre for intelligent systems and their applications(18)\n",
      "\twithin_i:0.0 within_j:23.0 btw_ij:0.0\n",
      "\t0.100 & 0.000\n",
      "2018-04-08 12:41:54,771 : INFO : school of philosophy psychology and language sciences(1) - institute of language cognition and computation(42)\n",
      "\twithin_i:0.0 within_j:79.0 btw_ij:4.0\n",
      "\t0.045 & 0.048\n",
      "2018-04-08 12:41:54,771 : INFO : school of philosophy psychology and language sciences(1) - laboratory for foundations of computer science(49)\n",
      "\twithin_i:0.0 within_j:49.0 btw_ij:2.0\n",
      "\t0.039 & 0.039\n",
      "2018-04-08 12:41:54,772 : INFO : school of philosophy psychology and language sciences(1) - institute for adaptive and neural computation(20)\n",
      "\twithin_i:0.0 within_j:18.0 btw_ij:0.0\n",
      "\t0.091 & 0.000\n",
      "2018-04-08 12:41:54,772 : INFO : school of philosophy psychology and language sciences(1) - institute for computing systems architecture(21)\n",
      "\twithin_i:0.0 within_j:29.0 btw_ij:0.0\n",
      "\t0.087 & 0.000\n",
      "2018-04-08 12:41:54,773 : INFO : school of philosophy psychology and language sciences(1) - neuroinformatics dtc(12)\n",
      "\twithin_i:0.0 within_j:0.0 btw_ij:0.0\n",
      "\t0.142 & nan\n",
      "2018-04-08 12:41:54,774 : INFO : school of philosophy psychology and language sciences(1) - institute of perception action and behaviour(12)\n",
      "\twithin_i:0.0 within_j:11.0 btw_ij:0.0\n",
      "\t0.142 & 0.000\n",
      "2018-04-08 12:41:54,774 : INFO : school of philosophy psychology and language sciences(1) - deanery of clinical sciences(1)\n",
      "\twithin_i:0.0 within_j:0.0 btw_ij:1.0\n",
      "\t0.500 & 1.000\n"
     ]
    }
   ],
   "source": [
    "# pairwise\n",
    "res_prob, res_frac = pairwise_comparison(mat, attr_names, count_dict)"
   ]
  },
  {
   "cell_type": "code",
   "execution_count": 51,
   "metadata": {
    "ExecuteTime": {
     "end_time": "2018-04-08T11:41:54.781503Z",
     "start_time": "2018-04-08T11:41:54.778846Z"
    }
   },
   "outputs": [],
   "source": [
    "res = np.subtract(res_frac, res_prob)"
   ]
  },
  {
   "cell_type": "code",
   "execution_count": 52,
   "metadata": {
    "ExecuteTime": {
     "end_time": "2018-04-08T11:41:55.260477Z",
     "start_time": "2018-04-08T11:41:54.783852Z"
    }
   },
   "outputs": [
    {
     "data": {
      "image/png": "[encoded data removed]",
      "text/plain": [
       "<matplotlib.figure.Figure at 0x7f80811b1be0>"
      ]
     },
     "metadata": {},
     "output_type": "display_data"
    }
   ],
   "source": [
    "f = plt.figure(figsize=(10, 8))\n",
    "ax = f.add_subplot(111)\n",
    "cbar_ax = f.add_axes([.66, .55, .05, .3])\n",
    "cbar_ax.set_xlabel('difference from $2pq$')\n",
    "ax = sns.heatmap(\n",
    "    res[1:-2, 1:-2],\n",
    "    yticklabels=[\n",
    "        \"{} ({})\".format(x, i) for i, x in enumerate(attr_names[1:-2])\n",
    "    ],\n",
    "    cmap=sns.diverging_palette(240, 20, n=9, as_cmap=True),\n",
    "    annot=True,\n",
    "    linewidths=2,\n",
    "    square=True,\n",
    "    ax=ax,\n",
    "    cbar_ax=cbar_ax,\n",
    "    center=0,\n",
    "    mask=np.triu(np.zeros_like(res_frac[1:-2, 1:-2]) == 0),\n",
    "    robust=True)"
   ]
  },
  {
   "cell_type": "code",
   "execution_count": 53,
   "metadata": {
    "ExecuteTime": {
     "end_time": "2018-04-08T11:41:55.423997Z",
     "start_time": "2018-04-08T11:41:55.261981Z"
    }
   },
   "outputs": [],
   "source": [
    "f.savefig('IMG/homo_inst_topicnet6yr.pdf', format='pdf', bbox_inches='tight')"
   ]
  },
  {
   "cell_type": "markdown",
   "metadata": {},
   "source": [
    "### by degree"
   ]
  },
  {
   "cell_type": "code",
   "execution_count": 145,
   "metadata": {
    "ExecuteTime": {
     "end_time": "2018-04-08T13:05:34.880497Z",
     "start_time": "2018-04-08T13:05:34.867362Z"
    }
   },
   "outputs": [],
   "source": [
    "# add degrees to edges\n",
    "nx.set_node_attributes(\n",
    "    G_infnet6yr_mod, dict(G_infnet6yr_mod.degree), name='degree')\n",
    "edges_dict, mat, count_dict, attr_names = get_mixing_dict(\n",
    "    G_infnet6yr_mod, characteristic_name='degree')\n",
    "target_order=sorted(attr_names)\n",
    "edges_dict, mat, count_dict, attr_names = get_mixing_dict(\n",
    "    G_infnet6yr_mod, characteristic_name='degree',target_order=target_order)"
   ]
  },
  {
   "cell_type": "code",
   "execution_count": 146,
   "metadata": {
    "ExecuteTime": {
     "end_time": "2018-04-08T13:05:34.909940Z",
     "start_time": "2018-04-08T13:05:34.882997Z"
    }
   },
   "outputs": [
    {
     "name": "stderr",
     "output_type": "stream",
     "text": [
      "2018-04-08 14:05:34,898 : INFO : 1 within:5.0 outside:32.0\n",
      "0.352 & 0.102\n",
      "2018-04-08 14:05:34,899 : INFO : 2 within:10.0 outside:70.0\n",
      "0.370 & 0.223\n",
      "2018-04-08 14:05:34,900 : INFO : 3 within:5.0 outside:56.0\n",
      "0.211 & 0.178\n",
      "2018-04-08 14:05:34,901 : INFO : 4 within:18.0 outside:76.0\n",
      "0.258 & 0.242\n",
      "2018-04-08 14:05:34,902 : INFO : 5 within:6.0 outside:73.0\n",
      "0.168 & 0.232\n",
      "2018-04-08 14:05:34,902 : INFO : 6 within:8.0 outside:62.0\n",
      "0.131 & 0.197\n",
      "2018-04-08 14:05:34,903 : INFO : 7 within:2.0 outside:31.0\n",
      "0.053 & 0.099\n",
      "2018-04-08 14:05:34,904 : INFO : 8 within:0.0 outside:32.0\n",
      "0.043 & 0.102\n",
      "2018-04-08 14:05:34,905 : INFO : 9 within:0.0 outside:18.0\n",
      "0.022 & 0.057\n",
      "2018-04-08 14:05:34,905 : INFO : 10 within:1.0 outside:28.0\n",
      "0.032 & 0.089\n",
      "2018-04-08 14:05:34,906 : INFO : 11 within:0.0 outside:11.0\n",
      "0.011 & 0.035\n",
      "2018-04-08 14:05:34,907 : INFO : 14 within:0.0 outside:14.0\n",
      "0.011 & 0.045\n",
      "2018-04-08 14:05:34,907 : INFO : 15 within:0.0 outside:15.0\n",
      "0.011 & 0.048\n"
     ]
    }
   ],
   "source": [
    "# 1 vs world:\n",
    "diff = one_vs_world(mat, attr_names, count_dict)"
   ]
  },
  {
   "cell_type": "code",
   "execution_count": 147,
   "metadata": {
    "ExecuteTime": {
     "end_time": "2018-04-08T13:05:34.928908Z",
     "start_time": "2018-04-08T13:05:34.912635Z"
    }
   },
   "outputs": [],
   "source": [
    "attr_names_degree_infnet6yr_mod = attr_names\n",
    "diff_degree_infnet6yr_mod = diff"
   ]
  },
  {
   "cell_type": "code",
   "execution_count": 148,
   "metadata": {
    "ExecuteTime": {
     "end_time": "2018-04-08T13:05:45.636979Z",
     "start_time": "2018-04-08T13:05:45.631976Z"
    }
   },
   "outputs": [
    {
     "data": {
      "text/plain": [
       "-0.001627667782111322"
      ]
     },
     "execution_count": 148,
     "metadata": {},
     "output_type": "execute_result"
    }
   ],
   "source": [
    "np.mean(diff_degree_infnet6yr_mod)"
   ]
  },
  {
   "cell_type": "code",
   "execution_count": 59,
   "metadata": {
    "ExecuteTime": {
     "end_time": "2018-04-08T11:43:30.004452Z",
     "start_time": "2018-04-08T11:43:29.895328Z"
    }
   },
   "outputs": [
    {
     "name": "stderr",
     "output_type": "stream",
     "text": [
      "2018-04-08 12:43:29,909 : INFO : 1(42) - 2(45)\n",
      "\twithin_i:5.0 within_j:10.0 btw_ij:6.0\n",
      "\t0.499 & 0.286\n",
      "2018-04-08 12:43:29,910 : INFO : 1(42) - 3(22)\n",
      "\twithin_i:5.0 within_j:5.0 btw_ij:3.0\n",
      "\t0.451 & 0.231\n",
      "2018-04-08 12:43:29,911 : INFO : 1(42) - 4(28)\n",
      "\twithin_i:5.0 within_j:18.0 btw_ij:9.0\n",
      "\t0.480 & 0.281\n",
      "2018-04-08 12:43:29,912 : INFO : 1(42) - 5(17)\n",
      "\twithin_i:5.0 within_j:6.0 btw_ij:5.0\n",
      "\t0.410 & 0.312\n",
      "2018-04-08 12:43:29,912 : INFO : 1(42) - 6(13)\n",
      "\twithin_i:5.0 within_j:8.0 btw_ij:2.0\n",
      "\t0.361 & 0.133\n",
      "2018-04-08 12:43:29,913 : INFO : 1(42) - 7(5)\n",
      "\twithin_i:5.0 within_j:2.0 btw_ij:2.0\n",
      "\t0.190 & 0.222\n",
      "2018-04-08 12:43:29,914 : INFO : 1(42) - 8(4)\n",
      "\twithin_i:5.0 within_j:0.0 btw_ij:2.0\n",
      "\t0.159 & 0.286\n",
      "2018-04-08 12:43:29,915 : INFO : 1(42) - 9(2)\n",
      "\twithin_i:5.0 within_j:0.0 btw_ij:1.0\n",
      "\t0.087 & 0.167\n",
      "2018-04-08 12:43:29,915 : INFO : 1(42) - 10(3)\n",
      "\twithin_i:5.0 within_j:1.0 btw_ij:2.0\n",
      "\t0.124 & 0.250\n",
      "2018-04-08 12:43:29,916 : INFO : 1(42) - 11(1)\n",
      "\twithin_i:5.0 within_j:0.0 btw_ij:0.0\n",
      "\t0.045 & 0.000\n",
      "2018-04-08 12:43:29,917 : INFO : 1(42) - 14(1)\n",
      "\twithin_i:5.0 within_j:0.0 btw_ij:0.0\n",
      "\t0.045 & 0.000\n",
      "2018-04-08 12:43:29,917 : INFO : 1(42) - 15(1)\n",
      "\twithin_i:5.0 within_j:0.0 btw_ij:0.0\n",
      "\t0.045 & 0.000\n",
      "2018-04-08 12:43:29,918 : INFO : 2(45) - 1(42)\n",
      "\twithin_i:10.0 within_j:5.0 btw_ij:6.0\n",
      "\t0.499 & 0.286\n",
      "2018-04-08 12:43:29,919 : INFO : 2(45) - 3(22)\n",
      "\twithin_i:10.0 within_j:5.0 btw_ij:16.0\n",
      "\t0.441 & 0.516\n",
      "2018-04-08 12:43:29,920 : INFO : 2(45) - 4(28)\n",
      "\twithin_i:10.0 within_j:18.0 btw_ij:9.0\n",
      "\t0.473 & 0.243\n",
      "2018-04-08 12:43:29,920 : INFO : 2(45) - 5(17)\n",
      "\twithin_i:10.0 within_j:6.0 btw_ij:14.0\n",
      "\t0.398 & 0.467\n",
      "2018-04-08 12:43:29,921 : INFO : 2(45) - 6(13)\n",
      "\twithin_i:10.0 within_j:8.0 btw_ij:10.0\n",
      "\t0.348 & 0.357\n",
      "2018-04-08 12:43:29,922 : INFO : 2(45) - 7(5)\n",
      "\twithin_i:10.0 within_j:2.0 btw_ij:3.0\n",
      "\t0.180 & 0.200\n",
      "2018-04-08 12:43:29,922 : INFO : 2(45) - 8(4)\n",
      "\twithin_i:10.0 within_j:0.0 btw_ij:2.0\n",
      "\t0.150 & 0.167\n",
      "2018-04-08 12:43:29,923 : INFO : 2(45) - 9(2)\n",
      "\twithin_i:10.0 within_j:0.0 btw_ij:1.0\n",
      "\t0.081 & 0.091\n",
      "2018-04-08 12:43:29,924 : INFO : 2(45) - 10(3)\n",
      "\twithin_i:10.0 within_j:1.0 btw_ij:5.0\n",
      "\t0.117 & 0.312\n",
      "2018-04-08 12:43:29,924 : INFO : 2(45) - 11(1)\n",
      "\twithin_i:10.0 within_j:0.0 btw_ij:1.0\n",
      "\t0.043 & 0.091\n",
      "2018-04-08 12:43:29,925 : INFO : 2(45) - 14(1)\n",
      "\twithin_i:10.0 within_j:0.0 btw_ij:1.0\n",
      "\t0.043 & 0.091\n",
      "2018-04-08 12:43:29,926 : INFO : 2(45) - 15(1)\n",
      "\twithin_i:10.0 within_j:0.0 btw_ij:2.0\n",
      "\t0.043 & 0.167\n",
      "2018-04-08 12:43:29,926 : INFO : 3(22) - 1(42)\n",
      "\twithin_i:5.0 within_j:5.0 btw_ij:3.0\n",
      "\t0.451 & 0.231\n",
      "2018-04-08 12:43:29,927 : INFO : 3(22) - 2(45)\n",
      "\twithin_i:5.0 within_j:10.0 btw_ij:16.0\n",
      "\t0.441 & 0.516\n",
      "2018-04-08 12:43:29,928 : INFO : 3(22) - 4(28)\n",
      "\twithin_i:5.0 within_j:18.0 btw_ij:15.0\n",
      "\t0.493 & 0.395\n",
      "2018-04-08 12:43:29,929 : INFO : 3(22) - 5(17)\n",
      "\twithin_i:5.0 within_j:6.0 btw_ij:11.0\n",
      "\t0.492 & 0.500\n",
      "2018-04-08 12:43:29,930 : INFO : 3(22) - 6(13)\n",
      "\twithin_i:5.0 within_j:8.0 btw_ij:5.0\n",
      "\t0.467 & 0.278\n",
      "2018-04-08 12:43:29,930 : INFO : 3(22) - 7(5)\n",
      "\twithin_i:5.0 within_j:2.0 btw_ij:4.0\n",
      "\t0.302 & 0.364\n",
      "2018-04-08 12:43:29,931 : INFO : 3(22) - 8(4)\n",
      "\twithin_i:5.0 within_j:0.0 btw_ij:1.0\n",
      "\t0.260 & 0.167\n",
      "2018-04-08 12:43:29,931 : INFO : 3(22) - 9(2)\n",
      "\twithin_i:5.0 within_j:0.0 btw_ij:0.0\n",
      "\t0.153 & 0.000\n",
      "2018-04-08 12:43:29,932 : INFO : 3(22) - 10(3)\n",
      "\twithin_i:5.0 within_j:1.0 btw_ij:1.0\n",
      "\t0.211 & 0.143\n",
      "2018-04-08 12:43:29,933 : INFO : 3(22) - 11(1)\n",
      "\twithin_i:5.0 within_j:0.0 btw_ij:0.0\n",
      "\t0.083 & 0.000\n",
      "2018-04-08 12:43:29,933 : INFO : 3(22) - 14(1)\n",
      "\twithin_i:5.0 within_j:0.0 btw_ij:0.0\n",
      "\t0.083 & 0.000\n",
      "2018-04-08 12:43:29,934 : INFO : 3(22) - 15(1)\n",
      "\twithin_i:5.0 within_j:0.0 btw_ij:0.0\n",
      "\t0.083 & 0.000\n",
      "2018-04-08 12:43:29,935 : INFO : 4(28) - 1(42)\n",
      "\twithin_i:18.0 within_j:5.0 btw_ij:9.0\n",
      "\t0.480 & 0.281\n",
      "2018-04-08 12:43:29,935 : INFO : 4(28) - 2(45)\n",
      "\twithin_i:18.0 within_j:10.0 btw_ij:9.0\n",
      "\t0.473 & 0.243\n",
      "2018-04-08 12:43:29,936 : INFO : 4(28) - 3(22)\n",
      "\twithin_i:18.0 within_j:5.0 btw_ij:15.0\n",
      "\t0.493 & 0.395\n",
      "2018-04-08 12:43:29,936 : INFO : 4(28) - 5(17)\n",
      "\twithin_i:18.0 within_j:6.0 btw_ij:14.0\n",
      "\t0.470 & 0.368\n",
      "2018-04-08 12:43:29,937 : INFO : 4(28) - 6(13)\n",
      "\twithin_i:18.0 within_j:8.0 btw_ij:12.0\n",
      "\t0.433 & 0.316\n",
      "2018-04-08 12:43:29,938 : INFO : 4(28) - 7(5)\n",
      "\twithin_i:18.0 within_j:2.0 btw_ij:3.0\n",
      "\t0.257 & 0.130\n",
      "2018-04-08 12:43:29,938 : INFO : 4(28) - 8(4)\n",
      "\twithin_i:18.0 within_j:0.0 btw_ij:6.0\n",
      "\t0.219 & 0.250\n",
      "2018-04-08 12:43:29,939 : INFO : 4(28) - 9(2)\n",
      "\twithin_i:18.0 within_j:0.0 btw_ij:0.0\n",
      "\t0.124 & 0.000\n",
      "2018-04-08 12:43:29,940 : INFO : 4(28) - 10(3)\n",
      "\twithin_i:18.0 within_j:1.0 btw_ij:2.0\n",
      "\t0.175 & 0.095\n",
      "2018-04-08 12:43:29,940 : INFO : 4(28) - 11(1)\n",
      "\twithin_i:18.0 within_j:0.0 btw_ij:0.0\n",
      "\t0.067 & 0.000\n",
      "2018-04-08 12:43:29,941 : INFO : 4(28) - 14(1)\n",
      "\twithin_i:18.0 within_j:0.0 btw_ij:3.0\n",
      "\t0.067 & 0.143\n",
      "2018-04-08 12:43:29,942 : INFO : 4(28) - 15(1)\n",
      "\twithin_i:18.0 within_j:0.0 btw_ij:3.0\n",
      "\t0.067 & 0.143\n",
      "2018-04-08 12:43:29,942 : INFO : 5(17) - 1(42)\n",
      "\twithin_i:6.0 within_j:5.0 btw_ij:5.0\n",
      "\t0.410 & 0.312\n",
      "2018-04-08 12:43:29,943 : INFO : 5(17) - 2(45)\n",
      "\twithin_i:6.0 within_j:10.0 btw_ij:14.0\n",
      "\t0.398 & 0.467\n",
      "2018-04-08 12:43:29,944 : INFO : 5(17) - 3(22)\n",
      "\twithin_i:6.0 within_j:5.0 btw_ij:11.0\n",
      "\t0.492 & 0.500\n",
      "2018-04-08 12:43:29,944 : INFO : 5(17) - 4(28)\n",
      "\twithin_i:6.0 within_j:18.0 btw_ij:14.0\n",
      "\t0.470 & 0.368\n",
      "2018-04-08 12:43:29,945 : INFO : 5(17) - 6(13)\n",
      "\twithin_i:6.0 within_j:8.0 btw_ij:11.0\n",
      "\t0.491 & 0.440\n",
      "2018-04-08 12:43:29,945 : INFO : 5(17) - 7(5)\n",
      "\twithin_i:6.0 within_j:2.0 btw_ij:1.0\n",
      "\t0.351 & 0.111\n",
      "2018-04-08 12:43:29,946 : INFO : 5(17) - 8(4)\n",
      "\twithin_i:6.0 within_j:0.0 btw_ij:4.0\n",
      "\t0.308 & 0.400\n",
      "2018-04-08 12:43:29,947 : INFO : 5(17) - 9(2)\n",
      "\twithin_i:6.0 within_j:0.0 btw_ij:3.0\n",
      "\t0.188 & 0.333\n",
      "2018-04-08 12:43:29,947 : INFO : 5(17) - 10(3)\n",
      "\twithin_i:6.0 within_j:1.0 btw_ij:4.0\n",
      "\t0.255 & 0.364\n",
      "2018-04-08 12:43:29,948 : INFO : 5(17) - 11(1)\n",
      "\twithin_i:6.0 within_j:0.0 btw_ij:2.0\n",
      "\t0.105 & 0.250\n",
      "2018-04-08 12:43:29,949 : INFO : 5(17) - 14(1)\n",
      "\twithin_i:6.0 within_j:0.0 btw_ij:2.0\n",
      "\t0.105 & 0.250\n",
      "2018-04-08 12:43:29,949 : INFO : 5(17) - 15(1)\n",
      "\twithin_i:6.0 within_j:0.0 btw_ij:2.0\n",
      "\t0.105 & 0.250\n",
      "2018-04-08 12:43:29,950 : INFO : 6(13) - 1(42)\n",
      "\twithin_i:8.0 within_j:5.0 btw_ij:2.0\n",
      "\t0.361 & 0.133\n",
      "2018-04-08 12:43:29,950 : INFO : 6(13) - 2(45)\n",
      "\twithin_i:8.0 within_j:10.0 btw_ij:10.0\n",
      "\t0.348 & 0.357\n",
      "2018-04-08 12:43:29,951 : INFO : 6(13) - 3(22)\n",
      "\twithin_i:8.0 within_j:5.0 btw_ij:5.0\n",
      "\t0.467 & 0.278\n",
      "2018-04-08 12:43:29,952 : INFO : 6(13) - 4(28)\n",
      "\twithin_i:8.0 within_j:18.0 btw_ij:12.0\n",
      "\t0.433 & 0.316\n",
      "2018-04-08 12:43:29,952 : INFO : 6(13) - 5(17)\n",
      "\twithin_i:8.0 within_j:6.0 btw_ij:11.0\n",
      "\t0.491 & 0.440\n",
      "2018-04-08 12:43:29,953 : INFO : 6(13) - 7(5)\n",
      "\twithin_i:8.0 within_j:2.0 btw_ij:7.0\n",
      "\t0.401 & 0.412\n",
      "2018-04-08 12:43:29,953 : INFO : 6(13) - 8(4)\n",
      "\twithin_i:8.0 within_j:0.0 btw_ij:7.0\n",
      "\t0.360 & 0.467\n",
      "2018-04-08 12:43:29,954 : INFO : 6(13) - 9(2)\n",
      "\twithin_i:8.0 within_j:0.0 btw_ij:3.0\n",
      "\t0.231 & 0.273\n",
      "2018-04-08 12:43:29,955 : INFO : 6(13) - 10(3)\n",
      "\twithin_i:8.0 within_j:1.0 btw_ij:2.0\n",
      "\t0.305 & 0.182\n",
      "2018-04-08 12:43:29,955 : INFO : 6(13) - 11(1)\n",
      "\twithin_i:8.0 within_j:0.0 btw_ij:1.0\n",
      "\t0.133 & 0.111\n",
      "2018-04-08 12:43:29,956 : INFO : 6(13) - 14(1)\n",
      "\twithin_i:8.0 within_j:0.0 btw_ij:1.0\n",
      "\t0.133 & 0.111\n",
      "2018-04-08 12:43:29,956 : INFO : 6(13) - 15(1)\n",
      "\twithin_i:8.0 within_j:0.0 btw_ij:1.0\n",
      "\t0.133 & 0.111\n",
      "2018-04-08 12:43:29,957 : INFO : 7(5) - 1(42)\n",
      "\twithin_i:2.0 within_j:5.0 btw_ij:2.0\n",
      "\t0.190 & 0.222\n",
      "2018-04-08 12:43:29,958 : INFO : 7(5) - 2(45)\n",
      "\twithin_i:2.0 within_j:10.0 btw_ij:3.0\n",
      "\t0.180 & 0.200\n",
      "2018-04-08 12:43:29,958 : INFO : 7(5) - 3(22)\n",
      "\twithin_i:2.0 within_j:5.0 btw_ij:4.0\n",
      "\t0.302 & 0.364\n",
      "2018-04-08 12:43:29,959 : INFO : 7(5) - 4(28)\n",
      "\twithin_i:2.0 within_j:18.0 btw_ij:3.0\n",
      "\t0.257 & 0.130\n",
      "2018-04-08 12:43:29,959 : INFO : 7(5) - 5(17)\n",
      "\twithin_i:2.0 within_j:6.0 btw_ij:1.0\n",
      "\t0.351 & 0.111\n",
      "2018-04-08 12:43:29,960 : INFO : 7(5) - 6(13)\n",
      "\twithin_i:2.0 within_j:8.0 btw_ij:7.0\n",
      "\t0.401 & 0.412\n",
      "2018-04-08 12:43:29,961 : INFO : 7(5) - 8(4)\n",
      "\twithin_i:2.0 within_j:0.0 btw_ij:3.0\n",
      "\t0.494 & 0.600\n",
      "2018-04-08 12:43:29,961 : INFO : 7(5) - 9(2)\n",
      "\twithin_i:2.0 within_j:0.0 btw_ij:3.0\n",
      "\t0.408 & 0.600\n",
      "2018-04-08 12:43:29,962 : INFO : 7(5) - 10(3)\n",
      "\twithin_i:2.0 within_j:1.0 btw_ij:2.0\n",
      "\t0.469 & 0.400\n",
      "2018-04-08 12:43:29,962 : INFO : 7(5) - 11(1)\n",
      "\twithin_i:2.0 within_j:0.0 btw_ij:1.0\n",
      "\t0.278 & 0.333\n"
     ]
    },
    {
     "name": "stderr",
     "output_type": "stream",
     "text": [
      "2018-04-08 12:43:29,963 : INFO : 7(5) - 14(1)\n",
      "\twithin_i:2.0 within_j:0.0 btw_ij:1.0\n",
      "\t0.278 & 0.333\n",
      "2018-04-08 12:43:29,963 : INFO : 7(5) - 15(1)\n",
      "\twithin_i:2.0 within_j:0.0 btw_ij:1.0\n",
      "\t0.278 & 0.333\n",
      "2018-04-08 12:43:29,964 : INFO : 8(4) - 1(42)\n",
      "\twithin_i:0.0 within_j:5.0 btw_ij:2.0\n",
      "\t0.159 & 0.286\n",
      "2018-04-08 12:43:29,964 : INFO : 8(4) - 2(45)\n",
      "\twithin_i:0.0 within_j:10.0 btw_ij:2.0\n",
      "\t0.150 & 0.167\n",
      "2018-04-08 12:43:29,965 : INFO : 8(4) - 3(22)\n",
      "\twithin_i:0.0 within_j:5.0 btw_ij:1.0\n",
      "\t0.260 & 0.167\n",
      "2018-04-08 12:43:29,966 : INFO : 8(4) - 4(28)\n",
      "\twithin_i:0.0 within_j:18.0 btw_ij:6.0\n",
      "\t0.219 & 0.250\n",
      "2018-04-08 12:43:29,966 : INFO : 8(4) - 5(17)\n",
      "\twithin_i:0.0 within_j:6.0 btw_ij:4.0\n",
      "\t0.308 & 0.400\n",
      "2018-04-08 12:43:29,967 : INFO : 8(4) - 6(13)\n",
      "\twithin_i:0.0 within_j:8.0 btw_ij:7.0\n",
      "\t0.360 & 0.467\n",
      "2018-04-08 12:43:29,967 : INFO : 8(4) - 7(5)\n",
      "\twithin_i:0.0 within_j:2.0 btw_ij:3.0\n",
      "\t0.494 & 0.600\n",
      "2018-04-08 12:43:29,968 : INFO : 8(4) - 9(2)\n",
      "\twithin_i:0.0 within_j:0.0 btw_ij:2.0\n",
      "\t0.444 & 1.000\n",
      "2018-04-08 12:43:29,968 : INFO : 8(4) - 10(3)\n",
      "\twithin_i:0.0 within_j:1.0 btw_ij:2.0\n",
      "\t0.490 & 0.667\n",
      "2018-04-08 12:43:29,969 : INFO : 8(4) - 11(1)\n",
      "\twithin_i:0.0 within_j:0.0 btw_ij:1.0\n",
      "\t0.320 & 1.000\n",
      "2018-04-08 12:43:29,970 : INFO : 8(4) - 14(1)\n",
      "\twithin_i:0.0 within_j:0.0 btw_ij:1.0\n",
      "\t0.320 & 1.000\n",
      "2018-04-08 12:43:29,970 : INFO : 8(4) - 15(1)\n",
      "\twithin_i:0.0 within_j:0.0 btw_ij:1.0\n",
      "\t0.320 & 1.000\n",
      "2018-04-08 12:43:29,971 : INFO : 9(2) - 1(42)\n",
      "\twithin_i:0.0 within_j:5.0 btw_ij:1.0\n",
      "\t0.087 & 0.167\n",
      "2018-04-08 12:43:29,971 : INFO : 9(2) - 2(45)\n",
      "\twithin_i:0.0 within_j:10.0 btw_ij:1.0\n",
      "\t0.081 & 0.091\n",
      "2018-04-08 12:43:29,972 : INFO : 9(2) - 3(22)\n",
      "\twithin_i:0.0 within_j:5.0 btw_ij:0.0\n",
      "\t0.153 & 0.000\n",
      "2018-04-08 12:43:29,972 : INFO : 9(2) - 4(28)\n",
      "\twithin_i:0.0 within_j:18.0 btw_ij:0.0\n",
      "\t0.124 & 0.000\n",
      "2018-04-08 12:43:29,973 : INFO : 9(2) - 5(17)\n",
      "\twithin_i:0.0 within_j:6.0 btw_ij:3.0\n",
      "\t0.188 & 0.333\n",
      "2018-04-08 12:43:29,974 : INFO : 9(2) - 6(13)\n",
      "\twithin_i:0.0 within_j:8.0 btw_ij:3.0\n",
      "\t0.231 & 0.273\n",
      "2018-04-08 12:43:29,974 : INFO : 9(2) - 7(5)\n",
      "\twithin_i:0.0 within_j:2.0 btw_ij:3.0\n",
      "\t0.408 & 0.600\n",
      "2018-04-08 12:43:29,975 : INFO : 9(2) - 8(4)\n",
      "\twithin_i:0.0 within_j:0.0 btw_ij:2.0\n",
      "\t0.444 & 1.000\n",
      "2018-04-08 12:43:29,975 : INFO : 9(2) - 10(3)\n",
      "\twithin_i:0.0 within_j:1.0 btw_ij:2.0\n",
      "\t0.480 & 0.667\n",
      "2018-04-08 12:43:29,976 : INFO : 9(2) - 11(1)\n",
      "\twithin_i:0.0 within_j:0.0 btw_ij:1.0\n",
      "\t0.444 & 1.000\n",
      "2018-04-08 12:43:29,976 : INFO : 9(2) - 14(1)\n",
      "\twithin_i:0.0 within_j:0.0 btw_ij:1.0\n",
      "\t0.444 & 1.000\n",
      "2018-04-08 12:43:29,977 : INFO : 9(2) - 15(1)\n",
      "\twithin_i:0.0 within_j:0.0 btw_ij:1.0\n",
      "\t0.444 & 1.000\n",
      "2018-04-08 12:43:29,977 : INFO : 10(3) - 1(42)\n",
      "\twithin_i:1.0 within_j:5.0 btw_ij:2.0\n",
      "\t0.124 & 0.250\n",
      "2018-04-08 12:43:29,978 : INFO : 10(3) - 2(45)\n",
      "\twithin_i:1.0 within_j:10.0 btw_ij:5.0\n",
      "\t0.117 & 0.312\n",
      "2018-04-08 12:43:29,978 : INFO : 10(3) - 3(22)\n",
      "\twithin_i:1.0 within_j:5.0 btw_ij:1.0\n",
      "\t0.211 & 0.143\n",
      "2018-04-08 12:43:29,979 : INFO : 10(3) - 4(28)\n",
      "\twithin_i:1.0 within_j:18.0 btw_ij:2.0\n",
      "\t0.175 & 0.095\n",
      "2018-04-08 12:43:29,980 : INFO : 10(3) - 5(17)\n",
      "\twithin_i:1.0 within_j:6.0 btw_ij:4.0\n",
      "\t0.255 & 0.364\n",
      "2018-04-08 12:43:29,980 : INFO : 10(3) - 6(13)\n",
      "\twithin_i:1.0 within_j:8.0 btw_ij:2.0\n",
      "\t0.305 & 0.182\n",
      "2018-04-08 12:43:29,981 : INFO : 10(3) - 7(5)\n",
      "\twithin_i:1.0 within_j:2.0 btw_ij:2.0\n",
      "\t0.469 & 0.400\n",
      "2018-04-08 12:43:29,981 : INFO : 10(3) - 8(4)\n",
      "\twithin_i:1.0 within_j:0.0 btw_ij:2.0\n",
      "\t0.490 & 0.667\n",
      "2018-04-08 12:43:29,982 : INFO : 10(3) - 9(2)\n",
      "\twithin_i:1.0 within_j:0.0 btw_ij:2.0\n",
      "\t0.480 & 0.667\n",
      "2018-04-08 12:43:29,982 : INFO : 10(3) - 11(1)\n",
      "\twithin_i:1.0 within_j:0.0 btw_ij:2.0\n",
      "\t0.375 & 0.667\n",
      "2018-04-08 12:43:29,983 : INFO : 10(3) - 14(1)\n",
      "\twithin_i:1.0 within_j:0.0 btw_ij:2.0\n",
      "\t0.375 & 0.667\n",
      "2018-04-08 12:43:29,983 : INFO : 10(3) - 15(1)\n",
      "\twithin_i:1.0 within_j:0.0 btw_ij:2.0\n",
      "\t0.375 & 0.667\n",
      "2018-04-08 12:43:29,984 : INFO : 11(1) - 1(42)\n",
      "\twithin_i:0.0 within_j:5.0 btw_ij:0.0\n",
      "\t0.045 & 0.000\n",
      "2018-04-08 12:43:29,985 : INFO : 11(1) - 2(45)\n",
      "\twithin_i:0.0 within_j:10.0 btw_ij:1.0\n",
      "\t0.043 & 0.091\n",
      "2018-04-08 12:43:29,985 : INFO : 11(1) - 3(22)\n",
      "\twithin_i:0.0 within_j:5.0 btw_ij:0.0\n",
      "\t0.083 & 0.000\n",
      "2018-04-08 12:43:29,986 : INFO : 11(1) - 4(28)\n",
      "\twithin_i:0.0 within_j:18.0 btw_ij:0.0\n",
      "\t0.067 & 0.000\n",
      "2018-04-08 12:43:29,986 : INFO : 11(1) - 5(17)\n",
      "\twithin_i:0.0 within_j:6.0 btw_ij:2.0\n",
      "\t0.105 & 0.250\n",
      "2018-04-08 12:43:29,987 : INFO : 11(1) - 6(13)\n",
      "\twithin_i:0.0 within_j:8.0 btw_ij:1.0\n",
      "\t0.133 & 0.111\n",
      "2018-04-08 12:43:29,987 : INFO : 11(1) - 7(5)\n",
      "\twithin_i:0.0 within_j:2.0 btw_ij:1.0\n",
      "\t0.278 & 0.333\n",
      "2018-04-08 12:43:29,988 : INFO : 11(1) - 8(4)\n",
      "\twithin_i:0.0 within_j:0.0 btw_ij:1.0\n",
      "\t0.320 & 1.000\n",
      "2018-04-08 12:43:29,988 : INFO : 11(1) - 9(2)\n",
      "\twithin_i:0.0 within_j:0.0 btw_ij:1.0\n",
      "\t0.444 & 1.000\n",
      "2018-04-08 12:43:29,989 : INFO : 11(1) - 10(3)\n",
      "\twithin_i:0.0 within_j:1.0 btw_ij:2.0\n",
      "\t0.375 & 0.667\n",
      "2018-04-08 12:43:29,989 : INFO : 11(1) - 14(1)\n",
      "\twithin_i:0.0 within_j:0.0 btw_ij:1.0\n",
      "\t0.500 & 1.000\n",
      "2018-04-08 12:43:29,990 : INFO : 11(1) - 15(1)\n",
      "\twithin_i:0.0 within_j:0.0 btw_ij:1.0\n",
      "\t0.500 & 1.000\n",
      "2018-04-08 12:43:29,990 : INFO : 14(1) - 1(42)\n",
      "\twithin_i:0.0 within_j:5.0 btw_ij:0.0\n",
      "\t0.045 & 0.000\n",
      "2018-04-08 12:43:29,991 : INFO : 14(1) - 2(45)\n",
      "\twithin_i:0.0 within_j:10.0 btw_ij:1.0\n",
      "\t0.043 & 0.091\n",
      "2018-04-08 12:43:29,992 : INFO : 14(1) - 3(22)\n",
      "\twithin_i:0.0 within_j:5.0 btw_ij:0.0\n",
      "\t0.083 & 0.000\n",
      "2018-04-08 12:43:29,992 : INFO : 14(1) - 4(28)\n",
      "\twithin_i:0.0 within_j:18.0 btw_ij:3.0\n",
      "\t0.067 & 0.143\n",
      "2018-04-08 12:43:29,993 : INFO : 14(1) - 5(17)\n",
      "\twithin_i:0.0 within_j:6.0 btw_ij:2.0\n",
      "\t0.105 & 0.250\n",
      "2018-04-08 12:43:29,993 : INFO : 14(1) - 6(13)\n",
      "\twithin_i:0.0 within_j:8.0 btw_ij:1.0\n",
      "\t0.133 & 0.111\n",
      "2018-04-08 12:43:29,994 : INFO : 14(1) - 7(5)\n",
      "\twithin_i:0.0 within_j:2.0 btw_ij:1.0\n",
      "\t0.278 & 0.333\n",
      "2018-04-08 12:43:29,994 : INFO : 14(1) - 8(4)\n",
      "\twithin_i:0.0 within_j:0.0 btw_ij:1.0\n",
      "\t0.320 & 1.000\n",
      "2018-04-08 12:43:29,995 : INFO : 14(1) - 9(2)\n",
      "\twithin_i:0.0 within_j:0.0 btw_ij:1.0\n",
      "\t0.444 & 1.000\n",
      "2018-04-08 12:43:29,995 : INFO : 14(1) - 10(3)\n",
      "\twithin_i:0.0 within_j:1.0 btw_ij:2.0\n",
      "\t0.375 & 0.667\n",
      "2018-04-08 12:43:29,996 : INFO : 14(1) - 11(1)\n",
      "\twithin_i:0.0 within_j:0.0 btw_ij:1.0\n",
      "\t0.500 & 1.000\n",
      "2018-04-08 12:43:29,996 : INFO : 14(1) - 15(1)\n",
      "\twithin_i:0.0 within_j:0.0 btw_ij:1.0\n",
      "\t0.500 & 1.000\n",
      "2018-04-08 12:43:29,997 : INFO : 15(1) - 1(42)\n",
      "\twithin_i:0.0 within_j:5.0 btw_ij:0.0\n",
      "\t0.045 & 0.000\n",
      "2018-04-08 12:43:29,997 : INFO : 15(1) - 2(45)\n",
      "\twithin_i:0.0 within_j:10.0 btw_ij:2.0\n",
      "\t0.043 & 0.167\n",
      "2018-04-08 12:43:29,998 : INFO : 15(1) - 3(22)\n",
      "\twithin_i:0.0 within_j:5.0 btw_ij:0.0\n",
      "\t0.083 & 0.000\n",
      "2018-04-08 12:43:29,998 : INFO : 15(1) - 4(28)\n",
      "\twithin_i:0.0 within_j:18.0 btw_ij:3.0\n",
      "\t0.067 & 0.143\n",
      "2018-04-08 12:43:29,999 : INFO : 15(1) - 5(17)\n",
      "\twithin_i:0.0 within_j:6.0 btw_ij:2.0\n",
      "\t0.105 & 0.250\n",
      "2018-04-08 12:43:29,999 : INFO : 15(1) - 6(13)\n",
      "\twithin_i:0.0 within_j:8.0 btw_ij:1.0\n",
      "\t0.133 & 0.111\n",
      "2018-04-08 12:43:30,000 : INFO : 15(1) - 7(5)\n",
      "\twithin_i:0.0 within_j:2.0 btw_ij:1.0\n",
      "\t0.278 & 0.333\n",
      "2018-04-08 12:43:30,000 : INFO : 15(1) - 8(4)\n",
      "\twithin_i:0.0 within_j:0.0 btw_ij:1.0\n",
      "\t0.320 & 1.000\n",
      "2018-04-08 12:43:30,001 : INFO : 15(1) - 9(2)\n",
      "\twithin_i:0.0 within_j:0.0 btw_ij:1.0\n",
      "\t0.444 & 1.000\n",
      "2018-04-08 12:43:30,001 : INFO : 15(1) - 10(3)\n",
      "\twithin_i:0.0 within_j:1.0 btw_ij:2.0\n",
      "\t0.375 & 0.667\n",
      "2018-04-08 12:43:30,002 : INFO : 15(1) - 11(1)\n",
      "\twithin_i:0.0 within_j:0.0 btw_ij:1.0\n",
      "\t0.500 & 1.000\n",
      "2018-04-08 12:43:30,002 : INFO : 15(1) - 14(1)\n",
      "\twithin_i:0.0 within_j:0.0 btw_ij:1.0\n",
      "\t0.500 & 1.000\n"
     ]
    }
   ],
   "source": [
    "# pairwise\n",
    "res_prob, res_frac = pairwise_comparison(mat, attr_names, count_dict)"
   ]
  },
  {
   "cell_type": "code",
   "execution_count": 60,
   "metadata": {
    "ExecuteTime": {
     "end_time": "2018-04-08T11:43:30.009558Z",
     "start_time": "2018-04-08T11:43:30.006879Z"
    }
   },
   "outputs": [],
   "source": [
    "res = np.subtract(res_frac, res_prob)"
   ]
  },
  {
   "cell_type": "code",
   "execution_count": 61,
   "metadata": {
    "ExecuteTime": {
     "end_time": "2018-04-08T11:43:30.555616Z",
     "start_time": "2018-04-08T11:43:30.011878Z"
    },
    "scrolled": false
   },
   "outputs": [
    {
     "data": {
      "text/plain": [
       "Text(0.5,38.3,'node degrees')"
      ]
     },
     "execution_count": 61,
     "metadata": {},
     "output_type": "execute_result"
    },
    {
     "data": {
      "image/png": "[encoded data removed]",
      "text/plain": [
       "<matplotlib.figure.Figure at 0x7f808017b400>"
      ]
     },
     "metadata": {},
     "output_type": "display_data"
    }
   ],
   "source": [
    "f = plt.figure(figsize=(10, 8))\n",
    "ax = f.add_subplot(111)\n",
    "cbar_ax = f.add_axes([.73, .55, .05, .3])\n",
    "ax = sns.heatmap(\n",
    "    res,\n",
    "    yticklabels=attr_names,\n",
    "    xticklabels=attr_names,\n",
    "    cmap=sns.diverging_palette(240, 20, n=9, as_cmap=True),\n",
    "    annot=True,\n",
    "    linewidths=2,\n",
    "    square=True,\n",
    "    ax=ax,\n",
    "    center=0,\n",
    "    cbar_ax=cbar_ax,\n",
    "#     cbar=False,\n",
    "    mask=np.triu(np.zeros_like(res_frac) == 0),\n",
    "    robust=True)\n",
    "ax.set_ylabel('node degrees')\n",
    "ax.set_xlabel('node degrees')"
   ]
  },
  {
   "cell_type": "code",
   "execution_count": 63,
   "metadata": {
    "ExecuteTime": {
     "end_time": "2018-04-08T11:43:51.129684Z",
     "start_time": "2018-04-08T11:43:50.840069Z"
    }
   },
   "outputs": [],
   "source": [
    "f.savefig('IMG/homo_degree_topicnet6yMODr.pdf', format='pdf', bbox_inches='tight')"
   ]
  },
  {
   "cell_type": "markdown",
   "metadata": {},
   "source": [
    "---"
   ]
  },
  {
   "cell_type": "markdown",
   "metadata": {},
   "source": [
    "# `infnet6yr(w)`"
   ]
  },
  {
   "cell_type": "code",
   "execution_count": null,
   "metadata": {
    "ExecuteTime": {
     "end_time": "2018-04-08T11:41:55.887883Z",
     "start_time": "2018-04-08T11:41:44.480Z"
    }
   },
   "outputs": [],
   "source": [
    "with open(\n",
    "        '../../data/data_schoolofinf/poinf_collabgraph_2012-2017_weighted.txt',\n",
    "        'r') as f:\n",
    "    x = f.readlines()\n",
    "\n",
    "infnet6yrw_nodeorder = [s.strip() for s in x]"
   ]
  },
  {
   "cell_type": "code",
   "execution_count": null,
   "metadata": {
    "ExecuteTime": {
     "end_time": "2018-04-08T11:41:55.888570Z",
     "start_time": "2018-04-08T11:41:44.486Z"
    }
   },
   "outputs": [],
   "source": [
    "infnet6yrw_adjmat = np.load(\n",
    "    '../../data/data_schoolofinf/mat/infnet6yrs-weighted-adj-mat.order6yr.pkl')"
   ]
  },
  {
   "cell_type": "code",
   "execution_count": null,
   "metadata": {
    "ExecuteTime": {
     "end_time": "2018-04-08T11:41:55.889305Z",
     "start_time": "2018-04-08T11:41:44.492Z"
    }
   },
   "outputs": [],
   "source": [
    "g_infnet6yr_w = adj_mat_to_graph(\n",
    "    infnet6yrw_adjmat, infnet6yrw_nodeorder, weighted=True)"
   ]
  },
  {
   "cell_type": "code",
   "execution_count": null,
   "metadata": {
    "ExecuteTime": {
     "end_time": "2018-04-08T11:41:55.890164Z",
     "start_time": "2018-04-08T11:41:44.500Z"
    },
    "scrolled": true
   },
   "outputs": [],
   "source": [
    "print((nx.info(g_infnet6yr_w)))"
   ]
  },
  {
   "cell_type": "code",
   "execution_count": null,
   "metadata": {
    "ExecuteTime": {
     "end_time": "2018-04-08T11:41:55.890925Z",
     "start_time": "2018-04-08T11:41:44.506Z"
    }
   },
   "outputs": [],
   "source": [
    "# Additional attributes\n",
    "nx.set_node_attributes(g_infnet6yr_w, lookup_poinf.loc[list(\n",
    "    g_infnet6yr_w.nodes)]['full_name'].to_dict(), 'name')\n",
    "nx.set_node_attributes(g_infnet6yr_w, lookup_poinf.loc[list(\n",
    "    g_infnet6yr_w.nodes)]['institute'].to_dict(), 'institute')\n",
    "nx.set_node_attributes(g_infnet6yr_w, lookup_poinf.loc[list(\n",
    "    g_infnet6yr_w.nodes)]['position'].to_dict(), 'position')\n",
    "nx.set_node_attributes(g_infnet6yr_w, lookup_poinf.loc[list(\n",
    "    g_infnet6yr_w.nodes)]['first_pub_year'].to_dict(), 'year')"
   ]
  },
  {
   "cell_type": "markdown",
   "metadata": {
    "ExecuteTime": {
     "end_time": "2018-04-05T23:33:49.546983Z",
     "start_time": "2018-04-05T23:33:49.544318Z"
    }
   },
   "source": [
    "## Community detection"
   ]
  },
  {
   "cell_type": "markdown",
   "metadata": {},
   "source": [
    "### Girvan-Newman method"
   ]
  },
  {
   "cell_type": "code",
   "execution_count": null,
   "metadata": {
    "ExecuteTime": {
     "end_time": "2018-04-08T11:41:55.891664Z",
     "start_time": "2018-04-08T11:41:44.514Z"
    }
   },
   "outputs": [],
   "source": [
    "def get_best_gnalgo_w(g):\n",
    "    \n",
    "    def weighted_edge_betweeness(g):\n",
    "        _dict =  nx.algorithms.centrality.edge_betweenness_centrality(g, k=len(g), weight='weight')\n",
    "        highest = 0\n",
    "        edge = None\n",
    "        for (a,b) in _dict.items():\n",
    "            if b >highest:\n",
    "                highest=b\n",
    "                edge =a\n",
    "        logging.info('{}: {}'.format(highest,edge))\n",
    "        return edge\n",
    "        \n",
    "    comm = nx.community.girvan_newman(g,most_valuable_edge=weighted_edge_betweeness)\n",
    "    states=[]\n",
    "    scores = []\n",
    "    best_score = 0    \n",
    "    best_partition = None\n",
    "    # starting state:\n",
    "    _g = g\n",
    "    org_g = g\n",
    "    for partition in comm:\n",
    "        _partition = convert_to_dict(partition)\n",
    "        _score = community.modularity(_partition, _g) \n",
    "        # compute score based on previous induced graph\n",
    "        states.append(_partition)\n",
    "        scores.append(_score)\n",
    "        \n",
    "        if _score > best_score:\n",
    "            best_score = _score\n",
    "            best_partition = _partition\n",
    "            logging.info('best_score: {:.3f}'.format(best_score))\n",
    "        \n",
    "    return best_partition, best_score"
   ]
  },
  {
   "cell_type": "code",
   "execution_count": null,
   "metadata": {
    "ExecuteTime": {
     "end_time": "2018-04-08T11:41:55.892436Z",
     "start_time": "2018-04-08T11:41:44.524Z"
    },
    "scrolled": true
   },
   "outputs": [],
   "source": [
    "best_partition_gn_infnet6yr_w , best_score = get_best_gnalgo_w(g_infnet6yr_w)"
   ]
  },
  {
   "cell_type": "code",
   "execution_count": null,
   "metadata": {
    "ExecuteTime": {
     "end_time": "2018-04-08T11:41:55.893144Z",
     "start_time": "2018-04-08T11:41:44.530Z"
    }
   },
   "outputs": [],
   "source": [
    "print(best_score)"
   ]
  },
  {
   "cell_type": "code",
   "execution_count": null,
   "metadata": {
    "ExecuteTime": {
     "end_time": "2018-04-08T11:41:55.893819Z",
     "start_time": "2018-04-08T11:41:44.534Z"
    }
   },
   "outputs": [],
   "source": [
    "G_infnet6yr_w_gn = create_community_graph(best_partition_gn_infnet6yr_w, g_infnet6yr_w)  # create graph"
   ]
  },
  {
   "cell_type": "code",
   "execution_count": null,
   "metadata": {
    "ExecuteTime": {
     "end_time": "2018-04-08T11:41:55.894532Z",
     "start_time": "2018-04-08T11:41:44.542Z"
    }
   },
   "outputs": [],
   "source": [
    "print(nx.info(G_infnet6yr_gn))"
   ]
  },
  {
   "cell_type": "code",
   "execution_count": null,
   "metadata": {
    "ExecuteTime": {
     "end_time": "2018-04-08T11:41:55.895331Z",
     "start_time": "2018-04-08T11:41:44.548Z"
    }
   },
   "outputs": [],
   "source": [
    "a=set()\n",
    "for i,j in best_partition_mod_infnet6yr.items():\n",
    "    a.add(j)\n",
    "print(a)"
   ]
  },
  {
   "cell_type": "markdown",
   "metadata": {},
   "source": [
    "### Modularity opitmisation"
   ]
  },
  {
   "cell_type": "code",
   "execution_count": null,
   "metadata": {
    "ExecuteTime": {
     "end_time": "2018-04-08T11:41:55.896062Z",
     "start_time": "2018-04-08T11:41:44.554Z"
    }
   },
   "outputs": [],
   "source": [
    "best_partition_mod_infnet6yr_w = community.best_partition(g_infnet6yr_w)\n",
    "print(community.modularity(best_partition_mod_infnet6yr_w, g_infnet6yr_w))"
   ]
  },
  {
   "cell_type": "code",
   "execution_count": null,
   "metadata": {
    "ExecuteTime": {
     "end_time": "2018-04-08T11:41:55.896791Z",
     "start_time": "2018-04-08T11:41:44.560Z"
    }
   },
   "outputs": [],
   "source": [
    "a=set()\n",
    "for i,j in best_partition_mod_infnet6yr_w.items():\n",
    "    a.add(j)\n",
    "print(a)"
   ]
  },
  {
   "cell_type": "code",
   "execution_count": null,
   "metadata": {
    "ExecuteTime": {
     "end_time": "2018-04-08T11:41:55.897505Z",
     "start_time": "2018-04-08T11:41:44.566Z"
    },
    "scrolled": true
   },
   "outputs": [],
   "source": [
    "G_infnet6yr_w_mod = create_community_graph(best_partition_mod_infnet6yr_w, g_infnet6yr_w)\n",
    "print(nx.info(G_infnet6yr_w_mod))"
   ]
  },
  {
   "cell_type": "markdown",
   "metadata": {},
   "source": [
    "----"
   ]
  },
  {
   "cell_type": "markdown",
   "metadata": {},
   "source": [
    "# `topicnet6yr`"
   ]
  },
  {
   "cell_type": "code",
   "execution_count": 77,
   "metadata": {
    "ExecuteTime": {
     "end_time": "2018-04-08T11:51:53.709367Z",
     "start_time": "2018-04-08T11:51:53.704318Z"
    }
   },
   "outputs": [],
   "source": [
    "# load network using adjmat\n",
    "with open('../../data/data_schoolofinf/poinf_collabgraph_2012-2017.txt') as f:\n",
    "    nodeorder_6yr = [a.strip() for a in f.readlines()]"
   ]
  },
  {
   "cell_type": "code",
   "execution_count": 78,
   "metadata": {
    "ExecuteTime": {
     "end_time": "2018-04-08T11:51:53.729243Z",
     "start_time": "2018-04-08T11:51:53.718105Z"
    }
   },
   "outputs": [],
   "source": [
    "adjmat_topicnet6yr = pkl.load(\n",
    "    open('../../embedding/notebooks/res/topicnet6yr_adjmat.pkl', 'rb'))"
   ]
  },
  {
   "cell_type": "code",
   "execution_count": 79,
   "metadata": {
    "ExecuteTime": {
     "end_time": "2018-04-08T11:51:53.859116Z",
     "start_time": "2018-04-08T11:51:53.731779Z"
    }
   },
   "outputs": [],
   "source": [
    "g_topicnet6yr = adj_mat_to_graph(adjmat_topicnet6yr, nodeorder_6yr)"
   ]
  },
  {
   "cell_type": "code",
   "execution_count": 80,
   "metadata": {
    "ExecuteTime": {
     "end_time": "2018-04-08T11:51:53.870649Z",
     "start_time": "2018-04-08T11:51:53.860792Z"
    }
   },
   "outputs": [],
   "source": [
    "# add node attributes:\n",
    "nx.set_node_attributes(g_topicnet6yr, lookup_poinf.loc[list(\n",
    "    g_topicnet6yr.nodes)]['full_name'].to_dict(), 'name')\n",
    "nx.set_node_attributes(g_topicnet6yr, lookup_poinf.loc[list(\n",
    "    g_topicnet6yr.nodes)]['institute'].to_dict(), 'institute')\n",
    "nx.set_node_attributes(g_topicnet6yr, lookup_poinf.loc[list(\n",
    "    g_topicnet6yr.nodes)]['position'].to_dict(), 'position')\n",
    "nx.set_node_attributes(g_topicnet6yr, lookup_poinf.loc[list(\n",
    "    g_topicnet6yr.nodes)]['first_pub_year'].to_dict(), 'year')"
   ]
  },
  {
   "cell_type": "code",
   "execution_count": 81,
   "metadata": {
    "ExecuteTime": {
     "end_time": "2018-04-08T11:51:53.890279Z",
     "start_time": "2018-04-08T11:51:53.872141Z"
    },
    "scrolled": false
   },
   "outputs": [
    {
     "name": "stdout",
     "output_type": "stream",
     "text": [
      "Name: \n",
      "Type: Graph\n",
      "Number of nodes: 152\n",
      "Number of edges: 361\n",
      "Average degree:   4.7500\n"
     ]
    }
   ],
   "source": [
    "print(nx.info(g_topicnet6yr))"
   ]
  },
  {
   "cell_type": "markdown",
   "metadata": {},
   "source": [
    "---"
   ]
  },
  {
   "cell_type": "code",
   "execution_count": null,
   "metadata": {
    "ExecuteTime": {
     "end_time": "2018-04-08T11:41:55.918373Z",
     "start_time": "2018-04-08T11:41:44.764Z"
    }
   },
   "outputs": [],
   "source": [
    "count=0\n",
    "for n in g_infnet6yr:\n",
    "    if n in g_topicnet6yr:\n",
    "        pass\n",
    "    else:\n",
    "        count+=1\n",
    "print(count)"
   ]
  },
  {
   "cell_type": "code",
   "execution_count": null,
   "metadata": {
    "ExecuteTime": {
     "end_time": "2018-04-08T11:41:55.919070Z",
     "start_time": "2018-04-08T11:41:44.772Z"
    }
   },
   "outputs": [],
   "source": [
    "# add nodes that are in infnet6yr but not in topicnet6yr - just for sake of comparison\n",
    "topicnet6yr_mod = g_topicnet6yr.copy()"
   ]
  },
  {
   "cell_type": "code",
   "execution_count": null,
   "metadata": {
    "ExecuteTime": {
     "end_time": "2018-04-08T11:41:55.919764Z",
     "start_time": "2018-04-08T11:41:44.778Z"
    }
   },
   "outputs": [],
   "source": [
    "for n in g_infnet6yr:\n",
    "    if n in g_topicnet6yr:\n",
    "        pass\n",
    "    else:\n",
    "        topicnet6yr_mod.add_node(n)"
   ]
  },
  {
   "cell_type": "code",
   "execution_count": null,
   "metadata": {
    "ExecuteTime": {
     "end_time": "2018-04-08T11:41:55.920562Z",
     "start_time": "2018-04-08T11:41:44.784Z"
    }
   },
   "outputs": [],
   "source": [
    "print(nx.info(topicnet6yr_mod))"
   ]
  },
  {
   "cell_type": "code",
   "execution_count": null,
   "metadata": {
    "ExecuteTime": {
     "end_time": "2018-04-08T11:41:55.921294Z",
     "start_time": "2018-04-08T11:41:44.792Z"
    }
   },
   "outputs": [],
   "source": [
    "pos_topicnet6yr = nx.spring_layout(g_infnet6yr, k=1)\n",
    "pos_topicnet6yr = nx.spring_layout(topicnet6yr_mod, pos=pos_topicnet6yr, k=.2)"
   ]
  },
  {
   "cell_type": "code",
   "execution_count": null,
   "metadata": {
    "ExecuteTime": {
     "end_time": "2018-04-08T11:41:55.922059Z",
     "start_time": "2018-04-08T11:41:44.798Z"
    }
   },
   "outputs": [],
   "source": [
    "f = plt.figure(figsize=(18,8))\n",
    "ax1 = f.add_subplot(121)\n",
    "nx.draw(\n",
    "    g_infnet6yr,\n",
    "    pos_topicnet6yr,\n",
    "    node_size=50,\n",
    "    alpha=.5,\n",
    "    ax=ax1,\n",
    "    node_color=artist.color_by_inst(g_infnet6yr, lookup_poinf))\n",
    "ax2 = f.add_subplot(122)\n",
    "nx.draw(\n",
    "    g_topicnet6yr,\n",
    "    pos_topicnet6yr,\n",
    "    node_size=50,\n",
    "    alpha=.5,\n",
    "    ax=ax2,\n",
    "    node_color=artist.color_by_inst(topicnet6yr_mod, lookup_poinf))"
   ]
  },
  {
   "cell_type": "code",
   "execution_count": null,
   "metadata": {
    "ExecuteTime": {
     "end_time": "2018-04-08T11:41:55.922829Z",
     "start_time": "2018-04-08T11:41:44.804Z"
    }
   },
   "outputs": [],
   "source": [
    "f.savefig('IMG/infet6yrVStopicnet6yr.png', format='png',bbox_inches='tight')"
   ]
  },
  {
   "cell_type": "markdown",
   "metadata": {},
   "source": [
    "## Community detection"
   ]
  },
  {
   "cell_type": "markdown",
   "metadata": {},
   "source": [
    "- Does topicnet need further community detection?\n",
    "- one though is to go from topic similarity matrix all the way to clustered network using eigenvector clustering"
   ]
  },
  {
   "cell_type": "markdown",
   "metadata": {},
   "source": [
    "### Girvan-newman method"
   ]
  },
  {
   "cell_type": "code",
   "execution_count": 82,
   "metadata": {
    "ExecuteTime": {
     "end_time": "2018-04-08T11:52:13.785214Z",
     "start_time": "2018-04-08T11:52:11.137942Z"
    }
   },
   "outputs": [
    {
     "name": "stderr",
     "output_type": "stream",
     "text": [
      "2018-04-08 12:52:11,186 : INFO : best_score: 0.848\n"
     ]
    }
   ],
   "source": [
    "best_partition_gn_topicnet6yr, best_score = get_best_gnalgo(g_topicnet6yr)"
   ]
  },
  {
   "cell_type": "code",
   "execution_count": 83,
   "metadata": {
    "ExecuteTime": {
     "end_time": "2018-04-08T11:52:13.808499Z",
     "start_time": "2018-04-08T11:52:13.786622Z"
    }
   },
   "outputs": [],
   "source": [
    "G_topicnet6yr_gn = create_community_graph(best_partition_gn_topicnet6yr,\n",
    "                                          g_topicnet6yr)"
   ]
  },
  {
   "cell_type": "markdown",
   "metadata": {},
   "source": [
    "### Modularity maximisation"
   ]
  },
  {
   "cell_type": "code",
   "execution_count": 84,
   "metadata": {
    "ExecuteTime": {
     "end_time": "2018-04-08T11:52:13.856092Z",
     "start_time": "2018-04-08T11:52:13.809858Z"
    }
   },
   "outputs": [
    {
     "name": "stdout",
     "output_type": "stream",
     "text": [
      "0.8509027708504389\n"
     ]
    }
   ],
   "source": [
    "best_partition_mod_topicnet6yr = community.best_partition(g_topicnet6yr)\n",
    "print((community.modularity(best_partition_mod_topicnet6yr, g_topicnet6yr)))"
   ]
  },
  {
   "cell_type": "code",
   "execution_count": 85,
   "metadata": {
    "ExecuteTime": {
     "end_time": "2018-04-08T11:52:13.892848Z",
     "start_time": "2018-04-08T11:52:13.857938Z"
    }
   },
   "outputs": [],
   "source": [
    "G_topicnet6yr_mod = create_community_graph(best_partition_mod_topicnet6yr,\n",
    "                                           g_topicnet6yr)"
   ]
  },
  {
   "cell_type": "code",
   "execution_count": null,
   "metadata": {
    "ExecuteTime": {
     "end_time": "2018-04-08T11:41:55.926507Z",
     "start_time": "2018-04-08T11:41:44.840Z"
    }
   },
   "outputs": [],
   "source": [
    "f = plt.figure(figsize=(18, 6))\n",
    "ax1 = f.add_subplot(131)\n",
    "nx.draw(\n",
    "    G_topicnet6yr_gn,\n",
    "    pos_topicnet6yr,\n",
    "    ax=ax1,\n",
    "    node_size=50,\n",
    "    node_color=artist.color_by_comm(best_partition_gn_topicnet6yr,\n",
    "                                    G_topicnet6yr_gn.node),\n",
    "    alpha=.5)\n",
    "ax2 = f.add_subplot(132)\n",
    "nx.draw(\n",
    "    g_topicnet6yr,\n",
    "    pos_topicnet6yr,\n",
    "    ax=ax2,\n",
    "    node_size=50,\n",
    "    node_color=artist.color_by_inst(g_topicnet6yr, lookup_poinf),\n",
    "    alpha=.5)\n",
    "\n",
    "ax3 = f.add_subplot(133)\n",
    "nx.draw(\n",
    "    G_topicnet6yr_mod,\n",
    "    pos_topicnet6yr,\n",
    "    ax=ax3,\n",
    "    node_size=50,\n",
    "    node_color=artist.color_by_comm(best_partition_mod_topicnet6yr,\n",
    "                                    G_topicnet6yr_mod.node),\n",
    "    alpha=.5)\n",
    "\n",
    "f.tight_layout()"
   ]
  },
  {
   "cell_type": "markdown",
   "metadata": {},
   "source": [
    "## Homophily"
   ]
  },
  {
   "cell_type": "markdown",
   "metadata": {},
   "source": [
    "### by inst"
   ]
  },
  {
   "cell_type": "code",
   "execution_count": 161,
   "metadata": {
    "ExecuteTime": {
     "end_time": "2018-04-08T13:12:39.870319Z",
     "start_time": "2018-04-08T13:12:39.864723Z"
    },
    "code_folding": []
   },
   "outputs": [],
   "source": [
    "edges_dict, mat, count_dict, attr_names = get_mixing_dict(\n",
    "    g_topicnet6yr, characteristic_name='institute', target_order=inst_order)"
   ]
  },
  {
   "cell_type": "code",
   "execution_count": 162,
   "metadata": {
    "ExecuteTime": {
     "end_time": "2018-04-08T13:12:39.932429Z",
     "start_time": "2018-04-08T13:12:39.879343Z"
    }
   },
   "outputs": [
    {
     "name": "stderr",
     "output_type": "stream",
     "text": [
      "2018-04-08 14:12:39,923 : INFO : UNKNOWN within:4.0 outside:18.0\n",
      "0.100 & 0.050\n",
      "2018-04-08 14:12:39,924 : INFO : centre for intelligent systems and their applications within:4.0 outside:20.0\n",
      "0.156 & 0.055\n",
      "2018-04-08 14:12:39,925 : INFO : institute of language cognition and computation within:84.0 outside:31.0\n",
      "0.361 & 0.086\n",
      "2018-04-08 14:12:39,926 : INFO : laboratory for foundations of computer science within:44.0 outside:30.0\n",
      "0.388 & 0.083\n",
      "2018-04-08 14:12:39,926 : INFO : institute for adaptive and neural computation within:22.0 outside:55.0\n",
      "0.188 & 0.152\n",
      "2018-04-08 14:12:39,927 : INFO : institute for computing systems architecture within:58.0 outside:18.0\n",
      "0.229 & 0.050\n",
      "2018-04-08 14:12:39,928 : INFO : neuroinformatics dtc within:15.0 outside:49.0\n",
      "0.111 & 0.136\n",
      "2018-04-08 14:12:39,929 : INFO : institute of perception action and behaviour within:8.0 outside:14.0\n",
      "0.100 & 0.039\n",
      "2018-04-08 14:12:39,929 : INFO : deanery of clinical sciences within:0.0 outside:3.0\n",
      "0.013 & 0.008\n",
      "2018-04-08 14:12:39,930 : INFO : school of philosophy psychology and language sciences within:0.0 outside:6.0\n",
      "0.013 & 0.017\n"
     ]
    }
   ],
   "source": [
    "# 1 vs world:\n",
    "attr_names_degree_topicnet6yr = attr_names\n",
    "diff_degree_topicneref6yr = one_vs_world(mat, attr_names, count_dict)"
   ]
  },
  {
   "cell_type": "code",
   "execution_count": 88,
   "metadata": {
    "ExecuteTime": {
     "end_time": "2018-04-08T11:52:25.367440Z",
     "start_time": "2018-04-08T11:52:25.358031Z"
    }
   },
   "outputs": [
    {
     "name": "stdout",
     "output_type": "stream",
     "text": [
      "-0.050\n",
      "-0.101\n",
      "-0.276\n",
      "-0.305\n",
      "-0.036\n",
      "-0.179\n",
      "0.024\n",
      "-0.061\n",
      "-0.005\n",
      "0.004\n"
     ]
    }
   ],
   "source": [
    "for i in diff:\n",
    "    print('{:.3f}'.format(i))"
   ]
  },
  {
   "cell_type": "code",
   "execution_count": 89,
   "metadata": {
    "ExecuteTime": {
     "end_time": "2018-04-08T11:52:25.387268Z",
     "start_time": "2018-04-08T11:52:25.369783Z"
    }
   },
   "outputs": [
    {
     "data": {
      "text/plain": [
       "-0.09837257617728531"
      ]
     },
     "execution_count": 89,
     "metadata": {},
     "output_type": "execute_result"
    }
   ],
   "source": [
    "np.mean(diff)"
   ]
  },
  {
   "cell_type": "code",
   "execution_count": 90,
   "metadata": {
    "ExecuteTime": {
     "end_time": "2018-04-08T11:52:25.461580Z",
     "start_time": "2018-04-08T11:52:25.389548Z"
    }
   },
   "outputs": [
    {
     "name": "stderr",
     "output_type": "stream",
     "text": [
      "2018-04-08 12:52:25,403 : INFO : UNKNOWN(8) - centre for intelligent systems and their applications(13)\n",
      "\twithin_i:4.0 within_j:4.0 btw_ij:1.0\n",
      "\t0.472 & 0.111\n",
      "2018-04-08 12:52:25,404 : INFO : UNKNOWN(8) - institute of language cognition and computation(36)\n",
      "\twithin_i:4.0 within_j:84.0 btw_ij:15.0\n",
      "\t0.298 & 0.146\n",
      "2018-04-08 12:52:25,405 : INFO : UNKNOWN(8) - laboratory for foundations of computer science(40)\n",
      "\twithin_i:4.0 within_j:44.0 btw_ij:0.0\n",
      "\t0.278 & 0.000\n",
      "2018-04-08 12:52:25,406 : INFO : UNKNOWN(8) - institute for adaptive and neural computation(16)\n",
      "\twithin_i:4.0 within_j:22.0 btw_ij:0.0\n",
      "\t0.444 & 0.000\n",
      "2018-04-08 12:52:25,406 : INFO : UNKNOWN(8) - institute for computing systems architecture(20)\n",
      "\twithin_i:4.0 within_j:58.0 btw_ij:0.0\n",
      "\t0.408 & 0.000\n",
      "2018-04-08 12:52:25,407 : INFO : UNKNOWN(8) - neuroinformatics dtc(9)\n",
      "\twithin_i:4.0 within_j:15.0 btw_ij:0.0\n",
      "\t0.498 & 0.000\n",
      "2018-04-08 12:52:25,408 : INFO : UNKNOWN(8) - institute of perception action and behaviour(8)\n",
      "\twithin_i:4.0 within_j:8.0 btw_ij:2.0\n",
      "\t0.500 & 0.143\n",
      "2018-04-08 12:52:25,409 : INFO : UNKNOWN(8) - deanery of clinical sciences(1)\n",
      "\twithin_i:4.0 within_j:0.0 btw_ij:0.0\n",
      "\t0.198 & 0.000\n",
      "2018-04-08 12:52:25,409 : INFO : UNKNOWN(8) - school of philosophy psychology and language sciences(1)\n",
      "\twithin_i:4.0 within_j:0.0 btw_ij:0.0\n",
      "\t0.198 & 0.000\n",
      "2018-04-08 12:52:25,410 : INFO : centre for intelligent systems and their applications(13) - UNKNOWN(8)\n",
      "\twithin_i:4.0 within_j:4.0 btw_ij:1.0\n",
      "\t0.472 & 0.111\n",
      "2018-04-08 12:52:25,410 : INFO : centre for intelligent systems and their applications(13) - institute of language cognition and computation(36)\n",
      "\twithin_i:4.0 within_j:84.0 btw_ij:4.0\n",
      "\t0.390 & 0.043\n",
      "2018-04-08 12:52:25,411 : INFO : centre for intelligent systems and their applications(13) - laboratory for foundations of computer science(40)\n",
      "\twithin_i:4.0 within_j:44.0 btw_ij:4.0\n",
      "\t0.370 & 0.077\n",
      "2018-04-08 12:52:25,412 : INFO : centre for intelligent systems and their applications(13) - institute for adaptive and neural computation(16)\n",
      "\twithin_i:4.0 within_j:22.0 btw_ij:5.0\n",
      "\t0.495 & 0.161\n",
      "2018-04-08 12:52:25,413 : INFO : centre for intelligent systems and their applications(13) - institute for computing systems architecture(20)\n",
      "\twithin_i:4.0 within_j:58.0 btw_ij:0.0\n",
      "\t0.478 & 0.000\n",
      "2018-04-08 12:52:25,413 : INFO : centre for intelligent systems and their applications(13) - neuroinformatics dtc(9)\n",
      "\twithin_i:4.0 within_j:15.0 btw_ij:5.0\n",
      "\t0.483 & 0.208\n",
      "2018-04-08 12:52:25,414 : INFO : centre for intelligent systems and their applications(13) - institute of perception action and behaviour(8)\n",
      "\twithin_i:4.0 within_j:8.0 btw_ij:0.0\n",
      "\t0.472 & 0.000\n",
      "2018-04-08 12:52:25,415 : INFO : centre for intelligent systems and their applications(13) - deanery of clinical sciences(1)\n",
      "\twithin_i:4.0 within_j:0.0 btw_ij:0.0\n",
      "\t0.133 & 0.000\n",
      "2018-04-08 12:52:25,415 : INFO : centre for intelligent systems and their applications(13) - school of philosophy psychology and language sciences(1)\n",
      "\twithin_i:4.0 within_j:0.0 btw_ij:1.0\n",
      "\t0.133 & 0.200\n",
      "2018-04-08 12:52:25,416 : INFO : institute of language cognition and computation(36) - UNKNOWN(8)\n",
      "\twithin_i:84.0 within_j:4.0 btw_ij:15.0\n",
      "\t0.298 & 0.146\n",
      "2018-04-08 12:52:25,417 : INFO : institute of language cognition and computation(36) - centre for intelligent systems and their applications(13)\n",
      "\twithin_i:84.0 within_j:4.0 btw_ij:4.0\n",
      "\t0.390 & 0.043\n",
      "2018-04-08 12:52:25,417 : INFO : institute of language cognition and computation(36) - laboratory for foundations of computer science(40)\n",
      "\twithin_i:84.0 within_j:44.0 btw_ij:3.0\n",
      "\t0.499 & 0.023\n",
      "2018-04-08 12:52:25,418 : INFO : institute of language cognition and computation(36) - institute for adaptive and neural computation(16)\n",
      "\twithin_i:84.0 within_j:22.0 btw_ij:4.0\n",
      "\t0.426 & 0.036\n",
      "2018-04-08 12:52:25,419 : INFO : institute of language cognition and computation(36) - institute for computing systems architecture(20)\n",
      "\twithin_i:84.0 within_j:58.0 btw_ij:0.0\n",
      "\t0.459 & 0.000\n",
      "2018-04-08 12:52:25,419 : INFO : institute of language cognition and computation(36) - neuroinformatics dtc(9)\n",
      "\twithin_i:84.0 within_j:15.0 btw_ij:0.0\n",
      "\t0.320 & 0.000\n",
      "2018-04-08 12:52:25,420 : INFO : institute of language cognition and computation(36) - institute of perception action and behaviour(8)\n",
      "\twithin_i:84.0 within_j:8.0 btw_ij:0.0\n",
      "\t0.298 & 0.000\n",
      "2018-04-08 12:52:25,421 : INFO : institute of language cognition and computation(36) - deanery of clinical sciences(1)\n",
      "\twithin_i:84.0 within_j:0.0 btw_ij:2.0\n",
      "\t0.053 & 0.023\n",
      "2018-04-08 12:52:25,421 : INFO : institute of language cognition and computation(36) - school of philosophy psychology and language sciences(1)\n",
      "\twithin_i:84.0 within_j:0.0 btw_ij:3.0\n",
      "\t0.053 & 0.034\n",
      "2018-04-08 12:52:25,422 : INFO : laboratory for foundations of computer science(40) - UNKNOWN(8)\n",
      "\twithin_i:44.0 within_j:4.0 btw_ij:0.0\n",
      "\t0.278 & 0.000\n",
      "2018-04-08 12:52:25,423 : INFO : laboratory for foundations of computer science(40) - centre for intelligent systems and their applications(13)\n",
      "\twithin_i:44.0 within_j:4.0 btw_ij:4.0\n",
      "\t0.370 & 0.077\n",
      "2018-04-08 12:52:25,424 : INFO : laboratory for foundations of computer science(40) - institute of language cognition and computation(36)\n",
      "\twithin_i:44.0 within_j:84.0 btw_ij:3.0\n",
      "\t0.499 & 0.023\n",
      "2018-04-08 12:52:25,424 : INFO : laboratory for foundations of computer science(40) - institute for adaptive and neural computation(16)\n",
      "\twithin_i:44.0 within_j:22.0 btw_ij:4.0\n",
      "\t0.408 & 0.057\n",
      "2018-04-08 12:52:25,425 : INFO : laboratory for foundations of computer science(40) - institute for computing systems architecture(20)\n",
      "\twithin_i:44.0 within_j:58.0 btw_ij:17.0\n",
      "\t0.444 & 0.143\n",
      "2018-04-08 12:52:25,426 : INFO : laboratory for foundations of computer science(40) - neuroinformatics dtc(9)\n",
      "\twithin_i:44.0 within_j:15.0 btw_ij:1.0\n",
      "\t0.300 & 0.017\n",
      "2018-04-08 12:52:25,426 : INFO : laboratory for foundations of computer science(40) - institute of perception action and behaviour(8)\n",
      "\twithin_i:44.0 within_j:8.0 btw_ij:0.0\n",
      "\t0.278 & 0.000\n",
      "2018-04-08 12:52:25,427 : INFO : laboratory for foundations of computer science(40) - deanery of clinical sciences(1)\n",
      "\twithin_i:44.0 within_j:0.0 btw_ij:0.0\n",
      "\t0.048 & 0.000\n",
      "2018-04-08 12:52:25,427 : INFO : laboratory for foundations of computer science(40) - school of philosophy psychology and language sciences(1)\n",
      "\twithin_i:44.0 within_j:0.0 btw_ij:1.0\n",
      "\t0.048 & 0.022\n",
      "2018-04-08 12:52:25,428 : INFO : institute for adaptive and neural computation(16) - UNKNOWN(8)\n",
      "\twithin_i:22.0 within_j:4.0 btw_ij:0.0\n",
      "\t0.444 & 0.000\n",
      "2018-04-08 12:52:25,429 : INFO : institute for adaptive and neural computation(16) - centre for intelligent systems and their applications(13)\n",
      "\twithin_i:22.0 within_j:4.0 btw_ij:5.0\n",
      "\t0.495 & 0.161\n",
      "2018-04-08 12:52:25,429 : INFO : institute for adaptive and neural computation(16) - institute of language cognition and computation(36)\n",
      "\twithin_i:22.0 within_j:84.0 btw_ij:4.0\n",
      "\t0.426 & 0.036\n",
      "2018-04-08 12:52:25,430 : INFO : institute for adaptive and neural computation(16) - laboratory for foundations of computer science(40)\n",
      "\twithin_i:22.0 within_j:44.0 btw_ij:4.0\n",
      "\t0.408 & 0.057\n",
      "2018-04-08 12:52:25,431 : INFO : institute for adaptive and neural computation(16) - institute for computing systems architecture(20)\n",
      "\twithin_i:22.0 within_j:58.0 btw_ij:1.0\n",
      "\t0.494 & 0.012\n",
      "2018-04-08 12:52:25,431 : INFO : institute for adaptive and neural computation(16) - neuroinformatics dtc(9)\n",
      "\twithin_i:22.0 within_j:15.0 btw_ij:36.0\n",
      "\t0.461 & 0.493\n",
      "2018-04-08 12:52:25,432 : INFO : institute for adaptive and neural computation(16) - institute of perception action and behaviour(8)\n",
      "\twithin_i:22.0 within_j:8.0 btw_ij:5.0\n",
      "\t0.444 & 0.143\n",
      "2018-04-08 12:52:25,433 : INFO : institute for adaptive and neural computation(16) - deanery of clinical sciences(1)\n",
      "\twithin_i:22.0 within_j:0.0 btw_ij:0.0\n",
      "\t0.111 & 0.000\n",
      "2018-04-08 12:52:25,433 : INFO : institute for adaptive and neural computation(16) - school of philosophy psychology and language sciences(1)\n",
      "\twithin_i:22.0 within_j:0.0 btw_ij:0.0\n",
      "\t0.111 & 0.000\n",
      "2018-04-08 12:52:25,434 : INFO : institute for computing systems architecture(20) - UNKNOWN(8)\n",
      "\twithin_i:58.0 within_j:4.0 btw_ij:0.0\n",
      "\t0.408 & 0.000\n",
      "2018-04-08 12:52:25,434 : INFO : institute for computing systems architecture(20) - centre for intelligent systems and their applications(13)\n",
      "\twithin_i:58.0 within_j:4.0 btw_ij:0.0\n",
      "\t0.478 & 0.000\n"
     ]
    },
    {
     "name": "stderr",
     "output_type": "stream",
     "text": [
      "2018-04-08 12:52:25,435 : INFO : institute for computing systems architecture(20) - institute of language cognition and computation(36)\n",
      "\twithin_i:58.0 within_j:84.0 btw_ij:0.0\n",
      "\t0.459 & 0.000\n",
      "2018-04-08 12:52:25,436 : INFO : institute for computing systems architecture(20) - laboratory for foundations of computer science(40)\n",
      "\twithin_i:58.0 within_j:44.0 btw_ij:17.0\n",
      "\t0.444 & 0.143\n",
      "2018-04-08 12:52:25,436 : INFO : institute for computing systems architecture(20) - institute for adaptive and neural computation(16)\n",
      "\twithin_i:58.0 within_j:22.0 btw_ij:1.0\n",
      "\t0.494 & 0.012\n",
      "2018-04-08 12:52:25,437 : INFO : institute for computing systems architecture(20) - neuroinformatics dtc(9)\n",
      "\twithin_i:58.0 within_j:15.0 btw_ij:0.0\n",
      "\t0.428 & 0.000\n",
      "2018-04-08 12:52:25,437 : INFO : institute for computing systems architecture(20) - institute of perception action and behaviour(8)\n",
      "\twithin_i:58.0 within_j:8.0 btw_ij:0.0\n",
      "\t0.408 & 0.000\n",
      "2018-04-08 12:52:25,438 : INFO : institute for computing systems architecture(20) - deanery of clinical sciences(1)\n",
      "\twithin_i:58.0 within_j:0.0 btw_ij:0.0\n",
      "\t0.091 & 0.000\n",
      "2018-04-08 12:52:25,438 : INFO : institute for computing systems architecture(20) - school of philosophy psychology and language sciences(1)\n",
      "\twithin_i:58.0 within_j:0.0 btw_ij:0.0\n",
      "\t0.091 & 0.000\n",
      "2018-04-08 12:52:25,439 : INFO : neuroinformatics dtc(9) - UNKNOWN(8)\n",
      "\twithin_i:15.0 within_j:4.0 btw_ij:0.0\n",
      "\t0.498 & 0.000\n",
      "2018-04-08 12:52:25,440 : INFO : neuroinformatics dtc(9) - centre for intelligent systems and their applications(13)\n",
      "\twithin_i:15.0 within_j:4.0 btw_ij:5.0\n",
      "\t0.483 & 0.208\n",
      "2018-04-08 12:52:25,440 : INFO : neuroinformatics dtc(9) - institute of language cognition and computation(36)\n",
      "\twithin_i:15.0 within_j:84.0 btw_ij:0.0\n",
      "\t0.320 & 0.000\n",
      "2018-04-08 12:52:25,441 : INFO : neuroinformatics dtc(9) - laboratory for foundations of computer science(40)\n",
      "\twithin_i:15.0 within_j:44.0 btw_ij:1.0\n",
      "\t0.300 & 0.017\n",
      "2018-04-08 12:52:25,442 : INFO : neuroinformatics dtc(9) - institute for adaptive and neural computation(16)\n",
      "\twithin_i:15.0 within_j:22.0 btw_ij:36.0\n",
      "\t0.461 & 0.493\n",
      "2018-04-08 12:52:25,442 : INFO : neuroinformatics dtc(9) - institute for computing systems architecture(20)\n",
      "\twithin_i:15.0 within_j:58.0 btw_ij:0.0\n",
      "\t0.428 & 0.000\n",
      "2018-04-08 12:52:25,443 : INFO : neuroinformatics dtc(9) - institute of perception action and behaviour(8)\n",
      "\twithin_i:15.0 within_j:8.0 btw_ij:7.0\n",
      "\t0.498 & 0.233\n",
      "2018-04-08 12:52:25,443 : INFO : neuroinformatics dtc(9) - deanery of clinical sciences(1)\n",
      "\twithin_i:15.0 within_j:0.0 btw_ij:0.0\n",
      "\t0.180 & 0.000\n",
      "2018-04-08 12:52:25,444 : INFO : neuroinformatics dtc(9) - school of philosophy psychology and language sciences(1)\n",
      "\twithin_i:15.0 within_j:0.0 btw_ij:0.0\n",
      "\t0.180 & 0.000\n",
      "2018-04-08 12:52:25,445 : INFO : institute of perception action and behaviour(8) - UNKNOWN(8)\n",
      "\twithin_i:8.0 within_j:4.0 btw_ij:2.0\n",
      "\t0.500 & 0.143\n",
      "2018-04-08 12:52:25,445 : INFO : institute of perception action and behaviour(8) - centre for intelligent systems and their applications(13)\n",
      "\twithin_i:8.0 within_j:4.0 btw_ij:0.0\n",
      "\t0.472 & 0.000\n",
      "2018-04-08 12:52:25,446 : INFO : institute of perception action and behaviour(8) - institute of language cognition and computation(36)\n",
      "\twithin_i:8.0 within_j:84.0 btw_ij:0.0\n",
      "\t0.298 & 0.000\n",
      "2018-04-08 12:52:25,446 : INFO : institute of perception action and behaviour(8) - laboratory for foundations of computer science(40)\n",
      "\twithin_i:8.0 within_j:44.0 btw_ij:0.0\n",
      "\t0.278 & 0.000\n",
      "2018-04-08 12:52:25,447 : INFO : institute of perception action and behaviour(8) - institute for adaptive and neural computation(16)\n",
      "\twithin_i:8.0 within_j:22.0 btw_ij:5.0\n",
      "\t0.444 & 0.143\n",
      "2018-04-08 12:52:25,448 : INFO : institute of perception action and behaviour(8) - institute for computing systems architecture(20)\n",
      "\twithin_i:8.0 within_j:58.0 btw_ij:0.0\n",
      "\t0.408 & 0.000\n",
      "2018-04-08 12:52:25,448 : INFO : institute of perception action and behaviour(8) - neuroinformatics dtc(9)\n",
      "\twithin_i:8.0 within_j:15.0 btw_ij:7.0\n",
      "\t0.498 & 0.233\n",
      "2018-04-08 12:52:25,449 : INFO : institute of perception action and behaviour(8) - deanery of clinical sciences(1)\n",
      "\twithin_i:8.0 within_j:0.0 btw_ij:0.0\n",
      "\t0.198 & 0.000\n",
      "2018-04-08 12:52:25,449 : INFO : institute of perception action and behaviour(8) - school of philosophy psychology and language sciences(1)\n",
      "\twithin_i:8.0 within_j:0.0 btw_ij:0.0\n",
      "\t0.198 & 0.000\n",
      "2018-04-08 12:52:25,450 : INFO : deanery of clinical sciences(1) - UNKNOWN(8)\n",
      "\twithin_i:0.0 within_j:4.0 btw_ij:0.0\n",
      "\t0.198 & 0.000\n",
      "2018-04-08 12:52:25,450 : INFO : deanery of clinical sciences(1) - centre for intelligent systems and their applications(13)\n",
      "\twithin_i:0.0 within_j:4.0 btw_ij:0.0\n",
      "\t0.133 & 0.000\n",
      "2018-04-08 12:52:25,451 : INFO : deanery of clinical sciences(1) - institute of language cognition and computation(36)\n",
      "\twithin_i:0.0 within_j:84.0 btw_ij:2.0\n",
      "\t0.053 & 0.023\n",
      "2018-04-08 12:52:25,452 : INFO : deanery of clinical sciences(1) - laboratory for foundations of computer science(40)\n",
      "\twithin_i:0.0 within_j:44.0 btw_ij:0.0\n",
      "\t0.048 & 0.000\n",
      "2018-04-08 12:52:25,452 : INFO : deanery of clinical sciences(1) - institute for adaptive and neural computation(16)\n",
      "\twithin_i:0.0 within_j:22.0 btw_ij:0.0\n",
      "\t0.111 & 0.000\n",
      "2018-04-08 12:52:25,453 : INFO : deanery of clinical sciences(1) - institute for computing systems architecture(20)\n",
      "\twithin_i:0.0 within_j:58.0 btw_ij:0.0\n",
      "\t0.091 & 0.000\n",
      "2018-04-08 12:52:25,453 : INFO : deanery of clinical sciences(1) - neuroinformatics dtc(9)\n",
      "\twithin_i:0.0 within_j:15.0 btw_ij:0.0\n",
      "\t0.180 & 0.000\n",
      "2018-04-08 12:52:25,454 : INFO : deanery of clinical sciences(1) - institute of perception action and behaviour(8)\n",
      "\twithin_i:0.0 within_j:8.0 btw_ij:0.0\n",
      "\t0.198 & 0.000\n",
      "2018-04-08 12:52:25,454 : INFO : deanery of clinical sciences(1) - school of philosophy psychology and language sciences(1)\n",
      "\twithin_i:0.0 within_j:0.0 btw_ij:1.0\n",
      "\t0.500 & 1.000\n",
      "2018-04-08 12:52:25,455 : INFO : school of philosophy psychology and language sciences(1) - UNKNOWN(8)\n",
      "\twithin_i:0.0 within_j:4.0 btw_ij:0.0\n",
      "\t0.198 & 0.000\n",
      "2018-04-08 12:52:25,455 : INFO : school of philosophy psychology and language sciences(1) - centre for intelligent systems and their applications(13)\n",
      "\twithin_i:0.0 within_j:4.0 btw_ij:1.0\n",
      "\t0.133 & 0.200\n",
      "2018-04-08 12:52:25,456 : INFO : school of philosophy psychology and language sciences(1) - institute of language cognition and computation(36)\n",
      "\twithin_i:0.0 within_j:84.0 btw_ij:3.0\n",
      "\t0.053 & 0.034\n",
      "2018-04-08 12:52:25,457 : INFO : school of philosophy psychology and language sciences(1) - laboratory for foundations of computer science(40)\n",
      "\twithin_i:0.0 within_j:44.0 btw_ij:1.0\n",
      "\t0.048 & 0.022\n",
      "2018-04-08 12:52:25,457 : INFO : school of philosophy psychology and language sciences(1) - institute for adaptive and neural computation(16)\n",
      "\twithin_i:0.0 within_j:22.0 btw_ij:0.0\n",
      "\t0.111 & 0.000\n",
      "2018-04-08 12:52:25,458 : INFO : school of philosophy psychology and language sciences(1) - institute for computing systems architecture(20)\n",
      "\twithin_i:0.0 within_j:58.0 btw_ij:0.0\n",
      "\t0.091 & 0.000\n",
      "2018-04-08 12:52:25,458 : INFO : school of philosophy psychology and language sciences(1) - neuroinformatics dtc(9)\n",
      "\twithin_i:0.0 within_j:15.0 btw_ij:0.0\n",
      "\t0.180 & 0.000\n",
      "2018-04-08 12:52:25,459 : INFO : school of philosophy psychology and language sciences(1) - institute of perception action and behaviour(8)\n",
      "\twithin_i:0.0 within_j:8.0 btw_ij:0.0\n",
      "\t0.198 & 0.000\n",
      "2018-04-08 12:52:25,459 : INFO : school of philosophy psychology and language sciences(1) - deanery of clinical sciences(1)\n",
      "\twithin_i:0.0 within_j:0.0 btw_ij:1.0\n",
      "\t0.500 & 1.000\n"
     ]
    }
   ],
   "source": [
    "# pairwise\n",
    "res_prob, res_frac = pairwise_comparison(mat, attr_names, count_dict)"
   ]
  },
  {
   "cell_type": "code",
   "execution_count": 91,
   "metadata": {
    "ExecuteTime": {
     "end_time": "2018-04-08T11:52:25.467057Z",
     "start_time": "2018-04-08T11:52:25.464206Z"
    }
   },
   "outputs": [],
   "source": [
    "res = np.subtract(res_frac, res_prob)"
   ]
  },
  {
   "cell_type": "code",
   "execution_count": 92,
   "metadata": {
    "ExecuteTime": {
     "end_time": "2018-04-08T11:52:25.754626Z",
     "start_time": "2018-04-08T11:52:25.469605Z"
    }
   },
   "outputs": [
    {
     "data": {
      "image/png": "[encoded data removed]",
      "text/plain": [
       "<matplotlib.figure.Figure at 0x7f807cc4b7f0>"
      ]
     },
     "metadata": {},
     "output_type": "display_data"
    }
   ],
   "source": [
    "f = plt.figure(figsize=(10, 8))\n",
    "ax = f.add_subplot(111)\n",
    "ax = sns.heatmap(\n",
    "    res[1:-2, 1:-2],\n",
    "    yticklabels=[\n",
    "        \"{} ({})\".format(x, i) for i, x in enumerate(attr_names[1:-2])\n",
    "    ],\n",
    "    cmap=sns.diverging_palette(245, 20, n=10, as_cmap=True),\n",
    "    annot=True,\n",
    "    linewidths=2,\n",
    "    square=True,\n",
    "    ax=ax,\n",
    "    center=0,\n",
    "    cbar=False,\n",
    "    mask=np.triu(np.zeros_like(res_frac[1:-2, 1:-2]) == 0),\n",
    "    robust=True)"
   ]
  },
  {
   "cell_type": "markdown",
   "metadata": {},
   "source": [
    "### by degree"
   ]
  },
  {
   "cell_type": "code",
   "execution_count": 179,
   "metadata": {
    "ExecuteTime": {
     "end_time": "2018-04-08T13:16:40.333460Z",
     "start_time": "2018-04-08T13:16:40.320433Z"
    }
   },
   "outputs": [],
   "source": [
    "# add degrees to edges\n",
    "nx.set_node_attributes(g_topicnet6yr, dict(g_topicnet6yr.degree), name='degree')\n",
    "edges_dict, mat, count_dict, attr_names = get_mixing_dict(\n",
    "    g_topicnet6yr, characteristic_name='degree')\n",
    "target_order = sorted(attr_names)\n",
    "edges_dict, mat, count_dict, attr_names = get_mixing_dict(\n",
    "    g_topicnet6yr, characteristic_name='degree', target_order=target_order)"
   ]
  },
  {
   "cell_type": "code",
   "execution_count": 180,
   "metadata": {
    "ExecuteTime": {
     "end_time": "2018-04-08T13:16:43.077255Z",
     "start_time": "2018-04-08T13:16:43.066097Z"
    }
   },
   "outputs": [
    {
     "name": "stderr",
     "output_type": "stream",
     "text": [
      "2018-04-08 14:16:43,067 : INFO : 1 within:9.0 outside:21.0\n",
      "0.381 & 0.058\n",
      "2018-04-08 14:16:43,068 : INFO : 2 within:4.0 outside:20.0\n",
      "0.167 & 0.055\n",
      "2018-04-08 14:16:43,069 : INFO : 3 within:22.0 outside:43.0\n",
      "0.309 & 0.119\n",
      "2018-04-08 14:16:43,069 : INFO : 4 within:10.0 outside:48.0\n",
      "0.199 & 0.133\n",
      "2018-04-08 14:16:43,070 : INFO : 5 within:1.0 outside:23.0\n",
      "0.064 & 0.064\n",
      "2018-04-08 14:16:43,070 : INFO : 6 within:2.0 outside:38.0\n",
      "0.088 & 0.105\n",
      "2018-04-08 14:16:43,071 : INFO : 7 within:1.0 outside:33.0\n",
      "0.064 & 0.091\n",
      "2018-04-08 14:16:43,072 : INFO : 8 within:1.0 outside:22.0\n",
      "0.039 & 0.061\n",
      "2018-04-08 14:16:43,072 : INFO : 9 within:1.0 outside:25.0\n",
      "0.039 & 0.069\n",
      "2018-04-08 14:16:43,073 : INFO : 10 within:24.0 outside:52.0\n",
      "0.123 & 0.144\n",
      "2018-04-08 14:16:43,073 : INFO : 11 within:1.0 outside:31.0\n",
      "0.039 & 0.086\n",
      "2018-04-08 14:16:43,074 : INFO : 12 within:13.0 outside:82.0\n",
      "0.111 & 0.227\n",
      "2018-04-08 14:16:43,075 : INFO : 13 within:10.0 outside:58.0\n",
      "0.076 & 0.161\n",
      "2018-04-08 14:16:43,075 : INFO : 14 within:1.0 outside:26.0\n",
      "0.026 & 0.072\n"
     ]
    }
   ],
   "source": [
    "# 1 vs world:\n",
    "attr_names_degree_topicnet6yr = attr_names\n",
    "diff_degree_topicnet6yr = one_vs_world(mat, attr_names, count_dict)"
   ]
  },
  {
   "cell_type": "code",
   "execution_count": 100,
   "metadata": {
    "ExecuteTime": {
     "end_time": "2018-04-08T11:55:32.942135Z",
     "start_time": "2018-04-08T11:55:32.935506Z"
    }
   },
   "outputs": [
    {
     "data": {
      "text/plain": [
       "[-0.32332063711911363,\n",
       " -0.11184210526315791,\n",
       " -0.18966412742382274,\n",
       " -0.06570290858725761,\n",
       " 8.65650969529147e-05,\n",
       " 0.01739958448753462,\n",
       " 0.027787396121883662,\n",
       " 0.02224722991689751,\n",
       " 0.030557479224376738,\n",
       " 0.021121883656509716,\n",
       " 0.04717797783933518,\n",
       " 0.11573753462603878,\n",
       " 0.08483379501385041,\n",
       " 0.04605263157894737]"
      ]
     },
     "execution_count": 100,
     "metadata": {},
     "output_type": "execute_result"
    }
   ],
   "source": [
    "diff"
   ]
  },
  {
   "cell_type": "code",
   "execution_count": 101,
   "metadata": {
    "ExecuteTime": {
     "end_time": "2018-04-08T11:55:32.974487Z",
     "start_time": "2018-04-08T11:55:32.944748Z"
    }
   },
   "outputs": [
    {
     "data": {
      "text/plain": [
       "-0.019823407202216068"
      ]
     },
     "execution_count": 101,
     "metadata": {},
     "output_type": "execute_result"
    }
   ],
   "source": [
    "np.mean(diff)"
   ]
  },
  {
   "cell_type": "code",
   "execution_count": 102,
   "metadata": {
    "ExecuteTime": {
     "end_time": "2018-04-08T11:55:33.108840Z",
     "start_time": "2018-04-08T11:55:32.977172Z"
    }
   },
   "outputs": [
    {
     "name": "stderr",
     "output_type": "stream",
     "text": [
      "2018-04-08 12:55:32,991 : INFO : 1(39) - 2(14)\n",
      "\twithin_i:9.0 within_j:4.0 btw_ij:4.0\n",
      "\t0.389 & 0.235\n",
      "2018-04-08 12:55:32,991 : INFO : 1(39) - 3(29)\n",
      "\twithin_i:9.0 within_j:22.0 btw_ij:5.0\n",
      "\t0.489 & 0.139\n",
      "2018-04-08 12:55:32,992 : INFO : 1(39) - 4(17)\n",
      "\twithin_i:9.0 within_j:10.0 btw_ij:5.0\n",
      "\t0.423 & 0.208\n",
      "2018-04-08 12:55:32,993 : INFO : 1(39) - 5(5)\n",
      "\twithin_i:9.0 within_j:1.0 btw_ij:0.0\n",
      "\t0.201 & 0.000\n",
      "2018-04-08 12:55:32,994 : INFO : 1(39) - 6(7)\n",
      "\twithin_i:9.0 within_j:2.0 btw_ij:5.0\n",
      "\t0.258 & 0.312\n",
      "2018-04-08 12:55:32,994 : INFO : 1(39) - 7(5)\n",
      "\twithin_i:9.0 within_j:1.0 btw_ij:0.0\n",
      "\t0.201 & 0.000\n",
      "2018-04-08 12:55:32,995 : INFO : 1(39) - 8(3)\n",
      "\twithin_i:9.0 within_j:1.0 btw_ij:1.0\n",
      "\t0.133 & 0.091\n",
      "2018-04-08 12:55:32,996 : INFO : 1(39) - 9(3)\n",
      "\twithin_i:9.0 within_j:1.0 btw_ij:0.0\n",
      "\t0.133 & 0.000\n",
      "2018-04-08 12:55:32,997 : INFO : 1(39) - 10(10)\n",
      "\twithin_i:9.0 within_j:24.0 btw_ij:0.0\n",
      "\t0.325 & 0.000\n",
      "2018-04-08 12:55:32,997 : INFO : 1(39) - 11(3)\n",
      "\twithin_i:9.0 within_j:1.0 btw_ij:0.0\n",
      "\t0.133 & 0.000\n",
      "2018-04-08 12:55:32,998 : INFO : 1(39) - 12(9)\n",
      "\twithin_i:9.0 within_j:13.0 btw_ij:1.0\n",
      "\t0.305 & 0.043\n",
      "2018-04-08 12:55:32,999 : INFO : 1(39) - 13(6)\n",
      "\twithin_i:9.0 within_j:10.0 btw_ij:0.0\n",
      "\t0.231 & 0.000\n",
      "2018-04-08 12:55:32,999 : INFO : 1(39) - 14(2)\n",
      "\twithin_i:9.0 within_j:1.0 btw_ij:0.0\n",
      "\t0.093 & 0.000\n",
      "2018-04-08 12:55:33,000 : INFO : 2(14) - 1(39)\n",
      "\twithin_i:4.0 within_j:9.0 btw_ij:4.0\n",
      "\t0.389 & 0.235\n",
      "2018-04-08 12:55:33,001 : INFO : 2(14) - 3(29)\n",
      "\twithin_i:4.0 within_j:22.0 btw_ij:9.0\n",
      "\t0.439 & 0.257\n",
      "2018-04-08 12:55:33,002 : INFO : 2(14) - 4(17)\n",
      "\twithin_i:4.0 within_j:10.0 btw_ij:6.0\n",
      "\t0.495 & 0.300\n",
      "2018-04-08 12:55:33,002 : INFO : 2(14) - 5(5)\n",
      "\twithin_i:4.0 within_j:1.0 btw_ij:0.0\n",
      "\t0.388 & 0.000\n",
      "2018-04-08 12:55:33,003 : INFO : 2(14) - 6(7)\n",
      "\twithin_i:4.0 within_j:2.0 btw_ij:1.0\n",
      "\t0.444 & 0.143\n",
      "2018-04-08 12:55:33,004 : INFO : 2(14) - 7(5)\n",
      "\twithin_i:4.0 within_j:1.0 btw_ij:0.0\n",
      "\t0.388 & 0.000\n",
      "2018-04-08 12:55:33,005 : INFO : 2(14) - 8(3)\n",
      "\twithin_i:4.0 within_j:1.0 btw_ij:0.0\n",
      "\t0.291 & 0.000\n",
      "2018-04-08 12:55:33,005 : INFO : 2(14) - 9(3)\n",
      "\twithin_i:4.0 within_j:1.0 btw_ij:0.0\n",
      "\t0.291 & 0.000\n",
      "2018-04-08 12:55:33,006 : INFO : 2(14) - 10(10)\n",
      "\twithin_i:4.0 within_j:24.0 btw_ij:0.0\n",
      "\t0.486 & 0.000\n",
      "2018-04-08 12:55:33,007 : INFO : 2(14) - 11(3)\n",
      "\twithin_i:4.0 within_j:1.0 btw_ij:0.0\n",
      "\t0.291 & 0.000\n",
      "2018-04-08 12:55:33,007 : INFO : 2(14) - 12(9)\n",
      "\twithin_i:4.0 within_j:13.0 btw_ij:0.0\n",
      "\t0.476 & 0.000\n",
      "2018-04-08 12:55:33,008 : INFO : 2(14) - 13(6)\n",
      "\twithin_i:4.0 within_j:10.0 btw_ij:0.0\n",
      "\t0.420 & 0.000\n",
      "2018-04-08 12:55:33,009 : INFO : 2(14) - 14(2)\n",
      "\twithin_i:4.0 within_j:1.0 btw_ij:0.0\n",
      "\t0.219 & 0.000\n",
      "2018-04-08 12:55:33,009 : INFO : 3(29) - 1(39)\n",
      "\twithin_i:22.0 within_j:9.0 btw_ij:5.0\n",
      "\t0.489 & 0.139\n",
      "2018-04-08 12:55:33,010 : INFO : 3(29) - 2(14)\n",
      "\twithin_i:22.0 within_j:4.0 btw_ij:9.0\n",
      "\t0.439 & 0.257\n",
      "2018-04-08 12:55:33,011 : INFO : 3(29) - 4(17)\n",
      "\twithin_i:22.0 within_j:10.0 btw_ij:18.0\n",
      "\t0.466 & 0.360\n",
      "2018-04-08 12:55:33,012 : INFO : 3(29) - 5(5)\n",
      "\twithin_i:22.0 within_j:1.0 btw_ij:3.0\n",
      "\t0.251 & 0.115\n",
      "2018-04-08 12:55:33,013 : INFO : 3(29) - 6(7)\n",
      "\twithin_i:22.0 within_j:2.0 btw_ij:4.0\n",
      "\t0.313 & 0.143\n",
      "2018-04-08 12:55:33,013 : INFO : 3(29) - 7(5)\n",
      "\twithin_i:22.0 within_j:1.0 btw_ij:4.0\n",
      "\t0.251 & 0.148\n",
      "2018-04-08 12:55:33,014 : INFO : 3(29) - 8(3)\n",
      "\twithin_i:22.0 within_j:1.0 btw_ij:0.0\n",
      "\t0.170 & 0.000\n",
      "2018-04-08 12:55:33,014 : INFO : 3(29) - 9(3)\n",
      "\twithin_i:22.0 within_j:1.0 btw_ij:0.0\n",
      "\t0.170 & 0.000\n",
      "2018-04-08 12:55:33,015 : INFO : 3(29) - 10(10)\n",
      "\twithin_i:22.0 within_j:24.0 btw_ij:0.0\n",
      "\t0.381 & 0.000\n",
      "2018-04-08 12:55:33,016 : INFO : 3(29) - 11(3)\n",
      "\twithin_i:22.0 within_j:1.0 btw_ij:0.0\n",
      "\t0.170 & 0.000\n",
      "2018-04-08 12:55:33,016 : INFO : 3(29) - 12(9)\n",
      "\twithin_i:22.0 within_j:13.0 btw_ij:0.0\n",
      "\t0.361 & 0.000\n",
      "2018-04-08 12:55:33,017 : INFO : 3(29) - 13(6)\n",
      "\twithin_i:22.0 within_j:10.0 btw_ij:0.0\n",
      "\t0.284 & 0.000\n",
      "2018-04-08 12:55:33,018 : INFO : 3(29) - 14(2)\n",
      "\twithin_i:22.0 within_j:1.0 btw_ij:0.0\n",
      "\t0.121 & 0.000\n",
      "2018-04-08 12:55:33,018 : INFO : 4(17) - 1(39)\n",
      "\twithin_i:10.0 within_j:9.0 btw_ij:5.0\n",
      "\t0.423 & 0.208\n",
      "2018-04-08 12:55:33,019 : INFO : 4(17) - 2(14)\n",
      "\twithin_i:10.0 within_j:4.0 btw_ij:6.0\n",
      "\t0.495 & 0.300\n",
      "2018-04-08 12:55:33,020 : INFO : 4(17) - 3(29)\n",
      "\twithin_i:10.0 within_j:22.0 btw_ij:18.0\n",
      "\t0.466 & 0.360\n",
      "2018-04-08 12:55:33,020 : INFO : 4(17) - 5(5)\n",
      "\twithin_i:10.0 within_j:1.0 btw_ij:7.0\n",
      "\t0.351 & 0.389\n",
      "2018-04-08 12:55:33,021 : INFO : 4(17) - 6(7)\n",
      "\twithin_i:10.0 within_j:2.0 btw_ij:7.0\n",
      "\t0.413 & 0.368\n",
      "2018-04-08 12:55:33,021 : INFO : 4(17) - 7(5)\n",
      "\twithin_i:10.0 within_j:1.0 btw_ij:1.0\n",
      "\t0.351 & 0.083\n",
      "2018-04-08 12:55:33,022 : INFO : 4(17) - 8(3)\n",
      "\twithin_i:10.0 within_j:1.0 btw_ij:0.0\n",
      "\t0.255 & 0.000\n",
      "2018-04-08 12:55:33,023 : INFO : 4(17) - 9(3)\n",
      "\twithin_i:10.0 within_j:1.0 btw_ij:0.0\n",
      "\t0.255 & 0.000\n",
      "2018-04-08 12:55:33,023 : INFO : 4(17) - 10(10)\n",
      "\twithin_i:10.0 within_j:24.0 btw_ij:0.0\n",
      "\t0.466 & 0.000\n",
      "2018-04-08 12:55:33,024 : INFO : 4(17) - 11(3)\n",
      "\twithin_i:10.0 within_j:1.0 btw_ij:1.0\n",
      "\t0.255 & 0.083\n",
      "2018-04-08 12:55:33,024 : INFO : 4(17) - 12(9)\n",
      "\twithin_i:10.0 within_j:13.0 btw_ij:0.0\n",
      "\t0.453 & 0.000\n",
      "2018-04-08 12:55:33,025 : INFO : 4(17) - 13(6)\n",
      "\twithin_i:10.0 within_j:10.0 btw_ij:1.0\n",
      "\t0.386 & 0.048\n",
      "2018-04-08 12:55:33,026 : INFO : 4(17) - 14(2)\n",
      "\twithin_i:10.0 within_j:1.0 btw_ij:2.0\n",
      "\t0.188 & 0.154\n",
      "2018-04-08 12:55:33,026 : INFO : 5(5) - 1(39)\n",
      "\twithin_i:1.0 within_j:9.0 btw_ij:0.0\n",
      "\t0.201 & 0.000\n",
      "2018-04-08 12:55:33,027 : INFO : 5(5) - 2(14)\n",
      "\twithin_i:1.0 within_j:4.0 btw_ij:0.0\n",
      "\t0.388 & 0.000\n",
      "2018-04-08 12:55:33,027 : INFO : 5(5) - 3(29)\n",
      "\twithin_i:1.0 within_j:22.0 btw_ij:3.0\n",
      "\t0.251 & 0.115\n",
      "2018-04-08 12:55:33,028 : INFO : 5(5) - 4(17)\n",
      "\twithin_i:1.0 within_j:10.0 btw_ij:7.0\n",
      "\t0.351 & 0.389\n",
      "2018-04-08 12:55:33,029 : INFO : 5(5) - 6(7)\n",
      "\twithin_i:1.0 within_j:2.0 btw_ij:4.0\n",
      "\t0.486 & 0.571\n",
      "2018-04-08 12:55:33,029 : INFO : 5(5) - 7(5)\n",
      "\twithin_i:1.0 within_j:1.0 btw_ij:2.0\n",
      "\t0.500 & 0.500\n",
      "2018-04-08 12:55:33,030 : INFO : 5(5) - 8(3)\n",
      "\twithin_i:1.0 within_j:1.0 btw_ij:2.0\n",
      "\t0.469 & 0.500\n",
      "2018-04-08 12:55:33,030 : INFO : 5(5) - 9(3)\n",
      "\twithin_i:1.0 within_j:1.0 btw_ij:0.0\n",
      "\t0.469 & 0.000\n",
      "2018-04-08 12:55:33,031 : INFO : 5(5) - 10(10)\n",
      "\twithin_i:1.0 within_j:24.0 btw_ij:0.0\n",
      "\t0.444 & 0.000\n",
      "2018-04-08 12:55:33,032 : INFO : 5(5) - 11(3)\n",
      "\twithin_i:1.0 within_j:1.0 btw_ij:0.0\n",
      "\t0.469 & 0.000\n",
      "2018-04-08 12:55:33,032 : INFO : 5(5) - 12(9)\n",
      "\twithin_i:1.0 within_j:13.0 btw_ij:5.0\n",
      "\t0.459 & 0.263\n",
      "2018-04-08 12:55:33,033 : INFO : 5(5) - 13(6)\n",
      "\twithin_i:1.0 within_j:10.0 btw_ij:0.0\n",
      "\t0.496 & 0.000\n",
      "2018-04-08 12:55:33,033 : INFO : 5(5) - 14(2)\n",
      "\twithin_i:1.0 within_j:1.0 btw_ij:0.0\n",
      "\t0.408 & 0.000\n",
      "2018-04-08 12:55:33,034 : INFO : 6(7) - 1(39)\n",
      "\twithin_i:2.0 within_j:9.0 btw_ij:5.0\n",
      "\t0.258 & 0.312\n",
      "2018-04-08 12:55:33,035 : INFO : 6(7) - 2(14)\n",
      "\twithin_i:2.0 within_j:4.0 btw_ij:1.0\n",
      "\t0.444 & 0.143\n",
      "2018-04-08 12:55:33,035 : INFO : 6(7) - 3(29)\n",
      "\twithin_i:2.0 within_j:22.0 btw_ij:4.0\n",
      "\t0.313 & 0.143\n",
      "2018-04-08 12:55:33,036 : INFO : 6(7) - 4(17)\n",
      "\twithin_i:2.0 within_j:10.0 btw_ij:7.0\n",
      "\t0.413 & 0.368\n",
      "2018-04-08 12:55:33,036 : INFO : 6(7) - 5(5)\n",
      "\twithin_i:2.0 within_j:1.0 btw_ij:4.0\n",
      "\t0.486 & 0.571\n",
      "2018-04-08 12:55:33,037 : INFO : 6(7) - 7(5)\n",
      "\twithin_i:2.0 within_j:1.0 btw_ij:6.0\n",
      "\t0.486 & 0.667\n",
      "2018-04-08 12:55:33,038 : INFO : 6(7) - 8(3)\n",
      "\twithin_i:2.0 within_j:1.0 btw_ij:4.0\n",
      "\t0.420 & 0.571\n",
      "2018-04-08 12:55:33,038 : INFO : 6(7) - 9(3)\n",
      "\twithin_i:2.0 within_j:1.0 btw_ij:0.0\n",
      "\t0.420 & 0.000\n",
      "2018-04-08 12:55:33,039 : INFO : 6(7) - 10(10)\n",
      "\twithin_i:2.0 within_j:24.0 btw_ij:0.0\n",
      "\t0.484 & 0.000\n",
      "2018-04-08 12:55:33,039 : INFO : 6(7) - 11(3)\n",
      "\twithin_i:2.0 within_j:1.0 btw_ij:0.0\n",
      "\t0.420 & 0.000\n",
      "2018-04-08 12:55:33,040 : INFO : 6(7) - 12(9)\n",
      "\twithin_i:2.0 within_j:13.0 btw_ij:0.0\n",
      "\t0.492 & 0.000\n",
      "2018-04-08 12:55:33,040 : INFO : 6(7) - 13(6)\n",
      "\twithin_i:2.0 within_j:10.0 btw_ij:5.0\n",
      "\t0.497 & 0.294\n",
      "2018-04-08 12:55:33,041 : INFO : 6(7) - 14(2)\n",
      "\twithin_i:2.0 within_j:1.0 btw_ij:2.0\n",
      "\t0.346 & 0.400\n",
      "2018-04-08 12:55:33,042 : INFO : 7(5) - 1(39)\n",
      "\twithin_i:1.0 within_j:9.0 btw_ij:0.0\n",
      "\t0.201 & 0.000\n",
      "2018-04-08 12:55:33,042 : INFO : 7(5) - 2(14)\n",
      "\twithin_i:1.0 within_j:4.0 btw_ij:0.0\n",
      "\t0.388 & 0.000\n",
      "2018-04-08 12:55:33,043 : INFO : 7(5) - 3(29)\n",
      "\twithin_i:1.0 within_j:22.0 btw_ij:4.0\n",
      "\t0.251 & 0.148\n",
      "2018-04-08 12:55:33,043 : INFO : 7(5) - 4(17)\n",
      "\twithin_i:1.0 within_j:10.0 btw_ij:1.0\n",
      "\t0.351 & 0.083\n"
     ]
    },
    {
     "name": "stderr",
     "output_type": "stream",
     "text": [
      "2018-04-08 12:55:33,044 : INFO : 7(5) - 5(5)\n",
      "\twithin_i:1.0 within_j:1.0 btw_ij:2.0\n",
      "\t0.500 & 0.500\n",
      "2018-04-08 12:55:33,045 : INFO : 7(5) - 6(7)\n",
      "\twithin_i:1.0 within_j:2.0 btw_ij:6.0\n",
      "\t0.486 & 0.667\n",
      "2018-04-08 12:55:33,045 : INFO : 7(5) - 8(3)\n",
      "\twithin_i:1.0 within_j:1.0 btw_ij:4.0\n",
      "\t0.469 & 0.667\n",
      "2018-04-08 12:55:33,046 : INFO : 7(5) - 9(3)\n",
      "\twithin_i:1.0 within_j:1.0 btw_ij:0.0\n",
      "\t0.469 & 0.000\n",
      "2018-04-08 12:55:33,046 : INFO : 7(5) - 10(10)\n",
      "\twithin_i:1.0 within_j:24.0 btw_ij:4.0\n",
      "\t0.444 & 0.138\n",
      "2018-04-08 12:55:33,047 : INFO : 7(5) - 11(3)\n",
      "\twithin_i:1.0 within_j:1.0 btw_ij:0.0\n",
      "\t0.469 & 0.000\n",
      "2018-04-08 12:55:33,048 : INFO : 7(5) - 12(9)\n",
      "\twithin_i:1.0 within_j:13.0 btw_ij:10.0\n",
      "\t0.459 & 0.417\n",
      "2018-04-08 12:55:33,048 : INFO : 7(5) - 13(6)\n",
      "\twithin_i:1.0 within_j:10.0 btw_ij:2.0\n",
      "\t0.496 & 0.154\n",
      "2018-04-08 12:55:33,049 : INFO : 7(5) - 14(2)\n",
      "\twithin_i:1.0 within_j:1.0 btw_ij:0.0\n",
      "\t0.408 & 0.000\n",
      "2018-04-08 12:55:33,049 : INFO : 8(3) - 1(39)\n",
      "\twithin_i:1.0 within_j:9.0 btw_ij:1.0\n",
      "\t0.133 & 0.091\n",
      "2018-04-08 12:55:33,050 : INFO : 8(3) - 2(14)\n",
      "\twithin_i:1.0 within_j:4.0 btw_ij:0.0\n",
      "\t0.291 & 0.000\n",
      "2018-04-08 12:55:33,051 : INFO : 8(3) - 3(29)\n",
      "\twithin_i:1.0 within_j:22.0 btw_ij:0.0\n",
      "\t0.170 & 0.000\n",
      "2018-04-08 12:55:33,051 : INFO : 8(3) - 4(17)\n",
      "\twithin_i:1.0 within_j:10.0 btw_ij:0.0\n",
      "\t0.255 & 0.000\n",
      "2018-04-08 12:55:33,052 : INFO : 8(3) - 5(5)\n",
      "\twithin_i:1.0 within_j:1.0 btw_ij:2.0\n",
      "\t0.469 & 0.500\n",
      "2018-04-08 12:55:33,052 : INFO : 8(3) - 6(7)\n",
      "\twithin_i:1.0 within_j:2.0 btw_ij:4.0\n",
      "\t0.420 & 0.571\n",
      "2018-04-08 12:55:33,053 : INFO : 8(3) - 7(5)\n",
      "\twithin_i:1.0 within_j:1.0 btw_ij:4.0\n",
      "\t0.469 & 0.667\n",
      "2018-04-08 12:55:33,054 : INFO : 8(3) - 9(3)\n",
      "\twithin_i:1.0 within_j:1.0 btw_ij:1.0\n",
      "\t0.500 & 0.333\n",
      "2018-04-08 12:55:33,054 : INFO : 8(3) - 10(10)\n",
      "\twithin_i:1.0 within_j:24.0 btw_ij:2.0\n",
      "\t0.355 & 0.074\n",
      "2018-04-08 12:55:33,055 : INFO : 8(3) - 11(3)\n",
      "\twithin_i:1.0 within_j:1.0 btw_ij:0.0\n",
      "\t0.500 & 0.000\n",
      "2018-04-08 12:55:33,056 : INFO : 8(3) - 12(9)\n",
      "\twithin_i:1.0 within_j:13.0 btw_ij:6.0\n",
      "\t0.375 & 0.300\n",
      "2018-04-08 12:55:33,056 : INFO : 8(3) - 13(6)\n",
      "\twithin_i:1.0 within_j:10.0 btw_ij:2.0\n",
      "\t0.444 & 0.154\n",
      "2018-04-08 12:55:33,057 : INFO : 8(3) - 14(2)\n",
      "\twithin_i:1.0 within_j:1.0 btw_ij:0.0\n",
      "\t0.480 & 0.000\n",
      "2018-04-08 12:55:33,057 : INFO : 9(3) - 1(39)\n",
      "\twithin_i:1.0 within_j:9.0 btw_ij:0.0\n",
      "\t0.133 & 0.000\n",
      "2018-04-08 12:55:33,058 : INFO : 9(3) - 2(14)\n",
      "\twithin_i:1.0 within_j:4.0 btw_ij:0.0\n",
      "\t0.291 & 0.000\n",
      "2018-04-08 12:55:33,058 : INFO : 9(3) - 3(29)\n",
      "\twithin_i:1.0 within_j:22.0 btw_ij:0.0\n",
      "\t0.170 & 0.000\n",
      "2018-04-08 12:55:33,059 : INFO : 9(3) - 4(17)\n",
      "\twithin_i:1.0 within_j:10.0 btw_ij:0.0\n",
      "\t0.255 & 0.000\n",
      "2018-04-08 12:55:33,060 : INFO : 9(3) - 5(5)\n",
      "\twithin_i:1.0 within_j:1.0 btw_ij:0.0\n",
      "\t0.469 & 0.000\n",
      "2018-04-08 12:55:33,060 : INFO : 9(3) - 6(7)\n",
      "\twithin_i:1.0 within_j:2.0 btw_ij:0.0\n",
      "\t0.420 & 0.000\n",
      "2018-04-08 12:55:33,061 : INFO : 9(3) - 7(5)\n",
      "\twithin_i:1.0 within_j:1.0 btw_ij:0.0\n",
      "\t0.469 & 0.000\n",
      "2018-04-08 12:55:33,061 : INFO : 9(3) - 8(3)\n",
      "\twithin_i:1.0 within_j:1.0 btw_ij:1.0\n",
      "\t0.500 & 0.333\n",
      "2018-04-08 12:55:33,062 : INFO : 9(3) - 10(10)\n",
      "\twithin_i:1.0 within_j:24.0 btw_ij:17.0\n",
      "\t0.355 & 0.405\n",
      "2018-04-08 12:55:33,063 : INFO : 9(3) - 11(3)\n",
      "\twithin_i:1.0 within_j:1.0 btw_ij:0.0\n",
      "\t0.500 & 0.000\n",
      "2018-04-08 12:55:33,063 : INFO : 9(3) - 12(9)\n",
      "\twithin_i:1.0 within_j:13.0 btw_ij:7.0\n",
      "\t0.375 & 0.333\n",
      "2018-04-08 12:55:33,064 : INFO : 9(3) - 13(6)\n",
      "\twithin_i:1.0 within_j:10.0 btw_ij:0.0\n",
      "\t0.444 & 0.000\n",
      "2018-04-08 12:55:33,064 : INFO : 9(3) - 14(2)\n",
      "\twithin_i:1.0 within_j:1.0 btw_ij:0.0\n",
      "\t0.480 & 0.000\n",
      "2018-04-08 12:55:33,065 : INFO : 10(10) - 1(39)\n",
      "\twithin_i:24.0 within_j:9.0 btw_ij:0.0\n",
      "\t0.325 & 0.000\n",
      "2018-04-08 12:55:33,066 : INFO : 10(10) - 2(14)\n",
      "\twithin_i:24.0 within_j:4.0 btw_ij:0.0\n",
      "\t0.486 & 0.000\n",
      "2018-04-08 12:55:33,066 : INFO : 10(10) - 3(29)\n",
      "\twithin_i:24.0 within_j:22.0 btw_ij:0.0\n",
      "\t0.381 & 0.000\n",
      "2018-04-08 12:55:33,067 : INFO : 10(10) - 4(17)\n",
      "\twithin_i:24.0 within_j:10.0 btw_ij:0.0\n",
      "\t0.466 & 0.000\n",
      "2018-04-08 12:55:33,067 : INFO : 10(10) - 5(5)\n",
      "\twithin_i:24.0 within_j:1.0 btw_ij:0.0\n",
      "\t0.444 & 0.000\n",
      "2018-04-08 12:55:33,068 : INFO : 10(10) - 6(7)\n",
      "\twithin_i:24.0 within_j:2.0 btw_ij:0.0\n",
      "\t0.484 & 0.000\n",
      "2018-04-08 12:55:33,068 : INFO : 10(10) - 7(5)\n",
      "\twithin_i:24.0 within_j:1.0 btw_ij:4.0\n",
      "\t0.444 & 0.138\n",
      "2018-04-08 12:55:33,069 : INFO : 10(10) - 8(3)\n",
      "\twithin_i:24.0 within_j:1.0 btw_ij:2.0\n",
      "\t0.355 & 0.074\n",
      "2018-04-08 12:55:33,070 : INFO : 10(10) - 9(3)\n",
      "\twithin_i:24.0 within_j:1.0 btw_ij:17.0\n",
      "\t0.355 & 0.405\n",
      "2018-04-08 12:55:33,070 : INFO : 10(10) - 11(3)\n",
      "\twithin_i:24.0 within_j:1.0 btw_ij:0.0\n",
      "\t0.355 & 0.000\n",
      "2018-04-08 12:55:33,071 : INFO : 10(10) - 12(9)\n",
      "\twithin_i:24.0 within_j:13.0 btw_ij:22.0\n",
      "\t0.499 & 0.373\n",
      "2018-04-08 12:55:33,072 : INFO : 10(10) - 13(6)\n",
      "\twithin_i:24.0 within_j:10.0 btw_ij:7.0\n",
      "\t0.469 & 0.171\n",
      "2018-04-08 12:55:33,072 : INFO : 10(10) - 14(2)\n",
      "\twithin_i:24.0 within_j:1.0 btw_ij:0.0\n",
      "\t0.278 & 0.000\n",
      "2018-04-08 12:55:33,073 : INFO : 11(3) - 1(39)\n",
      "\twithin_i:1.0 within_j:9.0 btw_ij:0.0\n",
      "\t0.133 & 0.000\n",
      "2018-04-08 12:55:33,074 : INFO : 11(3) - 2(14)\n",
      "\twithin_i:1.0 within_j:4.0 btw_ij:0.0\n",
      "\t0.291 & 0.000\n",
      "2018-04-08 12:55:33,074 : INFO : 11(3) - 3(29)\n",
      "\twithin_i:1.0 within_j:22.0 btw_ij:0.0\n",
      "\t0.170 & 0.000\n",
      "2018-04-08 12:55:33,075 : INFO : 11(3) - 4(17)\n",
      "\twithin_i:1.0 within_j:10.0 btw_ij:1.0\n",
      "\t0.255 & 0.083\n",
      "2018-04-08 12:55:33,075 : INFO : 11(3) - 5(5)\n",
      "\twithin_i:1.0 within_j:1.0 btw_ij:0.0\n",
      "\t0.469 & 0.000\n",
      "2018-04-08 12:55:33,076 : INFO : 11(3) - 6(7)\n",
      "\twithin_i:1.0 within_j:2.0 btw_ij:0.0\n",
      "\t0.420 & 0.000\n",
      "2018-04-08 12:55:33,076 : INFO : 11(3) - 7(5)\n",
      "\twithin_i:1.0 within_j:1.0 btw_ij:0.0\n",
      "\t0.469 & 0.000\n",
      "2018-04-08 12:55:33,077 : INFO : 11(3) - 8(3)\n",
      "\twithin_i:1.0 within_j:1.0 btw_ij:0.0\n",
      "\t0.500 & 0.000\n",
      "2018-04-08 12:55:33,078 : INFO : 11(3) - 9(3)\n",
      "\twithin_i:1.0 within_j:1.0 btw_ij:0.0\n",
      "\t0.500 & 0.000\n",
      "2018-04-08 12:55:33,078 : INFO : 11(3) - 10(10)\n",
      "\twithin_i:1.0 within_j:24.0 btw_ij:0.0\n",
      "\t0.355 & 0.000\n",
      "2018-04-08 12:55:33,079 : INFO : 11(3) - 12(9)\n",
      "\twithin_i:1.0 within_j:13.0 btw_ij:9.0\n",
      "\t0.375 & 0.391\n",
      "2018-04-08 12:55:33,079 : INFO : 11(3) - 13(6)\n",
      "\twithin_i:1.0 within_j:10.0 btw_ij:15.0\n",
      "\t0.444 & 0.577\n",
      "2018-04-08 12:55:33,080 : INFO : 11(3) - 14(2)\n",
      "\twithin_i:1.0 within_j:1.0 btw_ij:6.0\n",
      "\t0.480 & 0.750\n",
      "2018-04-08 12:55:33,080 : INFO : 12(9) - 1(39)\n",
      "\twithin_i:13.0 within_j:9.0 btw_ij:1.0\n",
      "\t0.305 & 0.043\n",
      "2018-04-08 12:55:33,081 : INFO : 12(9) - 2(14)\n",
      "\twithin_i:13.0 within_j:4.0 btw_ij:0.0\n",
      "\t0.476 & 0.000\n",
      "2018-04-08 12:55:33,082 : INFO : 12(9) - 3(29)\n",
      "\twithin_i:13.0 within_j:22.0 btw_ij:0.0\n",
      "\t0.361 & 0.000\n",
      "2018-04-08 12:55:33,082 : INFO : 12(9) - 4(17)\n",
      "\twithin_i:13.0 within_j:10.0 btw_ij:0.0\n",
      "\t0.453 & 0.000\n",
      "2018-04-08 12:55:33,083 : INFO : 12(9) - 5(5)\n",
      "\twithin_i:13.0 within_j:1.0 btw_ij:5.0\n",
      "\t0.459 & 0.263\n",
      "2018-04-08 12:55:33,083 : INFO : 12(9) - 6(7)\n",
      "\twithin_i:13.0 within_j:2.0 btw_ij:0.0\n",
      "\t0.492 & 0.000\n",
      "2018-04-08 12:55:33,084 : INFO : 12(9) - 7(5)\n",
      "\twithin_i:13.0 within_j:1.0 btw_ij:10.0\n",
      "\t0.459 & 0.417\n",
      "2018-04-08 12:55:33,085 : INFO : 12(9) - 8(3)\n",
      "\twithin_i:13.0 within_j:1.0 btw_ij:6.0\n",
      "\t0.375 & 0.300\n",
      "2018-04-08 12:55:33,085 : INFO : 12(9) - 9(3)\n",
      "\twithin_i:13.0 within_j:1.0 btw_ij:7.0\n",
      "\t0.375 & 0.333\n",
      "2018-04-08 12:55:33,086 : INFO : 12(9) - 10(10)\n",
      "\twithin_i:13.0 within_j:24.0 btw_ij:22.0\n",
      "\t0.499 & 0.373\n",
      "2018-04-08 12:55:33,086 : INFO : 12(9) - 11(3)\n",
      "\twithin_i:13.0 within_j:1.0 btw_ij:9.0\n",
      "\t0.375 & 0.391\n",
      "2018-04-08 12:55:33,087 : INFO : 12(9) - 13(6)\n",
      "\twithin_i:13.0 within_j:10.0 btw_ij:16.0\n",
      "\t0.480 & 0.410\n",
      "2018-04-08 12:55:33,087 : INFO : 12(9) - 14(2)\n",
      "\twithin_i:13.0 within_j:1.0 btw_ij:6.0\n",
      "\t0.298 & 0.300\n",
      "2018-04-08 12:55:33,088 : INFO : 13(6) - 1(39)\n",
      "\twithin_i:10.0 within_j:9.0 btw_ij:0.0\n",
      "\t0.231 & 0.000\n",
      "2018-04-08 12:55:33,088 : INFO : 13(6) - 2(14)\n",
      "\twithin_i:10.0 within_j:4.0 btw_ij:0.0\n",
      "\t0.420 & 0.000\n",
      "2018-04-08 12:55:33,089 : INFO : 13(6) - 3(29)\n",
      "\twithin_i:10.0 within_j:22.0 btw_ij:0.0\n",
      "\t0.284 & 0.000\n",
      "2018-04-08 12:55:33,090 : INFO : 13(6) - 4(17)\n",
      "\twithin_i:10.0 within_j:10.0 btw_ij:1.0\n",
      "\t0.386 & 0.048\n",
      "2018-04-08 12:55:33,090 : INFO : 13(6) - 5(5)\n",
      "\twithin_i:10.0 within_j:1.0 btw_ij:0.0\n",
      "\t0.496 & 0.000\n",
      "2018-04-08 12:55:33,091 : INFO : 13(6) - 6(7)\n",
      "\twithin_i:10.0 within_j:2.0 btw_ij:5.0\n",
      "\t0.497 & 0.294\n",
      "2018-04-08 12:55:33,091 : INFO : 13(6) - 7(5)\n",
      "\twithin_i:10.0 within_j:1.0 btw_ij:2.0\n",
      "\t0.496 & 0.154\n",
      "2018-04-08 12:55:33,092 : INFO : 13(6) - 8(3)\n",
      "\twithin_i:10.0 within_j:1.0 btw_ij:2.0\n",
      "\t0.444 & 0.154\n"
     ]
    },
    {
     "name": "stderr",
     "output_type": "stream",
     "text": [
      "2018-04-08 12:55:33,092 : INFO : 13(6) - 9(3)\n",
      "\twithin_i:10.0 within_j:1.0 btw_ij:0.0\n",
      "\t0.444 & 0.000\n",
      "2018-04-08 12:55:33,093 : INFO : 13(6) - 10(10)\n",
      "\twithin_i:10.0 within_j:24.0 btw_ij:7.0\n",
      "\t0.469 & 0.171\n",
      "2018-04-08 12:55:33,093 : INFO : 13(6) - 11(3)\n",
      "\twithin_i:10.0 within_j:1.0 btw_ij:15.0\n",
      "\t0.444 & 0.577\n",
      "2018-04-08 12:55:33,094 : INFO : 13(6) - 12(9)\n",
      "\twithin_i:10.0 within_j:13.0 btw_ij:16.0\n",
      "\t0.480 & 0.410\n",
      "2018-04-08 12:55:33,095 : INFO : 13(6) - 14(2)\n",
      "\twithin_i:10.0 within_j:1.0 btw_ij:10.0\n",
      "\t0.375 & 0.476\n",
      "2018-04-08 12:55:33,096 : INFO : 14(2) - 1(39)\n",
      "\twithin_i:1.0 within_j:9.0 btw_ij:0.0\n",
      "\t0.093 & 0.000\n",
      "2018-04-08 12:55:33,097 : INFO : 14(2) - 2(14)\n",
      "\twithin_i:1.0 within_j:4.0 btw_ij:0.0\n",
      "\t0.219 & 0.000\n",
      "2018-04-08 12:55:33,097 : INFO : 14(2) - 3(29)\n",
      "\twithin_i:1.0 within_j:22.0 btw_ij:0.0\n",
      "\t0.121 & 0.000\n",
      "2018-04-08 12:55:33,098 : INFO : 14(2) - 4(17)\n",
      "\twithin_i:1.0 within_j:10.0 btw_ij:2.0\n",
      "\t0.188 & 0.154\n",
      "2018-04-08 12:55:33,099 : INFO : 14(2) - 5(5)\n",
      "\twithin_i:1.0 within_j:1.0 btw_ij:0.0\n",
      "\t0.408 & 0.000\n",
      "2018-04-08 12:55:33,100 : INFO : 14(2) - 6(7)\n",
      "\twithin_i:1.0 within_j:2.0 btw_ij:2.0\n",
      "\t0.346 & 0.400\n",
      "2018-04-08 12:55:33,101 : INFO : 14(2) - 7(5)\n",
      "\twithin_i:1.0 within_j:1.0 btw_ij:0.0\n",
      "\t0.408 & 0.000\n",
      "2018-04-08 12:55:33,101 : INFO : 14(2) - 8(3)\n",
      "\twithin_i:1.0 within_j:1.0 btw_ij:0.0\n",
      "\t0.480 & 0.000\n",
      "2018-04-08 12:55:33,102 : INFO : 14(2) - 9(3)\n",
      "\twithin_i:1.0 within_j:1.0 btw_ij:0.0\n",
      "\t0.480 & 0.000\n",
      "2018-04-08 12:55:33,103 : INFO : 14(2) - 10(10)\n",
      "\twithin_i:1.0 within_j:24.0 btw_ij:0.0\n",
      "\t0.278 & 0.000\n",
      "2018-04-08 12:55:33,104 : INFO : 14(2) - 11(3)\n",
      "\twithin_i:1.0 within_j:1.0 btw_ij:6.0\n",
      "\t0.480 & 0.750\n",
      "2018-04-08 12:55:33,105 : INFO : 14(2) - 12(9)\n",
      "\twithin_i:1.0 within_j:13.0 btw_ij:6.0\n",
      "\t0.298 & 0.300\n",
      "2018-04-08 12:55:33,106 : INFO : 14(2) - 13(6)\n",
      "\twithin_i:1.0 within_j:10.0 btw_ij:10.0\n",
      "\t0.375 & 0.476\n"
     ]
    }
   ],
   "source": [
    "# pairwise\n",
    "res_prob, res_frac = pairwise_comparison(mat, attr_names,count_dict)"
   ]
  },
  {
   "cell_type": "code",
   "execution_count": 103,
   "metadata": {
    "ExecuteTime": {
     "end_time": "2018-04-08T11:55:33.114783Z",
     "start_time": "2018-04-08T11:55:33.111632Z"
    }
   },
   "outputs": [],
   "source": [
    "res = np.subtract(res_frac, res_prob)"
   ]
  },
  {
   "cell_type": "code",
   "execution_count": 104,
   "metadata": {
    "ExecuteTime": {
     "end_time": "2018-04-08T11:55:33.134438Z",
     "start_time": "2018-04-08T11:55:33.117477Z"
    }
   },
   "outputs": [],
   "source": [
    "res = np.nan_to_num(res)"
   ]
  },
  {
   "cell_type": "code",
   "execution_count": 105,
   "metadata": {
    "ExecuteTime": {
     "end_time": "2018-04-08T11:55:33.651946Z",
     "start_time": "2018-04-08T11:55:33.136886Z"
    }
   },
   "outputs": [
    {
     "data": {
      "image/png": "[encoded data removed]",
      "text/plain": [
       "<matplotlib.figure.Figure at 0x7f808130bdd8>"
      ]
     },
     "metadata": {},
     "output_type": "display_data"
    }
   ],
   "source": [
    "f = plt.figure(figsize=(10,8))\n",
    "ax= f.add_subplot(111)\n",
    "ax = sns.heatmap(\n",
    "    res,\n",
    "    yticklabels=attr_names,\n",
    "    xticklabels=attr_names,\n",
    "    cmap=sns.diverging_palette(240, 20, n=9, as_cmap=True),\n",
    "    annot=True,\n",
    "    linewidths=2,\n",
    "    square=True,\n",
    "    ax=ax,\n",
    "    center=0,\n",
    "    cbar=False,\n",
    "    mask=np.triu(np.zeros_like(res_frac)==0),\n",
    "    robust=True)"
   ]
  },
  {
   "cell_type": "markdown",
   "metadata": {},
   "source": [
    "# `topicnetrestdblp`"
   ]
  },
  {
   "cell_type": "code",
   "execution_count": 93,
   "metadata": {
    "ExecuteTime": {
     "end_time": "2018-04-08T11:52:51.461508Z",
     "start_time": "2018-04-08T11:52:51.337109Z"
    }
   },
   "outputs": [
    {
     "name": "stdout",
     "output_type": "stream",
     "text": [
      "Name: \n",
      "Type: Graph\n",
      "Number of nodes: 119\n",
      "Number of edges: 361\n",
      "Average degree:   6.0672\n"
     ]
    }
   ],
   "source": [
    "# load network using adjmat\n",
    "with open('../../data/data_schoolofinf/poinf_collabgraph_2012-2017.txt') as f:\n",
    "    nodeorder_6yr = [a.strip() for a in f.readlines()]\n",
    "\n",
    "adjmat_topicnetreft6yr= pkl.load(open('../../embedding/notebooks/res/topicnetref6yr_adjmat.pkl','rb'))\n",
    "\n",
    "g_topicnetref6yr = adj_mat_to_graph(adjmat_topicnetreft6yr, nodeorder_6yr)\n",
    "\n",
    "# add node attributes:\n",
    "nx.set_node_attributes(g_topicnetref6yr, lookup_poinf.loc[list(\n",
    "   g_topicnetref6yr.nodes)]['full_name'].to_dict(), 'name')\n",
    "nx.set_node_attributes(g_topicnetref6yr, lookup_poinf.loc[list(\n",
    "    g_topicnetref6yr.nodes)]['institute'].to_dict(), 'institute')\n",
    "nx.set_node_attributes(g_topicnetref6yr, lookup_poinf.loc[list(\n",
    "    g_topicnetref6yr.nodes)]['position'].to_dict(), 'position')\n",
    "nx.set_node_attributes(g_topicnetref6yr, lookup_poinf.loc[list(\n",
    "    g_topicnetref6yr.nodes)]['first_pub_year'].to_dict(), 'year')\n",
    "\n",
    "print(nx.info(g_topicnetref6yr))"
   ]
  },
  {
   "cell_type": "markdown",
   "metadata": {},
   "source": [
    "## homophily"
   ]
  },
  {
   "cell_type": "markdown",
   "metadata": {},
   "source": [
    "### by inst"
   ]
  },
  {
   "cell_type": "code",
   "execution_count": 163,
   "metadata": {
    "ExecuteTime": {
     "end_time": "2018-04-08T13:13:03.364719Z",
     "start_time": "2018-04-08T13:13:03.359029Z"
    }
   },
   "outputs": [],
   "source": [
    "edges_dict, mat, count_dict, attr_names = get_mixing_dict(\n",
    "    g_topicnetref6yr, characteristic_name='institute', target_order=inst_order)"
   ]
  },
  {
   "cell_type": "code",
   "execution_count": 164,
   "metadata": {
    "ExecuteTime": {
     "end_time": "2018-04-08T13:13:03.392314Z",
     "start_time": "2018-04-08T13:13:03.373085Z"
    }
   },
   "outputs": [
    {
     "name": "stderr",
     "output_type": "stream",
     "text": [
      "2018-04-08 14:13:03,383 : INFO : UNKNOWN within:4.0 outside:12.0\n",
      "0.111 & 0.033\n",
      "2018-04-08 14:13:03,384 : INFO : centre for intelligent systems and their applications within:2.0 outside:16.0\n",
      "0.096 & 0.044\n",
      "2018-04-08 14:13:03,385 : INFO : institute of language cognition and computation within:201.0 outside:24.0\n",
      "0.441 & 0.066\n",
      "2018-04-08 14:13:03,386 : INFO : laboratory for foundations of computer science within:49.0 outside:1.0\n",
      "0.377 & 0.003\n",
      "2018-04-08 14:13:03,386 : INFO : institute for adaptive and neural computation within:12.0 outside:28.0\n",
      "0.195 & 0.078\n",
      "2018-04-08 14:13:03,387 : INFO : institute for computing systems architecture within:32.0 outside:0.0\n",
      "0.208 & 0.000\n",
      "2018-04-08 14:13:03,388 : INFO : neuroinformatics dtc within:6.0 outside:24.0\n",
      "0.111 & 0.066\n",
      "2018-04-08 14:13:03,389 : INFO : institute of perception action and behaviour within:0.0 outside:2.0\n",
      "0.017 & 0.006\n",
      "2018-04-08 14:13:03,389 : INFO : deanery of clinical sciences within:0.0 outside:1.0\n",
      "0.017 & 0.003\n",
      "2018-04-08 14:13:03,390 : INFO : school of philosophy psychology and language sciences within:0.0 outside:2.0\n",
      "0.017 & 0.006\n"
     ]
    }
   ],
   "source": [
    "# 1 vs world:\n",
    "diff = one_vs_world(mat, attr_names, count_dict)"
   ]
  },
  {
   "cell_type": "code",
   "execution_count": 96,
   "metadata": {
    "ExecuteTime": {
     "end_time": "2018-04-08T11:52:58.335731Z",
     "start_time": "2018-04-08T11:52:58.326765Z"
    }
   },
   "outputs": [
    {
     "name": "stdout",
     "output_type": "stream",
     "text": [
      "-0.077\n",
      "-0.051\n",
      "-0.374\n",
      "-0.374\n",
      "-0.117\n",
      "-0.208\n",
      "-0.044\n",
      "-0.011\n",
      "-0.014\n",
      "-0.011\n"
     ]
    }
   ],
   "source": [
    "for i in diff:\n",
    "    print('{:.3f}'.format(i))"
   ]
  },
  {
   "cell_type": "code",
   "execution_count": 97,
   "metadata": {
    "ExecuteTime": {
     "end_time": "2018-04-08T11:52:58.355294Z",
     "start_time": "2018-04-08T11:52:58.338286Z"
    }
   },
   "outputs": [
    {
     "data": {
      "text/plain": [
       "-0.12824669056151056"
      ]
     },
     "execution_count": 97,
     "metadata": {},
     "output_type": "execute_result"
    }
   ],
   "source": [
    "np.mean(diff)"
   ]
  },
  {
   "cell_type": "code",
   "execution_count": null,
   "metadata": {
    "ExecuteTime": {
     "end_time": "2018-04-08T11:41:55.935776Z",
     "start_time": "2018-04-08T11:41:44.932Z"
    }
   },
   "outputs": [],
   "source": [
    "# pairwise\n",
    "res_prob, res_frac = pairwise_comparison(mat, attr_names, count_dict)"
   ]
  },
  {
   "cell_type": "code",
   "execution_count": null,
   "metadata": {
    "ExecuteTime": {
     "end_time": "2018-04-08T11:41:55.936498Z",
     "start_time": "2018-04-08T11:41:44.938Z"
    }
   },
   "outputs": [],
   "source": [
    "res = np.subtract(res_frac, res_prob)"
   ]
  },
  {
   "cell_type": "code",
   "execution_count": null,
   "metadata": {
    "ExecuteTime": {
     "end_time": "2018-04-08T11:41:55.937217Z",
     "start_time": "2018-04-08T11:41:44.944Z"
    }
   },
   "outputs": [],
   "source": [
    "f = plt.figure(figsize=(10, 8))\n",
    "ax = f.add_subplot(111)\n",
    "ax = sns.heatmap(\n",
    "    res[1:-2, 1:-2],\n",
    "    yticklabels=[\n",
    "        \"{} ({})\".format(x, i) for i, x in enumerate(attr_names[1:-2])\n",
    "    ],\n",
    "    cmap=sns.diverging_palette(245, 20, n=10, as_cmap=True),\n",
    "    annot=True,\n",
    "    linewidths=2,\n",
    "    square=True,\n",
    "    ax=ax,\n",
    "    center=0,\n",
    "    cbar=False,\n",
    "    mask=np.triu(np.zeros_like(res_frac[1:-2, 1:-2]) == 0),\n",
    "    robust=True)"
   ]
  },
  {
   "cell_type": "code",
   "execution_count": null,
   "metadata": {},
   "outputs": [],
   "source": []
  },
  {
   "cell_type": "markdown",
   "metadata": {},
   "source": [
    "### by degree"
   ]
  },
  {
   "cell_type": "code",
   "execution_count": 175,
   "metadata": {
    "ExecuteTime": {
     "end_time": "2018-04-08T13:15:56.657772Z",
     "start_time": "2018-04-08T13:15:56.651504Z"
    }
   },
   "outputs": [],
   "source": [
    "# add degrees to edges\n",
    "nx.set_node_attributes(g_topicnetref6yr, dict(g_topicnetref6yr.degree), name='degree')\n",
    "edges_dict, mat, count_dict, attr_names = get_mixing_dict(\n",
    "    g_topicnetref6yr, characteristic_name='degree')\n",
    "target_order = sorted(attr_names)\n",
    "edges_dict, mat, count_dict, attr_names = get_mixing_dict(\n",
    "    g_topicnetref6yr, characteristic_name='degree', target_order=target_order)"
   ]
  },
  {
   "cell_type": "code",
   "execution_count": 176,
   "metadata": {
    "ExecuteTime": {
     "end_time": "2018-04-08T13:15:59.535314Z",
     "start_time": "2018-04-08T13:15:59.522232Z"
    }
   },
   "outputs": [
    {
     "name": "stderr",
     "output_type": "stream",
     "text": [
      "2018-04-08 14:15:59,523 : INFO : 1 within:8.0 outside:16.0\n",
      "0.393 & 0.044\n",
      "2018-04-08 14:15:59,524 : INFO : 2 within:5.0 outside:22.0\n",
      "0.233 & 0.061\n",
      "2018-04-08 14:15:59,524 : INFO : 3 within:2.0 outside:14.0\n",
      "0.096 & 0.039\n",
      "2018-04-08 14:15:59,525 : INFO : 4 within:1.0 outside:26.0\n",
      "0.111 & 0.072\n",
      "2018-04-08 14:15:59,526 : INFO : 5 within:3.0 outside:29.0\n",
      "0.111 & 0.080\n",
      "2018-04-08 14:15:59,526 : INFO : 6 within:3.0 outside:48.0\n",
      "0.140 & 0.133\n",
      "2018-04-08 14:15:59,527 : INFO : 7 within:0.0 outside:28.0\n",
      "0.065 & 0.078\n",
      "2018-04-08 14:15:59,527 : INFO : 8 within:25.0 outside:54.0\n",
      "0.195 & 0.150\n",
      "2018-04-08 14:15:59,528 : INFO : 9 within:1.0 outside:34.0\n",
      "0.065 & 0.094\n",
      "2018-04-08 14:15:59,529 : INFO : 10 within:0.0 outside:20.0\n",
      "0.033 & 0.055\n",
      "2018-04-08 14:15:59,529 : INFO : 11 within:0.0 outside:11.0\n",
      "0.017 & 0.030\n",
      "2018-04-08 14:15:59,530 : INFO : 13 within:0.0 outside:13.0\n",
      "0.017 & 0.036\n",
      "2018-04-08 14:15:59,530 : INFO : 16 within:2.0 outside:44.0\n",
      "0.049 & 0.122\n",
      "2018-04-08 14:15:59,531 : INFO : 17 within:0.0 outside:17.0\n",
      "0.017 & 0.047\n",
      "2018-04-08 14:15:59,532 : INFO : 18 within:21.0 outside:84.0\n",
      "0.111 & 0.233\n",
      "2018-04-08 14:15:59,532 : INFO : 19 within:6.0 outside:64.0\n",
      "0.065 & 0.177\n",
      "2018-04-08 14:15:59,533 : INFO : 20 within:0.0 outside:20.0\n",
      "0.017 & 0.055\n",
      "2018-04-08 14:15:59,533 : INFO : 24 within:0.0 outside:24.0\n",
      "0.017 & 0.066\n"
     ]
    }
   ],
   "source": [
    "# 1 vs world:\n",
    "attr_names_degree_topicnetref6yr = attr_names\n",
    "diff_degree_topicneref6yr = one_vs_world(mat, attr_names, count_dict)"
   ]
  },
  {
   "cell_type": "code",
   "execution_count": null,
   "metadata": {
    "ExecuteTime": {
     "end_time": "2018-04-08T11:41:55.939373Z",
     "start_time": "2018-04-08T11:41:44.964Z"
    }
   },
   "outputs": [],
   "source": [
    "diff"
   ]
  },
  {
   "cell_type": "code",
   "execution_count": null,
   "metadata": {
    "ExecuteTime": {
     "end_time": "2018-04-08T11:41:55.940049Z",
     "start_time": "2018-04-08T11:41:44.970Z"
    }
   },
   "outputs": [],
   "source": [
    "np.mean(diff)"
   ]
  },
  {
   "cell_type": "code",
   "execution_count": null,
   "metadata": {
    "ExecuteTime": {
     "end_time": "2018-04-08T11:41:55.940769Z",
     "start_time": "2018-04-08T11:41:44.978Z"
    }
   },
   "outputs": [],
   "source": [
    "# pairwise\n",
    "res_prob, res_frac = pairwise_comparison(mat, attr_names,count_dict)"
   ]
  },
  {
   "cell_type": "code",
   "execution_count": null,
   "metadata": {
    "ExecuteTime": {
     "end_time": "2018-04-08T11:41:55.941490Z",
     "start_time": "2018-04-08T11:41:44.984Z"
    }
   },
   "outputs": [],
   "source": [
    "res = np.subtract(res_frac, res_prob)"
   ]
  },
  {
   "cell_type": "code",
   "execution_count": null,
   "metadata": {
    "ExecuteTime": {
     "end_time": "2018-04-08T11:41:55.942164Z",
     "start_time": "2018-04-08T11:41:44.990Z"
    }
   },
   "outputs": [],
   "source": [
    "res = np.nan_to_num(res)"
   ]
  },
  {
   "cell_type": "code",
   "execution_count": null,
   "metadata": {
    "ExecuteTime": {
     "end_time": "2018-04-08T11:41:55.942894Z",
     "start_time": "2018-04-08T11:41:44.996Z"
    }
   },
   "outputs": [],
   "source": [
    "f = plt.figure(figsize=(10,8))\n",
    "ax= f.add_subplot(111)\n",
    "ax = sns.heatmap(\n",
    "    res,\n",
    "    yticklabels=attr_names,\n",
    "    xticklabels=attr_names,\n",
    "    cmap=sns.diverging_palette(240, 20, n=9, as_cmap=True),\n",
    "    annot=True,\n",
    "    linewidths=2,\n",
    "    square=True,\n",
    "    ax=ax,\n",
    "    center=0,\n",
    "    cbar=False,\n",
    "    mask=np.triu(np.zeros_like(res_frac)==0),\n",
    "    robust=True)"
   ]
  },
  {
   "cell_type": "markdown",
   "metadata": {
    "ExecuteTime": {
     "end_time": "2018-04-05T23:37:32.929367Z",
     "start_time": "2018-04-05T23:37:32.926625Z"
    }
   },
   "source": [
    "# Visualisation for infnet6yr(s)"
   ]
  },
  {
   "cell_type": "code",
   "execution_count": null,
   "metadata": {
    "ExecuteTime": {
     "end_time": "2018-04-08T11:41:55.943576Z",
     "start_time": "2018-04-08T11:41:45.002Z"
    }
   },
   "outputs": [],
   "source": [
    "# create standard pos for all networks:\n",
    "pos_standard = pos_G_infnet6yr_gn"
   ]
  },
  {
   "cell_type": "code",
   "execution_count": null,
   "metadata": {
    "ExecuteTime": {
     "end_time": "2018-04-08T11:41:55.944287Z",
     "start_time": "2018-04-08T11:41:45.008Z"
    }
   },
   "outputs": [],
   "source": [
    "pos_standard = nx.spring_layout(g_infnet6yr, k=.13)\n",
    "pos_standard = nx.spring_layout(G_infnet6yr_gn, k=.15, pos=pos_standard)"
   ]
  },
  {
   "cell_type": "markdown",
   "metadata": {},
   "source": [
    "### INFNET6yr diff clustering alg"
   ]
  },
  {
   "cell_type": "code",
   "execution_count": null,
   "metadata": {
    "ExecuteTime": {
     "end_time": "2018-04-08T11:41:55.945005Z",
     "start_time": "2018-04-08T11:41:45.014Z"
    }
   },
   "outputs": [],
   "source": [
    "# draw infnet6yr first: <GN> <ORGIGINAL> <MOD>\n",
    "f = plt.figure(figsize=(18,6))\n",
    "ax1 = f.add_subplot(131)\n",
    "nx.draw(\n",
    "    G_infnet6yr_gn,\n",
    "    pos_standard,\n",
    "    ax=ax1,\n",
    "    node_size=50,\n",
    "    node_color=artist.color_by_comm(best_partition_gn_infnet6yr, G_infnet6yr_gn.node),\n",
    "    alpha=.5)\n",
    "ax2 = f.add_subplot(132)\n",
    "nx.draw(\n",
    "    g_infnet6yr,\n",
    "    pos_standard,\n",
    "    ax=ax2,\n",
    "    node_size=50,\n",
    "    node_color=artist.color_by_inst(g_infnet6yr, lookup_poinf),\n",
    "    alpha=.5)\n",
    "\n",
    "ax3 = f.add_subplot(133)\n",
    "nx.draw(\n",
    "    G_infnet6yr_mod,\n",
    "    pos_standard,\n",
    "    ax=ax3,\n",
    "    node_size=50,\n",
    "    node_color=artist.color_by_comm(best_partition_mod_infnet6yr, G_infnet6yr_mod.node),\n",
    "    alpha=.5)\n",
    "\n",
    "f.tight_layout()"
   ]
  },
  {
   "cell_type": "code",
   "execution_count": null,
   "metadata": {
    "ExecuteTime": {
     "end_time": "2018-04-08T11:41:55.945696Z",
     "start_time": "2018-04-08T11:41:45.022Z"
    }
   },
   "outputs": [],
   "source": [
    "# draw infnet6yr first: <GN> <ORGIGINAL> <MOD>\n",
    "f = plt.figure(figsize=(18,6))\n",
    "ax1 = f.add_subplot(131)\n",
    "nx.draw(\n",
    "    G_infnet6yr_gn,\n",
    "    pos_standard,\n",
    "    ax=ax1,\n",
    "    node_size=60,\n",
    "    node_color=artist.color_by_comm(best_partition_gn_infnet6yr, G_infnet6yr_gn.node),\n",
    "    alpha=.5)\n",
    "ax1.set_title('Using GN')\n",
    "\n",
    "ax2 = f.add_subplot(132)\n",
    "nx.draw(\n",
    "    g_infnet6yr,\n",
    "    pos_standard,\n",
    "    ax=ax2,\n",
    "    node_size=60,\n",
    "    node_color=artist.color_by_inst(g_infnet6yr, lookup_poinf),\n",
    "    alpha=.5)\n",
    "ax2.set_title('infnet-6yr')\n",
    "\n",
    "ax3 = f.add_subplot(133)\n",
    "nx.draw(\n",
    "    G_infnet6yr_mod,\n",
    "    pos_standard,\n",
    "    ax=ax3,\n",
    "    node_size=60,\n",
    "    node_color=artist.color_by_comm(best_partition_mod_infnet6yr, G_infnet6yr_mod.node),\n",
    "    alpha=.5)\n",
    "ax3.set_title('Using Mod')\n",
    "f.tight_layout()"
   ]
  },
  {
   "cell_type": "code",
   "execution_count": null,
   "metadata": {
    "ExecuteTime": {
     "end_time": "2018-04-08T11:41:55.946426Z",
     "start_time": "2018-04-08T11:41:45.026Z"
    }
   },
   "outputs": [],
   "source": [
    "f.savefig('IMG/infnet6yr_clustersv2.pdf',format='pdf',bbox_inches='tight')"
   ]
  },
  {
   "cell_type": "markdown",
   "metadata": {},
   "source": [
    "### INFNET6yr-w diff clustering alg"
   ]
  },
  {
   "cell_type": "code",
   "execution_count": null,
   "metadata": {
    "ExecuteTime": {
     "end_time": "2018-04-08T11:41:55.947166Z",
     "start_time": "2018-04-08T11:41:45.034Z"
    }
   },
   "outputs": [],
   "source": [
    "def get_edgewidth(g):\n",
    "    return [max(0.4, d['weight'] * 3.) for (u, v, d) in g.edges(data=True)]"
   ]
  },
  {
   "cell_type": "code",
   "execution_count": null,
   "metadata": {
    "ExecuteTime": {
     "end_time": "2018-04-08T11:41:55.947910Z",
     "start_time": "2018-04-08T11:41:45.040Z"
    }
   },
   "outputs": [],
   "source": [
    "### draw infnet6yr first: <GN> <ORGIGINAL> <MOD>\n",
    "f = plt.figure(figsize=(18,6))\n",
    "ax1 = f.add_subplot(131)\n",
    "nx.draw(\n",
    "    G_infnet6yr_w_gn,\n",
    "    pos_standard,\n",
    "    ax=ax1,\n",
    "    node_size=50,\n",
    "    width=get_edgewidth(G_infnet6yr_w_gn),\n",
    "    node_color=artist.color_by_comm(best_partition_gn_infnet6yr_w, G_infnet6yr_w_gn.node),\n",
    "    alpha=.5)\n",
    "ax2 = f.add_subplot(132)\n",
    "nx.draw(\n",
    "    g_infnet6yr_w,\n",
    "    pos_standard,\n",
    "    ax=ax2,\n",
    "    node_size=50,\n",
    "    width=get_edgewidth(g_infnet6yr_w),\n",
    "    node_color=artist.color_by_inst(g_infnet6yr_w, lookup_poinf),\n",
    "    alpha=.5)\n",
    "\n",
    "ax3 = f.add_subplot(133)\n",
    "nx.draw(\n",
    "    G_infnet6yr_w_mod,\n",
    "    pos_standard,\n",
    "    ax=ax3,\n",
    "    node_size=50,\n",
    "    width=get_edgewidth(G_infnet6yr_w_mod),\n",
    "    node_color=artist.color_by_comm(best_partition_mod_infnet6yr_w, G_infnet6yr_w_mod.node),\n",
    "    alpha=.5)\n",
    "\n",
    "f.tight_layout()"
   ]
  },
  {
   "cell_type": "code",
   "execution_count": null,
   "metadata": {
    "ExecuteTime": {
     "end_time": "2018-04-08T11:41:55.948593Z",
     "start_time": "2018-04-08T11:41:45.046Z"
    }
   },
   "outputs": [],
   "source": [
    "pos_standard = nx.spring_layout(g_infnet6yr_w, k=.13)\n",
    "pos_standard = nx.spring_layout(G_infnet6yr_w_gn,  pos=pos_standard)"
   ]
  },
  {
   "cell_type": "code",
   "execution_count": null,
   "metadata": {
    "ExecuteTime": {
     "end_time": "2018-04-08T11:41:55.949364Z",
     "start_time": "2018-04-08T11:41:45.052Z"
    }
   },
   "outputs": [],
   "source": [
    "# draw infnet6yr first: <GN> <ORGIGINAL> <MOD>\n",
    "f = plt.figure(figsize=(18,6))\n",
    "ax1 = f.add_subplot(131)\n",
    "nx.draw(\n",
    "    G_infnet6yr_w_gn,\n",
    "    pos_standard,\n",
    "    ax=ax1,\n",
    "    node_size=50,\n",
    "    width=get_edgewidth(G_infnet6yr_w_gn),\n",
    "    node_color=artist.color_by_comm(best_partition_gn_infnet6yr_w, G_infnet6yr_w_gn.node),\n",
    "    alpha=.5)\n",
    "ax1.set_title('Using GN')\n",
    "ax2 = f.add_subplot(132)\n",
    "nx.draw(\n",
    "    g_infnet6yr_w,\n",
    "    pos_standard,\n",
    "    ax=ax2,\n",
    "    node_size=50,\n",
    "    width=get_edgewidth(g_infnet6yr_w),\n",
    "    node_color=artist.color_by_inst(g_infnet6yr_w, lookup_poinf),\n",
    "    alpha=.5)\n",
    "ax2.set_title('infnet-6yr(w)')\n",
    "ax3 = f.add_subplot(133)\n",
    "nx.draw(\n",
    "    G_infnet6yr_w_mod,\n",
    "    pos_standard,\n",
    "    ax=ax3,\n",
    "    node_size=50,\n",
    "    width=get_edgewidth(G_infnet6yr_w_mod),\n",
    "    node_color=artist.color_by_comm(best_partition_mod_infnet6yr_w, G_infnet6yr_w_mod.node),\n",
    "    alpha=.5)\n",
    "ax3.set_title('Using Mod')\n",
    "f.tight_layout()"
   ]
  },
  {
   "cell_type": "code",
   "execution_count": null,
   "metadata": {
    "ExecuteTime": {
     "end_time": "2018-04-08T11:41:55.950073Z",
     "start_time": "2018-04-08T11:41:45.058Z"
    }
   },
   "outputs": [],
   "source": [
    "f.savefig('IMG/infnet6yr_w_clustersv2.pdf',format='pdf',bbox_inches='tight')"
   ]
  },
  {
   "cell_type": "markdown",
   "metadata": {},
   "source": [
    "### topicnet - diff clustering algo"
   ]
  },
  {
   "cell_type": "code",
   "execution_count": null,
   "metadata": {
    "ExecuteTime": {
     "end_time": "2018-04-08T11:41:55.950772Z",
     "start_time": "2018-04-08T11:41:45.064Z"
    }
   },
   "outputs": [],
   "source": [
    "_pos = nx.spring_layout(g_topicnet6yr)\n",
    "pos_standard = nx.spring_layout(G_topicnet6yr_gn, k=.21, pos=_pos)"
   ]
  },
  {
   "cell_type": "code",
   "execution_count": null,
   "metadata": {
    "ExecuteTime": {
     "end_time": "2018-04-08T11:41:55.951464Z",
     "start_time": "2018-04-08T11:41:45.070Z"
    }
   },
   "outputs": [],
   "source": [
    "# draw infnet6yr first: <GN> <ORGIGINAL> <MOD>\n",
    "f = plt.figure(figsize=(18,6))\n",
    "ax1 = f.add_subplot(131)\n",
    "nx.draw(\n",
    "    G_topicnet6yr_gn,\n",
    "    pos_standard,\n",
    "    ax=ax1,\n",
    "    node_size=60,\n",
    "    node_color=artist.color_by_comm(best_partition_gn_topicnet6yr, G_topicnet6yr_gn.node),\n",
    "    alpha=.5)\n",
    "ax2 = f.add_subplot(132)\n",
    "nx.draw(\n",
    "    g_topicnet6yr,\n",
    "    pos_standard,\n",
    "    ax=ax2,\n",
    "    node_size=60,\n",
    "    node_color=artist.color_by_inst(g_topicnet6yr, lookup_poinf),\n",
    "    alpha=.5)\n",
    "\n",
    "ax3 = f.add_subplot(133)\n",
    "nx.draw(\n",
    "    G_topicnet6yr_mod,\n",
    "    pos_standard,\n",
    "    ax=ax3,\n",
    "    node_size=60,\n",
    "    node_color=artist.color_by_comm(best_partition_mod_topicnet6yr, G_topicnet6yr_gn.node),\n",
    "    alpha=.5)\n",
    "\n",
    "f.tight_layout()"
   ]
  },
  {
   "cell_type": "code",
   "execution_count": null,
   "metadata": {
    "ExecuteTime": {
     "end_time": "2018-04-08T11:41:55.952203Z",
     "start_time": "2018-04-08T11:41:45.076Z"
    }
   },
   "outputs": [],
   "source": [
    "f.savefig('IMG/topicnet6yr_w_clusters.png',format='png',bbox_inches='tight')"
   ]
  },
  {
   "cell_type": "markdown",
   "metadata": {},
   "source": [
    "### INFNET6YR vs TOPICNET"
   ]
  },
  {
   "cell_type": "code",
   "execution_count": 82,
   "metadata": {
    "ExecuteTime": {
     "end_time": "2018-04-06T01:43:59.274268Z",
     "start_time": "2018-04-06T01:43:59.145454Z"
    },
    "deletable": false,
    "editable": false,
    "run_control": {
     "frozen": true
    }
   },
   "outputs": [],
   "source": [
    "\n",
    "# infnet6yr have more nodes than topicnet => use infnet6yr as the base pos\n",
    "pos_standard = nx.spring_layout(g_infnet6yr,k=.24)\n",
    "# pos_standard = nx.spring_layout(, pos=pos_standard)"
   ]
  },
  {
   "cell_type": "code",
   "execution_count": null,
   "metadata": {
    "ExecuteTime": {
     "end_time": "2018-04-08T11:41:55.952927Z",
     "start_time": "2018-04-08T11:41:45.084Z"
    }
   },
   "outputs": [],
   "source": [
    "# draw infnet6yr first: <IFNNET> <TOPICNET>\n",
    "f = plt.figure(figsize=(12,6))\n",
    "ax1 = f.add_subplot(121)\n",
    "nx.draw(\n",
    "    g_infnet6yr,\n",
    "    pos_standard,\n",
    "    ax=ax1,\n",
    "    node_size=60,\n",
    "    node_color=artist.color_by_inst(g_infnet6yr,lookup_poinf),\n",
    "    alpha=.5)\n",
    "ax2 = f.add_subplot(122)\n",
    "nx.draw(\n",
    "    g_topicnet6yr,\n",
    "    pos_standard,\n",
    "    ax=ax2,\n",
    "    node_size=60,\n",
    "    node_color=artist.color_by_inst(g_topicnet6yr, lookup_poinf),\n",
    "    alpha=.5)\n",
    "f.tight_layout()"
   ]
  },
  {
   "cell_type": "code",
   "execution_count": null,
   "metadata": {
    "ExecuteTime": {
     "end_time": "2018-04-08T11:41:55.953651Z",
     "start_time": "2018-04-08T11:41:45.090Z"
    }
   },
   "outputs": [],
   "source": [
    "f.savefig('IMG/topicnet6yrVSinfnet6yr_pos_infnet.png',format='png',bbox_inches='tight')"
   ]
  },
  {
   "cell_type": "code",
   "execution_count": null,
   "metadata": {
    "ExecuteTime": {
     "end_time": "2018-04-08T11:41:55.954356Z",
     "start_time": "2018-04-08T11:41:45.096Z"
    }
   },
   "outputs": [],
   "source": [
    "topicnet6yr_mod = g_topicnet6yr.copy()\n",
    "for n in g_infnet6yr:\n",
    "    if n not in topicnet6yr_mod:\n",
    "        topicnet6yr_mod.add_node(n)"
   ]
  },
  {
   "cell_type": "code",
   "execution_count": null,
   "metadata": {
    "ExecuteTime": {
     "end_time": "2018-04-08T11:41:55.955081Z",
     "start_time": "2018-04-08T11:41:45.102Z"
    }
   },
   "outputs": [],
   "source": [
    "pos_standard = nx.spring_layout(g_infnet6yr)\n",
    "pos_standard = nx.spring_layout(topicnet6yr_mod, pos=pos_standard)"
   ]
  },
  {
   "cell_type": "code",
   "execution_count": null,
   "metadata": {
    "ExecuteTime": {
     "end_time": "2018-04-08T11:41:55.955779Z",
     "start_time": "2018-04-08T11:41:45.108Z"
    }
   },
   "outputs": [],
   "source": [
    "# draw infnet6yr first: <IFNNET> <TOPICNET>\n",
    "f = plt.figure(figsize=(15,6))\n",
    "ax1 = f.add_subplot(121)\n",
    "nx.draw(\n",
    "    g_infnet6yr,\n",
    "    pos_standard,\n",
    "    ax=ax1,\n",
    "    node_size=60,\n",
    "    node_color=artist.color_by_inst(g_infnet6yr,lookup_poinf),\n",
    "    alpha=.5)\n",
    "ax2 = f.add_subplot(122)\n",
    "nx.draw(\n",
    "    g_topicnet6yr,\n",
    "    pos_standard,\n",
    "    ax=ax2,\n",
    "    node_size=60,\n",
    "    node_color=artist.color_by_inst(g_topicnet6yr, lookup_poinf),\n",
    "    alpha=.5)\n",
    "f.tight_layout()"
   ]
  },
  {
   "cell_type": "code",
   "execution_count": null,
   "metadata": {
    "ExecuteTime": {
     "end_time": "2018-04-08T11:41:55.956494Z",
     "start_time": "2018-04-08T11:41:45.114Z"
    }
   },
   "outputs": [],
   "source": [
    "f.savefig('IMG/topicnet6yrVSinfnet6yr_pos_topicnet.png',format='png',bbox_inches='tight')"
   ]
  },
  {
   "cell_type": "markdown",
   "metadata": {
    "ExecuteTime": {
     "end_time": "2018-04-08T13:07:07.037980Z",
     "start_time": "2018-04-08T13:07:07.035101Z"
    }
   },
   "source": [
    "# Homophily res"
   ]
  },
  {
   "cell_type": "code",
   "execution_count": 193,
   "metadata": {
    "ExecuteTime": {
     "end_time": "2018-04-08T13:27:30.642901Z",
     "start_time": "2018-04-08T13:27:30.385077Z"
    }
   },
   "outputs": [
    {
     "data": {
      "text/plain": [
       "Text(0.5,0,'Node degree')"
      ]
     },
     "execution_count": 193,
     "metadata": {},
     "output_type": "execute_result"
    },
    {
     "data": {
      "image/png": "[encoded data removed]",
      "text/plain": [
       "<matplotlib.figure.Figure at 0x7f80698a0f28>"
      ]
     },
     "metadata": {},
     "output_type": "display_data"
    }
   ],
   "source": [
    "f = plt.figure(figsize=(10,10))\n",
    "ax = f.add_subplot(111)\n",
    "ax.plot(attr_names_degree_infnet6yr, diff_degree_infnet6yr,label='infnet-6yr')\n",
    "ax.scatter(attr_names_degree_infnet6yr, diff_degree_infnet6yr,s=25)\n",
    "ax.plot(attr_names_degree_infnet6yr_mod, diff_degree_infnet6yr_mod,label='infnet-6yr (w/Mod)')\n",
    "ax.scatter(attr_names_degree_infnet6yr_mod, diff_degree_infnet6yr_mod,s=25)\n",
    "\n",
    "ax.plot(attr_names_degree_topicnet6yr, diff_degree_topicnet6yr, label='topicnet-6yr', ls=':')\n",
    "ax.scatter(attr_names_degree_topicnet6yr, diff_degree_topicnet6yr, s=25)\n",
    "ax.plot(attr_names_degree_topicnetref6yr, diff_degree_topicneref6yr, label='topicnetref-6yr',ls=':')\n",
    "ax.scatter(attr_names_degree_topicneref6yr, diff_degree_topicneref6yr,s=25)\n",
    "ax.legend(title='Model')\n",
    "ax.set_ylabel('Difference between fraction of edges and probability')\n",
    "ax.set_xlabel('Node degree')"
   ]
  },
  {
   "cell_type": "code",
   "execution_count": 194,
   "metadata": {
    "ExecuteTime": {
     "end_time": "2018-04-08T13:27:57.358948Z",
     "start_time": "2018-04-08T13:27:57.219309Z"
    }
   },
   "outputs": [],
   "source": [
    "f.savefig('IMG/node_degrees_compiled.pdf',format='pdf',bbox_inches='tight')"
   ]
  },
  {
   "cell_type": "markdown",
   "metadata": {},
   "source": [
    "---"
   ]
  },
  {
   "cell_type": "markdown",
   "metadata": {},
   "source": [
    "# `infnet20yr`"
   ]
  },
  {
   "cell_type": "code",
   "execution_count": null,
   "metadata": {
    "ExecuteTime": {
     "end_time": "2018-04-08T11:41:55.957208Z",
     "start_time": "2018-04-08T11:41:45.120Z"
    }
   },
   "outputs": [],
   "source": [
    "# infnet20yr:\n",
    "g_infnet20yr = nx.Graph()\n",
    "# add edges:\n",
    "poinf_list = lookup_poinf.index.tolist()\n",
    "edges = lookup_pub.edges.tolist() # list of list\n",
    "for e in edges:\n",
    "    for (a,b) in e:\n",
    "        if a in poinf_list and b in poinf_list:\n",
    "            g_infnet20yr.add_edge(a,b)"
   ]
  },
  {
   "cell_type": "code",
   "execution_count": null,
   "metadata": {
    "ExecuteTime": {
     "end_time": "2018-04-08T11:41:55.957958Z",
     "start_time": "2018-04-08T11:41:45.126Z"
    }
   },
   "outputs": [],
   "source": [
    "print(nx.info(g_infnet20yr))"
   ]
  },
  {
   "cell_type": "code",
   "execution_count": null,
   "metadata": {
    "ExecuteTime": {
     "end_time": "2018-04-08T11:41:55.958663Z",
     "start_time": "2018-04-08T11:41:45.132Z"
    }
   },
   "outputs": [],
   "source": [
    "nx.set_node_attributes(g_infnet20yr, lookup_poinf.loc[list(\n",
    "    g_infnet20yr.nodes)]['full_name'].to_dict(), 'name')\n",
    "nx.set_node_attributes(g_infnet20yr, lookup_poinf.loc[list(\n",
    "    g_infnet20yr.nodes)]['institute'].to_dict(), 'institute')\n",
    "nx.set_node_attributes(g_infnet20yr, lookup_poinf.loc[list(\n",
    "    g_infnet20yr.nodes)]['position'].to_dict(), 'position')\n",
    "nx.set_node_attributes(g_infnet20yr, lookup_poinf.loc[list(\n",
    "    g_infnet20yr.nodes)]['first_pub_year'].to_dict(), 'year')"
   ]
  },
  {
   "cell_type": "code",
   "execution_count": null,
   "metadata": {
    "ExecuteTime": {
     "end_time": "2018-04-08T11:41:55.959377Z",
     "start_time": "2018-04-08T11:41:45.138Z"
    }
   },
   "outputs": [],
   "source": [
    "f = plt.figure(figsize=(12,8))\n",
    "ax = f.add_subplot(111)\n",
    "nx.draw(\n",
    "    g_infnet20yr,\n",
    "    node_size=60,\n",
    "    ax=ax,\n",
    "    node_color=artist.color_by_inst(g_infnet20yr, lookup_poinf))\n",
    "artist.add_inst_labels(ax,with_legend=True)"
   ]
  },
  {
   "cell_type": "code",
   "execution_count": null,
   "metadata": {
    "ExecuteTime": {
     "end_time": "2018-04-08T11:41:55.960051Z",
     "start_time": "2018-04-08T11:41:45.142Z"
    }
   },
   "outputs": [],
   "source": [
    "### Save graph in JSON format\n",
    "dat = nx.readwrite.json_graph.node_link_data(g_infnet20yr)"
   ]
  },
  {
   "cell_type": "code",
   "execution_count": null,
   "metadata": {
    "ExecuteTime": {
     "end_time": "2018-04-08T11:41:55.960747Z",
     "start_time": "2018-04-08T11:41:45.150Z"
    }
   },
   "outputs": [],
   "source": [
    "import json\n",
    "json.dump(dat, open('../../data/data_schoolofinf/json/infnet20yr.json','w'))"
   ]
  },
  {
   "cell_type": "markdown",
   "metadata": {},
   "source": [
    "## Assortative Mixing (homophily)"
   ]
  },
  {
   "cell_type": "markdown",
   "metadata": {},
   "source": [
    "### assortative by institute"
   ]
  },
  {
   "cell_type": "code",
   "execution_count": null,
   "metadata": {
    "ExecuteTime": {
     "end_time": "2018-04-08T11:41:55.961451Z",
     "start_time": "2018-04-08T11:41:45.156Z"
    }
   },
   "outputs": [],
   "source": [
    "g_infnet20yr_inst_e = \\\n",
    "    nx.attribute_mixing_dict(g_infnet20yr, attribute='institute')"
   ]
  },
  {
   "cell_type": "code",
   "execution_count": null,
   "metadata": {
    "ExecuteTime": {
     "end_time": "2018-04-08T11:41:55.962166Z",
     "start_time": "2018-04-08T11:41:45.162Z"
    }
   },
   "outputs": [],
   "source": [
    "nx.attribute_assortativity_coefficient(g_infnet20yr,attribute='institute')"
   ]
  },
  {
   "cell_type": "markdown",
   "metadata": {
    "ExecuteTime": {
     "end_time": "2018-04-03T23:12:32.874780Z",
     "start_time": "2018-04-03T23:12:32.871979Z"
    }
   },
   "source": [
    "### assortative by year"
   ]
  },
  {
   "cell_type": "code",
   "execution_count": null,
   "metadata": {
    "ExecuteTime": {
     "end_time": "2018-04-08T11:41:55.962892Z",
     "start_time": "2018-04-08T11:41:45.170Z"
    }
   },
   "outputs": [],
   "source": [
    "g_infnet20yr_year_e = \\\n",
    "nx.assortativity.attribute_mixing_dict(g_infnet20yr,attribute='year')"
   ]
  },
  {
   "cell_type": "code",
   "execution_count": null,
   "metadata": {
    "ExecuteTime": {
     "end_time": "2018-04-08T11:41:55.963606Z",
     "start_time": "2018-04-08T11:41:45.176Z"
    }
   },
   "outputs": [],
   "source": [
    "nx.assortativity.attribute_assortativity_coefficient(g_infnet20yr, attribute='year')"
   ]
  },
  {
   "cell_type": "markdown",
   "metadata": {},
   "source": [
    "### assortative by node degree"
   ]
  },
  {
   "cell_type": "code",
   "execution_count": null,
   "metadata": {
    "ExecuteTime": {
     "end_time": "2018-04-08T11:41:55.964323Z",
     "start_time": "2018-04-08T11:41:45.182Z"
    }
   },
   "outputs": [],
   "source": [
    "g_infnet20yr_deg_e = \\\n",
    "nx.assortativity.degree_mixing_matrix(g_infnet20yr)"
   ]
  },
  {
   "cell_type": "code",
   "execution_count": null,
   "metadata": {
    "ExecuteTime": {
     "end_time": "2018-04-08T11:41:55.965012Z",
     "start_time": "2018-04-08T11:41:45.188Z"
    },
    "scrolled": true
   },
   "outputs": [],
   "source": [
    "nx.degree_assortativity_coefficient(g_infnet20yr)"
   ]
  },
  {
   "cell_type": "markdown",
   "metadata": {},
   "source": [
    "### assortative mixing by number of publications"
   ]
  },
  {
   "cell_type": "code",
   "execution_count": null,
   "metadata": {
    "ExecuteTime": {
     "end_time": "2018-04-08T11:41:55.965733Z",
     "start_time": "2018-04-08T11:41:45.196Z"
    }
   },
   "outputs": [],
   "source": [
    "nx.set_node_attributes(g_infnet20yr,\n",
    "                       lookup_poinf.total_pub_1997.loc[list(g_infnet20yr.node)].to_dict(),\n",
    "                       \"nb_publication\"\n",
    "                      )"
   ]
  },
  {
   "cell_type": "code",
   "execution_count": null,
   "metadata": {},
   "outputs": [],
   "source": []
  },
  {
   "cell_type": "code",
   "execution_count": null,
   "metadata": {
    "ExecuteTime": {
     "end_time": "2018-04-08T11:41:55.966443Z",
     "start_time": "2018-04-08T11:41:45.204Z"
    }
   },
   "outputs": [],
   "source": [
    "nx.assortativity.numeric_assortativity_coefficient(g_infnet20yr, attribute='nb_publication')"
   ]
  }
 ],
 "metadata": {
  "kernelspec": {
   "display_name": "Python 3",
   "language": "python",
   "name": "python3"
  },
  "language_info": {
   "codemirror_mode": {
    "name": "ipython",
    "version": 3
   },
   "file_extension": ".py",
   "mimetype": "text/x-python",
   "name": "python",
   "nbconvert_exporter": "python",
   "pygments_lexer": "ipython3",
   "version": "3.6.4"
  },
  "toc": {
   "nav_menu": {},
   "number_sections": true,
   "sideBar": true,
   "skip_h1_title": false,
   "toc_cell": false,
   "toc_position": {
    "height": "1102px",
    "left": "0px",
    "right": "984px",
    "top": "113px",
    "width": "191px"
   },
   "toc_section_display": "block",
   "toc_window_display": true
  },
  "varInspector": {
   "cols": {
    "lenName": 16,
    "lenType": 16,
    "lenVar": 40
   },
   "kernels_config": {
    "python": {
     "delete_cmd_postfix": "",
     "delete_cmd_prefix": "del ",
     "library": "var_list.py",
     "varRefreshCmd": "print(var_dic_list())"
    },
    "r": {
     "delete_cmd_postfix": ") ",
     "delete_cmd_prefix": "rm(",
     "library": "var_list.r",
     "varRefreshCmd": "cat(var_dic_list()) "
    }
   },
   "position": {
    "height": "681px",
    "left": "82.5167px",
    "right": "893.733px",
    "top": "173px",
    "width": "350px"
   },
   "types_to_exclude": [
    "module",
    "function",
    "builtin_function_or_method",
    "instance",
    "_Feature"
   ],
   "window_display": false
  }
 },
 "nbformat": 4,
 "nbformat_minor": 2
}
