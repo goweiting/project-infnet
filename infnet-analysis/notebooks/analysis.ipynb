{
 "cells": [
  {
   "cell_type": "markdown",
   "metadata": {},
   "source": [
    "# Analysis\n",
    "\n",
    "The final stroke of the project involve analysing the networks created:"
   ]
  },
  {
   "cell_type": "code",
   "execution_count": 1,
   "metadata": {
    "ExecuteTime": {
     "end_time": "2018-04-03T18:28:37.112747Z",
     "start_time": "2018-04-03T18:28:33.755837Z"
    }
   },
   "outputs": [],
   "source": [
    "## import required packages\n",
    "import os\n",
    "import pickle as pkl\n",
    "import pandas as pd\n",
    "import networkx as nx\n",
    "import numpy as np\n",
    "from numpy.random import RandomState\n",
    "rng = RandomState(781772)\n",
    "import logging\n",
    "logging.basicConfig(\n",
    "    format='%(asctime)s : %(levelname)s : %(message)s', level=logging.INFO)\n",
    "\n",
    "## graphics:\n",
    "import seaborn as sns\n",
    "import matplotlib.pyplot as plt\n",
    "%matplotlib inline\n",
    "plt.style.use(['seaborn-poster'])\n",
    "\n",
    "# home-made packages\n",
    "import network_artist as artist\n",
    "from infnet_helper import *"
   ]
  },
  {
   "cell_type": "code",
   "execution_count": 2,
   "metadata": {
    "ExecuteTime": {
     "end_time": "2018-04-03T18:28:50.972267Z",
     "start_time": "2018-04-03T18:28:50.809897Z"
    }
   },
   "outputs": [],
   "source": [
    "lookup_combined_toks = prepare_toks(with_pdf2txt=False)"
   ]
  },
  {
   "cell_type": "code",
   "execution_count": 3,
   "metadata": {
    "ExecuteTime": {
     "end_time": "2018-04-03T18:28:53.169242Z",
     "start_time": "2018-04-03T18:28:53.161564Z"
    }
   },
   "outputs": [],
   "source": [
    "lookup_poinf = get_lookup_poinf()"
   ]
  },
  {
   "cell_type": "code",
   "execution_count": 4,
   "metadata": {
    "ExecuteTime": {
     "end_time": "2018-04-03T18:28:56.473984Z",
     "start_time": "2018-04-03T18:28:56.467774Z"
    }
   },
   "outputs": [
    {
     "name": "stdout",
     "output_type": "stream",
     "text": [
      "224\n"
     ]
    }
   ],
   "source": [
    "# remove individuals without  any publications since they wont appear in the collab net\n",
    "lookup_poinf.dropna(subset=['pub_ids'], inplace=True)\n",
    "print(len(lookup_poinf))"
   ]
  },
  {
   "cell_type": "code",
   "execution_count": 23,
   "metadata": {
    "ExecuteTime": {
     "end_time": "2018-04-03T14:26:50.865966Z",
     "start_time": "2018-04-03T14:26:50.849690Z"
    },
    "scrolled": false
   },
   "outputs": [
    {
     "data": {
      "text/html": [
       "<div>\n",
       "<style scoped>\n",
       "    .dataframe tbody tr th:only-of-type {\n",
       "        vertical-align: middle;\n",
       "    }\n",
       "\n",
       "    .dataframe tbody tr th {\n",
       "        vertical-align: top;\n",
       "    }\n",
       "\n",
       "    .dataframe thead th {\n",
       "        text-align: right;\n",
       "    }\n",
       "</style>\n",
       "<table border=\"1\" class=\"dataframe\">\n",
       "  <thead>\n",
       "    <tr style=\"text-align: right;\">\n",
       "      <th></th>\n",
       "      <th>last_name</th>\n",
       "      <th>first_name</th>\n",
       "      <th>personal_url</th>\n",
       "      <th>position</th>\n",
       "      <th>parent</th>\n",
       "      <th>institute</th>\n",
       "      <th>full_name</th>\n",
       "      <th>institute_class</th>\n",
       "      <th>alias</th>\n",
       "      <th>first_pub_year</th>\n",
       "      <th>total_pub</th>\n",
       "      <th>total_pub_1997</th>\n",
       "      <th>total_pub_2012</th>\n",
       "      <th>pub_ids</th>\n",
       "    </tr>\n",
       "    <tr>\n",
       "      <th>id</th>\n",
       "      <th></th>\n",
       "      <th></th>\n",
       "      <th></th>\n",
       "      <th></th>\n",
       "      <th></th>\n",
       "      <th></th>\n",
       "      <th></th>\n",
       "      <th></th>\n",
       "      <th></th>\n",
       "      <th></th>\n",
       "      <th></th>\n",
       "      <th></th>\n",
       "      <th></th>\n",
       "      <th></th>\n",
       "    </tr>\n",
       "  </thead>\n",
       "  <tbody>\n",
       "    <tr>\n",
       "      <th>d089bb44-7d0b-4b3f-b556-27def993d1d1</th>\n",
       "      <td>albrecht</td>\n",
       "      <td>stefano</td>\n",
       "      <td>http://www.research.ed.ac.uk/portal/en/persons...</td>\n",
       "      <td>lecturer in artificial intelligence</td>\n",
       "      <td>school of informatics</td>\n",
       "      <td>centre for intelligent systems and their appli...</td>\n",
       "      <td>albrecht stefano</td>\n",
       "      <td>1</td>\n",
       "      <td>albrecht, s. v.|albrecht, s.</td>\n",
       "      <td>2014.0</td>\n",
       "      <td>12</td>\n",
       "      <td>12</td>\n",
       "      <td>12</td>\n",
       "      <td>{ca133725-ba89-4acc-984b-d54e667270f6, 990f481...</td>\n",
       "    </tr>\n",
       "    <tr>\n",
       "      <th>ecd799fb-4f63-44ae-a078-b009099f2c8c</th>\n",
       "      <td>alex</td>\n",
       "      <td>beatrice</td>\n",
       "      <td>http://www.research.ed.ac.uk/portal/en/persons...</td>\n",
       "      <td>research fellow</td>\n",
       "      <td>school of informatics</td>\n",
       "      <td>institute of language cognition and computation</td>\n",
       "      <td>alex beatrice</td>\n",
       "      <td>2</td>\n",
       "      <td>alex, b.  (ed.)|alex, b.|symington, b.</td>\n",
       "      <td>2012.0</td>\n",
       "      <td>43</td>\n",
       "      <td>43</td>\n",
       "      <td>20</td>\n",
       "      <td>{6b8df6e9-705a-43be-bdce-8b612e39e71d, 5c90210...</td>\n",
       "    </tr>\n",
       "    <tr>\n",
       "      <th>1997d4be-de27-44bd-ad89-36e6f386225d</th>\n",
       "      <td>alexandru</td>\n",
       "      <td>cristina</td>\n",
       "      <td>http://www.research.ed.ac.uk/portal/en/persons...</td>\n",
       "      <td>research associate</td>\n",
       "      <td>school of informatics</td>\n",
       "      <td>centre for intelligent systems and their appli...</td>\n",
       "      <td>alexandru cristina</td>\n",
       "      <td>1</td>\n",
       "      <td>alexandru, c.|alexandru, c. a.|alexandru, c-a.</td>\n",
       "      <td>2011.0</td>\n",
       "      <td>9</td>\n",
       "      <td>9</td>\n",
       "      <td>7</td>\n",
       "      <td>{ec8fd94d-aea9-4320-86f1-2250352f698c, d850fd3...</td>\n",
       "    </tr>\n",
       "  </tbody>\n",
       "</table>\n",
       "</div>"
      ],
      "text/plain": [
       "                                      last_name first_name  \\\n",
       "id                                                           \n",
       "d089bb44-7d0b-4b3f-b556-27def993d1d1   albrecht    stefano   \n",
       "ecd799fb-4f63-44ae-a078-b009099f2c8c       alex   beatrice   \n",
       "1997d4be-de27-44bd-ad89-36e6f386225d  alexandru   cristina   \n",
       "\n",
       "                                                                           personal_url  \\\n",
       "id                                                                                        \n",
       "d089bb44-7d0b-4b3f-b556-27def993d1d1  http://www.research.ed.ac.uk/portal/en/persons...   \n",
       "ecd799fb-4f63-44ae-a078-b009099f2c8c  http://www.research.ed.ac.uk/portal/en/persons...   \n",
       "1997d4be-de27-44bd-ad89-36e6f386225d  http://www.research.ed.ac.uk/portal/en/persons...   \n",
       "\n",
       "                                                                 position  \\\n",
       "id                                                                          \n",
       "d089bb44-7d0b-4b3f-b556-27def993d1d1  lecturer in artificial intelligence   \n",
       "ecd799fb-4f63-44ae-a078-b009099f2c8c                      research fellow   \n",
       "1997d4be-de27-44bd-ad89-36e6f386225d                   research associate   \n",
       "\n",
       "                                                     parent  \\\n",
       "id                                                            \n",
       "d089bb44-7d0b-4b3f-b556-27def993d1d1  school of informatics   \n",
       "ecd799fb-4f63-44ae-a078-b009099f2c8c  school of informatics   \n",
       "1997d4be-de27-44bd-ad89-36e6f386225d  school of informatics   \n",
       "\n",
       "                                                                              institute  \\\n",
       "id                                                                                        \n",
       "d089bb44-7d0b-4b3f-b556-27def993d1d1  centre for intelligent systems and their appli...   \n",
       "ecd799fb-4f63-44ae-a078-b009099f2c8c    institute of language cognition and computation   \n",
       "1997d4be-de27-44bd-ad89-36e6f386225d  centre for intelligent systems and their appli...   \n",
       "\n",
       "                                               full_name  institute_class  \\\n",
       "id                                                                          \n",
       "d089bb44-7d0b-4b3f-b556-27def993d1d1    albrecht stefano                1   \n",
       "ecd799fb-4f63-44ae-a078-b009099f2c8c       alex beatrice                2   \n",
       "1997d4be-de27-44bd-ad89-36e6f386225d  alexandru cristina                1   \n",
       "\n",
       "                                                                               alias  \\\n",
       "id                                                                                     \n",
       "d089bb44-7d0b-4b3f-b556-27def993d1d1                    albrecht, s. v.|albrecht, s.   \n",
       "ecd799fb-4f63-44ae-a078-b009099f2c8c          alex, b.  (ed.)|alex, b.|symington, b.   \n",
       "1997d4be-de27-44bd-ad89-36e6f386225d  alexandru, c.|alexandru, c. a.|alexandru, c-a.   \n",
       "\n",
       "                                      first_pub_year  total_pub  \\\n",
       "id                                                                \n",
       "d089bb44-7d0b-4b3f-b556-27def993d1d1          2014.0         12   \n",
       "ecd799fb-4f63-44ae-a078-b009099f2c8c          2012.0         43   \n",
       "1997d4be-de27-44bd-ad89-36e6f386225d          2011.0          9   \n",
       "\n",
       "                                      total_pub_1997  total_pub_2012  \\\n",
       "id                                                                     \n",
       "d089bb44-7d0b-4b3f-b556-27def993d1d1              12              12   \n",
       "ecd799fb-4f63-44ae-a078-b009099f2c8c              43              20   \n",
       "1997d4be-de27-44bd-ad89-36e6f386225d               9               7   \n",
       "\n",
       "                                                                                pub_ids  \n",
       "id                                                                                       \n",
       "d089bb44-7d0b-4b3f-b556-27def993d1d1  {ca133725-ba89-4acc-984b-d54e667270f6, 990f481...  \n",
       "ecd799fb-4f63-44ae-a078-b009099f2c8c  {6b8df6e9-705a-43be-bdce-8b612e39e71d, 5c90210...  \n",
       "1997d4be-de27-44bd-ad89-36e6f386225d  {ec8fd94d-aea9-4320-86f1-2250352f698c, d850fd3...  "
      ]
     },
     "execution_count": 23,
     "metadata": {},
     "output_type": "execute_result"
    }
   ],
   "source": [
    "lookup_poinf.head(3)"
   ]
  },
  {
   "cell_type": "code",
   "execution_count": null,
   "metadata": {},
   "outputs": [],
   "source": [
    "lookup_pub = "
   ]
  },
  {
   "cell_type": "markdown",
   "metadata": {},
   "source": [
    "## Homophily - Assortative mixing"
   ]
  },
  {
   "cell_type": "markdown",
   "metadata": {},
   "source": [
    "### infnet20yr"
   ]
  },
  {
   "cell_type": "code",
   "execution_count": 48,
   "metadata": {
    "ExecuteTime": {
     "end_time": "2018-04-03T14:41:35.079646Z",
     "start_time": "2018-04-03T14:41:35.076696Z"
    }
   },
   "outputs": [],
   "source": [
    "x = dict((a,b) for (a,b) in\n",
    "                           zip(lookup_poinf.index.tolist(),\n",
    "                               lookup_poinf.full_name.tolist()))"
   ]
  },
  {
   "cell_type": "code",
   "execution_count": 6,
   "metadata": {
    "ExecuteTime": {
     "end_time": "2018-04-03T18:30:43.441529Z",
     "start_time": "2018-04-03T18:30:43.427443Z"
    }
   },
   "outputs": [],
   "source": [
    "# infnet20yr:\n",
    "g_infnet20yr = nx.Graph()\n",
    "for poinf_id, attr in lookup_poinf.iterrows():\n",
    "    g_infnet20yr.add_node(poinf_id)"
   ]
  },
  {
   "cell_type": "code",
   "execution_count": 11,
   "metadata": {
    "ExecuteTime": {
     "end_time": "2018-04-03T18:31:28.784145Z",
     "start_time": "2018-04-03T18:31:28.779548Z"
    }
   },
   "outputs": [
    {
     "data": {
      "text/plain": [
       "'alex beatrice'"
      ]
     },
     "execution_count": 11,
     "metadata": {},
     "output_type": "execute_result"
    }
   ],
   "source": [
    "lookup_poinf.loc['ecd799fb-4f63-44ae-a078-b009099f2c8c']['full_name']"
   ]
  },
  {
   "cell_type": "code",
   "execution_count": 20,
   "metadata": {
    "ExecuteTime": {
     "end_time": "2018-04-03T18:35:18.473314Z",
     "start_time": "2018-04-03T18:35:18.469533Z"
    }
   },
   "outputs": [
    {
     "data": {
      "text/plain": [
       "NodeView(('d089bb44-7d0b-4b3f-b556-27def993d1d1', 'ecd799fb-4f63-44ae-a078-b009099f2c8c', '1997d4be-de27-44bd-ad89-36e6f386225d', 'ca066cb3-40b1-4721-a12e-edbdb031cf7c', 'c3bee2e3-cad6-4ae1-9d94-d17f8bb39935', 'e4fface3-9781-4bfa-9a40-9340f707cde3', 'da3124d7-44f9-4199-82bf-9e964f422ab9', 'dbb07214-3753-4bba-a630-e1857e7efb09', '2db0a63a-084d-4b6e-ba29-416854572865', '8e51eafb-dd78-468b-8970-ec2349e92305', '71021818-cf31-4cca-9dc9-af9db85e31a9', '91770438-791c-43da-8fcf-3bdd8f2293fd', '9129cbb9-4d56-4bab-8124-1e34a5b01f70', '1a05e95b-6e1a-40d8-8406-d5e62b7c722d', '688a89f2-45fd-42ad-8fcd-08a065521c0a', '570a3e8e-0e1c-4d8e-8cf5-8374bdc9a5c4', '2c3dcad6-2934-40ab-8663-8a41c0597024', 'bd14c9d9-1e8b-4816-b547-d3727e0d8537', 'aa593eb8-2ac7-415c-aec5-738f11b6e795', '0b2fae7b-cf7f-4f8b-a92c-4fa055ff9d63', '350d5a79-901a-4018-9e1a-87114b8dbe0b', 'f804a9ce-5cc1-456b-b652-a91c8e034c68', 'a78a09b5-138e-407e-8c09-34414853eb20', '412b9b6c-a9d5-47d6-81af-018323057f36', '213fbdf4-a67d-4b06-8614-3b864f740266', 'bfb547ed-a4df-4a6c-b1be-8ecd9b13419f', '90396347-473b-4fba-8b1d-a1d25ea18b6b', 'f0a3769d-bc61-42f4-b06a-8b90b20a44dc', '6b2472cb-5094-4a65-95be-24ea7e87dd6b', 'b35be2b5-5381-47b4-bd80-fc5f52ab43a9', 'bd09c3e2-3826-4065-b33c-edc31ce40e15', '35733e3d-9dec-44da-8906-22550e210916', 'cc9ffdea-6c5b-473a-976f-a5272cff17bf', '1d499fa8-54c4-4217-904e-9b5e2bcefc61', '1c6a1e04-4291-426e-a921-42be34ba8494', '8c7a4da8-8239-4f81-a04a-278515d5799b', '46e52836-60d4-45f0-93fd-6b3a917bd451', '68ca9564-52a9-46ce-92af-0480a43b555d', '33164b97-62c7-4085-aecd-8f38bd38b0f3', '2e35a752-9ba1-40cb-bd6e-08366e65b951', '99d8fa97-2a0d-4c56-815d-3fd8d14258a0', '09607fb1-44fb-4edc-a0ae-c54d3047be30', 'bcd15972-fe18-4e1f-a6e8-6f5ecbf7f31c', 'f8c8787b-838f-4485-a4ee-357b7406d75b', '2bc1f446-66d9-43c8-98d4-9843a4f12b07', '66ef2544-9295-4e01-bc75-49a28d907749', '6b1930fc-ece1-43a3-9a69-331b9560046d', 'a18f17c1-1bc4-49dc-a279-314ae0d521fb', 'd6667408-8b44-4c51-8e24-9422e7d2b2c5', '754637e1-0756-4d21-9afe-732b294e303f', '9333c02f-770b-4b9c-b3d2-ff1322fc99aa', 'd9cfbd11-051e-4b9e-8120-b97486cc4263', 'e554cc1b-7106-4355-afce-280d0a04e34a', '575cc1dd-c44a-4933-a690-16f21e8ee10a', '73967c25-940b-496b-a814-e310cdaa1ef5', 'c81deafa-1763-4692-a5e2-52e77679a769', '37596402-1dfe-4da8-bdee-ae7d18dbf769', '670f7376-cd3d-4eb5-8a57-736d6c988f42', '54576248-536c-4126-bf70-d9cb7dd1e589', 'fdf75867-e658-48aa-96cd-633b4e66abf3', '02c86de2-0fc9-4f6d-aee9-93b0f7557c84', '666503f8-4508-4fd8-8645-18e0436423cf', 'b7052dd1-b82d-4392-97c4-f3662fee86f2', '8fda0e73-b28f-475d-9ba3-6d812a0d9fd1', 'd173bfd9-d693-428d-a61f-9ad70c4649d2', 'd430ddd7-e27f-4342-9c97-e9165778078e', 'cb58a8fd-8e37-47ea-8301-18f2450b6682', '3ddde9c1-6c17-4ae7-aeab-c4cda0616980', '053590d0-39d7-4a42-b42d-61ee8d743d3e', '806cdb8f-fd64-4a5a-8efd-311220da0e93', 'b7a571dd-0f0d-44d5-b185-e60a185a3ca3', '0505dfc1-9fe5-4f4a-bab3-4af14ee69db3', '5ade7490-ffb5-4ae5-9297-b8cb8d4775ec', '11447e11-aff5-438e-8fb6-264da9fb5483', '2026e8cc-5cb9-4397-b9a9-490ed120e2a5', '7b3c6e3a-5dc2-4724-9d6d-e19d445cb26f', '7187cc1d-738f-412c-908f-328256e1008e', '0cf9e165-3552-465d-8ce0-a3c8e56a0f77', '653c9723-b374-4ad3-9cef-0f7e7f45d812', '9b178bbd-a1bc-4aaf-aad4-25c30eb3f498', '4674b3a1-bb47-4d4c-9812-edd3036a5998', 'a25fe4a7-1e8d-4d9d-a5b7-6595ed60d1fb', '204097e4-072c-4df3-bb1d-f45380908692', '0d66e947-585b-4eb0-975d-e8c2e2dc96b1', 'ec061db1-98b7-4ad8-9ba3-257f390dbe34', 'f598be85-b9b9-42b2-b09c-c70eafa6ee8d', '60ea63ba-9e12-4fc5-81c3-16ff526284f3', '7a61c0dc-7006-4d88-94d8-f8d63862784e', 'cf1b7c31-3a87-4812-bf0a-05cf49b0120e', '7eae1274-53e7-4f0d-b4ba-9ebce41cc4b3', '66de0aec-4c67-4ad6-abe5-ecd1d7c52002', 'b223964a-b6ef-4ca3-a6f4-8d8eca420a49', 'a8e8a17b-af21-4ee4-8527-57f5dda76963', '8acbfb35-364b-4e51-bdac-364cb0ecb138', 'add33475-efe8-4cd4-926c-fd24a3560256', '010f9bf0-c04c-4cfb-ab3d-ca150de1e706', '12b8d4c5-226d-430f-8c55-554aa75fcda8', '114a78ef-c940-4653-8429-7c2897a96043', '03916cbc-3a54-4de4-be54-09c23f44dbb5', '1a776ed4-3d64-416c-b80b-f84dbe849899', 'c7b2c9cf-958c-4978-ab9f-b6298dcd3835', '3f49cd07-c02e-48be-af9f-c708c53d0f51', 'e346d85f-17fb-4bfb-b94a-7e1891987ac2', '8bf34ce8-09c6-4f1f-a575-df3c17a4a9d4', '1b064412-0109-4090-a60f-bafcbbad74be', '1458e0ed-f765-4bf7-a151-b3201e5a8ae8', 'f0e55345-3da8-451d-bd30-8b1068015efc', '815a7629-a616-4c3e-855d-70b736f0161d', 'd93fd5a8-983e-494a-bb69-f86c6cf719ac', 'eb085c28-d4a0-4d51-83e8-881a148e7fff', 'abb18086-66b0-4039-93e3-115476aa7604', 'ac8cd511-8751-4664-848d-c770447fc167', 'ee01bccc-c4d2-45f8-a81c-9c634464a623', 'b6b25756-6dfc-4543-871f-d9e7f83681bd', 'c18e1d0a-166d-4615-b7f8-4eb02e964656', 'af1b3ca6-83dd-43b1-a421-67df5f2e8138', 'b605a8d1-7d65-4380-8cb4-21004fad3dfc', '4247727c-39f6-4686-a9a9-77ac3a003fa7', 'a22b33fa-e7d7-44ba-9445-2184c0fb4aad', '818b6b9b-7743-44bf-b06d-fd7444883e79', 'b707b343-a7ca-4798-ba5c-f5414cf4b9c1', 'b524d99c-367c-4401-a432-adde41e4765e', '59e63ebd-3ce8-45f1-83b5-42c5edfc693e', '35a8742f-91f0-41b2-aa49-0d4ce08d8874', '767a51d7-916b-4c86-bff1-83ecfe10af21', 'bfd3e34d-dc8b-414c-afde-49851c9bbb87', 'ab89e536-ce08-43c7-8384-94ab273ab224', 'f2d0a050-bb05-469c-a97c-007e1f744ba4', '265079a1-b5d5-4ff1-bf46-d0ad26e0d424', '6b061eeb-66d3-44fe-9ae0-c6443e9cfae9', '06760916-edca-488e-93da-baff6204a453', '64843475-7ad9-42b8-9e9a-624b40915d65', '09931c59-595a-487a-a38f-2b28fdc4e406', 'fb2008c2-111d-48c0-aec8-3586828b2aef', '5523776a-4e55-4dcd-8caf-699172baa01f', '9cb66eca-0de2-438b-8896-9c5d6d748601', '0d60e141-a185-4709-a2c0-b18af3a1b3e4', '3689a744-b724-4631-92b9-58159b762936', '95ed1ca3-38b6-40a0-8405-dddc9ef78cf3', 'f53b1ad8-3f19-4e7e-8a3a-f7996de038c0', 'af444a11-4d65-4aba-8af1-e253392a8e2f', '3975e29a-2aa7-46a4-8a82-46f16abd2cab', '102286ee-5f21-4aed-abfd-e4ea1a615223', '5d1c98f2-9f82-4870-b893-59c5ed3b4e30', 'b364c2e0-bf14-4d96-9247-e24cec7526d3', '3112a172-907f-4f08-a3a0-246864b04dd4', '832b557e-d3ba-47a1-a210-d1322e26c67f', 'd12b14c7-9a34-44f5-9607-9879eec9a9c0', 'ace31714-4661-4ea3-a69d-b391f1ad88db', 'fb3d0e26-d92f-434e-b79e-c2a712e1d328', 'e76a7c40-a177-4eb5-9ac3-12ab104895f8', '3bb6f30e-1ab5-4383-b2d5-9659ad23845d', '23541f3f-42a3-4637-a43f-603d8bf9372b', 'd15a43ba-c1c3-46bd-af99-55483ee5d119', '41bd3c7d-e9dc-476a-8d9f-d86a8ff4da4b', '6cf8f7b5-bd2b-43d0-85ba-445099f8fda0', '0346dc9e-e2a7-4523-8504-a74ef42a533b', 'efbfd31a-4fd3-450c-9761-7871d7026cf5', '607874d7-5cb4-46f1-80a4-36976a668076', '2b36a690-b726-438e-8eb7-1128a7e7775d', '3593b144-170a-4242-90cf-16ffbe82f45f', 'f66a2291-496c-4371-a060-ef2d68c379f3', 'af9c768b-b00b-47c0-a909-364602d33392', 'b8e1d5e4-9bd1-4765-bb06-f72c331a9af5', '34516032-db3e-432f-9e91-9a806615c40e', 'd953e950-362d-434f-a8bb-b1353136a030', 'c7768903-0762-4f00-9759-f612b0891eba', '4d5e5fe2-2528-4d9b-b959-040eda566c1b', 'ea253c8d-bdc3-47fa-9091-8e0c9512f345', '94664317-391f-4731-9125-577d61b109ba', 'dde6eac2-ecfc-40da-84e3-f0355547c99b', '3dd7e2c0-ebc3-4ab7-918b-5bacb961ce91', 'fde737e9-3815-4539-9a22-1666d18eb4c7', '5f66e548-1906-404b-a625-40a1bbbdce1e', '1bbcff05-f819-4c25-a2a0-a03d793b788c', 'ef0fbd5f-acbb-433e-9cd7-4cfd8d3fc513', 'dfee7091-0d56-4b1e-a821-5f0f0b37ea02', 'f87c8f49-7cb3-4d73-8133-8d3c98304c0b', 'dde24035-cf29-4dab-aeff-3696dd140d70', '474ef695-7c00-4290-984c-c38bb24f27ab', '6dc0617d-43af-4c3a-88a6-aadf5bd8f57b', '2374a5c7-54ec-4513-9c13-a3787724420b', '0d940898-e2a7-4262-bf06-5b146fb79ba2', 'e184b211-081f-450b-8931-b0471a0e0c29', 'e111bbd0-4d9c-45a9-8a1c-6ed33c871568', '15b544ff-f14e-4393-bee6-0aa38f4361b6', 'd2f51e02-7d4b-486f-9182-78c5243570ed', '0ed800f5-a3a0-47d7-a8b3-f97a4f2b6931', 'acfe1cde-a9dd-4f2d-817b-cf17dcb50331', '60e011b9-a62e-4124-98fb-32b89cf535e0', '31e35c9e-6ff7-4978-8422-fd6f0ebaa194', 'dfd98db5-9b1d-43d3-ad29-8a584195cdb8', '7e9d6c34-5219-4d89-ac62-fb3224b70243', '3c52945d-a737-458f-8ab7-d4f1c3441211', '986afcb2-4d51-4593-97e9-6530894d5c43', '3e90c183-7e30-4b08-9c3b-69d4e9d8d87b', '873b2d54-14c3-4c12-9d49-431387720ef8', '48e117e7-d28a-459b-b4ae-3db886128d58', '97510e66-61d8-466a-b229-d2d4b7775f71', 'd8071e52-0b22-4b1a-b4aa-3b04ba9c75b7', 'c34e84fc-0c7e-40bc-a80b-aba666d2be70', '27720d3a-e8d1-41ae-ade3-22504c6a46f3', '55edc24c-73ac-4c72-9508-958445f08e5c', '087adc6d-e04b-4168-8824-2fa69f6b39e7', '5e1b8ace-fccc-48a6-b2a7-e18f31600ed3', '3d2352c5-8e16-4434-8802-67d74d0a4b36', '7ff440b8-b937-496f-bc39-42431779eeb6', '62297b26-8314-4d54-950e-4f43a6ea346f', '489d4278-a0a6-4e8b-857a-4ee0e800766f', '5f1081ed-4ecb-4424-a9fd-24aa080a4943', '930253f1-e606-4855-b390-bb13b77bd800', '05ed47ac-4c5e-4f9a-b7b2-45828eaad326', '67c2cb2b-2d3f-4119-afa0-94de2c2950bc', 'd3ae4364-a2b0-47fb-9365-d6fc60a72e10', 'c544cd93-656c-4b31-bffa-7466787bc209', '43aaecbe-7758-4f06-9f03-b257e9f99c05', '10ff8e7a-53b2-4d2f-adad-ef695bc595a7', '9bd00432-876e-46f6-af92-26173b891484', '0e635bd1-f0fb-4f16-a68a-d0457b80eed7', '4679dc59-93f0-4040-8bb8-2c24a5859b2a', '2b06b072-20c7-48d5-90cd-ec9c59205b49', '32613a7a-fb2d-4aa9-abaa-1de12c4efb94', '4d11a99a-0d04-42f4-8089-d433a57c2463', 'ccd9cd8c-9aee-4ede-a388-f82641ee8d29'))"
      ]
     },
     "execution_count": 20,
     "metadata": {},
     "output_type": "execute_result"
    }
   ],
   "source": [
    "g_infnet20yr.node"
   ]
  },
  {
   "cell_type": "code",
   "execution_count": 19,
   "metadata": {
    "ExecuteTime": {
     "end_time": "2018-04-03T18:33:38.203331Z",
     "start_time": "2018-04-03T18:33:38.194204Z"
    }
   },
   "outputs": [
    {
     "ename": "TypeError",
     "evalue": "add_node() takes 2 positional arguments but 3 were given",
     "output_type": "error",
     "traceback": [
      "\u001b[0;31m---------------------------------------------------------------------------\u001b[0m",
      "\u001b[0;31mTypeError\u001b[0m                                 Traceback (most recent call last)",
      "\u001b[0;32m<ipython-input-19-ae81c0d8dfe4>\u001b[0m in \u001b[0;36m<module>\u001b[0;34m()\u001b[0m\n\u001b[1;32m      1\u001b[0m \u001b[0mg\u001b[0m \u001b[0;34m=\u001b[0m \u001b[0mnx\u001b[0m\u001b[0;34m.\u001b[0m\u001b[0mGraph\u001b[0m\u001b[0;34m(\u001b[0m\u001b[0;34m)\u001b[0m\u001b[0;34m\u001b[0m\u001b[0m\n\u001b[0;32m----> 2\u001b[0;31m \u001b[0mg\u001b[0m\u001b[0;34m.\u001b[0m\u001b[0madd_node\u001b[0m\u001b[0;34m(\u001b[0m\u001b[0;36m1\u001b[0m\u001b[0;34m,\u001b[0m\u001b[0;34m{\u001b[0m\u001b[0;34m'name'\u001b[0m\u001b[0;34m:\u001b[0m\u001b[0;34m'hl'\u001b[0m\u001b[0;34m}\u001b[0m\u001b[0;34m)\u001b[0m\u001b[0;34m\u001b[0m\u001b[0m\n\u001b[0m",
      "\u001b[0;31mTypeError\u001b[0m: add_node() takes 2 positional arguments but 3 were given"
     ]
    }
   ],
   "source": [
    "g = nx.Graph()\n",
    "g.add_node(1, val{'name':'hl'})"
   ]
  },
  {
   "cell_type": "code",
   "execution_count": null,
   "metadata": {},
   "outputs": [],
   "source": []
  }
 ],
 "metadata": {
  "kernelspec": {
   "display_name": "Python 3",
   "language": "python",
   "name": "python3"
  },
  "language_info": {
   "codemirror_mode": {
    "name": "ipython",
    "version": 3
   },
   "file_extension": ".py",
   "mimetype": "text/x-python",
   "name": "python",
   "nbconvert_exporter": "python",
   "pygments_lexer": "ipython3",
   "version": "3.6.4"
  },
  "toc": {
   "nav_menu": {},
   "number_sections": true,
   "sideBar": true,
   "skip_h1_title": false,
   "toc_cell": false,
   "toc_position": {},
   "toc_section_display": "block",
   "toc_window_display": false
  },
  "varInspector": {
   "cols": {
    "lenName": 16,
    "lenType": 16,
    "lenVar": 40
   },
   "kernels_config": {
    "python": {
     "delete_cmd_postfix": "",
     "delete_cmd_prefix": "del ",
     "library": "var_list.py",
     "varRefreshCmd": "print(var_dic_list())"
    },
    "r": {
     "delete_cmd_postfix": ") ",
     "delete_cmd_prefix": "rm(",
     "library": "var_list.r",
     "varRefreshCmd": "cat(var_dic_list()) "
    }
   },
   "types_to_exclude": [
    "module",
    "function",
    "builtin_function_or_method",
    "instance",
    "_Feature"
   ],
   "window_display": false
  }
 },
 "nbformat": 4,
 "nbformat_minor": 2
}
