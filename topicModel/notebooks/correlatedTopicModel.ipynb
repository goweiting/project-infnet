{
 "cells": [
  {
   "cell_type": "markdown",
   "metadata": {},
   "source": [
    "# Correlated Topic Model\n",
    "To create the topic network that exhibit the relationships between topics (multinomial distribution of terms)\n",
    "\n",
    "To create the CTM, we use the ctm-c implementation from blei-lab: https://github.com/blei-lab/ctm-c"
   ]
  },
  {
   "cell_type": "markdown",
   "metadata": {},
   "source": [
    "## Create the mapping for each document\n",
    "As the ctm-c requires the documents to be represented in a sparse vector format:\n",
    "\n",
    "[M] [term_1]:[count_1] [term_2]:[count_2] ...  [term_N]:[count_3]\n",
    "\n",
    "* [M] is the number of unique terms in the document\n",
    "\n",
    "* [term_i] is an integer associated with the i-th term in the\n",
    "  vocabulary.\n",
    "\n",
    "* [count_i] is how many times the i-th term appeared in the document."
   ]
  },
  {
   "cell_type": "code",
   "execution_count": 1,
   "metadata": {
    "ExecuteTime": {
     "end_time": "2018-01-22T19:46:20.101223Z",
     "start_time": "2018-01-22T19:46:10.747067Z"
    }
   },
   "outputs": [],
   "source": [
    "import pandas as pd\n",
    "import pickle as pkl\n",
    "from gensim.corpora import Dictionary\n",
    "from gensim.corpora import BleiCorpus"
   ]
  },
  {
   "cell_type": "code",
   "execution_count": 2,
   "metadata": {
    "ExecuteTime": {
     "end_time": "2018-01-21T16:46:46.022651Z",
     "start_time": "2018-01-21T16:46:45.971456Z"
    }
   },
   "outputs": [],
   "source": [
    "dictionary = Dictionary.load('../data/fullpub/dictionary_fullpub.pkl')"
   ]
  },
  {
   "cell_type": "code",
   "execution_count": 3,
   "metadata": {
    "ExecuteTime": {
     "end_time": "2018-01-21T16:47:07.674857Z",
     "start_time": "2018-01-21T16:47:07.212682Z"
    }
   },
   "outputs": [],
   "source": [
    "corpus = pkl.load(open('../data/fullpub/corpus_fullpub.pkl','rb'))"
   ]
  },
  {
   "cell_type": "code",
   "execution_count": 5,
   "metadata": {
    "ExecuteTime": {
     "end_time": "2018-01-21T17:06:17.260671Z",
     "start_time": "2018-01-21T17:06:17.250556Z"
    }
   },
   "outputs": [],
   "source": [
    "BleiCorpus.serialize('../data/fullpub/bleicorpus.txt', corpus, id2word=dictionary)"
   ]
  },
  {
   "cell_type": "code",
   "execution_count": 6,
   "metadata": {
    "ExecuteTime": {
     "end_time": "2018-01-21T01:06:00.555314Z",
     "start_time": "2018-01-21T01:05:59.729326Z"
    }
   },
   "outputs": [],
   "source": [
    "df = pd.read_pickle('../data/fullpub/pub_toks_wBOW_fullpub.pkl')"
   ]
  },
  {
   "cell_type": "code",
   "execution_count": 7,
   "metadata": {
    "ExecuteTime": {
     "end_time": "2018-01-21T01:07:19.641998Z",
     "start_time": "2018-01-21T01:07:19.619091Z"
    }
   },
   "outputs": [
    {
     "data": {
      "text/html": [
       "<div>\n",
       "<style scoped>\n",
       "    .dataframe tbody tr th:only-of-type {\n",
       "        vertical-align: middle;\n",
       "    }\n",
       "\n",
       "    .dataframe tbody tr th {\n",
       "        vertical-align: top;\n",
       "    }\n",
       "\n",
       "    .dataframe thead th {\n",
       "        text-align: right;\n",
       "    }\n",
       "</style>\n",
       "<table border=\"1\" class=\"dataframe\">\n",
       "  <thead>\n",
       "    <tr style=\"text-align: right;\">\n",
       "      <th></th>\n",
       "      <th>year</th>\n",
       "      <th>title</th>\n",
       "      <th>abstract</th>\n",
       "      <th>publications</th>\n",
       "      <th>summary</th>\n",
       "      <th>summary_toks</th>\n",
       "      <th>bigram_toks</th>\n",
       "      <th>trigram_toks</th>\n",
       "      <th>combined_toks</th>\n",
       "      <th>bow</th>\n",
       "    </tr>\n",
       "    <tr>\n",
       "      <th>pub_id</th>\n",
       "      <th></th>\n",
       "      <th></th>\n",
       "      <th></th>\n",
       "      <th></th>\n",
       "      <th></th>\n",
       "      <th></th>\n",
       "      <th></th>\n",
       "      <th></th>\n",
       "      <th></th>\n",
       "      <th></th>\n",
       "    </tr>\n",
       "  </thead>\n",
       "  <tbody>\n",
       "    <tr>\n",
       "      <th>400818dc-63af-4a26-80c5-906f98e1f8ab</th>\n",
       "      <td>1989</td>\n",
       "      <td>ballooning stability analysis of jet hmode dis...</td>\n",
       "      <td>previous studies of the stability of a large a...</td>\n",
       "      <td>proceedings 16th european conference on contr...</td>\n",
       "      <td>ballooning stability analysis of jet hmode dis...</td>\n",
       "      <td>[ballooning, stability, analysis, jet, hmode, ...</td>\n",
       "      <td>[european_conference]</td>\n",
       "      <td>[]</td>\n",
       "      <td>[ballooning, stability, analysis, jet, hmode, ...</td>\n",
       "      <td>[(0, 3), (1, 1), (2, 1), (3, 1), (4, 2), (5, 2...</td>\n",
       "    </tr>\n",
       "  </tbody>\n",
       "</table>\n",
       "</div>"
      ],
      "text/plain": [
       "                                      year  \\\n",
       "pub_id                                       \n",
       "400818dc-63af-4a26-80c5-906f98e1f8ab  1989   \n",
       "\n",
       "                                                                                  title  \\\n",
       "pub_id                                                                                    \n",
       "400818dc-63af-4a26-80c5-906f98e1f8ab  ballooning stability analysis of jet hmode dis...   \n",
       "\n",
       "                                                                               abstract  \\\n",
       "pub_id                                                                                    \n",
       "400818dc-63af-4a26-80c5-906f98e1f8ab  previous studies of the stability of a large a...   \n",
       "\n",
       "                                                                           publications  \\\n",
       "pub_id                                                                                    \n",
       "400818dc-63af-4a26-80c5-906f98e1f8ab   proceedings 16th european conference on contr...   \n",
       "\n",
       "                                                                                summary  \\\n",
       "pub_id                                                                                    \n",
       "400818dc-63af-4a26-80c5-906f98e1f8ab  ballooning stability analysis of jet hmode dis...   \n",
       "\n",
       "                                                                           summary_toks  \\\n",
       "pub_id                                                                                    \n",
       "400818dc-63af-4a26-80c5-906f98e1f8ab  [ballooning, stability, analysis, jet, hmode, ...   \n",
       "\n",
       "                                                bigram_toks trigram_toks  \\\n",
       "pub_id                                                                     \n",
       "400818dc-63af-4a26-80c5-906f98e1f8ab  [european_conference]           []   \n",
       "\n",
       "                                                                          combined_toks  \\\n",
       "pub_id                                                                                    \n",
       "400818dc-63af-4a26-80c5-906f98e1f8ab  [ballooning, stability, analysis, jet, hmode, ...   \n",
       "\n",
       "                                                                                    bow  \n",
       "pub_id                                                                                   \n",
       "400818dc-63af-4a26-80c5-906f98e1f8ab  [(0, 3), (1, 1), (2, 1), (3, 1), (4, 2), (5, 2...  "
      ]
     },
     "execution_count": 7,
     "metadata": {},
     "output_type": "execute_result"
    }
   ],
   "source": [
    "df.head(1)"
   ]
  },
  {
   "cell_type": "code",
   "execution_count": 11,
   "metadata": {},
   "outputs": [],
   "source": [
    "combined_toks = list(df.combined_toks)"
   ]
  },
  {
   "cell_type": "code",
   "execution_count": 15,
   "metadata": {},
   "outputs": [],
   "source": [
    "with open('../data/fullpub/combined_toks.txt', 'w') as f:\n",
    "    for pub in combined_toks:\n",
    "        if len(pub):\n",
    "            out = \" \".join(pub)\n",
    "            f.write(out + \"\\n\")\n",
    "        else:\n",
    "            pass"
   ]
  },
  {
   "cell_type": "code",
   "execution_count": 14,
   "metadata": {
    "ExecuteTime": {
     "end_time": "2018-01-21T01:08:09.789817Z",
     "start_time": "2018-01-21T01:08:09.740083Z"
    }
   },
   "outputs": [],
   "source": [
    "df.drop(\n",
    "    labels=[\n",
    "        'year', 'title', 'abstract', 'publications', 'summary', 'summary_toks',\n",
    "        'bigram_toks', 'trigram_toks', 'combined_toks'\n",
    "    ],\n",
    "    axis=1,\n",
    "    inplace=True)"
   ]
  },
  {
   "cell_type": "code",
   "execution_count": 32,
   "metadata": {
    "ExecuteTime": {
     "end_time": "2018-01-21T01:15:50.524228Z",
     "start_time": "2018-01-21T01:15:50.521167Z"
    }
   },
   "outputs": [
    {
     "name": "stdout",
     "output_type": "stream",
     "text": [
      "[(2, 1), (3, 1), (7, 3), (39, 1), (70, 7), (73, 3), (74, 2), (127, 1), (145, 1), (147, 1), (168, 1), (186, 1), (190, 1), (222, 1), (289, 1), (304, 1), (306, 1), (365, 1), (366, 1), (432, 1), (436, 1), (442, 1), (446, 1), (459, 2), (462, 2), (518, 1), (568, 1), (723, 1), (753, 2), (817, 1), (822, 1), (874, 1), (898, 1), (939, 1), (953, 1), (955, 1), (998, 1), (1007, 2), (1028, 1), (1202, 2), (1204, 5), (1244, 1), (1246, 2), (1249, 6), (1253, 1), (1270, 1), (1381, 3), (1406, 1), (1432, 1), (1435, 1), (1452, 1), (1618, 1), (1756, 2), (2251, 1), (2295, 2), (2329, 1), (2342, 1), (2390, 3), (2429, 1), (2568, 1), (2881, 1), (2950, 2), (3002, 1), (3155, 1), (3185, 1), (3408, 1), (4140, 1), (4143, 1), (4145, 1), (4153, 1), (4400, 1), (4406, 1), (4702, 3), (5884, 1), (5885, 3)]\n"
     ]
    }
   ],
   "source": [
    "bow = sorted(pub[1].bow)\n",
    "print(bow)"
   ]
  },
  {
   "cell_type": "code",
   "execution_count": 52,
   "metadata": {
    "ExecuteTime": {
     "end_time": "2018-01-21T01:27:59.613750Z",
     "start_time": "2018-01-21T01:26:36.068564Z"
    }
   },
   "outputs": [],
   "source": [
    "with open('../data/fullpub/doc_to_sparse.txt', 'w') as f:\n",
    "    for pub in df.iterrows():\n",
    "        output = \"\"\n",
    "        bow = sorted(pub[1].bow)\n",
    "        output += str(len(bow)) + \" \"\n",
    "        bow = dict(bow)  # convert to BOW for quick dictionary access\n",
    "        toks_id = list(bow.keys())\n",
    "        i = 0\n",
    "        while i < num_terms:\n",
    "            if i in toks_id:\n",
    "                output += str(i) + \":\" + str(bow[i]) + \" \"\n",
    "            else:\n",
    "                output += str(i) + \":0 \"\n",
    "            i += 1\n",
    "        f.write(output + \"\\n\")"
   ]
  },
  {
   "cell_type": "markdown",
   "metadata": {},
   "source": [
    "# Create Term Document Matrix (TDM) using gensim"
   ]
  },
  {
   "cell_type": "code",
   "execution_count": 2,
   "metadata": {},
   "outputs": [],
   "source": [
    "import warnings\n",
    "warnings.filterwarnings('ignore')\n",
    "import rpy2"
   ]
  },
  {
   "cell_type": "code",
   "execution_count": 5,
   "metadata": {},
   "outputs": [],
   "source": [
    "%load_ext rpy2.ipython"
   ]
  },
  {
   "cell_type": "code",
   "execution_count": 38,
   "metadata": {},
   "outputs": [
    {
     "data": {
      "text/plain": [
       "array([0], dtype=int32)"
      ]
     },
     "execution_count": 38,
     "metadata": {},
     "output_type": "execute_result"
    }
   ],
   "source": [
    "%R require(tm)\n",
    "%R require(topicmodels)"
   ]
  },
  {
   "cell_type": "code",
   "execution_count": 39,
   "metadata": {},
   "outputs": [],
   "source": [
    "%%R\n",
    "docs <- scan('../data/fullpub/combined_toks.txt',character(), sep='\\n')"
   ]
  },
  {
   "cell_type": "code",
   "execution_count": 45,
   "metadata": {},
   "outputs": [
    {
     "data": {
      "text/plain": [
       "array(['vaulting optimality behavioral brain science'], dtype='<U44')"
      ]
     },
     "execution_count": 45,
     "metadata": {},
     "output_type": "execute_result"
    }
   ],
   "source": [
    "%R docs[10]"
   ]
  },
  {
   "cell_type": "code",
   "execution_count": 13,
   "metadata": {
    "scrolled": true
   },
   "outputs": [],
   "source": [
    "%%R\n",
    "install.packages(\"topicmodels\", \"/home/goweiting/miniconda3/lib/rpy2/\")\n",
    "# devtools::install_github(\"hadley/multidplyr\")"
   ]
  },
  {
   "cell_type": "code",
   "execution_count": null,
   "metadata": {},
   "outputs": [],
   "source": []
  }
 ],
 "metadata": {
  "kernelspec": {
   "display_name": "Python 3 (infnet3)",
   "language": "python",
   "name": "python3"
  },
  "language_info": {
   "codemirror_mode": {
    "name": "ipython",
    "version": 3
   },
   "file_extension": ".py",
   "mimetype": "text/x-python",
   "name": "python",
   "nbconvert_exporter": "python",
   "pygments_lexer": "ipython3",
   "version": "3.6.4"
  },
  "toc": {
   "nav_menu": {},
   "number_sections": true,
   "sideBar": true,
   "skip_h1_title": false,
   "toc_cell": false,
   "toc_position": {},
   "toc_section_display": true,
   "toc_window_display": false
  },
  "varInspector": {
   "cols": {
    "lenName": 16,
    "lenType": 16,
    "lenVar": 40
   },
   "kernels_config": {
    "python": {
     "delete_cmd_postfix": "",
     "delete_cmd_prefix": "del ",
     "library": "var_list.py",
     "varRefreshCmd": "print(var_dic_list())"
    },
    "r": {
     "delete_cmd_postfix": ") ",
     "delete_cmd_prefix": "rm(",
     "library": "var_list.r",
     "varRefreshCmd": "cat(var_dic_list()) "
    }
   },
   "types_to_exclude": [
    "module",
    "function",
    "builtin_function_or_method",
    "instance",
    "_Feature"
   ],
   "window_display": false
  }
 },
 "nbformat": 4,
 "nbformat_minor": 2
}
