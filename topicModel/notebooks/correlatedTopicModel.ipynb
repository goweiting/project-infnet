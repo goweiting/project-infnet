{
 "cells": [
  {
   "cell_type": "markdown",
   "metadata": {},
   "source": [
    "# Correlated Topic Model\n",
    "To create the topic network that exhibit the relationships between topics (multinomial distribution of terms)\n",
    "\n",
    "To create the CTM, we use the ctm-c implementation from blei-lab: https://github.com/blei-lab/ctm-c"
   ]
  },
  {
   "cell_type": "markdown",
   "metadata": {},
   "source": [
    "## Create the mapping for each document\n",
    "As the ctm-c requires the documents to be represented in a sparse vector format:\n",
    "\n",
    "[M] [term_1]:[count_1] [term_2]:[count_2] ...  [term_N]:[count_3]\n",
    "\n",
    "* [M] is the number of unique terms in the document\n",
    "\n",
    "* [term_i] is an integer associated with the i-th term in the\n",
    "  vocabulary.\n",
    "\n",
    "* [count_i] is how many times the i-th term appeared in the document."
   ]
  },
  {
   "cell_type": "code",
   "execution_count": 5,
   "metadata": {
    "ExecuteTime": {
     "end_time": "2018-01-21T16:46:44.550778Z",
     "start_time": "2018-01-21T16:46:44.547943Z"
    }
   },
   "outputs": [],
   "source": [
    "import pandas as pd\n",
    "import pickle as pkl\n",
    "from gensim.corpora import Dictionary\n",
    "from gensim.corpora import BleiCorpus"
   ]
  },
  {
   "cell_type": "code",
   "execution_count": 6,
   "metadata": {
    "ExecuteTime": {
     "end_time": "2018-01-21T16:46:46.022651Z",
     "start_time": "2018-01-21T16:46:45.971456Z"
    }
   },
   "outputs": [],
   "source": [
    "dictionary = Dictionary.load('../data/fullpub/dictionary_fullpub.pkl')"
   ]
  },
  {
   "cell_type": "code",
   "execution_count": 7,
   "metadata": {
    "ExecuteTime": {
     "end_time": "2018-01-21T16:47:07.674857Z",
     "start_time": "2018-01-21T16:47:07.212682Z"
    }
   },
   "outputs": [],
   "source": [
    "corpus = pkl.load(open('../data/fullpub/corpus_fullpub.pkl','rb'))"
   ]
  },
  {
   "cell_type": "code",
   "execution_count": 17,
   "metadata": {
    "ExecuteTime": {
     "end_time": "2018-01-21T16:50:12.579582Z",
     "start_time": "2018-01-21T16:50:12.577269Z"
    }
   },
   "outputs": [],
   "source": [
    "tmp = dictionary[0]\n",
    "id2word = dictionary.id2token"
   ]
  },
  {
   "cell_type": "code",
   "execution_count": 29,
   "metadata": {
    "ExecuteTime": {
     "end_time": "2018-01-21T17:06:17.260671Z",
     "start_time": "2018-01-21T17:06:17.250556Z"
    }
   },
   "outputs": [
    {
     "ename": "TypeError",
     "evalue": "can only concatenate list (not \"dict_keys\") to list",
     "output_type": "error",
     "traceback": [
      "\u001b[0;31m---------------------------------------------------------------------------\u001b[0m",
      "\u001b[0;31mTypeError\u001b[0m                                 Traceback (most recent call last)",
      "\u001b[0;32m<ipython-input-29-9d1decb8802b>\u001b[0m in \u001b[0;36m<module>\u001b[0;34m()\u001b[0m\n\u001b[0;32m----> 1\u001b[0;31m \u001b[0mBleiCorpus\u001b[0m\u001b[0;34m.\u001b[0m\u001b[0mserialize\u001b[0m\u001b[0;34m(\u001b[0m\u001b[0;34m'../data/fullpub/bleicorpus.txt'\u001b[0m\u001b[0;34m,\u001b[0m \u001b[0mcorpus\u001b[0m\u001b[0;34m,\u001b[0m \u001b[0mid2word\u001b[0m\u001b[0;34m=\u001b[0m\u001b[0mid2word\u001b[0m\u001b[0;34m)\u001b[0m\u001b[0;34m\u001b[0m\u001b[0m\n\u001b[0m",
      "\u001b[0;32m~/miniconda3/envs/infnet3/lib/python3.6/site-packages/gensim/corpora/indexedcorpus.py\u001b[0m in \u001b[0;36mserialize\u001b[0;34m(serializer, fname, corpus, id2word, index_fname, progress_cnt, labels, metadata)\u001b[0m\n\u001b[1;32m     91\u001b[0m             \u001b[0mkwargs\u001b[0m\u001b[0;34m[\u001b[0m\u001b[0;34m'labels'\u001b[0m\u001b[0;34m]\u001b[0m \u001b[0;34m=\u001b[0m \u001b[0mlabels\u001b[0m\u001b[0;34m\u001b[0m\u001b[0m\n\u001b[1;32m     92\u001b[0m \u001b[0;34m\u001b[0m\u001b[0m\n\u001b[0;32m---> 93\u001b[0;31m         \u001b[0moffsets\u001b[0m \u001b[0;34m=\u001b[0m \u001b[0mserializer\u001b[0m\u001b[0;34m.\u001b[0m\u001b[0msave_corpus\u001b[0m\u001b[0;34m(\u001b[0m\u001b[0mfname\u001b[0m\u001b[0;34m,\u001b[0m \u001b[0mcorpus\u001b[0m\u001b[0;34m,\u001b[0m \u001b[0mid2word\u001b[0m\u001b[0;34m,\u001b[0m \u001b[0;34m**\u001b[0m\u001b[0mkwargs\u001b[0m\u001b[0;34m)\u001b[0m\u001b[0;34m\u001b[0m\u001b[0m\n\u001b[0m\u001b[1;32m     94\u001b[0m \u001b[0;34m\u001b[0m\u001b[0m\n\u001b[1;32m     95\u001b[0m         \u001b[0;32mif\u001b[0m \u001b[0moffsets\u001b[0m \u001b[0;32mis\u001b[0m \u001b[0;32mNone\u001b[0m\u001b[0;34m:\u001b[0m\u001b[0;34m\u001b[0m\u001b[0m\n",
      "\u001b[0;32m~/miniconda3/envs/infnet3/lib/python3.6/site-packages/gensim/corpora/bleicorpus.py\u001b[0m in \u001b[0;36msave_corpus\u001b[0;34m(fname, corpus, id2word, metadata)\u001b[0m\n\u001b[1;32m    101\u001b[0m             \u001b[0mnum_terms\u001b[0m \u001b[0;34m=\u001b[0m \u001b[0mlen\u001b[0m\u001b[0;34m(\u001b[0m\u001b[0mid2word\u001b[0m\u001b[0;34m)\u001b[0m\u001b[0;34m\u001b[0m\u001b[0m\n\u001b[1;32m    102\u001b[0m         \u001b[0;32melse\u001b[0m\u001b[0;34m:\u001b[0m\u001b[0;34m\u001b[0m\u001b[0m\n\u001b[0;32m--> 103\u001b[0;31m             \u001b[0mnum_terms\u001b[0m \u001b[0;34m=\u001b[0m \u001b[0;36m1\u001b[0m \u001b[0;34m+\u001b[0m \u001b[0mmax\u001b[0m\u001b[0;34m(\u001b[0m\u001b[0;34m[\u001b[0m\u001b[0;34m-\u001b[0m\u001b[0;36m1\u001b[0m\u001b[0;34m]\u001b[0m \u001b[0;34m+\u001b[0m \u001b[0mid2word\u001b[0m\u001b[0;34m.\u001b[0m\u001b[0mkeys\u001b[0m\u001b[0;34m(\u001b[0m\u001b[0;34m)\u001b[0m\u001b[0;34m)\u001b[0m\u001b[0;34m\u001b[0m\u001b[0m\n\u001b[0m\u001b[1;32m    104\u001b[0m \u001b[0;34m\u001b[0m\u001b[0m\n\u001b[1;32m    105\u001b[0m         \u001b[0mlogger\u001b[0m\u001b[0;34m.\u001b[0m\u001b[0minfo\u001b[0m\u001b[0;34m(\u001b[0m\u001b[0;34m\"storing corpus in Blei's LDA-C format into %s\"\u001b[0m\u001b[0;34m,\u001b[0m \u001b[0mfname\u001b[0m\u001b[0;34m)\u001b[0m\u001b[0;34m\u001b[0m\u001b[0m\n",
      "\u001b[0;31mTypeError\u001b[0m: can only concatenate list (not \"dict_keys\") to list"
     ]
    }
   ],
   "source": [
    "BleiCorpus.serialize('../data/fullpub/bleicorpus.txt', corpus, id2word=id2word)"
   ]
  },
  {
   "cell_type": "code",
   "execution_count": 45,
   "metadata": {
    "ExecuteTime": {
     "end_time": "2018-01-21T01:19:12.862165Z",
     "start_time": "2018-01-21T01:19:12.860146Z"
    }
   },
   "outputs": [],
   "source": [
    "num_terms = len(dictionary.values())"
   ]
  },
  {
   "cell_type": "code",
   "execution_count": 7,
   "metadata": {
    "ExecuteTime": {
     "end_time": "2018-01-21T01:06:00.555314Z",
     "start_time": "2018-01-21T01:05:59.729326Z"
    }
   },
   "outputs": [],
   "source": [
    "df = pd.read_pickle('../data/fullpub/pub_toks_wBOW_fullpub.pkl')"
   ]
  },
  {
   "cell_type": "code",
   "execution_count": 12,
   "metadata": {
    "ExecuteTime": {
     "end_time": "2018-01-21T01:07:19.641998Z",
     "start_time": "2018-01-21T01:07:19.619091Z"
    }
   },
   "outputs": [
    {
     "data": {
      "text/html": [
       "<div>\n",
       "<style scoped>\n",
       "    .dataframe tbody tr th:only-of-type {\n",
       "        vertical-align: middle;\n",
       "    }\n",
       "\n",
       "    .dataframe tbody tr th {\n",
       "        vertical-align: top;\n",
       "    }\n",
       "\n",
       "    .dataframe thead th {\n",
       "        text-align: right;\n",
       "    }\n",
       "</style>\n",
       "<table border=\"1\" class=\"dataframe\">\n",
       "  <thead>\n",
       "    <tr style=\"text-align: right;\">\n",
       "      <th></th>\n",
       "      <th>year</th>\n",
       "      <th>title</th>\n",
       "      <th>abstract</th>\n",
       "      <th>publications</th>\n",
       "      <th>summary</th>\n",
       "      <th>summary_toks</th>\n",
       "      <th>bigram_toks</th>\n",
       "      <th>trigram_toks</th>\n",
       "      <th>combined_toks</th>\n",
       "      <th>bow</th>\n",
       "    </tr>\n",
       "    <tr>\n",
       "      <th>pub_id</th>\n",
       "      <th></th>\n",
       "      <th></th>\n",
       "      <th></th>\n",
       "      <th></th>\n",
       "      <th></th>\n",
       "      <th></th>\n",
       "      <th></th>\n",
       "      <th></th>\n",
       "      <th></th>\n",
       "      <th></th>\n",
       "    </tr>\n",
       "  </thead>\n",
       "  <tbody>\n",
       "    <tr>\n",
       "      <th>400818dc-63af-4a26-80c5-906f98e1f8ab</th>\n",
       "      <td>1989</td>\n",
       "      <td>ballooning stability analysis of jet hmode dis...</td>\n",
       "      <td>previous studies of the stability of a large a...</td>\n",
       "      <td>proceedings 16th european conference on contr...</td>\n",
       "      <td>ballooning stability analysis of jet hmode dis...</td>\n",
       "      <td>[ballooning, stability, analysis, jet, hmode, ...</td>\n",
       "      <td>[european_conference]</td>\n",
       "      <td>[]</td>\n",
       "      <td>[ballooning, stability, analysis, jet, hmode, ...</td>\n",
       "      <td>[(0, 3), (1, 1), (2, 1), (3, 1), (4, 2), (5, 2...</td>\n",
       "    </tr>\n",
       "  </tbody>\n",
       "</table>\n",
       "</div>"
      ],
      "text/plain": [
       "                                      year  \\\n",
       "pub_id                                       \n",
       "400818dc-63af-4a26-80c5-906f98e1f8ab  1989   \n",
       "\n",
       "                                                                                  title  \\\n",
       "pub_id                                                                                    \n",
       "400818dc-63af-4a26-80c5-906f98e1f8ab  ballooning stability analysis of jet hmode dis...   \n",
       "\n",
       "                                                                               abstract  \\\n",
       "pub_id                                                                                    \n",
       "400818dc-63af-4a26-80c5-906f98e1f8ab  previous studies of the stability of a large a...   \n",
       "\n",
       "                                                                           publications  \\\n",
       "pub_id                                                                                    \n",
       "400818dc-63af-4a26-80c5-906f98e1f8ab   proceedings 16th european conference on contr...   \n",
       "\n",
       "                                                                                summary  \\\n",
       "pub_id                                                                                    \n",
       "400818dc-63af-4a26-80c5-906f98e1f8ab  ballooning stability analysis of jet hmode dis...   \n",
       "\n",
       "                                                                           summary_toks  \\\n",
       "pub_id                                                                                    \n",
       "400818dc-63af-4a26-80c5-906f98e1f8ab  [ballooning, stability, analysis, jet, hmode, ...   \n",
       "\n",
       "                                                bigram_toks trigram_toks  \\\n",
       "pub_id                                                                     \n",
       "400818dc-63af-4a26-80c5-906f98e1f8ab  [european_conference]           []   \n",
       "\n",
       "                                                                          combined_toks  \\\n",
       "pub_id                                                                                    \n",
       "400818dc-63af-4a26-80c5-906f98e1f8ab  [ballooning, stability, analysis, jet, hmode, ...   \n",
       "\n",
       "                                                                                    bow  \n",
       "pub_id                                                                                   \n",
       "400818dc-63af-4a26-80c5-906f98e1f8ab  [(0, 3), (1, 1), (2, 1), (3, 1), (4, 2), (5, 2...  "
      ]
     },
     "execution_count": 12,
     "metadata": {},
     "output_type": "execute_result"
    }
   ],
   "source": [
    "df.head(1)"
   ]
  },
  {
   "cell_type": "code",
   "execution_count": 14,
   "metadata": {
    "ExecuteTime": {
     "end_time": "2018-01-21T01:08:09.789817Z",
     "start_time": "2018-01-21T01:08:09.740083Z"
    }
   },
   "outputs": [],
   "source": [
    "df.drop(\n",
    "    labels=[\n",
    "        'year', 'title', 'abstract', 'publications', 'summary', 'summary_toks',\n",
    "        'bigram_toks', 'trigram_toks', 'combined_toks'\n",
    "    ],\n",
    "    axis=1,\n",
    "    inplace=True)"
   ]
  },
  {
   "cell_type": "code",
   "execution_count": 32,
   "metadata": {
    "ExecuteTime": {
     "end_time": "2018-01-21T01:15:50.524228Z",
     "start_time": "2018-01-21T01:15:50.521167Z"
    }
   },
   "outputs": [
    {
     "name": "stdout",
     "output_type": "stream",
     "text": [
      "[(2, 1), (3, 1), (7, 3), (39, 1), (70, 7), (73, 3), (74, 2), (127, 1), (145, 1), (147, 1), (168, 1), (186, 1), (190, 1), (222, 1), (289, 1), (304, 1), (306, 1), (365, 1), (366, 1), (432, 1), (436, 1), (442, 1), (446, 1), (459, 2), (462, 2), (518, 1), (568, 1), (723, 1), (753, 2), (817, 1), (822, 1), (874, 1), (898, 1), (939, 1), (953, 1), (955, 1), (998, 1), (1007, 2), (1028, 1), (1202, 2), (1204, 5), (1244, 1), (1246, 2), (1249, 6), (1253, 1), (1270, 1), (1381, 3), (1406, 1), (1432, 1), (1435, 1), (1452, 1), (1618, 1), (1756, 2), (2251, 1), (2295, 2), (2329, 1), (2342, 1), (2390, 3), (2429, 1), (2568, 1), (2881, 1), (2950, 2), (3002, 1), (3155, 1), (3185, 1), (3408, 1), (4140, 1), (4143, 1), (4145, 1), (4153, 1), (4400, 1), (4406, 1), (4702, 3), (5884, 1), (5885, 3)]\n"
     ]
    }
   ],
   "source": [
    "bow = sorted(pub[1].bow)\n",
    "print(bow)"
   ]
  },
  {
   "cell_type": "code",
   "execution_count": 52,
   "metadata": {
    "ExecuteTime": {
     "end_time": "2018-01-21T01:27:59.613750Z",
     "start_time": "2018-01-21T01:26:36.068564Z"
    }
   },
   "outputs": [],
   "source": [
    "with open('../data/fullpub/doc_to_sparse.txt', 'w') as f:\n",
    "    for pub in df.iterrows():\n",
    "        output = \"\"\n",
    "        bow = sorted(pub[1].bow)\n",
    "        output += str(len(bow)) + \" \"\n",
    "        bow = dict(bow)  # convert to BOW for quick dictionary access\n",
    "        toks_id = list(bow.keys())\n",
    "        i = 0\n",
    "        while i < num_terms:\n",
    "            if i in toks_id:\n",
    "                output += str(i) + \":\" + str(bow[i]) + \" \"\n",
    "            else:\n",
    "                output += str(i) + \":0 \"\n",
    "            i += 1\n",
    "        f.write(output + \"\\n\")"
   ]
  },
  {
   "cell_type": "markdown",
   "metadata": {},
   "source": [
    "# Create Term Document Matrix (TDM) using gensim"
   ]
  },
  {
   "cell_type": "code",
   "execution_count": null,
   "metadata": {},
   "outputs": [],
   "source": []
  },
  {
   "cell_type": "markdown",
   "metadata": {},
   "source": [
    "# Installing R kernels on conda then jupyter"
   ]
  },
  {
   "cell_type": "code",
   "execution_count": 2,
   "metadata": {
    "ExecuteTime": {
     "end_time": "2018-01-21T15:18:36.068849Z",
     "start_time": "2018-01-21T15:18:05.819155Z"
    }
   },
   "outputs": [
    {
     "name": "stdout",
     "output_type": "stream",
     "text": [
      "Fetching package metadata ...........\n",
      "Solving package specifications: .\n",
      "\n",
      "Package plan for installation in environment /Users/weiting/miniconda3/envs/infnet3:\n",
      "\n",
      "The following NEW packages will be INSTALLED:\n",
      "\n",
      "    cairo:          1.14.10-h913ea44_6     \n",
      "    curl:           7.55.1-h2e228d0_4      \n",
      "    fontconfig:     2.12.4-hffb9db1_2      \n",
      "    graphite2:      1.3.10-h233cf8b_0      \n",
      "    gsl:            2.2.1-h002c638_3       \n",
      "    harfbuzz:       1.5.0-h6db888e_0       \n",
      "    krb5:           1.14.2-h9a779f2_6      \n",
      "    libssh2:        1.8.0-h9feafcd_3       \n",
      "    libtiff:        4.0.9-h0dac147_0       \n",
      "    llvm-openmp:    4.0.1-hda82c8b_0       \n",
      "    nbpresent:      3.0.2-py36hef4c988_1   \n",
      "    pango:          1.40.11-h22f5747_0     \n",
      "    pixman:         0.34.0-hca0a616_3      \n",
      "    r-assertthat:   0.2.0-r342hacfac53_0   \n",
      "    r-backports:    1.1.1-r342h894203a_0   \n",
      "    r-base:         3.4.2-hc151561_0       \n",
      "    r-base64enc:    0.1_3-r342h0880998_4   \n",
      "    r-bh:           1.65.0_1-r342hc3f23d0_0\n",
      "    r-bindr:        0.1-r342hb4d41c9_0     \n",
      "    r-bindrcpp:     0.2-r342h94b3c25_0     \n",
      "    r-bitops:       1.0_6-r342he7499e7_4   \n",
      "    r-boot:         1.3_20-r342hfe7f006_0  \n",
      "    r-broom:        0.4.2-r342hfe0d134_0   \n",
      "    r-caret:        6.0_77-r342h513a81f_0  \n",
      "    r-catools:      1.17.1-r342hb039934_4  \n",
      "    r-cellranger:   1.1.0-r342h50a9fb7_0   \n",
      "    r-class:        7.3_14-r342h43a4a0f_4  \n",
      "    r-cluster:      2.0.6-r342h26ab8c6_0   \n",
      "    r-codetools:    0.2_15-r342h7db7eef_0  \n",
      "    r-colorspace:   1.3_2-r342h18bddb6_0   \n",
      "    r-crayon:       1.3.4-r342hdefe7e4_0   \n",
      "    r-curl:         3.0-r342ha80850a_0     \n",
      "    r-cvst:         0.2_1-r342hce93a4b_0   \n",
      "    r-data.table:   1.10.4_1-r342he1ac18a_0\n",
      "    r-dbi:          0.7-r342h6aefa47_0     \n",
      "    r-ddalpha:      1.3.1-r342h4276367_0   \n",
      "    r-deoptimr:     1.0_8-r342h88b17ca_0   \n",
      "    r-dichromat:    2.0_0-r342hcb53b06_4   \n",
      "    r-digest:       0.6.12-r342h7ffa501_0  \n",
      "    r-dimred:       0.1.0-r342hcdfbb48_0   \n",
      "    r-dplyr:        0.7.4-r342hd462e57_0   \n",
      "    r-drr:          0.0.2-r342h1687f97_0   \n",
      "    r-essentials:   1.7.0-r342h8f48fb2_0   \n",
      "    r-evaluate:     0.10.1-r342h084298f_0  \n",
      "    r-forcats:      0.2.0-r342hfffa16c_0   \n",
      "    r-foreach:      1.4.3-r342he26c63b_4   \n",
      "    r-foreign:      0.8_69-r342hd19c61e_0  \n",
      "    r-formatr:      1.5-r342h8f6a739_0     \n",
      "    r-ggplot2:      2.2.1-r342hab9d682_0   \n",
      "    r-gistr:        0.4.0-r342h701b2b4_0   \n",
      "    r-glmnet:       2.0_13-r342h4f2bcf4_0  \n",
      "    r-glue:         1.1.1-r342hfa53b3f_0   \n",
      "    r-gower:        0.1.2-r342h52ab46c_0   \n",
      "    r-gtable:       0.2.0-r342h50414d9_0   \n",
      "    r-haven:        1.1.0-r342h706d249_0   \n",
      "    r-hexbin:       1.27.1-r342h5ebf162_4  \n",
      "    r-highr:        0.6-r342h042980c_0     \n",
      "    r-hms:          0.3-r342hdcc9ba2_0     \n",
      "    r-htmltools:    0.3.6-r342h6918481_0   \n",
      "    r-htmlwidgets:  0.9-r342h3fbdbc0_0     \n",
      "    r-httpuv:       1.3.5-r342hf739786_0   \n",
      "    r-httr:         1.3.1-r342h7338272_0   \n",
      "    r-ipred:        0.9_6-r342hca986ca_0   \n",
      "    r-irdisplay:    0.4.4-r342h7974c32_0   \n",
      "    r-irkernel:     0.8.9-r342hb51cc2a_0   \n",
      "    r-iterators:    1.0.8-r342h797f5cf_4   \n",
      "    r-jsonlite:     1.5-r342h0df1ae0_0     \n",
      "    r-kernlab:      0.9_25-r342h16d16b8_0  \n",
      "    r-kernsmooth:   2.23_15-r342hf8f9fa8_4 \n",
      "    r-knitr:        1.17-r342h398035c_0    \n",
      "    r-labeling:     0.3-r342h3f609a7_4     \n",
      "    r-lattice:      0.20_35-r342he33934a_0 \n",
      "    r-lava:         1.5.1-r342h38a1d13_0   \n",
      "    r-lazyeval:     0.2.0-r342hda2787d_0   \n",
      "    r-lubridate:    1.6.0-r342h21d6fc3_0   \n",
      "    r-magrittr:     1.5-r342hc800aed_4     \n",
      "    r-maps:         3.2.0-r342hfd4408e_0   \n",
      "    r-markdown:     0.8-r342hfbdeedd_0     \n",
      "    r-mass:         7.3_47-r342h998d679_0  \n",
      "    r-matrix:       1.2_11-r342hb831790_0  \n",
      "    r-mgcv:         1.8_22-r342hf92f93b_0  \n",
      "    r-mime:         0.5-r342h0f88ab8_0     \n",
      "    r-mnormt:       1.5_5-r342h42fb15d_0   \n",
      "    r-modelmetrics: 1.1.0-r342hab8440a_0   \n",
      "    r-modelr:       0.1.1-r342h8b7c8fd_0   \n",
      "    r-munsell:      0.4.3-r342h51b9f01_0   \n",
      "    r-nlme:         3.1_131-r342hbc0088b_0 \n",
      "    r-nnet:         7.3_12-r342hf39805f_0  \n",
      "    r-numderiv:     2016.8_1-r342ha7fd6f4_0\n",
      "    r-openssl:      0.9.7-r342hf1585dd_0   \n",
      "    r-pbdzmq:       0.2_6-r342h9ee0924_0   \n",
      "    r-pkgconfig:    2.0.1-r342h037cecb_0   \n",
      "    r-plogr:        0.1_1-r342he1be899_0   \n",
      "    r-plyr:         1.8.4-r342h66d2667_0   \n",
      "    r-prodlim:      1.6.1-r342h1e7dc4e_0   \n",
      "    r-pryr:         0.1.2-r342ha062742_0   \n",
      "    r-psych:        1.7.8-r342he3dbd94_0   \n",
      "    r-purrr:        0.2.3-r342h7646bf1_0   \n",
      "    r-quantmod:     0.4_11-r342ha084b29_0  \n",
      "    r-r6:           2.2.2-r342hd083555_0   \n",
      "    r-randomforest: 4.6_12-r342h0f92a3f_4  \n",
      "    r-rbokeh:       0.5.0-r342h999a230_0   \n",
      "    r-rcolorbrewer: 1.1_2-r342h009296c_0   \n",
      "    r-rcpp:         0.12.13-r342hd23d99a_0 \n",
      "    r-rcpproll:     0.2.2-r342h72fe326_0   \n",
      "    r-readr:        1.1.1-r342h26b7cb6_0   \n",
      "    r-readxl:       1.0.0-r342h7fee92c_0   \n",
      "    r-recipes:      0.1.0-r342h9fa1523_0   \n",
      "    r-recommended:  3.4.2-h1751db4_0       \n",
      "    r-rematch:      1.0.1-r342he4866fc_0   \n",
      "    r-repr:         0.12.0-r342hbf08d7a_0  \n",
      "    r-reshape2:     1.4.2-r342h4e0c23c_0   \n",
      "    r-rlang:        0.1.2-r342h6f7de11_0   \n",
      "    r-rmarkdown:    1.6-r342hccf1f8e_2     \n",
      "    r-robustbase:   0.92_7-r342h0705e89_0  \n",
      "    r-rpart:        4.1_11-r342h056d3ea_0  \n",
      "    r-rprojroot:    1.2-r342h961df13_0     \n",
      "    r-rvest:        0.3.2-r342h498b3d2_0   \n",
      "    r-scales:       0.5.0-r342h4ec2787_0   \n",
      "    r-selectr:      0.3_1-r342h1005dde_0   \n",
      "    r-sfsmisc:      1.1_1-r342hd831c0a_0   \n",
      "    r-shiny:        1.0.5-r342hb27b129_0   \n",
      "    r-sourcetools:  0.1.6-r342h35ff172_0   \n",
      "    r-spatial:      7.3_11-r342h4b9b681_4  \n",
      "    r-stringi:      1.1.5-r342ha83ea67_0   \n",
      "    r-stringr:      1.2.0-r342h61359ef_0   \n",
      "    r-survival:     2.41_3-r342h7e0d132_0  \n",
      "    r-tibble:       1.3.4-r342h9aabc0a_0   \n",
      "    r-tidyr:        0.7.1-r342h953b3d9_0   \n",
      "    r-tidyselect:   0.2.2-r342h4fcf255_0   \n",
      "    r-tidyverse:    1.1.1-r342hf375f76_0   \n",
      "    r-timedate:     3012.100-r342h8f8ad6e_4\n",
      "    r-ttr:          0.23_2-r342h9ffbca2_0  \n",
      "    r-uuid:         0.1_2-r342h22fb745_4   \n",
      "    r-viridislite:  0.2.0-r342h93fb38b_0   \n",
      "    r-withr:        2.0.0-r342hd7b5462_0   \n",
      "    r-xml2:         1.1.1-r342h289a617_0   \n",
      "    r-xtable:       1.8_2-r342hb9d8108_0   \n",
      "    r-xts:          0.10_0-r342h37a3a43_4  \n",
      "    r-yaml:         2.1.14-r342he3890bd_0  \n",
      "    r-zoo:          1.8_0-r342hf4683db_0   \n",
      "\n",
      "Proceed ([y]/n)? ^C\n"
     ]
    }
   ],
   "source": [
    "!conda install r-essentials "
   ]
  },
  {
   "cell_type": "code",
   "execution_count": 3,
   "metadata": {
    "ExecuteTime": {
     "end_time": "2018-01-21T15:18:36.193769Z",
     "start_time": "2018-01-21T15:18:36.079356Z"
    },
    "scrolled": true
   },
   "outputs": [
    {
     "name": "stdout",
     "output_type": "stream",
     "text": [
      "/bin/sh: y: command not found\r\n"
     ]
    }
   ],
   "source": [
    "!y"
   ]
  },
  {
   "cell_type": "code",
   "execution_count": null,
   "metadata": {},
   "outputs": [],
   "source": []
  }
 ],
 "metadata": {
  "kernelspec": {
   "display_name": "Python [conda env:infnet3]",
   "language": "python",
   "name": "conda-env-infnet3-py"
  },
  "language_info": {
   "codemirror_mode": {
    "name": "ipython",
    "version": 3
   },
   "file_extension": ".py",
   "mimetype": "text/x-python",
   "name": "python",
   "nbconvert_exporter": "python",
   "pygments_lexer": "ipython3",
   "version": "3.6.4"
  },
  "toc": {
   "nav_menu": {},
   "number_sections": true,
   "sideBar": true,
   "skip_h1_title": false,
   "title_cell": "Table of Contents",
   "title_sidebar": "Contents",
   "toc_cell": false,
   "toc_position": {},
   "toc_section_display": true,
   "toc_window_display": false
  },
  "varInspector": {
   "cols": {
    "lenName": 16,
    "lenType": 16,
    "lenVar": 40
   },
   "kernels_config": {
    "python": {
     "delete_cmd_postfix": "",
     "delete_cmd_prefix": "del ",
     "library": "var_list.py",
     "varRefreshCmd": "print(var_dic_list())"
    },
    "r": {
     "delete_cmd_postfix": ") ",
     "delete_cmd_prefix": "rm(",
     "library": "var_list.r",
     "varRefreshCmd": "cat(var_dic_list()) "
    }
   },
   "types_to_exclude": [
    "module",
    "function",
    "builtin_function_or_method",
    "instance",
    "_Feature"
   ],
   "window_display": false
  }
 },
 "nbformat": 4,
 "nbformat_minor": 2
}
