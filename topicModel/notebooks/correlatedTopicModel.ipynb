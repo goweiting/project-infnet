{
 "cells": [
  {
   "cell_type": "markdown",
   "metadata": {},
   "source": [
    "# Correlated Topic Model\n",
    "To create the topic network that exhibit the relationships between topics (multinomial distribution of terms)\n",
    "\n",
    "To create the CTM, we use the ctm-c implementation from blei-lab: https://github.com/blei-lab/ctm-c"
   ]
  },
  {
   "cell_type": "markdown",
   "metadata": {},
   "source": [
    "## Create the mapping for each document\n",
    "As the ctm-c requires the documents to be represented in a sparse vector format:\n",
    "\n",
    "[M] [term_1]:[count_1] [term_2]:[count_2] ...  [term_N]:[count_3]\n",
    "\n",
    "* [M] is the number of unique terms in the document\n",
    "\n",
    "* [term_i] is an integer associated with the i-th term in the\n",
    "  vocabulary.\n",
    "\n",
    "* [count_i] is how many times the i-th term appeared in the document."
   ]
  },
  {
   "cell_type": "code",
   "execution_count": 2,
   "metadata": {
    "ExecuteTime": {
     "end_time": "2018-01-23T12:16:09.887049Z",
     "start_time": "2018-01-23T12:15:12.267217Z"
    }
   },
   "outputs": [],
   "source": [
    "import pandas as pd\n",
    "import pickle as pkl\n",
    "from gensim.corpora import Dictionary\n",
    "from gensim.corpora import BleiCorpus"
   ]
  },
  {
   "cell_type": "code",
   "execution_count": 2,
   "metadata": {
    "ExecuteTime": {
     "end_time": "2018-01-21T16:46:46.022651Z",
     "start_time": "2018-01-21T16:46:45.971456Z"
    }
   },
   "outputs": [],
   "source": [
    "dictionary = Dictionary.load('../data/fullpub/dictionary_fullpub.pkl')"
   ]
  },
  {
   "cell_type": "code",
   "execution_count": 3,
   "metadata": {
    "ExecuteTime": {
     "end_time": "2018-01-21T16:47:07.674857Z",
     "start_time": "2018-01-21T16:47:07.212682Z"
    }
   },
   "outputs": [],
   "source": [
    "corpus = pkl.load(open('../data/fullpub/corpus_fullpub.pkl','rb'))"
   ]
  },
  {
   "cell_type": "code",
   "execution_count": 5,
   "metadata": {
    "ExecuteTime": {
     "end_time": "2018-01-21T17:06:17.260671Z",
     "start_time": "2018-01-21T17:06:17.250556Z"
    }
   },
   "outputs": [],
   "source": [
    "BleiCorpus.serialize('../data/fullpub/bleicorpus.txt', corpus, id2word=dictionary)"
   ]
  },
  {
   "cell_type": "code",
   "execution_count": 6,
   "metadata": {
    "ExecuteTime": {
     "end_time": "2018-01-21T01:06:00.555314Z",
     "start_time": "2018-01-21T01:05:59.729326Z"
    }
   },
   "outputs": [],
   "source": [
    "df = pd.read_pickle('../data/fullpub/pub_toks_wBOW_fullpub.pkl')"
   ]
  },
  {
   "cell_type": "code",
   "execution_count": 7,
   "metadata": {
    "ExecuteTime": {
     "end_time": "2018-01-21T01:07:19.641998Z",
     "start_time": "2018-01-21T01:07:19.619091Z"
    }
   },
   "outputs": [
    {
     "data": {
      "text/html": [
       "<div>\n",
       "<style scoped>\n",
       "    .dataframe tbody tr th:only-of-type {\n",
       "        vertical-align: middle;\n",
       "    }\n",
       "\n",
       "    .dataframe tbody tr th {\n",
       "        vertical-align: top;\n",
       "    }\n",
       "\n",
       "    .dataframe thead th {\n",
       "        text-align: right;\n",
       "    }\n",
       "</style>\n",
       "<table border=\"1\" class=\"dataframe\">\n",
       "  <thead>\n",
       "    <tr style=\"text-align: right;\">\n",
       "      <th></th>\n",
       "      <th>year</th>\n",
       "      <th>title</th>\n",
       "      <th>abstract</th>\n",
       "      <th>publications</th>\n",
       "      <th>summary</th>\n",
       "      <th>summary_toks</th>\n",
       "      <th>bigram_toks</th>\n",
       "      <th>trigram_toks</th>\n",
       "      <th>combined_toks</th>\n",
       "      <th>bow</th>\n",
       "    </tr>\n",
       "    <tr>\n",
       "      <th>pub_id</th>\n",
       "      <th></th>\n",
       "      <th></th>\n",
       "      <th></th>\n",
       "      <th></th>\n",
       "      <th></th>\n",
       "      <th></th>\n",
       "      <th></th>\n",
       "      <th></th>\n",
       "      <th></th>\n",
       "      <th></th>\n",
       "    </tr>\n",
       "  </thead>\n",
       "  <tbody>\n",
       "    <tr>\n",
       "      <th>400818dc-63af-4a26-80c5-906f98e1f8ab</th>\n",
       "      <td>1989</td>\n",
       "      <td>ballooning stability analysis of jet hmode dis...</td>\n",
       "      <td>previous studies of the stability of a large a...</td>\n",
       "      <td>proceedings 16th european conference on contr...</td>\n",
       "      <td>ballooning stability analysis of jet hmode dis...</td>\n",
       "      <td>[ballooning, stability, analysis, jet, hmode, ...</td>\n",
       "      <td>[european_conference]</td>\n",
       "      <td>[]</td>\n",
       "      <td>[ballooning, stability, analysis, jet, hmode, ...</td>\n",
       "      <td>[(0, 3), (1, 1), (2, 1), (3, 1), (4, 2), (5, 2...</td>\n",
       "    </tr>\n",
       "  </tbody>\n",
       "</table>\n",
       "</div>"
      ],
      "text/plain": [
       "                                      year  \\\n",
       "pub_id                                       \n",
       "400818dc-63af-4a26-80c5-906f98e1f8ab  1989   \n",
       "\n",
       "                                                                                  title  \\\n",
       "pub_id                                                                                    \n",
       "400818dc-63af-4a26-80c5-906f98e1f8ab  ballooning stability analysis of jet hmode dis...   \n",
       "\n",
       "                                                                               abstract  \\\n",
       "pub_id                                                                                    \n",
       "400818dc-63af-4a26-80c5-906f98e1f8ab  previous studies of the stability of a large a...   \n",
       "\n",
       "                                                                           publications  \\\n",
       "pub_id                                                                                    \n",
       "400818dc-63af-4a26-80c5-906f98e1f8ab   proceedings 16th european conference on contr...   \n",
       "\n",
       "                                                                                summary  \\\n",
       "pub_id                                                                                    \n",
       "400818dc-63af-4a26-80c5-906f98e1f8ab  ballooning stability analysis of jet hmode dis...   \n",
       "\n",
       "                                                                           summary_toks  \\\n",
       "pub_id                                                                                    \n",
       "400818dc-63af-4a26-80c5-906f98e1f8ab  [ballooning, stability, analysis, jet, hmode, ...   \n",
       "\n",
       "                                                bigram_toks trigram_toks  \\\n",
       "pub_id                                                                     \n",
       "400818dc-63af-4a26-80c5-906f98e1f8ab  [european_conference]           []   \n",
       "\n",
       "                                                                          combined_toks  \\\n",
       "pub_id                                                                                    \n",
       "400818dc-63af-4a26-80c5-906f98e1f8ab  [ballooning, stability, analysis, jet, hmode, ...   \n",
       "\n",
       "                                                                                    bow  \n",
       "pub_id                                                                                   \n",
       "400818dc-63af-4a26-80c5-906f98e1f8ab  [(0, 3), (1, 1), (2, 1), (3, 1), (4, 2), (5, 2...  "
      ]
     },
     "execution_count": 7,
     "metadata": {},
     "output_type": "execute_result"
    }
   ],
   "source": [
    "df.head(1)"
   ]
  },
  {
   "cell_type": "code",
   "execution_count": 11,
   "metadata": {},
   "outputs": [],
   "source": [
    "combined_toks = list(df.combined_toks)"
   ]
  },
  {
   "cell_type": "code",
   "execution_count": 15,
   "metadata": {},
   "outputs": [],
   "source": [
    "with open('../data/fullpub/combined_toks.txt', 'w') as f:\n",
    "    for pub in combined_toks:\n",
    "        if len(pub):\n",
    "            out = \" \".join(pub)\n",
    "            f.write(out + \"\\n\")\n",
    "        else:\n",
    "            pass"
   ]
  },
  {
   "cell_type": "code",
   "execution_count": 14,
   "metadata": {
    "ExecuteTime": {
     "end_time": "2018-01-21T01:08:09.789817Z",
     "start_time": "2018-01-21T01:08:09.740083Z"
    }
   },
   "outputs": [],
   "source": [
    "df.drop(\n",
    "    labels=[\n",
    "        'year', 'title', 'abstract', 'publications', 'summary', 'summary_toks',\n",
    "        'bigram_toks', 'trigram_toks', 'combined_toks'\n",
    "    ],\n",
    "    axis=1,\n",
    "    inplace=True)"
   ]
  },
  {
   "cell_type": "code",
   "execution_count": 32,
   "metadata": {
    "ExecuteTime": {
     "end_time": "2018-01-21T01:15:50.524228Z",
     "start_time": "2018-01-21T01:15:50.521167Z"
    }
   },
   "outputs": [
    {
     "name": "stdout",
     "output_type": "stream",
     "text": [
      "[(2, 1), (3, 1), (7, 3), (39, 1), (70, 7), (73, 3), (74, 2), (127, 1), (145, 1), (147, 1), (168, 1), (186, 1), (190, 1), (222, 1), (289, 1), (304, 1), (306, 1), (365, 1), (366, 1), (432, 1), (436, 1), (442, 1), (446, 1), (459, 2), (462, 2), (518, 1), (568, 1), (723, 1), (753, 2), (817, 1), (822, 1), (874, 1), (898, 1), (939, 1), (953, 1), (955, 1), (998, 1), (1007, 2), (1028, 1), (1202, 2), (1204, 5), (1244, 1), (1246, 2), (1249, 6), (1253, 1), (1270, 1), (1381, 3), (1406, 1), (1432, 1), (1435, 1), (1452, 1), (1618, 1), (1756, 2), (2251, 1), (2295, 2), (2329, 1), (2342, 1), (2390, 3), (2429, 1), (2568, 1), (2881, 1), (2950, 2), (3002, 1), (3155, 1), (3185, 1), (3408, 1), (4140, 1), (4143, 1), (4145, 1), (4153, 1), (4400, 1), (4406, 1), (4702, 3), (5884, 1), (5885, 3)]\n"
     ]
    }
   ],
   "source": [
    "bow = sorted(pub[1].bow)\n",
    "print(bow)"
   ]
  },
  {
   "cell_type": "code",
   "execution_count": 52,
   "metadata": {
    "ExecuteTime": {
     "end_time": "2018-01-21T01:27:59.613750Z",
     "start_time": "2018-01-21T01:26:36.068564Z"
    }
   },
   "outputs": [],
   "source": [
    "with open('../data/fullpub/doc_to_sparse.txt', 'w') as f:\n",
    "    for pub in df.iterrows():\n",
    "        output = \"\"\n",
    "        bow = sorted(pub[1].bow)\n",
    "        output += str(len(bow)) + \" \"\n",
    "        bow = dict(bow)  # convert to BOW for quick dictionary access\n",
    "        toks_id = list(bow.keys())\n",
    "        i = 0\n",
    "        while i < num_terms:\n",
    "            if i in toks_id:\n",
    "                output += str(i) + \":\" + str(bow[i]) + \" \"\n",
    "            else:\n",
    "                output += str(i) + \":0 \"\n",
    "            i += 1\n",
    "        f.write(output + \"\\n\")"
   ]
  },
  {
   "cell_type": "markdown",
   "metadata": {
    "scrolled": true
   },
   "source": [
    "# Visualising LDA tuning"
   ]
  },
  {
   "cell_type": "code",
   "execution_count": 31,
   "metadata": {
    "ExecuteTime": {
     "end_time": "2018-01-23T12:32:11.974384Z",
     "start_time": "2018-01-23T12:32:11.968698Z"
    }
   },
   "outputs": [],
   "source": [
    "from rpy2.robjects import r\n",
    "import rpy2.robjects as robjects\n",
    "from rpy2.robjects import pandas2ri\n",
    "pandas2ri.activate()"
   ]
  },
  {
   "cell_type": "code",
   "execution_count": 23,
   "metadata": {
    "ExecuteTime": {
     "end_time": "2018-01-23T12:28:29.117074Z",
     "start_time": "2018-01-23T12:28:29.113630Z"
    }
   },
   "outputs": [],
   "source": [
    "import numpy as np"
   ]
  },
  {
   "cell_type": "code",
   "execution_count": 29,
   "metadata": {
    "ExecuteTime": {
     "end_time": "2018-01-23T12:30:47.901905Z",
     "start_time": "2018-01-23T12:30:47.855569Z"
    }
   },
   "outputs": [],
   "source": [
    "%%R\n",
    "# Load R object:\n",
    "load('../src/res/tuning.topic_number.rdata')\n",
    "# Convert the topic_number in tm to "
   ]
  },
  {
   "cell_type": "code",
   "execution_count": 38,
   "metadata": {
    "ExecuteTime": {
     "end_time": "2018-01-23T12:34:41.502759Z",
     "start_time": "2018-01-23T12:34:41.497593Z"
    }
   },
   "outputs": [],
   "source": [
    "df_topic_number = robjects.r['topic_number']\n",
    "df_topic_number.set_index('topics', inplace=True)"
   ]
  },
  {
   "cell_type": "code",
   "execution_count": 135,
   "metadata": {
    "ExecuteTime": {
     "end_time": "2018-01-23T13:33:32.366995Z",
     "start_time": "2018-01-23T13:33:32.357745Z"
    }
   },
   "outputs": [],
   "source": [
    "# Scale to (0,1)\n",
    "df_topic_number_norm2 = df_topic_number.apply(\n",
    "    lambda col: (col - min(col)) / (max(col)-min(col)),\n",
    "    axis=0,\n",
    ")"
   ]
  },
  {
   "cell_type": "code",
   "execution_count": 55,
   "metadata": {
    "ExecuteTime": {
     "end_time": "2018-01-23T12:51:12.208778Z",
     "start_time": "2018-01-23T12:51:12.188309Z"
    }
   },
   "outputs": [],
   "source": [
    "import seaborn as sns\n",
    "import matplotlib.pyplot as plt\n",
    "%matplotlib inline\n",
    "plt.style.use('ggplot')"
   ]
  },
  {
   "cell_type": "code",
   "execution_count": 183,
   "metadata": {
    "ExecuteTime": {
     "end_time": "2018-01-23T13:52:18.704428Z",
     "start_time": "2018-01-23T13:52:18.312186Z"
    }
   },
   "outputs": [
    {
     "data": {
      "text/plain": [
       "<matplotlib.legend.Legend at 0x7f6a277f1c18>"
      ]
     },
     "execution_count": 183,
     "metadata": {},
     "output_type": "execute_result"
    },
    {
     "data": {
      "image/png": "[encoded data removed]",
      "text/plain": [
       "<matplotlib.figure.Figure at 0x7f6a279e7860>"
      ]
     },
     "metadata": {},
     "output_type": "display_data"
    }
   ],
   "source": [
    "x = df_topic_number_norm.index\n",
    "\n",
    "fig, (ax1, ax2) = plt.subplots(2, 1, sharex=True, figsize=(8, 8))\n",
    "ax1.plot(x, df_topic_number_norm[\"Arun2010\"], c='y')\n",
    "arun = ax1.scatter(x, df_topic_number_norm[\"Arun2010\"], marker='s', c='y')\n",
    "ax1.plot(x, df_topic_number_norm['CaoJuan2009'], c='m')\n",
    "caojuan = ax1.scatter(x, df_topic_number_norm['CaoJuan2009'], marker='^', c='m')\n",
    "\n",
    "# ax2 = plt.subplot(212)\n",
    "ax2.plot(x, df_topic_number_norm['Griffiths2004'])\n",
    "griffiths = ax2.scatter(\n",
    "    x,\n",
    "    df_topic_number_norm['Griffiths2004'],\n",
    "    marker='o',\n",
    ")\n",
    "ax2.plot(x, df_topic_number_norm['Deveaud2014'])\n",
    "deveaud = ax2.scatter(x, df_topic_number_norm['Deveaud2014'], marker='P')\n",
    "\n",
    "fig.suptitle('Finding optimum number of topics')\n",
    "ax2.set_xticks(x)\n",
    "ax1.set_title('Minimisation')\n",
    "ax2.set_title('Maximisation')\n",
    "plt.legend(\n",
    "    (arun, caojuan, griffiths, deveaud),\n",
    "    ('Arun2010', 'CaoJuan2009', 'Griffiths2004', 'Deveaud2014'),\n",
    "    loc=0)\n"
   ]
  },
  {
   "cell_type": "code",
   "execution_count": null,
   "metadata": {},
   "outputs": [],
   "source": []
  }
 ],
 "metadata": {
  "kernelspec": {
   "display_name": "Python 3",
   "language": "python",
   "name": "python3"
  },
  "language_info": {
   "codemirror_mode": {
    "name": "ipython",
    "version": 3
   },
   "file_extension": ".py",
   "mimetype": "text/x-python",
   "name": "python",
   "nbconvert_exporter": "python",
   "pygments_lexer": "ipython3",
   "version": "3.6.4"
  },
  "toc": {
   "nav_menu": {},
   "number_sections": true,
   "sideBar": true,
   "skip_h1_title": false,
   "toc_cell": false,
   "toc_position": {
    "height": "1039px",
    "left": "0px",
    "right": "1738.52px",
    "top": "67px",
    "width": "353px"
   },
   "toc_section_display": true,
   "toc_window_display": true
  },
  "varInspector": {
   "cols": {
    "lenName": 16,
    "lenType": 16,
    "lenVar": 40
   },
   "kernels_config": {
    "python": {
     "delete_cmd_postfix": "",
     "delete_cmd_prefix": "del ",
     "library": "var_list.py",
     "varRefreshCmd": "print(var_dic_list())"
    },
    "r": {
     "delete_cmd_postfix": ") ",
     "delete_cmd_prefix": "rm(",
     "library": "var_list.r",
     "varRefreshCmd": "cat(var_dic_list()) "
    }
   },
   "types_to_exclude": [
    "module",
    "function",
    "builtin_function_or_method",
    "instance",
    "_Feature"
   ],
   "window_display": false
  }
 },
 "nbformat": 4,
 "nbformat_minor": 2
}
