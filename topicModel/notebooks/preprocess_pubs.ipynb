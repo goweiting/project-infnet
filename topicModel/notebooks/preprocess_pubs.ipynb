{
 "cells": [
  {
   "cell_type": "markdown",
   "metadata": {
    "nbpresent": {
     "id": "d2bfca49-15d1-4e92-96ca-06e4b529dcc3"
    },
    "toc": true
   },
   "source": [
    "<h1>Table of Contents<span class=\"tocSkip\"></span></h1>\n",
    "<div class=\"toc\"><ul class=\"toc-item\"><li><span><a href=\"#Preprocessing-publication\" data-toc-modified-id=\"Preprocessing-publication-1\">Preprocessing publication</a></span><ul class=\"toc-item\"><li><span><a href=\"#publication.csv-revisited\" data-toc-modified-id=\"publication.csv-revisited-1.1\"><code>publication.csv</code> revisited</a></span></li><li><span><a href=\"#Preprocessing-summary--&gt;-summary_toks\" data-toc-modified-id=\"Preprocessing-summary-->-summary_toks-1.2\">Preprocessing <code>summary</code> -&gt; <code>summary_toks</code></a></span></li><li><span><a href=\"#Including-bi-gram-and-tri-gram\" data-toc-modified-id=\"Including-bi-gram-and-tri-gram-1.3\">Including bi-gram and tri-gram</a></span></li><li><span><a href=\"#Distribution-of-length-of-summary\" data-toc-modified-id=\"Distribution-of-length-of-summary-1.4\">Distribution of length of summary</a></span></li></ul></li><li><span><a href=\"#Preprocessing-scrapped-PDF\" data-toc-modified-id=\"Preprocessing-scrapped-PDF-2\">Preprocessing scrapped <code>PDF</code></a></span><ul class=\"toc-item\"><li><span><a href=\"#Distribution-of-length-of-combined-summary\" data-toc-modified-id=\"Distribution-of-length-of-combined-summary-2.1\">Distribution of length of combined summary</a></span></li><li><span><a href=\"#Publications-from-2012-2017\" data-toc-modified-id=\"Publications-from-2012-2017-2.2\">Publications from <code>2012-2017</code></a></span><ul class=\"toc-item\"><li><span><a href=\"#Check-how-many-of-these-publications-doesnt-have-pdf2txt:\" data-toc-modified-id=\"Check-how-many-of-these-publications-doesnt-have-pdf2txt:-2.2.1\">Check how many of these publications doesnt have pdf2txt:</a></span></li></ul></li></ul></li></ul></div>"
   ]
  },
  {
   "cell_type": "markdown",
   "metadata": {
    "nbpresent": {
     "id": "5fe31ec7-b458-43c5-883c-10276016f503"
    }
   },
   "source": [
    "# Preprocessing publication \n",
    "\n",
    "In this notebook, I aim to detail the methods used for preprocessing the abstract and publications that will be part of the corpus used for topic modelling further down the pipeline.\n",
    "\n",
    "Building on the dataset from the [preprocess-poinf.ipynb](../../../infnet-scrapper/notebooks/preprocess-poinf.ipynb), we further preprocess the additional details scrapped from Edinburgh research explorer. \n",
    "\n",
    "The main focus of [preprocess-poinf.ipynb](../../../infnet-scrapper/notebooks/preprocess-poinf.ipynb) is to preprocess the data collected from Edinburgh Research Explorer for . This notebook, on the other hand, focuses on the publications - the abstracts (if any) and publications/conferences that the research is presented in.\n",
    "\n",
    "<s>This is a precursor to a full-blown LDA analysis on the PDF of the research (the research papers).</s> Refer to [preprocessing pdf2txt](#Preprocessing-scrapped-PDF)"
   ]
  },
  {
   "cell_type": "markdown",
   "metadata": {
    "nbpresent": {
     "id": "da8a95df-5cff-4c19-b472-35a04904b3fc"
    }
   },
   "source": [
    "## `publication.csv` revisited\n",
    "\n",
    "I analyse the `publication.csv` dataset in this section."
   ]
  },
  {
   "cell_type": "code",
   "execution_count": 1,
   "metadata": {
    "ExecuteTime": {
     "end_time": "2018-01-19T17:26:27.114245Z",
     "start_time": "2018-01-19T17:26:26.830302Z"
    },
    "nbpresent": {
     "id": "94d682f1-be59-4a05-aba1-4c1db07a6a61"
    }
   },
   "outputs": [],
   "source": [
    "import pandas as pd\n",
    "import re"
   ]
  },
  {
   "cell_type": "code",
   "execution_count": 2,
   "metadata": {
    "ExecuteTime": {
     "end_time": "2018-01-19T17:26:27.282367Z",
     "start_time": "2018-01-19T17:26:27.115982Z"
    },
    "nbpresent": {
     "id": "d289888a-4d53-4f35-b432-6e26cf944613"
    },
    "scrolled": false
   },
   "outputs": [
    {
     "name": "stdout",
     "output_type": "stream",
     "text": [
      "pub_csv contains: 8867  publications\n"
     ]
    },
    {
     "data": {
      "text/html": [
       "<div>\n",
       "<style scoped>\n",
       "    .dataframe tbody tr th:only-of-type {\n",
       "        vertical-align: middle;\n",
       "    }\n",
       "\n",
       "    .dataframe tbody tr th {\n",
       "        vertical-align: top;\n",
       "    }\n",
       "\n",
       "    .dataframe thead th {\n",
       "        text-align: right;\n",
       "    }\n",
       "</style>\n",
       "<table border=\"1\" class=\"dataframe\">\n",
       "  <thead>\n",
       "    <tr style=\"text-align: right;\">\n",
       "      <th></th>\n",
       "      <th>pub_id</th>\n",
       "      <th>date</th>\n",
       "      <th>year</th>\n",
       "      <th>title</th>\n",
       "      <th>authors</th>\n",
       "      <th>pub_url</th>\n",
       "      <th>doi_url</th>\n",
       "      <th>pdf_url</th>\n",
       "      <th>abstract</th>\n",
       "      <th>publications</th>\n",
       "    </tr>\n",
       "  </thead>\n",
       "  <tbody>\n",
       "    <tr>\n",
       "      <th>40</th>\n",
       "      <td>f4293dd4-09a5-420b-b37a-2bd88d45c6e6</td>\n",
       "      <td>1 Jun 2007</td>\n",
       "      <td>2007</td>\n",
       "      <td>statistical postediting on systrans rulebased ...</td>\n",
       "      <td>loïc dugast|jean senellart|philipp koehn</td>\n",
       "      <td>http://www.research.ed.ac.uk/portal/en/publica...</td>\n",
       "      <td>UNKNOWN</td>\n",
       "      <td>http://www.research.ed.ac.uk/portal/files/1936...</td>\n",
       "      <td>this article describes the combination of a sy...</td>\n",
       "      <td>proceedings of the second workshop on statisti...</td>\n",
       "    </tr>\n",
       "    <tr>\n",
       "      <th>41</th>\n",
       "      <td>fc393df2-bf68-45cd-85ce-9faeb2c9d9b4</td>\n",
       "      <td>17 May 2017</td>\n",
       "      <td>2017</td>\n",
       "      <td>endtoend deep learning of optimization heuristics</td>\n",
       "      <td>christopher cummins|pavlos petoumenos|zheng wa...</td>\n",
       "      <td>http://www.research.ed.ac.uk/portal/en/publica...</td>\n",
       "      <td>http://dx.doi.org/10.1109/PACT.2017.24</td>\n",
       "      <td>http://www.research.ed.ac.uk/portal/files/3774...</td>\n",
       "      <td>accurate automatic optimization heuristics are...</td>\n",
       "      <td>the 26th international conference on parallel ...</td>\n",
       "    </tr>\n",
       "    <tr>\n",
       "      <th>42</th>\n",
       "      <td>c7a7fc62-2251-441c-86ac-9e0a0a0d39c9</td>\n",
       "      <td>2016</td>\n",
       "      <td>2016</td>\n",
       "      <td>a list of successes that can change the world ...</td>\n",
       "      <td>sam lindley|conor mcbride|philip trinder|donal...</td>\n",
       "      <td>http://www.research.ed.ac.uk/portal/en/publica...</td>\n",
       "      <td>http://dx.doi.org/10.1007/978-3-319-30936-1</td>\n",
       "      <td>UNKNOWN</td>\n",
       "      <td>unknown</td>\n",
       "      <td>springer international publishing,springer int...</td>\n",
       "    </tr>\n",
       "    <tr>\n",
       "      <th>43</th>\n",
       "      <td>b65a05b3-1472-4472-bc72-9ed30d4a3b23</td>\n",
       "      <td>2006</td>\n",
       "      <td>2006</td>\n",
       "      <td>recognizing dna splicing</td>\n",
       "      <td>matteo cavaliere|natasa jonoska|peter leupold</td>\n",
       "      <td>http://www.research.ed.ac.uk/portal/en/publica...</td>\n",
       "      <td>http://dx.doi.org/10.1007/11753681_2</td>\n",
       "      <td>UNKNOWN</td>\n",
       "      <td>motivated by recent techniques developed for o...</td>\n",
       "      <td>dna computing,11th international workshop on d...</td>\n",
       "    </tr>\n",
       "    <tr>\n",
       "      <th>44</th>\n",
       "      <td>8b81bb37-fced-4e23-a85d-ff82d715a2a0</td>\n",
       "      <td>2006</td>\n",
       "      <td>2006</td>\n",
       "      <td>computational modelling as an approach to neur...</td>\n",
       "      <td>jörg behrendt|hecke schrobsdorff|matthias ihrk...</td>\n",
       "      <td>http://www.research.ed.ac.uk/portal/en/publica...</td>\n",
       "      <td>UNKNOWN</td>\n",
       "      <td>http://www.nld.ds.mpg.de/~hecke/archiv/2006_BC...</td>\n",
       "      <td>negative priming (np)</td>\n",
       "      <td>international journal of psychophysiology</td>\n",
       "    </tr>\n",
       "  </tbody>\n",
       "</table>\n",
       "</div>"
      ],
      "text/plain": [
       "                                  pub_id         date  year  \\\n",
       "40  f4293dd4-09a5-420b-b37a-2bd88d45c6e6   1 Jun 2007  2007   \n",
       "41  fc393df2-bf68-45cd-85ce-9faeb2c9d9b4  17 May 2017  2017   \n",
       "42  c7a7fc62-2251-441c-86ac-9e0a0a0d39c9         2016  2016   \n",
       "43  b65a05b3-1472-4472-bc72-9ed30d4a3b23         2006  2006   \n",
       "44  8b81bb37-fced-4e23-a85d-ff82d715a2a0         2006  2006   \n",
       "\n",
       "                                                title  \\\n",
       "40  statistical postediting on systrans rulebased ...   \n",
       "41  endtoend deep learning of optimization heuristics   \n",
       "42  a list of successes that can change the world ...   \n",
       "43                           recognizing dna splicing   \n",
       "44  computational modelling as an approach to neur...   \n",
       "\n",
       "                                              authors  \\\n",
       "40           loïc dugast|jean senellart|philipp koehn   \n",
       "41  christopher cummins|pavlos petoumenos|zheng wa...   \n",
       "42  sam lindley|conor mcbride|philip trinder|donal...   \n",
       "43      matteo cavaliere|natasa jonoska|peter leupold   \n",
       "44  jörg behrendt|hecke schrobsdorff|matthias ihrk...   \n",
       "\n",
       "                                              pub_url  \\\n",
       "40  http://www.research.ed.ac.uk/portal/en/publica...   \n",
       "41  http://www.research.ed.ac.uk/portal/en/publica...   \n",
       "42  http://www.research.ed.ac.uk/portal/en/publica...   \n",
       "43  http://www.research.ed.ac.uk/portal/en/publica...   \n",
       "44  http://www.research.ed.ac.uk/portal/en/publica...   \n",
       "\n",
       "                                        doi_url  \\\n",
       "40                                      UNKNOWN   \n",
       "41       http://dx.doi.org/10.1109/PACT.2017.24   \n",
       "42  http://dx.doi.org/10.1007/978-3-319-30936-1   \n",
       "43         http://dx.doi.org/10.1007/11753681_2   \n",
       "44                                      UNKNOWN   \n",
       "\n",
       "                                              pdf_url  \\\n",
       "40  http://www.research.ed.ac.uk/portal/files/1936...   \n",
       "41  http://www.research.ed.ac.uk/portal/files/3774...   \n",
       "42                                            UNKNOWN   \n",
       "43                                            UNKNOWN   \n",
       "44  http://www.nld.ds.mpg.de/~hecke/archiv/2006_BC...   \n",
       "\n",
       "                                             abstract  \\\n",
       "40  this article describes the combination of a sy...   \n",
       "41  accurate automatic optimization heuristics are...   \n",
       "42                                            unknown   \n",
       "43  motivated by recent techniques developed for o...   \n",
       "44                              negative priming (np)   \n",
       "\n",
       "                                         publications  \n",
       "40  proceedings of the second workshop on statisti...  \n",
       "41  the 26th international conference on parallel ...  \n",
       "42  springer international publishing,springer int...  \n",
       "43  dna computing,11th international workshop on d...  \n",
       "44         international journal of psychophysiology   "
      ]
     },
     "execution_count": 2,
     "metadata": {},
     "output_type": "execute_result"
    }
   ],
   "source": [
    "pub_csv = pd.read_csv('../data/publications.csv')\n",
    "print(('pub_csv contains:', len(pub_csv), ' publications'))\n",
    "pub_csv.iloc[40:45]  # sample the data"
   ]
  },
  {
   "cell_type": "code",
   "execution_count": 3,
   "metadata": {
    "ExecuteTime": {
     "end_time": "2018-01-19T17:26:27.352163Z",
     "start_time": "2018-01-19T17:26:27.284152Z"
    },
    "nbpresent": {
     "id": "a4299ece-3526-4abb-8a39-484452638eb1"
    }
   },
   "outputs": [],
   "source": [
    "# Focusing on the publication where\n",
    "pub_csv.set_index('pub_id', inplace=True)\n",
    "pub_concise = pub_csv[['year', 'title', 'abstract', 'publications']].copy()"
   ]
  },
  {
   "cell_type": "code",
   "execution_count": 4,
   "metadata": {
    "ExecuteTime": {
     "end_time": "2018-01-19T17:26:34.650147Z",
     "start_time": "2018-01-19T17:26:34.646444Z"
    },
    "nbpresent": {
     "id": "1a09f5b9-133f-4719-ab0f-a36880246a91"
    }
   },
   "outputs": [],
   "source": [
    "# Remove all entries that are 'UNKNOWN', so that when we combine them into the `summary` column,\n",
    "# `UNKNOWN` is not a term for consideration\n",
    "def removeUnknown(x):\n",
    "    if str(x).strip().lower() == 'unknown':\n",
    "        return ''\n",
    "    else:\n",
    "        return x"
   ]
  },
  {
   "cell_type": "code",
   "execution_count": 5,
   "metadata": {
    "ExecuteTime": {
     "end_time": "2018-01-19T17:26:39.469600Z",
     "start_time": "2018-01-19T17:26:39.428125Z"
    },
    "nbpresent": {
     "id": "e63a1ecf-72bd-4763-ac3c-ceae80633007"
    }
   },
   "outputs": [],
   "source": [
    "pub_concise = pub_concise.applymap(removeUnknown)"
   ]
  },
  {
   "cell_type": "code",
   "execution_count": 22,
   "metadata": {
    "ExecuteTime": {
     "end_time": "2018-01-19T17:44:45.211273Z",
     "start_time": "2018-01-19T17:44:44.884156Z"
    },
    "nbpresent": {
     "id": "56aeb490-47cd-4f0b-a355-215bd1560e07"
    }
   },
   "outputs": [],
   "source": [
    "# Concatenate all the text together to form as the representation of the publication:\n",
    "pub_concise['summary'] = pub_concise.apply(\n",
    "    lambda row: str(row.title) + '. ' + str(row.abstract) + '. '+  str(row.publications),\n",
    "    axis=1)"
   ]
  },
  {
   "cell_type": "code",
   "execution_count": 27,
   "metadata": {
    "ExecuteTime": {
     "end_time": "2018-01-19T17:45:19.523388Z",
     "start_time": "2018-01-19T17:45:19.520068Z"
    }
   },
   "outputs": [
    {
     "data": {
      "text/plain": [
       "'ballooning stability analysis of jet hmode discharges. previous studies of the stability of a large aspect ratio model equilibrium to ideal mhd ballooning modes have shown that across the bulk of the plasma there exist two marginally stable values of the pressure gradient parameter α. these define an unstable zone which separates the first (small α) stable region from the second (large α) stable region. close to the separatrix, however, the first and second regions can coalesce when the surface averaged current density, Λ, exceeds a critical value. the plasma in this region is then stable to ballooning modes at all values of the pressure gradient. in this paper we extend these results to jet h-mode equilibria using a finite aspect ratio ballooning formalism, and assess the relevance of ideal ballooning stability in these discharges. in particular we analyse shot 15894 at time 56 sec. which is 1.3 s into the h-phase..  proceedings 16th european conference on controlled fusion and plasma physics'"
      ]
     },
     "execution_count": 27,
     "metadata": {},
     "output_type": "execute_result"
    }
   ],
   "source": [
    "pub_concise.iloc[0].summary"
   ]
  },
  {
   "cell_type": "markdown",
   "metadata": {
    "nbpresent": {
     "id": "6b9d6078-91b6-42f2-b1ad-152d553e7cb4"
    }
   },
   "source": [
    "## Preprocessing `summary` -> `summary_toks`"
   ]
  },
  {
   "cell_type": "code",
   "execution_count": 13,
   "metadata": {
    "ExecuteTime": {
     "end_time": "2018-01-19T17:39:39.337382Z",
     "start_time": "2018-01-19T17:39:39.332704Z"
    },
    "nbpresent": {
     "id": "9e175f80-f8d0-4658-b005-ba75ee0d7aaa"
    }
   },
   "outputs": [],
   "source": [
    "# import Stemmer # DOESNT EXISTS IN py36\n",
    "import string\n",
    "\n",
    "# Common stopwords\n",
    "from nltk.corpus import stopwords\n",
    "sw = stopwords.words('english')\n",
    "sw.extend(list(string.punctuation))\n",
    "stop = set(sw)"
   ]
  },
  {
   "cell_type": "code",
   "execution_count": 8,
   "metadata": {
    "ExecuteTime": {
     "end_time": "2018-01-19T17:32:27.867739Z",
     "start_time": "2018-01-19T17:32:27.864101Z"
    },
    "nbpresent": {
     "id": "5b767afe-854f-4cbc-be56-dff704d87549"
    }
   },
   "outputs": [],
   "source": [
    "# # Standard preprocessing:\n",
    "# # 1. tokenizer: split by word boundary.\n",
    "# tokenize = lambda x: [t.lower().strip() for t in re.split(r'\\W+', x) if len(t) > 0]\n",
    "\n",
    "# # 2. stopping: import common stopwords\n",
    "# removeSW = lambda x: [t for t in x if t not in stop]\n",
    "\n",
    "# # 3: Stemming: using pystemmer\n",
    "# stemmer = Stemmer.Stemmer(\"english\")\n",
    "# stem = lambda x: stemmer.stemWords(x)\n",
    "\n",
    "# preprocess = lambda x: stem(removeSW(tokenize(x)))"
   ]
  },
  {
   "cell_type": "code",
   "execution_count": 55,
   "metadata": {
    "ExecuteTime": {
     "end_time": "2018-01-19T18:02:48.484010Z",
     "start_time": "2018-01-19T18:02:48.481593Z"
    }
   },
   "outputs": [],
   "source": [
    "from nltk.tokenize import RegexpTokenizer\n",
    "from nltk.stem.wordnet import WordNetLemmatizer"
   ]
  },
  {
   "cell_type": "code",
   "execution_count": 64,
   "metadata": {
    "ExecuteTime": {
     "end_time": "2018-01-19T18:07:56.632607Z",
     "start_time": "2018-01-19T18:07:56.625654Z"
    }
   },
   "outputs": [],
   "source": [
    "# tokenizing the sentences; this uses punkt tokenizer\n",
    "tokenizer = RegexpTokenizer(r'\\w+')\n",
    "tokenize = lambda x : tokenizer.tokenize(x)\n",
    "\n",
    "\n",
    "# apply stopping, and remove tokens that have length of 1\n",
    "removeSW = lambda x : list([t for t in x if t not in stop and len(t) > 1 and not t.isnumeric()])\n",
    "\n",
    "# Lemmatizing\n",
    "lemmatizer = WordNetLemmatizer()\n",
    "lemmify = lambda x : [lemmatizer.lemmatize(t) for t in x]\n",
    "\n",
    "preprocess = lambda x: lemmify(removeSW(tokenize(x)))"
   ]
  },
  {
   "cell_type": "code",
   "execution_count": 68,
   "metadata": {
    "ExecuteTime": {
     "end_time": "2018-01-19T18:08:59.309819Z",
     "start_time": "2018-01-19T18:08:59.304934Z"
    },
    "nbpresent": {
     "id": "3591e61d-dcb0-4994-a3d8-d1b2c7a2a7be"
    }
   },
   "outputs": [
    {
     "name": "stdout",
     "output_type": "stream",
     "text": [
      "Before preprocessing:\n",
      "ballooning stability analysis of jet hmode discharges. previous studies of the stability of a large aspect ratio model equilibrium to ideal mhd ballooning modes have shown that across the bulk of the plasma there exist two marginally stable values of the pressure gradient parameter α. these define an unstable zone which separates the first (small α) stable region from the second (large α) stable region. close to the separatrix, however, the first and second regions can coalesce when the surface averaged current density, Λ, exceeds a critical value. the plasma in this region is then stable to ballooning modes at all values of the pressure gradient. in this paper we extend these results to jet h-mode equilibria using a finite aspect ratio ballooning formalism, and assess the relevance of ideal ballooning stability in these discharges. in particular we analyse shot 15894 at time 56 sec. which is 1.3 s into the h-phase..  proceedings 16th european conference on controlled fusion and plasma physics\n",
      "\n",
      "After preprocessing:\n",
      "ballooning stability analysis jet hmode discharge previous study stability large aspect ratio model equilibrium ideal mhd ballooning mode shown across bulk plasma exist two marginally stable value pressure gradient parameter define unstable zone separate first small stable region second large stable region close separatrix however first second region coalesce surface averaged current density exceeds critical value plasma region stable ballooning mode value pressure gradient paper extend result jet mode equilibrium using finite aspect ratio ballooning formalism ass relevance ideal ballooning stability discharge particular analyse shot time sec phase proceeding 16th european conference controlled fusion plasma physic\n"
     ]
    }
   ],
   "source": [
    "sample = pub_concise.iloc[0].summary\n",
    "print('Before preprocessing:')\n",
    "print(sample)\n",
    "print('\\nAfter preprocessing:')\n",
    "print((\" \".join(preprocess(sample))))"
   ]
  },
  {
   "cell_type": "code",
   "execution_count": 69,
   "metadata": {
    "ExecuteTime": {
     "end_time": "2018-01-19T18:09:28.697249Z",
     "start_time": "2018-01-19T18:09:24.495515Z"
    },
    "nbpresent": {
     "id": "1c2555ca-9e71-4e72-a588-c1dda3a0384e"
    }
   },
   "outputs": [],
   "source": [
    "pub_concise['summary_toks'] = pub_concise.apply(\n",
    "    lambda row: preprocess(row.summary), axis=1)"
   ]
  },
  {
   "cell_type": "code",
   "execution_count": 70,
   "metadata": {
    "ExecuteTime": {
     "end_time": "2018-01-19T18:09:32.832805Z",
     "start_time": "2018-01-19T18:09:32.817732Z"
    },
    "nbpresent": {
     "id": "74c41b5a-3f1d-4e20-a41e-df6bb6d9f4df"
    },
    "scrolled": true
   },
   "outputs": [
    {
     "data": {
      "text/html": [
       "<div>\n",
       "<style scoped>\n",
       "    .dataframe tbody tr th:only-of-type {\n",
       "        vertical-align: middle;\n",
       "    }\n",
       "\n",
       "    .dataframe tbody tr th {\n",
       "        vertical-align: top;\n",
       "    }\n",
       "\n",
       "    .dataframe thead th {\n",
       "        text-align: right;\n",
       "    }\n",
       "</style>\n",
       "<table border=\"1\" class=\"dataframe\">\n",
       "  <thead>\n",
       "    <tr style=\"text-align: right;\">\n",
       "      <th></th>\n",
       "      <th>year</th>\n",
       "      <th>title</th>\n",
       "      <th>abstract</th>\n",
       "      <th>publications</th>\n",
       "      <th>summary</th>\n",
       "      <th>summary_toks</th>\n",
       "    </tr>\n",
       "    <tr>\n",
       "      <th>pub_id</th>\n",
       "      <th></th>\n",
       "      <th></th>\n",
       "      <th></th>\n",
       "      <th></th>\n",
       "      <th></th>\n",
       "      <th></th>\n",
       "    </tr>\n",
       "  </thead>\n",
       "  <tbody>\n",
       "    <tr>\n",
       "      <th>400818dc-63af-4a26-80c5-906f98e1f8ab</th>\n",
       "      <td>1989</td>\n",
       "      <td>ballooning stability analysis of jet hmode dis...</td>\n",
       "      <td>previous studies of the stability of a large a...</td>\n",
       "      <td>proceedings 16th european conference on contr...</td>\n",
       "      <td>ballooning stability analysis of jet hmode dis...</td>\n",
       "      <td>[ballooning, stability, analysis, jet, hmode, ...</td>\n",
       "    </tr>\n",
       "    <tr>\n",
       "      <th>18b1a861-afef-4fff-bc80-d02e05be18c4</th>\n",
       "      <td>2013</td>\n",
       "      <td>query processing in data integration</td>\n",
       "      <td>in this chapter we illustrate the main techniq...</td>\n",
       "      <td>data exchange, integration, and streams,dagstu...</td>\n",
       "      <td>query processing in data integration. in this ...</td>\n",
       "      <td>[query, processing, data, integration, chapter...</td>\n",
       "    </tr>\n",
       "    <tr>\n",
       "      <th>309fdbfc-227b-4588-9264-f0f4e3cadfcb</th>\n",
       "      <td>1994</td>\n",
       "      <td>comprehension syntax</td>\n",
       "      <td>the syntax of comprehensions is very close to ...</td>\n",
       "      <td>sigmod record</td>\n",
       "      <td>comprehension syntax. the syntax of comprehens...</td>\n",
       "      <td>[comprehension, syntax, syntax, comprehension,...</td>\n",
       "    </tr>\n",
       "    <tr>\n",
       "      <th>d5814bab-5fc2-4c31-92b7-543c7ce75cb4</th>\n",
       "      <td>2012</td>\n",
       "      <td>evaluation of speaker verification security an...</td>\n",
       "      <td>in this paper, we evaluate the vulnerability o...</td>\n",
       "      <td>ieee transactions on audio, speech and languag...</td>\n",
       "      <td>evaluation of speaker verification security an...</td>\n",
       "      <td>[evaluation, speaker, verification, security, ...</td>\n",
       "    </tr>\n",
       "  </tbody>\n",
       "</table>\n",
       "</div>"
      ],
      "text/plain": [
       "                                      year  \\\n",
       "pub_id                                       \n",
       "400818dc-63af-4a26-80c5-906f98e1f8ab  1989   \n",
       "18b1a861-afef-4fff-bc80-d02e05be18c4  2013   \n",
       "309fdbfc-227b-4588-9264-f0f4e3cadfcb  1994   \n",
       "d5814bab-5fc2-4c31-92b7-543c7ce75cb4  2012   \n",
       "\n",
       "                                                                                  title  \\\n",
       "pub_id                                                                                    \n",
       "400818dc-63af-4a26-80c5-906f98e1f8ab  ballooning stability analysis of jet hmode dis...   \n",
       "18b1a861-afef-4fff-bc80-d02e05be18c4               query processing in data integration   \n",
       "309fdbfc-227b-4588-9264-f0f4e3cadfcb                               comprehension syntax   \n",
       "d5814bab-5fc2-4c31-92b7-543c7ce75cb4  evaluation of speaker verification security an...   \n",
       "\n",
       "                                                                               abstract  \\\n",
       "pub_id                                                                                    \n",
       "400818dc-63af-4a26-80c5-906f98e1f8ab  previous studies of the stability of a large a...   \n",
       "18b1a861-afef-4fff-bc80-d02e05be18c4  in this chapter we illustrate the main techniq...   \n",
       "309fdbfc-227b-4588-9264-f0f4e3cadfcb  the syntax of comprehensions is very close to ...   \n",
       "d5814bab-5fc2-4c31-92b7-543c7ce75cb4  in this paper, we evaluate the vulnerability o...   \n",
       "\n",
       "                                                                           publications  \\\n",
       "pub_id                                                                                    \n",
       "400818dc-63af-4a26-80c5-906f98e1f8ab   proceedings 16th european conference on contr...   \n",
       "18b1a861-afef-4fff-bc80-d02e05be18c4  data exchange, integration, and streams,dagstu...   \n",
       "309fdbfc-227b-4588-9264-f0f4e3cadfcb                                      sigmod record   \n",
       "d5814bab-5fc2-4c31-92b7-543c7ce75cb4  ieee transactions on audio, speech and languag...   \n",
       "\n",
       "                                                                                summary  \\\n",
       "pub_id                                                                                    \n",
       "400818dc-63af-4a26-80c5-906f98e1f8ab  ballooning stability analysis of jet hmode dis...   \n",
       "18b1a861-afef-4fff-bc80-d02e05be18c4  query processing in data integration. in this ...   \n",
       "309fdbfc-227b-4588-9264-f0f4e3cadfcb  comprehension syntax. the syntax of comprehens...   \n",
       "d5814bab-5fc2-4c31-92b7-543c7ce75cb4  evaluation of speaker verification security an...   \n",
       "\n",
       "                                                                           summary_toks  \n",
       "pub_id                                                                                   \n",
       "400818dc-63af-4a26-80c5-906f98e1f8ab  [ballooning, stability, analysis, jet, hmode, ...  \n",
       "18b1a861-afef-4fff-bc80-d02e05be18c4  [query, processing, data, integration, chapter...  \n",
       "309fdbfc-227b-4588-9264-f0f4e3cadfcb  [comprehension, syntax, syntax, comprehension,...  \n",
       "d5814bab-5fc2-4c31-92b7-543c7ce75cb4  [evaluation, speaker, verification, security, ...  "
      ]
     },
     "execution_count": 70,
     "metadata": {},
     "output_type": "execute_result"
    }
   ],
   "source": [
    "pub_concise.head(4)"
   ]
  },
  {
   "cell_type": "markdown",
   "metadata": {},
   "source": [
    "## Including bi-gram and tri-gram"
   ]
  },
  {
   "cell_type": "code",
   "execution_count": 104,
   "metadata": {
    "ExecuteTime": {
     "end_time": "2018-01-19T18:40:57.265750Z",
     "start_time": "2018-01-19T18:40:57.263328Z"
    }
   },
   "outputs": [],
   "source": [
    "from gensim.models.phrases import Phraser, Phrases"
   ]
  },
  {
   "cell_type": "markdown",
   "metadata": {
    "ExecuteTime": {
     "end_time": "2018-01-19T18:25:53.878287Z",
     "start_time": "2018-01-19T18:25:53.875105Z"
    }
   },
   "source": [
    "We can use the tokenize and lemmatized corpus to detect bi-grams and tri-grams. This will give additional weights to phrases that collocate"
   ]
  },
  {
   "cell_type": "code",
   "execution_count": 116,
   "metadata": {
    "ExecuteTime": {
     "end_time": "2018-01-19T18:52:44.798719Z",
     "start_time": "2018-01-19T18:52:38.867532Z"
    }
   },
   "outputs": [
    {
     "name": "stderr",
     "output_type": "stream",
     "text": [
      "/Users/weiting/miniconda3/envs/infnet3/lib/python3.6/site-packages/gensim/models/phrases.py:431: UserWarning: For a faster implementation, use the gensim.models.phrases.Phraser class\n",
      "  warnings.warn(\"For a faster implementation, use the gensim.models.phrases.Phraser class\")\n"
     ]
    }
   ],
   "source": [
    "# bigram and trigram are phrases that appear at least 20 times\n",
    "summary_toks = pub_concise.summary_toks.tolist()\n",
    "bigram = Phrases(summary_toks, min_count=20)\n",
    "trigram = Phrases(bigram[summary_toks], min_count=10)"
   ]
  },
  {
   "cell_type": "code",
   "execution_count": 117,
   "metadata": {
    "ExecuteTime": {
     "end_time": "2018-01-19T18:52:45.007695Z",
     "start_time": "2018-01-19T18:52:45.001359Z"
    }
   },
   "outputs": [],
   "source": [
    "def gen_bigram(row):\n",
    "    toks = bigram[row.summary_toks]\n",
    "    return [x for x in toks if x.count('_') == 1]\n",
    "\n",
    "\n",
    "def gen_trigram(row):\n",
    "    toks = trigram[bigram[row.summary_toks]]\n",
    "    return [x for x in toks if x.count('_') == 2]"
   ]
  },
  {
   "cell_type": "code",
   "execution_count": 118,
   "metadata": {
    "ExecuteTime": {
     "end_time": "2018-01-19T18:52:55.361129Z",
     "start_time": "2018-01-19T18:52:45.206186Z"
    }
   },
   "outputs": [
    {
     "name": "stderr",
     "output_type": "stream",
     "text": [
      "/Users/weiting/miniconda3/envs/infnet3/lib/python3.6/site-packages/gensim/models/phrases.py:431: UserWarning: For a faster implementation, use the gensim.models.phrases.Phraser class\n",
      "  warnings.warn(\"For a faster implementation, use the gensim.models.phrases.Phraser class\")\n"
     ]
    }
   ],
   "source": [
    "pub_concise['bigram_toks'] = pub_concise.apply(gen_bigram, axis=1)\n",
    "pub_concise['trigram_toks'] = pub_concise.apply(gen_trigram, axis=1)"
   ]
  },
  {
   "cell_type": "code",
   "execution_count": null,
   "metadata": {},
   "outputs": [],
   "source": []
  },
  {
   "cell_type": "code",
   "execution_count": 125,
   "metadata": {
    "ExecuteTime": {
     "end_time": "2018-01-19T18:55:15.721724Z",
     "start_time": "2018-01-19T18:55:15.717023Z"
    }
   },
   "outputs": [
    {
     "name": "stdout",
     "output_type": "stream",
     "text": [
      "BI-GRAM\n",
      "[['european_conference'], ['query_answering', 'integrity_constraint', 'semistructured_data', 'query_answering', 'query_rewriting', 'data_exchange', 'germany_schloss', 'dagstuhl_leibniz', 'zentrum_fuer', 'informatik_germany', 'schloss_dagstuhl', 'leibniz_zentrum', 'fuer_informatik'], ['starting_point', 'first_order', 'pattern_matching', 'abstract_syntax'], ['speaker_verification', 'synthetic_speech', 'speaker_verification', 'synthetic_speech', 'gaussian_mixture', 'hidden_markov', 'hmm_based', 'text_speech', 'small_amount', 'training_data', 'average_voice', 'error_rate', 'synthetic_speech', 'synthetic_speech', 'propose_new', 'synthetic_speech', 'ieee_transaction', 'language_processing'], ['wide_range', 'real_world', 'computer_communication']]\n",
      "\n",
      "TRI-GRAM\n",
      "[[], [], ['first_order_logic'], ['gaussian_mixture_model', 'hidden_markov_model', 'text_speech_tt', 'ieee_transaction_audio', 'speech_language_processing'], []]\n"
     ]
    }
   ],
   "source": [
    "print(\"BI-GRAM\")\n",
    "print(pub_concise.bigram_toks.tolist()[0:5])\n",
    "\n",
    "print(\"\\nTRI-GRAM\")\n",
    "print(pub_concise.trigram_toks.tolist()[0:5])"
   ]
  },
  {
   "cell_type": "markdown",
   "metadata": {
    "nbpresent": {
     "id": "954a45d4-0bd2-4ab4-89fe-3b1694e8db32"
    }
   },
   "source": [
    "## Distribution of length of summary\n",
    "TODO:\n",
    "Create barchart that splits into each component: title, publication, abstract"
   ]
  },
  {
   "cell_type": "code",
   "execution_count": 71,
   "metadata": {
    "ExecuteTime": {
     "end_time": "2018-01-19T18:10:18.059820Z",
     "start_time": "2018-01-19T18:10:18.052480Z"
    },
    "nbpresent": {
     "id": "f48116f3-477a-4cee-beba-8a9f71aa1e76"
    }
   },
   "outputs": [],
   "source": [
    "pub_toks = pub_concise[['summary_toks']].copy()"
   ]
  },
  {
   "cell_type": "code",
   "execution_count": 72,
   "metadata": {
    "ExecuteTime": {
     "end_time": "2018-01-19T18:10:18.071985Z",
     "start_time": "2018-01-19T18:10:18.063295Z"
    },
    "nbpresent": {
     "id": "55e1723b-5de9-48df-9c53-663a6a7e700e"
    },
    "scrolled": true
   },
   "outputs": [
    {
     "data": {
      "text/html": [
       "<div>\n",
       "<style scoped>\n",
       "    .dataframe tbody tr th:only-of-type {\n",
       "        vertical-align: middle;\n",
       "    }\n",
       "\n",
       "    .dataframe tbody tr th {\n",
       "        vertical-align: top;\n",
       "    }\n",
       "\n",
       "    .dataframe thead th {\n",
       "        text-align: right;\n",
       "    }\n",
       "</style>\n",
       "<table border=\"1\" class=\"dataframe\">\n",
       "  <thead>\n",
       "    <tr style=\"text-align: right;\">\n",
       "      <th></th>\n",
       "      <th>summary_toks</th>\n",
       "    </tr>\n",
       "    <tr>\n",
       "      <th>pub_id</th>\n",
       "      <th></th>\n",
       "    </tr>\n",
       "  </thead>\n",
       "  <tbody>\n",
       "    <tr>\n",
       "      <th>400818dc-63af-4a26-80c5-906f98e1f8ab</th>\n",
       "      <td>[ballooning, stability, analysis, jet, hmode, ...</td>\n",
       "    </tr>\n",
       "    <tr>\n",
       "      <th>18b1a861-afef-4fff-bc80-d02e05be18c4</th>\n",
       "      <td>[query, processing, data, integration, chapter...</td>\n",
       "    </tr>\n",
       "  </tbody>\n",
       "</table>\n",
       "</div>"
      ],
      "text/plain": [
       "                                                                           summary_toks\n",
       "pub_id                                                                                 \n",
       "400818dc-63af-4a26-80c5-906f98e1f8ab  [ballooning, stability, analysis, jet, hmode, ...\n",
       "18b1a861-afef-4fff-bc80-d02e05be18c4  [query, processing, data, integration, chapter..."
      ]
     },
     "execution_count": 72,
     "metadata": {},
     "output_type": "execute_result"
    }
   ],
   "source": [
    "pub_toks.head(2)"
   ]
  },
  {
   "cell_type": "code",
   "execution_count": 73,
   "metadata": {
    "ExecuteTime": {
     "end_time": "2018-01-19T18:10:18.588121Z",
     "start_time": "2018-01-19T18:10:18.073518Z"
    },
    "nbpresent": {
     "id": "36f59007-aa39-4a22-9855-413fd2270ca5"
    }
   },
   "outputs": [],
   "source": [
    "# inspect and check if there is any publication with no `summary_toks`\n",
    "for row in pub_toks.iterrows():\n",
    "    if len(row[1]['summary_toks']) == 0:\n",
    "        print((row[0]))"
   ]
  },
  {
   "cell_type": "code",
   "execution_count": 74,
   "metadata": {
    "ExecuteTime": {
     "end_time": "2018-01-19T18:10:19.153467Z",
     "start_time": "2018-01-19T18:10:18.590216Z"
    },
    "nbpresent": {
     "id": "2c4388ef-2853-4e00-a533-2b5fb34d3d21"
    }
   },
   "outputs": [],
   "source": [
    "# get a distribution of length of tokens:\n",
    "toksLengthHist = {}\n",
    "for row in pub_toks.iterrows():\n",
    "    l = len(row[1]['summary_toks'])\n",
    "    if l not in list(toksLengthHist.keys()):\n",
    "        toksLengthHist[l] = 1\n",
    "    else:\n",
    "        toksLengthHist[l] += 1"
   ]
  },
  {
   "cell_type": "code",
   "execution_count": 75,
   "metadata": {
    "ExecuteTime": {
     "end_time": "2018-01-19T18:10:19.157864Z",
     "start_time": "2018-01-19T18:10:19.155330Z"
    },
    "nbpresent": {
     "id": "c3f7130d-012e-4aa0-9168-e18b57b03448"
    }
   },
   "outputs": [],
   "source": [
    "lengthHist = [(v, k) for (v, k) in list(toksLengthHist.items())]"
   ]
  },
  {
   "cell_type": "code",
   "execution_count": 76,
   "metadata": {
    "ExecuteTime": {
     "end_time": "2018-01-19T18:10:19.162773Z",
     "start_time": "2018-01-19T18:10:19.159818Z"
    },
    "nbpresent": {
     "id": "a3b41795-d6e4-44b8-ac25-b33d18b974ab"
    }
   },
   "outputs": [
    {
     "name": "stdout",
     "output_type": "stream",
     "text": [
      "[(96, 75), (91, 90), (69, 73), (122, 39), (113, 66), (88, 71), (54, 75), (152, 28), (52, 60), (5, 50), (41, 40), (186, 4), (81, 82), (62, 79), (12, 87), (21, 38), (86, 90), (93, 75), (121, 54), (72, 78), (84, 100), (77, 94), (126, 40), (80, 90), (61, 79), (104, 75), (65, 81), (26, 27), (101, 86), (129, 30), (55, 68), (108, 70), (109, 63), (15, 78), (154, 14), (16, 57), (74, 78), (47, 40), (57, 64), (17, 64), (107, 72), (13, 75), (90, 79), (19, 42), (83, 83), (42, 30), (115, 47), (160, 18), (43, 35), (97, 82), (110, 73), (189, 6), (100, 75), (161, 15), (85, 82), (89, 69), (132, 40), (7, 70), (27, 37), (127, 49), (99, 71), (98, 90), (68, 75), (70, 82), (66, 72), (112, 55), (105, 70), (67, 87), (130, 32), (185, 10), (10, 90), (111, 71), (49, 44), (102, 61), (63, 72), (32, 29), (148, 19), (46, 37), (36, 26), (136, 37), (71, 82), (149, 15), (25, 26), (60, 65), (131, 42), (135, 35), (79, 88), (14, 70), (120, 55), (78, 92), (114, 47), (58, 62), (159, 25), (133, 32), (9, 84), (76, 83), (20, 48), (18, 42), (172, 6), (119, 58), (38, 33), (92, 69), (24, 37), (139, 31), (6, 63), (128, 46), (138, 34), (87, 87), (118, 49), (124, 42), (50, 68), (40, 34), (212, 2), (106, 72), (144, 26), (8, 118), (51, 48), (39, 34), (125, 47), (164, 13), (232, 3), (44, 38), (82, 85), (137, 32), (33, 31), (64, 72), (117, 51), (173, 8), (153, 17), (48, 51), (3, 10), (158, 13), (140, 23), (11, 101), (95, 80), (143, 28), (59, 51), (150, 22), (94, 76), (73, 77), (75, 82), (53, 58), (134, 38), (202, 3), (35, 22), (145, 17), (22, 39), (123, 43), (247, 3), (167, 12), (162, 20), (142, 22), (116, 47), (37, 29), (103, 56), (169, 9), (56, 59), (45, 38), (179, 14), (30, 34), (147, 22), (34, 29), (23, 28), (191, 7), (141, 38), (157, 18), (198, 5), (28, 31), (282, 2), (267, 2), (155, 19), (182, 5), (187, 7), (165, 14), (168, 7), (31, 18), (146, 27), (170, 11), (195, 4), (156, 11), (178, 8), (4, 26), (193, 5), (2, 4), (29, 35), (176, 9), (151, 19), (230, 1), (177, 11), (354, 1), (180, 4), (204, 6), (260, 1), (166, 9), (444, 1), (197, 5), (171, 7), (196, 4), (248, 1), (210, 1), (174, 9), (241, 1), (254, 1), (188, 4), (163, 14), (389, 1), (218, 1), (184, 9), (183, 5), (205, 1), (258, 1), (281, 2), (199, 5), (256, 1), (181, 4), (203, 3), (229, 1), (209, 2), (231, 1), (175, 7), (225, 1), (211, 1), (253, 1), (192, 1), (190, 2), (364, 1), (228, 2), (294, 1), (308, 1), (276, 2), (220, 1), (371, 1), (215, 2), (217, 3), (200, 1), (207, 2), (223, 2), (206, 2), (219, 1), (378, 1), (222, 1), (194, 2), (318, 1), (221, 1), (243, 1), (346, 1), (303, 1), (396, 1), (201, 1), (1, 1), (366, 1), (238, 1), (261, 1), (236, 2), (341, 1)]\n"
     ]
    }
   ],
   "source": [
    "print(lengthHist)"
   ]
  },
  {
   "cell_type": "code",
   "execution_count": 77,
   "metadata": {
    "ExecuteTime": {
     "end_time": "2018-01-19T18:10:20.942313Z",
     "start_time": "2018-01-19T18:10:19.164573Z"
    },
    "nbpresent": {
     "id": "41e15189-535c-457a-b79d-f5649c646578"
    }
   },
   "outputs": [],
   "source": [
    "# Visualise:\n",
    "%matplotlib inline\n",
    "import matplotlib.pyplot as plt\n",
    "import seaborn as sns"
   ]
  },
  {
   "cell_type": "code",
   "execution_count": 78,
   "metadata": {
    "ExecuteTime": {
     "end_time": "2018-01-19T18:10:20.947042Z",
     "start_time": "2018-01-19T18:10:20.944107Z"
    },
    "nbpresent": {
     "id": "70d76d7c-8beb-4def-a407-7b8c910eab6c"
    }
   },
   "outputs": [],
   "source": [
    "lengths = list(zip(*lengthHist))[0]\n",
    "freq = list(zip(*lengthHist))[1]"
   ]
  },
  {
   "cell_type": "code",
   "execution_count": 79,
   "metadata": {
    "ExecuteTime": {
     "end_time": "2018-01-19T18:10:20.951288Z",
     "start_time": "2018-01-19T18:10:20.948888Z"
    },
    "nbpresent": {
     "id": "c539672f-e5ab-4403-844d-71b4c57c4777"
    }
   },
   "outputs": [],
   "source": [
    "import numpy as np"
   ]
  },
  {
   "cell_type": "code",
   "execution_count": 80,
   "metadata": {
    "ExecuteTime": {
     "end_time": "2018-01-19T18:10:20.956746Z",
     "start_time": "2018-01-19T18:10:20.953248Z"
    },
    "nbpresent": {
     "id": "aa073762-b8f4-410f-b0d9-6cf4c4592d86"
    }
   },
   "outputs": [],
   "source": [
    "data = [list(lengths), list(freq)]\n",
    "pd_data = pd.DataFrame(np.array(data).T, columns=['length', 'count'])"
   ]
  },
  {
   "cell_type": "code",
   "execution_count": 81,
   "metadata": {
    "ExecuteTime": {
     "end_time": "2018-01-19T18:10:20.966063Z",
     "start_time": "2018-01-19T18:10:20.958808Z"
    },
    "nbpresent": {
     "id": "6a9b5c34-a133-40bd-933e-4728a8f6c992"
    }
   },
   "outputs": [
    {
     "data": {
      "text/html": [
       "<div>\n",
       "<style scoped>\n",
       "    .dataframe tbody tr th:only-of-type {\n",
       "        vertical-align: middle;\n",
       "    }\n",
       "\n",
       "    .dataframe tbody tr th {\n",
       "        vertical-align: top;\n",
       "    }\n",
       "\n",
       "    .dataframe thead th {\n",
       "        text-align: right;\n",
       "    }\n",
       "</style>\n",
       "<table border=\"1\" class=\"dataframe\">\n",
       "  <thead>\n",
       "    <tr style=\"text-align: right;\">\n",
       "      <th></th>\n",
       "      <th>length</th>\n",
       "      <th>count</th>\n",
       "    </tr>\n",
       "  </thead>\n",
       "  <tbody>\n",
       "    <tr>\n",
       "      <th>0</th>\n",
       "      <td>96</td>\n",
       "      <td>75</td>\n",
       "    </tr>\n",
       "    <tr>\n",
       "      <th>1</th>\n",
       "      <td>91</td>\n",
       "      <td>90</td>\n",
       "    </tr>\n",
       "    <tr>\n",
       "      <th>2</th>\n",
       "      <td>69</td>\n",
       "      <td>73</td>\n",
       "    </tr>\n",
       "    <tr>\n",
       "      <th>3</th>\n",
       "      <td>122</td>\n",
       "      <td>39</td>\n",
       "    </tr>\n",
       "    <tr>\n",
       "      <th>4</th>\n",
       "      <td>113</td>\n",
       "      <td>66</td>\n",
       "    </tr>\n",
       "  </tbody>\n",
       "</table>\n",
       "</div>"
      ],
      "text/plain": [
       "   length  count\n",
       "0      96     75\n",
       "1      91     90\n",
       "2      69     73\n",
       "3     122     39\n",
       "4     113     66"
      ]
     },
     "execution_count": 81,
     "metadata": {},
     "output_type": "execute_result"
    }
   ],
   "source": [
    "pd_data.head(5)"
   ]
  },
  {
   "cell_type": "code",
   "execution_count": 82,
   "metadata": {
    "ExecuteTime": {
     "end_time": "2018-01-19T18:10:27.482363Z",
     "start_time": "2018-01-19T18:10:23.840943Z"
    },
    "nbpresent": {
     "id": "417b45ce-c486-4380-b9e7-934e7149a758"
    }
   },
   "outputs": [
    {
     "data": {
      "text/plain": [
       "(array([  0,   1,   2,   3,   4,   5,   6,   7,   8,   9,  10,  11,  12,\n",
       "         13,  14,  15,  16,  17,  18,  19,  20,  21,  22,  23,  24,  25,\n",
       "         26,  27,  28,  29,  30,  31,  32,  33,  34,  35,  36,  37,  38,\n",
       "         39,  40,  41,  42,  43,  44,  45,  46,  47,  48,  49,  50,  51,\n",
       "         52,  53,  54,  55,  56,  57,  58,  59,  60,  61,  62,  63,  64,\n",
       "         65,  66,  67,  68,  69,  70,  71,  72,  73,  74,  75,  76,  77,\n",
       "         78,  79,  80,  81,  82,  83,  84,  85,  86,  87,  88,  89,  90,\n",
       "         91,  92,  93,  94,  95,  96,  97,  98,  99, 100, 101, 102, 103,\n",
       "        104, 105, 106, 107, 108, 109, 110, 111, 112, 113, 114, 115, 116,\n",
       "        117, 118, 119, 120, 121, 122, 123, 124, 125, 126, 127, 128, 129,\n",
       "        130, 131, 132, 133, 134, 135, 136, 137, 138, 139, 140, 141, 142,\n",
       "        143, 144, 145, 146, 147, 148, 149, 150, 151, 152, 153, 154, 155,\n",
       "        156, 157, 158, 159, 160, 161, 162, 163, 164, 165, 166, 167, 168,\n",
       "        169, 170, 171, 172, 173, 174, 175, 176, 177, 178, 179, 180, 181,\n",
       "        182, 183, 184, 185, 186, 187, 188, 189, 190, 191, 192, 193, 194,\n",
       "        195, 196, 197, 198, 199, 200, 201, 202, 203, 204, 205, 206, 207,\n",
       "        208, 209, 210, 211, 212, 213, 214, 215, 216, 217, 218, 219, 220,\n",
       "        221, 222, 223, 224, 225, 226, 227, 228, 229, 230, 231, 232, 233,\n",
       "        234, 235, 236, 237, 238, 239, 240, 241, 242, 243, 244, 245, 246,\n",
       "        247, 248, 249, 250, 251, 252, 253, 254]),\n",
       " <a list of 255 Text xticklabel objects>)"
      ]
     },
     "execution_count": 82,
     "metadata": {},
     "output_type": "execute_result"
    },
    {
     "data": {
      "image/png": "[encoded data removed]",
      "text/plain": [
       "<matplotlib.figure.Figure at 0x1a15210ac8>"
      ]
     },
     "metadata": {},
     "output_type": "display_data"
    }
   ],
   "source": [
    "fig = plt.figure(figsize=(20, 10))\n",
    "ax = fig.add_subplot(111)\n",
    "sns.barplot(x='length', y='count', data=pd_data, ax=ax)\n",
    "plt.xticks(rotation=90)\n",
    "# plt.savefig('./IMG/distribution_of_pub_length.pdf', format='pdf', bbox_inches='tight')"
   ]
  },
  {
   "cell_type": "code",
   "execution_count": 126,
   "metadata": {
    "ExecuteTime": {
     "end_time": "2018-01-19T18:55:31.798292Z",
     "start_time": "2018-01-19T18:55:31.412621Z"
    },
    "nbpresent": {
     "id": "daadee07-a7e6-4ec4-bb33-63335df778ec"
    }
   },
   "outputs": [],
   "source": [
    "pub_concise.to_pickle('../data/pub_toks.pkl')"
   ]
  },
  {
   "cell_type": "markdown",
   "metadata": {
    "nbpresent": {
     "id": "774c0ea2-6b3b-4490-bd69-d326b4bccbf5"
    }
   },
   "source": [
    "----"
   ]
  },
  {
   "cell_type": "markdown",
   "metadata": {
    "collapsed": true,
    "nbpresent": {
     "id": "f735555f-7232-4869-8207-9b959bf449bd"
    }
   },
   "source": [
    "# Preprocessing scrapped `PDF`\n",
    "\n",
    "In this section, we pre-process all the pdf that we seen in the Edinburgh Research Explorer. Some publications may not have any `pdf` (that is converted to txt (see infnet-scrapper/notebooks))"
   ]
  },
  {
   "cell_type": "code",
   "execution_count": 14,
   "metadata": {
    "ExecuteTime": {
     "end_time": "2018-01-05T21:33:15.817460Z",
     "start_time": "2018-01-05T21:33:15.812044Z"
    },
    "nbpresent": {
     "id": "1426892c-c37c-47c6-8811-4d30d5cbf3ab"
    }
   },
   "outputs": [],
   "source": [
    "import os"
   ]
  },
  {
   "cell_type": "code",
   "execution_count": 38,
   "metadata": {
    "ExecuteTime": {
     "end_time": "2018-01-05T21:40:05.611432Z",
     "start_time": "2018-01-05T21:39:57.355138Z"
    },
    "nbpresent": {
     "id": "f1e051c8-18b9-46b5-8835-ed97224ac4e5"
    }
   },
   "outputs": [
    {
     "name": "stdout",
     "output_type": "stream",
     "text": [
      "03b5ea65-0e55-4ca1-bcd9-124484ae9b65\n",
      "04edfd3c-35ee-44d7-a2ea-11ed5d7f7d1a\n",
      "07ddf95b-5d2d-42f7-ae9e-cfdb914dae6d\n",
      "0b45b3e8-a6c4-40a3-a108-942ec9ba85f7\n",
      "0ec3bdbf-5de6-4607-aba9-862cadf626a4\n",
      "20e71cdb-5e4d-4513-a3b8-7d416e35aeb4\n",
      "2e98e3d6-0892-49fb-984e-d000a9505975\n",
      "40cbb66f-1c5c-46f6-b9a3-d9fa59254aad\n",
      "41899314-b749-41a4-b47e-521d4bd9b16a\n",
      "45e72a8e-99a9-4e99-8b99-c02b01bb7008\n",
      "48877653-39f8-4f4c-8bf2-80d2af6d0be7\n",
      "53ff0dc9-6438-43d8-ac4b-40b699cb6bd8\n",
      "61d43d74-2d5a-4caf-a063-edbe2a178cb8\n",
      "6df05941-cac1-4822-9618-0953abbf8150\n",
      "7557595b-8082-4278-90e4-d7fc4fbf3b86\n",
      "75ab99bb-f99d-404a-82ac-121186506851\n",
      "85900df7-dfcd-459c-af18-3f82254e0d70\n",
      "8ce362b8-8c40-4760-9dc1-d8b5cc3622ed\n",
      "996f454b-d2ac-4bc8-9779-ca158eedcdda\n",
      "9d1702f3-63fb-49a1-85b2-6f6b5edcaa43\n",
      "a1b50efd-61dd-4734-8493-983a07621321\n",
      "a4caa3e2-b3ba-4bf9-abb0-1a79228c4721\n",
      "a80888fe-96e5-4fee-ab1b-1457404e28ea\n",
      "a95c419b-d44d-4ae6-892e-0a089f4d3476\n",
      "b88208d0-709e-4237-a036-cc45dc53aa75\n",
      "be1c98b3-010d-4e25-bcc0-6b1f7910eabb\n",
      "befdc0f0-f710-4775-bc29-dd5a095b8459\n",
      "c239da37-eae7-4a63-8fa0-98cec2fdbe56\n",
      "cb2abed6-5d8f-43fe-b4af-0d3259d96efa\n",
      "d28458e7-f738-4bb7-9b1f-d5dcb5ed961d\n",
      "de681e17-1cd5-4112-b255-fba0daa1897c\n",
      "e4e0c9f9-970b-4224-a441-399ef977179b\n",
      "fa811a41-64ab-4b9c-afa4-8fdbcd7aff98\n",
      "fcf85516-32a8-45ae-b942-72cc8b344fcb\n"
     ]
    }
   ],
   "source": [
    "collection = {}\n",
    "txtdir = '../../infnet-scrapper/data/pdf2txt/txt/'\n",
    "for txt in os.listdir(txtdir):\n",
    "    txt_id = txt.split(\".txt\")[0]\n",
    "    pdf = open(txtdir + txt)\n",
    "    _txt = \" \".join(pdf.readlines())\n",
    "    if len(_txt) >= 1:\n",
    "        collection[str(txt_id)] = str(_txt)\n",
    "    else:\n",
    "        print(txt_id)\n",
    "    pdf.close()"
   ]
  },
  {
   "cell_type": "code",
   "execution_count": 39,
   "metadata": {
    "ExecuteTime": {
     "end_time": "2018-01-05T21:40:13.406550Z",
     "start_time": "2018-01-05T21:40:13.395392Z"
    },
    "nbpresent": {
     "id": "d7346c5b-af6f-40dc-8af4-2718b395dad3"
    }
   },
   "outputs": [
    {
     "data": {
      "text/plain": [
       "2553"
      ]
     },
     "execution_count": 39,
     "metadata": {},
     "output_type": "execute_result"
    }
   ],
   "source": [
    "len(collection)"
   ]
  },
  {
   "cell_type": "code",
   "execution_count": 73,
   "metadata": {
    "ExecuteTime": {
     "end_time": "2018-01-05T21:50:52.642085Z",
     "start_time": "2018-01-05T21:50:52.634168Z"
    },
    "nbpresent": {
     "id": "221cf5c4-db63-4a06-899d-5978cdbd51eb"
    }
   },
   "outputs": [],
   "source": [
    "pdf2txt = pd.Series(collection).to_frame()\n",
    "pdf2txt.rename(columns={0: 'pdf2txt'}, inplace=True)"
   ]
  },
  {
   "cell_type": "code",
   "execution_count": 74,
   "metadata": {
    "ExecuteTime": {
     "end_time": "2018-01-05T21:50:55.877772Z",
     "start_time": "2018-01-05T21:50:55.862507Z"
    },
    "nbpresent": {
     "id": "8cf77ce6-dea3-4f49-9725-1eb211ee7657"
    }
   },
   "outputs": [
    {
     "data": {
      "text/html": [
       "<div>\n",
       "<style scoped>\n",
       "    .dataframe tbody tr th:only-of-type {\n",
       "        vertical-align: middle;\n",
       "    }\n",
       "\n",
       "    .dataframe tbody tr th {\n",
       "        vertical-align: top;\n",
       "    }\n",
       "\n",
       "    .dataframe thead th {\n",
       "        text-align: right;\n",
       "    }\n",
       "</style>\n",
       "<table border=\"1\" class=\"dataframe\">\n",
       "  <thead>\n",
       "    <tr style=\"text-align: right;\">\n",
       "      <th></th>\n",
       "      <th>pdf2txt</th>\n",
       "    </tr>\n",
       "  </thead>\n",
       "  <tbody>\n",
       "    <tr>\n",
       "      <th>00297304-61a7-4bb4-a89a-347a57f02778</th>\n",
       "      <td>Transferring CNNs to Multi-instance Multi-labe...</td>\n",
       "    </tr>\n",
       "    <tr>\n",
       "      <th>0089d717-9642-4970-a51d-d32b69bed24b</th>\n",
       "      <td>Multiagent Systems for Social Computation\\n \\n...</td>\n",
       "    </tr>\n",
       "    <tr>\n",
       "      <th>009a3bb6-15a1-4c0a-85c9-5df51cd3438e</th>\n",
       "      <td>A Linked Data Approach to Know-How\\n Citation ...</td>\n",
       "    </tr>\n",
       "  </tbody>\n",
       "</table>\n",
       "</div>"
      ],
      "text/plain": [
       "                                                                                pdf2txt\n",
       "00297304-61a7-4bb4-a89a-347a57f02778  Transferring CNNs to Multi-instance Multi-labe...\n",
       "0089d717-9642-4970-a51d-d32b69bed24b  Multiagent Systems for Social Computation\\n \\n...\n",
       "009a3bb6-15a1-4c0a-85c9-5df51cd3438e  A Linked Data Approach to Know-How\\n Citation ..."
      ]
     },
     "execution_count": 74,
     "metadata": {},
     "output_type": "execute_result"
    }
   ],
   "source": [
    "pdf2txt.head(3)"
   ]
  },
  {
   "cell_type": "code",
   "execution_count": 79,
   "metadata": {
    "ExecuteTime": {
     "end_time": "2018-01-05T21:54:09.271464Z",
     "start_time": "2018-01-05T21:54:09.246295Z"
    },
    "nbpresent": {
     "id": "016ba0dd-5391-4c62-9e07-a7b4ca220fac"
    }
   },
   "outputs": [
    {
     "ename": "TypeError",
     "evalue": "join() got an unexpected keyword argument 'validate'",
     "output_type": "error",
     "traceback": [
      "\u001b[0;31m\u001b[0m",
      "\u001b[0;31mTypeError\u001b[0mTraceback (most recent call last)",
      "\u001b[0;32m<ipython-input-79-f5fbd36bb185>\u001b[0m in \u001b[0;36m<module>\u001b[0;34m()\u001b[0m\n\u001b[0;32m----> 1\u001b[0;31m \u001b[0mpub_csv_combined\u001b[0m \u001b[0;34m=\u001b[0m \u001b[0mpub_csv\u001b[0m\u001b[0;34m.\u001b[0m\u001b[0mjoin\u001b[0m\u001b[0;34m(\u001b[0m\u001b[0mpdf2txt\u001b[0m\u001b[0;34m,\u001b[0m\u001b[0mhow\u001b[0m\u001b[0;34m=\u001b[0m\u001b[0;34m'left'\u001b[0m\u001b[0;34m,\u001b[0m \u001b[0mvalidate\u001b[0m\u001b[0;34m=\u001b[0m\u001b[0;34m\"1:1\"\u001b[0m\u001b[0;34m)\u001b[0m\u001b[0;34m\u001b[0m\u001b[0m\n\u001b[0m",
      "\u001b[0;31mTypeError\u001b[0m: join() got an unexpected keyword argument 'validate'"
     ]
    }
   ],
   "source": [
    "pub_csv_combined = pub_csv.join(pdf2txt, how='left')"
   ]
  },
  {
   "cell_type": "code",
   "execution_count": 76,
   "metadata": {
    "ExecuteTime": {
     "end_time": "2018-01-05T21:51:02.732353Z",
     "start_time": "2018-01-05T21:51:02.684932Z"
    },
    "nbpresent": {
     "id": "31df0ba6-a8d6-401a-8f70-b993ebb684c4"
    }
   },
   "outputs": [
    {
     "data": {
      "text/html": [
       "<div>\n",
       "<style scoped>\n",
       "    .dataframe tbody tr th:only-of-type {\n",
       "        vertical-align: middle;\n",
       "    }\n",
       "\n",
       "    .dataframe tbody tr th {\n",
       "        vertical-align: top;\n",
       "    }\n",
       "\n",
       "    .dataframe thead th {\n",
       "        text-align: right;\n",
       "    }\n",
       "</style>\n",
       "<table border=\"1\" class=\"dataframe\">\n",
       "  <thead>\n",
       "    <tr style=\"text-align: right;\">\n",
       "      <th></th>\n",
       "      <th>date</th>\n",
       "      <th>year</th>\n",
       "      <th>title</th>\n",
       "      <th>authors</th>\n",
       "      <th>pub_url</th>\n",
       "      <th>doi_url</th>\n",
       "      <th>pdf_url</th>\n",
       "      <th>abstract</th>\n",
       "      <th>publications</th>\n",
       "      <th>pdf2txt</th>\n",
       "    </tr>\n",
       "    <tr>\n",
       "      <th>pub_id</th>\n",
       "      <th></th>\n",
       "      <th></th>\n",
       "      <th></th>\n",
       "      <th></th>\n",
       "      <th></th>\n",
       "      <th></th>\n",
       "      <th></th>\n",
       "      <th></th>\n",
       "      <th></th>\n",
       "      <th></th>\n",
       "    </tr>\n",
       "  </thead>\n",
       "  <tbody>\n",
       "    <tr>\n",
       "      <th>400818dc-63af-4a26-80c5-906f98e1f8ab</th>\n",
       "      <td>1989</td>\n",
       "      <td>1989</td>\n",
       "      <td>ballooning stability analysis of jet hmode dis...</td>\n",
       "      <td>d.p. o'brien|r. galvao|m. keilhacker|e. lazzar...</td>\n",
       "      <td>http://www.research.ed.ac.uk/portal/en/publica...</td>\n",
       "      <td>UNKNOWN</td>\n",
       "      <td>UNKNOWN</td>\n",
       "      <td>previous studies of the stability of a large a...</td>\n",
       "      <td>proceedings 16th european conference on contr...</td>\n",
       "      <td>NaN</td>\n",
       "    </tr>\n",
       "    <tr>\n",
       "      <th>18b1a861-afef-4fff-bc80-d02e05be18c4</th>\n",
       "      <td>2013</td>\n",
       "      <td>2013</td>\n",
       "      <td>query processing in data integration</td>\n",
       "      <td>paolo guagliardo|piotr wieczorek</td>\n",
       "      <td>http://www.research.ed.ac.uk/portal/en/publica...</td>\n",
       "      <td>UNKNOWN</td>\n",
       "      <td>UNKNOWN</td>\n",
       "      <td>in this chapter we illustrate the main techniq...</td>\n",
       "      <td>data exchange, integration, and streams,dagstu...</td>\n",
       "      <td>NaN</td>\n",
       "    </tr>\n",
       "    <tr>\n",
       "      <th>309fdbfc-227b-4588-9264-f0f4e3cadfcb</th>\n",
       "      <td>Mar 1994</td>\n",
       "      <td>1994</td>\n",
       "      <td>comprehension syntax</td>\n",
       "      <td>p. buneman|l. libkin|d. suciu|v. tannen|l. wong</td>\n",
       "      <td>http://www.research.ed.ac.uk/portal/en/publica...</td>\n",
       "      <td>http://dx.doi.org/10.1145/181550.181564</td>\n",
       "      <td>http://www.research.ed.ac.uk/portal/files/1651...</td>\n",
       "      <td>the syntax of comprehensions is very close to ...</td>\n",
       "      <td>sigmod record</td>\n",
       "      <td>Comprehension Syntax\\n \\n Citation for publish...</td>\n",
       "    </tr>\n",
       "  </tbody>\n",
       "</table>\n",
       "</div>"
      ],
      "text/plain": [
       "                                          date  year  \\\n",
       "pub_id                                                 \n",
       "400818dc-63af-4a26-80c5-906f98e1f8ab      1989  1989   \n",
       "18b1a861-afef-4fff-bc80-d02e05be18c4      2013  2013   \n",
       "309fdbfc-227b-4588-9264-f0f4e3cadfcb  Mar 1994  1994   \n",
       "\n",
       "                                                                                  title  \\\n",
       "pub_id                                                                                    \n",
       "400818dc-63af-4a26-80c5-906f98e1f8ab  ballooning stability analysis of jet hmode dis...   \n",
       "18b1a861-afef-4fff-bc80-d02e05be18c4               query processing in data integration   \n",
       "309fdbfc-227b-4588-9264-f0f4e3cadfcb                               comprehension syntax   \n",
       "\n",
       "                                                                                authors  \\\n",
       "pub_id                                                                                    \n",
       "400818dc-63af-4a26-80c5-906f98e1f8ab  d.p. o'brien|r. galvao|m. keilhacker|e. lazzar...   \n",
       "18b1a861-afef-4fff-bc80-d02e05be18c4                   paolo guagliardo|piotr wieczorek   \n",
       "309fdbfc-227b-4588-9264-f0f4e3cadfcb    p. buneman|l. libkin|d. suciu|v. tannen|l. wong   \n",
       "\n",
       "                                                                                pub_url  \\\n",
       "pub_id                                                                                    \n",
       "400818dc-63af-4a26-80c5-906f98e1f8ab  http://www.research.ed.ac.uk/portal/en/publica...   \n",
       "18b1a861-afef-4fff-bc80-d02e05be18c4  http://www.research.ed.ac.uk/portal/en/publica...   \n",
       "309fdbfc-227b-4588-9264-f0f4e3cadfcb  http://www.research.ed.ac.uk/portal/en/publica...   \n",
       "\n",
       "                                                                      doi_url  \\\n",
       "pub_id                                                                          \n",
       "400818dc-63af-4a26-80c5-906f98e1f8ab                                  UNKNOWN   \n",
       "18b1a861-afef-4fff-bc80-d02e05be18c4                                  UNKNOWN   \n",
       "309fdbfc-227b-4588-9264-f0f4e3cadfcb  http://dx.doi.org/10.1145/181550.181564   \n",
       "\n",
       "                                                                                pdf_url  \\\n",
       "pub_id                                                                                    \n",
       "400818dc-63af-4a26-80c5-906f98e1f8ab                                            UNKNOWN   \n",
       "18b1a861-afef-4fff-bc80-d02e05be18c4                                            UNKNOWN   \n",
       "309fdbfc-227b-4588-9264-f0f4e3cadfcb  http://www.research.ed.ac.uk/portal/files/1651...   \n",
       "\n",
       "                                                                               abstract  \\\n",
       "pub_id                                                                                    \n",
       "400818dc-63af-4a26-80c5-906f98e1f8ab  previous studies of the stability of a large a...   \n",
       "18b1a861-afef-4fff-bc80-d02e05be18c4  in this chapter we illustrate the main techniq...   \n",
       "309fdbfc-227b-4588-9264-f0f4e3cadfcb  the syntax of comprehensions is very close to ...   \n",
       "\n",
       "                                                                           publications  \\\n",
       "pub_id                                                                                    \n",
       "400818dc-63af-4a26-80c5-906f98e1f8ab   proceedings 16th european conference on contr...   \n",
       "18b1a861-afef-4fff-bc80-d02e05be18c4  data exchange, integration, and streams,dagstu...   \n",
       "309fdbfc-227b-4588-9264-f0f4e3cadfcb                                      sigmod record   \n",
       "\n",
       "                                                                                pdf2txt  \n",
       "pub_id                                                                                   \n",
       "400818dc-63af-4a26-80c5-906f98e1f8ab                                                NaN  \n",
       "18b1a861-afef-4fff-bc80-d02e05be18c4                                                NaN  \n",
       "309fdbfc-227b-4588-9264-f0f4e3cadfcb  Comprehension Syntax\\n \\n Citation for publish...  "
      ]
     },
     "execution_count": 76,
     "metadata": {},
     "output_type": "execute_result"
    }
   ],
   "source": [
    "pub_csv_combined.head(3)"
   ]
  },
  {
   "cell_type": "code",
   "execution_count": 80,
   "metadata": {
    "ExecuteTime": {
     "end_time": "2018-01-05T21:59:02.833206Z",
     "start_time": "2018-01-05T21:59:02.813015Z"
    },
    "nbpresent": {
     "id": "87ecc71b-ae00-4546-9658-f07a8449be31"
    }
   },
   "outputs": [],
   "source": [
    "pub_csv_combined_concise = pub_csv_combined[[\n",
    "    'year', 'title', 'abstract', 'publications', 'pdf2txt'\n",
    "]].copy()\n",
    "pub_csv_combined_concise.fillna(value='', axis=1, inplace=True)"
   ]
  },
  {
   "cell_type": "code",
   "execution_count": 87,
   "metadata": {
    "ExecuteTime": {
     "end_time": "2018-01-05T22:01:08.572607Z",
     "start_time": "2018-01-05T22:01:07.832515Z"
    },
    "nbpresent": {
     "id": "9a6b7fcd-a5f1-4944-bd19-47cfdd49fa8d"
    }
   },
   "outputs": [],
   "source": [
    "# Concatenate all the text together to form as the representation of the publication:\n",
    "pub_csv_combined_concise['combined'] = pub_csv_combined_concise.apply(\n",
    "    lambda row: str(row.title) + '. ' + str(row.abstract) + '. '+  str(row.publications) + '. ' + str(row.pdf2txt),\n",
    "    axis=1)"
   ]
  },
  {
   "cell_type": "code",
   "execution_count": 100,
   "metadata": {
    "ExecuteTime": {
     "end_time": "2018-01-05T22:05:45.062333Z",
     "start_time": "2018-01-05T22:04:51.788689Z"
    },
    "nbpresent": {
     "id": "35791f15-8db0-4426-a927-0947299893bd"
    }
   },
   "outputs": [],
   "source": [
    "pub_csv_combined_concise['toks'] = pub_csv_combined_concise.apply(\n",
    "    lambda row: preprocess(row.combined.decode('utf8')), axis=1)"
   ]
  },
  {
   "cell_type": "code",
   "execution_count": 102,
   "metadata": {
    "ExecuteTime": {
     "end_time": "2018-01-05T22:07:01.509271Z",
     "start_time": "2018-01-05T22:07:01.471695Z"
    },
    "nbpresent": {
     "id": "1829e2e3-bcc8-49f6-89d8-89978b8898a7"
    }
   },
   "outputs": [
    {
     "data": {
      "text/html": [
       "<div>\n",
       "<style scoped>\n",
       "    .dataframe tbody tr th:only-of-type {\n",
       "        vertical-align: middle;\n",
       "    }\n",
       "\n",
       "    .dataframe tbody tr th {\n",
       "        vertical-align: top;\n",
       "    }\n",
       "\n",
       "    .dataframe thead th {\n",
       "        text-align: right;\n",
       "    }\n",
       "</style>\n",
       "<table border=\"1\" class=\"dataframe\">\n",
       "  <thead>\n",
       "    <tr style=\"text-align: right;\">\n",
       "      <th></th>\n",
       "      <th>year</th>\n",
       "      <th>title</th>\n",
       "      <th>abstract</th>\n",
       "      <th>publications</th>\n",
       "      <th>pdf2txt</th>\n",
       "      <th>combined</th>\n",
       "      <th>toks</th>\n",
       "    </tr>\n",
       "    <tr>\n",
       "      <th>pub_id</th>\n",
       "      <th></th>\n",
       "      <th></th>\n",
       "      <th></th>\n",
       "      <th></th>\n",
       "      <th></th>\n",
       "      <th></th>\n",
       "      <th></th>\n",
       "    </tr>\n",
       "  </thead>\n",
       "  <tbody>\n",
       "    <tr>\n",
       "      <th>400818dc-63af-4a26-80c5-906f98e1f8ab</th>\n",
       "      <td>1989</td>\n",
       "      <td>ballooning stability analysis of jet hmode dis...</td>\n",
       "      <td>previous studies of the stability of a large a...</td>\n",
       "      <td>proceedings 16th european conference on contr...</td>\n",
       "      <td></td>\n",
       "      <td>ballooning stability analysis of jet hmode dis...</td>\n",
       "      <td>[balloon, stabil, analysi, jet, hmode, dischar...</td>\n",
       "    </tr>\n",
       "    <tr>\n",
       "      <th>18b1a861-afef-4fff-bc80-d02e05be18c4</th>\n",
       "      <td>2013</td>\n",
       "      <td>query processing in data integration</td>\n",
       "      <td>in this chapter we illustrate the main techniq...</td>\n",
       "      <td>data exchange, integration, and streams,dagstu...</td>\n",
       "      <td></td>\n",
       "      <td>query processing in data integration. in this ...</td>\n",
       "      <td>[queri, process, data, integr, chapter, illust...</td>\n",
       "    </tr>\n",
       "    <tr>\n",
       "      <th>309fdbfc-227b-4588-9264-f0f4e3cadfcb</th>\n",
       "      <td>1994</td>\n",
       "      <td>comprehension syntax</td>\n",
       "      <td>the syntax of comprehensions is very close to ...</td>\n",
       "      <td>sigmod record</td>\n",
       "      <td>Comprehension Syntax\\n \\n Citation for publish...</td>\n",
       "      <td>comprehension syntax. the syntax of comprehens...</td>\n",
       "      <td>[comprehens, syntax, syntax, comprehens, close...</td>\n",
       "    </tr>\n",
       "  </tbody>\n",
       "</table>\n",
       "</div>"
      ],
      "text/plain": [
       "                                      year  \\\n",
       "pub_id                                       \n",
       "400818dc-63af-4a26-80c5-906f98e1f8ab  1989   \n",
       "18b1a861-afef-4fff-bc80-d02e05be18c4  2013   \n",
       "309fdbfc-227b-4588-9264-f0f4e3cadfcb  1994   \n",
       "\n",
       "                                                                                  title  \\\n",
       "pub_id                                                                                    \n",
       "400818dc-63af-4a26-80c5-906f98e1f8ab  ballooning stability analysis of jet hmode dis...   \n",
       "18b1a861-afef-4fff-bc80-d02e05be18c4               query processing in data integration   \n",
       "309fdbfc-227b-4588-9264-f0f4e3cadfcb                               comprehension syntax   \n",
       "\n",
       "                                                                               abstract  \\\n",
       "pub_id                                                                                    \n",
       "400818dc-63af-4a26-80c5-906f98e1f8ab  previous studies of the stability of a large a...   \n",
       "18b1a861-afef-4fff-bc80-d02e05be18c4  in this chapter we illustrate the main techniq...   \n",
       "309fdbfc-227b-4588-9264-f0f4e3cadfcb  the syntax of comprehensions is very close to ...   \n",
       "\n",
       "                                                                           publications  \\\n",
       "pub_id                                                                                    \n",
       "400818dc-63af-4a26-80c5-906f98e1f8ab   proceedings 16th european conference on contr...   \n",
       "18b1a861-afef-4fff-bc80-d02e05be18c4  data exchange, integration, and streams,dagstu...   \n",
       "309fdbfc-227b-4588-9264-f0f4e3cadfcb                                      sigmod record   \n",
       "\n",
       "                                                                                pdf2txt  \\\n",
       "pub_id                                                                                    \n",
       "400818dc-63af-4a26-80c5-906f98e1f8ab                                                      \n",
       "18b1a861-afef-4fff-bc80-d02e05be18c4                                                      \n",
       "309fdbfc-227b-4588-9264-f0f4e3cadfcb  Comprehension Syntax\\n \\n Citation for publish...   \n",
       "\n",
       "                                                                               combined  \\\n",
       "pub_id                                                                                    \n",
       "400818dc-63af-4a26-80c5-906f98e1f8ab  ballooning stability analysis of jet hmode dis...   \n",
       "18b1a861-afef-4fff-bc80-d02e05be18c4  query processing in data integration. in this ...   \n",
       "309fdbfc-227b-4588-9264-f0f4e3cadfcb  comprehension syntax. the syntax of comprehens...   \n",
       "\n",
       "                                                                                   toks  \n",
       "pub_id                                                                                   \n",
       "400818dc-63af-4a26-80c5-906f98e1f8ab  [balloon, stabil, analysi, jet, hmode, dischar...  \n",
       "18b1a861-afef-4fff-bc80-d02e05be18c4  [queri, process, data, integr, chapter, illust...  \n",
       "309fdbfc-227b-4588-9264-f0f4e3cadfcb  [comprehens, syntax, syntax, comprehens, close...  "
      ]
     },
     "execution_count": 102,
     "metadata": {},
     "output_type": "execute_result"
    }
   ],
   "source": [
    "pub_csv_combined_concise.head(3)"
   ]
  },
  {
   "cell_type": "code",
   "execution_count": 114,
   "metadata": {
    "ExecuteTime": {
     "end_time": "2018-01-05T22:13:04.935496Z",
     "start_time": "2018-01-05T22:12:52.459957Z"
    },
    "nbpresent": {
     "id": "2318479a-36ee-4ea9-9bc2-733feeac88de"
    }
   },
   "outputs": [],
   "source": [
    "pub_csv_combined_concise.to_pickle('../data/pub_toks_w_pdf2txt.pkl')"
   ]
  },
  {
   "cell_type": "markdown",
   "metadata": {
    "nbpresent": {
     "id": "4d7405b0-fd93-4e0b-aa47-71be3b996cd4"
    }
   },
   "source": [
    "## Distribution of length of combined summary"
   ]
  },
  {
   "cell_type": "code",
   "execution_count": 103,
   "metadata": {
    "ExecuteTime": {
     "end_time": "2018-01-05T22:07:58.590296Z",
     "start_time": "2018-01-05T22:07:58.576665Z"
    },
    "nbpresent": {
     "id": "50b6190c-e96b-4e65-8ac4-cebd87f764a1"
    }
   },
   "outputs": [],
   "source": [
    "pub_toks = pub_csv_combined_concise[['toks']].copy()"
   ]
  },
  {
   "cell_type": "code",
   "execution_count": 105,
   "metadata": {
    "ExecuteTime": {
     "end_time": "2018-01-05T22:08:25.363895Z",
     "start_time": "2018-01-05T22:08:24.510000Z"
    },
    "nbpresent": {
     "id": "5994c637-561e-49af-a5d3-c85447abe3a7"
    }
   },
   "outputs": [],
   "source": [
    "# inspect and check if there is any publication with no `summary_toks`\n",
    "for row in pub_toks.iterrows():\n",
    "    if len(row[1]['toks']) == 0:\n",
    "        print((row[0]))"
   ]
  },
  {
   "cell_type": "code",
   "execution_count": 106,
   "metadata": {
    "ExecuteTime": {
     "end_time": "2018-01-05T22:08:26.672733Z",
     "start_time": "2018-01-05T22:08:25.369401Z"
    },
    "nbpresent": {
     "id": "3a5efbae-bc9c-4e92-932a-93ba5c20a265"
    }
   },
   "outputs": [],
   "source": [
    "# get a distribution of length of tokens:\n",
    "toksLengthHist = {}\n",
    "for row in pub_toks.iterrows():\n",
    "    l = len(row[1]['toks'])\n",
    "    if l not in list(toksLengthHist.keys()):\n",
    "        toksLengthHist[l] = 1\n",
    "    else:\n",
    "        toksLengthHist[l] += 1"
   ]
  },
  {
   "cell_type": "code",
   "execution_count": 107,
   "metadata": {
    "ExecuteTime": {
     "end_time": "2018-01-05T22:08:26.687113Z",
     "start_time": "2018-01-05T22:08:26.678790Z"
    },
    "nbpresent": {
     "id": "eac1b7df-fe75-4f66-b706-d67f87d9f886"
    }
   },
   "outputs": [],
   "source": [
    "lengthHist = [(v, k) for (v, k) in list(toksLengthHist.items())]"
   ]
  },
  {
   "cell_type": "code",
   "execution_count": 111,
   "metadata": {
    "ExecuteTime": {
     "end_time": "2018-01-05T22:09:06.287518Z",
     "start_time": "2018-01-05T22:09:06.280962Z"
    },
    "nbpresent": {
     "id": "cff5cc16-6d0c-4616-b4fe-b09ebcf2bfa2"
    }
   },
   "outputs": [],
   "source": [
    "lengths = list(zip(*lengthHist))[0]\n",
    "freq = list(zip(*lengthHist))[1]"
   ]
  },
  {
   "cell_type": "code",
   "execution_count": 112,
   "metadata": {
    "ExecuteTime": {
     "end_time": "2018-01-05T22:09:06.299309Z",
     "start_time": "2018-01-05T22:09:06.292323Z"
    },
    "nbpresent": {
     "id": "fad638c0-0a2c-407f-bd83-a5778e383ff9"
    }
   },
   "outputs": [],
   "source": [
    "data = [list(lengths), list(freq)]\n",
    "pd_data = pd.DataFrame(np.array(data).T, columns=['length', 'count'])"
   ]
  },
  {
   "cell_type": "code",
   "execution_count": 113,
   "metadata": {
    "ExecuteTime": {
     "end_time": "2018-01-05T22:11:07.273253Z",
     "start_time": "2018-01-05T22:09:06.304875Z"
    },
    "nbpresent": {
     "id": "dd0cbb34-9e97-496b-9108-28da3d74c566"
    }
   },
   "outputs": [
    {
     "data": {
      "image/png": "[encoded data removed]",
      "text/plain": [
       "<matplotlib.figure.Figure at 0x128342110>"
      ]
     },
     "metadata": {},
     "output_type": "display_data"
    }
   ],
   "source": [
    "fig = plt.figure(figsize=(20, 10))\n",
    "ax = fig.add_subplot(111)\n",
    "sns.barplot(x='length', y='count', data=pd_data, ax=ax)\n",
    "plt.xticks(rotation=90)\n",
    "# plt.savefig('./IMG/distribution_of_pub_length.pdf', format='pdf', bbox_inches='tight')"
   ]
  },
  {
   "cell_type": "markdown",
   "metadata": {
    "nbpresent": {
     "id": "89cd8a64-896d-4ddc-9ffd-9e23416bb43c"
    }
   },
   "source": [
    "## Publications from `2012-2017`"
   ]
  },
  {
   "cell_type": "code",
   "execution_count": 2,
   "metadata": {
    "ExecuteTime": {
     "end_time": "2018-01-06T15:28:45.556095Z",
     "start_time": "2018-01-06T15:28:35.738347Z"
    },
    "nbpresent": {
     "id": "5ab7a1ad-09fb-454c-a453-d813f44db3d9"
    }
   },
   "outputs": [],
   "source": [
    "pub_all = pd.read_pickle('../data/pub_toks_w_pdf2txt.pkl')"
   ]
  },
  {
   "cell_type": "code",
   "execution_count": 4,
   "metadata": {
    "ExecuteTime": {
     "end_time": "2018-01-06T15:29:16.351036Z",
     "start_time": "2018-01-06T15:29:16.308776Z"
    },
    "nbpresent": {
     "id": "af9d30ce-f573-4fa4-a344-2bdf5064e523"
    }
   },
   "outputs": [
    {
     "data": {
      "text/html": [
       "<div>\n",
       "<style scoped>\n",
       "    .dataframe tbody tr th:only-of-type {\n",
       "        vertical-align: middle;\n",
       "    }\n",
       "\n",
       "    .dataframe tbody tr th {\n",
       "        vertical-align: top;\n",
       "    }\n",
       "\n",
       "    .dataframe thead th {\n",
       "        text-align: right;\n",
       "    }\n",
       "</style>\n",
       "<table border=\"1\" class=\"dataframe\">\n",
       "  <thead>\n",
       "    <tr style=\"text-align: right;\">\n",
       "      <th></th>\n",
       "      <th>year</th>\n",
       "      <th>title</th>\n",
       "      <th>abstract</th>\n",
       "      <th>publications</th>\n",
       "      <th>pdf2txt</th>\n",
       "      <th>combined</th>\n",
       "      <th>toks</th>\n",
       "    </tr>\n",
       "    <tr>\n",
       "      <th>pub_id</th>\n",
       "      <th></th>\n",
       "      <th></th>\n",
       "      <th></th>\n",
       "      <th></th>\n",
       "      <th></th>\n",
       "      <th></th>\n",
       "      <th></th>\n",
       "    </tr>\n",
       "  </thead>\n",
       "  <tbody>\n",
       "    <tr>\n",
       "      <th>400818dc-63af-4a26-80c5-906f98e1f8ab</th>\n",
       "      <td>1989</td>\n",
       "      <td>ballooning stability analysis of jet hmode dis...</td>\n",
       "      <td>previous studies of the stability of a large a...</td>\n",
       "      <td>proceedings 16th european conference on contr...</td>\n",
       "      <td></td>\n",
       "      <td>ballooning stability analysis of jet hmode dis...</td>\n",
       "      <td>[balloon, stabil, analysi, jet, hmode, dischar...</td>\n",
       "    </tr>\n",
       "    <tr>\n",
       "      <th>18b1a861-afef-4fff-bc80-d02e05be18c4</th>\n",
       "      <td>2013</td>\n",
       "      <td>query processing in data integration</td>\n",
       "      <td>in this chapter we illustrate the main techniq...</td>\n",
       "      <td>data exchange, integration, and streams,dagstu...</td>\n",
       "      <td></td>\n",
       "      <td>query processing in data integration. in this ...</td>\n",
       "      <td>[queri, process, data, integr, chapter, illust...</td>\n",
       "    </tr>\n",
       "    <tr>\n",
       "      <th>309fdbfc-227b-4588-9264-f0f4e3cadfcb</th>\n",
       "      <td>1994</td>\n",
       "      <td>comprehension syntax</td>\n",
       "      <td>the syntax of comprehensions is very close to ...</td>\n",
       "      <td>sigmod record</td>\n",
       "      <td>Comprehension Syntax\\n \\n Citation for publish...</td>\n",
       "      <td>comprehension syntax. the syntax of comprehens...</td>\n",
       "      <td>[comprehens, syntax, syntax, comprehens, close...</td>\n",
       "    </tr>\n",
       "  </tbody>\n",
       "</table>\n",
       "</div>"
      ],
      "text/plain": [
       "                                      year  \\\n",
       "pub_id                                       \n",
       "400818dc-63af-4a26-80c5-906f98e1f8ab  1989   \n",
       "18b1a861-afef-4fff-bc80-d02e05be18c4  2013   \n",
       "309fdbfc-227b-4588-9264-f0f4e3cadfcb  1994   \n",
       "\n",
       "                                                                                  title  \\\n",
       "pub_id                                                                                    \n",
       "400818dc-63af-4a26-80c5-906f98e1f8ab  ballooning stability analysis of jet hmode dis...   \n",
       "18b1a861-afef-4fff-bc80-d02e05be18c4               query processing in data integration   \n",
       "309fdbfc-227b-4588-9264-f0f4e3cadfcb                               comprehension syntax   \n",
       "\n",
       "                                                                               abstract  \\\n",
       "pub_id                                                                                    \n",
       "400818dc-63af-4a26-80c5-906f98e1f8ab  previous studies of the stability of a large a...   \n",
       "18b1a861-afef-4fff-bc80-d02e05be18c4  in this chapter we illustrate the main techniq...   \n",
       "309fdbfc-227b-4588-9264-f0f4e3cadfcb  the syntax of comprehensions is very close to ...   \n",
       "\n",
       "                                                                           publications  \\\n",
       "pub_id                                                                                    \n",
       "400818dc-63af-4a26-80c5-906f98e1f8ab   proceedings 16th european conference on contr...   \n",
       "18b1a861-afef-4fff-bc80-d02e05be18c4  data exchange, integration, and streams,dagstu...   \n",
       "309fdbfc-227b-4588-9264-f0f4e3cadfcb                                      sigmod record   \n",
       "\n",
       "                                                                                pdf2txt  \\\n",
       "pub_id                                                                                    \n",
       "400818dc-63af-4a26-80c5-906f98e1f8ab                                                      \n",
       "18b1a861-afef-4fff-bc80-d02e05be18c4                                                      \n",
       "309fdbfc-227b-4588-9264-f0f4e3cadfcb  Comprehension Syntax\\n \\n Citation for publish...   \n",
       "\n",
       "                                                                               combined  \\\n",
       "pub_id                                                                                    \n",
       "400818dc-63af-4a26-80c5-906f98e1f8ab  ballooning stability analysis of jet hmode dis...   \n",
       "18b1a861-afef-4fff-bc80-d02e05be18c4  query processing in data integration. in this ...   \n",
       "309fdbfc-227b-4588-9264-f0f4e3cadfcb  comprehension syntax. the syntax of comprehens...   \n",
       "\n",
       "                                                                                   toks  \n",
       "pub_id                                                                                   \n",
       "400818dc-63af-4a26-80c5-906f98e1f8ab  [balloon, stabil, analysi, jet, hmode, dischar...  \n",
       "18b1a861-afef-4fff-bc80-d02e05be18c4  [queri, process, data, integr, chapter, illust...  \n",
       "309fdbfc-227b-4588-9264-f0f4e3cadfcb  [comprehens, syntax, syntax, comprehens, close...  "
      ]
     },
     "execution_count": 4,
     "metadata": {},
     "output_type": "execute_result"
    }
   ],
   "source": [
    "pub_all.head(3)"
   ]
  },
  {
   "cell_type": "code",
   "execution_count": 5,
   "metadata": {
    "ExecuteTime": {
     "end_time": "2018-01-06T15:30:04.611436Z",
     "start_time": "2018-01-06T15:30:04.606179Z"
    },
    "nbpresent": {
     "id": "e96762b5-389d-4273-b071-959e3e3100e8"
    }
   },
   "outputs": [],
   "source": [
    "gb = pub_all.groupby('year')"
   ]
  },
  {
   "cell_type": "code",
   "execution_count": 6,
   "metadata": {
    "ExecuteTime": {
     "end_time": "2018-01-06T15:30:13.609364Z",
     "start_time": "2018-01-06T15:30:13.251627Z"
    },
    "nbpresent": {
     "id": "ee4c31c3-b732-408a-a4cc-7aca2bd755bb"
    }
   },
   "outputs": [
    {
     "name": "stdout",
     "output_type": "stream",
     "text": [
      "Year:\tPub count\n",
      "2012:\t573\n",
      "2013:\t623\n",
      "2014:\t629\n",
      "2015:\t583\n",
      "2016:\t645\n",
      "2017:\t521\n"
     ]
    }
   ],
   "source": [
    "sixYears = ['2017', '2016', '2015', '2014', '2013', '2012']\n",
    "pd_years = {}\n",
    "print(\"Year:\\tPub count\")\n",
    "for yr, group in gb:\n",
    "    if yr in sixYears:\n",
    "        pd_years[yr] = group\n",
    "        print((\"{}:\\t{}\".format(yr, len(group))))"
   ]
  },
  {
   "cell_type": "code",
   "execution_count": 7,
   "metadata": {
    "ExecuteTime": {
     "end_time": "2018-01-06T15:30:34.425727Z",
     "start_time": "2018-01-06T15:30:34.416494Z"
    },
    "nbpresent": {
     "id": "17184b18-bf96-42b0-9a81-cee7aa4ca533"
    }
   },
   "outputs": [],
   "source": [
    "pub_combined_yrs = pd.concat(list(pd_years.values()))"
   ]
  },
  {
   "cell_type": "code",
   "execution_count": 44,
   "metadata": {
    "ExecuteTime": {
     "end_time": "2018-01-06T15:50:31.976527Z",
     "start_time": "2018-01-06T15:50:28.174992Z"
    },
    "nbpresent": {
     "id": "120b5a06-2274-4fab-b511-5c53aa7a080c"
    }
   },
   "outputs": [],
   "source": [
    "# Save the 2012-2017:\n",
    "pub_combined_yrs.to_pickle('../data/pub_toks_w_pdf2txt_2012-17.pkl')"
   ]
  },
  {
   "cell_type": "markdown",
   "metadata": {
    "nbpresent": {
     "id": "48905d7f-7e69-4887-820e-07262524b912"
    }
   },
   "source": [
    "### Check how many of these publications doesnt have pdf2txt:"
   ]
  },
  {
   "cell_type": "code",
   "execution_count": 37,
   "metadata": {
    "ExecuteTime": {
     "end_time": "2018-01-06T15:44:42.269819Z",
     "start_time": "2018-01-06T15:44:42.242848Z"
    },
    "nbpresent": {
     "id": "6cf25cde-632e-40c5-a55d-7173d85b4a71"
    }
   },
   "outputs": [
    {
     "name": "stdout",
     "output_type": "stream",
     "text": [
      "Year:\tPub count\t#pdf2txt\n",
      "2015\t583\t\t236\n",
      "2014\t629\t\t235\n",
      "2017\t521\t\t253\n",
      "2016\t645\t\t313\n",
      "2013\t623\t\t169\n",
      "2012\t573\t\t143\n"
     ]
    }
   ],
   "source": [
    "print(('{}\\t{}\\t{}'.format('Year:', 'Pub count', '#pdf2txt')))\n",
    "for yr, df in list(pd_years.items()):\n",
    "    _pdf2txts = df.pdf2txt.values\n",
    "    count = len([len(a.strip()) for a in _pdf2txts if len(a) > 0])\n",
    "    print(('{}\\t{}\\t\\t{}'.format(yr, len(df), count)))"
   ]
  },
  {
   "cell_type": "code",
   "execution_count": 17,
   "metadata": {
    "ExecuteTime": {
     "end_time": "2018-01-06T15:36:02.198582Z",
     "start_time": "2018-01-06T15:36:02.187289Z"
    },
    "nbpresent": {
     "id": "9624994f-71d8-4007-8d58-0858e368422c"
    }
   },
   "outputs": [
    {
     "data": {
      "text/plain": [
       "3574"
      ]
     },
     "execution_count": 17,
     "metadata": {},
     "output_type": "execute_result"
    }
   ],
   "source": [
    "len(pub_combined_yrs)"
   ]
  },
  {
   "cell_type": "markdown",
   "metadata": {
    "nbpresent": {
     "id": "05a69082-a3a0-4b37-b2c7-84e6b43445b5"
    }
   },
   "source": [
    "Total of <b>1,349</b> publications, out of 3574, from 2012-2017 have pdf that can be converted to txt"
   ]
  },
  {
   "cell_type": "code",
   "execution_count": 38,
   "metadata": {
    "ExecuteTime": {
     "end_time": "2018-01-06T15:46:58.918235Z",
     "start_time": "2018-01-06T15:46:58.913277Z"
    },
    "nbpresent": {
     "id": "df12bde8-2d65-4b1c-bad2-cd09656cfd4a"
    }
   },
   "outputs": [],
   "source": [
    "pdf2txts = pub_combined_yrs.pdf2txt.values"
   ]
  },
  {
   "cell_type": "code",
   "execution_count": 39,
   "metadata": {
    "ExecuteTime": {
     "end_time": "2018-01-06T15:47:00.258342Z",
     "start_time": "2018-01-06T15:47:00.239404Z"
    },
    "nbpresent": {
     "id": "e1db53a6-d481-4930-96b6-99556ae3b7e7"
    }
   },
   "outputs": [
    {
     "name": "stdout",
     "output_type": "stream",
     "text": [
      "2225\n"
     ]
    }
   ],
   "source": [
    "num = 0\n",
    "for t in pdf2txts:\n",
    "    if len(t.strip()) == 0:\n",
    "        num += 1"
   ]
  },
  {
   "cell_type": "code",
   "execution_count": 40,
   "metadata": {
    "ExecuteTime": {
     "end_time": "2018-01-06T15:47:01.586430Z",
     "start_time": "2018-01-06T15:47:01.568571Z"
    },
    "nbpresent": {
     "id": "be046a7d-7b2d-4955-9f5a-6583314bb4b7"
    }
   },
   "outputs": [],
   "source": [
    "lenhist = [len(t.strip()) for t in pdf2txts]"
   ]
  },
  {
   "cell_type": "code",
   "execution_count": 41,
   "metadata": {
    "ExecuteTime": {
     "end_time": "2018-01-06T15:47:02.954976Z",
     "start_time": "2018-01-06T15:47:02.945635Z"
    },
    "nbpresent": {
     "id": "22c27b7e-37d8-49a8-be75-61c0763c0aca"
    }
   },
   "outputs": [
    {
     "data": {
      "text/plain": [
       "998916"
      ]
     },
     "execution_count": 41,
     "metadata": {},
     "output_type": "execute_result"
    }
   ],
   "source": [
    "max(lenhist)"
   ]
  },
  {
   "cell_type": "code",
   "execution_count": 43,
   "metadata": {
    "ExecuteTime": {
     "end_time": "2018-01-06T15:47:25.503834Z",
     "start_time": "2018-01-06T15:47:25.255610Z"
    },
    "nbpresent": {
     "id": "ae4936df-9f60-4112-a934-8d4b418dcfba"
    }
   },
   "outputs": [
    {
     "data": {
      "image/png": "[encoded data removed]",
      "text/plain": [
       "<matplotlib.figure.Figure at 0x1269241d0>"
      ]
     },
     "metadata": {},
     "output_type": "display_data"
    }
   ],
   "source": [
    "plt.hist(lenhist, 50)"
   ]
  },
  {
   "cell_type": "code",
   "execution_count": null,
   "metadata": {
    "nbpresent": {
     "id": "e7155b94-e975-47d2-b2ff-eb80a9ca812a"
    }
   },
   "outputs": [],
   "source": []
  }
 ],
 "metadata": {
  "kernelspec": {
   "display_name": "Python [conda env:infnet3]",
   "language": "python",
   "name": "conda-env-infnet3-py"
  },
  "language_info": {
   "codemirror_mode": {
    "name": "ipython",
    "version": 3
   },
   "file_extension": ".py",
   "mimetype": "text/x-python",
   "name": "python",
   "nbconvert_exporter": "python",
   "pygments_lexer": "ipython3",
   "version": "3.6.4"
  },
  "nbpresent": {
   "slides": {
    "0f7e033f-5d6e-4e2f-9e9c-74a19ce66190": {
     "id": "0f7e033f-5d6e-4e2f-9e9c-74a19ce66190",
     "prev": "95ea5f32-a852-4506-b9bc-d0f96b5000d9",
     "regions": {
      "166a4ba8-bd03-4ce2-a2e9-6ed7323638bf": {
       "attrs": {
        "height": 0.8,
        "width": 0.8,
        "x": 0.1,
        "y": 0.1
       },
       "content": {
        "cell": "eac1b7df-fe75-4f66-b706-d67f87d9f886",
        "part": "whole"
       },
       "id": "166a4ba8-bd03-4ce2-a2e9-6ed7323638bf"
      }
     }
    },
    "14c1f91c-0c0a-47d0-a745-8b06f8898b8f": {
     "id": "14c1f91c-0c0a-47d0-a745-8b06f8898b8f",
     "prev": "aa1e394e-7e09-4063-a924-d389b2b55140",
     "regions": {
      "364e5305-0ec7-4e14-a6f3-04cffe403177": {
       "attrs": {
        "height": 0.8,
        "width": 0.8,
        "x": 0.1,
        "y": 0.1
       },
       "content": {
        "cell": "87ecc71b-ae00-4546-9658-f07a8449be31",
        "part": "whole"
       },
       "id": "364e5305-0ec7-4e14-a6f3-04cffe403177"
      }
     }
    },
    "1557af45-8aa1-4ef4-af5b-7b8e23e1b83b": {
     "id": "1557af45-8aa1-4ef4-af5b-7b8e23e1b83b",
     "prev": "f667a9ce-d01d-44f2-b7e0-bec963de2a6a",
     "regions": {
      "ccd50cd8-f908-4e94-a9f5-f66984272cac": {
       "attrs": {
        "height": 0.8,
        "width": 0.8,
        "x": 0.1,
        "y": 0.1
       },
       "content": {
        "cell": "22c27b7e-37d8-49a8-be75-61c0763c0aca",
        "part": "whole"
       },
       "id": "ccd50cd8-f908-4e94-a9f5-f66984272cac"
      }
     }
    },
    "1577cd40-70f4-4083-966b-e0d4a2a3ff88": {
     "id": "1577cd40-70f4-4083-966b-e0d4a2a3ff88",
     "prev": "64cd31b6-7e0e-4dc8-a5f3-08399f74eb48",
     "regions": {
      "f828b730-92de-4b17-b830-4bf2dfa9d942": {
       "attrs": {
        "height": 0.8,
        "width": 0.8,
        "x": 0.1,
        "y": 0.1
       },
       "content": {
        "cell": "df12bde8-2d65-4b1c-bad2-cd09656cfd4a",
        "part": "whole"
       },
       "id": "f828b730-92de-4b17-b830-4bf2dfa9d942"
      }
     }
    },
    "1dc08e75-22d4-45bd-96ee-7d74d35fbe4f": {
     "id": "1dc08e75-22d4-45bd-96ee-7d74d35fbe4f",
     "prev": "6e0d1cbf-8837-468e-bd23-d920ef6345db",
     "regions": {
      "b3858855-3e9e-4e32-89b8-80d685ca286a": {
       "attrs": {
        "height": 0.8,
        "width": 0.8,
        "x": 0.1,
        "y": 0.1
       },
       "content": {
        "cell": "36f59007-aa39-4a22-9855-413fd2270ca5",
        "part": "whole"
       },
       "id": "b3858855-3e9e-4e32-89b8-80d685ca286a"
      }
     }
    },
    "1e5ced38-d8c7-40f9-b69d-671e0bb22f12": {
     "id": "1e5ced38-d8c7-40f9-b69d-671e0bb22f12",
     "prev": "0f7e033f-5d6e-4e2f-9e9c-74a19ce66190",
     "regions": {
      "b2944075-2216-446b-b7e3-f95a62da7584": {
       "attrs": {
        "height": 0.8,
        "width": 0.8,
        "x": 0.1,
        "y": 0.1
       },
       "content": {
        "cell": "cff5cc16-6d0c-4616-b4fe-b09ebcf2bfa2",
        "part": "whole"
       },
       "id": "b2944075-2216-446b-b7e3-f95a62da7584"
      }
     }
    },
    "28c5a075-0e8e-4bb2-a8b3-57dd174c3ae1": {
     "id": "28c5a075-0e8e-4bb2-a8b3-57dd174c3ae1",
     "prev": "449d0713-54a7-4313-bab5-828f0c341f26",
     "regions": {
      "c0e2cdf5-b098-42e3-a4ab-f4050ba146d7": {
       "attrs": {
        "height": 0.8,
        "width": 0.8,
        "x": 0.1,
        "y": 0.1
       },
       "content": {
        "cell": "d7346c5b-af6f-40dc-8af4-2718b395dad3",
        "part": "whole"
       },
       "id": "c0e2cdf5-b098-42e3-a4ab-f4050ba146d7"
      }
     }
    },
    "335f024f-98cb-4369-9f7c-20699c0b6536": {
     "id": "335f024f-98cb-4369-9f7c-20699c0b6536",
     "prev": "b518e10a-2ba2-440d-8d13-315f6e62fb74",
     "regions": {
      "6a4f90f2-54aa-4e3a-a1fa-4aa72d8dd5aa": {
       "attrs": {
        "height": 0.8,
        "width": 0.8,
        "x": 0.1,
        "y": 0.1
       },
       "content": {
        "cell": "5b767afe-854f-4cbc-be56-dff704d87549",
        "part": "whole"
       },
       "id": "6a4f90f2-54aa-4e3a-a1fa-4aa72d8dd5aa"
      }
     }
    },
    "36f37f36-8403-445b-b912-2663c7f63105": {
     "id": "36f37f36-8403-445b-b912-2663c7f63105",
     "prev": "b8ffb9e0-cc8e-42a1-9474-172947ba68bb",
     "regions": {
      "a5408306-c980-40ea-9eeb-b1c5ddeed8a7": {
       "attrs": {
        "height": 0.8,
        "width": 0.8,
        "x": 0.1,
        "y": 0.1
       },
       "content": {
        "cell": "5ab7a1ad-09fb-454c-a453-d813f44db3d9",
        "part": "whole"
       },
       "id": "a5408306-c980-40ea-9eeb-b1c5ddeed8a7"
      }
     }
    },
    "380fc343-d155-4f8a-97a5-e651a3ac3afb": {
     "id": "380fc343-d155-4f8a-97a5-e651a3ac3afb",
     "prev": "36f37f36-8403-445b-b912-2663c7f63105",
     "regions": {
      "6c38554e-7b21-437d-af26-1eff88cf5bb7": {
       "attrs": {
        "height": 0.8,
        "width": 0.8,
        "x": 0.1,
        "y": 0.1
       },
       "content": {
        "cell": "af9d30ce-f573-4fa4-a344-2bdf5064e523",
        "part": "whole"
       },
       "id": "6c38554e-7b21-437d-af26-1eff88cf5bb7"
      }
     }
    },
    "3b3599e4-2aac-47d2-8ffe-7c6eddf36041": {
     "id": "3b3599e4-2aac-47d2-8ffe-7c6eddf36041",
     "prev": "e6b3ecfe-fe9d-4467-b5af-8108384669f6",
     "regions": {
      "13cf3ff8-e763-4a2a-99ff-d5d0d966c4c1": {
       "attrs": {
        "height": 0.8,
        "width": 0.8,
        "x": 0.1,
        "y": 0.1
       },
       "content": {
        "cell": "70d76d7c-8beb-4def-a407-7b8c910eab6c",
        "part": "whole"
       },
       "id": "13cf3ff8-e763-4a2a-99ff-d5d0d966c4c1"
      }
     }
    },
    "3b7b17a5-b70e-48ce-b79a-2484647d3fe4": {
     "id": "3b7b17a5-b70e-48ce-b79a-2484647d3fe4",
     "prev": "45531506-c1b2-4d5d-bd90-1f0f606ac199",
     "regions": {
      "90a068c2-01b8-43cb-a98b-615f518a577d": {
       "attrs": {
        "height": 0.8,
        "width": 0.8,
        "x": 0.1,
        "y": 0.1
       },
       "content": {
        "cell": "da8a95df-5cff-4c19-b472-35a04904b3fc",
        "part": "whole"
       },
       "id": "90a068c2-01b8-43cb-a98b-615f518a577d"
      }
     }
    },
    "3d6b6494-be78-42f5-8d02-1569c060c5aa": {
     "id": "3d6b6494-be78-42f5-8d02-1569c060c5aa",
     "prev": "7d20ee08-d4fe-438b-b1c1-e9cb4d6b85a3",
     "regions": {
      "ef5a9084-0a53-4b8c-8c93-5208b5ba3e06": {
       "attrs": {
        "height": 0.8,
        "width": 0.8,
        "x": 0.1,
        "y": 0.1
       },
       "content": {
        "cell": "6b9d6078-91b6-42f2-b1ad-152d553e7cb4",
        "part": "whole"
       },
       "id": "ef5a9084-0a53-4b8c-8c93-5208b5ba3e06"
      }
     }
    },
    "401e3348-c410-4912-b60b-a4a756eee47d": {
     "id": "401e3348-c410-4912-b60b-a4a756eee47d",
     "prev": "d84ff32f-bfa3-4b19-bce1-2cf977439451",
     "regions": {
      "9abc3f79-3185-4b28-a347-11cf6d9190f5": {
       "attrs": {
        "height": 0.8,
        "width": 0.8,
        "x": 0.1,
        "y": 0.1
       },
       "content": {
        "cell": "17184b18-bf96-42b0-9a81-cee7aa4ca533",
        "part": "whole"
       },
       "id": "9abc3f79-3185-4b28-a347-11cf6d9190f5"
      }
     }
    },
    "449d0713-54a7-4313-bab5-828f0c341f26": {
     "id": "449d0713-54a7-4313-bab5-828f0c341f26",
     "prev": "f47de0d8-c729-493b-b658-6629a43b4de7",
     "regions": {
      "01368765-7147-43a9-83f8-26688f60dca7": {
       "attrs": {
        "height": 0.8,
        "width": 0.8,
        "x": 0.1,
        "y": 0.1
       },
       "content": {
        "cell": "f1e051c8-18b9-46b5-8835-ed97224ac4e5",
        "part": "whole"
       },
       "id": "01368765-7147-43a9-83f8-26688f60dca7"
      }
     }
    },
    "454f8a8d-4708-4330-abbe-af03cd6bbb7a": {
     "id": "454f8a8d-4708-4330-abbe-af03cd6bbb7a",
     "prev": "14c1f91c-0c0a-47d0-a745-8b06f8898b8f",
     "regions": {
      "3bb96b17-d734-4f6e-860f-8259efefbe31": {
       "attrs": {
        "height": 0.8,
        "width": 0.8,
        "x": 0.1,
        "y": 0.1
       },
       "content": {
        "cell": "9a6b7fcd-a5f1-4944-bd19-47cfdd49fa8d",
        "part": "whole"
       },
       "id": "3bb96b17-d734-4f6e-860f-8259efefbe31"
      }
     }
    },
    "45531506-c1b2-4d5d-bd90-1f0f606ac199": {
     "id": "45531506-c1b2-4d5d-bd90-1f0f606ac199",
     "prev": "b776a85f-8962-4b50-b59e-f1da01addc2f",
     "regions": {
      "609e002d-1318-43c3-b921-e1152f420aba": {
       "attrs": {
        "height": 0.8,
        "width": 0.8,
        "x": 0.1,
        "y": 0.1
       },
       "content": {
        "cell": "5fe31ec7-b458-43c5-883c-10276016f503",
        "part": "whole"
       },
       "id": "609e002d-1318-43c3-b921-e1152f420aba"
      }
     }
    },
    "53678f97-f18c-475c-a249-b8256550bef0": {
     "id": "53678f97-f18c-475c-a249-b8256550bef0",
     "prev": "67f309a9-2a4a-416d-b644-13abb36b6539",
     "regions": {
      "41d77e7d-525c-4268-a7bf-98ebf6f8b304": {
       "attrs": {
        "height": 0.8,
        "width": 0.8,
        "x": 0.1,
        "y": 0.1
       },
       "content": {
        "cell": "d289888a-4d53-4f35-b432-6e26cf944613",
        "part": "whole"
       },
       "id": "41d77e7d-525c-4268-a7bf-98ebf6f8b304"
      }
     }
    },
    "53ad3452-a1ed-4eb5-b426-db7f3b86d939": {
     "id": "53ad3452-a1ed-4eb5-b426-db7f3b86d939",
     "prev": "28c5a075-0e8e-4bb2-a8b3-57dd174c3ae1",
     "regions": {
      "b1c835d0-2a7c-4fc4-8e75-2d1c4f4f8a3c": {
       "attrs": {
        "height": 0.8,
        "width": 0.8,
        "x": 0.1,
        "y": 0.1
       },
       "content": {
        "cell": "3e8841fe-31a9-4512-ba2a-dfd65579bdcf",
        "part": "whole"
       },
       "id": "b1c835d0-2a7c-4fc4-8e75-2d1c4f4f8a3c"
      }
     }
    },
    "5af4432b-f781-42b9-aa6e-dd72240bb644": {
     "id": "5af4432b-f781-42b9-aa6e-dd72240bb644",
     "prev": "53678f97-f18c-475c-a249-b8256550bef0",
     "regions": {
      "a5ee8327-839e-4d69-b115-b8b802b0f13f": {
       "attrs": {
        "height": 0.8,
        "width": 0.8,
        "x": 0.1,
        "y": 0.1
       },
       "content": {
        "cell": "a4299ece-3526-4abb-8a39-484452638eb1",
        "part": "whole"
       },
       "id": "a5ee8327-839e-4d69-b115-b8b802b0f13f"
      }
     }
    },
    "5f0c14fc-0785-4eb1-9b67-1a764153d101": {
     "id": "5f0c14fc-0785-4eb1-9b67-1a764153d101",
     "prev": "1577cd40-70f4-4083-966b-e0d4a2a3ff88",
     "regions": {
      "2932374d-f42d-4439-975a-489c19c3824b": {
       "attrs": {
        "height": 0.8,
        "width": 0.8,
        "x": 0.1,
        "y": 0.1
       },
       "content": {
        "cell": "e1db53a6-d481-4930-96b6-99556ae3b7e7",
        "part": "whole"
       },
       "id": "2932374d-f42d-4439-975a-489c19c3824b"
      }
     }
    },
    "620b4ce6-9a7e-4c30-b7a2-058dcdeefc02": {
     "id": "620b4ce6-9a7e-4c30-b7a2-058dcdeefc02",
     "prev": "eb000821-9c85-42ec-a603-b794c5af163f",
     "regions": {
      "974ac13e-2d77-4c42-8943-9b8fdae8ebf4": {
       "attrs": {
        "height": 0.8,
        "width": 0.8,
        "x": 0.1,
        "y": 0.1
       },
       "content": {
        "cell": "a3b41795-d6e4-44b8-ac25-b33d18b974ab",
        "part": "whole"
       },
       "id": "974ac13e-2d77-4c42-8943-9b8fdae8ebf4"
      }
     }
    },
    "63fc4c8c-af86-45ea-84ed-64332d2c5254": {
     "id": "63fc4c8c-af86-45ea-84ed-64332d2c5254",
     "prev": "7cec7955-078d-4dfd-8e8a-7fe032a5ef10",
     "regions": {
      "c4bfbd8a-7fee-4307-93bb-443715266bec": {
       "attrs": {
        "height": 0.8,
        "width": 0.8,
        "x": 0.1,
        "y": 0.1
       },
       "content": {
        "cell": "5994c637-561e-49af-a5d3-c85447abe3a7",
        "part": "whole"
       },
       "id": "c4bfbd8a-7fee-4307-93bb-443715266bec"
      }
     }
    },
    "64cd31b6-7e0e-4dc8-a5f3-08399f74eb48": {
     "id": "64cd31b6-7e0e-4dc8-a5f3-08399f74eb48",
     "prev": "dd58ae77-df78-46c6-afb9-94cd687ee05d",
     "regions": {
      "4c879942-52a5-44bd-89d5-0936cc2e94ef": {
       "attrs": {
        "height": 0.8,
        "width": 0.8,
        "x": 0.1,
        "y": 0.1
       },
       "content": {
        "cell": "05a69082-a3a0-4b37-b2c7-84e6b43445b5",
        "part": "whole"
       },
       "id": "4c879942-52a5-44bd-89d5-0936cc2e94ef"
      }
     }
    },
    "67f309a9-2a4a-416d-b644-13abb36b6539": {
     "id": "67f309a9-2a4a-416d-b644-13abb36b6539",
     "prev": "3b7b17a5-b70e-48ce-b79a-2484647d3fe4",
     "regions": {
      "53c77716-c69a-47e3-8264-b7264b5b3b50": {
       "attrs": {
        "height": 0.8,
        "width": 0.8,
        "x": 0.1,
        "y": 0.1
       },
       "content": {
        "cell": "94d682f1-be59-4a05-aba1-4c1db07a6a61",
        "part": "whole"
       },
       "id": "53c77716-c69a-47e3-8264-b7264b5b3b50"
      }
     }
    },
    "697bedee-7884-404e-9df2-454c84dbfeaa": {
     "id": "697bedee-7884-404e-9df2-454c84dbfeaa",
     "prev": "dc141d2c-b1b8-4bb9-81f3-f6ad1f6e672e",
     "regions": {
      "92ed4bae-5991-4bf4-bfa3-791a8cdb567e": {
       "attrs": {
        "height": 0.8,
        "width": 0.8,
        "x": 0.1,
        "y": 0.1
       },
       "content": {
        "cell": "3591e61d-dcb0-4994-a3d8-d1b2c7a2a7be",
        "part": "whole"
       },
       "id": "92ed4bae-5991-4bf4-bfa3-791a8cdb567e"
      }
     }
    },
    "6b06f55d-5cc4-4796-8ad4-8628c0bf68eb": {
     "id": "6b06f55d-5cc4-4796-8ad4-8628c0bf68eb",
     "prev": "af7768fe-58e8-4fd2-8222-cac21d1d8968",
     "regions": {
      "cf5d737f-1912-4170-836d-30462e82c776": {
       "attrs": {
        "height": 0.8,
        "width": 0.8,
        "x": 0.1,
        "y": 0.1
       },
       "content": {
        "cell": "1c2555ca-9e71-4e72-a588-c1dda3a0384e",
        "part": "whole"
       },
       "id": "cf5d737f-1912-4170-836d-30462e82c776"
      }
     }
    },
    "6cb9c219-3804-417f-9a62-c108754da322": {
     "id": "6cb9c219-3804-417f-9a62-c108754da322",
     "prev": "1e5ced38-d8c7-40f9-b69d-671e0bb22f12",
     "regions": {
      "f579bf89-466d-46cf-9e9c-684d4fab8926": {
       "attrs": {
        "height": 0.8,
        "width": 0.8,
        "x": 0.1,
        "y": 0.1
       },
       "content": {
        "cell": "fad638c0-0a2c-407f-bd83-a5778e383ff9",
        "part": "whole"
       },
       "id": "f579bf89-466d-46cf-9e9c-684d4fab8926"
      }
     }
    },
    "6e0d1cbf-8837-468e-bd23-d920ef6345db": {
     "id": "6e0d1cbf-8837-468e-bd23-d920ef6345db",
     "prev": "d942ac68-4b48-41cf-b94c-fcbc64441e77",
     "regions": {
      "b051f79c-2f1d-4e7c-a470-a140da01058a": {
       "attrs": {
        "height": 0.8,
        "width": 0.8,
        "x": 0.1,
        "y": 0.1
       },
       "content": {
        "cell": "55e1723b-5de9-48df-9c53-663a6a7e700e",
        "part": "whole"
       },
       "id": "b051f79c-2f1d-4e7c-a470-a140da01058a"
      }
     }
    },
    "6e2ace82-40cb-4b86-933c-6e62b1721257": {
     "id": "6e2ace82-40cb-4b86-933c-6e62b1721257",
     "prev": "f10cdf13-e1b4-43ff-92da-12be205baf4e",
     "regions": {
      "260e02a6-9fdd-453e-99f4-da9656c28979": {
       "attrs": {
        "height": 0.8,
        "width": 0.8,
        "x": 0.1,
        "y": 0.1
       },
       "content": {
        "cell": "e63a1ecf-72bd-4763-ac3c-ceae80633007",
        "part": "whole"
       },
       "id": "260e02a6-9fdd-453e-99f4-da9656c28979"
      }
     }
    },
    "6fab5479-bb36-4093-9b5c-6b55415c8568": {
     "id": "6fab5479-bb36-4093-9b5c-6b55415c8568",
     "prev": "969af95a-a85e-4c8e-9b0d-99c618999a59",
     "regions": {
      "24f53c0f-ff27-4690-9968-424ae711f6ef": {
       "attrs": {
        "height": 0.8,
        "width": 0.8,
        "x": 0.1,
        "y": 0.1
       },
       "content": {
        "cell": "016ba0dd-5391-4c62-9e07-a7b4ca220fac",
        "part": "whole"
       },
       "id": "24f53c0f-ff27-4690-9968-424ae711f6ef"
      }
     }
    },
    "7a1ca9ea-e506-445b-ad24-c063c869c09c": {
     "id": "7a1ca9ea-e506-445b-ad24-c063c869c09c",
     "prev": "7a38bdec-7e1f-4ba6-aa83-8670fb333ac9",
     "regions": {
      "9431388e-d241-4f81-8a4e-6d6a586a33a4": {
       "attrs": {
        "height": 0.8,
        "width": 0.8,
        "x": 0.1,
        "y": 0.1
       },
       "content": {
        "cell": "aa073762-b8f4-410f-b0d9-6cf4c4592d86",
        "part": "whole"
       },
       "id": "9431388e-d241-4f81-8a4e-6d6a586a33a4"
      }
     }
    },
    "7a38bdec-7e1f-4ba6-aa83-8670fb333ac9": {
     "id": "7a38bdec-7e1f-4ba6-aa83-8670fb333ac9",
     "prev": "3b3599e4-2aac-47d2-8ffe-7c6eddf36041",
     "regions": {
      "4fcd1f50-494c-4819-913d-8c68932b6260": {
       "attrs": {
        "height": 0.8,
        "width": 0.8,
        "x": 0.1,
        "y": 0.1
       },
       "content": {
        "cell": "c539672f-e5ab-4403-844d-71b4c57c4777",
        "part": "whole"
       },
       "id": "4fcd1f50-494c-4819-913d-8c68932b6260"
      }
     }
    },
    "7cec7955-078d-4dfd-8e8a-7fe032a5ef10": {
     "id": "7cec7955-078d-4dfd-8e8a-7fe032a5ef10",
     "prev": "7d9dc5a6-8969-4c2d-ad8e-528b516fcf3a",
     "regions": {
      "f6b47e94-fb7f-4f91-9ad1-612043d3c9db": {
       "attrs": {
        "height": 0.8,
        "width": 0.8,
        "x": 0.1,
        "y": 0.1
       },
       "content": {
        "cell": "50b6190c-e96b-4e65-8ac4-cebd87f764a1",
        "part": "whole"
       },
       "id": "f6b47e94-fb7f-4f91-9ad1-612043d3c9db"
      }
     }
    },
    "7d20ee08-d4fe-438b-b1c1-e9cb4d6b85a3": {
     "id": "7d20ee08-d4fe-438b-b1c1-e9cb4d6b85a3",
     "prev": "6e2ace82-40cb-4b86-933c-6e62b1721257",
     "regions": {
      "8e525084-2287-4d54-aade-44578f026fc3": {
       "attrs": {
        "height": 0.8,
        "width": 0.8,
        "x": 0.1,
        "y": 0.1
       },
       "content": {
        "cell": "56aeb490-47cd-4f0b-a355-215bd1560e07",
        "part": "whole"
       },
       "id": "8e525084-2287-4d54-aade-44578f026fc3"
      }
     }
    },
    "7d9dc5a6-8969-4c2d-ad8e-528b516fcf3a": {
     "id": "7d9dc5a6-8969-4c2d-ad8e-528b516fcf3a",
     "prev": "b9bc625d-99fc-405a-aa2a-a7b34af3f091",
     "regions": {
      "4047e826-33a0-4f88-95e8-f982318fc97c": {
       "attrs": {
        "height": 0.8,
        "width": 0.8,
        "x": 0.1,
        "y": 0.1
       },
       "content": {
        "cell": "4d7405b0-fd93-4e0b-aa47-71be3b996cd4",
        "part": "whole"
       },
       "id": "4047e826-33a0-4f88-95e8-f982318fc97c"
      }
     }
    },
    "87e5ef9d-39f9-4e8f-bd0b-ee8fdadbe645": {
     "id": "87e5ef9d-39f9-4e8f-bd0b-ee8fdadbe645",
     "prev": "cea61669-fbfc-4f4b-97d7-cabcd38c94b4",
     "regions": {
      "f6767bbd-1167-4d29-8403-883323ce5215": {
       "attrs": {
        "height": 0.8,
        "width": 0.8,
        "x": 0.1,
        "y": 0.1
       },
       "content": {
        "cell": "774c0ea2-6b3b-4490-bd69-d326b4bccbf5",
        "part": "whole"
       },
       "id": "f6767bbd-1167-4d29-8403-883323ce5215"
      }
     }
    },
    "93acb3c2-a7f6-4e0f-9bac-a307e15f9e06": {
     "id": "93acb3c2-a7f6-4e0f-9bac-a307e15f9e06",
     "prev": "1dc08e75-22d4-45bd-96ee-7d74d35fbe4f",
     "regions": {
      "432edb42-c0dc-464a-9a65-cf016dd4d37b": {
       "attrs": {
        "height": 0.8,
        "width": 0.8,
        "x": 0.1,
        "y": 0.1
       },
       "content": {
        "cell": "2c4388ef-2853-4e00-a533-2b5fb34d3d21",
        "part": "whole"
       },
       "id": "432edb42-c0dc-464a-9a65-cf016dd4d37b"
      }
     }
    },
    "95ea5f32-a852-4506-b9bc-d0f96b5000d9": {
     "id": "95ea5f32-a852-4506-b9bc-d0f96b5000d9",
     "prev": "63fc4c8c-af86-45ea-84ed-64332d2c5254",
     "regions": {
      "57c3301c-e34d-442d-8f81-701d28a008f6": {
       "attrs": {
        "height": 0.8,
        "width": 0.8,
        "x": 0.1,
        "y": 0.1
       },
       "content": {
        "cell": "3a5efbae-bc9c-4e92-932a-93ba5c20a265",
        "part": "whole"
       },
       "id": "57c3301c-e34d-442d-8f81-701d28a008f6"
      }
     }
    },
    "969af95a-a85e-4c8e-9b0d-99c618999a59": {
     "id": "969af95a-a85e-4c8e-9b0d-99c618999a59",
     "prev": "a4c4fd8f-4ca6-47e3-9ad1-2b08aeddf683",
     "regions": {
      "4c8704ea-3f04-4c3d-9fa7-2147418c0183": {
       "attrs": {
        "height": 0.8,
        "width": 0.8,
        "x": 0.1,
        "y": 0.1
       },
       "content": {
        "cell": "8cf77ce6-dea3-4f49-9725-1eb211ee7657",
        "part": "whole"
       },
       "id": "4c8704ea-3f04-4c3d-9fa7-2147418c0183"
      }
     }
    },
    "9ed59f28-a5c4-4086-b1ef-319cfd1c20f4": {
     "id": "9ed59f28-a5c4-4086-b1ef-319cfd1c20f4",
     "prev": "454f8a8d-4708-4330-abbe-af03cd6bbb7a",
     "regions": {
      "67e7ca88-abe5-4520-a682-4acac1200846": {
       "attrs": {
        "height": 0.8,
        "width": 0.8,
        "x": 0.1,
        "y": 0.1
       },
       "content": {
        "cell": "35791f15-8db0-4426-a927-0947299893bd",
        "part": "whole"
       },
       "id": "67e7ca88-abe5-4520-a682-4acac1200846"
      }
     }
    },
    "a0bceeca-8d58-4669-a3c9-bed57e23d406": {
     "id": "a0bceeca-8d58-4669-a3c9-bed57e23d406",
     "prev": "a5279e76-a35a-4f61-9c18-8be0b66d62c2",
     "regions": {
      "b529da59-e7d3-4dc5-b7cf-cb2b9cf54b46": {
       "attrs": {
        "height": 0.8,
        "width": 0.8,
        "x": 0.1,
        "y": 0.1
       },
       "content": {
        "cell": "e7155b94-e975-47d2-b2ff-eb80a9ca812a",
        "part": "whole"
       },
       "id": "b529da59-e7d3-4dc5-b7cf-cb2b9cf54b46"
      }
     }
    },
    "a4c4fd8f-4ca6-47e3-9ad1-2b08aeddf683": {
     "id": "a4c4fd8f-4ca6-47e3-9ad1-2b08aeddf683",
     "prev": "53ad3452-a1ed-4eb5-b426-db7f3b86d939",
     "regions": {
      "94158101-9fe6-4d6c-a8ea-55ae76184e02": {
       "attrs": {
        "height": 0.8,
        "width": 0.8,
        "x": 0.1,
        "y": 0.1
       },
       "content": {
        "cell": "221cf5c4-db63-4a06-899d-5978cdbd51eb",
        "part": "whole"
       },
       "id": "94158101-9fe6-4d6c-a8ea-55ae76184e02"
      }
     }
    },
    "a5279e76-a35a-4f61-9c18-8be0b66d62c2": {
     "id": "a5279e76-a35a-4f61-9c18-8be0b66d62c2",
     "prev": "1557af45-8aa1-4ef4-af5b-7b8e23e1b83b",
     "regions": {
      "ccfe4e9d-cfea-4e6d-9b17-a1aa63f0e05f": {
       "attrs": {
        "height": 0.8,
        "width": 0.8,
        "x": 0.1,
        "y": 0.1
       },
       "content": {
        "cell": "ae4936df-9f60-4112-a934-8d4b418dcfba",
        "part": "whole"
       },
       "id": "ccfe4e9d-cfea-4e6d-9b17-a1aa63f0e05f"
      }
     }
    },
    "aa1e394e-7e09-4063-a924-d389b2b55140": {
     "id": "aa1e394e-7e09-4063-a924-d389b2b55140",
     "prev": "6fab5479-bb36-4093-9b5c-6b55415c8568",
     "regions": {
      "ef21309a-c71d-433c-af3c-a5f71dede552": {
       "attrs": {
        "height": 0.8,
        "width": 0.8,
        "x": 0.1,
        "y": 0.1
       },
       "content": {
        "cell": "31df0ba6-a8d6-401a-8f70-b993ebb684c4",
        "part": "whole"
       },
       "id": "ef21309a-c71d-433c-af3c-a5f71dede552"
      }
     }
    },
    "af7768fe-58e8-4fd2-8222-cac21d1d8968": {
     "id": "af7768fe-58e8-4fd2-8222-cac21d1d8968",
     "prev": "697bedee-7884-404e-9df2-454c84dbfeaa",
     "regions": {
      "e2236063-9710-472a-a924-bdff546b7055": {
       "attrs": {
        "height": 0.8,
        "width": 0.8,
        "x": 0.1,
        "y": 0.1
       },
       "content": {
        "cell": "30d3cba0-421a-44da-97bd-f04ae66e7e81",
        "part": "whole"
       },
       "id": "e2236063-9710-472a-a924-bdff546b7055"
      }
     }
    },
    "b518e10a-2ba2-440d-8d13-315f6e62fb74": {
     "id": "b518e10a-2ba2-440d-8d13-315f6e62fb74",
     "prev": "3d6b6494-be78-42f5-8d02-1569c060c5aa",
     "regions": {
      "fa446c24-9197-4cfd-8956-b50794a1d651": {
       "attrs": {
        "height": 0.8,
        "width": 0.8,
        "x": 0.1,
        "y": 0.1
       },
       "content": {
        "cell": "9e175f80-f8d0-4658-b005-ba75ee0d7aaa",
        "part": "whole"
       },
       "id": "fa446c24-9197-4cfd-8956-b50794a1d651"
      }
     }
    },
    "b776a85f-8962-4b50-b59e-f1da01addc2f": {
     "id": "b776a85f-8962-4b50-b59e-f1da01addc2f",
     "prev": null,
     "regions": {
      "d88fa7c8-cc39-4035-bdbf-db2b820c8b03": {
       "attrs": {
        "height": 0.8,
        "width": 0.8,
        "x": 0.1,
        "y": 0.1
       },
       "content": {
        "cell": "d2bfca49-15d1-4e92-96ca-06e4b529dcc3",
        "part": "whole"
       },
       "id": "d88fa7c8-cc39-4035-bdbf-db2b820c8b03"
      }
     }
    },
    "b8ffb9e0-cc8e-42a1-9474-172947ba68bb": {
     "id": "b8ffb9e0-cc8e-42a1-9474-172947ba68bb",
     "prev": "dc0d210b-d8c5-47ed-841d-60fbc9e35d80",
     "regions": {
      "55b518b8-bab1-4037-942f-a82f28ae9e3c": {
       "attrs": {
        "height": 0.8,
        "width": 0.8,
        "x": 0.1,
        "y": 0.1
       },
       "content": {
        "cell": "89cd8a64-896d-4ddc-9ffd-9e23416bb43c",
        "part": "whole"
       },
       "id": "55b518b8-bab1-4037-942f-a82f28ae9e3c"
      }
     }
    },
    "b9bc625d-99fc-405a-aa2a-a7b34af3f091": {
     "id": "b9bc625d-99fc-405a-aa2a-a7b34af3f091",
     "prev": "c488fdcb-6c95-461a-a808-2d6e2d939ad7",
     "regions": {
      "ae5b743a-a155-4340-8280-34627fbfd516": {
       "attrs": {
        "height": 0.8,
        "width": 0.8,
        "x": 0.1,
        "y": 0.1
       },
       "content": {
        "cell": "2318479a-36ee-4ea9-9bc2-733feeac88de",
        "part": "whole"
       },
       "id": "ae5b743a-a155-4340-8280-34627fbfd516"
      }
     }
    },
    "bbfc4c2d-1c0e-4422-9387-f6ca5d9e14df": {
     "id": "bbfc4c2d-1c0e-4422-9387-f6ca5d9e14df",
     "prev": "7a1ca9ea-e506-445b-ad24-c063c869c09c",
     "regions": {
      "7560e21b-e4ef-4b18-96cc-5165b4f1609f": {
       "attrs": {
        "height": 0.8,
        "width": 0.8,
        "x": 0.1,
        "y": 0.1
       },
       "content": {
        "cell": "6a9b5c34-a133-40bd-933e-4728a8f6c992",
        "part": "whole"
       },
       "id": "7560e21b-e4ef-4b18-96cc-5165b4f1609f"
      }
     }
    },
    "c488fdcb-6c95-461a-a808-2d6e2d939ad7": {
     "id": "c488fdcb-6c95-461a-a808-2d6e2d939ad7",
     "prev": "9ed59f28-a5c4-4086-b1ef-319cfd1c20f4",
     "regions": {
      "9556ad99-7c55-414c-926a-700b5e666388": {
       "attrs": {
        "height": 0.8,
        "width": 0.8,
        "x": 0.1,
        "y": 0.1
       },
       "content": {
        "cell": "1829e2e3-bcc8-49f6-89d8-89978b8898a7",
        "part": "whole"
       },
       "id": "9556ad99-7c55-414c-926a-700b5e666388"
      }
     }
    },
    "cea61669-fbfc-4f4b-97d7-cabcd38c94b4": {
     "id": "cea61669-fbfc-4f4b-97d7-cabcd38c94b4",
     "prev": "ed36dd63-d2f2-4f8e-a43f-f35f23416aa5",
     "regions": {
      "6a78bcc3-5339-4a55-8ca4-49addc8b6a9c": {
       "attrs": {
        "height": 0.8,
        "width": 0.8,
        "x": 0.1,
        "y": 0.1
       },
       "content": {
        "cell": "daadee07-a7e6-4ec4-bb33-63335df778ec",
        "part": "whole"
       },
       "id": "6a78bcc3-5339-4a55-8ca4-49addc8b6a9c"
      }
     }
    },
    "d7e8202d-84ae-4db5-9744-60ece55c16f0": {
     "id": "d7e8202d-84ae-4db5-9744-60ece55c16f0",
     "prev": "e30fb08c-8f1a-4583-a08e-9387599eb388",
     "regions": {
      "6ffb461d-dd8b-4636-9d2c-f7802cabca09": {
       "attrs": {
        "height": 0.8,
        "width": 0.8,
        "x": 0.1,
        "y": 0.1
       },
       "content": {
        "cell": "954a45d4-0bd2-4ab4-89fe-3b1694e8db32",
        "part": "whole"
       },
       "id": "6ffb461d-dd8b-4636-9d2c-f7802cabca09"
      }
     }
    },
    "d84ff32f-bfa3-4b19-bce1-2cf977439451": {
     "id": "d84ff32f-bfa3-4b19-bce1-2cf977439451",
     "prev": "ffda4e07-796f-4eb1-abcb-b8c4c60927f7",
     "regions": {
      "4d0975e6-405b-4496-bf13-653e3ba805e1": {
       "attrs": {
        "height": 0.8,
        "width": 0.8,
        "x": 0.1,
        "y": 0.1
       },
       "content": {
        "cell": "ee4c31c3-b732-408a-a4cc-7aca2bd755bb",
        "part": "whole"
       },
       "id": "4d0975e6-405b-4496-bf13-653e3ba805e1"
      }
     }
    },
    "d942ac68-4b48-41cf-b94c-fcbc64441e77": {
     "id": "d942ac68-4b48-41cf-b94c-fcbc64441e77",
     "prev": "d7e8202d-84ae-4db5-9744-60ece55c16f0",
     "regions": {
      "a5fff837-3012-424f-9500-926a079769ac": {
       "attrs": {
        "height": 0.8,
        "width": 0.8,
        "x": 0.1,
        "y": 0.1
       },
       "content": {
        "cell": "f48116f3-477a-4cee-beba-8a9f71aa1e76",
        "part": "whole"
       },
       "id": "a5fff837-3012-424f-9500-926a079769ac"
      }
     }
    },
    "d98e970c-391a-4f05-aa4b-31989df21beb": {
     "id": "d98e970c-391a-4f05-aa4b-31989df21beb",
     "prev": "f75a8ec3-8173-428b-8d21-76515f81197a",
     "regions": {
      "91a146dc-8c8f-4a68-977f-f7ce4acc8e1e": {
       "attrs": {
        "height": 0.8,
        "width": 0.8,
        "x": 0.1,
        "y": 0.1
       },
       "content": {
        "cell": "6cf25cde-632e-40c5-a55d-7173d85b4a71",
        "part": "whole"
       },
       "id": "91a146dc-8c8f-4a68-977f-f7ce4acc8e1e"
      }
     }
    },
    "dc0d210b-d8c5-47ed-841d-60fbc9e35d80": {
     "id": "dc0d210b-d8c5-47ed-841d-60fbc9e35d80",
     "prev": "6cb9c219-3804-417f-9a62-c108754da322",
     "regions": {
      "a8ab7ed3-7090-448b-96d8-f455371682ad": {
       "attrs": {
        "height": 0.8,
        "width": 0.8,
        "x": 0.1,
        "y": 0.1
       },
       "content": {
        "cell": "dd0cbb34-9e97-496b-9108-28da3d74c566",
        "part": "whole"
       },
       "id": "a8ab7ed3-7090-448b-96d8-f455371682ad"
      }
     }
    },
    "dc141d2c-b1b8-4bb9-81f3-f6ad1f6e672e": {
     "id": "dc141d2c-b1b8-4bb9-81f3-f6ad1f6e672e",
     "prev": "335f024f-98cb-4369-9f7c-20699c0b6536",
     "regions": {
      "8cad4fdc-4a1e-4bf2-a7e7-29ca85682e98": {
       "attrs": {
        "height": 0.8,
        "width": 0.8,
        "x": 0.1,
        "y": 0.1
       },
       "content": {
        "cell": "b04d95d3-1adf-4ca5-8a90-2777554880ef",
        "part": "whole"
       },
       "id": "8cad4fdc-4a1e-4bf2-a7e7-29ca85682e98"
      }
     }
    },
    "dd58ae77-df78-46c6-afb9-94cd687ee05d": {
     "id": "dd58ae77-df78-46c6-afb9-94cd687ee05d",
     "prev": "d98e970c-391a-4f05-aa4b-31989df21beb",
     "regions": {
      "0c62890b-eccc-4eda-b523-7a2a183ced40": {
       "attrs": {
        "height": 0.8,
        "width": 0.8,
        "x": 0.1,
        "y": 0.1
       },
       "content": {
        "cell": "9624994f-71d8-4007-8d58-0858e368422c",
        "part": "whole"
       },
       "id": "0c62890b-eccc-4eda-b523-7a2a183ced40"
      }
     }
    },
    "e30fb08c-8f1a-4583-a08e-9387599eb388": {
     "id": "e30fb08c-8f1a-4583-a08e-9387599eb388",
     "prev": "6b06f55d-5cc4-4796-8ad4-8628c0bf68eb",
     "regions": {
      "cdd0002c-7b9a-4ce8-b460-b1596c5b0509": {
       "attrs": {
        "height": 0.8,
        "width": 0.8,
        "x": 0.1,
        "y": 0.1
       },
       "content": {
        "cell": "74c41b5a-3f1d-4e20-a41e-df6bb6d9f4df",
        "part": "whole"
       },
       "id": "cdd0002c-7b9a-4ce8-b460-b1596c5b0509"
      }
     }
    },
    "e6b3ecfe-fe9d-4467-b5af-8108384669f6": {
     "id": "e6b3ecfe-fe9d-4467-b5af-8108384669f6",
     "prev": "620b4ce6-9a7e-4c30-b7a2-058dcdeefc02",
     "regions": {
      "05697496-9c9e-4bae-a47d-420f9bc4d220": {
       "attrs": {
        "height": 0.8,
        "width": 0.8,
        "x": 0.1,
        "y": 0.1
       },
       "content": {
        "cell": "41e15189-535c-457a-b79d-f5649c646578",
        "part": "whole"
       },
       "id": "05697496-9c9e-4bae-a47d-420f9bc4d220"
      }
     }
    },
    "ea3f3b1c-0ec5-415b-a04c-fe22e1d360ac": {
     "id": "ea3f3b1c-0ec5-415b-a04c-fe22e1d360ac",
     "prev": "401e3348-c410-4912-b60b-a4a756eee47d",
     "regions": {
      "8dab127a-8f80-45e1-9100-1abf93392e2f": {
       "attrs": {
        "height": 0.8,
        "width": 0.8,
        "x": 0.1,
        "y": 0.1
       },
       "content": {
        "cell": "120b5a06-2274-4fab-b511-5c53aa7a080c",
        "part": "whole"
       },
       "id": "8dab127a-8f80-45e1-9100-1abf93392e2f"
      }
     }
    },
    "eb000821-9c85-42ec-a603-b794c5af163f": {
     "id": "eb000821-9c85-42ec-a603-b794c5af163f",
     "prev": "93acb3c2-a7f6-4e0f-9bac-a307e15f9e06",
     "regions": {
      "04ea7a0c-c002-4a8a-a024-87bb0744cd7b": {
       "attrs": {
        "height": 0.8,
        "width": 0.8,
        "x": 0.1,
        "y": 0.1
       },
       "content": {
        "cell": "c3f7130d-012e-4aa0-9168-e18b57b03448",
        "part": "whole"
       },
       "id": "04ea7a0c-c002-4a8a-a024-87bb0744cd7b"
      }
     }
    },
    "ed36dd63-d2f2-4f8e-a43f-f35f23416aa5": {
     "id": "ed36dd63-d2f2-4f8e-a43f-f35f23416aa5",
     "prev": "bbfc4c2d-1c0e-4422-9387-f6ca5d9e14df",
     "regions": {
      "7241ba03-a6d6-4846-86b7-0f128789efe9": {
       "attrs": {
        "height": 0.8,
        "width": 0.8,
        "x": 0.1,
        "y": 0.1
       },
       "content": {
        "cell": "417b45ce-c486-4380-b9e7-934e7149a758",
        "part": "whole"
       },
       "id": "7241ba03-a6d6-4846-86b7-0f128789efe9"
      }
     }
    },
    "f10cdf13-e1b4-43ff-92da-12be205baf4e": {
     "id": "f10cdf13-e1b4-43ff-92da-12be205baf4e",
     "prev": "5af4432b-f781-42b9-aa6e-dd72240bb644",
     "regions": {
      "8802a97b-48ba-4dfd-b5af-1e0ecc01c3bb": {
       "attrs": {
        "height": 0.8,
        "width": 0.8,
        "x": 0.1,
        "y": 0.1
       },
       "content": {
        "cell": "1a09f5b9-133f-4719-ab0f-a36880246a91",
        "part": "whole"
       },
       "id": "8802a97b-48ba-4dfd-b5af-1e0ecc01c3bb"
      }
     }
    },
    "f47de0d8-c729-493b-b658-6629a43b4de7": {
     "id": "f47de0d8-c729-493b-b658-6629a43b4de7",
     "prev": "fb90bbb3-eb1b-43d3-a792-40c7e3405f74",
     "regions": {
      "15754ee1-1497-433f-9022-8a05a419ee48": {
       "attrs": {
        "height": 0.8,
        "width": 0.8,
        "x": 0.1,
        "y": 0.1
       },
       "content": {
        "cell": "1426892c-c37c-47c6-8811-4d30d5cbf3ab",
        "part": "whole"
       },
       "id": "15754ee1-1497-433f-9022-8a05a419ee48"
      }
     }
    },
    "f667a9ce-d01d-44f2-b7e0-bec963de2a6a": {
     "id": "f667a9ce-d01d-44f2-b7e0-bec963de2a6a",
     "prev": "5f0c14fc-0785-4eb1-9b67-1a764153d101",
     "regions": {
      "b71c97f3-1761-491e-8ef8-5b8b5c1d7182": {
       "attrs": {
        "height": 0.8,
        "width": 0.8,
        "x": 0.1,
        "y": 0.1
       },
       "content": {
        "cell": "be046a7d-7b2d-4955-9f5a-6583314bb4b7",
        "part": "whole"
       },
       "id": "b71c97f3-1761-491e-8ef8-5b8b5c1d7182"
      }
     }
    },
    "f75a8ec3-8173-428b-8d21-76515f81197a": {
     "id": "f75a8ec3-8173-428b-8d21-76515f81197a",
     "prev": "ea3f3b1c-0ec5-415b-a04c-fe22e1d360ac",
     "regions": {
      "c72c284f-f636-4180-aa9d-cfc796411262": {
       "attrs": {
        "height": 0.8,
        "width": 0.8,
        "x": 0.1,
        "y": 0.1
       },
       "content": {
        "cell": "48905d7f-7e69-4887-820e-07262524b912",
        "part": "whole"
       },
       "id": "c72c284f-f636-4180-aa9d-cfc796411262"
      }
     }
    },
    "fa9a0893-ba0a-4e60-86ce-ac82d5b38c1d": {
     "id": "fa9a0893-ba0a-4e60-86ce-ac82d5b38c1d",
     "prev": null,
     "regions": {}
    },
    "fb90bbb3-eb1b-43d3-a792-40c7e3405f74": {
     "id": "fb90bbb3-eb1b-43d3-a792-40c7e3405f74",
     "prev": "87e5ef9d-39f9-4e8f-bd0b-ee8fdadbe645",
     "regions": {
      "8bed214b-ff81-4bb9-b435-bb050c19ccbe": {
       "attrs": {
        "height": 0.8,
        "width": 0.8,
        "x": 0.1,
        "y": 0.1
       },
       "content": {
        "cell": "f735555f-7232-4869-8207-9b959bf449bd",
        "part": "whole"
       },
       "id": "8bed214b-ff81-4bb9-b435-bb050c19ccbe"
      }
     }
    },
    "ffda4e07-796f-4eb1-abcb-b8c4c60927f7": {
     "id": "ffda4e07-796f-4eb1-abcb-b8c4c60927f7",
     "prev": "380fc343-d155-4f8a-97a5-e651a3ac3afb",
     "regions": {
      "32c72f79-ac68-4243-9bef-5fc47bb6e21b": {
       "attrs": {
        "height": 0.8,
        "width": 0.8,
        "x": 0.1,
        "y": 0.1
       },
       "content": {
        "cell": "e96762b5-389d-4273-b071-959e3e3100e8",
        "part": "whole"
       },
       "id": "32c72f79-ac68-4243-9bef-5fc47bb6e21b"
      }
     }
    }
   },
   "themes": {}
  },
  "notify_time": "5",
  "toc": {
   "nav_menu": {},
   "number_sections": false,
   "sideBar": false,
   "skip_h1_title": false,
   "title_cell": "Table of Contents",
   "title_sidebar": "Contents",
   "toc_cell": true,
   "toc_position": {
    "height": "498px",
    "left": "1581px",
    "top": "0px",
    "width": "270px"
   },
   "toc_section_display": true,
   "toc_window_display": false
  },
  "varInspector": {
   "cols": {
    "lenName": 16,
    "lenType": 16,
    "lenVar": 40
   },
   "kernels_config": {
    "python": {
     "delete_cmd_postfix": "",
     "delete_cmd_prefix": "del ",
     "library": "var_list.py",
     "varRefreshCmd": "print(var_dic_list())"
    },
    "r": {
     "delete_cmd_postfix": ") ",
     "delete_cmd_prefix": "rm(",
     "library": "var_list.r",
     "varRefreshCmd": "cat(var_dic_list()) "
    }
   },
   "types_to_exclude": [
    "module",
    "function",
    "builtin_function_or_method",
    "instance",
    "_Feature"
   ],
   "window_display": false
  }
 },
 "nbformat": 4,
 "nbformat_minor": 2
}
