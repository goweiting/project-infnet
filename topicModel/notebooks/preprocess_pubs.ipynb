{
 "cells": [
  {
   "cell_type": "markdown",
   "metadata": {
    "toc": true
   },
   "source": [
    "<h1>Table of Contents<span class=\"tocSkip\"></span></h1>\n",
    "<div class=\"toc\"><ul class=\"toc-item\"><li><span><a href=\"#Preprocessing-publication\" data-toc-modified-id=\"Preprocessing-publication-1\">Preprocessing publication</a></span><ul class=\"toc-item\"><li><span><a href=\"#publication.csv-revisited\" data-toc-modified-id=\"publication.csv-revisited-1.1\"><code>publication.csv</code> revisited</a></span></li><li><span><a href=\"#Apply-standard-preprocessing:\" data-toc-modified-id=\"Apply-standard-preprocessing:-1.2\">Apply standard preprocessing:</a></span></li><li><span><a href=\"#Distribution-of-length-of-summary\" data-toc-modified-id=\"Distribution-of-length-of-summary-1.3\">Distribution of length of summary</a></span></li></ul></li></ul></div>"
   ]
  },
  {
   "cell_type": "markdown",
   "metadata": {},
   "source": [
    "# Preprocessing publication \n",
    "\n",
    "In this notebook, I aim to detail the methods used for preprocessing the abstract and publications that will be part of the corpus used for topic modelling further down the pipeline.\n",
    "\n",
    "Building on the dataset from the [preprocess-poinf.ipynb](../../../infnet-scrapper/notebooks/preprocess-poinf.ipynb), we further preprocess the additional details scrapped from Edinburgh research explorer. \n",
    "\n",
    "The main focus of [preprocess-poinf.ipynb](../../../infnet-scrapper/notebooks/preprocess-poinf.ipynb) is to preprocess the data collected from Edinburgh Research Explorer for . This notebook, on the other hand, focuses on the publications - the abstracts (if any) and publications/conferences that the research is presented in.\n",
    "\n",
    "This is a precursor to a full-blown LDA analysis on the PDF of the research (the research papers)."
   ]
  },
  {
   "cell_type": "markdown",
   "metadata": {},
   "source": [
    "## `publication.csv` revisited\n",
    "\n",
    "I analyse the `publication.csv` dataset in this section."
   ]
  },
  {
   "cell_type": "code",
   "execution_count": 1,
   "metadata": {
    "ExecuteTime": {
     "end_time": "2017-11-17T11:35:16.327149Z",
     "start_time": "2017-11-17T11:35:16.116686Z"
    },
    "collapsed": true
   },
   "outputs": [],
   "source": [
    "import pandas as pd\n",
    "import re"
   ]
  },
  {
   "cell_type": "code",
   "execution_count": 2,
   "metadata": {
    "ExecuteTime": {
     "end_time": "2017-11-17T11:35:18.429056Z",
     "start_time": "2017-11-17T11:35:18.159501Z"
    }
   },
   "outputs": [
    {
     "name": "stdout",
     "output_type": "stream",
     "text": [
      "pub_csv contains: 8810  publications\n"
     ]
    },
    {
     "data": {
      "text/html": [
       "<div>\n",
       "<style>\n",
       "    .dataframe thead tr:only-child th {\n",
       "        text-align: right;\n",
       "    }\n",
       "\n",
       "    .dataframe thead th {\n",
       "        text-align: left;\n",
       "    }\n",
       "\n",
       "    .dataframe tbody tr th {\n",
       "        vertical-align: top;\n",
       "    }\n",
       "</style>\n",
       "<table border=\"1\" class=\"dataframe\">\n",
       "  <thead>\n",
       "    <tr style=\"text-align: right;\">\n",
       "      <th></th>\n",
       "      <th>pub_id</th>\n",
       "      <th>date</th>\n",
       "      <th>year</th>\n",
       "      <th>title</th>\n",
       "      <th>authors</th>\n",
       "      <th>pub_url</th>\n",
       "      <th>doi_url</th>\n",
       "      <th>pdf_url</th>\n",
       "      <th>abstract</th>\n",
       "      <th>publications</th>\n",
       "    </tr>\n",
       "  </thead>\n",
       "  <tbody>\n",
       "    <tr>\n",
       "      <th>40</th>\n",
       "      <td>f4293dd4-09a5-420b-b37a-2bd88d45c6e6</td>\n",
       "      <td>1 Jun 2007</td>\n",
       "      <td>2007</td>\n",
       "      <td>statistical postediting on systrans rulebased ...</td>\n",
       "      <td>loïc dugast|jean senellart|philipp koehn</td>\n",
       "      <td>http://www.research.ed.ac.uk/portal/en/publica...</td>\n",
       "      <td>UNKNOWN</td>\n",
       "      <td>http://www.research.ed.ac.uk/portal/files/1936...</td>\n",
       "      <td>this article describes the combination of a sy...</td>\n",
       "      <td>proceedings of the second workshop on statisti...</td>\n",
       "    </tr>\n",
       "    <tr>\n",
       "      <th>41</th>\n",
       "      <td>fc393df2-bf68-45cd-85ce-9faeb2c9d9b4</td>\n",
       "      <td>17 May 2017</td>\n",
       "      <td>2017</td>\n",
       "      <td>endtoend deep learning of optimization heuristics</td>\n",
       "      <td>christopher cummins|pavlos petoumenos|zheng wa...</td>\n",
       "      <td>http://www.research.ed.ac.uk/portal/en/publica...</td>\n",
       "      <td>UNKNOWN</td>\n",
       "      <td>http://www.research.ed.ac.uk/portal/files/3774...</td>\n",
       "      <td>accurate automatic optimization heuristics are...</td>\n",
       "      <td>the 26th international conference on parallel ...</td>\n",
       "    </tr>\n",
       "    <tr>\n",
       "      <th>42</th>\n",
       "      <td>c7a7fc62-2251-441c-86ac-9e0a0a0d39c9</td>\n",
       "      <td>2016</td>\n",
       "      <td>2016</td>\n",
       "      <td>a list of successes that can change the world ...</td>\n",
       "      <td>sam lindley|conor mcbride|philip trinder|donal...</td>\n",
       "      <td>http://www.research.ed.ac.uk/portal/en/publica...</td>\n",
       "      <td>http://dx.doi.org/10.1007/978-3-319-30936-1</td>\n",
       "      <td>UNKNOWN</td>\n",
       "      <td>unknown</td>\n",
       "      <td>springer international publishing,springer int...</td>\n",
       "    </tr>\n",
       "    <tr>\n",
       "      <th>43</th>\n",
       "      <td>d7dbd219-5022-49c5-87d7-d6bafacfd3d8</td>\n",
       "      <td>2002</td>\n",
       "      <td>2002</td>\n",
       "      <td>a hierarchy of polynomialtime computable simul...</td>\n",
       "      <td>kousha etessami</td>\n",
       "      <td>http://www.research.ed.ac.uk/portal/en/publica...</td>\n",
       "      <td>http://dx.doi.org/10.1007/3-540-45694-5_10</td>\n",
       "      <td>UNKNOWN</td>\n",
       "      <td>we define and provide algorithms for computing...</td>\n",
       "      <td>concur 2002 - concurrency theory,13th internat...</td>\n",
       "    </tr>\n",
       "    <tr>\n",
       "      <th>44</th>\n",
       "      <td>8b81bb37-fced-4e23-a85d-ff82d715a2a0</td>\n",
       "      <td>2006</td>\n",
       "      <td>2006</td>\n",
       "      <td>computational modelling as an approach to neur...</td>\n",
       "      <td>jörg behrendt|hecke schrobsdorff|matthias ihrk...</td>\n",
       "      <td>http://www.research.ed.ac.uk/portal/en/publica...</td>\n",
       "      <td>UNKNOWN</td>\n",
       "      <td>http://www.nld.ds.mpg.de/~hecke/archiv/2006_BC...</td>\n",
       "      <td>negative priming (np)</td>\n",
       "      <td>international journal of psychophysiology</td>\n",
       "    </tr>\n",
       "  </tbody>\n",
       "</table>\n",
       "</div>"
      ],
      "text/plain": [
       "                                  pub_id         date  year  \\\n",
       "40  f4293dd4-09a5-420b-b37a-2bd88d45c6e6   1 Jun 2007  2007   \n",
       "41  fc393df2-bf68-45cd-85ce-9faeb2c9d9b4  17 May 2017  2017   \n",
       "42  c7a7fc62-2251-441c-86ac-9e0a0a0d39c9         2016  2016   \n",
       "43  d7dbd219-5022-49c5-87d7-d6bafacfd3d8         2002  2002   \n",
       "44  8b81bb37-fced-4e23-a85d-ff82d715a2a0         2006  2006   \n",
       "\n",
       "                                                title  \\\n",
       "40  statistical postediting on systrans rulebased ...   \n",
       "41  endtoend deep learning of optimization heuristics   \n",
       "42  a list of successes that can change the world ...   \n",
       "43  a hierarchy of polynomialtime computable simul...   \n",
       "44  computational modelling as an approach to neur...   \n",
       "\n",
       "                                              authors  \\\n",
       "40           loïc dugast|jean senellart|philipp koehn   \n",
       "41  christopher cummins|pavlos petoumenos|zheng wa...   \n",
       "42  sam lindley|conor mcbride|philip trinder|donal...   \n",
       "43                                    kousha etessami   \n",
       "44  jörg behrendt|hecke schrobsdorff|matthias ihrk...   \n",
       "\n",
       "                                              pub_url  \\\n",
       "40  http://www.research.ed.ac.uk/portal/en/publica...   \n",
       "41  http://www.research.ed.ac.uk/portal/en/publica...   \n",
       "42  http://www.research.ed.ac.uk/portal/en/publica...   \n",
       "43  http://www.research.ed.ac.uk/portal/en/publica...   \n",
       "44  http://www.research.ed.ac.uk/portal/en/publica...   \n",
       "\n",
       "                                        doi_url  \\\n",
       "40                                      UNKNOWN   \n",
       "41                                      UNKNOWN   \n",
       "42  http://dx.doi.org/10.1007/978-3-319-30936-1   \n",
       "43   http://dx.doi.org/10.1007/3-540-45694-5_10   \n",
       "44                                      UNKNOWN   \n",
       "\n",
       "                                              pdf_url  \\\n",
       "40  http://www.research.ed.ac.uk/portal/files/1936...   \n",
       "41  http://www.research.ed.ac.uk/portal/files/3774...   \n",
       "42                                            UNKNOWN   \n",
       "43                                            UNKNOWN   \n",
       "44  http://www.nld.ds.mpg.de/~hecke/archiv/2006_BC...   \n",
       "\n",
       "                                             abstract  \\\n",
       "40  this article describes the combination of a sy...   \n",
       "41  accurate automatic optimization heuristics are...   \n",
       "42                                            unknown   \n",
       "43  we define and provide algorithms for computing...   \n",
       "44                              negative priming (np)   \n",
       "\n",
       "                                         publications  \n",
       "40  proceedings of the second workshop on statisti...  \n",
       "41  the 26th international conference on parallel ...  \n",
       "42  springer international publishing,springer int...  \n",
       "43  concur 2002 - concurrency theory,13th internat...  \n",
       "44         international journal of psychophysiology   "
      ]
     },
     "execution_count": 2,
     "metadata": {},
     "output_type": "execute_result"
    }
   ],
   "source": [
    "pub_csv = pd.read_csv('../data/publications.csv')\n",
    "print 'pub_csv contains:', len(pub_csv), ' publications'\n",
    "pub_csv.iloc[40:45]"
   ]
  },
  {
   "cell_type": "code",
   "execution_count": 3,
   "metadata": {
    "ExecuteTime": {
     "end_time": "2017-11-12T21:50:15.828960Z",
     "start_time": "2017-11-12T21:50:15.820591Z"
    },
    "collapsed": true
   },
   "outputs": [],
   "source": [
    "pub_csv.set_index('pub_id',inplace=True)\n",
    "pub_concise = pub_csv[['year', 'title', 'abstract', 'publications']].copy()"
   ]
  },
  {
   "cell_type": "code",
   "execution_count": 4,
   "metadata": {
    "ExecuteTime": {
     "end_time": "2017-11-12T21:58:02.584805Z",
     "start_time": "2017-11-12T21:58:02.580713Z"
    },
    "collapsed": true
   },
   "outputs": [],
   "source": [
    "# Remove all entries that are 'UNKNOWN', so that when we combine them into the `summary` column, \n",
    "# `UNKNOWN` is not a term for consideration\n",
    "def removeUnknown(x):\n",
    "    if str(x).strip().lower() == 'unknown':\n",
    "        return ''\n",
    "    else:\n",
    "        return x"
   ]
  },
  {
   "cell_type": "code",
   "execution_count": 5,
   "metadata": {
    "ExecuteTime": {
     "end_time": "2017-11-12T21:58:02.909987Z",
     "start_time": "2017-11-12T21:58:02.780482Z"
    },
    "collapsed": true
   },
   "outputs": [],
   "source": [
    "pub_concise = pub_concise.applymap(removeUnknown)"
   ]
  },
  {
   "cell_type": "code",
   "execution_count": 6,
   "metadata": {
    "ExecuteTime": {
     "end_time": "2017-11-12T22:23:52.079024Z",
     "start_time": "2017-11-12T22:23:51.541071Z"
    },
    "collapsed": true
   },
   "outputs": [],
   "source": [
    "# Concatenate all the text together to form as the representation of the publication:\n",
    "pub_concise['summary'] = pub_concise.apply(\n",
    "    lambda row: str(row.title) + ' ' + str(row.abstract) + ' '+  str(row.publications),\n",
    "    axis=1)"
   ]
  },
  {
   "cell_type": "markdown",
   "metadata": {
    "ExecuteTime": {
     "end_time": "2017-11-12T21:59:47.043162Z",
     "start_time": "2017-11-12T21:59:47.039981Z"
    }
   },
   "source": [
    "## Apply standard preprocessing:"
   ]
  },
  {
   "cell_type": "code",
   "execution_count": 11,
   "metadata": {
    "ExecuteTime": {
     "end_time": "2017-11-12T22:15:41.705691Z",
     "start_time": "2017-11-12T22:15:41.701940Z"
    }
   },
   "outputs": [],
   "source": [
    "import Stemmer\n",
    "import string"
   ]
  },
  {
   "cell_type": "code",
   "execution_count": 17,
   "metadata": {
    "ExecuteTime": {
     "end_time": "2017-11-12T23:32:22.197468Z",
     "start_time": "2017-11-12T23:32:22.192544Z"
    },
    "collapsed": true
   },
   "outputs": [],
   "source": [
    "# Standard preprocessing:\n",
    "# 1. tokenizer: split by word boundary.\n",
    "tokenize = lambda x: [t.lower().strip() for t in re.split(r'\\W+', x) if len(t) > 0]\n",
    "\n",
    "# 2. stopping: import common stopwords\n",
    "stopWordsDir = \"../data/englishST.txt\"\n",
    "sw = open(stopWordsDir, \"r\").read().splitlines()\n",
    "sw.extend(list(string.punctuation.decode('utf-8')))\n",
    "stop = set(sw)\n",
    "removeSW = lambda x: [t for t in x if t not in stop]\n",
    "\n",
    "# 3: Stemming: using pystemmer\n",
    "stemmer = Stemmer.Stemmer(\"english\")\n",
    "stem = lambda x : stemmer.stemWords(x)"
   ]
  },
  {
   "cell_type": "code",
   "execution_count": 14,
   "metadata": {
    "collapsed": true
   },
   "outputs": [],
   "source": [
    "preprocess = lambda x: stem(removeSW(tokenize(x)))"
   ]
  },
  {
   "cell_type": "code",
   "execution_count": 15,
   "metadata": {
    "ExecuteTime": {
     "end_time": "2017-11-12T23:32:36.068405Z",
     "start_time": "2017-11-12T23:32:36.064346Z"
    },
    "collapsed": true
   },
   "outputs": [],
   "source": [
    "first = pub_concise.iloc[0].summary.decode('utf-8') + '~'"
   ]
  },
  {
   "cell_type": "code",
   "execution_count": 20,
   "metadata": {
    "ExecuteTime": {
     "end_time": "2017-11-12T23:33:56.387207Z",
     "start_time": "2017-11-12T23:33:56.383230Z"
    },
    "scrolled": true
   },
   "outputs": [
    {
     "name": "stdout",
     "output_type": "stream",
     "text": [
      "balloon stabil analysi jet hmode discharg previous studi stabil larg aspect ratio model equilibrium ideal mhd balloon mode shown bulk plasma exist margin stabl valu pressur gradient paramet defin unstabl zone separ small stabl region larg stabl region close separatrix region coalesc surfac averag current densiti exceed critic plasma region stabl balloon mode valu pressur gradient paper extend result jet mode equilibria finit aspect ratio balloon formal assess relev ideal balloon stabil discharg analys shot 15894 time 56 sec 1 3 phase proceed 16th european confer control fusion plasma physic\n"
     ]
    }
   ],
   "source": [
    "print \" \".join(preprocess(first))"
   ]
  },
  {
   "cell_type": "code",
   "execution_count": 21,
   "metadata": {
    "ExecuteTime": {
     "end_time": "2017-11-12T23:34:36.333991Z",
     "start_time": "2017-11-12T23:34:09.420301Z"
    },
    "collapsed": true
   },
   "outputs": [],
   "source": [
    "pub_concise['summary_toks'] = pub_concise.apply(lambda row: preprocess(row.summary.decode('utf8')), axis=1)"
   ]
  },
  {
   "cell_type": "code",
   "execution_count": 23,
   "metadata": {
    "ExecuteTime": {
     "end_time": "2017-11-12T23:34:39.703223Z",
     "start_time": "2017-11-12T23:34:39.656027Z"
    }
   },
   "outputs": [
    {
     "data": {
      "text/html": [
       "<div>\n",
       "<style>\n",
       "    .dataframe thead tr:only-child th {\n",
       "        text-align: right;\n",
       "    }\n",
       "\n",
       "    .dataframe thead th {\n",
       "        text-align: left;\n",
       "    }\n",
       "\n",
       "    .dataframe tbody tr th {\n",
       "        vertical-align: top;\n",
       "    }\n",
       "</style>\n",
       "<table border=\"1\" class=\"dataframe\">\n",
       "  <thead>\n",
       "    <tr style=\"text-align: right;\">\n",
       "      <th></th>\n",
       "      <th>year</th>\n",
       "      <th>title</th>\n",
       "      <th>abstract</th>\n",
       "      <th>publications</th>\n",
       "      <th>summary</th>\n",
       "      <th>summary_toks</th>\n",
       "    </tr>\n",
       "    <tr>\n",
       "      <th>pub_id</th>\n",
       "      <th></th>\n",
       "      <th></th>\n",
       "      <th></th>\n",
       "      <th></th>\n",
       "      <th></th>\n",
       "      <th></th>\n",
       "    </tr>\n",
       "  </thead>\n",
       "  <tbody>\n",
       "    <tr>\n",
       "      <th>400818dc-63af-4a26-80c5-906f98e1f8ab</th>\n",
       "      <td>1989</td>\n",
       "      <td>ballooning stability analysis of jet hmode dis...</td>\n",
       "      <td>previous studies of the stability of a large a...</td>\n",
       "      <td>proceedings 16th european conference on contr...</td>\n",
       "      <td>ballooning stability analysis of jet hmode dis...</td>\n",
       "      <td>[balloon, stabil, analysi, jet, hmode, dischar...</td>\n",
       "    </tr>\n",
       "    <tr>\n",
       "      <th>18b1a861-afef-4fff-bc80-d02e05be18c4</th>\n",
       "      <td>2013</td>\n",
       "      <td>query processing in data integration</td>\n",
       "      <td>in this chapter we illustrate the main techniq...</td>\n",
       "      <td>data exchange, integration, and streams,dagstu...</td>\n",
       "      <td>query processing in data integration in this c...</td>\n",
       "      <td>[queri, process, data, integr, chapter, illust...</td>\n",
       "    </tr>\n",
       "    <tr>\n",
       "      <th>309fdbfc-227b-4588-9264-f0f4e3cadfcb</th>\n",
       "      <td>1994</td>\n",
       "      <td>comprehension syntax</td>\n",
       "      <td>the syntax of comprehensions is very close to ...</td>\n",
       "      <td>sigmod record</td>\n",
       "      <td>comprehension syntax the syntax of comprehensi...</td>\n",
       "      <td>[comprehens, syntax, syntax, comprehens, close...</td>\n",
       "    </tr>\n",
       "    <tr>\n",
       "      <th>d5814bab-5fc2-4c31-92b7-543c7ce75cb4</th>\n",
       "      <td>2012</td>\n",
       "      <td>evaluation of speaker verification security an...</td>\n",
       "      <td>in this paper, we evaluate the vulnerability o...</td>\n",
       "      <td>ieee transactions on audio, speech and languag...</td>\n",
       "      <td>evaluation of speaker verification security an...</td>\n",
       "      <td>[evalu, speaker, verif, secur, detect, hmmbase...</td>\n",
       "    </tr>\n",
       "  </tbody>\n",
       "</table>\n",
       "</div>"
      ],
      "text/plain": [
       "                                      year  \\\n",
       "pub_id                                       \n",
       "400818dc-63af-4a26-80c5-906f98e1f8ab  1989   \n",
       "18b1a861-afef-4fff-bc80-d02e05be18c4  2013   \n",
       "309fdbfc-227b-4588-9264-f0f4e3cadfcb  1994   \n",
       "d5814bab-5fc2-4c31-92b7-543c7ce75cb4  2012   \n",
       "\n",
       "                                                                                  title  \\\n",
       "pub_id                                                                                    \n",
       "400818dc-63af-4a26-80c5-906f98e1f8ab  ballooning stability analysis of jet hmode dis...   \n",
       "18b1a861-afef-4fff-bc80-d02e05be18c4               query processing in data integration   \n",
       "309fdbfc-227b-4588-9264-f0f4e3cadfcb                               comprehension syntax   \n",
       "d5814bab-5fc2-4c31-92b7-543c7ce75cb4  evaluation of speaker verification security an...   \n",
       "\n",
       "                                                                               abstract  \\\n",
       "pub_id                                                                                    \n",
       "400818dc-63af-4a26-80c5-906f98e1f8ab  previous studies of the stability of a large a...   \n",
       "18b1a861-afef-4fff-bc80-d02e05be18c4  in this chapter we illustrate the main techniq...   \n",
       "309fdbfc-227b-4588-9264-f0f4e3cadfcb  the syntax of comprehensions is very close to ...   \n",
       "d5814bab-5fc2-4c31-92b7-543c7ce75cb4  in this paper, we evaluate the vulnerability o...   \n",
       "\n",
       "                                                                           publications  \\\n",
       "pub_id                                                                                    \n",
       "400818dc-63af-4a26-80c5-906f98e1f8ab   proceedings 16th european conference on contr...   \n",
       "18b1a861-afef-4fff-bc80-d02e05be18c4  data exchange, integration, and streams,dagstu...   \n",
       "309fdbfc-227b-4588-9264-f0f4e3cadfcb                                      sigmod record   \n",
       "d5814bab-5fc2-4c31-92b7-543c7ce75cb4  ieee transactions on audio, speech and languag...   \n",
       "\n",
       "                                                                                summary  \\\n",
       "pub_id                                                                                    \n",
       "400818dc-63af-4a26-80c5-906f98e1f8ab  ballooning stability analysis of jet hmode dis...   \n",
       "18b1a861-afef-4fff-bc80-d02e05be18c4  query processing in data integration in this c...   \n",
       "309fdbfc-227b-4588-9264-f0f4e3cadfcb  comprehension syntax the syntax of comprehensi...   \n",
       "d5814bab-5fc2-4c31-92b7-543c7ce75cb4  evaluation of speaker verification security an...   \n",
       "\n",
       "                                                                           summary_toks  \n",
       "pub_id                                                                                   \n",
       "400818dc-63af-4a26-80c5-906f98e1f8ab  [balloon, stabil, analysi, jet, hmode, dischar...  \n",
       "18b1a861-afef-4fff-bc80-d02e05be18c4  [queri, process, data, integr, chapter, illust...  \n",
       "309fdbfc-227b-4588-9264-f0f4e3cadfcb  [comprehens, syntax, syntax, comprehens, close...  \n",
       "d5814bab-5fc2-4c31-92b7-543c7ce75cb4  [evalu, speaker, verif, secur, detect, hmmbase...  "
      ]
     },
     "execution_count": 23,
     "metadata": {},
     "output_type": "execute_result"
    }
   ],
   "source": [
    "pub_concise.head(4)"
   ]
  },
  {
   "cell_type": "markdown",
   "metadata": {},
   "source": [
    "## Distribution of length of summary"
   ]
  },
  {
   "cell_type": "code",
   "execution_count": 24,
   "metadata": {
    "ExecuteTime": {
     "end_time": "2017-11-12T23:35:55.563878Z",
     "start_time": "2017-11-12T23:35:55.558931Z"
    },
    "collapsed": true
   },
   "outputs": [],
   "source": [
    "pub_toks = pub_concise[['summary_toks']].copy()"
   ]
  },
  {
   "cell_type": "code",
   "execution_count": 96,
   "metadata": {},
   "outputs": [
    {
     "data": {
      "text/html": [
       "<div>\n",
       "<style>\n",
       "    .dataframe thead tr:only-child th {\n",
       "        text-align: right;\n",
       "    }\n",
       "\n",
       "    .dataframe thead th {\n",
       "        text-align: left;\n",
       "    }\n",
       "\n",
       "    .dataframe tbody tr th {\n",
       "        vertical-align: top;\n",
       "    }\n",
       "</style>\n",
       "<table border=\"1\" class=\"dataframe\">\n",
       "  <thead>\n",
       "    <tr style=\"text-align: right;\">\n",
       "      <th></th>\n",
       "      <th>summary_toks</th>\n",
       "    </tr>\n",
       "    <tr>\n",
       "      <th>pub_id</th>\n",
       "      <th></th>\n",
       "    </tr>\n",
       "  </thead>\n",
       "  <tbody>\n",
       "    <tr>\n",
       "      <th>400818dc-63af-4a26-80c5-906f98e1f8ab</th>\n",
       "      <td>[balloon, stabil, analysi, jet, hmode, dischar...</td>\n",
       "    </tr>\n",
       "    <tr>\n",
       "      <th>18b1a861-afef-4fff-bc80-d02e05be18c4</th>\n",
       "      <td>[queri, process, data, integr, chapter, illust...</td>\n",
       "    </tr>\n",
       "  </tbody>\n",
       "</table>\n",
       "</div>"
      ],
      "text/plain": [
       "                                                                           summary_toks\n",
       "pub_id                                                                                 \n",
       "400818dc-63af-4a26-80c5-906f98e1f8ab  [balloon, stabil, analysi, jet, hmode, dischar...\n",
       "18b1a861-afef-4fff-bc80-d02e05be18c4  [queri, process, data, integr, chapter, illust..."
      ]
     },
     "execution_count": 96,
     "metadata": {},
     "output_type": "execute_result"
    }
   ],
   "source": [
    "pub_toks.head(2)"
   ]
  },
  {
   "cell_type": "code",
   "execution_count": 25,
   "metadata": {
    "ExecuteTime": {
     "end_time": "2017-11-12T23:42:19.504969Z",
     "start_time": "2017-11-12T23:42:18.600505Z"
    },
    "collapsed": true
   },
   "outputs": [],
   "source": [
    "# inspect and check if there is any publication with no `summary_toks`\n",
    "for row in pub_toks.iterrows():\n",
    "    if len(row[1]['summary_toks']) == 0:\n",
    "        print row[0]"
   ]
  },
  {
   "cell_type": "code",
   "execution_count": 26,
   "metadata": {
    "ExecuteTime": {
     "end_time": "2017-11-12T23:44:26.982688Z",
     "start_time": "2017-11-12T23:44:26.053779Z"
    },
    "collapsed": true
   },
   "outputs": [],
   "source": [
    "# get a distribution of length of tokens:\n",
    "toksLengthHist = {}\n",
    "for row in pub_toks.iterrows():\n",
    "    l = len(row[1]['summary_toks'])\n",
    "    if l not in toksLengthHist.keys():\n",
    "        toksLengthHist[l] = 1\n",
    "    else:\n",
    "        toksLengthHist[l] += 1"
   ]
  },
  {
   "cell_type": "code",
   "execution_count": 27,
   "metadata": {
    "ExecuteTime": {
     "end_time": "2017-11-12T23:47:05.172863Z",
     "start_time": "2017-11-12T23:47:05.169084Z"
    },
    "collapsed": true
   },
   "outputs": [],
   "source": [
    "lengthHist = [(v,k) for (v,k) in toksLengthHist.iteritems()]"
   ]
  },
  {
   "cell_type": "code",
   "execution_count": 28,
   "metadata": {
    "ExecuteTime": {
     "end_time": "2017-11-12T23:56:59.077658Z",
     "start_time": "2017-11-12T23:56:59.072618Z"
    }
   },
   "outputs": [
    {
     "name": "stdout",
     "output_type": "stream",
     "text": [
      "[(1, 1), (2, 4), (3, 14), (4, 26), (5, 55), (6, 62), (7, 83), (8, 105), (9, 84), (10, 98), (11, 97), (12, 88), (13, 83), (14, 57), (15, 66), (16, 58), (17, 51), (18, 44), (19, 44), (20, 40), (21, 41), (22, 41), (23, 34), (24, 38), (25, 33), (26, 35), (27, 27), (28, 36), (29, 29), (30, 38), (31, 33), (32, 24), (33, 38), (34, 38), (35, 30), (36, 33), (37, 30), (38, 38), (39, 42), (40, 53), (41, 39), (42, 49), (43, 40), (44, 44), (45, 36), (46, 42), (47, 55), (48, 61), (49, 68), (50, 77), (51, 71), (52, 60), (53, 52), (54, 70), (55, 69), (56, 79), (57, 76), (58, 78), (59, 81), (60, 73), (61, 79), (62, 72), (63, 84), (64, 76), (65, 89), (66, 73), (67, 90), (68, 77), (69, 84), (70, 83), (71, 104), (72, 100), (73, 85), (74, 82), (75, 91), (76, 109), (77, 84), (78, 91), (79, 106), (80, 89), (81, 92), (82, 105), (83, 89), (84, 89), (85, 84), (86, 85), (87, 93), (88, 85), (89, 83), (90, 90), (91, 83), (92, 66), (93, 77), (94, 82), (95, 83), (96, 76), (97, 80), (98, 80), (99, 70), (100, 81), (101, 64), (102, 64), (103, 75), (104, 74), (105, 72), (106, 66), (107, 53), (108, 58), (109, 56), (110, 44), (111, 63), (112, 52), (113, 55), (114, 60), (115, 47), (116, 50), (117, 48), (118, 39), (119, 38), (120, 50), (121, 42), (122, 39), (123, 37), (124, 37), (125, 23), (126, 39), (127, 41), (128, 36), (129, 28), (130, 39), (131, 45), (132, 36), (133, 30), (134, 30), (135, 23), (136, 30), (137, 28), (138, 18), (139, 20), (140, 25), (141, 23), (142, 20), (143, 16), (144, 21), (145, 14), (146, 12), (147, 18), (148, 10), (149, 18), (150, 22), (151, 11), (152, 15), (153, 13), (154, 16), (155, 14), (156, 9), (157, 8), (158, 11), (159, 10), (160, 9), (161, 7), (162, 8), (163, 11), (164, 9), (165, 10), (166, 8), (167, 6), (168, 4), (169, 3), (170, 3), (171, 9), (172, 4), (173, 6), (174, 6), (175, 8), (176, 5), (177, 7), (178, 7), (179, 3), (181, 3), (182, 2), (183, 3), (184, 6), (185, 3), (186, 1), (187, 1), (188, 3), (189, 6), (190, 2), (191, 4), (192, 2), (193, 5), (194, 1), (195, 5), (196, 3), (197, 1), (200, 2), (201, 3), (202, 1), (203, 3), (204, 1), (205, 2), (206, 1), (209, 1), (211, 1), (213, 1), (216, 1), (218, 1), (220, 4), (221, 1), (222, 2), (225, 2), (230, 1), (231, 1), (232, 1), (235, 1), (236, 1), (237, 1), (239, 1), (240, 1), (241, 1), (242, 1), (243, 2), (246, 1), (251, 1), (253, 1), (258, 1), (259, 2), (265, 1), (273, 1), (274, 1), (282, 1), (312, 1), (317, 1), (321, 1), (322, 1), (341, 1), (345, 1), (382, 1), (384, 1), (395, 1), (404, 1)]\n"
     ]
    }
   ],
   "source": [
    "print lengthHist"
   ]
  },
  {
   "cell_type": "code",
   "execution_count": 37,
   "metadata": {
    "ExecuteTime": {
     "end_time": "2017-11-12T23:57:35.934530Z",
     "start_time": "2017-11-12T23:57:35.886920Z"
    }
   },
   "outputs": [],
   "source": [
    "# Visualise:\n",
    "%matplotlib inline\n",
    "import seaborn as sns"
   ]
  },
  {
   "cell_type": "code",
   "execution_count": 40,
   "metadata": {
    "ExecuteTime": {
     "end_time": "2017-11-12T23:57:36.850748Z",
     "start_time": "2017-11-12T23:57:36.025610Z"
    }
   },
   "outputs": [],
   "source": [
    "lengths = zip(*lengthHist)[0]\n",
    "freq = zip(*lengthHist)[1]"
   ]
  },
  {
   "cell_type": "code",
   "execution_count": 53,
   "metadata": {
    "collapsed": true
   },
   "outputs": [],
   "source": [
    "import numpy as np"
   ]
  },
  {
   "cell_type": "code",
   "execution_count": 83,
   "metadata": {},
   "outputs": [],
   "source": [
    "data = [list(lengths), list(freq)]\n",
    "pd_data = pd.DataFrame(np.array(data).T, columns=['length','count'])"
   ]
  },
  {
   "cell_type": "code",
   "execution_count": 85,
   "metadata": {},
   "outputs": [
    {
     "data": {
      "text/html": [
       "<div>\n",
       "<style>\n",
       "    .dataframe thead tr:only-child th {\n",
       "        text-align: right;\n",
       "    }\n",
       "\n",
       "    .dataframe thead th {\n",
       "        text-align: left;\n",
       "    }\n",
       "\n",
       "    .dataframe tbody tr th {\n",
       "        vertical-align: top;\n",
       "    }\n",
       "</style>\n",
       "<table border=\"1\" class=\"dataframe\">\n",
       "  <thead>\n",
       "    <tr style=\"text-align: right;\">\n",
       "      <th></th>\n",
       "      <th>length</th>\n",
       "      <th>count</th>\n",
       "    </tr>\n",
       "  </thead>\n",
       "  <tbody>\n",
       "    <tr>\n",
       "      <th>0</th>\n",
       "      <td>1</td>\n",
       "      <td>1</td>\n",
       "    </tr>\n",
       "    <tr>\n",
       "      <th>1</th>\n",
       "      <td>2</td>\n",
       "      <td>4</td>\n",
       "    </tr>\n",
       "    <tr>\n",
       "      <th>2</th>\n",
       "      <td>3</td>\n",
       "      <td>14</td>\n",
       "    </tr>\n",
       "    <tr>\n",
       "      <th>3</th>\n",
       "      <td>4</td>\n",
       "      <td>26</td>\n",
       "    </tr>\n",
       "    <tr>\n",
       "      <th>4</th>\n",
       "      <td>5</td>\n",
       "      <td>55</td>\n",
       "    </tr>\n",
       "  </tbody>\n",
       "</table>\n",
       "</div>"
      ],
      "text/plain": [
       "   length  count\n",
       "0       1      1\n",
       "1       2      4\n",
       "2       3     14\n",
       "3       4     26\n",
       "4       5     55"
      ]
     },
     "execution_count": 85,
     "metadata": {},
     "output_type": "execute_result"
    }
   ],
   "source": [
    "pd_data.head(5)"
   ]
  },
  {
   "cell_type": "code",
   "execution_count": 95,
   "metadata": {},
   "outputs": [
    {
     "data": {
      "text/plain": [
       "<matplotlib.axes._subplots.AxesSubplot at 0x7f8195dad510>"
      ]
     },
     "execution_count": 95,
     "metadata": {},
     "output_type": "execute_result"
    },
    {
     "data": {
      "image/png": "[encoded data removed]",
      "text/plain": [
       "<matplotlib.figure.Figure at 0x7f8195dad590>"
      ]
     },
     "metadata": {},
     "output_type": "display_data"
    }
   ],
   "source": [
    "fig = plt.figure(figsize=(20, 10))\n",
    "ax = fig.add_subplot(111)\n",
    "sns.barplot(x='length', y='count', data=pd_data, ax=ax)"
   ]
  },
  {
   "cell_type": "code",
   "execution_count": 97,
   "metadata": {
    "collapsed": true
   },
   "outputs": [],
   "source": [
    "pub_concise.to_pickle('../data/pub_toks.pkl')"
   ]
  },
  {
   "cell_type": "code",
   "execution_count": null,
   "metadata": {
    "collapsed": true
   },
   "outputs": [],
   "source": []
  }
 ],
 "metadata": {
  "kernelspec": {
   "display_name": "Python 2",
   "language": "python",
   "name": "python2"
  },
  "language_info": {
   "codemirror_mode": {
    "name": "ipython",
    "version": 2
   },
   "file_extension": ".py",
   "mimetype": "text/x-python",
   "name": "python",
   "nbconvert_exporter": "python",
   "pygments_lexer": "ipython2",
   "version": "2.7.14"
  },
  "notify_time": "5",
  "toc": {
   "nav_menu": {},
   "number_sections": false,
   "sideBar": true,
   "skip_h1_title": false,
   "title_cell": "Table of Contents",
   "title_sidebar": "Contents",
   "toc_cell": true,
   "toc_position": {},
   "toc_section_display": "block",
   "toc_window_display": true
  },
  "varInspector": {
   "cols": {
    "lenName": 16,
    "lenType": 16,
    "lenVar": 40
   },
   "kernels_config": {
    "python": {
     "delete_cmd_postfix": "",
     "delete_cmd_prefix": "del ",
     "library": "var_list.py",
     "varRefreshCmd": "print(var_dic_list())"
    },
    "r": {
     "delete_cmd_postfix": ") ",
     "delete_cmd_prefix": "rm(",
     "library": "var_list.r",
     "varRefreshCmd": "cat(var_dic_list()) "
    }
   },
   "types_to_exclude": [
    "module",
    "function",
    "builtin_function_or_method",
    "instance",
    "_Feature"
   ],
   "window_display": false
  }
 },
 "nbformat": 4,
 "nbformat_minor": 2
}
