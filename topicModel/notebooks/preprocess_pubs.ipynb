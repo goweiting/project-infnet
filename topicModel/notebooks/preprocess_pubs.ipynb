{
 "cells": [
  {
   "cell_type": "markdown",
   "metadata": {
    "toc": true
   },
   "source": [
    "<h1>Table of Contents<span class=\"tocSkip\"></span></h1>\n",
    "<div class=\"toc\"><ul class=\"toc-item\"><li><span><a href=\"#Preprocessing-publication\" data-toc-modified-id=\"Preprocessing-publication-1\">Preprocessing publication</a></span><ul class=\"toc-item\"><li><span><a href=\"#publication.csv-revisited\" data-toc-modified-id=\"publication.csv-revisited-1.1\"><code>publication.csv</code> revisited</a></span></li><li><span><a href=\"#Apply-standard-preprocessing:\" data-toc-modified-id=\"Apply-standard-preprocessing:-1.2\">Apply standard preprocessing:</a></span></li><li><span><a href=\"#Distribution-of-length-of-summary\" data-toc-modified-id=\"Distribution-of-length-of-summary-1.3\">Distribution of length of summary</a></span></li></ul></li><li><span><a href=\"#Preprocessing-scrapped-PDF\" data-toc-modified-id=\"Preprocessing-scrapped-PDF-2\">Preprocessing scrapped <code>PDF</code></a></span><ul class=\"toc-item\"><li><span><a href=\"#Distribution-of-length-of-combined-summary\" data-toc-modified-id=\"Distribution-of-length-of-combined-summary-2.1\">Distribution of length of combined summary</a></span></li><li><span><a href=\"#Publications-from-2012-2017\" data-toc-modified-id=\"Publications-from-2012-2017-2.2\">Publications from <code>2012-2017</code></a></span><ul class=\"toc-item\"><li><span><a href=\"#Check-how-many-of-these-publications-doesnt-have-pdf2txt:\" data-toc-modified-id=\"Check-how-many-of-these-publications-doesnt-have-pdf2txt:-2.2.1\">Check how many of these publications doesnt have pdf2txt:</a></span></li></ul></li></ul></li></ul></div>"
   ]
  },
  {
   "cell_type": "markdown",
   "metadata": {},
   "source": [
    "# Preprocessing publication \n",
    "\n",
    "In this notebook, I aim to detail the methods used for preprocessing the abstract and publications that will be part of the corpus used for topic modelling further down the pipeline.\n",
    "\n",
    "Building on the dataset from the [preprocess-poinf.ipynb](../../../infnet-scrapper/notebooks/preprocess-poinf.ipynb), we further preprocess the additional details scrapped from Edinburgh research explorer. \n",
    "\n",
    "The main focus of [preprocess-poinf.ipynb](../../../infnet-scrapper/notebooks/preprocess-poinf.ipynb) is to preprocess the data collected from Edinburgh Research Explorer for . This notebook, on the other hand, focuses on the publications - the abstracts (if any) and publications/conferences that the research is presented in.\n",
    "\n",
    "<s>This is a precursor to a full-blown LDA analysis on the PDF of the research (the research papers).</s> Refer to [preprocessing pdf2txt](#Preprocessing-scrapped-PDF)"
   ]
  },
  {
   "cell_type": "markdown",
   "metadata": {},
   "source": [
    "## `publication.csv` revisited\n",
    "\n",
    "I analyse the `publication.csv` dataset in this section."
   ]
  },
  {
   "cell_type": "code",
   "execution_count": 1,
   "metadata": {
    "ExecuteTime": {
     "end_time": "2018-01-06T15:28:09.613835Z",
     "start_time": "2018-01-06T15:28:07.257952Z"
    }
   },
   "outputs": [],
   "source": [
    "import pandas as pd\n",
    "import re"
   ]
  },
  {
   "cell_type": "code",
   "execution_count": 2,
   "metadata": {
    "ExecuteTime": {
     "end_time": "2018-01-05T21:33:02.521846Z",
     "start_time": "2018-01-05T21:33:02.327807Z"
    }
   },
   "outputs": [
    {
     "name": "stdout",
     "output_type": "stream",
     "text": [
      "pub_csv contains: 8810  publications\n"
     ]
    },
    {
     "data": {
      "text/html": [
       "<div>\n",
       "<style scoped>\n",
       "    .dataframe tbody tr th:only-of-type {\n",
       "        vertical-align: middle;\n",
       "    }\n",
       "\n",
       "    .dataframe tbody tr th {\n",
       "        vertical-align: top;\n",
       "    }\n",
       "\n",
       "    .dataframe thead th {\n",
       "        text-align: right;\n",
       "    }\n",
       "</style>\n",
       "<table border=\"1\" class=\"dataframe\">\n",
       "  <thead>\n",
       "    <tr style=\"text-align: right;\">\n",
       "      <th></th>\n",
       "      <th>pub_id</th>\n",
       "      <th>date</th>\n",
       "      <th>year</th>\n",
       "      <th>title</th>\n",
       "      <th>authors</th>\n",
       "      <th>pub_url</th>\n",
       "      <th>doi_url</th>\n",
       "      <th>pdf_url</th>\n",
       "      <th>abstract</th>\n",
       "      <th>publications</th>\n",
       "    </tr>\n",
       "  </thead>\n",
       "  <tbody>\n",
       "    <tr>\n",
       "      <th>40</th>\n",
       "      <td>f4293dd4-09a5-420b-b37a-2bd88d45c6e6</td>\n",
       "      <td>1 Jun 2007</td>\n",
       "      <td>2007</td>\n",
       "      <td>statistical postediting on systrans rulebased ...</td>\n",
       "      <td>loïc dugast|jean senellart|philipp koehn</td>\n",
       "      <td>http://www.research.ed.ac.uk/portal/en/publica...</td>\n",
       "      <td>UNKNOWN</td>\n",
       "      <td>http://www.research.ed.ac.uk/portal/files/1936...</td>\n",
       "      <td>this article describes the combination of a sy...</td>\n",
       "      <td>proceedings of the second workshop on statisti...</td>\n",
       "    </tr>\n",
       "    <tr>\n",
       "      <th>41</th>\n",
       "      <td>fc393df2-bf68-45cd-85ce-9faeb2c9d9b4</td>\n",
       "      <td>17 May 2017</td>\n",
       "      <td>2017</td>\n",
       "      <td>endtoend deep learning of optimization heuristics</td>\n",
       "      <td>christopher cummins|pavlos petoumenos|zheng wa...</td>\n",
       "      <td>http://www.research.ed.ac.uk/portal/en/publica...</td>\n",
       "      <td>UNKNOWN</td>\n",
       "      <td>http://www.research.ed.ac.uk/portal/files/3774...</td>\n",
       "      <td>accurate automatic optimization heuristics are...</td>\n",
       "      <td>the 26th international conference on parallel ...</td>\n",
       "    </tr>\n",
       "    <tr>\n",
       "      <th>42</th>\n",
       "      <td>c7a7fc62-2251-441c-86ac-9e0a0a0d39c9</td>\n",
       "      <td>2016</td>\n",
       "      <td>2016</td>\n",
       "      <td>a list of successes that can change the world ...</td>\n",
       "      <td>sam lindley|conor mcbride|philip trinder|donal...</td>\n",
       "      <td>http://www.research.ed.ac.uk/portal/en/publica...</td>\n",
       "      <td>http://dx.doi.org/10.1007/978-3-319-30936-1</td>\n",
       "      <td>UNKNOWN</td>\n",
       "      <td>unknown</td>\n",
       "      <td>springer international publishing,springer int...</td>\n",
       "    </tr>\n",
       "    <tr>\n",
       "      <th>43</th>\n",
       "      <td>d7dbd219-5022-49c5-87d7-d6bafacfd3d8</td>\n",
       "      <td>2002</td>\n",
       "      <td>2002</td>\n",
       "      <td>a hierarchy of polynomialtime computable simul...</td>\n",
       "      <td>kousha etessami</td>\n",
       "      <td>http://www.research.ed.ac.uk/portal/en/publica...</td>\n",
       "      <td>http://dx.doi.org/10.1007/3-540-45694-5_10</td>\n",
       "      <td>UNKNOWN</td>\n",
       "      <td>we define and provide algorithms for computing...</td>\n",
       "      <td>concur 2002 - concurrency theory,13th internat...</td>\n",
       "    </tr>\n",
       "    <tr>\n",
       "      <th>44</th>\n",
       "      <td>8b81bb37-fced-4e23-a85d-ff82d715a2a0</td>\n",
       "      <td>2006</td>\n",
       "      <td>2006</td>\n",
       "      <td>computational modelling as an approach to neur...</td>\n",
       "      <td>jörg behrendt|hecke schrobsdorff|matthias ihrk...</td>\n",
       "      <td>http://www.research.ed.ac.uk/portal/en/publica...</td>\n",
       "      <td>UNKNOWN</td>\n",
       "      <td>http://www.nld.ds.mpg.de/~hecke/archiv/2006_BC...</td>\n",
       "      <td>negative priming (np)</td>\n",
       "      <td>international journal of psychophysiology</td>\n",
       "    </tr>\n",
       "  </tbody>\n",
       "</table>\n",
       "</div>"
      ],
      "text/plain": [
       "                                  pub_id         date  year  \\\n",
       "40  f4293dd4-09a5-420b-b37a-2bd88d45c6e6   1 Jun 2007  2007   \n",
       "41  fc393df2-bf68-45cd-85ce-9faeb2c9d9b4  17 May 2017  2017   \n",
       "42  c7a7fc62-2251-441c-86ac-9e0a0a0d39c9         2016  2016   \n",
       "43  d7dbd219-5022-49c5-87d7-d6bafacfd3d8         2002  2002   \n",
       "44  8b81bb37-fced-4e23-a85d-ff82d715a2a0         2006  2006   \n",
       "\n",
       "                                                title  \\\n",
       "40  statistical postediting on systrans rulebased ...   \n",
       "41  endtoend deep learning of optimization heuristics   \n",
       "42  a list of successes that can change the world ...   \n",
       "43  a hierarchy of polynomialtime computable simul...   \n",
       "44  computational modelling as an approach to neur...   \n",
       "\n",
       "                                              authors  \\\n",
       "40           loïc dugast|jean senellart|philipp koehn   \n",
       "41  christopher cummins|pavlos petoumenos|zheng wa...   \n",
       "42  sam lindley|conor mcbride|philip trinder|donal...   \n",
       "43                                    kousha etessami   \n",
       "44  jörg behrendt|hecke schrobsdorff|matthias ihrk...   \n",
       "\n",
       "                                              pub_url  \\\n",
       "40  http://www.research.ed.ac.uk/portal/en/publica...   \n",
       "41  http://www.research.ed.ac.uk/portal/en/publica...   \n",
       "42  http://www.research.ed.ac.uk/portal/en/publica...   \n",
       "43  http://www.research.ed.ac.uk/portal/en/publica...   \n",
       "44  http://www.research.ed.ac.uk/portal/en/publica...   \n",
       "\n",
       "                                        doi_url  \\\n",
       "40                                      UNKNOWN   \n",
       "41                                      UNKNOWN   \n",
       "42  http://dx.doi.org/10.1007/978-3-319-30936-1   \n",
       "43   http://dx.doi.org/10.1007/3-540-45694-5_10   \n",
       "44                                      UNKNOWN   \n",
       "\n",
       "                                              pdf_url  \\\n",
       "40  http://www.research.ed.ac.uk/portal/files/1936...   \n",
       "41  http://www.research.ed.ac.uk/portal/files/3774...   \n",
       "42                                            UNKNOWN   \n",
       "43                                            UNKNOWN   \n",
       "44  http://www.nld.ds.mpg.de/~hecke/archiv/2006_BC...   \n",
       "\n",
       "                                             abstract  \\\n",
       "40  this article describes the combination of a sy...   \n",
       "41  accurate automatic optimization heuristics are...   \n",
       "42                                            unknown   \n",
       "43  we define and provide algorithms for computing...   \n",
       "44                              negative priming (np)   \n",
       "\n",
       "                                         publications  \n",
       "40  proceedings of the second workshop on statisti...  \n",
       "41  the 26th international conference on parallel ...  \n",
       "42  springer international publishing,springer int...  \n",
       "43  concur 2002 - concurrency theory,13th internat...  \n",
       "44         international journal of psychophysiology   "
      ]
     },
     "execution_count": 2,
     "metadata": {},
     "output_type": "execute_result"
    }
   ],
   "source": [
    "pub_csv = pd.read_csv('../data/publications.csv')\n",
    "print 'pub_csv contains:', len(pub_csv), ' publications'\n",
    "pub_csv.iloc[40:45] # sample the data"
   ]
  },
  {
   "cell_type": "code",
   "execution_count": 3,
   "metadata": {
    "ExecuteTime": {
     "end_time": "2018-01-05T21:33:02.540448Z",
     "start_time": "2018-01-05T21:33:02.527546Z"
    }
   },
   "outputs": [],
   "source": [
    "# Focusing on the publication where \n",
    "pub_csv.set_index('pub_id',inplace=True)\n",
    "pub_concise = pub_csv[['year', 'title', 'abstract', 'publications']].copy()"
   ]
  },
  {
   "cell_type": "code",
   "execution_count": 4,
   "metadata": {
    "ExecuteTime": {
     "end_time": "2018-01-05T21:33:02.553885Z",
     "start_time": "2018-01-05T21:33:02.546038Z"
    }
   },
   "outputs": [],
   "source": [
    "# Remove all entries that are 'UNKNOWN', so that when we combine them into the `summary` column, \n",
    "# `UNKNOWN` is not a term for consideration\n",
    "def removeUnknown(x):\n",
    "    if str(x).strip().lower() == 'unknown':\n",
    "        return ''\n",
    "    else:\n",
    "        return x"
   ]
  },
  {
   "cell_type": "code",
   "execution_count": 5,
   "metadata": {
    "ExecuteTime": {
     "end_time": "2018-01-05T21:33:02.687709Z",
     "start_time": "2018-01-05T21:33:02.559394Z"
    }
   },
   "outputs": [],
   "source": [
    "pub_concise = pub_concise.applymap(removeUnknown)"
   ]
  },
  {
   "cell_type": "code",
   "execution_count": 6,
   "metadata": {
    "ExecuteTime": {
     "end_time": "2018-01-05T21:33:03.185097Z",
     "start_time": "2018-01-05T21:33:02.693210Z"
    }
   },
   "outputs": [],
   "source": [
    "# Concatenate all the text together to form as the representation of the publication:\n",
    "pub_concise['summary'] = pub_concise.apply(\n",
    "    lambda row: str(row.title) + '. ' + str(row.abstract) + '. '+  str(row.publications),\n",
    "    axis=1)"
   ]
  },
  {
   "cell_type": "markdown",
   "metadata": {},
   "source": [
    "## Apply standard preprocessing:"
   ]
  },
  {
   "cell_type": "code",
   "execution_count": 7,
   "metadata": {
    "ExecuteTime": {
     "end_time": "2018-01-05T21:33:03.196736Z",
     "start_time": "2018-01-05T21:33:03.190795Z"
    }
   },
   "outputs": [],
   "source": [
    "import Stemmer\n",
    "import string"
   ]
  },
  {
   "cell_type": "code",
   "execution_count": 8,
   "metadata": {
    "ExecuteTime": {
     "end_time": "2018-01-05T21:33:03.215236Z",
     "start_time": "2018-01-05T21:33:03.202242Z"
    }
   },
   "outputs": [],
   "source": [
    "# Standard preprocessing:\n",
    "# 1. tokenizer: split by word boundary.\n",
    "tokenize = lambda x: [t.lower().strip() for t in re.split(r'\\W+', x) if len(t) > 0]\n",
    "\n",
    "# 2. stopping: import common stopwords\n",
    "stopWordsDir = \"../data/englishST.txt\"\n",
    "sw = open(stopWordsDir, \"r\").read().splitlines()\n",
    "sw.extend(list(string.punctuation.decode('utf-8')))\n",
    "stop = set(sw)\n",
    "removeSW = lambda x: [t for t in x if t not in stop]\n",
    "\n",
    "# 3: Stemming: using pystemmer\n",
    "stemmer = Stemmer.Stemmer(\"english\")\n",
    "stem = lambda x : stemmer.stemWords(x)"
   ]
  },
  {
   "cell_type": "code",
   "execution_count": 9,
   "metadata": {
    "ExecuteTime": {
     "end_time": "2018-01-05T21:33:03.226955Z",
     "start_time": "2018-01-05T21:33:03.220867Z"
    }
   },
   "outputs": [],
   "source": [
    "preprocess = lambda x: stem(removeSW(tokenize(x)))"
   ]
  },
  {
   "cell_type": "code",
   "execution_count": 10,
   "metadata": {
    "ExecuteTime": {
     "end_time": "2018-01-05T21:33:03.239943Z",
     "start_time": "2018-01-05T21:33:03.232459Z"
    }
   },
   "outputs": [],
   "source": [
    "first = pub_concise.iloc[0].summary.decode('utf-8') + '~'"
   ]
  },
  {
   "cell_type": "code",
   "execution_count": 11,
   "metadata": {
    "ExecuteTime": {
     "end_time": "2018-01-05T21:33:03.253331Z",
     "start_time": "2018-01-05T21:33:03.245341Z"
    },
    "scrolled": true
   },
   "outputs": [
    {
     "name": "stdout",
     "output_type": "stream",
     "text": [
      "balloon stabil analysi jet hmode discharg previous studi stabil larg aspect ratio model equilibrium ideal mhd balloon mode shown bulk plasma exist margin stabl valu pressur gradient paramet defin unstabl zone separ small stabl region larg stabl region close separatrix region coalesc surfac averag current densiti exceed critic plasma region stabl balloon mode valu pressur gradient paper extend result jet mode equilibria finit aspect ratio balloon formal assess relev ideal balloon stabil discharg analys shot 15894 time 56 sec 1 3 phase proceed 16th european confer control fusion plasma physic\n"
     ]
    }
   ],
   "source": [
    "print \" \".join(preprocess(first))"
   ]
  },
  {
   "cell_type": "code",
   "execution_count": 12,
   "metadata": {
    "ExecuteTime": {
     "end_time": "2018-01-05T21:33:05.717099Z",
     "start_time": "2018-01-05T21:33:03.258833Z"
    }
   },
   "outputs": [],
   "source": [
    "pub_concise['summary_toks'] = pub_concise.apply(\n",
    "    lambda row: preprocess(row.summary.decode('utf8')), axis=1)"
   ]
  },
  {
   "cell_type": "code",
   "execution_count": 13,
   "metadata": {
    "ExecuteTime": {
     "end_time": "2018-01-05T21:33:05.759224Z",
     "start_time": "2018-01-05T21:33:05.722737Z"
    }
   },
   "outputs": [
    {
     "data": {
      "text/html": [
       "<div>\n",
       "<style scoped>\n",
       "    .dataframe tbody tr th:only-of-type {\n",
       "        vertical-align: middle;\n",
       "    }\n",
       "\n",
       "    .dataframe tbody tr th {\n",
       "        vertical-align: top;\n",
       "    }\n",
       "\n",
       "    .dataframe thead th {\n",
       "        text-align: right;\n",
       "    }\n",
       "</style>\n",
       "<table border=\"1\" class=\"dataframe\">\n",
       "  <thead>\n",
       "    <tr style=\"text-align: right;\">\n",
       "      <th></th>\n",
       "      <th>year</th>\n",
       "      <th>title</th>\n",
       "      <th>abstract</th>\n",
       "      <th>publications</th>\n",
       "      <th>summary</th>\n",
       "      <th>summary_toks</th>\n",
       "    </tr>\n",
       "    <tr>\n",
       "      <th>pub_id</th>\n",
       "      <th></th>\n",
       "      <th></th>\n",
       "      <th></th>\n",
       "      <th></th>\n",
       "      <th></th>\n",
       "      <th></th>\n",
       "    </tr>\n",
       "  </thead>\n",
       "  <tbody>\n",
       "    <tr>\n",
       "      <th>400818dc-63af-4a26-80c5-906f98e1f8ab</th>\n",
       "      <td>1989</td>\n",
       "      <td>ballooning stability analysis of jet hmode dis...</td>\n",
       "      <td>previous studies of the stability of a large a...</td>\n",
       "      <td>proceedings 16th european conference on contr...</td>\n",
       "      <td>ballooning stability analysis of jet hmode dis...</td>\n",
       "      <td>[balloon, stabil, analysi, jet, hmode, dischar...</td>\n",
       "    </tr>\n",
       "    <tr>\n",
       "      <th>18b1a861-afef-4fff-bc80-d02e05be18c4</th>\n",
       "      <td>2013</td>\n",
       "      <td>query processing in data integration</td>\n",
       "      <td>in this chapter we illustrate the main techniq...</td>\n",
       "      <td>data exchange, integration, and streams,dagstu...</td>\n",
       "      <td>query processing in data integration in this c...</td>\n",
       "      <td>[queri, process, data, integr, chapter, illust...</td>\n",
       "    </tr>\n",
       "    <tr>\n",
       "      <th>309fdbfc-227b-4588-9264-f0f4e3cadfcb</th>\n",
       "      <td>1994</td>\n",
       "      <td>comprehension syntax</td>\n",
       "      <td>the syntax of comprehensions is very close to ...</td>\n",
       "      <td>sigmod record</td>\n",
       "      <td>comprehension syntax the syntax of comprehensi...</td>\n",
       "      <td>[comprehens, syntax, syntax, comprehens, close...</td>\n",
       "    </tr>\n",
       "    <tr>\n",
       "      <th>d5814bab-5fc2-4c31-92b7-543c7ce75cb4</th>\n",
       "      <td>2012</td>\n",
       "      <td>evaluation of speaker verification security an...</td>\n",
       "      <td>in this paper, we evaluate the vulnerability o...</td>\n",
       "      <td>ieee transactions on audio, speech and languag...</td>\n",
       "      <td>evaluation of speaker verification security an...</td>\n",
       "      <td>[evalu, speaker, verif, secur, detect, hmmbase...</td>\n",
       "    </tr>\n",
       "  </tbody>\n",
       "</table>\n",
       "</div>"
      ],
      "text/plain": [
       "                                      year  \\\n",
       "pub_id                                       \n",
       "400818dc-63af-4a26-80c5-906f98e1f8ab  1989   \n",
       "18b1a861-afef-4fff-bc80-d02e05be18c4  2013   \n",
       "309fdbfc-227b-4588-9264-f0f4e3cadfcb  1994   \n",
       "d5814bab-5fc2-4c31-92b7-543c7ce75cb4  2012   \n",
       "\n",
       "                                                                                  title  \\\n",
       "pub_id                                                                                    \n",
       "400818dc-63af-4a26-80c5-906f98e1f8ab  ballooning stability analysis of jet hmode dis...   \n",
       "18b1a861-afef-4fff-bc80-d02e05be18c4               query processing in data integration   \n",
       "309fdbfc-227b-4588-9264-f0f4e3cadfcb                               comprehension syntax   \n",
       "d5814bab-5fc2-4c31-92b7-543c7ce75cb4  evaluation of speaker verification security an...   \n",
       "\n",
       "                                                                               abstract  \\\n",
       "pub_id                                                                                    \n",
       "400818dc-63af-4a26-80c5-906f98e1f8ab  previous studies of the stability of a large a...   \n",
       "18b1a861-afef-4fff-bc80-d02e05be18c4  in this chapter we illustrate the main techniq...   \n",
       "309fdbfc-227b-4588-9264-f0f4e3cadfcb  the syntax of comprehensions is very close to ...   \n",
       "d5814bab-5fc2-4c31-92b7-543c7ce75cb4  in this paper, we evaluate the vulnerability o...   \n",
       "\n",
       "                                                                           publications  \\\n",
       "pub_id                                                                                    \n",
       "400818dc-63af-4a26-80c5-906f98e1f8ab   proceedings 16th european conference on contr...   \n",
       "18b1a861-afef-4fff-bc80-d02e05be18c4  data exchange, integration, and streams,dagstu...   \n",
       "309fdbfc-227b-4588-9264-f0f4e3cadfcb                                      sigmod record   \n",
       "d5814bab-5fc2-4c31-92b7-543c7ce75cb4  ieee transactions on audio, speech and languag...   \n",
       "\n",
       "                                                                                summary  \\\n",
       "pub_id                                                                                    \n",
       "400818dc-63af-4a26-80c5-906f98e1f8ab  ballooning stability analysis of jet hmode dis...   \n",
       "18b1a861-afef-4fff-bc80-d02e05be18c4  query processing in data integration in this c...   \n",
       "309fdbfc-227b-4588-9264-f0f4e3cadfcb  comprehension syntax the syntax of comprehensi...   \n",
       "d5814bab-5fc2-4c31-92b7-543c7ce75cb4  evaluation of speaker verification security an...   \n",
       "\n",
       "                                                                           summary_toks  \n",
       "pub_id                                                                                   \n",
       "400818dc-63af-4a26-80c5-906f98e1f8ab  [balloon, stabil, analysi, jet, hmode, dischar...  \n",
       "18b1a861-afef-4fff-bc80-d02e05be18c4  [queri, process, data, integr, chapter, illust...  \n",
       "309fdbfc-227b-4588-9264-f0f4e3cadfcb  [comprehens, syntax, syntax, comprehens, close...  \n",
       "d5814bab-5fc2-4c31-92b7-543c7ce75cb4  [evalu, speaker, verif, secur, detect, hmmbase...  "
      ]
     },
     "execution_count": 13,
     "metadata": {},
     "output_type": "execute_result"
    }
   ],
   "source": [
    "pub_concise.head(4)"
   ]
  },
  {
   "cell_type": "markdown",
   "metadata": {},
   "source": [
    "## Distribution of length of summary"
   ]
  },
  {
   "cell_type": "code",
   "execution_count": 17,
   "metadata": {},
   "outputs": [],
   "source": [
    "pub_toks = pub_concise[['summary_toks']].copy()"
   ]
  },
  {
   "cell_type": "code",
   "execution_count": 18,
   "metadata": {},
   "outputs": [
    {
     "data": {
      "text/html": [
       "<div>\n",
       "<style scoped>\n",
       "    .dataframe tbody tr th:only-of-type {\n",
       "        vertical-align: middle;\n",
       "    }\n",
       "\n",
       "    .dataframe tbody tr th {\n",
       "        vertical-align: top;\n",
       "    }\n",
       "\n",
       "    .dataframe thead th {\n",
       "        text-align: right;\n",
       "    }\n",
       "</style>\n",
       "<table border=\"1\" class=\"dataframe\">\n",
       "  <thead>\n",
       "    <tr style=\"text-align: right;\">\n",
       "      <th></th>\n",
       "      <th>summary_toks</th>\n",
       "    </tr>\n",
       "    <tr>\n",
       "      <th>pub_id</th>\n",
       "      <th></th>\n",
       "    </tr>\n",
       "  </thead>\n",
       "  <tbody>\n",
       "    <tr>\n",
       "      <th>400818dc-63af-4a26-80c5-906f98e1f8ab</th>\n",
       "      <td>[balloon, stabil, analysi, jet, hmode, dischar...</td>\n",
       "    </tr>\n",
       "    <tr>\n",
       "      <th>18b1a861-afef-4fff-bc80-d02e05be18c4</th>\n",
       "      <td>[queri, process, data, integr, chapter, illust...</td>\n",
       "    </tr>\n",
       "  </tbody>\n",
       "</table>\n",
       "</div>"
      ],
      "text/plain": [
       "                                                                           summary_toks\n",
       "pub_id                                                                                 \n",
       "400818dc-63af-4a26-80c5-906f98e1f8ab  [balloon, stabil, analysi, jet, hmode, dischar...\n",
       "18b1a861-afef-4fff-bc80-d02e05be18c4  [queri, process, data, integr, chapter, illust..."
      ]
     },
     "execution_count": 18,
     "metadata": {},
     "output_type": "execute_result"
    }
   ],
   "source": [
    "pub_toks.head(2)"
   ]
  },
  {
   "cell_type": "code",
   "execution_count": 19,
   "metadata": {},
   "outputs": [],
   "source": [
    "# inspect and check if there is any publication with no `summary_toks`\n",
    "for row in pub_toks.iterrows():\n",
    "    if len(row[1]['summary_toks']) == 0:\n",
    "        print row[0]"
   ]
  },
  {
   "cell_type": "code",
   "execution_count": 20,
   "metadata": {},
   "outputs": [],
   "source": [
    "# get a distribution of length of tokens:\n",
    "toksLengthHist = {}\n",
    "for row in pub_toks.iterrows():\n",
    "    l = len(row[1]['summary_toks'])\n",
    "    if l not in toksLengthHist.keys():\n",
    "        toksLengthHist[l] = 1\n",
    "    else:\n",
    "        toksLengthHist[l] += 1"
   ]
  },
  {
   "cell_type": "code",
   "execution_count": 21,
   "metadata": {},
   "outputs": [],
   "source": [
    "lengthHist = [(v,k) for (v,k) in toksLengthHist.iteritems()]"
   ]
  },
  {
   "cell_type": "code",
   "execution_count": 22,
   "metadata": {},
   "outputs": [
    {
     "name": "stdout",
     "output_type": "stream",
     "text": [
      "[(1, 1), (2, 4), (3, 14), (4, 26), (5, 55), (6, 62), (7, 83), (8, 105), (9, 84), (10, 98), (11, 97), (12, 88), (13, 83), (14, 57), (15, 66), (16, 58), (17, 51), (18, 44), (19, 44), (20, 40), (21, 41), (22, 41), (23, 34), (24, 38), (25, 33), (26, 35), (27, 27), (28, 36), (29, 29), (30, 38), (31, 33), (32, 24), (33, 38), (34, 38), (35, 30), (36, 33), (37, 30), (38, 38), (39, 42), (40, 53), (41, 39), (42, 49), (43, 40), (44, 44), (45, 36), (46, 42), (47, 55), (48, 61), (49, 68), (50, 77), (51, 71), (52, 60), (53, 52), (54, 70), (55, 69), (56, 79), (57, 76), (58, 78), (59, 81), (60, 73), (61, 79), (62, 72), (63, 84), (64, 76), (65, 89), (66, 73), (67, 90), (68, 77), (69, 84), (70, 83), (71, 104), (72, 100), (73, 85), (74, 82), (75, 91), (76, 109), (77, 84), (78, 91), (79, 106), (80, 89), (81, 92), (82, 105), (83, 89), (84, 89), (85, 84), (86, 85), (87, 93), (88, 85), (89, 83), (90, 90), (91, 83), (92, 66), (93, 77), (94, 82), (95, 83), (96, 76), (97, 80), (98, 80), (99, 70), (100, 81), (101, 64), (102, 64), (103, 75), (104, 74), (105, 72), (106, 66), (107, 53), (108, 58), (109, 56), (110, 44), (111, 63), (112, 52), (113, 55), (114, 60), (115, 47), (116, 50), (117, 48), (118, 39), (119, 38), (120, 50), (121, 42), (122, 39), (123, 37), (124, 37), (125, 23), (126, 39), (127, 41), (128, 36), (129, 28), (130, 39), (131, 45), (132, 36), (133, 30), (134, 30), (135, 23), (136, 30), (137, 28), (138, 18), (139, 20), (140, 25), (141, 23), (142, 20), (143, 16), (144, 21), (145, 14), (146, 12), (147, 18), (148, 10), (149, 18), (150, 22), (151, 11), (152, 15), (153, 13), (154, 16), (155, 14), (156, 9), (157, 8), (158, 11), (159, 10), (160, 9), (161, 7), (162, 8), (163, 11), (164, 9), (165, 10), (166, 8), (167, 6), (168, 4), (169, 3), (170, 3), (171, 9), (172, 4), (173, 6), (174, 6), (175, 8), (176, 5), (177, 7), (178, 7), (179, 3), (181, 3), (182, 2), (183, 3), (184, 6), (185, 3), (186, 1), (187, 1), (188, 3), (189, 6), (190, 2), (191, 4), (192, 2), (193, 5), (194, 1), (195, 5), (196, 3), (197, 1), (200, 2), (201, 3), (202, 1), (203, 3), (204, 1), (205, 2), (206, 1), (209, 1), (211, 1), (213, 1), (216, 1), (218, 1), (220, 4), (221, 1), (222, 2), (225, 2), (230, 1), (231, 1), (232, 1), (235, 1), (236, 1), (237, 1), (239, 1), (240, 1), (241, 1), (242, 1), (243, 2), (246, 1), (251, 1), (253, 1), (258, 1), (259, 2), (265, 1), (273, 1), (274, 1), (282, 1), (312, 1), (317, 1), (321, 1), (322, 1), (341, 1), (345, 1), (382, 1), (384, 1), (395, 1), (404, 1)]\n"
     ]
    }
   ],
   "source": [
    "print lengthHist"
   ]
  },
  {
   "cell_type": "code",
   "execution_count": 20,
   "metadata": {
    "ExecuteTime": {
     "end_time": "2018-01-06T15:40:27.185159Z",
     "start_time": "2018-01-06T15:40:26.415751Z"
    }
   },
   "outputs": [],
   "source": [
    "# Visualise:\n",
    "%matplotlib inline\n",
    "import matplotlib.pyplot as plt\n",
    "import seaborn as sns"
   ]
  },
  {
   "cell_type": "code",
   "execution_count": 24,
   "metadata": {},
   "outputs": [],
   "source": [
    "lengths = zip(*lengthHist)[0]\n",
    "freq = zip(*lengthHist)[1]"
   ]
  },
  {
   "cell_type": "code",
   "execution_count": 25,
   "metadata": {},
   "outputs": [],
   "source": [
    "import numpy as np"
   ]
  },
  {
   "cell_type": "code",
   "execution_count": 26,
   "metadata": {},
   "outputs": [],
   "source": [
    "data = [list(lengths), list(freq)]\n",
    "pd_data = pd.DataFrame(np.array(data).T, columns=['length','count'])"
   ]
  },
  {
   "cell_type": "code",
   "execution_count": 27,
   "metadata": {},
   "outputs": [
    {
     "data": {
      "text/html": [
       "<div>\n",
       "<style scoped>\n",
       "    .dataframe tbody tr th:only-of-type {\n",
       "        vertical-align: middle;\n",
       "    }\n",
       "\n",
       "    .dataframe tbody tr th {\n",
       "        vertical-align: top;\n",
       "    }\n",
       "\n",
       "    .dataframe thead th {\n",
       "        text-align: right;\n",
       "    }\n",
       "</style>\n",
       "<table border=\"1\" class=\"dataframe\">\n",
       "  <thead>\n",
       "    <tr style=\"text-align: right;\">\n",
       "      <th></th>\n",
       "      <th>length</th>\n",
       "      <th>count</th>\n",
       "    </tr>\n",
       "  </thead>\n",
       "  <tbody>\n",
       "    <tr>\n",
       "      <th>0</th>\n",
       "      <td>1</td>\n",
       "      <td>1</td>\n",
       "    </tr>\n",
       "    <tr>\n",
       "      <th>1</th>\n",
       "      <td>2</td>\n",
       "      <td>4</td>\n",
       "    </tr>\n",
       "    <tr>\n",
       "      <th>2</th>\n",
       "      <td>3</td>\n",
       "      <td>14</td>\n",
       "    </tr>\n",
       "    <tr>\n",
       "      <th>3</th>\n",
       "      <td>4</td>\n",
       "      <td>26</td>\n",
       "    </tr>\n",
       "    <tr>\n",
       "      <th>4</th>\n",
       "      <td>5</td>\n",
       "      <td>55</td>\n",
       "    </tr>\n",
       "  </tbody>\n",
       "</table>\n",
       "</div>"
      ],
      "text/plain": [
       "   length  count\n",
       "0       1      1\n",
       "1       2      4\n",
       "2       3     14\n",
       "3       4     26\n",
       "4       5     55"
      ]
     },
     "execution_count": 27,
     "metadata": {},
     "output_type": "execute_result"
    }
   ],
   "source": [
    "pd_data.head(5)"
   ]
  },
  {
   "cell_type": "code",
   "execution_count": 34,
   "metadata": {},
   "outputs": [
    {
     "data": {
      "image/png": "[encoded data removed]",
      "text/plain": [
       "<matplotlib.figure.Figure at 0x1a1ad423d0>"
      ]
     },
     "metadata": {},
     "output_type": "display_data"
    }
   ],
   "source": [
    "fig = plt.figure(figsize=(20, 10))\n",
    "ax = fig.add_subplot(111)\n",
    "sns.barplot(x='length', y='count', data=pd_data, ax=ax)\n",
    "plt.xticks(rotation=90);\n",
    "# plt.savefig('./IMG/distribution_of_pub_length.pdf', format='pdf', bbox_inches='tight')"
   ]
  },
  {
   "cell_type": "code",
   "execution_count": 35,
   "metadata": {},
   "outputs": [],
   "source": [
    "pub_concise.to_pickle('../data/pub_toks.pkl')"
   ]
  },
  {
   "cell_type": "markdown",
   "metadata": {},
   "source": [
    "----"
   ]
  },
  {
   "cell_type": "markdown",
   "metadata": {
    "collapsed": true
   },
   "source": [
    "# Preprocessing scrapped `PDF`\n",
    "\n",
    "In this section, we pre-process all the pdf that we seen in the Edinburgh Research Explorer. Some publications may not have any `pdf` (that is converted to txt (see infnet-scrapper/notebooks))"
   ]
  },
  {
   "cell_type": "code",
   "execution_count": 14,
   "metadata": {
    "ExecuteTime": {
     "end_time": "2018-01-05T21:33:15.817460Z",
     "start_time": "2018-01-05T21:33:15.812044Z"
    }
   },
   "outputs": [],
   "source": [
    "import os"
   ]
  },
  {
   "cell_type": "code",
   "execution_count": 38,
   "metadata": {
    "ExecuteTime": {
     "end_time": "2018-01-05T21:40:05.611432Z",
     "start_time": "2018-01-05T21:39:57.355138Z"
    }
   },
   "outputs": [
    {
     "name": "stdout",
     "output_type": "stream",
     "text": [
      "03b5ea65-0e55-4ca1-bcd9-124484ae9b65\n",
      "04edfd3c-35ee-44d7-a2ea-11ed5d7f7d1a\n",
      "07ddf95b-5d2d-42f7-ae9e-cfdb914dae6d\n",
      "0b45b3e8-a6c4-40a3-a108-942ec9ba85f7\n",
      "0ec3bdbf-5de6-4607-aba9-862cadf626a4\n",
      "20e71cdb-5e4d-4513-a3b8-7d416e35aeb4\n",
      "2e98e3d6-0892-49fb-984e-d000a9505975\n",
      "40cbb66f-1c5c-46f6-b9a3-d9fa59254aad\n",
      "41899314-b749-41a4-b47e-521d4bd9b16a\n",
      "45e72a8e-99a9-4e99-8b99-c02b01bb7008\n",
      "48877653-39f8-4f4c-8bf2-80d2af6d0be7\n",
      "53ff0dc9-6438-43d8-ac4b-40b699cb6bd8\n",
      "61d43d74-2d5a-4caf-a063-edbe2a178cb8\n",
      "6df05941-cac1-4822-9618-0953abbf8150\n",
      "7557595b-8082-4278-90e4-d7fc4fbf3b86\n",
      "75ab99bb-f99d-404a-82ac-121186506851\n",
      "85900df7-dfcd-459c-af18-3f82254e0d70\n",
      "8ce362b8-8c40-4760-9dc1-d8b5cc3622ed\n",
      "996f454b-d2ac-4bc8-9779-ca158eedcdda\n",
      "9d1702f3-63fb-49a1-85b2-6f6b5edcaa43\n",
      "a1b50efd-61dd-4734-8493-983a07621321\n",
      "a4caa3e2-b3ba-4bf9-abb0-1a79228c4721\n",
      "a80888fe-96e5-4fee-ab1b-1457404e28ea\n",
      "a95c419b-d44d-4ae6-892e-0a089f4d3476\n",
      "b88208d0-709e-4237-a036-cc45dc53aa75\n",
      "be1c98b3-010d-4e25-bcc0-6b1f7910eabb\n",
      "befdc0f0-f710-4775-bc29-dd5a095b8459\n",
      "c239da37-eae7-4a63-8fa0-98cec2fdbe56\n",
      "cb2abed6-5d8f-43fe-b4af-0d3259d96efa\n",
      "d28458e7-f738-4bb7-9b1f-d5dcb5ed961d\n",
      "de681e17-1cd5-4112-b255-fba0daa1897c\n",
      "e4e0c9f9-970b-4224-a441-399ef977179b\n",
      "fa811a41-64ab-4b9c-afa4-8fdbcd7aff98\n",
      "fcf85516-32a8-45ae-b942-72cc8b344fcb\n"
     ]
    }
   ],
   "source": [
    "collection = {}\n",
    "txtdir = '../../infnet-scrapper/data/pdf2txt/txt/'\n",
    "for txt in os.listdir(txtdir):\n",
    "    txt_id = txt.split(\".txt\")[0]\n",
    "    pdf = open(txtdir + txt)\n",
    "    _txt = \" \".join(pdf.readlines())\n",
    "    if len(_txt) >= 1:\n",
    "        collection[str(txt_id)] = str(_txt)\n",
    "    else:\n",
    "        print(txt_id)\n",
    "    pdf.close()"
   ]
  },
  {
   "cell_type": "code",
   "execution_count": 39,
   "metadata": {
    "ExecuteTime": {
     "end_time": "2018-01-05T21:40:13.406550Z",
     "start_time": "2018-01-05T21:40:13.395392Z"
    }
   },
   "outputs": [
    {
     "data": {
      "text/plain": [
       "2553"
      ]
     },
     "execution_count": 39,
     "metadata": {},
     "output_type": "execute_result"
    }
   ],
   "source": [
    "len(collection)"
   ]
  },
  {
   "cell_type": "code",
   "execution_count": 40,
   "metadata": {
    "ExecuteTime": {
     "end_time": "2018-01-05T21:40:13.424824Z",
     "start_time": "2018-01-05T21:40:13.411990Z"
    }
   },
   "outputs": [
    {
     "data": {
      "text/plain": [
       "'PACT Submission #47\\xe2\\x80\\x93 Con\\xef\\xac\\x81dential Draft \\xe2\\x80\\x93 Do Not Distribute!!\\n \\n End-to-end Deep Learning of Optimization Heuristics\\n \\n Abstract\\n \\n Accurate automatic optimization heuristics are necessary\\n for dealing with the complexity and diversity of modern hard-\\n ware and software. Machine learning is a proven technique\\n for learning such heuristics, but its success is bound by the\\n quality of the features used. These features must be hand\\n crafted by developers through a combination of expert domain\\n knowledge and trial and error. This makes the quality of the\\n \\xef\\xac\\x81nal model directly dependent on the skill and available time\\n of the system architect.\\n \\n Our work introduces a better way for building heuristics.\\n We develop a deep neural network that learns heuristics over\\n raw code, entirely without using code features. The neural net-\\n work simultaneously constructs appropriate representations\\n of the code and learns how best to optimize, removing the need\\n for manual feature creation. Further, we show that our neural\\n nets can transfer learning from one optimization problem to\\n another, improving the accuracy of new models, without the\\n help of human experts.\\n \\n We compare the effectiveness of our automatically gener-\\n ated heuristics against ones with features hand-picked by ex-\\n perts. We examine two challenging tasks: predicting optimal\\n mapping for heterogeneous parallelism and GPU thread coars-\\n ening factors. In 89% of the cases, the quality of our fully\\n automatic heuristics matches or surpasses that of state-of-the-\\n art predictive models using hand-crafted features, providing\\n on average 14% and 12% more performance with no human\\n effort expended on designing features.\\n \\n 1. Introduction\\n There are countless scenarios during the compilation and exe-\\n cution of a parallel program where decisions must be made as\\n to how, or if, a particular optimization should be applied. Mod-\\n ern compilers and runtimes are rife with hand coded heuristics\\n which perform this decision making. The performance of\\n parallel programs is thus dependent on the quality of these\\n heuristics.\\n \\n Hand-written heuristics require expert knowledge, take a\\n lot of time to construct, and in many cases lead to suboptimal\\n decisions. Researchers have focused on machine learning as a\\n means to constructing high quality heuristics that often outper-\\n form their handcrafted equivalents [1\\xe2\\x80\\x934]. A predictive model\\n is trained, using supervised machine learning, on empirical\\n performance data and important quanti\\xef\\xac\\x81able properties, or\\n features, of representative programs. The model learns the\\n correlation between these feature values and the optimization\\n decision that maximizes performance. The learned correla-\\n tions are used to predict the best optimization decisions for\\n \\n (a) Current state-of-practice\\n \\n (b) Our proposal\\n \\n Figure 1: Building a predictive model. The model is originally\\n trained on performance data and features extracted from the\\n source code and the runtime behavior. We propose bypassing\\n feature extraction, instead learning directly over raw program\\n source code.\\n \\n new programs. Previous works in this area were able to build\\n machine learning based heuristics that outperform ones created\\n manually by experts and did so with less effort [5, 6].\\n \\n Still, experts are not completely removed from the design\\n process, which is shown in Figure 1a. Selecting the appropri-\\n ate features is a manual undertaking which requires a deep\\n understanding of the system. The designer essentially decides\\n which compile or runtime characteristics affect optimization\\n decisions and expresses them in ways that make it easy to\\n model their relationship to performance. Failing to identify an\\n important feature has a negative effect on the resulting heuris-\\n tic. For example, in [7] the authors discovered that [5] did\\n not identify one such feature, causing performance to be 40%\\n lower on average.\\n \\n To make heuristic construction fast and cheap, we must\\n take humans out of the loop. While techniques for automatic\\n feature generation from the compiler IR have been proposed\\n in the past [8, 9], they do not solve the problem in a practical\\n way. They are deeply embedded into the compiler, require\\n expert knowledge to guide the generation, have to be repeated\\n from scratch for every new heuristic, and their search time can\\n be prohibitive. Our insight was that such costly approaches\\n are not necessary any more. Deep learning techniques have\\n shown astounding successes in identifying complex patterns\\n and relationships in images [10, 11], audio [12], and even\\n computer code [7, 13, 14]. We hypothesized that deep neural\\n networks should be able to automatically extract features from\\n source code. Our experiments showed that even this was a\\n conservative target: with deep neural networks we can by-\\n pass static feature extraction and learn optimization heuristics\\n directly on raw code.\\n \\n RuntimesRuntimesFeature ExtractorFeaturesFeaturesFeaturesProgramsProgramsProgramsPredictive ModelProgramsProgramsTraining DataRuntimesDriverRuntimesRuntimesProgramsProgramsProgramsPredictive ModelProgramsProgramsTraining DataRuntimesDriver\\x0cFigure 1b shows our proposed methodology. Instead of\\n manually extracting features from input programs to generate\\n training data, program code is used directly in the training\\n data. Programs are fed through a series of neural networks\\n which learn how code correlates with performance. Internally\\n and without prior knowledge, the networks construct complex\\n abstractions of the input program characteristics and correla-\\n tions between those abstractions and performance. Our work\\n replaces the need for compile-time or static code features,\\n merging feature and heuristic construction into a single pro-\\n cess of joint learning. Our system admits auxiliary features\\n to describe information unavailable at compile time, such as\\n the sizes of runtime input parameters. Beyond these optional\\n inclusions, we are able to learn optimization heuristics without\\n human supervision or guidance.\\n \\n By employing transfer learning [15], our approach is able\\n to produce high quality heuristics even when learning on a\\n small number of programs. The properties of the raw code that\\n are abstracted by the beginning layers of our neural networks\\n are mostly independent of the optimization problem. We reuse\\n these parts of the network across heuristics, and, in the process,\\n we speed up learning considerably.\\n \\n We evaluated our approach on two problems: heterogeneous\\n device mapping and GPU thread coarsening. Good heuristics\\n for these two problems are important for extracting perfor-\\n mance from heterogeneous systems, and the fact that machine\\n learning has been used before for heuristic construction for\\n these problems allows direct comparison. Prior machine learn-\\n ing approaches resulted in good heuristics which extracted\\n 73% and 79% of the available performance respectively but\\n required extensive human effort to select the appropriate fea-\\n tures. Nevertheless, our approach was able to outperform them\\n by 14% and 12%, which indicates a better identi\\xef\\xac\\x81cation of\\n important program characteristics, without any expert help.\\n \\xe2\\x80\\xa2 We present a methodology for building compiler heuristics\\n \\xe2\\x80\\xa2 A novel tool DeepTune for automatically constructing op-\\n timization heuristics without features. DeepTune outper-\\n forms existing state-of-the-art predictive models by 14%\\n and 12% in two challenging optimization domains.\\n \\xe2\\x80\\xa2 We apply, for the \\xef\\xac\\x81rst time, transfer learning on compile-\\n time and runtime optimizations, improving the heuristics by\\n reusing training information across different optimization\\n problems, even if they are completely unrelated.\\n \\n without any need for feature engineering.\\n \\n We make the following contributions:\\n \\n 2. DeepTune: Learning On Raw Program Code\\n DeepTune is an end-to-end machine learning pipeline for op-\\n timization heuristics. Its primary input is the source code of\\n a program to be optimized, and through a series of neural\\n networks, it directly predicts the optimization which should be\\n applied. By learning on source code, our approach is not tied\\n to a speci\\xef\\xac\\x81c compiler, platform, or optimization problem. The\\n same design can be reused to build multiple heuristics. The\\n \\n 2\\n \\n Figure 2: DeepTune architecture. Code properties are ex-\\n tracted from source code by the language model. They are fed,\\n together with optional auxiliary inputs, to the heuristic model\\n to produce the \\xef\\xac\\x81nal prediction.\\n \\n most important innovation of DeepTune is that it forgoes the\\n need for human experts to select and tune appropriate features.\\n \\n 2.1. System Overview\\n \\n Figure 2 provides an overview of the system. A source rewriter\\n removes semantically irrelevant information (such as com-\\n ments) from the source code of the target program and passes\\n it to a language model. The language model converts the arbi-\\n trary length stream of code into a \\xef\\xac\\x81xed length vector of real\\n values which fully capture the properties and structure of the\\n source, replacing the role of hand designed features. We then\\n optionally concatenate this vector with auxiliary inputs, which\\n allow passing additional data about runtime or architectural pa-\\n rameters to the model for heuristics which need more than just\\n compile-time information. Finally, a standard feed-forward\\n network is used to predict the best heuristic parameters to\\n optimize the program.\\n \\n DeepTune is open source1. We implemented the model\\n using Keras, with TensorFlow [16] and Theano [17] backends.\\n \\n 2.2. Language Model\\n \\n Learning effective representations of source code is a dif\\xef\\xac\\x81cult\\n task. A successful model must be able to:\\n \\xe2\\x80\\xa2 derive semantic and syntactic patterns of a programming\\n \\n language entirely from sample codes;\\n \\n 1DeepTune is available at: http://chriscummins.cc/deeptune\\n \\n Heuristic ModelAuxiliary InputsSource CodeDense NNPredicted OptimizationEmbeddingSource RewriterSequence EncoderBatch Normalizationvoid nbody_sim(__global float4* pos...[256, 2095172]Device mapping: {CPU,GPU}Language ModelLSTM(optional)(concatenate)\\x0c\\xe2\\x80\\xa2 identify the patterns and representation in source codes\\n \\xe2\\x80\\xa2 discriminate performance characteristics arising from po-\\n \\n which are relevant to the task at hand; and\\n \\n tentially subtle differences in similar codes.\\n \\n To achieve this task, we employ state-of-the-art language mod-\\n eling techniques, coupled with a series of generic, language\\n agnostic code transformations.\\n Source Rewriter To begin with, we apply a series of source\\n normalizing transformations, similar to those of Cummins\\n et al. [7]. These transformations, implemented as an LLVM\\n pass, parse the AST, removing conditional compilation, then\\n rebuild the input source code using a consistent code style and\\n identi\\xef\\xac\\x81er naming scheme. The role of source normalization is\\n to simplify the task of modeling source code by ensuring that\\n trivial semantic differences in programs such as the choice of\\n variable names or the insertion of comments do not affect the\\n learned model. Figures 3b and 3a show the source rewriting\\n applied to a simple program.\\n Sequence Encoder We encode source code as a sequence\\n of integers for interpretation by neural networks, where each\\n integer is an index into a predetermined vocabulary. In [7], a\\n character based vocabulary is used. This minimizes the size of\\n the vocabulary, but leads to long sequences which are harder\\n to extract structure from. In [18], a token based vocabulary\\n is used. This leads to shorter sequences, but tokenizing real\\n codes causes an explosion in the size of the vocabulary, as\\n every identi\\xef\\xac\\x81er and literal must be represented uniquely.\\n \\n We designed a hybrid, partially tokenized approach. This\\n allows common multi-character sequences such as float and\\n if to be represented as unique vocabulary items, but liter-\\n als and other infrequently used words to be encoded at the\\n character level.\\n \\n We \\xef\\xac\\x81rst assembled a candidate vocabulary Vc for the\\n OpenCL programming language containing the 208 data types,\\n keywords, and language builtins of the OpenCL speci\\xef\\xac\\x81cation.\\n We then derived the subset of the candidate vocabulary V \\xe2\\x88\\x88 Vc\\n which is required to encode a corpus of 45k lines of handwrit-\\n ten GPGPU benchmark suite kernels. Beginning with the \\xef\\xac\\x81rst\\n character in the corpus, our algorithm consumes the longest\\n matching sequence from the candidate vocabulary. This pro-\\n cess continues until every character in the corpus has been\\n consumed. The resulting derived vocabulary consists of 128\\n symbols which we use to encode new program sources. Fig-\\n ure 3c shows the vocabulary derived for a single input source\\n code Figure 3b.\\n Embedding During encoding, tokens in the vocabulary are\\n mapped to unique integer values, e.g. float \\xe2\\x86\\x92 0, int \\xe2\\x86\\x92\\n 1. The integer values chosen are arbitrary, and offer a sparse\\n data representation, meaning that a language model cannot\\n infer the relationships between tokens based on their integer\\n values. This is in contrast to the dense representations of other\\n domains, such as pixels used in computer vision, which can be\\n interpolated between to derive the differences between colors.\\n \\n / / # d e f i n e E l e m e n t s\\n __kernel void m em s e t_ k er n e l ( _ _ g l o b a l char \\xe2\\x88\\x97 mem_d ,\\n (cid:44)\\xe2\\x86\\x92 short val ,\\n const\\n mem_d [ t h r e a d _ i d ] = v a l ;\\n \\n t h r e a d _ i d = g e t _ g l o b a l _ i d ( 0 ) ;\\n \\n i n t number_bytes ) {\\n \\n i n t\\n \\n (a) An example, short OpenCL kernel, taken from Nvidia\\xe2\\x80\\x99s streamcluster.\\n \\n 1\\n 2\\n \\n 3\\n 4\\n 5\\n \\n 1\\n 2\\n 3\\n 4\\n \\n }\\n \\n }\\n \\n __kernel void A( _ _ g l o b a l char\\xe2\\x88\\x97 a ,\\n i n t d = g e t _ g l o b a l _ i d ( 0 ) ;\\n \\n const\\n a [ d ] = b ;\\n \\n short b ,\\n \\n i n t c ) {\\n \\n (b) The streamcluster kernel after source rewriting. Variable and function\\n names are normalized, comments removed, and code style enforced.\\n \\n idx\\n \\n token\\n \\n idx\\n \\n token\\n \\n idx\\n \\n token\\n \\n 1\\n 2\\n 3\\n 4\\n 5\\n 6\\n 7\\n 8\\n 9\\n \\n \\xe2\\x80\\x98__kernel\\xe2\\x80\\x99\\n \\xe2\\x80\\x98 \\xe2\\x80\\x99\\n \\xe2\\x80\\x98void\\xe2\\x80\\x99\\n \\xe2\\x80\\x98A\\xe2\\x80\\x99\\n \\xe2\\x80\\x98(\\xe2\\x80\\x99\\n \\xe2\\x80\\x98__global\\xe2\\x80\\x99\\n \\xe2\\x80\\x98char\\xe2\\x80\\x99\\n \\xe2\\x80\\x98*\\xe2\\x80\\x99\\n \\xe2\\x80\\x98a\\xe2\\x80\\x99\\n \\n 10\\n 11\\n 12\\n 13\\n 14\\n 15\\n 16\\n 17\\n 18\\n \\n \\xe2\\x80\\x98,\\xe2\\x80\\x99\\n \\xe2\\x80\\x98short\\xe2\\x80\\x99\\n \\xe2\\x80\\x98b\\xe2\\x80\\x99\\n \\xe2\\x80\\x98int\\xe2\\x80\\x99\\n \\xe2\\x80\\x98c\\xe2\\x80\\x99\\n \\xe2\\x80\\x98)\\xe2\\x80\\x99\\n \\xe2\\x80\\x98{\\xe2\\x80\\x99\\n \\xe2\\x80\\x98\\\\n\\xe2\\x80\\x99\\n \\xe2\\x80\\x98 \\xe2\\x80\\x99\\n \\n 19\\n 20\\n 21\\n 22\\n 23\\n 24\\n 25\\n 26\\n 27\\n \\n \\xe2\\x80\\x98const\\xe2\\x80\\x99\\n \\xe2\\x80\\x98d\\xe2\\x80\\x99\\n \\xe2\\x80\\x98=\\xe2\\x80\\x99\\n \\xe2\\x80\\x98get_global_id\\xe2\\x80\\x99\\n \\xe2\\x80\\x980\\xe2\\x80\\x99\\n \\xe2\\x80\\x98;\\xe2\\x80\\x99\\n \\xe2\\x80\\x98[\\xe2\\x80\\x99\\n \\xe2\\x80\\x98]\\xe2\\x80\\x99\\n \\xe2\\x80\\x98}\\xe2\\x80\\x99\\n \\n (c) Derived vocabulary, ordered by their appearance in the input (b). The\\n vocabulary maps tokens to integer indices.\\n \\n 01\\n 09\\n 15\\n 21\\n 20\\n \\n 02\\n 10\\n 02\\n 02\\n 26\\n \\n 03\\n 02\\n 16\\n 22\\n 02\\n \\n 02\\n 11\\n 17\\n 05\\n 21\\n \\n 04\\n 02\\n 18\\n 23\\n 02\\n \\n 05\\n 12\\n 19\\n 15\\n 12\\n \\n 06\\n 10\\n 02\\n 24\\n 24\\n \\n 02\\n 02\\n 13\\n 17\\n 17\\n \\n 07\\n 13\\n 02\\n 18\\n 27\\n \\n 02\\n 14\\n 02\\n 25\\n \\n 08\\n 02\\n 20\\n 09\\n <pad...>\\n \\n (d) Indices encoded kernel sequence. Sequences may be padded to a\\n \\xef\\xac\\x81xed length by repeating an out-of-vocabulary integer (e.g. -1).\\n \\n Figure 3: Deriving a tokenized 1-of-k vocabulary encoding\\n from an OpenCL source code.\\n \\n To mitigate this, we use an embedding, which translates\\n tokens in a sparse, integer encoded vocabulary into a lower di-\\n mensional vector space, allowing semantically related tokens\\n like float and int to be mapped to nearby points [19, 20].\\n An embedding layer maps each token in the integer encoded\\n vocabulary to a vector of real values. Given a vocabulary size\\n V and embedding dimensionality D, an embedding matrix\\n WWW E \\xe2\\x88\\x88 RV\\xc3\\x97D is learned during training, so that an integer en-\\n coded sequences of tokens ttt \\xe2\\x88\\x88 NL is mapped to the matrix\\n TTT \\xe2\\x88\\x88 RL\\xc3\\x97D. We use an embedding dimensionality D = 64.\\n Sequence Characterization Once source codes have been\\n encoded and translated into sequences of embedding vectors,\\n neural networks are used to extract a \\xef\\xac\\x81xed size vector which\\n characterizes the entire source sequence. This is comparable\\n to the hand engineered feature extractors used in existing\\n approaches to predictive modeling, but is a learned process\\n that occurs entirely\\xe2\\x80\\x94 and automatically \\xe2\\x80\\x94 within the hidden\\n layers of the network.\\n \\n 3\\n \\n \\x0cWe use the the Long Short-Term Memory (LSTM) architec-\\n ture [21] for sequence characterization. LSTMs implements a\\n Recurrent Neural Network in which the activations of neurons\\n are learned with respect not just to their current inputs, but\\n to previous inputs in a sequence. Unlike regular recurrent\\n networks in which the strength of learning decreases over time\\n (a symptom of the vanishing gradients problem [22]), LSTMs\\n employ a forget gate with a linear activation function, allowing\\n them to retain activations for arbitrary durations. This makes\\n them effective at learning complex relationships over long se-\\n quences [23], an especially important capability for modeling\\n program code, as dependencies in sequences frequently occur\\n over long ranges (for example, a variable may be declared as\\n an argument to a function and used throughout).\\n \\n We use a two layer LSTM network. The network receives\\n a sequence of embedding vectors, and returns a single output\\n vector, characterizing the entire sequence.\\n 2.3. Auxiliary Inputs\\n We support an arbitrary number of additional real valued aux-\\n iliary inputs which can be optionally used to augment the\\n source code input. We provide these inputs as a means of in-\\n creasing the \\xef\\xac\\x82exibility of our system, for example, to support\\n applications in which the optimization heuristic depends on\\n dynamic values which cannot be statically determined from\\n the program code [3, 24]. When present, the values of auxil-\\n iary inputs are concatenated with the output of the language\\n model, and fed into a heuristic model.\\n 2.4. Heuristic Model\\n The heuristic model takes the learned representations of the\\n source code and auxiliary inputs (if present), and uses these\\n values to make the \\xef\\xac\\x81nal optimization prediction.\\n \\n We \\xef\\xac\\x81rst normalize the values. Normalization is necessary\\n because the auxiliary inputs can have any values, whereas the\\n language model activations are in the range [0,1]. If we did\\n not normalize, then scaling the auxiliary inputs could affect\\n the training of the heuristic model. Normalization occurs\\n in batches. We use the normalization method of\\n [25], in\\n which each scalar of the heuristic model\\xe2\\x80\\x99s inputs x1 . . .xn is\\n normalized to a mean 0 and standard deviation of 1:\\n \\n x(cid:48)\\n i = \\xce\\xb3i\\n \\n xi \\xe2\\x88\\x92 E(xi)\\n \\n (cid:112)Var(xi)\\n \\n + \\xce\\xb2i\\n \\n where \\xce\\xb3 and \\xce\\xb2 are scale and shift parameters, learned during\\n training.\\n \\n The \\xef\\xac\\x81nal component of DeepTune is comprised of two fully\\n connected neural network layers. The \\xef\\xac\\x81rst layer consists of\\n 32 neurons. The second layer consists of a single neuron\\n for each possible heuristic decision. Each neuron applies an\\n activation function f (x) over a weighted sum of its inputs.\\n We use recti\\xef\\xac\\x81er activation functions f (x) = max(0,x) for the\\n \\xef\\xac\\x81rst layer due to their improved performance during training\\n of deep networks [26]. For the output layer, we use sigmoid\\n \\n 4\\n \\n activation functions f (x) = 1\\n in the range [0,1]. The weights are learned during training.\\n \\n 1+e\\xe2\\x88\\x92x which provide activations\\n \\n The activation of each neuron in the output layer represents\\n the model\\xe2\\x80\\x99s con\\xef\\xac\\x81dence that the corresponding decision is the\\n correct one. We take the argmax of the output layer to \\xef\\xac\\x81nd\\n the decision with the largest activation. For example, for a\\n binary optimization heuristic the \\xef\\xac\\x81nal layer will consist of two\\n neurons, and the predicted optimization is the neuron with the\\n largest activation.\\n 2.5. Training the network\\n DeepTune is trained in the same manner as existing predictive\\n model approaches, the key difference being that instead of\\n having to manually create and extract features from programs,\\n we simply use the raw program codes themselves.\\n \\n The model is trained with Stochastic Gradient Descent\\n (SGD), using the Adam optimizer [27]. For training data\\n X1 . . .Xn, SGD attempts to \\xef\\xac\\x81nd the model parameters \\xce\\x98 that\\n minimize the output of a loss function:\\n \\n \\xce\\x98 = argmin\\n \\n \\xce\\x98\\n \\n 1\\n n\\n \\n n\\n \\n \\xe2\\x88\\x91\\n \\n i=1\\n \\n (cid:96) (Xi,\\xce\\x98)\\n \\n where loss function (cid:96) (x,\\xce\\x98) computes the logarithmic differ-\\n ence between the predicted and expected values.\\n \\n To reduce training time, multiple inputs are batched to-\\n gether and are fed into the neural network simultaneously,\\n reducing the frequency of costly weight updates during back-\\n propagation. This requires that the inputs to the language\\n model be the same length. To achieve this, we pad all se-\\n quences up to a \\xef\\xac\\x81xed length of 1024 tokens using a spe-\\n cial padding token. This allows matrices of batch_size \\xc3\\x97\\n max_seq_len tokens to be processed simultaneously. We note\\n that batching and padding sequences to a maximum length is\\n only to improve training time. Once deployed for prediction,\\n sequences do not need to be padded, allowing classi\\xef\\xac\\x81cation of\\n arbitrary length codes.\\n 3. Experimental Methodology\\n We apply DeepTune to two heterogeneous compiler-based\\n machine learning tasks and compare its performance to state-\\n of-the-art approaches that use expert selected features.\\n 3.1. Case Study A: OpenCL Heterogeneous Mapping\\n OpenCL provides a platform-agnostic framework for heteroge-\\n neous parallelism. This allows a program written in OpenCL\\n to execute transparently across a range of different devices,\\n from CPUs to GPUs and FPGAs. Given a program and a\\n choice of execution devices, the question then is on which\\n device should we execute the program to maximize perfor-\\n mance?\\n State-of-the-art\\n In [5], Grewe et al. develop a predictive\\n model for mapping OpenCL kernels to the optimal device\\n in CPU/GPU heterogeneous systems. They use supervised\\n \\n \\x0cName\\n \\n Description\\n \\n F1:\\n F2:\\n F3:\\n \\n data size/(comp+mem)\\n coalesced/mem\\n (localmem/mem)\\xc3\\x97wgsize\\n \\n F4:\\n \\n comp/mem\\n \\n commun.-computation ratio\\n % coalesced memory accesses\\n ratio local to global mem accesses\\n \\xc3\\x97 #. work-items\\n computation-mem ratio\\n \\n (a) Feature values\\n \\n Name\\n \\n Type\\n \\n Description\\n \\n comp\\n mem\\n localmem\\n coalesced\\n data size\\n workgroup size\\n \\n static\\n static\\n static\\n static\\n \\n dynamic\\n dynamic\\n \\n #. compute operations\\n #. accesses to global memory\\n #. accesses to local memory\\n #. coalesced memory accesses\\n size of data transfers\\n #. work-items per kernel\\n \\n (b) Values used in feature computation\\n \\n Table 1: Features used by Grewe et al. to predict heteroge-\\n neous device mappings for OpenCL kernels.\\n \\n learning to construct decision trees, using a combination of\\n static and dynamic kernel features. The static program features\\n are extracted using a custom LLVM pass; the dynamic features\\n are taken from the OpenCL runtime.\\n Expert Chosen Features Table 1a shows the features used\\n by their work. Each feature is an expression built upon the\\n code and runtime metrics given in Table 1b.\\n Experimental Setup We replicate the predictive model of\\n Grewe et al. [5]. We replicated the experimental setup of [7]\\n in which the experiments are extended to a larger set of 71 pro-\\n grams, summarized in Table 2a. The programs were evaluated\\n on two CPU-GPU platforms, detailed in Table 3a.\\n DeepTune Con\\xef\\xac\\x81guration Figure 4a shows the neural net-\\n work con\\xef\\xac\\x81guration of DeepTune for the task of predicting\\n optimal device mapping. We use the OpenCL kernel source\\n code as input, and the two dynamic values workgroup size and\\n data size available to the OpenCL runtime.\\n Model Evaluation We use strati\\xef\\xac\\x81ed 10-fold cross-\\n validation to evaluate the quality of the predictive models [28].\\n Each program is randomly allocated into one of 10 equally-\\n sized sets; the sets are balanced to maintain a distribution\\n of instances from each class consistent with the full set. A\\n model is trained on the programs from all but one of the sets,\\n then tested on the programs of the unseen set. This process\\n is repeated for each of the 10 sets, to construct a complete\\n prediction over the whole dataset.\\n \\n 3.2. Case Study B: OpenCL Thread Coarsening Factor\\n \\n Thread coarsening is an optimization for parallel programs in\\n which the operations of two or more threads are fused together.\\n This optimization can prove bene\\xef\\xac\\x81cial on certain combinations\\n of programs and architectures, for example programs with a\\n large potential for Instruction Level Parallelism on Very Long\\n Instruction Word architectures.\\n \\n Version\\n \\n #. benchmarks\\n \\n #. kernels\\n \\n NPB (SNU [29])\\n Rodinia [30]\\n NVIDIA SDK\\n AMD SDK\\n Parboil [31]\\n PolyBench [32]\\n SHOC [33]\\n Total\\n \\n 1.0.3\\n 3.1\\n 4.2\\n 3.0\\n 0.2\\n 1.0\\n 1.1.5\\n -\\n \\n 7\\n 14\\n 6\\n 12\\n 6\\n 14\\n 12\\n 71\\n \\n 114\\n 31\\n 12\\n 16\\n 8\\n 27\\n 48\\n 256\\n \\n (a) Case Study A: OpenCL Heterogeneous Mapping\\n \\n Version\\n \\n #. benchmarks\\n \\n #. kernels\\n \\n NVIDIA SDK\\n AMD SDK\\n Parboil [31]\\n Total\\n \\n 4.2\\n 3.0\\n 0.2\\n -\\n \\n 3\\n 10\\n 4\\n 17\\n \\n 3\\n 10\\n 4\\n 17\\n \\n (b) Case Study B: OpenCL Thread Coarsening Factor\\n \\n Table 2: Benchmark programs.\\n \\n Frequency Memory\\n \\n Driver\\n \\n Intel Core i7-3820\\n AMD Tahiti 7970\\n NVIDIA GTX 970\\n \\n 3.6 GHz\\n 1000 MHz\\n 1050 MHz\\n \\n 8GB\\n 3GB\\n 4GB\\n \\n AMD 1526.3\\n AMD 1526.3\\n NVIDIA 361.42\\n \\n (a) Case Study A: OpenCL Heterogeneous Mapping\\n \\n Frequency Memory\\n \\n Driver\\n \\n AMD HD 5900\\n AMD Tahiti 7970\\n NVIDIA GTX 480\\n NVIDIA K20c\\n \\n 725 MHz\\n 1000 MHz\\n 700 MHz\\n 706 MHz\\n \\n 2GB\\n 3GB\\n 1536 MB\\n 5GB\\n \\n AMD 1124.2\\n AMD 1084.4\\n NVIDIA 304.54\\n NVIDIA 331.20\\n \\n (b) Case Study B: OpenCL Thread Coarsening Factor\\n \\n Table 3: Experimental platforms.\\n \\n Figure 4: DeepTune neural networks, con\\xef\\xac\\x81gured for (a) het-\\n erogeneous mapping, and (b) thread coarsening factor. The\\n design stays almost the same regardless of the optimization\\n problem. The only changes are the extra input for (a) and the\\n number of nodes in the output layer.\\n \\n State-of-the-art Magni et al. present a predictive model for\\n OpenCL thread coarsening in [6]. They implement an iterative\\n heuristic which determines whether a given program would\\n \\n 5\\n \\n {CPU,GPU}DNN_2DNN_1Normal.Concat.LSTM_2LSTM_1EmbeddingInputswgsize(a)dsizecodecode(b){1,2,4,8,16,32}\\x0cName\\n \\n Description\\n \\n BasicBlocks\\n Branches\\n DivInsts\\n DivRegionInsts\\n DivRegionInstsRatio\\n DivRegions\\n TotInsts\\n FPInsts\\n ILP\\n Int/FP Inst Ratio\\n IntInsts\\n MathFunctions\\n MLP\\n Loads\\n Stores\\n UniformLoads\\n Barriers\\n \\n #. basic blocks\\n #. branches\\n #. divergent instructions\\n #. instructions in divergent regions\\n #. instr. in divergent regions / total instructions\\n #. divergent regions\\n #. instructions\\n #. \\xef\\xac\\x82oating point instructions\\n average ILP / basic block\\n #. branches\\n #. integer instructions\\n #. match builtin functions\\n average MLP / basic block\\n #. loads\\n #. stores\\n #. loads unaffected by coarsening direction\\n #. barriers\\n \\n Table 4: Candidate features used by Magni et al. for predicting\\n thread coarsening. From these values, they compute relative\\n deltas for each iteration of coarsening, then use PCA for se-\\n lection.\\n \\n #. neurons\\n HM CF\\n \\n #. parameters\\n HM\\n \\n CF\\n \\n 64\\n 64\\n 64\\n 64 + 2\\n 66\\n 32\\n 2\\n \\n 64\\n 64\\n 64\\n -\\n 64\\n 32\\n 6\\n \\n 8,256\\n 33,024\\n 33,024\\n -\\n 264\\n 2,144\\n 66\\n \\n 76,778\\n \\n 8,256\\n 33,024\\n 33,024\\n -\\n 256\\n 2,080\\n 198\\n \\n 76,838\\n \\n Embedding\\n LSTM_1\\n LSTM_2\\n Concatenate\\n Batch Norm .\\n DNN_1\\n DNN_2\\n Total\\n \\n (a) Magni et al. cascading binary model.\\n \\n (b) Our approach.\\n \\n Figure 5: Two approaches for predicting coarsening factor\\n (CF) of OpenCL kernels. Magni et al. reduce the multi-label\\n classi\\xef\\xac\\x81cation problem to a series of binary decisions, by iter-\\n atively applying the optimization and computing new feature\\n vectors. Our approach simply predicts the coarsening factor\\n directly from the source code.\\n \\n bene\\xef\\xac\\x81t from coarsening. If yes, then the program is coarsened,\\n and the process repeats, allowing further coarsening. In this\\n manner, the problem is reduced from a multi-label classi\\xef\\xac\\x81-\\n cation problem into a series of binary decisions, shown in\\n Figure 5a. They select from one of six possible coarsening\\n factors: (1,2,4,8,16,32), divided into 5 binary choices.\\n Expert Chosen Features Magni et al. followed a very com-\\n prehensive feature engineering process. 17 candidate features\\n were assembled from a previous study of performance coun-\\n ters [34], and computed theoretical values [35]. For each\\n candidate feature they compute its coarsening delta, re\\xef\\xac\\x82ect-\\n ing the change in each feature value caused by coarsening:\\n f\\xe2\\x88\\x86 = ( fa f ter \\xe2\\x88\\x92 fbe f ore)/ fbe f ore, adding it to the feature set.\\n Then they use Principle Component Analysis (PCA) on the\\n 34 candidates and selected the \\xef\\xac\\x81rst 7 principle components,\\n accounting for 95% of the variance in the feature space.\\n Experimental Setup We replicate the experimental setup\\n of Magni et al. [6]. The thread coarsening optimization is\\n \\n Table 5: The size and number of parameters of the DeepTune\\n components of Figure 4, con\\xef\\xac\\x81gured for heterogeneous map-\\n ping (HM) and coarsening factor (CF).\\n \\n evaluated on 17 programs, listed in Table 2b. Four different\\n GPU architectures are used, listed in Table 3b.\\n \\n DeepTune Con\\xef\\xac\\x81guration Figure 4b shows the neural net-\\n work con\\xef\\xac\\x81guration. We use the OpenCL kernel as input, and\\n directly predict the coarsening factor.\\n \\n Model Evaluation Compared to Case Study A, the size of\\n the evaluation is small. We use leave-one-out cross-validation\\n to evaluate the predictive models. For each program, a model\\n is trained on data from all other programs and used to predict\\n the coarsening factor of the excluded program.\\n \\n Because [6] does not describe the parameters of the neural\\n network, we perform an additional, nested cross-validation\\n process to \\xef\\xac\\x81nd the optimal network parameters for the Magni\\n et al. model. For every program in the training set, we evaluate\\n 48 combinations of network parameters. We select the best\\n performing con\\xef\\xac\\x81guration from these 768 results to train a\\n model for prediction on the excluded program. This nested\\n cross-validation is repeated for each of the training sets. We\\n do not perform this tuning of hyper-parameters for DeepTune.\\n \\n 6\\n \\n No\\xe2\\x80\\xa6Source code (CF1)Feature vector (CF1)Coarsen?NoYesFeature vector (CF2)Feature vector (CF4)Coarsen?NoYesCoarsen?CF: 2CF: 1CF: 4Source code (CF2)Coarsening PassSource code (CF4)Coarsening PassSource code (CF1)Coarsening Factor?CF:1CF:2CF:4CF:8CF:16CF:32\\x0c3.3. Comparison of Case Studies\\n \\n For the two different optimization heuristics, the authors ar-\\n rived at very different predictive model designs, with very\\n different features. By contrast, we take exactly the same ap-\\n proach for both problems. None of DeepTune\\xe2\\x80\\x99s parameters\\n were tuned for the case studies presented above. Their settings\\n represent conservative choices expected to work reasonably\\n well for most scenarios.\\n \\n Table 5 shows the similarity of our models. The only dif-\\n ference between our network design is the auxiliary inputs\\n for Case Study A and the different number of optimization\\n decisions. The differences between DeepTune con\\xef\\xac\\x81gurations\\n is only two lines of code: the \\xef\\xac\\x81rst, adding the two auxiliary\\n inputs; the second, increasing the size of the output layer for\\n Case Study B from two neurons to six. The description of\\n these differences is larger than the differences themselves.\\n 4. Experimental Results\\n We evaluate the effectiveness of DeepTune for two distinct\\n OpenCL optimization tasks: predicting the optimal device to\\n use to run a given OpenCL program, and predicting thread\\n coarsening factors.\\n \\n We \\xef\\xac\\x81rst compare DeepTune against two expert-tuned pre-\\n dictive models, showing that DeepTune outperforms the state-\\n of-the-art in both cases. We then show that by leveraging\\n knowledge learned from training DeepTune for one heuristic,\\n we can boost training for the other heuristic, further improving\\n performance. Finally, we analyze the working mechanism of\\n DeepTune.\\n 4.1. Case Study A: OpenCL Heterogeneous Mapping\\n \\n Selecting the optimal execution device for OpenCL kernels\\n is essential for maximizing performance. For a CPU/GPU\\n heterogeneous system, this presents a binary choice. In this\\n experiment, we compare our approach against a static single-\\n device approach and the Grewe et al. predictive model. The\\n static mapping selects the device which gave the best average\\n case performance over all the programs. On the AMD plat-\\n form, the best-performing device is the CPU; on the NVIDIA\\n platform, it is the GPU.\\n \\n Figure 6 shows the accuracy of both predictive models and\\n the static mapping approach for each of the benchmark suites.\\n The static approach is accurate for only 58.8% of cases on\\n AMD and 56.9% on NVIDIA. This suggests the need for\\n choosing the execution device on a per program basis. The\\n Grewe et al. model achieves an average accuracy of 73%, a\\n signi\\xef\\xac\\x81cant improvement over the static mapping approach. By\\n automatically extracting useful feature representations from\\n the source code, DeepTune gives an average accuracy of 82%,\\n an improvement over the other two schemes.\\n \\n Using the static mapping as a baseline, we compute the rela-\\n tive performance of each program using the device selected by\\n the Grewe et al. and DeepTune models. Figure 7 shows these\\n \\n Figure 6: Accuracy of optimization heuristics for heteroge-\\n neous device mapping, aggregated by benchmark suite. The\\n optimal static mapping achieves 58% accuracy. The Grewe\\n et al. and DeepTune predictive models achieve accuracies of\\n 73% and 84%, respectively.\\n \\n speedups. Both predictive models signi\\xef\\xac\\x81cantly outperform the\\n static mapping; the Grewe et al. model achieves an average\\n speedup of 2.91\\xc3\\x97 on AMD and 1.26\\xc3\\x97 on NVIDIA (geomean\\n 1.18\\xc3\\x97). In 90% of cases, DeepTune matches or outperforms\\n the predictions of the Grewe et al. model, achieving an average\\n speedup of 3.34\\xc3\\x97 on AMD and 1.41\\xc3\\x97 on NVIDIA (geomean\\n 1.31\\xc3\\x97). This 14% improvement in performance comes at a\\n greatly reduced cost, requiring no intervention by humans.\\n \\n 4.2. Case Study B: OpenCL Thread Coarsening Factor\\n \\n Exploiting thread coarsening for OpenCL kernels is a dif\\xef\\xac\\x81cult\\n task. On average, coarsening slows programs down. The\\n maximum speedup attainable by a perfect heuristic is 1.36\\xc3\\x97.\\n Figure 8 shows speedups achieved by the Magni et al. and\\n DeepTune models for all programs and platforms. We use\\n as baseline the performance of programs without coarsening.\\n On the four experimental platforms (AMD HD 5900, Tahiti\\n 7970, NVIDIA GTX 480, and Tesla K20c), the Magni et al.\\n model achieves average speedups of 1.21\\xc3\\x97, 1.01\\xc3\\x97, 0.86\\xc3\\x97,\\n and 0.94\\xc3\\x97, respectively. DeepTune outperforms this, achiev-\\n ing speedups of 1.10\\xc3\\x97, 1.05\\xc3\\x97, 1.10\\xc3\\x97, and 0.99\\xc3\\x97.\\n \\n Some programs \\xe2\\x80\\x94 especially those with large divergent\\n regions or indirect memory accesses \\xe2\\x80\\x94 respond very poorly\\n to coarsening. No performance improvement is possible on\\n the mvCoal and spmv programs. Both models fail to achieve\\n \\n 7\\n \\n AMD\\x00SDKNPBNVIDIA\\x00SDKParboilPolybenchRodiniaSHOCAverage(a)\\x00AMD\\x00Tahiti\\x0079700%20%40%60%80%100%AccuracyStatic\\x00mappingGrewe\\x00et\\x00al.DeepTuneAMD\\x00SDKNPBNVIDIA\\x00SDKParboilPolybenchRodiniaSHOCAverage(b)\\x00NVIDIA\\x00GTX\\x009700%20%40%60%80%100%Accuracy\\x0cFigure 7: Speedup of predicted heterogeneous mappings over the best static mapping for both platforms.\\n achieves an average speedup of 3.43x over static mapping and 18% over Grewe et al.\\n respectively.\\n \\n In (a) DeepTune\\n In (b) the speedup is 1.42x and 13%\\n \\n positive average speedups on the NVIDIA Tesla K20c, because\\n thread coarsening does not give performance gains for the\\n majority of the programs on this platform.\\n \\n The disappointing results for both predictive models can\\n be attributed to the small training program set used by Magni\\n et al. (only 17 programs in total). As a result, the models\\n suffer from sparse training data. Prior research has shown that\\n data sparsity can be overcome using additional programs; in\\n the following subsection we describe and test a novel strat-\\n egy for training optimization heuristics on a small number of\\n programs by exploiting knowledge learned from other opti-\\n mization domains.\\n 4.3. Transfer Learning Across Problem Domains\\n \\n There are inherent differences between the tasks of building\\n heuristics for heterogeneous mapping and thread coarsening,\\n evidenced by the contrasting choices of features and models\\n in Grewe et al. and Magni et al. However, in both cases, the\\n \\xef\\xac\\x81rst role of DeepTune is to extract meaningful abstractions\\n \\n and representations of OpenCL code. Prior research in deep\\n learning has shown that models trained on similar inputs for\\n different tasks often share useful commonalities. The idea is\\n that in neural network classi\\xef\\xac\\x81cation, information learned at\\n the early layers of neural networks (i.e. closer to the input\\n layer) will be useful for multiple tasks. The later the network\\n layers are (i.e. closer to the output layer), the more specialized\\n the layers become [36].\\n \\n We hypothesized that this would be the case for DeepTune,\\n enabling the novel transfer of information between models\\n across different optimization domains. To test this, we ex-\\n tracted the language model \\xe2\\x80\\x94 the Embedding, LSTM_1, and\\n LSTM_2 layers \\xe2\\x80\\x94 trained for the heterogeneous mapping task\\n and transferred it over to the new task of thread coarsening.\\n Since DeepTune keeps the same design for both optimization\\n problems, this is as simple as copying the learned weights of\\n the three layers. Then we trained the model as normal.\\n As shown in Figure 8, our newly trained model, DeepTune-\\n TL has improved performance for 3 of the 4 platforms: 1.17\\xc3\\x97,\\n \\n 8\\n \\n AMD.BinomialOptionAMD.BitonicSortAMD.BlackScholesAMD.FastWalshTransformAMD.FloydWarshallAMD.MatrixMultiplicationAMD.MatrixTransposeAMD.PrefixSumAMD.ReductionAMD.ScanLargeArraysAMD.SimpleConvolutionAMD.SobelFilterNPB.BTNPB.CGNPB.EPNPB.FTNPB.LUNPB.MGNPB.SPNVIDIA.DotProductNVIDIA.FDTD3dNVIDIA.MatVecMulNVIDIA.MatrixMulNVIDIA.MersenneTwisterNVIDIA.VectorAddParboil.bfsParboil.cutcpParboil.lbmParboil.sadParboil.spmvParboil.stencilPolybench.2DConvolutionPolybench.2mmPolybench.3DConvolutionPolybench.3mmPolybench.ataxPolybench.bicgPolybench.correlationPolybench.covariancePolybench.gemmPolybench.gesummvPolybench.gramschmidtPolybench.mvtPolybench.syr2kPolybench.syrkRodinia.backpropRodinia.bfsRodinia.cfdRodinia.gaussianRodinia.hotspotRodinia.kmeansRodinia.lavaMDRodinia.leukocyteRodinia.ludRodinia.nnRodinia.nwRodinia.particlefilterRodinia.pathfinderRodinia.streamclusterSHOC.BFSSHOC.FFTSHOC.GEMMSHOC.MDSHOC.MD5HashSHOC.ReductionSHOC.S3DSHOC.ScanSHOC.SortSHOC.SpmvSHOC.Stencil2DSHOC.TriadAverage(a)\\x00AMD\\x00Tahiti\\x0079701.0x3.0x5.0x7.0x9.0xSpeedupGrewe\\x00et\\x00al.DeepTuneAMD.BinomialOptionAMD.BitonicSortAMD.BlackScholesAMD.FastWalshTransformAMD.FloydWarshallAMD.MatrixMultiplicationAMD.MatrixTransposeAMD.PrefixSumAMD.ReductionAMD.ScanLargeArraysAMD.SimpleConvolutionAMD.SobelFilterNPB.BTNPB.CGNPB.EPNPB.FTNPB.LUNPB.MGNPB.SPNVIDIA.DotProductNVIDIA.FDTD3dNVIDIA.MatVecMulNVIDIA.MatrixMulNVIDIA.MersenneTwisterNVIDIA.VectorAddParboil.bfsParboil.cutcpParboil.lbmParboil.sadParboil.spmvParboil.stencilPolybench.2DConvolutionPolybench.2mmPolybench.3DConvolutionPolybench.3mmPolybench.ataxPolybench.bicgPolybench.correlationPolybench.covariancePolybench.gemmPolybench.gesummvPolybench.gramschmidtPolybench.mvtPolybench.syr2kPolybench.syrkRodinia.backpropRodinia.bfsRodinia.cfdRodinia.gaussianRodinia.hotspotRodinia.kmeansRodinia.lavaMDRodinia.leukocyteRodinia.ludRodinia.nnRodinia.nwRodinia.particlefilterRodinia.pathfinderRodinia.streamclusterSHOC.BFSSHOC.FFTSHOC.GEMMSHOC.MDSHOC.MD5HashSHOC.ReductionSHOC.S3DSHOC.ScanSHOC.SortSHOC.SpmvSHOC.Stencil2DSHOC.TriadAverage(b)\\x00NVIDIA\\x00GTX\\x009700.0x1.0x2.0x3.0x4.0xSpeedupGrewe\\x00et\\x00al.DeepTune\\x0cFigure 8: Speedups of predicted coarsening factors for each platform. DeepTune outperforms Magni et al on three of the four\\n platforms. Transfer learning improves DeepTune speedups further, by 16% on average.\\n 1.23\\xc3\\x97, 1.14\\xc3\\x97, 0.93\\xc3\\x97 , providing an average 12% perfor-\\n mance improvement over Magni et al. In 81% of cases, the\\n use of transfer learning matched or improved the optimization\\n decisions of DeepTune, providing up to a 16% improvement\\n in per platform performance.\\n \\n coarsening factor for Parboil\\xe2\\x80\\x99s mriQ benchmark on four dif-\\n ferent platforms.\\n \\n On the NVIDIA Tesla K20c, the platform for which no pre-\\n dictive model achieves positive average speedups, we match\\n or improve performance in the majority of cases, but over-\\n coarsening on three of the programs causes a modest reduc-\\n tion in average performance. We suspect that for this platform,\\n further performance results are necessary due to its unusual\\n optimization pro\\xef\\xac\\x81le.\\n \\n 4.4. DeepTune Internal Activation States\\n \\n We have shown that DeepTune automatically outperforms\\n state-of-the-art predictive models for which experts have in-\\n vested a great amount of time in engineering features. In this\\n subsection we attempt to illuminate the inner workings, using\\n a single example from Case Study B: predicting the thread\\n \\n Figure 9 shows the DeepTune con\\xef\\xac\\x81guration, with visual\\n overlays showing the internal state. From top to bottom, we\\n begin \\xef\\xac\\x81rst with the input, which is the 267 lines of OpenCL\\n code for the mriQ kernel. This source code is preprocessed,\\n formatted, and rewritten using variable and function renaming,\\n shown in Figure 9b. The rewritten source code is tokenized and\\n encoded in a 1-of-k vocabulary. Figure 9c shows the \\xef\\xac\\x81rst 80\\n elements of this encoded sequence as a heatmap in which each\\n cell\\xe2\\x80\\x99s color re\\xef\\xac\\x82ects its encoded value. The input, rewriting,\\n and encoding is the same for each of the four platforms.\\n \\n The encoded sequences are then passed into the Embedding\\n layer. This maps each token of the vocabulary to a point in a\\n 64 dimension vector space. Embeddings are learned during\\n training so as to cluster semantically related tokens together.\\n As such, they may differ between the four platforms. Figure 9d\\n shows a PCA projection of the embedding space for one of the\\n platforms, showing multiple clusters of tokens. By honing in\\n \\n 9\\n \\n binarySearchblackscholesconvolutiondwtHaar1DfastWalshfloydWarshallmriQmtmtLocalmvCoalmvUncoalnbodyreducesgemmsobelspmvstencilAverage0.0x0.5x1.0x1.5x2.0x2.5xSpeedupAMD Radeon HD 5900Magni et al.DeepTuneDeepTune-TLbinarySearchblackscholesconvolutiondwtHaar1DfastWalshfloydWarshallmriQmtmtLocalmvCoalmvUncoalnbodyreducesgemmsobelspmvstencilAverage0.0x0.5x1.0x1.5x2.0x2.5xAMD Tahiti 7970Magni et al.DeepTuneDeepTune-TLbinarySearchblackscholesconvolutiondwtHaar1DfastWalshfloydWarshallmriQmtmtLocalmvCoalmvUncoalnbodyreducesgemmsobelspmvstencilAverage0.0x0.5x1.0x1.5x2.0x2.5xSpeedupNVIDIA GTX 480Magni et al.DeepTuneDeepTune-TLbinarySearchblackscholesconvolutiondwtHaar1DfastWalshfloydWarshallmriQmtmtLocalmvCoalmvUncoalnbodyreducesgemmsobelspmvstencilAverage0.0x0.5x1.0x1.5x2.0x2.5xNVIDIA Tesla K20cMagni et al.DeepTuneDeepTune-TL\\x0cFigure 9: Visualizing the internal state of DeepTune when predicting coarsening factor for Parboil\\xe2\\x80\\x99s mriQ benchmark on four\\n different architectures. The activations in each layer of the four models increasingly diverge the lower down the network.\\n \\n on one of the clusters and annotating each point with its cor-\\n responding token, we see that the cluster contains the seman-\\n tically related OpenCL address space modi\\xef\\xac\\x81ers __private,\\n __global, and __read_only.\\n \\n Two layers of 64 LSTM neurons model the sequence of em-\\n beddings, with the neuron activations of the second layer being\\n used to characterize the entire sequence. Figure 9e shows the\\n neurons in this layer for each of the four platforms, using a\\n red-blue heatmap to visualize the intensity of each activation.\\n Comparing the activations between the four platforms, we\\n note a number of neurons in the layer with different responses\\n across platforms. This indicates that the language model is\\n partly specialized to the target platform.\\n \\n As information \\xef\\xac\\x82ows through the network, the layers be-\\n come progressively more specialized to the speci\\xef\\xac\\x81c platform.\\n We see this in Figure 9f, which shows the two layers of the\\n heuristic model. The activations within these increasingly\\n diverge. The mean variance of activations across platforms\\n increases threefold compared to the language model, from\\n 0.039 to 0.107. Even the activations of the AMD HD 5900\\n and AMD Tahiti 7970 platforms are dissimilar, despite the\\n \\xef\\xac\\x81nal predicted coarsening factor for both platforms being the\\n same. In Figure 9g we take the largest activation of the output\\n \\n layer as the \\xef\\xac\\x81nal predicted coarsening factor. For this partic-\\n ular program, a state-of-the-art model achieves 54% of the\\n maximum performance. DeepTune achieves 99%.\\n \\n 5. Related Work\\n \\n Machine learning has emerged as a viable means in automati-\\n cally constructing heuristics for code optimization [3, 4, 24,\\n 37\\xe2\\x80\\x9339]. Its great advantage is that it can adapt to changing\\n hardware platforms as it has no a priori assumptions about\\n their behavior. The success of machine learning based code\\n optimization has required having a set of high-quality features\\n that can capture the important characteristics of the target\\n program. Given that there is an in\\xef\\xac\\x81nite number of these poten-\\n tial features, \\xef\\xac\\x81nding the right set of features is a non-trivial,\\n time-consuming task.\\n \\n Various forms of program features have been used in\\n compiler-based machine learning. These include static code\\n structures [40] and runtime information such as system\\n load [41] and performance counters [42]. In compiler research,\\n the feature sets used for predictive models are often provided\\n without explanation and rarely is the quality of those features\\n evaluated. More commonly, an initial large, high dimensional\\n \\n 10\\n \\n Embedding__kernel void A(int a, int b, __global float* c, __global float* d, __global float* e, __global float* f, __global float* g, __global float4* h) {  float i[4];  float j[4]; // ...#include \"macros.h\"#define NC  4#define COARSE_GENERAL__kernel voidComputeQ_GPU(int numK, int kGlobalIndex, __global float* x, __global float* y, __global float* z,             __global float* Qr, __global float* Qi, __global struct kValues* ck) {     float sX[NC] // ...CF: 2CF: 4CF: 1CF: 2Source CodeDense NNPredicted OptimizationSource RewriterBatch NormalizationLSTMLanguage ModelHeuristic Model\\xe2\\x80\\xa6AMD HD 5900AMD Tahiti 7970NVIDIA GTX 480NVIDIA Tesla K20cAMD HD 5900AMD Tahiti 7970NVIDIA GTX 480NVIDIA Tesla K20cAMD HD 5900AMD Tahiti 7970NVIDIA GTX 480NVIDIA Tesla K20cEncoded sequence (\\xef\\xac\\x81rst 80 tokens)Outputs of Language ModelsHeuristic ModelsLearned embeddings (PCA projections)Sequence Encoder(a)(b)(c)(d)(e)(f)(g)\\x0ccandidate feature space is pruned via feature selection [3], or\\n projected into a lower dimensional space [43, 44]. FEAST\\n employs a range of existing feature selection methods to se-\\n lect useful candidate features [45]. Unlike these approaches,\\n DeepTune extracts features and reduces the dimensionality\\n of the feature space completely internally and without expert\\n guidance.\\n \\n Park et al. present a unique graph-based approach for fea-\\n ture representations [46]. They use a Support Vector Machine\\n where the kernel is based on a graph similarity metric. Their\\n technique still requires hand coded features at the basic block\\n level, but thereafter, graph similarity against each of the train-\\n ing programs takes the place of global features. Being a kernel\\n method, it requires that training data graphs be shipped with\\n the compiler, which may not scale as the size of the training\\n data grows with the number of instances, and some training\\n programs may be very large. Finally, their graph matching\\n metric is expensive, requiring O(n3) to compare against each\\n training example. By contrast, our method does not need any\\n hand built static code features, and the deployment memory\\n footprint is constant and prediction time is linear in the length\\n of the program, regardless of the size of the training set.\\n \\n A few methods have been proposed to automatically gener-\\n ate features from the compiler\\xe2\\x80\\x99s intermediate representation [8,\\n 9]. These approaches closely tie the implementation of the\\n predictive model to the compiler IR, which means changes\\n to the IR will require modi\\xef\\xac\\x81cations to the model. The work\\n of [9] uses genetic programming to search for features, and\\n required a huge grammar to be written, some 160kB in length.\\n Although much of this can be created from templates, select-\\n ing the right range of capabilities and search space bias is\\n non trivial and up to the expert. The work of [8] expresses\\n the space of features via logic programming over relations\\n that represent information from the IRs. It greedily searches\\n for expressions that represent good features. However, their\\n approach relies on expert selected relations, combinators and\\n constraints to work. For both approaches, the search time may\\n be signi\\xef\\xac\\x81cant.\\n \\n Cavazos et al. present a reaction-based predictive model\\n for software-hardware co-design [47]. Their approach pro\\xef\\xac\\x81les\\n the target program using several carefully selected compiler\\n options to see how program runtime changes under these op-\\n tions for a given micro-architecture setting. They then use\\n the program \\xe2\\x80\\x9creactions\\xe2\\x80\\x9d to predict the best available applica-\\n tion speedup. While their approach does not use static code\\n features, developers must carefully select a few settings from\\n a large number of candidate options for pro\\xef\\xac\\x81ling, because\\n poorly chosen options can signi\\xef\\xac\\x81cantly affect the quality of\\n the model. Moreover, the program must be run several times\\n before optimization, while our technique does not require the\\n program to be pro\\xef\\xac\\x81led.\\n \\n In recent years, machine learning techniques have been\\n employed to model and learn from program source code on\\n various tasks. These include mining coding conventions [14]\\n \\n 11\\n \\n Recently, deep neural networks [50] have been shown to\\n be a powerful tool for feature engineering in various tasks in-\\n cluding image recognition [10, 11] and audio processing [12].\\n In the \\xef\\xac\\x81eld of compiler optimization, no work so far has ap-\\n plied deep neural networks for program feature generation and\\n selection. Our work is the \\xef\\xac\\x81rst to do so.\\n 6. Conclusions\\n Applying machine learning to compile-time and runtime op-\\n timizations requires generating features \\xef\\xac\\x81rst. This is a time\\n consuming process, it needs supervision by an expert, and even\\n then we cannot be sure that the selected features are optimal.\\n In this paper we present a novel tool for building optimiza-\\n tion heuristics, DeepTune, which forgoes feature extraction\\n entirely, relying on powerful language modeling techniques\\n to automatically build complex and effective representations\\n of programs directly from raw source code. The result trans-\\n lates into a huge reduction in development effort, improved\\n heuristic performance, and more simple model designs.\\n \\n Our approach is fully automated. Using DeepTune, com-\\n piler developers no longer need to spend months using statis-\\n tical methods and pro\\xef\\xac\\x81le counters to select program features\\n via trial and error. It is worth mentioning that we do not tailor\\n our model design or parameters for the optimization task at\\n hand, yet we achieve performance on par with and in most\\n cases exceeding state-of-the-art predictive models.\\n \\n and idioms [13], API example code [48] and pseudo-code\\n generation [49], and benchmark generation [7]. Our work is\\n the \\xef\\xac\\x81rst attempt to extend the already challenging task of mod-\\n eling distributions over source code to learning distributions\\n over source code with respect to code optimizations.\\n \\n We used DeepTune to automatically construct heuristics for\\n two challenging optimization problems: selecting the optimal\\n execution device for OpenCL kernels, and selecting OpenCL\\n thread coarsening factors. In both cases, we outperform state-\\n of-the-art predictive models, achieving performance improve-\\n ments of 16% and 12%, respectively. We have also shown\\n that the DeepTune architecture allows us to exploit informa-\\n tion learned from another optimization problem to give the\\n learning a boost. Doing so provides up to a 16% performance\\n improvement when training using a handful of training pro-\\n grams. We suspect that this approach will be useful for other\\n optimization tasks for which training programs are a scarce\\n resource.\\n \\n In future work, we will extend our heuristic construction\\n approach by automatically learning dynamic features over\\n raw data; apply unsupervised learning techniques [51] over\\n unlabeled source code to further improve learned represen-\\n tations of programs; and deploy trained DeepTune heuristic\\n models to low power embedded systems using optimization\\n and compression of neural networks [52].\\n \\n \\x0cReferences\\n [1] P. Micolet, A. Smith, and C. Dubach. \\xe2\\x80\\x9cA Machine Learn-\\n ing Approach to Mapping Streaming Workloads to Dynamic\\n Multicore Processors.\\xe2\\x80\\x9d In: LCTES. ACM, 2016.\\n \\n [2] T. L. Falch and A. C. Elster. \\xe2\\x80\\x9cMachine Learning Based Auto-\\n tuning for Enhanced OpenCL Performance Portability.\\xe2\\x80\\x9d In:\\n IPDPSW. IEEE, 2015.\\n \\n [3] M. Stephenson and S. Amarasinghe. \\xe2\\x80\\x9cPredicting unroll factors\\n \\n using supervised classi\\xef\\xac\\x81cation.\\xe2\\x80\\x9d In: CGO. IEEE, 2005.\\n \\n [4] F. Agakov, E. Bonilla, J. Cavazos, B. Franke, G. Fursin, M.\\n O\\xe2\\x80\\x99Boyle, J. Thomson, M. Toussaint, and C. K. I. Williams.\\n \\xe2\\x80\\x9cUsing Machine Learning to Focus Iterative Optimization.\\xe2\\x80\\x9d In:\\n CGO. IEEE, 2006.\\n \\n [5] D. Grewe, Z. Wang, and M. O\\xe2\\x80\\x99Boyle. \\xe2\\x80\\x9cPortable Mapping of\\n Data Parallel Programs to OpenCL for Heterogeneous Sys-\\n tems.\\xe2\\x80\\x9d In: CGO. IEEE, 2013.\\n \\n [6] A. Magni, C. Dubach, and M. O\\xe2\\x80\\x99Boyle. \\xe2\\x80\\x9cAutomatic Optimiza-\\n tion of Thread-Coarsening for Graphics Processors.\\xe2\\x80\\x9d In: PACT.\\n ACM, 2014.\\n \\n [7] C. Cummins, P. Petoumenos, W. Zang, and H. Leather. \\xe2\\x80\\x9cSyn-\\n thesizing Benchmarks for Predictive Modeling.\\xe2\\x80\\x9d In: CGO.\\n IEEE, 2017.\\n \\n [8] M. Namolaru, A. Cohen, G. Fursin, A. Zaks, and A. Freund.\\n \\xe2\\x80\\x9cPractical Aggregation of Semantical Program Properties for\\n Machine Learning Based Optimization.\\xe2\\x80\\x9d In: CASES. 2010.\\n \\n [9] H. Leather, E. Bonilla, and M. O\\xe2\\x80\\x99Boyle. \\xe2\\x80\\x9cAutomatic Feature\\n Generation for Machine Learning Based Optimizing Compila-\\n tion.\\xe2\\x80\\x9d In: CGO. IEEE, 2009.\\n \\n [10] A. Krizhevsky, I. Sutskever, and G. E. Hinton. \\xe2\\x80\\x9cImageNet\\n Classi\\xef\\xac\\x81cation with Deep Convolutional Neural Networks.\\xe2\\x80\\x9d In:\\n NIPS. 2012.\\n \\n [11] K. He, X. Zhang, S. Ren, and J. Sun. \\xe2\\x80\\x9cDeep Residual Learning\\n \\n for Image Recognition.\\xe2\\x80\\x9d In: CVPR. IEEE, 2016.\\n \\n [12] H. Lee, Y. Largman, P. Pham, and A. Y. Ng. \\xe2\\x80\\x9cUnsupervised\\n Feature Learning for Audio Classi\\xef\\xac\\x81cation using Convolutional\\n Deep Belief Networks.\\xe2\\x80\\x9d In: NIPS. 2009.\\n \\n [13] M. Allamanis and C. Sutton. \\xe2\\x80\\x9cMining Idioms from Source\\n \\n Code.\\xe2\\x80\\x9d In: FSE. ACM, 2014.\\n \\n [14] M. Allamanis, E. T. Barr, C. Bird, and C. Sutton. \\xe2\\x80\\x9cLearning\\n \\n [15]\\n \\n Natural Coding Conventions.\\xe2\\x80\\x9d In: FSE. ACM, 2014.\\n J. Yosinski, J. Clune, Y. Bengio, and H. Lipson. \\xe2\\x80\\x9cHow Trans-\\n ferable are Features in Deep Neural Networks?\\xe2\\x80\\x9d In: NIPS.\\n 2014.\\n \\n [16] M. Abadi, P. Barham, J. Chen, Z. Chen, A. Davis, J. Dean,\\n M. Devin, S. Ghemawat, G. Irving, M. Isard, M. Kudlur, J.\\n Levenberg, R. Monga, S. Moore, D. G. Murray, B. Steiner,\\n P. Tucker, V. Vasudevan, P. Warden, M. Wicke, Y. Yu, and\\n X. Zheng. \\xe2\\x80\\x9cTensorFlow: A system for large-scale machine\\n learning.\\xe2\\x80\\x9d In: arXiv:1605.08695 (2016).\\n J. Bergstra, F. Bastien, O. Breuleux, P. Lamblin, R. Pascanu, O.\\n Delalleau, G. Desjardins, D. Warde-Farley, I. Goodfellow, A.\\n Bergeron, and Y. Bengio. \\xe2\\x80\\x9cTheano: Deep Learning on GPUs\\n with Python.\\xe2\\x80\\x9d In: BigLearning Workshop. 2011.\\n \\n [17]\\n \\n [18] M. Allamanis and C. Sutton. \\xe2\\x80\\x9cMining Source Code Reposi-\\n tories at Massive Scale using Language Modeling.\\xe2\\x80\\x9d In: MSR.\\n 2013.\\n \\n [19] T. Mikolov, K. Chen, G. Corrado, and J. Dean. \\xe2\\x80\\x9cDistributed\\n Representations of Words and Phrases and their Composition-\\n ality.\\xe2\\x80\\x9d In: NIPS. 2013.\\n \\n [20] M. Baroni, G. Dinu, and G. Kruszewski. \\xe2\\x80\\x9cDon\\xe2\\x80\\x99t Count, Pre-\\n dict! A Systematic Comparison of Context-Counting vs .\\n Context-Predicting Semantic Vectors.\\xe2\\x80\\x9d In: ACL. 2014.\\n \\n [21] S. Hochreiter and J. Schmidhuber. \\xe2\\x80\\x9cLong Short-Term Mem-\\n \\n ory.\\xe2\\x80\\x9d In: Neural Computation 9.8 (1997).\\n \\n [22] R Pacanu, T Mikolov, and Y Bengio. \\xe2\\x80\\x9cOn the Dif\\xef\\xac\\x81culties of\\n \\n Training Recurrent Neural Networks.\\xe2\\x80\\x9d In: ICML. 2013.\\n \\n [23] Z. C. Lipton, J. Berkowitz, and C. Elkan. \\xe2\\x80\\x9cA Critical Review\\n of Recurrent Neural Networks for Sequence Learning.\\xe2\\x80\\x9d In:\\n arXiv:1506.00019 (2015).\\n \\n [24] Y. Ding, J. Ansel, K. Veeramachaneni, X. Shen, U. O\\xe2\\x80\\x99Reilly,\\n and S. Amarasinghe. \\xe2\\x80\\x9cAutotuning Algorithmic Choice for\\n Input Sensitivity.\\xe2\\x80\\x9d In: PLDI. ACM, 2015.\\n S. Ioffe and C. Szegedy. \\xe2\\x80\\x9cBatch Normalization: Accelerating\\n Deep Network Training by Reducing Internal Covariate Shift.\\xe2\\x80\\x9d\\n In: arXiv:1502.03167 (2015).\\n \\n [25]\\n \\n [26] V. Nair and G. E. Hinton. \\xe2\\x80\\x9cRecti\\xef\\xac\\x81ed Linear Units Improve\\n \\n Restricted Boltzmann Machines.\\xe2\\x80\\x9d In: ICML. 2010.\\n \\n [27] D. P. Kingma and J. L. Ba. \\xe2\\x80\\x9cAdam: a Method for Stochastic\\n \\n [28]\\n \\n Optimization.\\xe2\\x80\\x9d In: ICLR (2015).\\n J. Han, M. Kamber, and J. Pei. Data mining: concepts and\\n techniques. Elsevier, 2011.\\n \\n [29] S. Seo, G. Jo, and J. Lee. \\xe2\\x80\\x9cPerformance Characterization of\\n the NAS Parallel Benchmarks in OpenCL.\\xe2\\x80\\x9d In: IISWC. IEEE,\\n 2011.\\n \\n [31]\\n \\n [30] S. Che, M. Boyer, J. Meng, D. Tarjan, J. W. Sheaffer, S. H.\\n Lee, and K. Skadron. \\xe2\\x80\\x9cRodinia: A Benchmark Suite for Het-\\n erogeneous Computing.\\xe2\\x80\\x9d In: IISWC. IEEE, Oct. 2009.\\n J. A. Stratton, C. Rodrigues, I. Sung, N. Obeid, L. Chang,\\n N. Anssari, G. D. Liu, and W. W. Hwu. \\xe2\\x80\\x9cParboil: A Revised\\n Benchmark Suite for Scienti\\xef\\xac\\x81c and Commercial Throughput\\n Computing.\\xe2\\x80\\x9d In: Center for Reliable and High-Performance\\n Computing (2012).\\n \\n [32] S. Grauer-Gray, L. Xu, R. Searles, S. Ayalasomayajula, and\\n J. Cavazos. \\xe2\\x80\\x9cAuto-tuning a High-Level Language Targeted to\\n GPU Codes.\\xe2\\x80\\x9d In: InPar. 2012.\\n \\n [33] A. Danalis, G. Marin, C. McCurdy, J. S. Meredith, P. C. Roth,\\n K. Spafford, V. Tipparaju, and J. S. Vetter. \\xe2\\x80\\x9cThe Scalable\\n HeterOgeneous Computing (SHOC) Benchmark Suite.\\xe2\\x80\\x9d In:\\n GPGPU. ACM, 2010.\\n \\n [35]\\n \\n [34] A. Magni, C. Dubach, and M. O\\xe2\\x80\\x99Boyle. \\xe2\\x80\\x9cA Large-Scale Cross-\\n Architecture Evaluation of Thread-Coarsening.\\xe2\\x80\\x9d In: SC. 2013.\\n J. Sim, A. Dasgupta, H. Kim, and R. Vuduc. \\xe2\\x80\\x9cA Performance\\n Analysis Framework for Identifying Potential Bene\\xef\\xac\\x81ts in\\n GPGPU Applications.\\xe2\\x80\\x9d In: PPoPP. ACM, 2012.\\n \\n [36] M. D. Zeiler and R. Fergus. \\xe2\\x80\\x9cVisualizing and Understanding\\n \\n Convolutional Networks.\\xe2\\x80\\x9d In: ECCV. 2014.\\n \\n [37] Z. Wang and M. O\\xe2\\x80\\x99Boyle. \\xe2\\x80\\x9cPartitioning Streaming Parallelism\\n for Multi-cores: A Machine Learning Based Approach.\\xe2\\x80\\x9d In:\\n PACT. ACM, 2010.\\n \\n [38] Sameer Kulkarni and John Cavazos. \\xe2\\x80\\x9cMitigating the Com-\\n piler Optimization Phase-Ordering Problem using Machine\\n Learning.\\xe2\\x80\\x9d In: OOPSLA. ACM, 2012.\\n \\n [39] S. Muralidharan, A. Roy, M. Hall, M. Garland, and P. Rai.\\n \\xe2\\x80\\x9cArchitecture-Adaptive Code Variant Tuning.\\xe2\\x80\\x9d In: ASPLOS.\\n ACM, 2016.\\n \\n 12\\n \\n \\x0c[40] Y. Jiang, Z. Z. Zhang, K. Tian, F. Mao, M. Gethers, X. Shen,\\n and Y. Gao. \\xe2\\x80\\x9cExploiting Statistical Correlations for Proactive\\n Prediction of Program Behaviors.\\xe2\\x80\\x9d In: CGO (2010).\\n \\n [41] Y. Wen, Z. Wang, and M. O\\xe2\\x80\\x99Boyle. \\xe2\\x80\\x9cSmart Multi-Task\\n Scheduling for OpenCL Programs on CPU/GPU Heteroge-\\n neous Platforms.\\xe2\\x80\\x9d In: HiPC. IEEE, 2014.\\n \\n [42] C. Dubach, T. M. Jones, E. V. Bonilla, G. Fursin, and M.\\n O\\xe2\\x80\\x99Boyle. \\xe2\\x80\\x9cPortable Compiler Optimisation Across Embedded\\n Programs and Microarchitectures using Machine Learning.\\xe2\\x80\\x9d\\n In: MICRO. ACM, 2009.\\n \\n [43] A. Collins, C. Fensch, H. Leather, and M. Cole. \\xe2\\x80\\x9cMaSiF:\\n Machine Learning Guided Auto-tuning of Parallel Skeletons.\\xe2\\x80\\x9d\\n In: HiPC. IEEE, 2013.\\n \\n [44] C. Dubach, J. Cavazos, B. Franke, G. Fursin, M. O\\xe2\\x80\\x99Boyle, and\\n O. Temam. \\xe2\\x80\\x9cFast Compiler Optimisation Evaluation Using\\n Code-Feature Based Performance Prediction.\\xe2\\x80\\x9d In: CF. ACM,\\n 2007.\\n P. Ting, C. Tu, Pi. Chen, Y. Lo, and S. Cheng. \\xe2\\x80\\x9cFEAST: An Au-\\n tomated Feature Selection Framework for Compilation Tasks.\\xe2\\x80\\x9d\\n In: arXiv:1610.09543 (2016).\\n \\n [45]\\n \\n [46] E. Park, J. Cavazos, and M. A. Alvarez. \\xe2\\x80\\x9cUsing Graph-Based\\n Program Characterization for Predictive Modeling.\\xe2\\x80\\x9d In: CGO.\\n IEEE, 2012.\\n \\n [47]\\n \\n J. Cavazos, C. Dubach, F. Agakov, E. Bonilla, M. O\\xe2\\x80\\x99Boyle,\\n G. Fursin, and O. Temam. Automatic Performance Model Con-\\n struction for the Fast Software Exploration of New Hardware\\n Designs. 2006.\\n \\n [48] X. Gu, H. Zhang, D. Zhang, and S. Kim. \\xe2\\x80\\x9cDeep API Learning.\\xe2\\x80\\x9d\\n \\n In: FSE. ACM, 2016.\\n \\n [49] Y. Oda, H. Fudaba, G. Neubig, H. Hata, S. Sakti, T. Toda,\\n and S. Nakamura. \\xe2\\x80\\x9cLearning to Generate Pseudo-Code from\\n Source Code Using Statistical Machine Translation (T).\\xe2\\x80\\x9d In:\\n ASE. IEEE, 2015.\\n \\n [50] Y. LeCun, Y. Bengio, and G. Hinton. \\xe2\\x80\\x9cDeep learning.\\xe2\\x80\\x9d In:\\n \\n Nature 521.7553 (2015).\\n \\n [51] Q. V. Le, R. Monga, M. Devin, G. Corrado, K. Chen, M. A.\\n Ranzato, J. Dean, and A. Y. Ng. \\xe2\\x80\\x9cBuilding High-level Features\\n Using Large Scale Unsupervised Learning.\\xe2\\x80\\x9d In: ICML. 2012.\\n [52] S. Han, H. Mao, and W. J. Dally. \\xe2\\x80\\x9cDeep Compression: Com-\\n pressing Deep Neural Networks with Pruning, Trained Quan-\\n \\n tization and Huffman Coding.\\xe2\\x80\\x9d In: arXiv:1510.00149 (2015).\\n \\n 13\\n \\n \\x0cA.6. Experiment Customization\\n The experiments are fully customizable. The Jupyter notebook\\n can be edited \\xe2\\x80\\x9con the \\xef\\xac\\x82y\\xe2\\x80\\x9d. Simply type your changes into the\\n cells and re-run them. For example,\\n Note that some of the code cells depend on the values of prior\\n cells, so must be executed in sequence. Select \\xe2\\x80\\x9cKernel\\xe2\\x80\\x9d >\\n \\xe2\\x80\\x9cRestart & Run All\\xe2\\x80\\x9d from the menu to run all of the cells in\\n order.\\n A.7. Notes\\n For more information about DeepTune, visit:\\n https://chriscummins.cc/deeptune\\n \\n For more information about Artifact Evaluation, visit:\\n \\n http://ctuning.org/ae\\n \\n A. Artifact description\\n A.1. Abstract\\n Our research artifact consists of interactive Jupyter notebooks.\\n The notebooks enable users to replicate all experiments in the\\n paper, evaluate results, and plot \\xef\\xac\\x81gures.\\n A.2. Description\\n A.2.1. Check-list (Artifact Meta Information)\\n \\xe2\\x80\\xa2 Run-time environment: Ubuntu Linux and a web browser.\\n \\xe2\\x80\\xa2 Hardware: Users with an NVIDIA GPU may enable CUDA\\n \\xe2\\x80\\xa2 Output: Trained neural networks, predictive model evaluations,\\n \\xe2\\x80\\xa2 Experiment work\\xef\\xac\\x82ow: Install and run Jupyter notebook server;\\n \\xe2\\x80\\xa2 Experiment customization: Edit code and parameters in Jupyter\\n \\xe2\\x80\\xa2 Publicly available?: Yes, code and data. See:\\n \\n interact with and observe results in web browser.\\n \\n notebooks.\\n \\n support to speed up computation of experiments.\\n \\n \\xef\\xac\\x81gures and tables from the paper.\\n \\n https://chriscummins.cc/pact17/\\n \\n A.2.2. How Delivered A publicly available git repository\\n containing Jupyter notebooks and experimental data.\\n A.3. Installation\\n See https://chriscummins.cc/pact17/ for instructions.\\n The code directory contains the Jupyter notebooks. Following\\n the build instructions described in code/README.md, the full\\n installation process is:\\n \\n $ ./bootstrap.sh | bash\\n $ ./configure\\n $ make\\n \\n A.4. Experiment Work\\xef\\xac\\x82ow\\n 1. Launch the Jupyter server using the command: make run.\\n 2. In a web browser, navigate to http://localhost:8000.\\n 3. Select a Jupyter notebook to open it.\\n 4. Repeatedly press the play button (tooltip is \\xe2\\x80\\x9crun cell, select\\n \\n below\\xe2\\x80\\x9d) to step through each cell of the notebook.\\n OR select \\xe2\\x80\\x9cKernel\\xe2\\x80\\x9d > \\xe2\\x80\\x9cRestart & Run All\\xe2\\x80\\x9d from the menu\\n to run all of the cells in order.\\n \\n A.5. Evaluation and Expected Result\\n Code cells within Jupyter notebooks display their output inline,\\n and may be compared against the values in the paper. Expected\\n results are described in text cells.\\n \\n 14\\n \\n \\x0c'"
      ]
     },
     "execution_count": 40,
     "metadata": {},
     "output_type": "execute_result"
    }
   ],
   "source": [
    "collection['fc393df2-bf68-45cd-85ce-9faeb2c9d9b4']"
   ]
  },
  {
   "cell_type": "code",
   "execution_count": 73,
   "metadata": {
    "ExecuteTime": {
     "end_time": "2018-01-05T21:50:52.642085Z",
     "start_time": "2018-01-05T21:50:52.634168Z"
    }
   },
   "outputs": [],
   "source": [
    "pdf2txt = pd.Series(collection).to_frame()\n",
    "pdf2txt.rename(columns = {0:'pdf2txt'},inplace=True)"
   ]
  },
  {
   "cell_type": "code",
   "execution_count": 74,
   "metadata": {
    "ExecuteTime": {
     "end_time": "2018-01-05T21:50:55.877772Z",
     "start_time": "2018-01-05T21:50:55.862507Z"
    }
   },
   "outputs": [
    {
     "data": {
      "text/html": [
       "<div>\n",
       "<style scoped>\n",
       "    .dataframe tbody tr th:only-of-type {\n",
       "        vertical-align: middle;\n",
       "    }\n",
       "\n",
       "    .dataframe tbody tr th {\n",
       "        vertical-align: top;\n",
       "    }\n",
       "\n",
       "    .dataframe thead th {\n",
       "        text-align: right;\n",
       "    }\n",
       "</style>\n",
       "<table border=\"1\" class=\"dataframe\">\n",
       "  <thead>\n",
       "    <tr style=\"text-align: right;\">\n",
       "      <th></th>\n",
       "      <th>pdf2txt</th>\n",
       "    </tr>\n",
       "  </thead>\n",
       "  <tbody>\n",
       "    <tr>\n",
       "      <th>00297304-61a7-4bb4-a89a-347a57f02778</th>\n",
       "      <td>Transferring CNNs to Multi-instance Multi-labe...</td>\n",
       "    </tr>\n",
       "    <tr>\n",
       "      <th>0089d717-9642-4970-a51d-d32b69bed24b</th>\n",
       "      <td>Multiagent Systems for Social Computation\\n \\n...</td>\n",
       "    </tr>\n",
       "    <tr>\n",
       "      <th>009a3bb6-15a1-4c0a-85c9-5df51cd3438e</th>\n",
       "      <td>A Linked Data Approach to Know-How\\n Citation ...</td>\n",
       "    </tr>\n",
       "  </tbody>\n",
       "</table>\n",
       "</div>"
      ],
      "text/plain": [
       "                                                                                pdf2txt\n",
       "00297304-61a7-4bb4-a89a-347a57f02778  Transferring CNNs to Multi-instance Multi-labe...\n",
       "0089d717-9642-4970-a51d-d32b69bed24b  Multiagent Systems for Social Computation\\n \\n...\n",
       "009a3bb6-15a1-4c0a-85c9-5df51cd3438e  A Linked Data Approach to Know-How\\n Citation ..."
      ]
     },
     "execution_count": 74,
     "metadata": {},
     "output_type": "execute_result"
    }
   ],
   "source": [
    "pdf2txt.head(3)"
   ]
  },
  {
   "cell_type": "code",
   "execution_count": 79,
   "metadata": {
    "ExecuteTime": {
     "end_time": "2018-01-05T21:54:09.271464Z",
     "start_time": "2018-01-05T21:54:09.246295Z"
    }
   },
   "outputs": [
    {
     "ename": "TypeError",
     "evalue": "join() got an unexpected keyword argument 'validate'",
     "output_type": "error",
     "traceback": [
      "\u001b[0;31m\u001b[0m",
      "\u001b[0;31mTypeError\u001b[0mTraceback (most recent call last)",
      "\u001b[0;32m<ipython-input-79-f5fbd36bb185>\u001b[0m in \u001b[0;36m<module>\u001b[0;34m()\u001b[0m\n\u001b[0;32m----> 1\u001b[0;31m \u001b[0mpub_csv_combined\u001b[0m \u001b[0;34m=\u001b[0m \u001b[0mpub_csv\u001b[0m\u001b[0;34m.\u001b[0m\u001b[0mjoin\u001b[0m\u001b[0;34m(\u001b[0m\u001b[0mpdf2txt\u001b[0m\u001b[0;34m,\u001b[0m\u001b[0mhow\u001b[0m\u001b[0;34m=\u001b[0m\u001b[0;34m'left'\u001b[0m\u001b[0;34m,\u001b[0m \u001b[0mvalidate\u001b[0m\u001b[0;34m=\u001b[0m\u001b[0;34m\"1:1\"\u001b[0m\u001b[0;34m)\u001b[0m\u001b[0;34m\u001b[0m\u001b[0m\n\u001b[0m",
      "\u001b[0;31mTypeError\u001b[0m: join() got an unexpected keyword argument 'validate'"
     ]
    }
   ],
   "source": [
    "pub_csv_combined = pub_csv.join(pdf2txt, how='left')"
   ]
  },
  {
   "cell_type": "code",
   "execution_count": 76,
   "metadata": {
    "ExecuteTime": {
     "end_time": "2018-01-05T21:51:02.732353Z",
     "start_time": "2018-01-05T21:51:02.684932Z"
    }
   },
   "outputs": [
    {
     "data": {
      "text/html": [
       "<div>\n",
       "<style scoped>\n",
       "    .dataframe tbody tr th:only-of-type {\n",
       "        vertical-align: middle;\n",
       "    }\n",
       "\n",
       "    .dataframe tbody tr th {\n",
       "        vertical-align: top;\n",
       "    }\n",
       "\n",
       "    .dataframe thead th {\n",
       "        text-align: right;\n",
       "    }\n",
       "</style>\n",
       "<table border=\"1\" class=\"dataframe\">\n",
       "  <thead>\n",
       "    <tr style=\"text-align: right;\">\n",
       "      <th></th>\n",
       "      <th>date</th>\n",
       "      <th>year</th>\n",
       "      <th>title</th>\n",
       "      <th>authors</th>\n",
       "      <th>pub_url</th>\n",
       "      <th>doi_url</th>\n",
       "      <th>pdf_url</th>\n",
       "      <th>abstract</th>\n",
       "      <th>publications</th>\n",
       "      <th>pdf2txt</th>\n",
       "    </tr>\n",
       "    <tr>\n",
       "      <th>pub_id</th>\n",
       "      <th></th>\n",
       "      <th></th>\n",
       "      <th></th>\n",
       "      <th></th>\n",
       "      <th></th>\n",
       "      <th></th>\n",
       "      <th></th>\n",
       "      <th></th>\n",
       "      <th></th>\n",
       "      <th></th>\n",
       "    </tr>\n",
       "  </thead>\n",
       "  <tbody>\n",
       "    <tr>\n",
       "      <th>400818dc-63af-4a26-80c5-906f98e1f8ab</th>\n",
       "      <td>1989</td>\n",
       "      <td>1989</td>\n",
       "      <td>ballooning stability analysis of jet hmode dis...</td>\n",
       "      <td>d.p. o'brien|r. galvao|m. keilhacker|e. lazzar...</td>\n",
       "      <td>http://www.research.ed.ac.uk/portal/en/publica...</td>\n",
       "      <td>UNKNOWN</td>\n",
       "      <td>UNKNOWN</td>\n",
       "      <td>previous studies of the stability of a large a...</td>\n",
       "      <td>proceedings 16th european conference on contr...</td>\n",
       "      <td>NaN</td>\n",
       "    </tr>\n",
       "    <tr>\n",
       "      <th>18b1a861-afef-4fff-bc80-d02e05be18c4</th>\n",
       "      <td>2013</td>\n",
       "      <td>2013</td>\n",
       "      <td>query processing in data integration</td>\n",
       "      <td>paolo guagliardo|piotr wieczorek</td>\n",
       "      <td>http://www.research.ed.ac.uk/portal/en/publica...</td>\n",
       "      <td>UNKNOWN</td>\n",
       "      <td>UNKNOWN</td>\n",
       "      <td>in this chapter we illustrate the main techniq...</td>\n",
       "      <td>data exchange, integration, and streams,dagstu...</td>\n",
       "      <td>NaN</td>\n",
       "    </tr>\n",
       "    <tr>\n",
       "      <th>309fdbfc-227b-4588-9264-f0f4e3cadfcb</th>\n",
       "      <td>Mar 1994</td>\n",
       "      <td>1994</td>\n",
       "      <td>comprehension syntax</td>\n",
       "      <td>p. buneman|l. libkin|d. suciu|v. tannen|l. wong</td>\n",
       "      <td>http://www.research.ed.ac.uk/portal/en/publica...</td>\n",
       "      <td>http://dx.doi.org/10.1145/181550.181564</td>\n",
       "      <td>http://www.research.ed.ac.uk/portal/files/1651...</td>\n",
       "      <td>the syntax of comprehensions is very close to ...</td>\n",
       "      <td>sigmod record</td>\n",
       "      <td>Comprehension Syntax\\n \\n Citation for publish...</td>\n",
       "    </tr>\n",
       "  </tbody>\n",
       "</table>\n",
       "</div>"
      ],
      "text/plain": [
       "                                          date  year  \\\n",
       "pub_id                                                 \n",
       "400818dc-63af-4a26-80c5-906f98e1f8ab      1989  1989   \n",
       "18b1a861-afef-4fff-bc80-d02e05be18c4      2013  2013   \n",
       "309fdbfc-227b-4588-9264-f0f4e3cadfcb  Mar 1994  1994   \n",
       "\n",
       "                                                                                  title  \\\n",
       "pub_id                                                                                    \n",
       "400818dc-63af-4a26-80c5-906f98e1f8ab  ballooning stability analysis of jet hmode dis...   \n",
       "18b1a861-afef-4fff-bc80-d02e05be18c4               query processing in data integration   \n",
       "309fdbfc-227b-4588-9264-f0f4e3cadfcb                               comprehension syntax   \n",
       "\n",
       "                                                                                authors  \\\n",
       "pub_id                                                                                    \n",
       "400818dc-63af-4a26-80c5-906f98e1f8ab  d.p. o'brien|r. galvao|m. keilhacker|e. lazzar...   \n",
       "18b1a861-afef-4fff-bc80-d02e05be18c4                   paolo guagliardo|piotr wieczorek   \n",
       "309fdbfc-227b-4588-9264-f0f4e3cadfcb    p. buneman|l. libkin|d. suciu|v. tannen|l. wong   \n",
       "\n",
       "                                                                                pub_url  \\\n",
       "pub_id                                                                                    \n",
       "400818dc-63af-4a26-80c5-906f98e1f8ab  http://www.research.ed.ac.uk/portal/en/publica...   \n",
       "18b1a861-afef-4fff-bc80-d02e05be18c4  http://www.research.ed.ac.uk/portal/en/publica...   \n",
       "309fdbfc-227b-4588-9264-f0f4e3cadfcb  http://www.research.ed.ac.uk/portal/en/publica...   \n",
       "\n",
       "                                                                      doi_url  \\\n",
       "pub_id                                                                          \n",
       "400818dc-63af-4a26-80c5-906f98e1f8ab                                  UNKNOWN   \n",
       "18b1a861-afef-4fff-bc80-d02e05be18c4                                  UNKNOWN   \n",
       "309fdbfc-227b-4588-9264-f0f4e3cadfcb  http://dx.doi.org/10.1145/181550.181564   \n",
       "\n",
       "                                                                                pdf_url  \\\n",
       "pub_id                                                                                    \n",
       "400818dc-63af-4a26-80c5-906f98e1f8ab                                            UNKNOWN   \n",
       "18b1a861-afef-4fff-bc80-d02e05be18c4                                            UNKNOWN   \n",
       "309fdbfc-227b-4588-9264-f0f4e3cadfcb  http://www.research.ed.ac.uk/portal/files/1651...   \n",
       "\n",
       "                                                                               abstract  \\\n",
       "pub_id                                                                                    \n",
       "400818dc-63af-4a26-80c5-906f98e1f8ab  previous studies of the stability of a large a...   \n",
       "18b1a861-afef-4fff-bc80-d02e05be18c4  in this chapter we illustrate the main techniq...   \n",
       "309fdbfc-227b-4588-9264-f0f4e3cadfcb  the syntax of comprehensions is very close to ...   \n",
       "\n",
       "                                                                           publications  \\\n",
       "pub_id                                                                                    \n",
       "400818dc-63af-4a26-80c5-906f98e1f8ab   proceedings 16th european conference on contr...   \n",
       "18b1a861-afef-4fff-bc80-d02e05be18c4  data exchange, integration, and streams,dagstu...   \n",
       "309fdbfc-227b-4588-9264-f0f4e3cadfcb                                      sigmod record   \n",
       "\n",
       "                                                                                pdf2txt  \n",
       "pub_id                                                                                   \n",
       "400818dc-63af-4a26-80c5-906f98e1f8ab                                                NaN  \n",
       "18b1a861-afef-4fff-bc80-d02e05be18c4                                                NaN  \n",
       "309fdbfc-227b-4588-9264-f0f4e3cadfcb  Comprehension Syntax\\n \\n Citation for publish...  "
      ]
     },
     "execution_count": 76,
     "metadata": {},
     "output_type": "execute_result"
    }
   ],
   "source": [
    "pub_csv_combined.head(3)"
   ]
  },
  {
   "cell_type": "code",
   "execution_count": 80,
   "metadata": {
    "ExecuteTime": {
     "end_time": "2018-01-05T21:59:02.833206Z",
     "start_time": "2018-01-05T21:59:02.813015Z"
    }
   },
   "outputs": [],
   "source": [
    "pub_csv_combined_concise = pub_csv_combined[['year', 'title', 'abstract', 'publications', 'pdf2txt']].copy()\n",
    "pub_csv_combined_concise.fillna(value='',axis=1,inplace=True)"
   ]
  },
  {
   "cell_type": "code",
   "execution_count": 87,
   "metadata": {
    "ExecuteTime": {
     "end_time": "2018-01-05T22:01:08.572607Z",
     "start_time": "2018-01-05T22:01:07.832515Z"
    }
   },
   "outputs": [],
   "source": [
    "# Concatenate all the text together to form as the representation of the publication:\n",
    "pub_csv_combined_concise['combined'] = pub_csv_combined_concise.apply(\n",
    "    lambda row: str(row.title) + '. ' + str(row.abstract) + '. '+  str(row.publications) + '. ' + str(row.pdf2txt),\n",
    "    axis=1)"
   ]
  },
  {
   "cell_type": "code",
   "execution_count": 100,
   "metadata": {
    "ExecuteTime": {
     "end_time": "2018-01-05T22:05:45.062333Z",
     "start_time": "2018-01-05T22:04:51.788689Z"
    }
   },
   "outputs": [],
   "source": [
    "pub_csv_combined_concise['toks'] = pub_csv_combined_concise.apply(\n",
    "    lambda row: preprocess(row.combined.decode('utf8')), axis=1)"
   ]
  },
  {
   "cell_type": "code",
   "execution_count": 102,
   "metadata": {
    "ExecuteTime": {
     "end_time": "2018-01-05T22:07:01.509271Z",
     "start_time": "2018-01-05T22:07:01.471695Z"
    }
   },
   "outputs": [
    {
     "data": {
      "text/html": [
       "<div>\n",
       "<style scoped>\n",
       "    .dataframe tbody tr th:only-of-type {\n",
       "        vertical-align: middle;\n",
       "    }\n",
       "\n",
       "    .dataframe tbody tr th {\n",
       "        vertical-align: top;\n",
       "    }\n",
       "\n",
       "    .dataframe thead th {\n",
       "        text-align: right;\n",
       "    }\n",
       "</style>\n",
       "<table border=\"1\" class=\"dataframe\">\n",
       "  <thead>\n",
       "    <tr style=\"text-align: right;\">\n",
       "      <th></th>\n",
       "      <th>year</th>\n",
       "      <th>title</th>\n",
       "      <th>abstract</th>\n",
       "      <th>publications</th>\n",
       "      <th>pdf2txt</th>\n",
       "      <th>combined</th>\n",
       "      <th>toks</th>\n",
       "    </tr>\n",
       "    <tr>\n",
       "      <th>pub_id</th>\n",
       "      <th></th>\n",
       "      <th></th>\n",
       "      <th></th>\n",
       "      <th></th>\n",
       "      <th></th>\n",
       "      <th></th>\n",
       "      <th></th>\n",
       "    </tr>\n",
       "  </thead>\n",
       "  <tbody>\n",
       "    <tr>\n",
       "      <th>400818dc-63af-4a26-80c5-906f98e1f8ab</th>\n",
       "      <td>1989</td>\n",
       "      <td>ballooning stability analysis of jet hmode dis...</td>\n",
       "      <td>previous studies of the stability of a large a...</td>\n",
       "      <td>proceedings 16th european conference on contr...</td>\n",
       "      <td></td>\n",
       "      <td>ballooning stability analysis of jet hmode dis...</td>\n",
       "      <td>[balloon, stabil, analysi, jet, hmode, dischar...</td>\n",
       "    </tr>\n",
       "    <tr>\n",
       "      <th>18b1a861-afef-4fff-bc80-d02e05be18c4</th>\n",
       "      <td>2013</td>\n",
       "      <td>query processing in data integration</td>\n",
       "      <td>in this chapter we illustrate the main techniq...</td>\n",
       "      <td>data exchange, integration, and streams,dagstu...</td>\n",
       "      <td></td>\n",
       "      <td>query processing in data integration. in this ...</td>\n",
       "      <td>[queri, process, data, integr, chapter, illust...</td>\n",
       "    </tr>\n",
       "    <tr>\n",
       "      <th>309fdbfc-227b-4588-9264-f0f4e3cadfcb</th>\n",
       "      <td>1994</td>\n",
       "      <td>comprehension syntax</td>\n",
       "      <td>the syntax of comprehensions is very close to ...</td>\n",
       "      <td>sigmod record</td>\n",
       "      <td>Comprehension Syntax\\n \\n Citation for publish...</td>\n",
       "      <td>comprehension syntax. the syntax of comprehens...</td>\n",
       "      <td>[comprehens, syntax, syntax, comprehens, close...</td>\n",
       "    </tr>\n",
       "  </tbody>\n",
       "</table>\n",
       "</div>"
      ],
      "text/plain": [
       "                                      year  \\\n",
       "pub_id                                       \n",
       "400818dc-63af-4a26-80c5-906f98e1f8ab  1989   \n",
       "18b1a861-afef-4fff-bc80-d02e05be18c4  2013   \n",
       "309fdbfc-227b-4588-9264-f0f4e3cadfcb  1994   \n",
       "\n",
       "                                                                                  title  \\\n",
       "pub_id                                                                                    \n",
       "400818dc-63af-4a26-80c5-906f98e1f8ab  ballooning stability analysis of jet hmode dis...   \n",
       "18b1a861-afef-4fff-bc80-d02e05be18c4               query processing in data integration   \n",
       "309fdbfc-227b-4588-9264-f0f4e3cadfcb                               comprehension syntax   \n",
       "\n",
       "                                                                               abstract  \\\n",
       "pub_id                                                                                    \n",
       "400818dc-63af-4a26-80c5-906f98e1f8ab  previous studies of the stability of a large a...   \n",
       "18b1a861-afef-4fff-bc80-d02e05be18c4  in this chapter we illustrate the main techniq...   \n",
       "309fdbfc-227b-4588-9264-f0f4e3cadfcb  the syntax of comprehensions is very close to ...   \n",
       "\n",
       "                                                                           publications  \\\n",
       "pub_id                                                                                    \n",
       "400818dc-63af-4a26-80c5-906f98e1f8ab   proceedings 16th european conference on contr...   \n",
       "18b1a861-afef-4fff-bc80-d02e05be18c4  data exchange, integration, and streams,dagstu...   \n",
       "309fdbfc-227b-4588-9264-f0f4e3cadfcb                                      sigmod record   \n",
       "\n",
       "                                                                                pdf2txt  \\\n",
       "pub_id                                                                                    \n",
       "400818dc-63af-4a26-80c5-906f98e1f8ab                                                      \n",
       "18b1a861-afef-4fff-bc80-d02e05be18c4                                                      \n",
       "309fdbfc-227b-4588-9264-f0f4e3cadfcb  Comprehension Syntax\\n \\n Citation for publish...   \n",
       "\n",
       "                                                                               combined  \\\n",
       "pub_id                                                                                    \n",
       "400818dc-63af-4a26-80c5-906f98e1f8ab  ballooning stability analysis of jet hmode dis...   \n",
       "18b1a861-afef-4fff-bc80-d02e05be18c4  query processing in data integration. in this ...   \n",
       "309fdbfc-227b-4588-9264-f0f4e3cadfcb  comprehension syntax. the syntax of comprehens...   \n",
       "\n",
       "                                                                                   toks  \n",
       "pub_id                                                                                   \n",
       "400818dc-63af-4a26-80c5-906f98e1f8ab  [balloon, stabil, analysi, jet, hmode, dischar...  \n",
       "18b1a861-afef-4fff-bc80-d02e05be18c4  [queri, process, data, integr, chapter, illust...  \n",
       "309fdbfc-227b-4588-9264-f0f4e3cadfcb  [comprehens, syntax, syntax, comprehens, close...  "
      ]
     },
     "execution_count": 102,
     "metadata": {},
     "output_type": "execute_result"
    }
   ],
   "source": [
    "pub_csv_combined_concise.head(3)"
   ]
  },
  {
   "cell_type": "code",
   "execution_count": 114,
   "metadata": {
    "ExecuteTime": {
     "end_time": "2018-01-05T22:13:04.935496Z",
     "start_time": "2018-01-05T22:12:52.459957Z"
    }
   },
   "outputs": [],
   "source": [
    "pub_csv_combined_concise.to_pickle('../data/pub_toks_w_pdf2txt.pkl')"
   ]
  },
  {
   "cell_type": "markdown",
   "metadata": {},
   "source": [
    "## Distribution of length of combined summary"
   ]
  },
  {
   "cell_type": "code",
   "execution_count": 103,
   "metadata": {
    "ExecuteTime": {
     "end_time": "2018-01-05T22:07:58.590296Z",
     "start_time": "2018-01-05T22:07:58.576665Z"
    }
   },
   "outputs": [],
   "source": [
    "pub_toks = pub_csv_combined_concise[['toks']].copy()"
   ]
  },
  {
   "cell_type": "code",
   "execution_count": 105,
   "metadata": {
    "ExecuteTime": {
     "end_time": "2018-01-05T22:08:25.363895Z",
     "start_time": "2018-01-05T22:08:24.510000Z"
    }
   },
   "outputs": [],
   "source": [
    "# inspect and check if there is any publication with no `summary_toks`\n",
    "for row in pub_toks.iterrows():\n",
    "    if len(row[1]['toks']) == 0:\n",
    "        print row[0]"
   ]
  },
  {
   "cell_type": "code",
   "execution_count": 106,
   "metadata": {
    "ExecuteTime": {
     "end_time": "2018-01-05T22:08:26.672733Z",
     "start_time": "2018-01-05T22:08:25.369401Z"
    }
   },
   "outputs": [],
   "source": [
    "# get a distribution of length of tokens:\n",
    "toksLengthHist = {}\n",
    "for row in pub_toks.iterrows():\n",
    "    l = len(row[1]['toks'])\n",
    "    if l not in toksLengthHist.keys():\n",
    "        toksLengthHist[l] = 1\n",
    "    else:\n",
    "        toksLengthHist[l] += 1"
   ]
  },
  {
   "cell_type": "code",
   "execution_count": 107,
   "metadata": {
    "ExecuteTime": {
     "end_time": "2018-01-05T22:08:26.687113Z",
     "start_time": "2018-01-05T22:08:26.678790Z"
    }
   },
   "outputs": [],
   "source": [
    "lengthHist = [(v,k) for (v,k) in toksLengthHist.iteritems()]"
   ]
  },
  {
   "cell_type": "code",
   "execution_count": 111,
   "metadata": {
    "ExecuteTime": {
     "end_time": "2018-01-05T22:09:06.287518Z",
     "start_time": "2018-01-05T22:09:06.280962Z"
    }
   },
   "outputs": [],
   "source": [
    "lengths = zip(*lengthHist)[0]\n",
    "freq = zip(*lengthHist)[1]"
   ]
  },
  {
   "cell_type": "code",
   "execution_count": 112,
   "metadata": {
    "ExecuteTime": {
     "end_time": "2018-01-05T22:09:06.299309Z",
     "start_time": "2018-01-05T22:09:06.292323Z"
    }
   },
   "outputs": [],
   "source": [
    "data = [list(lengths), list(freq)]\n",
    "pd_data = pd.DataFrame(np.array(data).T, columns=['length', 'count'])"
   ]
  },
  {
   "cell_type": "code",
   "execution_count": 113,
   "metadata": {
    "ExecuteTime": {
     "end_time": "2018-01-05T22:11:07.273253Z",
     "start_time": "2018-01-05T22:09:06.304875Z"
    }
   },
   "outputs": [
    {
     "data": {
      "image/png": "[encoded data removed]",
      "text/plain": [
       "<matplotlib.figure.Figure at 0x128342110>"
      ]
     },
     "metadata": {},
     "output_type": "display_data"
    }
   ],
   "source": [
    "fig = plt.figure(figsize=(20, 10))\n",
    "ax = fig.add_subplot(111)\n",
    "sns.barplot(x='length', y='count', data=pd_data, ax=ax)\n",
    "plt.xticks(rotation=90)\n",
    "# plt.savefig('./IMG/distribution_of_pub_length.pdf', format='pdf', bbox_inches='tight')"
   ]
  },
  {
   "cell_type": "markdown",
   "metadata": {},
   "source": [
    "## Publications from `2012-2017`"
   ]
  },
  {
   "cell_type": "code",
   "execution_count": 2,
   "metadata": {
    "ExecuteTime": {
     "end_time": "2018-01-06T15:28:45.556095Z",
     "start_time": "2018-01-06T15:28:35.738347Z"
    }
   },
   "outputs": [],
   "source": [
    "pub_all = pd.read_pickle('../data/pub_toks_w_pdf2txt.pkl')"
   ]
  },
  {
   "cell_type": "code",
   "execution_count": 4,
   "metadata": {
    "ExecuteTime": {
     "end_time": "2018-01-06T15:29:16.351036Z",
     "start_time": "2018-01-06T15:29:16.308776Z"
    }
   },
   "outputs": [
    {
     "data": {
      "text/html": [
       "<div>\n",
       "<style scoped>\n",
       "    .dataframe tbody tr th:only-of-type {\n",
       "        vertical-align: middle;\n",
       "    }\n",
       "\n",
       "    .dataframe tbody tr th {\n",
       "        vertical-align: top;\n",
       "    }\n",
       "\n",
       "    .dataframe thead th {\n",
       "        text-align: right;\n",
       "    }\n",
       "</style>\n",
       "<table border=\"1\" class=\"dataframe\">\n",
       "  <thead>\n",
       "    <tr style=\"text-align: right;\">\n",
       "      <th></th>\n",
       "      <th>year</th>\n",
       "      <th>title</th>\n",
       "      <th>abstract</th>\n",
       "      <th>publications</th>\n",
       "      <th>pdf2txt</th>\n",
       "      <th>combined</th>\n",
       "      <th>toks</th>\n",
       "    </tr>\n",
       "    <tr>\n",
       "      <th>pub_id</th>\n",
       "      <th></th>\n",
       "      <th></th>\n",
       "      <th></th>\n",
       "      <th></th>\n",
       "      <th></th>\n",
       "      <th></th>\n",
       "      <th></th>\n",
       "    </tr>\n",
       "  </thead>\n",
       "  <tbody>\n",
       "    <tr>\n",
       "      <th>400818dc-63af-4a26-80c5-906f98e1f8ab</th>\n",
       "      <td>1989</td>\n",
       "      <td>ballooning stability analysis of jet hmode dis...</td>\n",
       "      <td>previous studies of the stability of a large a...</td>\n",
       "      <td>proceedings 16th european conference on contr...</td>\n",
       "      <td></td>\n",
       "      <td>ballooning stability analysis of jet hmode dis...</td>\n",
       "      <td>[balloon, stabil, analysi, jet, hmode, dischar...</td>\n",
       "    </tr>\n",
       "    <tr>\n",
       "      <th>18b1a861-afef-4fff-bc80-d02e05be18c4</th>\n",
       "      <td>2013</td>\n",
       "      <td>query processing in data integration</td>\n",
       "      <td>in this chapter we illustrate the main techniq...</td>\n",
       "      <td>data exchange, integration, and streams,dagstu...</td>\n",
       "      <td></td>\n",
       "      <td>query processing in data integration. in this ...</td>\n",
       "      <td>[queri, process, data, integr, chapter, illust...</td>\n",
       "    </tr>\n",
       "    <tr>\n",
       "      <th>309fdbfc-227b-4588-9264-f0f4e3cadfcb</th>\n",
       "      <td>1994</td>\n",
       "      <td>comprehension syntax</td>\n",
       "      <td>the syntax of comprehensions is very close to ...</td>\n",
       "      <td>sigmod record</td>\n",
       "      <td>Comprehension Syntax\\n \\n Citation for publish...</td>\n",
       "      <td>comprehension syntax. the syntax of comprehens...</td>\n",
       "      <td>[comprehens, syntax, syntax, comprehens, close...</td>\n",
       "    </tr>\n",
       "  </tbody>\n",
       "</table>\n",
       "</div>"
      ],
      "text/plain": [
       "                                      year  \\\n",
       "pub_id                                       \n",
       "400818dc-63af-4a26-80c5-906f98e1f8ab  1989   \n",
       "18b1a861-afef-4fff-bc80-d02e05be18c4  2013   \n",
       "309fdbfc-227b-4588-9264-f0f4e3cadfcb  1994   \n",
       "\n",
       "                                                                                  title  \\\n",
       "pub_id                                                                                    \n",
       "400818dc-63af-4a26-80c5-906f98e1f8ab  ballooning stability analysis of jet hmode dis...   \n",
       "18b1a861-afef-4fff-bc80-d02e05be18c4               query processing in data integration   \n",
       "309fdbfc-227b-4588-9264-f0f4e3cadfcb                               comprehension syntax   \n",
       "\n",
       "                                                                               abstract  \\\n",
       "pub_id                                                                                    \n",
       "400818dc-63af-4a26-80c5-906f98e1f8ab  previous studies of the stability of a large a...   \n",
       "18b1a861-afef-4fff-bc80-d02e05be18c4  in this chapter we illustrate the main techniq...   \n",
       "309fdbfc-227b-4588-9264-f0f4e3cadfcb  the syntax of comprehensions is very close to ...   \n",
       "\n",
       "                                                                           publications  \\\n",
       "pub_id                                                                                    \n",
       "400818dc-63af-4a26-80c5-906f98e1f8ab   proceedings 16th european conference on contr...   \n",
       "18b1a861-afef-4fff-bc80-d02e05be18c4  data exchange, integration, and streams,dagstu...   \n",
       "309fdbfc-227b-4588-9264-f0f4e3cadfcb                                      sigmod record   \n",
       "\n",
       "                                                                                pdf2txt  \\\n",
       "pub_id                                                                                    \n",
       "400818dc-63af-4a26-80c5-906f98e1f8ab                                                      \n",
       "18b1a861-afef-4fff-bc80-d02e05be18c4                                                      \n",
       "309fdbfc-227b-4588-9264-f0f4e3cadfcb  Comprehension Syntax\\n \\n Citation for publish...   \n",
       "\n",
       "                                                                               combined  \\\n",
       "pub_id                                                                                    \n",
       "400818dc-63af-4a26-80c5-906f98e1f8ab  ballooning stability analysis of jet hmode dis...   \n",
       "18b1a861-afef-4fff-bc80-d02e05be18c4  query processing in data integration. in this ...   \n",
       "309fdbfc-227b-4588-9264-f0f4e3cadfcb  comprehension syntax. the syntax of comprehens...   \n",
       "\n",
       "                                                                                   toks  \n",
       "pub_id                                                                                   \n",
       "400818dc-63af-4a26-80c5-906f98e1f8ab  [balloon, stabil, analysi, jet, hmode, dischar...  \n",
       "18b1a861-afef-4fff-bc80-d02e05be18c4  [queri, process, data, integr, chapter, illust...  \n",
       "309fdbfc-227b-4588-9264-f0f4e3cadfcb  [comprehens, syntax, syntax, comprehens, close...  "
      ]
     },
     "execution_count": 4,
     "metadata": {},
     "output_type": "execute_result"
    }
   ],
   "source": [
    "pub_all.head(3)"
   ]
  },
  {
   "cell_type": "code",
   "execution_count": 5,
   "metadata": {
    "ExecuteTime": {
     "end_time": "2018-01-06T15:30:04.611436Z",
     "start_time": "2018-01-06T15:30:04.606179Z"
    }
   },
   "outputs": [],
   "source": [
    "gb = pub_all.groupby('year')"
   ]
  },
  {
   "cell_type": "code",
   "execution_count": 6,
   "metadata": {
    "ExecuteTime": {
     "end_time": "2018-01-06T15:30:13.609364Z",
     "start_time": "2018-01-06T15:30:13.251627Z"
    }
   },
   "outputs": [
    {
     "name": "stdout",
     "output_type": "stream",
     "text": [
      "Year:\tPub count\n",
      "2012:\t573\n",
      "2013:\t623\n",
      "2014:\t629\n",
      "2015:\t583\n",
      "2016:\t645\n",
      "2017:\t521\n"
     ]
    }
   ],
   "source": [
    "sixYears = ['2017', '2016', '2015', '2014', '2013', '2012']\n",
    "pd_years = {}\n",
    "print(\"Year:\\tPub count\")\n",
    "for yr, group in gb:\n",
    "    if yr in sixYears:\n",
    "        pd_years[yr] = group\n",
    "        print(\"{}:\\t{}\".format(yr, len(group)))"
   ]
  },
  {
   "cell_type": "code",
   "execution_count": 7,
   "metadata": {
    "ExecuteTime": {
     "end_time": "2018-01-06T15:30:34.425727Z",
     "start_time": "2018-01-06T15:30:34.416494Z"
    }
   },
   "outputs": [],
   "source": [
    "pub_combined_yrs = pd.concat(pd_years.values())"
   ]
  },
  {
   "cell_type": "code",
   "execution_count": 44,
   "metadata": {
    "ExecuteTime": {
     "end_time": "2018-01-06T15:50:31.976527Z",
     "start_time": "2018-01-06T15:50:28.174992Z"
    }
   },
   "outputs": [],
   "source": [
    "# Save the 2012-2017:\n",
    "pub_combined_yrs.to_pickle('../data/pub_toks_w_pdf2txt_2012-17.pkl')"
   ]
  },
  {
   "cell_type": "markdown",
   "metadata": {},
   "source": [
    "### Check how many of these publications doesnt have pdf2txt:"
   ]
  },
  {
   "cell_type": "code",
   "execution_count": 37,
   "metadata": {
    "ExecuteTime": {
     "end_time": "2018-01-06T15:44:42.269819Z",
     "start_time": "2018-01-06T15:44:42.242848Z"
    }
   },
   "outputs": [
    {
     "name": "stdout",
     "output_type": "stream",
     "text": [
      "Year:\tPub count\t#pdf2txt\n",
      "2015\t583\t\t236\n",
      "2014\t629\t\t235\n",
      "2017\t521\t\t253\n",
      "2016\t645\t\t313\n",
      "2013\t623\t\t169\n",
      "2012\t573\t\t143\n"
     ]
    }
   ],
   "source": [
    "print('{}\\t{}\\t{}'.format('Year:','Pub count', '#pdf2txt'))\n",
    "for yr, df in pd_years.items():\n",
    "      _pdf2txts = df.pdf2txt.values\n",
    "      count = len([len(a.strip()) for a in _pdf2txts if len(a) > 0])\n",
    "      print('{}\\t{}\\t\\t{}'.format(yr, len(df), count))\n",
    "    "
   ]
  },
  {
   "cell_type": "code",
   "execution_count": 17,
   "metadata": {
    "ExecuteTime": {
     "end_time": "2018-01-06T15:36:02.198582Z",
     "start_time": "2018-01-06T15:36:02.187289Z"
    }
   },
   "outputs": [
    {
     "data": {
      "text/plain": [
       "3574"
      ]
     },
     "execution_count": 17,
     "metadata": {},
     "output_type": "execute_result"
    }
   ],
   "source": [
    "len(pub_combined_yrs)"
   ]
  },
  {
   "cell_type": "markdown",
   "metadata": {},
   "source": [
    "Total of <b>1,349</b> publications, out of 3574, from 2012-2017 have pdf that can be converted to txt"
   ]
  },
  {
   "cell_type": "code",
   "execution_count": 38,
   "metadata": {
    "ExecuteTime": {
     "end_time": "2018-01-06T15:46:58.918235Z",
     "start_time": "2018-01-06T15:46:58.913277Z"
    }
   },
   "outputs": [],
   "source": [
    "pdf2txts = pub_combined_yrs.pdf2txt.values"
   ]
  },
  {
   "cell_type": "code",
   "execution_count": 39,
   "metadata": {
    "ExecuteTime": {
     "end_time": "2018-01-06T15:47:00.258342Z",
     "start_time": "2018-01-06T15:47:00.239404Z"
    }
   },
   "outputs": [
    {
     "name": "stdout",
     "output_type": "stream",
     "text": [
      "2225\n"
     ]
    }
   ],
   "source": [
    "num = 0\n",
    "for t in pdf2txts:\n",
    "    if len(t.strip()) == 0:\n",
    "        num+=1"
   ]
  },
  {
   "cell_type": "code",
   "execution_count": 40,
   "metadata": {
    "ExecuteTime": {
     "end_time": "2018-01-06T15:47:01.586430Z",
     "start_time": "2018-01-06T15:47:01.568571Z"
    }
   },
   "outputs": [],
   "source": [
    "lenhist = [len(t.strip()) for t in pdf2txts]"
   ]
  },
  {
   "cell_type": "code",
   "execution_count": 41,
   "metadata": {
    "ExecuteTime": {
     "end_time": "2018-01-06T15:47:02.954976Z",
     "start_time": "2018-01-06T15:47:02.945635Z"
    }
   },
   "outputs": [
    {
     "data": {
      "text/plain": [
       "998916"
      ]
     },
     "execution_count": 41,
     "metadata": {},
     "output_type": "execute_result"
    }
   ],
   "source": [
    "max(lenhist)"
   ]
  },
  {
   "cell_type": "code",
   "execution_count": 43,
   "metadata": {
    "ExecuteTime": {
     "end_time": "2018-01-06T15:47:25.503834Z",
     "start_time": "2018-01-06T15:47:25.255610Z"
    }
   },
   "outputs": [
    {
     "data": {
      "image/png": "[encoded data removed]",
      "text/plain": [
       "<matplotlib.figure.Figure at 0x1269241d0>"
      ]
     },
     "metadata": {},
     "output_type": "display_data"
    }
   ],
   "source": [
    "plt.hist(lenhist, 50);"
   ]
  },
  {
   "cell_type": "code",
   "execution_count": null,
   "metadata": {},
   "outputs": [],
   "source": []
  }
 ],
 "metadata": {
  "kernelspec": {
   "display_name": "Python 2",
   "language": "python",
   "name": "python2"
  },
  "language_info": {
   "codemirror_mode": {
    "name": "ipython",
    "version": 2
   },
   "file_extension": ".py",
   "mimetype": "text/x-python",
   "name": "python",
   "nbconvert_exporter": "python",
   "pygments_lexer": "ipython2",
   "version": "2.7.14"
  },
  "notify_time": "5",
  "toc": {
   "nav_menu": {},
   "number_sections": false,
   "sideBar": true,
   "skip_h1_title": false,
   "title_cell": "Table of Contents",
   "title_sidebar": "Contents",
   "toc_cell": true,
   "toc_position": {
    "height": "calc(100% - 180px)",
    "left": "10px",
    "top": "150px",
    "width": "270px"
   },
   "toc_section_display": true,
   "toc_window_display": true
  },
  "varInspector": {
   "cols": {
    "lenName": 16,
    "lenType": 16,
    "lenVar": 40
   },
   "kernels_config": {
    "python": {
     "delete_cmd_postfix": "",
     "delete_cmd_prefix": "del ",
     "library": "var_list.py",
     "varRefreshCmd": "print(var_dic_list())"
    },
    "r": {
     "delete_cmd_postfix": ") ",
     "delete_cmd_prefix": "rm(",
     "library": "var_list.r",
     "varRefreshCmd": "cat(var_dic_list()) "
    }
   },
   "types_to_exclude": [
    "module",
    "function",
    "builtin_function_or_method",
    "instance",
    "_Feature"
   ],
   "window_display": false
  }
 },
 "nbformat": 4,
 "nbformat_minor": 2
}
