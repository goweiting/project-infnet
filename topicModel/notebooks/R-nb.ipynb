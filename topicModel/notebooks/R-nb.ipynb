{
 "cells": [
  {
   "cell_type": "code",
   "execution_count": 4,
   "metadata": {
    "ExecuteTime": {
     "end_time": "2018-01-23T11:17:00.941419Z",
     "start_time": "2018-01-23T11:16:57.845Z"
    },
    "scrolled": false
   },
   "outputs": [
    {
     "name": "stderr",
     "output_type": "stream",
     "text": [
      "Downloading GitHub repo hadley/multidplyr@master\n",
      "from URL https://api.github.com/repos/hadley/multidplyr/zipball/master\n",
      "Installing multidplyr\n",
      "'/usr/lib64/R/bin/R' --no-site-file --no-environ --no-save --no-restore  \\\n",
      "  --quiet CMD INSTALL  \\\n",
      "  '/tmp/RtmpczEob0/devtools1db18347644f7/hadley-multidplyr-0085ded'  \\\n",
      "  --library='/afs/inf.ed.ac.uk/user/s14/s1450710/R/x86_64-redhat-linux-gnu-library/3.4'  \\\n",
      "  --install-tests \n",
      "\n",
      "Installation failed: Command failed (1)\n"
     ]
    }
   ],
   "source": [
    "# devtools::install_github(\"nikita-moor/ldatuning\")\n",
    "# install.packages('topicmodels','~/miniconda3/lib/R/library/')\n",
    "library(devtools)\n",
    "install_github(\"hadley/multidplyr\", '~/miniconda3/lib/R/library')"
   ]
  },
  {
   "cell_type": "code",
   "execution_count": 1,
   "metadata": {
    "ExecuteTime": {
     "end_time": "2018-01-23T11:38:09.077083Z",
     "start_time": "2018-01-23T11:37:59.798Z"
    }
   },
   "outputs": [
    {
     "name": "stderr",
     "output_type": "stream",
     "text": [
      "Loading required package: NLP\n",
      "Warning message:\n",
      "“package ‘magrittr’ was built under R version 3.4.2”"
     ]
    }
   ],
   "source": [
    "library('tm')\n",
    "library('ldatuning')\n",
    "library('topicmodels')\n",
    "library('magrittr')\n",
    "# library('multidplyr')"
   ]
  },
  {
   "cell_type": "markdown",
   "metadata": {},
   "source": [
    "## Peparing Corpus"
   ]
  },
  {
   "cell_type": "code",
   "execution_count": 6,
   "metadata": {
    "ExecuteTime": {
     "end_time": "2018-01-22T20:30:27.287809Z",
     "start_time": "2018-01-22T20:30:26.867Z"
    }
   },
   "outputs": [],
   "source": [
    "docs <- scan(file = '../data/fullpub/combined_toks.txt', character(), sep = '\\n')"
   ]
  },
  {
   "cell_type": "code",
   "execution_count": 7,
   "metadata": {
    "ExecuteTime": {
     "end_time": "2018-01-22T20:30:27.932086Z",
     "start_time": "2018-01-22T20:30:27.874Z"
    },
    "scrolled": true
   },
   "outputs": [
    {
     "data": {
      "text/html": [
       "'ballooning stability analysis jet hmode discharge previous study stability large aspect ratio model equilibrium ideal mhd ballooning mode shown across bulk plasma exist two marginally stable value pressure gradient parameter define unstable zone separate first small stable region second large stable region close separatrix however first second region coalesce surface averaged current density exceeds critical value plasma region stable ballooning mode value pressure gradient paper extend result jet mode equilibrium using finite aspect ratio ballooning formalism ass relevance ideal ballooning stability discharge particular analyse shot time sec phase proceeding 16th european conference controlled fusion plasma physic european_conference'"
      ],
      "text/latex": [
       "'ballooning stability analysis jet hmode discharge previous study stability large aspect ratio model equilibrium ideal mhd ballooning mode shown across bulk plasma exist two marginally stable value pressure gradient parameter define unstable zone separate first small stable region second large stable region close separatrix however first second region coalesce surface averaged current density exceeds critical value plasma region stable ballooning mode value pressure gradient paper extend result jet mode equilibrium using finite aspect ratio ballooning formalism ass relevance ideal ballooning stability discharge particular analyse shot time sec phase proceeding 16th european conference controlled fusion plasma physic european\\_conference'"
      ],
      "text/markdown": [
       "'ballooning stability analysis jet hmode discharge previous study stability large aspect ratio model equilibrium ideal mhd ballooning mode shown across bulk plasma exist two marginally stable value pressure gradient parameter define unstable zone separate first small stable region second large stable region close separatrix however first second region coalesce surface averaged current density exceeds critical value plasma region stable ballooning mode value pressure gradient paper extend result jet mode equilibrium using finite aspect ratio ballooning formalism ass relevance ideal ballooning stability discharge particular analyse shot time sec phase proceeding 16th european conference controlled fusion plasma physic european_conference'"
      ],
      "text/plain": [
       "[1] \"ballooning stability analysis jet hmode discharge previous study stability large aspect ratio model equilibrium ideal mhd ballooning mode shown across bulk plasma exist two marginally stable value pressure gradient parameter define unstable zone separate first small stable region second large stable region close separatrix however first second region coalesce surface averaged current density exceeds critical value plasma region stable ballooning mode value pressure gradient paper extend result jet mode equilibrium using finite aspect ratio ballooning formalism ass relevance ideal ballooning stability discharge particular analyse shot time sec phase proceeding 16th european conference controlled fusion plasma physic european_conference\""
      ]
     },
     "metadata": {},
     "output_type": "display_data"
    }
   ],
   "source": [
    "docs[1]"
   ]
  },
  {
   "cell_type": "code",
   "execution_count": 8,
   "metadata": {
    "ExecuteTime": {
     "end_time": "2018-01-22T20:30:29.612434Z",
     "start_time": "2018-01-22T20:30:29.573Z"
    }
   },
   "outputs": [],
   "source": [
    "corpus <- Corpus(VectorSource(docs))"
   ]
  },
  {
   "cell_type": "code",
   "execution_count": 9,
   "metadata": {
    "ExecuteTime": {
     "end_time": "2018-01-22T20:30:32.314220Z",
     "start_time": "2018-01-22T20:30:31.338Z"
    }
   },
   "outputs": [],
   "source": [
    "# Create a document-term matrix for LDA\n",
    "dtm <- DocumentTermMatrix(corpus)"
   ]
  },
  {
   "cell_type": "code",
   "execution_count": 10,
   "metadata": {
    "ExecuteTime": {
     "end_time": "2018-01-22T20:30:33.268346Z",
     "start_time": "2018-01-22T20:30:33.233Z"
    }
   },
   "outputs": [
    {
     "data": {
      "text/plain": [
       "<<DocumentTermMatrix (documents: 8867, terms: 26244)>>\n",
       "Non-/sparse entries: 518644/232186904\n",
       "Sparsity           : 100%\n",
       "Maximal term length: 41\n",
       "Weighting          : term frequency (tf)"
      ]
     },
     "metadata": {},
     "output_type": "display_data"
    }
   ],
   "source": [
    "dtm"
   ]
  },
  {
   "cell_type": "markdown",
   "metadata": {},
   "source": [
    "## Finding number of topics:\n",
    "\n",
    "Using RScript to run instead of from jupyter notebook, as it takes very long compute time! \n",
    "\n",
    "script located [here](../src)"
   ]
  },
  {
   "cell_type": "code",
   "execution_count": null,
   "metadata": {
    "ExecuteTime": {
     "end_time": "2018-01-22T20:32:26.653701Z",
     "start_time": "2018-01-22T20:32:26.629Z"
    },
    "deletable": false,
    "editable": false,
    "run_control": {
     "frozen": true
    }
   },
   "outputs": [],
   "source": [
    "control_list_gibbs <- list(\n",
    "  burnin = 1000,\n",
    "  iter = 2000,\n",
    "  seed = 0:4,\n",
    "  nstart = 5,\n",
    "  best = TRUE\n",
    ")"
   ]
  },
  {
   "cell_type": "code",
   "execution_count": null,
   "metadata": {
    "ExecuteTime": {
     "end_time": "2018-01-22T20:32:50.443097Z",
     "start_time": "2018-01-22T20:32:26.964Z"
    },
    "deletable": false,
    "editable": false,
    "run_control": {
     "frozen": true
    },
    "scrolled": true
   },
   "outputs": [],
   "source": [
    "# Searching for the number of topics\n",
    "system.time(\n",
    "  topic_number <- FindTopicsNumber(\n",
    "    dtm,\n",
    "    topics = c(seq(5,10,1), seq(12, 20, 2), seq(25, 50, 5)),\n",
    "    metrics = c( \"Griffiths2004\", \"CaoJuan2009\", \"Arun2010\", \"Deveaud2014\"),\n",
    "    method = \"Gibbs\",\n",
    "    control = control_list_gibbs,\n",
    "    mc.cores = 40L,\n",
    "    verbose = TRUE\n",
    "  )\n",
    ")"
   ]
  },
  {
   "cell_type": "markdown",
   "metadata": {},
   "source": [
    "### Visualise different metrics:\n",
    "\n",
    "Using the plotting function in `ldatuning`"
   ]
  },
  {
   "cell_type": "code",
   "execution_count": 3,
   "metadata": {
    "ExecuteTime": {
     "end_time": "2018-01-23T11:56:19.603973Z",
     "start_time": "2018-01-23T11:52:41.203Z"
    }
   },
   "outputs": [],
   "source": [
    "topic_number <- load('../src/res/tuning.topic_number.rdata')"
   ]
  },
  {
   "cell_type": "code",
   "execution_count": null,
   "metadata": {
    "ExecuteTime": {
     "start_time": "2018-01-23T11:57:24.068Z"
    }
   },
   "outputs": [],
   "source": [
    "FindTopicsNumber_plot(topic_number)"
   ]
  },
  {
   "cell_type": "markdown",
   "metadata": {},
   "source": [
    "## CTM"
   ]
  },
  {
   "cell_type": "code",
   "execution_count": 1,
   "metadata": {},
   "outputs": [],
   "source": [
    "control_list_ctm <- list(\n",
    "  seed = 5:9,\n",
    "  nstart = 5,\n",
    "  best = TRUE\n",
    ")"
   ]
  },
  {
   "cell_type": "code",
   "execution_count": 8,
   "metadata": {},
   "outputs": [
    {
     "ename": "ERROR",
     "evalue": "Error in is(x, \"DocumentTermMatrix\"): object 'dtm' not found\n",
     "output_type": "error",
     "traceback": [
      "Error in is(x, \"DocumentTermMatrix\"): object 'dtm' not found\nTraceback:\n",
      "1. CTM(k = 20, x = dtm, control = control_list_ctm)",
      "2. is(x, \"DocumentTermMatrix\")"
     ]
    }
   ],
   "source": [
    "ctm_20 <-CTM(k=20, x=dtm, control=control_list_ctm)"
   ]
  },
  {
   "cell_type": "code",
   "execution_count": null,
   "metadata": {},
   "outputs": [],
   "source": []
  }
 ],
 "metadata": {
  "kernelspec": {
   "display_name": "R",
   "language": "R",
   "name": "ir"
  },
  "language_info": {
   "codemirror_mode": "r",
   "file_extension": ".r",
   "mimetype": "text/x-r-source",
   "name": "R",
   "pygments_lexer": "r",
   "version": "3.4.1"
  },
  "toc": {
   "nav_menu": {},
   "number_sections": true,
   "sideBar": true,
   "skip_h1_title": false,
   "toc_cell": false,
   "toc_position": {},
   "toc_section_display": "block",
   "toc_window_display": false
  },
  "varInspector": {
   "cols": {
    "lenName": 16,
    "lenType": 16,
    "lenVar": 40
   },
   "kernels_config": {
    "python": {
     "delete_cmd_postfix": "",
     "delete_cmd_prefix": "del ",
     "library": "var_list.py",
     "varRefreshCmd": "print(var_dic_list())"
    },
    "r": {
     "delete_cmd_postfix": ") ",
     "delete_cmd_prefix": "rm(",
     "library": "var_list.r",
     "varRefreshCmd": "cat(var_dic_list()) "
    }
   },
   "types_to_exclude": [
    "module",
    "function",
    "builtin_function_or_method",
    "instance",
    "_Feature"
   ],
   "window_display": false
  }
 },
 "nbformat": 4,
 "nbformat_minor": 2
}
