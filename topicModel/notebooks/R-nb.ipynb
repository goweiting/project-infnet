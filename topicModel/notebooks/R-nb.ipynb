{
 "cells": [
  {
   "cell_type": "code",
   "execution_count": 1,
   "metadata": {},
   "outputs": [],
   "source": [
    "options(jupyter.plot_mimetypes = c(\"text/plain\", \"image/png\" ))"
   ]
  },
  {
   "cell_type": "code",
   "execution_count": 2,
   "metadata": {
    "ExecuteTime": {
     "end_time": "2018-01-23T11:38:09.077083Z",
     "start_time": "2018-01-23T11:37:59.798Z"
    },
    "scrolled": true
   },
   "outputs": [
    {
     "name": "stderr",
     "output_type": "stream",
     "text": [
      "Loading required package: NLP\n",
      "Warning message:\n",
      "“package ‘magrittr’ was built under R version 3.4.2”"
     ]
    }
   ],
   "source": [
    "library('tm')\n",
    "library('ldatuning')\n",
    "library('topicmodels')\n",
    "library('magrittr')\n",
    "# library('multidplyr')"
   ]
  },
  {
   "cell_type": "markdown",
   "metadata": {},
   "source": [
    "## Peparing Corpus"
   ]
  },
  {
   "cell_type": "code",
   "execution_count": 6,
   "metadata": {
    "ExecuteTime": {
     "end_time": "2018-01-22T20:30:27.287809Z",
     "start_time": "2018-01-22T20:30:26.867Z"
    }
   },
   "outputs": [],
   "source": [
    "docs <- scan(file = '../data/fullpub/combined_toks.txt', character(), sep = '\\n')"
   ]
  },
  {
   "cell_type": "code",
   "execution_count": 7,
   "metadata": {
    "ExecuteTime": {
     "end_time": "2018-01-22T20:30:27.932086Z",
     "start_time": "2018-01-22T20:30:27.874Z"
    },
    "scrolled": true
   },
   "outputs": [
    {
     "data": {
      "text/html": [
       "'ballooning stability analysis jet hmode discharge previous study stability large aspect ratio model equilibrium ideal mhd ballooning mode shown across bulk plasma exist two marginally stable value pressure gradient parameter define unstable zone separate first small stable region second large stable region close separatrix however first second region coalesce surface averaged current density exceeds critical value plasma region stable ballooning mode value pressure gradient paper extend result jet mode equilibrium using finite aspect ratio ballooning formalism ass relevance ideal ballooning stability discharge particular analyse shot time sec phase proceeding 16th european conference controlled fusion plasma physic european_conference'"
      ],
      "text/latex": [
       "'ballooning stability analysis jet hmode discharge previous study stability large aspect ratio model equilibrium ideal mhd ballooning mode shown across bulk plasma exist two marginally stable value pressure gradient parameter define unstable zone separate first small stable region second large stable region close separatrix however first second region coalesce surface averaged current density exceeds critical value plasma region stable ballooning mode value pressure gradient paper extend result jet mode equilibrium using finite aspect ratio ballooning formalism ass relevance ideal ballooning stability discharge particular analyse shot time sec phase proceeding 16th european conference controlled fusion plasma physic european\\_conference'"
      ],
      "text/markdown": [
       "'ballooning stability analysis jet hmode discharge previous study stability large aspect ratio model equilibrium ideal mhd ballooning mode shown across bulk plasma exist two marginally stable value pressure gradient parameter define unstable zone separate first small stable region second large stable region close separatrix however first second region coalesce surface averaged current density exceeds critical value plasma region stable ballooning mode value pressure gradient paper extend result jet mode equilibrium using finite aspect ratio ballooning formalism ass relevance ideal ballooning stability discharge particular analyse shot time sec phase proceeding 16th european conference controlled fusion plasma physic european_conference'"
      ],
      "text/plain": [
       "[1] \"ballooning stability analysis jet hmode discharge previous study stability large aspect ratio model equilibrium ideal mhd ballooning mode shown across bulk plasma exist two marginally stable value pressure gradient parameter define unstable zone separate first small stable region second large stable region close separatrix however first second region coalesce surface averaged current density exceeds critical value plasma region stable ballooning mode value pressure gradient paper extend result jet mode equilibrium using finite aspect ratio ballooning formalism ass relevance ideal ballooning stability discharge particular analyse shot time sec phase proceeding 16th european conference controlled fusion plasma physic european_conference\""
      ]
     },
     "metadata": {},
     "output_type": "display_data"
    }
   ],
   "source": [
    "docs[1]"
   ]
  },
  {
   "cell_type": "code",
   "execution_count": 8,
   "metadata": {
    "ExecuteTime": {
     "end_time": "2018-01-22T20:30:29.612434Z",
     "start_time": "2018-01-22T20:30:29.573Z"
    }
   },
   "outputs": [],
   "source": [
    "corpus <- Corpus(VectorSource(docs))"
   ]
  },
  {
   "cell_type": "code",
   "execution_count": 9,
   "metadata": {
    "ExecuteTime": {
     "end_time": "2018-01-22T20:30:32.314220Z",
     "start_time": "2018-01-22T20:30:31.338Z"
    }
   },
   "outputs": [],
   "source": [
    "# Create a document-term matrix for LDA\n",
    "dtm <- DocumentTermMatrix(corpus)"
   ]
  },
  {
   "cell_type": "code",
   "execution_count": 10,
   "metadata": {
    "ExecuteTime": {
     "end_time": "2018-01-22T20:30:33.268346Z",
     "start_time": "2018-01-22T20:30:33.233Z"
    }
   },
   "outputs": [
    {
     "data": {
      "text/plain": [
       "<<DocumentTermMatrix (documents: 8867, terms: 26244)>>\n",
       "Non-/sparse entries: 518644/232186904\n",
       "Sparsity           : 100%\n",
       "Maximal term length: 41\n",
       "Weighting          : term frequency (tf)"
      ]
     },
     "metadata": {},
     "output_type": "display_data"
    }
   ],
   "source": [
    "dtm"
   ]
  },
  {
   "cell_type": "markdown",
   "metadata": {},
   "source": [
    "## Finding number of topics:\n",
    "\n",
    "Using RScript to run instead of from jupyter notebook, as it takes very long compute time! \n",
    "\n",
    "script located [here](../src)"
   ]
  },
  {
   "cell_type": "code",
   "execution_count": null,
   "metadata": {
    "ExecuteTime": {
     "end_time": "2018-01-22T20:32:26.653701Z",
     "start_time": "2018-01-22T20:32:26.629Z"
    },
    "deletable": false,
    "editable": false,
    "run_control": {
     "frozen": true
    }
   },
   "outputs": [],
   "source": [
    "control_list_gibbs <- list(\n",
    "  burnin = 1000,\n",
    "  iter = 2000,\n",
    "  seed = 0:4,\n",
    "  nstart = 5,\n",
    "  best = TRUE\n",
    ")"
   ]
  },
  {
   "cell_type": "code",
   "execution_count": null,
   "metadata": {
    "ExecuteTime": {
     "end_time": "2018-01-22T20:32:50.443097Z",
     "start_time": "2018-01-22T20:32:26.964Z"
    },
    "deletable": false,
    "editable": false,
    "run_control": {
     "frozen": true
    },
    "scrolled": true
   },
   "outputs": [],
   "source": [
    "# Searching for the number of topics\n",
    "system.time(\n",
    "  topic_number <- FindTopicsNumber(\n",
    "    dtm,\n",
    "    topics = c(seq(5,10,1), seq(12, 20, 2), seq(25, 50, 5)),\n",
    "    metrics = c( \"Griffiths2004\", \"CaoJuan2009\", \"Arun2010\", \"Deveaud2014\"),\n",
    "    method = \"Gibbs\",\n",
    "    control = control_list_gibbs,\n",
    "    mc.cores = 40L,\n",
    "    verbose = TRUE\n",
    "  )\n",
    ")"
   ]
  },
  {
   "cell_type": "markdown",
   "metadata": {},
   "source": [
    "### Visualise different metrics:\n",
    "\n",
    "Using the plotting function in `ldatuning`"
   ]
  },
  {
   "cell_type": "code",
   "execution_count": 3,
   "metadata": {
    "ExecuteTime": {
     "end_time": "2018-01-23T11:56:19.603973Z",
     "start_time": "2018-01-23T11:52:41.203Z"
    }
   },
   "outputs": [
    {
     "name": "stdout",
     "output_type": "stream",
     "text": [
      "[1] \"topic_number\"  \"topic_number2\"\n"
     ]
    }
   ],
   "source": [
    "tm1 <- load('../src/res/tuning.topic_number.rdata')\n",
    "tm2 <- load('../src/res/tuning.topic_number2.rdata')\n",
    "print(c(tm1,tm2))"
   ]
  },
  {
   "cell_type": "code",
   "execution_count": 4,
   "metadata": {
    "ExecuteTime": {
     "start_time": "2018-01-23T11:57:24.068Z"
    }
   },
   "outputs": [
    {
     "data": {
      "text/html": [
       "<table>\n",
       "<thead><tr><th scope=col>topics</th><th scope=col>Griffiths2004</th><th scope=col>CaoJuan2009</th><th scope=col>Arun2010</th><th scope=col>Deveaud2014</th></tr></thead>\n",
       "<tbody>\n",
       "\t<tr><td> 5        </td><td>-5682676  </td><td>0.18603875</td><td>14902.744 </td><td>2.597773  </td></tr>\n",
       "\t<tr><td> 6        </td><td>-5605135  </td><td>0.15890029</td><td>14475.368 </td><td>2.614030  </td></tr>\n",
       "\t<tr><td> 7        </td><td>-5523768  </td><td>0.14557740</td><td>14121.137 </td><td>2.680473  </td></tr>\n",
       "\t<tr><td> 8        </td><td>-5459774  </td><td>0.13420091</td><td>13774.957 </td><td>2.688589  </td></tr>\n",
       "\t<tr><td> 9        </td><td>-5404150  </td><td>0.12797767</td><td>13568.253 </td><td>2.716940  </td></tr>\n",
       "\t<tr><td>10        </td><td>-5359914  </td><td>0.11282653</td><td>13285.166 </td><td>2.703158  </td></tr>\n",
       "\t<tr><td>12        </td><td>-5278835  </td><td>0.09375132</td><td>12839.992 </td><td>2.754645  </td></tr>\n",
       "\t<tr><td>14        </td><td>-5220615  </td><td>0.09816342</td><td>12568.100 </td><td>2.737206  </td></tr>\n",
       "\t<tr><td>16        </td><td>-5165167  </td><td>0.09009443</td><td>12245.949 </td><td>2.727204  </td></tr>\n",
       "\t<tr><td>18        </td><td>-5101420  </td><td>0.07912356</td><td>12006.317 </td><td>2.752504  </td></tr>\n",
       "\t<tr><td>20        </td><td>-5042471  </td><td>0.07531442</td><td>11746.057 </td><td>2.762490  </td></tr>\n",
       "\t<tr><td>25        </td><td>-4935759  </td><td>0.04982846</td><td>11188.329 </td><td>2.785271  </td></tr>\n",
       "\t<tr><td>30        </td><td>-4862426  </td><td>0.04464684</td><td>10759.206 </td><td>2.757185  </td></tr>\n",
       "\t<tr><td>35        </td><td>-4801704  </td><td>0.03561436</td><td>10344.808 </td><td>2.755048  </td></tr>\n",
       "\t<tr><td>40        </td><td>-4721206  </td><td>0.02940108</td><td>10030.322 </td><td>2.746872  </td></tr>\n",
       "\t<tr><td>45        </td><td>-4692475  </td><td>0.02751406</td><td> 9796.184 </td><td>2.704173  </td></tr>\n",
       "\t<tr><td>50        </td><td>-4655704  </td><td>0.02395317</td><td> 9524.728 </td><td>2.670577  </td></tr>\n",
       "</tbody>\n",
       "</table>\n"
      ],
      "text/latex": [
       "\\begin{tabular}{r|lllll}\n",
       " topics & Griffiths2004 & CaoJuan2009 & Arun2010 & Deveaud2014\\\\\n",
       "\\hline\n",
       "\t  5         & -5682676   & 0.18603875 & 14902.744  & 2.597773  \\\\\n",
       "\t  6         & -5605135   & 0.15890029 & 14475.368  & 2.614030  \\\\\n",
       "\t  7         & -5523768   & 0.14557740 & 14121.137  & 2.680473  \\\\\n",
       "\t  8         & -5459774   & 0.13420091 & 13774.957  & 2.688589  \\\\\n",
       "\t  9         & -5404150   & 0.12797767 & 13568.253  & 2.716940  \\\\\n",
       "\t 10         & -5359914   & 0.11282653 & 13285.166  & 2.703158  \\\\\n",
       "\t 12         & -5278835   & 0.09375132 & 12839.992  & 2.754645  \\\\\n",
       "\t 14         & -5220615   & 0.09816342 & 12568.100  & 2.737206  \\\\\n",
       "\t 16         & -5165167   & 0.09009443 & 12245.949  & 2.727204  \\\\\n",
       "\t 18         & -5101420   & 0.07912356 & 12006.317  & 2.752504  \\\\\n",
       "\t 20         & -5042471   & 0.07531442 & 11746.057  & 2.762490  \\\\\n",
       "\t 25         & -4935759   & 0.04982846 & 11188.329  & 2.785271  \\\\\n",
       "\t 30         & -4862426   & 0.04464684 & 10759.206  & 2.757185  \\\\\n",
       "\t 35         & -4801704   & 0.03561436 & 10344.808  & 2.755048  \\\\\n",
       "\t 40         & -4721206   & 0.02940108 & 10030.322  & 2.746872  \\\\\n",
       "\t 45         & -4692475   & 0.02751406 &  9796.184  & 2.704173  \\\\\n",
       "\t 50         & -4655704   & 0.02395317 &  9524.728  & 2.670577  \\\\\n",
       "\\end{tabular}\n"
      ],
      "text/markdown": [
       "\n",
       "topics | Griffiths2004 | CaoJuan2009 | Arun2010 | Deveaud2014 | \n",
       "|---|---|---|---|---|---|---|---|---|---|---|---|---|---|---|---|---|\n",
       "|  5         | -5682676   | 0.18603875 | 14902.744  | 2.597773   | \n",
       "|  6         | -5605135   | 0.15890029 | 14475.368  | 2.614030   | \n",
       "|  7         | -5523768   | 0.14557740 | 14121.137  | 2.680473   | \n",
       "|  8         | -5459774   | 0.13420091 | 13774.957  | 2.688589   | \n",
       "|  9         | -5404150   | 0.12797767 | 13568.253  | 2.716940   | \n",
       "| 10         | -5359914   | 0.11282653 | 13285.166  | 2.703158   | \n",
       "| 12         | -5278835   | 0.09375132 | 12839.992  | 2.754645   | \n",
       "| 14         | -5220615   | 0.09816342 | 12568.100  | 2.737206   | \n",
       "| 16         | -5165167   | 0.09009443 | 12245.949  | 2.727204   | \n",
       "| 18         | -5101420   | 0.07912356 | 12006.317  | 2.752504   | \n",
       "| 20         | -5042471   | 0.07531442 | 11746.057  | 2.762490   | \n",
       "| 25         | -4935759   | 0.04982846 | 11188.329  | 2.785271   | \n",
       "| 30         | -4862426   | 0.04464684 | 10759.206  | 2.757185   | \n",
       "| 35         | -4801704   | 0.03561436 | 10344.808  | 2.755048   | \n",
       "| 40         | -4721206   | 0.02940108 | 10030.322  | 2.746872   | \n",
       "| 45         | -4692475   | 0.02751406 |  9796.184  | 2.704173   | \n",
       "| 50         | -4655704   | 0.02395317 |  9524.728  | 2.670577   | \n",
       "\n",
       "\n"
      ],
      "text/plain": [
       "   topics Griffiths2004 CaoJuan2009 Arun2010  Deveaud2014\n",
       "1   5     -5682676      0.18603875  14902.744 2.597773   \n",
       "2   6     -5605135      0.15890029  14475.368 2.614030   \n",
       "3   7     -5523768      0.14557740  14121.137 2.680473   \n",
       "4   8     -5459774      0.13420091  13774.957 2.688589   \n",
       "5   9     -5404150      0.12797767  13568.253 2.716940   \n",
       "6  10     -5359914      0.11282653  13285.166 2.703158   \n",
       "7  12     -5278835      0.09375132  12839.992 2.754645   \n",
       "8  14     -5220615      0.09816342  12568.100 2.737206   \n",
       "9  16     -5165167      0.09009443  12245.949 2.727204   \n",
       "10 18     -5101420      0.07912356  12006.317 2.752504   \n",
       "11 20     -5042471      0.07531442  11746.057 2.762490   \n",
       "12 25     -4935759      0.04982846  11188.329 2.785271   \n",
       "13 30     -4862426      0.04464684  10759.206 2.757185   \n",
       "14 35     -4801704      0.03561436  10344.808 2.755048   \n",
       "15 40     -4721206      0.02940108  10030.322 2.746872   \n",
       "16 45     -4692475      0.02751406   9796.184 2.704173   \n",
       "17 50     -4655704      0.02395317   9524.728 2.670577   "
      ]
     },
     "metadata": {},
     "output_type": "display_data"
    }
   ],
   "source": [
    "topic_number"
   ]
  },
  {
   "cell_type": "code",
   "execution_count": 8,
   "metadata": {},
   "outputs": [
    {
     "data": {
      "text/html": [
       "<table>\n",
       "<thead><tr><th scope=col>topics</th><th scope=col>Griffiths2004</th><th scope=col>CaoJuan2009</th><th scope=col>Arun2010</th><th scope=col>Deveaud2014</th></tr></thead>\n",
       "<tbody>\n",
       "\t<tr><td> 60       </td><td>-4613587  </td><td>0.02144282</td><td>9153.749  </td><td>2.591542  </td></tr>\n",
       "\t<tr><td> 70       </td><td>-4585555  </td><td>0.01947819</td><td>8876.824  </td><td>2.504680  </td></tr>\n",
       "\t<tr><td> 80       </td><td>-4570630  </td><td>0.01834712</td><td>8627.480  </td><td>2.411917  </td></tr>\n",
       "\t<tr><td> 90       </td><td>-4542534  </td><td>0.01634209</td><td>8391.698  </td><td>2.346231  </td></tr>\n",
       "\t<tr><td>100       </td><td>-4544313  </td><td>0.01687175</td><td>8251.357  </td><td>2.264914  </td></tr>\n",
       "</tbody>\n",
       "</table>\n"
      ],
      "text/latex": [
       "\\begin{tabular}{r|lllll}\n",
       " topics & Griffiths2004 & CaoJuan2009 & Arun2010 & Deveaud2014\\\\\n",
       "\\hline\n",
       "\t  60        & -4613587   & 0.02144282 & 9153.749   & 2.591542  \\\\\n",
       "\t  70        & -4585555   & 0.01947819 & 8876.824   & 2.504680  \\\\\n",
       "\t  80        & -4570630   & 0.01834712 & 8627.480   & 2.411917  \\\\\n",
       "\t  90        & -4542534   & 0.01634209 & 8391.698   & 2.346231  \\\\\n",
       "\t 100        & -4544313   & 0.01687175 & 8251.357   & 2.264914  \\\\\n",
       "\\end{tabular}\n"
      ],
      "text/markdown": [
       "\n",
       "topics | Griffiths2004 | CaoJuan2009 | Arun2010 | Deveaud2014 | \n",
       "|---|---|---|---|---|\n",
       "|  60        | -4613587   | 0.02144282 | 9153.749   | 2.591542   | \n",
       "|  70        | -4585555   | 0.01947819 | 8876.824   | 2.504680   | \n",
       "|  80        | -4570630   | 0.01834712 | 8627.480   | 2.411917   | \n",
       "|  90        | -4542534   | 0.01634209 | 8391.698   | 2.346231   | \n",
       "| 100        | -4544313   | 0.01687175 | 8251.357   | 2.264914   | \n",
       "\n",
       "\n"
      ],
      "text/plain": [
       "  topics Griffiths2004 CaoJuan2009 Arun2010 Deveaud2014\n",
       "1  60    -4613587      0.02144282  9153.749 2.591542   \n",
       "2  70    -4585555      0.01947819  8876.824 2.504680   \n",
       "3  80    -4570630      0.01834712  8627.480 2.411917   \n",
       "4  90    -4542534      0.01634209  8391.698 2.346231   \n",
       "5 100    -4544313      0.01687175  8251.357 2.264914   "
      ]
     },
     "metadata": {},
     "output_type": "display_data"
    }
   ],
   "source": [
    "topic_number2"
   ]
  },
  {
   "cell_type": "code",
   "execution_count": 5,
   "metadata": {},
   "outputs": [],
   "source": [
    "all_models <- rbind(topic_number, topic_number2)"
   ]
  },
  {
   "cell_type": "code",
   "execution_count": 13,
   "metadata": {},
   "outputs": [],
   "source": [
    "pdf('plot.pdf')"
   ]
  },
  {
   "cell_type": "code",
   "execution_count": 14,
   "metadata": {
    "scrolled": false
   },
   "outputs": [
    {
     "data": {
      "image/png": "[encoded data removed]",
      "text/plain": [
       "plot without title"
      ]
     },
     "metadata": {},
     "output_type": "display_data"
    }
   ],
   "source": [
    "plt <- FindTopicsNumber_plot(all_models)"
   ]
  },
  {
   "cell_type": "code",
   "execution_count": 15,
   "metadata": {},
   "outputs": [
    {
     "name": "stdout",
     "output_type": "stream",
     "text": [
      "NULL\n"
     ]
    }
   ],
   "source": [
    "print(plt)"
   ]
  },
  {
   "cell_type": "code",
   "execution_count": 16,
   "metadata": {},
   "outputs": [
    {
     "data": {
      "text/html": [
       "<strong>pdf:</strong> 3"
      ],
      "text/latex": [
       "\\textbf{pdf:} 3"
      ],
      "text/markdown": [
       "**pdf:** 3"
      ],
      "text/plain": [
       "pdf \n",
       "  3 "
      ]
     },
     "metadata": {},
     "output_type": "display_data"
    }
   ],
   "source": [
    "dev.off()"
   ]
  },
  {
   "cell_type": "markdown",
   "metadata": {},
   "source": [
    "## CTM"
   ]
  },
  {
   "cell_type": "code",
   "execution_count": 1,
   "metadata": {},
   "outputs": [],
   "source": [
    "control_list_ctm <- list(\n",
    "  seed = 5:9,\n",
    "  nstart = 5,\n",
    "  best = TRUE\n",
    ")"
   ]
  },
  {
   "cell_type": "code",
   "execution_count": 8,
   "metadata": {},
   "outputs": [
    {
     "ename": "ERROR",
     "evalue": "Error in is(x, \"DocumentTermMatrix\"): object 'dtm' not found\n",
     "output_type": "error",
     "traceback": [
      "Error in is(x, \"DocumentTermMatrix\"): object 'dtm' not found\nTraceback:\n",
      "1. CTM(k = 20, x = dtm, control = control_list_ctm)",
      "2. is(x, \"DocumentTermMatrix\")"
     ]
    }
   ],
   "source": [
    "ctm_20 <-CTM(k=20, x=dtm, control=control_list_ctm)"
   ]
  },
  {
   "cell_type": "code",
   "execution_count": null,
   "metadata": {},
   "outputs": [],
   "source": []
  }
 ],
 "metadata": {
  "kernelspec": {
   "display_name": "R",
   "language": "R",
   "name": "ir"
  },
  "language_info": {
   "codemirror_mode": "r",
   "file_extension": ".r",
   "mimetype": "text/x-r-source",
   "name": "R",
   "pygments_lexer": "r",
   "version": "3.4.1"
  },
  "toc": {
   "nav_menu": {},
   "number_sections": true,
   "sideBar": true,
   "skip_h1_title": false,
   "toc_cell": false,
   "toc_position": {},
   "toc_section_display": "block",
   "toc_window_display": false
  },
  "varInspector": {
   "cols": {
    "lenName": 16,
    "lenType": 16,
    "lenVar": 40
   },
   "kernels_config": {
    "python": {
     "delete_cmd_postfix": "",
     "delete_cmd_prefix": "del ",
     "library": "var_list.py",
     "varRefreshCmd": "print(var_dic_list())"
    },
    "r": {
     "delete_cmd_postfix": ") ",
     "delete_cmd_prefix": "rm(",
     "library": "var_list.r",
     "varRefreshCmd": "cat(var_dic_list()) "
    }
   },
   "types_to_exclude": [
    "module",
    "function",
    "builtin_function_or_method",
    "instance",
    "_Feature"
   ],
   "window_display": false
  }
 },
 "nbformat": 4,
 "nbformat_minor": 2
}
