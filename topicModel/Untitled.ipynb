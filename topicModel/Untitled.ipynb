{
 "cells": [
  {
   "cell_type": "markdown",
   "metadata": {},
   "source": [
    "# Topic distribution for PoInf / Publications\n",
    "\n",
    "Using the bag of words generated from the corpus, and the topic models generated, I now use them to project publications in the LDA topic space, as well as for the individuals in the School"
   ]
  },
  {
   "cell_type": "code",
   "execution_count": 1,
   "metadata": {
    "ExecuteTime": {
     "end_time": "2017-11-23T01:00:56.232462Z",
     "start_time": "2017-11-23T01:00:52.718800Z"
    }
   },
   "outputs": [],
   "source": [
    "import pandas as pd\n",
    "import cPickle as pkl"
   ]
  },
  {
   "cell_type": "code",
   "execution_count": 12,
   "metadata": {
    "ExecuteTime": {
     "end_time": "2017-11-23T01:16:28.652835Z",
     "start_time": "2017-11-23T01:16:28.649689Z"
    }
   },
   "outputs": [],
   "source": [
    "from gensim import models\n",
    "from gensim.corpora import Dictionary"
   ]
  },
  {
   "cell_type": "code",
   "execution_count": 6,
   "metadata": {
    "ExecuteTime": {
     "end_time": "2017-11-23T01:06:41.996165Z",
     "start_time": "2017-11-23T01:06:40.503285Z"
    }
   },
   "outputs": [],
   "source": [
    "lookup_pub = pkl.load(open('../infnet-analysis/data/lookup_pub.pkl', 'rb'))\n",
    "lookup_poinf = pkl.load(open('../infnet-analysis/data/lookup_poinf.pkl','rb'))\n",
    "pub_toks = pkl.load(open('../infnet-scrapper/data/pub_toks.pkl','rb'))"
   ]
  },
  {
   "cell_type": "code",
   "execution_count": 4,
   "metadata": {
    "ExecuteTime": {
     "end_time": "2017-11-23T01:03:12.201914Z",
     "start_time": "2017-11-23T01:03:12.152287Z"
    }
   },
   "outputs": [
    {
     "data": {
      "text/html": [
       "<div>\n",
       "<style scoped>\n",
       "    .dataframe tbody tr th:only-of-type {\n",
       "        vertical-align: middle;\n",
       "    }\n",
       "\n",
       "    .dataframe tbody tr th {\n",
       "        vertical-align: top;\n",
       "    }\n",
       "\n",
       "    .dataframe thead th {\n",
       "        text-align: right;\n",
       "    }\n",
       "</style>\n",
       "<table border=\"1\" class=\"dataframe\">\n",
       "  <thead>\n",
       "    <tr style=\"text-align: right;\">\n",
       "      <th></th>\n",
       "      <th>year</th>\n",
       "      <th>authors</th>\n",
       "      <th>shortnames</th>\n",
       "      <th>collab_id</th>\n",
       "      <th>edges</th>\n",
       "    </tr>\n",
       "    <tr>\n",
       "      <th>pub_id</th>\n",
       "      <th></th>\n",
       "      <th></th>\n",
       "      <th></th>\n",
       "      <th></th>\n",
       "      <th></th>\n",
       "    </tr>\n",
       "  </thead>\n",
       "  <tbody>\n",
       "    <tr>\n",
       "      <th>400818dc-63af-4a26-80c5-906f98e1f8ab</th>\n",
       "      <td>1989</td>\n",
       "      <td>d.p. o'brien|r. galvao|m. keilhacker|e. lazzar...</td>\n",
       "      <td>brien, d. p.|galvao, r.|keilhacker, m.|lazzaro...</td>\n",
       "      <td>[324, 1942, 560, 5635, 5099, a78a09b5-138e-407...</td>\n",
       "      <td>[(324, 1942), (324, 560), (324, 5635), (324, 5...</td>\n",
       "    </tr>\n",
       "    <tr>\n",
       "      <th>18b1a861-afef-4fff-bc80-d02e05be18c4</th>\n",
       "      <td>2013</td>\n",
       "      <td>paolo guagliardo|piotr wieczorek</td>\n",
       "      <td>guagliardo, p.|wieczorek, p.</td>\n",
       "      <td>[653c9723-b374-4ad3-9cef-0f7e7f45d812, 4953]</td>\n",
       "      <td>[(653c9723-b374-4ad3-9cef-0f7e7f45d812, 4953)]</td>\n",
       "    </tr>\n",
       "    <tr>\n",
       "      <th>309fdbfc-227b-4588-9264-f0f4e3cadfcb</th>\n",
       "      <td>1994</td>\n",
       "      <td>p. buneman|l. libkin|d. suciu|v. tannen|l. wong</td>\n",
       "      <td>buneman, p.|libkin, l.|suciu, d.|tannen, v. |w...</td>\n",
       "      <td>[90396347-473b-4fba-8b1d-a1d25ea18b6b, a22b33f...</td>\n",
       "      <td>[(90396347-473b-4fba-8b1d-a1d25ea18b6b, a22b33...</td>\n",
       "    </tr>\n",
       "    <tr>\n",
       "      <th>d5814bab-5fc2-4c31-92b7-543c7ce75cb4</th>\n",
       "      <td>2012</td>\n",
       "      <td>p.l. de leon|m. pucher|j. yamagishi|i. hernaez...</td>\n",
       "      <td>leon, p. l.|pucher, m.|yamagishi, j.|hernaez, ...</td>\n",
       "      <td>[1180, 5318, 4d11a99a-0d04-42f4-8089-d433a57c2...</td>\n",
       "      <td>[(1180, 5318), (1180, 4d11a99a-0d04-42f4-8089-...</td>\n",
       "    </tr>\n",
       "  </tbody>\n",
       "</table>\n",
       "</div>"
      ],
      "text/plain": [
       "                                      year  \\\n",
       "pub_id                                       \n",
       "400818dc-63af-4a26-80c5-906f98e1f8ab  1989   \n",
       "18b1a861-afef-4fff-bc80-d02e05be18c4  2013   \n",
       "309fdbfc-227b-4588-9264-f0f4e3cadfcb  1994   \n",
       "d5814bab-5fc2-4c31-92b7-543c7ce75cb4  2012   \n",
       "\n",
       "                                                                                authors  \\\n",
       "pub_id                                                                                    \n",
       "400818dc-63af-4a26-80c5-906f98e1f8ab  d.p. o'brien|r. galvao|m. keilhacker|e. lazzar...   \n",
       "18b1a861-afef-4fff-bc80-d02e05be18c4                   paolo guagliardo|piotr wieczorek   \n",
       "309fdbfc-227b-4588-9264-f0f4e3cadfcb    p. buneman|l. libkin|d. suciu|v. tannen|l. wong   \n",
       "d5814bab-5fc2-4c31-92b7-543c7ce75cb4  p.l. de leon|m. pucher|j. yamagishi|i. hernaez...   \n",
       "\n",
       "                                                                             shortnames  \\\n",
       "pub_id                                                                                    \n",
       "400818dc-63af-4a26-80c5-906f98e1f8ab  brien, d. p.|galvao, r.|keilhacker, m.|lazzaro...   \n",
       "18b1a861-afef-4fff-bc80-d02e05be18c4                       guagliardo, p.|wieczorek, p.   \n",
       "309fdbfc-227b-4588-9264-f0f4e3cadfcb  buneman, p.|libkin, l.|suciu, d.|tannen, v. |w...   \n",
       "d5814bab-5fc2-4c31-92b7-543c7ce75cb4  leon, p. l.|pucher, m.|yamagishi, j.|hernaez, ...   \n",
       "\n",
       "                                                                              collab_id  \\\n",
       "pub_id                                                                                    \n",
       "400818dc-63af-4a26-80c5-906f98e1f8ab  [324, 1942, 560, 5635, 5099, a78a09b5-138e-407...   \n",
       "18b1a861-afef-4fff-bc80-d02e05be18c4       [653c9723-b374-4ad3-9cef-0f7e7f45d812, 4953]   \n",
       "309fdbfc-227b-4588-9264-f0f4e3cadfcb  [90396347-473b-4fba-8b1d-a1d25ea18b6b, a22b33f...   \n",
       "d5814bab-5fc2-4c31-92b7-543c7ce75cb4  [1180, 5318, 4d11a99a-0d04-42f4-8089-d433a57c2...   \n",
       "\n",
       "                                                                                  edges  \n",
       "pub_id                                                                                   \n",
       "400818dc-63af-4a26-80c5-906f98e1f8ab  [(324, 1942), (324, 560), (324, 5635), (324, 5...  \n",
       "18b1a861-afef-4fff-bc80-d02e05be18c4     [(653c9723-b374-4ad3-9cef-0f7e7f45d812, 4953)]  \n",
       "309fdbfc-227b-4588-9264-f0f4e3cadfcb  [(90396347-473b-4fba-8b1d-a1d25ea18b6b, a22b33...  \n",
       "d5814bab-5fc2-4c31-92b7-543c7ce75cb4  [(1180, 5318), (1180, 4d11a99a-0d04-42f4-8089-...  "
      ]
     },
     "execution_count": 4,
     "metadata": {},
     "output_type": "execute_result"
    }
   ],
   "source": [
    "lookup_pub.head(4)"
   ]
  },
  {
   "cell_type": "code",
   "execution_count": 5,
   "metadata": {
    "ExecuteTime": {
     "end_time": "2017-11-23T01:03:19.194093Z",
     "start_time": "2017-11-23T01:03:19.161609Z"
    }
   },
   "outputs": [
    {
     "data": {
      "text/html": [
       "<div>\n",
       "<style scoped>\n",
       "    .dataframe tbody tr th:only-of-type {\n",
       "        vertical-align: middle;\n",
       "    }\n",
       "\n",
       "    .dataframe tbody tr th {\n",
       "        vertical-align: top;\n",
       "    }\n",
       "\n",
       "    .dataframe thead th {\n",
       "        text-align: right;\n",
       "    }\n",
       "</style>\n",
       "<table border=\"1\" class=\"dataframe\">\n",
       "  <thead>\n",
       "    <tr style=\"text-align: right;\">\n",
       "      <th></th>\n",
       "      <th>last_name</th>\n",
       "      <th>first_name</th>\n",
       "      <th>perseonal_url</th>\n",
       "      <th>position</th>\n",
       "      <th>parent</th>\n",
       "      <th>institute</th>\n",
       "      <th>full_name</th>\n",
       "      <th>institute_class</th>\n",
       "      <th>alias</th>\n",
       "    </tr>\n",
       "    <tr>\n",
       "      <th>id</th>\n",
       "      <th></th>\n",
       "      <th></th>\n",
       "      <th></th>\n",
       "      <th></th>\n",
       "      <th></th>\n",
       "      <th></th>\n",
       "      <th></th>\n",
       "      <th></th>\n",
       "      <th></th>\n",
       "    </tr>\n",
       "  </thead>\n",
       "  <tbody>\n",
       "    <tr>\n",
       "      <th>003ec9bb-18aa-4e6e-95e9-359f0968262a</th>\n",
       "      <td>gray</td>\n",
       "      <td>gavin</td>\n",
       "      <td>http://www.research.ed.ac.uk/portal/en/persons...</td>\n",
       "      <td>research assistant</td>\n",
       "      <td>school of informatics</td>\n",
       "      <td>institute for computing systems architecture</td>\n",
       "      <td>gray gavin</td>\n",
       "      <td>5</td>\n",
       "      <td>NaN</td>\n",
       "    </tr>\n",
       "    <tr>\n",
       "      <th>010f9bf0-c04c-4cfb-ab3d-ca150de1e706</th>\n",
       "      <td>jackson</td>\n",
       "      <td>paul</td>\n",
       "      <td>http://www.research.ed.ac.uk/portal/en/persons...</td>\n",
       "      <td>senior lecturer</td>\n",
       "      <td>school of informatics</td>\n",
       "      <td>institute for computing systems architecture</td>\n",
       "      <td>jackson paul</td>\n",
       "      <td>5</td>\n",
       "      <td>jackson, p. b.|jackson, p.</td>\n",
       "    </tr>\n",
       "    <tr>\n",
       "      <th>02c86de2-0fc9-4f6d-aee9-93b0f7557c84</th>\n",
       "      <td>franke</td>\n",
       "      <td>bjoern</td>\n",
       "      <td>http://www.research.ed.ac.uk/portal/en/persons...</td>\n",
       "      <td>reader</td>\n",
       "      <td>school of informatics</td>\n",
       "      <td>institute of language cognition and computation</td>\n",
       "      <td>franke bjoern</td>\n",
       "      <td>2</td>\n",
       "      <td>franke, b.</td>\n",
       "    </tr>\n",
       "    <tr>\n",
       "      <th>02df029e-077b-407c-8e24-1392a9ed8060</th>\n",
       "      <td>sevilla-lara</td>\n",
       "      <td>laura</td>\n",
       "      <td>http://www.research.ed.ac.uk/portal/en/persons...</td>\n",
       "      <td>lecturer reader in image and vision computing</td>\n",
       "      <td>school of informatics</td>\n",
       "      <td>UNKNOWN</td>\n",
       "      <td>sevilla-lara laura</td>\n",
       "      <td>0</td>\n",
       "      <td>NaN</td>\n",
       "    </tr>\n",
       "  </tbody>\n",
       "</table>\n",
       "</div>"
      ],
      "text/plain": [
       "                                         last_name first_name  \\\n",
       "id                                                              \n",
       "003ec9bb-18aa-4e6e-95e9-359f0968262a          gray      gavin   \n",
       "010f9bf0-c04c-4cfb-ab3d-ca150de1e706       jackson       paul   \n",
       "02c86de2-0fc9-4f6d-aee9-93b0f7557c84        franke     bjoern   \n",
       "02df029e-077b-407c-8e24-1392a9ed8060  sevilla-lara      laura   \n",
       "\n",
       "                                                                          perseonal_url  \\\n",
       "id                                                                                        \n",
       "003ec9bb-18aa-4e6e-95e9-359f0968262a  http://www.research.ed.ac.uk/portal/en/persons...   \n",
       "010f9bf0-c04c-4cfb-ab3d-ca150de1e706  http://www.research.ed.ac.uk/portal/en/persons...   \n",
       "02c86de2-0fc9-4f6d-aee9-93b0f7557c84  http://www.research.ed.ac.uk/portal/en/persons...   \n",
       "02df029e-077b-407c-8e24-1392a9ed8060  http://www.research.ed.ac.uk/portal/en/persons...   \n",
       "\n",
       "                                                                           position  \\\n",
       "id                                                                                    \n",
       "003ec9bb-18aa-4e6e-95e9-359f0968262a                             research assistant   \n",
       "010f9bf0-c04c-4cfb-ab3d-ca150de1e706                                senior lecturer   \n",
       "02c86de2-0fc9-4f6d-aee9-93b0f7557c84                                         reader   \n",
       "02df029e-077b-407c-8e24-1392a9ed8060  lecturer reader in image and vision computing   \n",
       "\n",
       "                                                     parent  \\\n",
       "id                                                            \n",
       "003ec9bb-18aa-4e6e-95e9-359f0968262a  school of informatics   \n",
       "010f9bf0-c04c-4cfb-ab3d-ca150de1e706  school of informatics   \n",
       "02c86de2-0fc9-4f6d-aee9-93b0f7557c84  school of informatics   \n",
       "02df029e-077b-407c-8e24-1392a9ed8060  school of informatics   \n",
       "\n",
       "                                                                            institute  \\\n",
       "id                                                                                      \n",
       "003ec9bb-18aa-4e6e-95e9-359f0968262a     institute for computing systems architecture   \n",
       "010f9bf0-c04c-4cfb-ab3d-ca150de1e706     institute for computing systems architecture   \n",
       "02c86de2-0fc9-4f6d-aee9-93b0f7557c84  institute of language cognition and computation   \n",
       "02df029e-077b-407c-8e24-1392a9ed8060                                          UNKNOWN   \n",
       "\n",
       "                                               full_name  institute_class  \\\n",
       "id                                                                          \n",
       "003ec9bb-18aa-4e6e-95e9-359f0968262a          gray gavin                5   \n",
       "010f9bf0-c04c-4cfb-ab3d-ca150de1e706        jackson paul                5   \n",
       "02c86de2-0fc9-4f6d-aee9-93b0f7557c84       franke bjoern                2   \n",
       "02df029e-077b-407c-8e24-1392a9ed8060  sevilla-lara laura                0   \n",
       "\n",
       "                                                           alias  \n",
       "id                                                                \n",
       "003ec9bb-18aa-4e6e-95e9-359f0968262a                         NaN  \n",
       "010f9bf0-c04c-4cfb-ab3d-ca150de1e706  jackson, p. b.|jackson, p.  \n",
       "02c86de2-0fc9-4f6d-aee9-93b0f7557c84                  franke, b.  \n",
       "02df029e-077b-407c-8e24-1392a9ed8060                         NaN  "
      ]
     },
     "execution_count": 5,
     "metadata": {},
     "output_type": "execute_result"
    }
   ],
   "source": [
    "lookup_poinf.head(4)"
   ]
  },
  {
   "cell_type": "code",
   "execution_count": 7,
   "metadata": {
    "ExecuteTime": {
     "end_time": "2017-11-23T01:06:51.000649Z",
     "start_time": "2017-11-23T01:06:50.967433Z"
    }
   },
   "outputs": [
    {
     "data": {
      "text/html": [
       "<div>\n",
       "<style scoped>\n",
       "    .dataframe tbody tr th:only-of-type {\n",
       "        vertical-align: middle;\n",
       "    }\n",
       "\n",
       "    .dataframe tbody tr th {\n",
       "        vertical-align: top;\n",
       "    }\n",
       "\n",
       "    .dataframe thead th {\n",
       "        text-align: right;\n",
       "    }\n",
       "</style>\n",
       "<table border=\"1\" class=\"dataframe\">\n",
       "  <thead>\n",
       "    <tr style=\"text-align: right;\">\n",
       "      <th></th>\n",
       "      <th>year</th>\n",
       "      <th>summary_toks</th>\n",
       "    </tr>\n",
       "    <tr>\n",
       "      <th>pub_id</th>\n",
       "      <th></th>\n",
       "      <th></th>\n",
       "    </tr>\n",
       "  </thead>\n",
       "  <tbody>\n",
       "    <tr>\n",
       "      <th>400818dc-63af-4a26-80c5-906f98e1f8ab</th>\n",
       "      <td>1989</td>\n",
       "      <td>[balloon, stabil, analysi, jet, hmode, dischar...</td>\n",
       "    </tr>\n",
       "    <tr>\n",
       "      <th>18b1a861-afef-4fff-bc80-d02e05be18c4</th>\n",
       "      <td>2013</td>\n",
       "      <td>[queri, process, data, integr, chapter, illust...</td>\n",
       "    </tr>\n",
       "    <tr>\n",
       "      <th>309fdbfc-227b-4588-9264-f0f4e3cadfcb</th>\n",
       "      <td>1994</td>\n",
       "      <td>[comprehens, syntax, syntax, comprehens, close...</td>\n",
       "    </tr>\n",
       "    <tr>\n",
       "      <th>d5814bab-5fc2-4c31-92b7-543c7ce75cb4</th>\n",
       "      <td>2012</td>\n",
       "      <td>[evalu, speaker, verif, secur, detect, hmmbase...</td>\n",
       "    </tr>\n",
       "  </tbody>\n",
       "</table>\n",
       "</div>"
      ],
      "text/plain": [
       "                                      year  \\\n",
       "pub_id                                       \n",
       "400818dc-63af-4a26-80c5-906f98e1f8ab  1989   \n",
       "18b1a861-afef-4fff-bc80-d02e05be18c4  2013   \n",
       "309fdbfc-227b-4588-9264-f0f4e3cadfcb  1994   \n",
       "d5814bab-5fc2-4c31-92b7-543c7ce75cb4  2012   \n",
       "\n",
       "                                                                           summary_toks  \n",
       "pub_id                                                                                   \n",
       "400818dc-63af-4a26-80c5-906f98e1f8ab  [balloon, stabil, analysi, jet, hmode, dischar...  \n",
       "18b1a861-afef-4fff-bc80-d02e05be18c4  [queri, process, data, integr, chapter, illust...  \n",
       "309fdbfc-227b-4588-9264-f0f4e3cadfcb  [comprehens, syntax, syntax, comprehens, close...  \n",
       "d5814bab-5fc2-4c31-92b7-543c7ce75cb4  [evalu, speaker, verif, secur, detect, hmmbase...  "
      ]
     },
     "execution_count": 7,
     "metadata": {},
     "output_type": "execute_result"
    }
   ],
   "source": [
    "pub_toks.head(4)"
   ]
  },
  {
   "cell_type": "markdown",
   "metadata": {},
   "source": [
    "# Topic Distribution by Publications"
   ]
  },
  {
   "cell_type": "code",
   "execution_count": 8,
   "metadata": {
    "ExecuteTime": {
     "end_time": "2017-11-23T01:08:18.663239Z",
     "start_time": "2017-11-23T01:08:13.755757Z"
    }
   },
   "outputs": [],
   "source": [
    "# Load Dictionary to convert words to id:\n",
    "dictionary = pkl.load(open('../topicModel/dictionary.pkl','rb'))"
   ]
  },
  {
   "cell_type": "code",
   "execution_count": 9,
   "metadata": {
    "ExecuteTime": {
     "end_time": "2017-11-23T01:09:26.123546Z",
     "start_time": "2017-11-23T01:09:24.799783Z"
    }
   },
   "outputs": [],
   "source": [
    "# Convert tokens to bow:\n",
    "bowified = lambda row: dictionary.doc2bow(row.summary_toks)\n",
    "pub_toks['bow'] = pub_toks.apply(bowified, axis=1)"
   ]
  },
  {
   "cell_type": "code",
   "execution_count": 11,
   "metadata": {
    "ExecuteTime": {
     "end_time": "2017-11-23T01:11:34.403785Z",
     "start_time": "2017-11-23T01:11:34.323427Z"
    }
   },
   "outputs": [
    {
     "data": {
      "text/html": [
       "<div>\n",
       "<style scoped>\n",
       "    .dataframe tbody tr th:only-of-type {\n",
       "        vertical-align: middle;\n",
       "    }\n",
       "\n",
       "    .dataframe tbody tr th {\n",
       "        vertical-align: top;\n",
       "    }\n",
       "\n",
       "    .dataframe thead th {\n",
       "        text-align: right;\n",
       "    }\n",
       "</style>\n",
       "<table border=\"1\" class=\"dataframe\">\n",
       "  <thead>\n",
       "    <tr style=\"text-align: right;\">\n",
       "      <th></th>\n",
       "      <th>year</th>\n",
       "      <th>summary_toks</th>\n",
       "      <th>bow</th>\n",
       "    </tr>\n",
       "    <tr>\n",
       "      <th>pub_id</th>\n",
       "      <th></th>\n",
       "      <th></th>\n",
       "      <th></th>\n",
       "    </tr>\n",
       "  </thead>\n",
       "  <tbody>\n",
       "    <tr>\n",
       "      <th>400818dc-63af-4a26-80c5-906f98e1f8ab</th>\n",
       "      <td>1989</td>\n",
       "      <td>[balloon, stabil, analysi, jet, hmode, dischar...</td>\n",
       "      <td>[(40, 2), (156, 1), (223, 2), (293, 2), (328, ...</td>\n",
       "    </tr>\n",
       "    <tr>\n",
       "      <th>18b1a861-afef-4fff-bc80-d02e05be18c4</th>\n",
       "      <td>2013</td>\n",
       "      <td>[queri, process, data, integr, chapter, illust...</td>\n",
       "      <td>[(40, 1), (229, 1), (253, 1), (319, 2), (330, ...</td>\n",
       "    </tr>\n",
       "    <tr>\n",
       "      <th>309fdbfc-227b-4588-9264-f0f4e3cadfcb</th>\n",
       "      <td>1994</td>\n",
       "      <td>[comprehens, syntax, syntax, comprehens, close...</td>\n",
       "      <td>[(90, 3), (123, 1), (186, 1), (189, 5), (196, ...</td>\n",
       "    </tr>\n",
       "    <tr>\n",
       "      <th>d5814bab-5fc2-4c31-92b7-543c7ce75cb4</th>\n",
       "      <td>2012</td>\n",
       "      <td>[evalu, speaker, verif, secur, detect, hmmbase...</td>\n",
       "      <td>[(18, 1), (28, 1), (29, 2), (30, 1), (63, 1), ...</td>\n",
       "    </tr>\n",
       "  </tbody>\n",
       "</table>\n",
       "</div>"
      ],
      "text/plain": [
       "                                      year  \\\n",
       "pub_id                                       \n",
       "400818dc-63af-4a26-80c5-906f98e1f8ab  1989   \n",
       "18b1a861-afef-4fff-bc80-d02e05be18c4  2013   \n",
       "309fdbfc-227b-4588-9264-f0f4e3cadfcb  1994   \n",
       "d5814bab-5fc2-4c31-92b7-543c7ce75cb4  2012   \n",
       "\n",
       "                                                                           summary_toks  \\\n",
       "pub_id                                                                                    \n",
       "400818dc-63af-4a26-80c5-906f98e1f8ab  [balloon, stabil, analysi, jet, hmode, dischar...   \n",
       "18b1a861-afef-4fff-bc80-d02e05be18c4  [queri, process, data, integr, chapter, illust...   \n",
       "309fdbfc-227b-4588-9264-f0f4e3cadfcb  [comprehens, syntax, syntax, comprehens, close...   \n",
       "d5814bab-5fc2-4c31-92b7-543c7ce75cb4  [evalu, speaker, verif, secur, detect, hmmbase...   \n",
       "\n",
       "                                                                                    bow  \n",
       "pub_id                                                                                   \n",
       "400818dc-63af-4a26-80c5-906f98e1f8ab  [(40, 2), (156, 1), (223, 2), (293, 2), (328, ...  \n",
       "18b1a861-afef-4fff-bc80-d02e05be18c4  [(40, 1), (229, 1), (253, 1), (319, 2), (330, ...  \n",
       "309fdbfc-227b-4588-9264-f0f4e3cadfcb  [(90, 3), (123, 1), (186, 1), (189, 5), (196, ...  \n",
       "d5814bab-5fc2-4c31-92b7-543c7ce75cb4  [(18, 1), (28, 1), (29, 2), (30, 1), (63, 1), ...  "
      ]
     },
     "execution_count": 11,
     "metadata": {},
     "output_type": "execute_result"
    }
   ],
   "source": [
    "pub_toks.head(4)"
   ]
  },
  {
   "cell_type": "code",
   "execution_count": 13,
   "metadata": {
    "ExecuteTime": {
     "end_time": "2017-11-23T01:17:06.526923Z",
     "start_time": "2017-11-23T01:17:06.519073Z"
    }
   },
   "outputs": [],
   "source": [
    "# load the LDA models:\n",
    "fullpubLDA = models.LdaModel.load('fullpub.ldamodel')"
   ]
  },
  {
   "cell_type": "code",
   "execution_count": 14,
   "metadata": {
    "ExecuteTime": {
     "end_time": "2017-11-23T01:17:42.141677Z",
     "start_time": "2017-11-23T01:17:42.137465Z"
    }
   },
   "outputs": [],
   "source": [
    "ldaVect = pub_toks['bow'][0]"
   ]
  },
  {
   "cell_type": "code",
   "execution_count": 28,
   "metadata": {
    "ExecuteTime": {
     "end_time": "2017-11-23T01:26:27.632358Z",
     "start_time": "2017-11-23T01:26:27.626897Z"
    }
   },
   "outputs": [
    {
     "data": {
      "text/plain": [
       "[0, 0, 0, 0, 0, 0, 0, 0, 0, 0]"
      ]
     },
     "execution_count": 28,
     "metadata": {},
     "output_type": "execute_result"
    }
   ],
   "source": [
    "[0]*10"
   ]
  },
  {
   "cell_type": "code",
   "execution_count": 36,
   "metadata": {
    "ExecuteTime": {
     "end_time": "2017-11-23T01:29:18.402860Z",
     "start_time": "2017-11-23T01:29:18.397057Z"
    }
   },
   "outputs": [],
   "source": [
    "def inference(ldaModel, ldaVector):\n",
    "    num_topics = ldaModel.num_topics\n",
    "    topic_dist = ldaModel[ldaVector]\n",
    "    \n",
    "    # index the topic_distribution according to the distribution:\n",
    "    out = [0]*num_topics\n",
    "    for (i,v) in topic_dist:\n",
    "        out[i] = v\n",
    "    assert len(out) == num_topics\n",
    "    return out"
   ]
  },
  {
   "cell_type": "code",
   "execution_count": 37,
   "metadata": {
    "ExecuteTime": {
     "end_time": "2017-11-23T01:29:32.538970Z",
     "start_time": "2017-11-23T01:29:20.686792Z"
    }
   },
   "outputs": [],
   "source": [
    "_inference = lambda row: inference(fullpubLDA, row.bow)\n",
    "pub_toks['topic_distribution'] = pub_toks.apply(_inference, axis=1)"
   ]
  },
  {
   "cell_type": "code",
   "execution_count": 38,
   "metadata": {
    "ExecuteTime": {
     "end_time": "2017-11-23T01:29:34.984142Z",
     "start_time": "2017-11-23T01:29:34.896336Z"
    }
   },
   "outputs": [
    {
     "data": {
      "text/html": [
       "<div>\n",
       "<style scoped>\n",
       "    .dataframe tbody tr th:only-of-type {\n",
       "        vertical-align: middle;\n",
       "    }\n",
       "\n",
       "    .dataframe tbody tr th {\n",
       "        vertical-align: top;\n",
       "    }\n",
       "\n",
       "    .dataframe thead th {\n",
       "        text-align: right;\n",
       "    }\n",
       "</style>\n",
       "<table border=\"1\" class=\"dataframe\">\n",
       "  <thead>\n",
       "    <tr style=\"text-align: right;\">\n",
       "      <th></th>\n",
       "      <th>year</th>\n",
       "      <th>summary_toks</th>\n",
       "      <th>bow</th>\n",
       "      <th>topic_distribution</th>\n",
       "    </tr>\n",
       "    <tr>\n",
       "      <th>pub_id</th>\n",
       "      <th></th>\n",
       "      <th></th>\n",
       "      <th></th>\n",
       "      <th></th>\n",
       "    </tr>\n",
       "  </thead>\n",
       "  <tbody>\n",
       "    <tr>\n",
       "      <th>400818dc-63af-4a26-80c5-906f98e1f8ab</th>\n",
       "      <td>1989</td>\n",
       "      <td>[balloon, stabil, analysi, jet, hmode, dischar...</td>\n",
       "      <td>[(40, 2), (156, 1), (223, 2), (293, 2), (328, ...</td>\n",
       "      <td>[0, 0.0982817732416, 0, 0.0248424111021, 0.422...</td>\n",
       "    </tr>\n",
       "    <tr>\n",
       "      <th>18b1a861-afef-4fff-bc80-d02e05be18c4</th>\n",
       "      <td>2013</td>\n",
       "      <td>[queri, process, data, integr, chapter, illust...</td>\n",
       "      <td>[(40, 1), (229, 1), (253, 1), (319, 2), (330, ...</td>\n",
       "      <td>[0, 0, 0, 0, 0, 0.153425917935, 0, 0, 0.341364...</td>\n",
       "    </tr>\n",
       "    <tr>\n",
       "      <th>309fdbfc-227b-4588-9264-f0f4e3cadfcb</th>\n",
       "      <td>1994</td>\n",
       "      <td>[comprehens, syntax, syntax, comprehens, close...</td>\n",
       "      <td>[(90, 3), (123, 1), (186, 1), (189, 5), (196, ...</td>\n",
       "      <td>[0, 0.298147649843, 0, 0, 0, 0, 0, 0, 0, 0.181...</td>\n",
       "    </tr>\n",
       "    <tr>\n",
       "      <th>d5814bab-5fc2-4c31-92b7-543c7ce75cb4</th>\n",
       "      <td>2012</td>\n",
       "      <td>[evalu, speaker, verif, secur, detect, hmmbase...</td>\n",
       "      <td>[(18, 1), (28, 1), (29, 2), (30, 1), (63, 1), ...</td>\n",
       "      <td>[0, 0, 0, 0, 0.132735923657, 0, 0, 0, 0.122869...</td>\n",
       "    </tr>\n",
       "  </tbody>\n",
       "</table>\n",
       "</div>"
      ],
      "text/plain": [
       "                                      year  \\\n",
       "pub_id                                       \n",
       "400818dc-63af-4a26-80c5-906f98e1f8ab  1989   \n",
       "18b1a861-afef-4fff-bc80-d02e05be18c4  2013   \n",
       "309fdbfc-227b-4588-9264-f0f4e3cadfcb  1994   \n",
       "d5814bab-5fc2-4c31-92b7-543c7ce75cb4  2012   \n",
       "\n",
       "                                                                           summary_toks  \\\n",
       "pub_id                                                                                    \n",
       "400818dc-63af-4a26-80c5-906f98e1f8ab  [balloon, stabil, analysi, jet, hmode, dischar...   \n",
       "18b1a861-afef-4fff-bc80-d02e05be18c4  [queri, process, data, integr, chapter, illust...   \n",
       "309fdbfc-227b-4588-9264-f0f4e3cadfcb  [comprehens, syntax, syntax, comprehens, close...   \n",
       "d5814bab-5fc2-4c31-92b7-543c7ce75cb4  [evalu, speaker, verif, secur, detect, hmmbase...   \n",
       "\n",
       "                                                                                    bow  \\\n",
       "pub_id                                                                                    \n",
       "400818dc-63af-4a26-80c5-906f98e1f8ab  [(40, 2), (156, 1), (223, 2), (293, 2), (328, ...   \n",
       "18b1a861-afef-4fff-bc80-d02e05be18c4  [(40, 1), (229, 1), (253, 1), (319, 2), (330, ...   \n",
       "309fdbfc-227b-4588-9264-f0f4e3cadfcb  [(90, 3), (123, 1), (186, 1), (189, 5), (196, ...   \n",
       "d5814bab-5fc2-4c31-92b7-543c7ce75cb4  [(18, 1), (28, 1), (29, 2), (30, 1), (63, 1), ...   \n",
       "\n",
       "                                                                     topic_distribution  \n",
       "pub_id                                                                                   \n",
       "400818dc-63af-4a26-80c5-906f98e1f8ab  [0, 0.0982817732416, 0, 0.0248424111021, 0.422...  \n",
       "18b1a861-afef-4fff-bc80-d02e05be18c4  [0, 0, 0, 0, 0, 0.153425917935, 0, 0, 0.341364...  \n",
       "309fdbfc-227b-4588-9264-f0f4e3cadfcb  [0, 0.298147649843, 0, 0, 0, 0, 0, 0, 0, 0.181...  \n",
       "d5814bab-5fc2-4c31-92b7-543c7ce75cb4  [0, 0, 0, 0, 0.132735923657, 0, 0, 0, 0.122869...  "
      ]
     },
     "execution_count": 38,
     "metadata": {},
     "output_type": "execute_result"
    }
   ],
   "source": [
    "pub_toks.head(4)"
   ]
  },
  {
   "cell_type": "markdown",
   "metadata": {},
   "source": [
    "## Clustering"
   ]
  },
  {
   "cell_type": "markdown",
   "metadata": {},
   "source": [
    "# Topic Distribution of PoInf"
   ]
  },
  {
   "cell_type": "code",
   "execution_count": 52,
   "metadata": {
    "ExecuteTime": {
     "end_time": "2017-11-23T01:41:52.367363Z",
     "start_time": "2017-11-23T01:41:51.485094Z"
    }
   },
   "outputs": [],
   "source": [
    "# Create a new pandas table that merge the lookup_poinf and lookup_pub\n",
    "# each pub in lookup_pub have a collab_id that have a list of collaborators by id\n",
    "# We can ignore those that are not in the list of id for PoInf\n",
    "\n",
    "# Create the list of ids for easy checking:\n",
    "poinf_id = set(lookup_poinf.index)\n",
    "\n",
    "# we can now create such an index:\n",
    "pub_mapping = {str(_id):set() for _id in list(poinf_id)}\n",
    "\n",
    "for row in lookup_pub.iterrows():\n",
    "    pub_id = row[0]\n",
    "    collab_ids = row[1]['collab_id']\n",
    "    for _id in collab_ids:\n",
    "        if _id in poinf_id:\n",
    "            pub_mapping[_id].add(pub_id)"
   ]
  },
  {
   "cell_type": "code",
   "execution_count": 85,
   "metadata": {
    "ExecuteTime": {
     "end_time": "2017-11-23T02:14:29.629305Z",
     "start_time": "2017-11-23T02:14:29.625474Z"
    }
   },
   "outputs": [],
   "source": [
    "row_list = [{'id':k, 'pub_ids':v} for (k,v) in pub_mapping.items()]"
   ]
  },
  {
   "cell_type": "code",
   "execution_count": 86,
   "metadata": {
    "ExecuteTime": {
     "end_time": "2017-11-23T02:14:32.491176Z",
     "start_time": "2017-11-23T02:14:32.484509Z"
    }
   },
   "outputs": [],
   "source": [
    "# Add these pub_ids to the pandas df:\n",
    "df_pubmapping = pd.DataFrame(row_list)"
   ]
  },
  {
   "cell_type": "code",
   "execution_count": 87,
   "metadata": {
    "ExecuteTime": {
     "end_time": "2017-11-23T02:14:35.591439Z",
     "start_time": "2017-11-23T02:14:35.583768Z"
    }
   },
   "outputs": [],
   "source": [
    "lookup_poinf_more = lookup_poinf.join(df_pubmapping.set_index('id'))"
   ]
  },
  {
   "cell_type": "code",
   "execution_count": 88,
   "metadata": {
    "ExecuteTime": {
     "end_time": "2017-11-23T02:14:38.628888Z",
     "start_time": "2017-11-23T02:14:38.595020Z"
    }
   },
   "outputs": [
    {
     "data": {
      "text/html": [
       "<div>\n",
       "<style scoped>\n",
       "    .dataframe tbody tr th:only-of-type {\n",
       "        vertical-align: middle;\n",
       "    }\n",
       "\n",
       "    .dataframe tbody tr th {\n",
       "        vertical-align: top;\n",
       "    }\n",
       "\n",
       "    .dataframe thead th {\n",
       "        text-align: right;\n",
       "    }\n",
       "</style>\n",
       "<table border=\"1\" class=\"dataframe\">\n",
       "  <thead>\n",
       "    <tr style=\"text-align: right;\">\n",
       "      <th></th>\n",
       "      <th>last_name</th>\n",
       "      <th>first_name</th>\n",
       "      <th>perseonal_url</th>\n",
       "      <th>position</th>\n",
       "      <th>parent</th>\n",
       "      <th>institute</th>\n",
       "      <th>full_name</th>\n",
       "      <th>institute_class</th>\n",
       "      <th>alias</th>\n",
       "      <th>pub_ids</th>\n",
       "    </tr>\n",
       "    <tr>\n",
       "      <th>id</th>\n",
       "      <th></th>\n",
       "      <th></th>\n",
       "      <th></th>\n",
       "      <th></th>\n",
       "      <th></th>\n",
       "      <th></th>\n",
       "      <th></th>\n",
       "      <th></th>\n",
       "      <th></th>\n",
       "      <th></th>\n",
       "    </tr>\n",
       "  </thead>\n",
       "  <tbody>\n",
       "    <tr>\n",
       "      <th>003ec9bb-18aa-4e6e-95e9-359f0968262a</th>\n",
       "      <td>gray</td>\n",
       "      <td>gavin</td>\n",
       "      <td>http://www.research.ed.ac.uk/portal/en/persons...</td>\n",
       "      <td>research assistant</td>\n",
       "      <td>school of informatics</td>\n",
       "      <td>institute for computing systems architecture</td>\n",
       "      <td>gray gavin</td>\n",
       "      <td>5</td>\n",
       "      <td>NaN</td>\n",
       "      <td>{}</td>\n",
       "    </tr>\n",
       "    <tr>\n",
       "      <th>010f9bf0-c04c-4cfb-ab3d-ca150de1e706</th>\n",
       "      <td>jackson</td>\n",
       "      <td>paul</td>\n",
       "      <td>http://www.research.ed.ac.uk/portal/en/persons...</td>\n",
       "      <td>senior lecturer</td>\n",
       "      <td>school of informatics</td>\n",
       "      <td>institute for computing systems architecture</td>\n",
       "      <td>jackson paul</td>\n",
       "      <td>5</td>\n",
       "      <td>jackson, p. b.|jackson, p.</td>\n",
       "      <td>{c5754b06-fcf9-4362-aa3a-1142589b5402, 167c4b6...</td>\n",
       "    </tr>\n",
       "    <tr>\n",
       "      <th>02c86de2-0fc9-4f6d-aee9-93b0f7557c84</th>\n",
       "      <td>franke</td>\n",
       "      <td>bjoern</td>\n",
       "      <td>http://www.research.ed.ac.uk/portal/en/persons...</td>\n",
       "      <td>reader</td>\n",
       "      <td>school of informatics</td>\n",
       "      <td>institute of language cognition and computation</td>\n",
       "      <td>franke bjoern</td>\n",
       "      <td>2</td>\n",
       "      <td>franke, b.</td>\n",
       "      <td>{9a3368cc-e69d-4ecf-bad1-b43ab0ac89a8, ab3fccd...</td>\n",
       "    </tr>\n",
       "    <tr>\n",
       "      <th>02df029e-077b-407c-8e24-1392a9ed8060</th>\n",
       "      <td>sevilla-lara</td>\n",
       "      <td>laura</td>\n",
       "      <td>http://www.research.ed.ac.uk/portal/en/persons...</td>\n",
       "      <td>lecturer reader in image and vision computing</td>\n",
       "      <td>school of informatics</td>\n",
       "      <td>UNKNOWN</td>\n",
       "      <td>sevilla-lara laura</td>\n",
       "      <td>0</td>\n",
       "      <td>NaN</td>\n",
       "      <td>{}</td>\n",
       "    </tr>\n",
       "  </tbody>\n",
       "</table>\n",
       "</div>"
      ],
      "text/plain": [
       "                                         last_name first_name  \\\n",
       "id                                                              \n",
       "003ec9bb-18aa-4e6e-95e9-359f0968262a          gray      gavin   \n",
       "010f9bf0-c04c-4cfb-ab3d-ca150de1e706       jackson       paul   \n",
       "02c86de2-0fc9-4f6d-aee9-93b0f7557c84        franke     bjoern   \n",
       "02df029e-077b-407c-8e24-1392a9ed8060  sevilla-lara      laura   \n",
       "\n",
       "                                                                          perseonal_url  \\\n",
       "id                                                                                        \n",
       "003ec9bb-18aa-4e6e-95e9-359f0968262a  http://www.research.ed.ac.uk/portal/en/persons...   \n",
       "010f9bf0-c04c-4cfb-ab3d-ca150de1e706  http://www.research.ed.ac.uk/portal/en/persons...   \n",
       "02c86de2-0fc9-4f6d-aee9-93b0f7557c84  http://www.research.ed.ac.uk/portal/en/persons...   \n",
       "02df029e-077b-407c-8e24-1392a9ed8060  http://www.research.ed.ac.uk/portal/en/persons...   \n",
       "\n",
       "                                                                           position  \\\n",
       "id                                                                                    \n",
       "003ec9bb-18aa-4e6e-95e9-359f0968262a                             research assistant   \n",
       "010f9bf0-c04c-4cfb-ab3d-ca150de1e706                                senior lecturer   \n",
       "02c86de2-0fc9-4f6d-aee9-93b0f7557c84                                         reader   \n",
       "02df029e-077b-407c-8e24-1392a9ed8060  lecturer reader in image and vision computing   \n",
       "\n",
       "                                                     parent  \\\n",
       "id                                                            \n",
       "003ec9bb-18aa-4e6e-95e9-359f0968262a  school of informatics   \n",
       "010f9bf0-c04c-4cfb-ab3d-ca150de1e706  school of informatics   \n",
       "02c86de2-0fc9-4f6d-aee9-93b0f7557c84  school of informatics   \n",
       "02df029e-077b-407c-8e24-1392a9ed8060  school of informatics   \n",
       "\n",
       "                                                                            institute  \\\n",
       "id                                                                                      \n",
       "003ec9bb-18aa-4e6e-95e9-359f0968262a     institute for computing systems architecture   \n",
       "010f9bf0-c04c-4cfb-ab3d-ca150de1e706     institute for computing systems architecture   \n",
       "02c86de2-0fc9-4f6d-aee9-93b0f7557c84  institute of language cognition and computation   \n",
       "02df029e-077b-407c-8e24-1392a9ed8060                                          UNKNOWN   \n",
       "\n",
       "                                               full_name  institute_class  \\\n",
       "id                                                                          \n",
       "003ec9bb-18aa-4e6e-95e9-359f0968262a          gray gavin                5   \n",
       "010f9bf0-c04c-4cfb-ab3d-ca150de1e706        jackson paul                5   \n",
       "02c86de2-0fc9-4f6d-aee9-93b0f7557c84       franke bjoern                2   \n",
       "02df029e-077b-407c-8e24-1392a9ed8060  sevilla-lara laura                0   \n",
       "\n",
       "                                                           alias  \\\n",
       "id                                                                 \n",
       "003ec9bb-18aa-4e6e-95e9-359f0968262a                         NaN   \n",
       "010f9bf0-c04c-4cfb-ab3d-ca150de1e706  jackson, p. b.|jackson, p.   \n",
       "02c86de2-0fc9-4f6d-aee9-93b0f7557c84                  franke, b.   \n",
       "02df029e-077b-407c-8e24-1392a9ed8060                         NaN   \n",
       "\n",
       "                                                                                pub_ids  \n",
       "id                                                                                       \n",
       "003ec9bb-18aa-4e6e-95e9-359f0968262a                                                 {}  \n",
       "010f9bf0-c04c-4cfb-ab3d-ca150de1e706  {c5754b06-fcf9-4362-aa3a-1142589b5402, 167c4b6...  \n",
       "02c86de2-0fc9-4f6d-aee9-93b0f7557c84  {9a3368cc-e69d-4ecf-bad1-b43ab0ac89a8, ab3fccd...  \n",
       "02df029e-077b-407c-8e24-1392a9ed8060                                                 {}  "
      ]
     },
     "execution_count": 88,
     "metadata": {},
     "output_type": "execute_result"
    }
   ],
   "source": [
    "lookup_poinf_more.head(4)"
   ]
  },
  {
   "cell_type": "code",
   "execution_count": null,
   "metadata": {
    "ExecuteTime": {
     "end_time": "2017-11-23T02:25:10.959449Z",
     "start_time": "2017-11-23T02:29:46.224Z"
    }
   },
   "outputs": [],
   "source": [
    "def getToks(pub_ids):\n",
    "    out = []\n",
    "    if len(pub_ids):\n",
    "        for pub_id in pub_ids:\n",
    "            out.extend(pub_toks[pub_toks.index == pub_id].summary_toks)\n",
    "    return out"
   ]
  },
  {
   "cell_type": "code",
   "execution_count": null,
   "metadata": {
    "ExecuteTime": {
     "end_time": "2017-11-23T02:25:10.971703Z",
     "start_time": "2017-11-23T02:29:46.851Z"
    }
   },
   "outputs": [],
   "source": [
    "lookup_poinf_more['toks'] = lookup_poinf_more.apply(lambda row: getToks(row.pub_ids), axis=1)"
   ]
  },
  {
   "cell_type": "code",
   "execution_count": null,
   "metadata": {},
   "outputs": [],
   "source": []
  }
 ],
 "metadata": {
  "kernelspec": {
   "display_name": "Python 2",
   "language": "python",
   "name": "python2"
  },
  "language_info": {
   "codemirror_mode": {
    "name": "ipython",
    "version": 2
   },
   "file_extension": ".py",
   "mimetype": "text/x-python",
   "name": "python",
   "nbconvert_exporter": "python",
   "pygments_lexer": "ipython2",
   "version": "2.7.14"
  },
  "toc": {
   "nav_menu": {},
   "number_sections": true,
   "sideBar": true,
   "skip_h1_title": false,
   "toc_cell": false,
   "toc_position": {},
   "toc_section_display": "block",
   "toc_window_display": false
  },
  "varInspector": {
   "cols": {
    "lenName": 16,
    "lenType": 16,
    "lenVar": 40
   },
   "kernels_config": {
    "python": {
     "delete_cmd_postfix": "",
     "delete_cmd_prefix": "del ",
     "library": "var_list.py",
     "varRefreshCmd": "print(var_dic_list())"
    },
    "r": {
     "delete_cmd_postfix": ") ",
     "delete_cmd_prefix": "rm(",
     "library": "var_list.r",
     "varRefreshCmd": "cat(var_dic_list()) "
    }
   },
   "types_to_exclude": [
    "module",
    "function",
    "builtin_function_or_method",
    "instance",
    "_Feature"
   ],
   "window_display": false
  }
 },
 "nbformat": 4,
 "nbformat_minor": 2
}
