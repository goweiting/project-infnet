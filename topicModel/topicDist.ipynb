{
 "cells": [
  {
   "cell_type": "markdown",
   "metadata": {},
   "source": [
    "# Topic distribution\n",
    "\n",
    "Using the bag of words generated from the corpus, and the topic models generated, I now use them to project publications in the LDA topic space, as well as for the individuals in the School"
   ]
  },
  {
   "cell_type": "markdown",
   "metadata": {},
   "source": [
    "## Setup"
   ]
  },
  {
   "cell_type": "code",
   "execution_count": 1,
   "metadata": {
    "ExecuteTime": {
     "end_time": "2017-11-23T13:47:08.970019Z",
     "start_time": "2017-11-23T13:47:08.458627Z"
    }
   },
   "outputs": [],
   "source": [
    "import pandas as pd\n",
    "import cPickle as pkl"
   ]
  },
  {
   "cell_type": "code",
   "execution_count": 2,
   "metadata": {
    "ExecuteTime": {
     "end_time": "2017-11-23T13:47:10.163262Z",
     "start_time": "2017-11-23T13:47:08.975997Z"
    }
   },
   "outputs": [],
   "source": [
    "from gensim import models\n",
    "from gensim.corpora import Dictionary"
   ]
  },
  {
   "cell_type": "code",
   "execution_count": 3,
   "metadata": {
    "ExecuteTime": {
     "end_time": "2017-11-23T13:47:12.743234Z",
     "start_time": "2017-11-23T13:47:10.169114Z"
    }
   },
   "outputs": [],
   "source": [
    "lookup_pub = pkl.load(open('../infnet-analysis/data/lookup_pub.pkl', 'rb'))\n",
    "lookup_poinf = pkl.load(open('../infnet-analysis/data/lookup_poinf.pkl','rb'))\n",
    "pub_toks = pkl.load(open('../infnet-scrapper/data/pub_toks.pkl','rb'))"
   ]
  },
  {
   "cell_type": "code",
   "execution_count": 4,
   "metadata": {
    "ExecuteTime": {
     "end_time": "2017-11-23T13:47:12.856760Z",
     "start_time": "2017-11-23T13:47:12.750585Z"
    }
   },
   "outputs": [
    {
     "data": {
      "text/html": [
       "<div>\n",
       "<style scoped>\n",
       "    .dataframe tbody tr th:only-of-type {\n",
       "        vertical-align: middle;\n",
       "    }\n",
       "\n",
       "    .dataframe tbody tr th {\n",
       "        vertical-align: top;\n",
       "    }\n",
       "\n",
       "    .dataframe thead th {\n",
       "        text-align: right;\n",
       "    }\n",
       "</style>\n",
       "<table border=\"1\" class=\"dataframe\">\n",
       "  <thead>\n",
       "    <tr style=\"text-align: right;\">\n",
       "      <th></th>\n",
       "      <th>year</th>\n",
       "      <th>authors</th>\n",
       "      <th>shortnames</th>\n",
       "      <th>collab_id</th>\n",
       "      <th>edges</th>\n",
       "    </tr>\n",
       "    <tr>\n",
       "      <th>pub_id</th>\n",
       "      <th></th>\n",
       "      <th></th>\n",
       "      <th></th>\n",
       "      <th></th>\n",
       "      <th></th>\n",
       "    </tr>\n",
       "  </thead>\n",
       "  <tbody>\n",
       "    <tr>\n",
       "      <th>400818dc-63af-4a26-80c5-906f98e1f8ab</th>\n",
       "      <td>1989</td>\n",
       "      <td>d.p. o'brien|r. galvao|m. keilhacker|e. lazzar...</td>\n",
       "      <td>brien, d. p.|galvao, r.|keilhacker, m.|lazzaro...</td>\n",
       "      <td>[324, 1942, 560, 5635, 5099, a78a09b5-138e-407...</td>\n",
       "      <td>[(324, 1942), (324, 560), (324, 5635), (324, 5...</td>\n",
       "    </tr>\n",
       "    <tr>\n",
       "      <th>18b1a861-afef-4fff-bc80-d02e05be18c4</th>\n",
       "      <td>2013</td>\n",
       "      <td>paolo guagliardo|piotr wieczorek</td>\n",
       "      <td>guagliardo, p.|wieczorek, p.</td>\n",
       "      <td>[653c9723-b374-4ad3-9cef-0f7e7f45d812, 4953]</td>\n",
       "      <td>[(653c9723-b374-4ad3-9cef-0f7e7f45d812, 4953)]</td>\n",
       "    </tr>\n",
       "    <tr>\n",
       "      <th>309fdbfc-227b-4588-9264-f0f4e3cadfcb</th>\n",
       "      <td>1994</td>\n",
       "      <td>p. buneman|l. libkin|d. suciu|v. tannen|l. wong</td>\n",
       "      <td>buneman, p.|libkin, l.|suciu, d.|tannen, v. |w...</td>\n",
       "      <td>[90396347-473b-4fba-8b1d-a1d25ea18b6b, a22b33f...</td>\n",
       "      <td>[(90396347-473b-4fba-8b1d-a1d25ea18b6b, a22b33...</td>\n",
       "    </tr>\n",
       "    <tr>\n",
       "      <th>d5814bab-5fc2-4c31-92b7-543c7ce75cb4</th>\n",
       "      <td>2012</td>\n",
       "      <td>p.l. de leon|m. pucher|j. yamagishi|i. hernaez...</td>\n",
       "      <td>leon, p. l.|pucher, m.|yamagishi, j.|hernaez, ...</td>\n",
       "      <td>[1180, 5318, 4d11a99a-0d04-42f4-8089-d433a57c2...</td>\n",
       "      <td>[(1180, 5318), (1180, 4d11a99a-0d04-42f4-8089-...</td>\n",
       "    </tr>\n",
       "  </tbody>\n",
       "</table>\n",
       "</div>"
      ],
      "text/plain": [
       "                                      year  \\\n",
       "pub_id                                       \n",
       "400818dc-63af-4a26-80c5-906f98e1f8ab  1989   \n",
       "18b1a861-afef-4fff-bc80-d02e05be18c4  2013   \n",
       "309fdbfc-227b-4588-9264-f0f4e3cadfcb  1994   \n",
       "d5814bab-5fc2-4c31-92b7-543c7ce75cb4  2012   \n",
       "\n",
       "                                                                                authors  \\\n",
       "pub_id                                                                                    \n",
       "400818dc-63af-4a26-80c5-906f98e1f8ab  d.p. o'brien|r. galvao|m. keilhacker|e. lazzar...   \n",
       "18b1a861-afef-4fff-bc80-d02e05be18c4                   paolo guagliardo|piotr wieczorek   \n",
       "309fdbfc-227b-4588-9264-f0f4e3cadfcb    p. buneman|l. libkin|d. suciu|v. tannen|l. wong   \n",
       "d5814bab-5fc2-4c31-92b7-543c7ce75cb4  p.l. de leon|m. pucher|j. yamagishi|i. hernaez...   \n",
       "\n",
       "                                                                             shortnames  \\\n",
       "pub_id                                                                                    \n",
       "400818dc-63af-4a26-80c5-906f98e1f8ab  brien, d. p.|galvao, r.|keilhacker, m.|lazzaro...   \n",
       "18b1a861-afef-4fff-bc80-d02e05be18c4                       guagliardo, p.|wieczorek, p.   \n",
       "309fdbfc-227b-4588-9264-f0f4e3cadfcb  buneman, p.|libkin, l.|suciu, d.|tannen, v. |w...   \n",
       "d5814bab-5fc2-4c31-92b7-543c7ce75cb4  leon, p. l.|pucher, m.|yamagishi, j.|hernaez, ...   \n",
       "\n",
       "                                                                              collab_id  \\\n",
       "pub_id                                                                                    \n",
       "400818dc-63af-4a26-80c5-906f98e1f8ab  [324, 1942, 560, 5635, 5099, a78a09b5-138e-407...   \n",
       "18b1a861-afef-4fff-bc80-d02e05be18c4       [653c9723-b374-4ad3-9cef-0f7e7f45d812, 4953]   \n",
       "309fdbfc-227b-4588-9264-f0f4e3cadfcb  [90396347-473b-4fba-8b1d-a1d25ea18b6b, a22b33f...   \n",
       "d5814bab-5fc2-4c31-92b7-543c7ce75cb4  [1180, 5318, 4d11a99a-0d04-42f4-8089-d433a57c2...   \n",
       "\n",
       "                                                                                  edges  \n",
       "pub_id                                                                                   \n",
       "400818dc-63af-4a26-80c5-906f98e1f8ab  [(324, 1942), (324, 560), (324, 5635), (324, 5...  \n",
       "18b1a861-afef-4fff-bc80-d02e05be18c4     [(653c9723-b374-4ad3-9cef-0f7e7f45d812, 4953)]  \n",
       "309fdbfc-227b-4588-9264-f0f4e3cadfcb  [(90396347-473b-4fba-8b1d-a1d25ea18b6b, a22b33...  \n",
       "d5814bab-5fc2-4c31-92b7-543c7ce75cb4  [(1180, 5318), (1180, 4d11a99a-0d04-42f4-8089-...  "
      ]
     },
     "execution_count": 4,
     "metadata": {},
     "output_type": "execute_result"
    }
   ],
   "source": [
    "lookup_pub.head(4)"
   ]
  },
  {
   "cell_type": "code",
   "execution_count": 5,
   "metadata": {
    "ExecuteTime": {
     "end_time": "2017-11-23T13:47:12.934868Z",
     "start_time": "2017-11-23T13:47:12.862744Z"
    }
   },
   "outputs": [
    {
     "data": {
      "text/html": [
       "<div>\n",
       "<style scoped>\n",
       "    .dataframe tbody tr th:only-of-type {\n",
       "        vertical-align: middle;\n",
       "    }\n",
       "\n",
       "    .dataframe tbody tr th {\n",
       "        vertical-align: top;\n",
       "    }\n",
       "\n",
       "    .dataframe thead th {\n",
       "        text-align: right;\n",
       "    }\n",
       "</style>\n",
       "<table border=\"1\" class=\"dataframe\">\n",
       "  <thead>\n",
       "    <tr style=\"text-align: right;\">\n",
       "      <th></th>\n",
       "      <th>last_name</th>\n",
       "      <th>first_name</th>\n",
       "      <th>perseonal_url</th>\n",
       "      <th>position</th>\n",
       "      <th>parent</th>\n",
       "      <th>institute</th>\n",
       "      <th>full_name</th>\n",
       "      <th>institute_class</th>\n",
       "      <th>alias</th>\n",
       "    </tr>\n",
       "    <tr>\n",
       "      <th>id</th>\n",
       "      <th></th>\n",
       "      <th></th>\n",
       "      <th></th>\n",
       "      <th></th>\n",
       "      <th></th>\n",
       "      <th></th>\n",
       "      <th></th>\n",
       "      <th></th>\n",
       "      <th></th>\n",
       "    </tr>\n",
       "  </thead>\n",
       "  <tbody>\n",
       "    <tr>\n",
       "      <th>003ec9bb-18aa-4e6e-95e9-359f0968262a</th>\n",
       "      <td>gray</td>\n",
       "      <td>gavin</td>\n",
       "      <td>http://www.research.ed.ac.uk/portal/en/persons...</td>\n",
       "      <td>research assistant</td>\n",
       "      <td>school of informatics</td>\n",
       "      <td>institute for computing systems architecture</td>\n",
       "      <td>gray gavin</td>\n",
       "      <td>5</td>\n",
       "      <td>NaN</td>\n",
       "    </tr>\n",
       "    <tr>\n",
       "      <th>010f9bf0-c04c-4cfb-ab3d-ca150de1e706</th>\n",
       "      <td>jackson</td>\n",
       "      <td>paul</td>\n",
       "      <td>http://www.research.ed.ac.uk/portal/en/persons...</td>\n",
       "      <td>senior lecturer</td>\n",
       "      <td>school of informatics</td>\n",
       "      <td>institute for computing systems architecture</td>\n",
       "      <td>jackson paul</td>\n",
       "      <td>5</td>\n",
       "      <td>jackson, p. b.|jackson, p.</td>\n",
       "    </tr>\n",
       "    <tr>\n",
       "      <th>02c86de2-0fc9-4f6d-aee9-93b0f7557c84</th>\n",
       "      <td>franke</td>\n",
       "      <td>bjoern</td>\n",
       "      <td>http://www.research.ed.ac.uk/portal/en/persons...</td>\n",
       "      <td>reader</td>\n",
       "      <td>school of informatics</td>\n",
       "      <td>institute of language cognition and computation</td>\n",
       "      <td>franke bjoern</td>\n",
       "      <td>2</td>\n",
       "      <td>franke, b.</td>\n",
       "    </tr>\n",
       "    <tr>\n",
       "      <th>02df029e-077b-407c-8e24-1392a9ed8060</th>\n",
       "      <td>sevilla-lara</td>\n",
       "      <td>laura</td>\n",
       "      <td>http://www.research.ed.ac.uk/portal/en/persons...</td>\n",
       "      <td>lecturer reader in image and vision computing</td>\n",
       "      <td>school of informatics</td>\n",
       "      <td>UNKNOWN</td>\n",
       "      <td>sevilla-lara laura</td>\n",
       "      <td>0</td>\n",
       "      <td>NaN</td>\n",
       "    </tr>\n",
       "  </tbody>\n",
       "</table>\n",
       "</div>"
      ],
      "text/plain": [
       "                                         last_name first_name  \\\n",
       "id                                                              \n",
       "003ec9bb-18aa-4e6e-95e9-359f0968262a          gray      gavin   \n",
       "010f9bf0-c04c-4cfb-ab3d-ca150de1e706       jackson       paul   \n",
       "02c86de2-0fc9-4f6d-aee9-93b0f7557c84        franke     bjoern   \n",
       "02df029e-077b-407c-8e24-1392a9ed8060  sevilla-lara      laura   \n",
       "\n",
       "                                                                          perseonal_url  \\\n",
       "id                                                                                        \n",
       "003ec9bb-18aa-4e6e-95e9-359f0968262a  http://www.research.ed.ac.uk/portal/en/persons...   \n",
       "010f9bf0-c04c-4cfb-ab3d-ca150de1e706  http://www.research.ed.ac.uk/portal/en/persons...   \n",
       "02c86de2-0fc9-4f6d-aee9-93b0f7557c84  http://www.research.ed.ac.uk/portal/en/persons...   \n",
       "02df029e-077b-407c-8e24-1392a9ed8060  http://www.research.ed.ac.uk/portal/en/persons...   \n",
       "\n",
       "                                                                           position  \\\n",
       "id                                                                                    \n",
       "003ec9bb-18aa-4e6e-95e9-359f0968262a                             research assistant   \n",
       "010f9bf0-c04c-4cfb-ab3d-ca150de1e706                                senior lecturer   \n",
       "02c86de2-0fc9-4f6d-aee9-93b0f7557c84                                         reader   \n",
       "02df029e-077b-407c-8e24-1392a9ed8060  lecturer reader in image and vision computing   \n",
       "\n",
       "                                                     parent  \\\n",
       "id                                                            \n",
       "003ec9bb-18aa-4e6e-95e9-359f0968262a  school of informatics   \n",
       "010f9bf0-c04c-4cfb-ab3d-ca150de1e706  school of informatics   \n",
       "02c86de2-0fc9-4f6d-aee9-93b0f7557c84  school of informatics   \n",
       "02df029e-077b-407c-8e24-1392a9ed8060  school of informatics   \n",
       "\n",
       "                                                                            institute  \\\n",
       "id                                                                                      \n",
       "003ec9bb-18aa-4e6e-95e9-359f0968262a     institute for computing systems architecture   \n",
       "010f9bf0-c04c-4cfb-ab3d-ca150de1e706     institute for computing systems architecture   \n",
       "02c86de2-0fc9-4f6d-aee9-93b0f7557c84  institute of language cognition and computation   \n",
       "02df029e-077b-407c-8e24-1392a9ed8060                                          UNKNOWN   \n",
       "\n",
       "                                               full_name  institute_class  \\\n",
       "id                                                                          \n",
       "003ec9bb-18aa-4e6e-95e9-359f0968262a          gray gavin                5   \n",
       "010f9bf0-c04c-4cfb-ab3d-ca150de1e706        jackson paul                5   \n",
       "02c86de2-0fc9-4f6d-aee9-93b0f7557c84       franke bjoern                2   \n",
       "02df029e-077b-407c-8e24-1392a9ed8060  sevilla-lara laura                0   \n",
       "\n",
       "                                                           alias  \n",
       "id                                                                \n",
       "003ec9bb-18aa-4e6e-95e9-359f0968262a                         NaN  \n",
       "010f9bf0-c04c-4cfb-ab3d-ca150de1e706  jackson, p. b.|jackson, p.  \n",
       "02c86de2-0fc9-4f6d-aee9-93b0f7557c84                  franke, b.  \n",
       "02df029e-077b-407c-8e24-1392a9ed8060                         NaN  "
      ]
     },
     "execution_count": 5,
     "metadata": {},
     "output_type": "execute_result"
    }
   ],
   "source": [
    "lookup_poinf.head(4)"
   ]
  },
  {
   "cell_type": "code",
   "execution_count": 6,
   "metadata": {
    "ExecuteTime": {
     "end_time": "2017-11-23T13:47:12.984978Z",
     "start_time": "2017-11-23T13:47:12.939364Z"
    }
   },
   "outputs": [
    {
     "data": {
      "text/html": [
       "<div>\n",
       "<style scoped>\n",
       "    .dataframe tbody tr th:only-of-type {\n",
       "        vertical-align: middle;\n",
       "    }\n",
       "\n",
       "    .dataframe tbody tr th {\n",
       "        vertical-align: top;\n",
       "    }\n",
       "\n",
       "    .dataframe thead th {\n",
       "        text-align: right;\n",
       "    }\n",
       "</style>\n",
       "<table border=\"1\" class=\"dataframe\">\n",
       "  <thead>\n",
       "    <tr style=\"text-align: right;\">\n",
       "      <th></th>\n",
       "      <th>year</th>\n",
       "      <th>summary_toks</th>\n",
       "    </tr>\n",
       "    <tr>\n",
       "      <th>pub_id</th>\n",
       "      <th></th>\n",
       "      <th></th>\n",
       "    </tr>\n",
       "  </thead>\n",
       "  <tbody>\n",
       "    <tr>\n",
       "      <th>400818dc-63af-4a26-80c5-906f98e1f8ab</th>\n",
       "      <td>1989</td>\n",
       "      <td>[balloon, stabil, analysi, jet, hmode, dischar...</td>\n",
       "    </tr>\n",
       "    <tr>\n",
       "      <th>18b1a861-afef-4fff-bc80-d02e05be18c4</th>\n",
       "      <td>2013</td>\n",
       "      <td>[queri, process, data, integr, chapter, illust...</td>\n",
       "    </tr>\n",
       "    <tr>\n",
       "      <th>309fdbfc-227b-4588-9264-f0f4e3cadfcb</th>\n",
       "      <td>1994</td>\n",
       "      <td>[comprehens, syntax, syntax, comprehens, close...</td>\n",
       "    </tr>\n",
       "    <tr>\n",
       "      <th>d5814bab-5fc2-4c31-92b7-543c7ce75cb4</th>\n",
       "      <td>2012</td>\n",
       "      <td>[evalu, speaker, verif, secur, detect, hmmbase...</td>\n",
       "    </tr>\n",
       "  </tbody>\n",
       "</table>\n",
       "</div>"
      ],
      "text/plain": [
       "                                      year  \\\n",
       "pub_id                                       \n",
       "400818dc-63af-4a26-80c5-906f98e1f8ab  1989   \n",
       "18b1a861-afef-4fff-bc80-d02e05be18c4  2013   \n",
       "309fdbfc-227b-4588-9264-f0f4e3cadfcb  1994   \n",
       "d5814bab-5fc2-4c31-92b7-543c7ce75cb4  2012   \n",
       "\n",
       "                                                                           summary_toks  \n",
       "pub_id                                                                                   \n",
       "400818dc-63af-4a26-80c5-906f98e1f8ab  [balloon, stabil, analysi, jet, hmode, dischar...  \n",
       "18b1a861-afef-4fff-bc80-d02e05be18c4  [queri, process, data, integr, chapter, illust...  \n",
       "309fdbfc-227b-4588-9264-f0f4e3cadfcb  [comprehens, syntax, syntax, comprehens, close...  \n",
       "d5814bab-5fc2-4c31-92b7-543c7ce75cb4  [evalu, speaker, verif, secur, detect, hmmbase...  "
      ]
     },
     "execution_count": 6,
     "metadata": {},
     "output_type": "execute_result"
    }
   ],
   "source": [
    "pub_toks.head(4)"
   ]
  },
  {
   "cell_type": "markdown",
   "metadata": {},
   "source": [
    "# Topic Distribution by Publications"
   ]
  },
  {
   "cell_type": "code",
   "execution_count": 7,
   "metadata": {
    "ExecuteTime": {
     "end_time": "2017-11-23T13:47:13.013879Z",
     "start_time": "2017-11-23T13:47:12.990596Z"
    }
   },
   "outputs": [],
   "source": [
    "# Load Dictionary to convert words to id:\n",
    "dictionary = pkl.load(open('../topicModel/dictionary.pkl','rb'))"
   ]
  },
  {
   "cell_type": "code",
   "execution_count": 8,
   "metadata": {
    "ExecuteTime": {
     "end_time": "2017-11-23T13:47:16.385293Z",
     "start_time": "2017-11-23T13:47:13.018791Z"
    }
   },
   "outputs": [],
   "source": [
    "# Convert tokens to bow:\n",
    "bowified = lambda row: dictionary.doc2bow(row.summary_toks)\n",
    "pub_toks['bow'] = pub_toks.apply(bowified, axis=1)"
   ]
  },
  {
   "cell_type": "code",
   "execution_count": 9,
   "metadata": {
    "ExecuteTime": {
     "end_time": "2017-11-23T13:47:16.576916Z",
     "start_time": "2017-11-23T13:47:16.392383Z"
    }
   },
   "outputs": [
    {
     "data": {
      "text/html": [
       "<div>\n",
       "<style scoped>\n",
       "    .dataframe tbody tr th:only-of-type {\n",
       "        vertical-align: middle;\n",
       "    }\n",
       "\n",
       "    .dataframe tbody tr th {\n",
       "        vertical-align: top;\n",
       "    }\n",
       "\n",
       "    .dataframe thead th {\n",
       "        text-align: right;\n",
       "    }\n",
       "</style>\n",
       "<table border=\"1\" class=\"dataframe\">\n",
       "  <thead>\n",
       "    <tr style=\"text-align: right;\">\n",
       "      <th></th>\n",
       "      <th>year</th>\n",
       "      <th>summary_toks</th>\n",
       "      <th>bow</th>\n",
       "    </tr>\n",
       "    <tr>\n",
       "      <th>pub_id</th>\n",
       "      <th></th>\n",
       "      <th></th>\n",
       "      <th></th>\n",
       "    </tr>\n",
       "  </thead>\n",
       "  <tbody>\n",
       "    <tr>\n",
       "      <th>400818dc-63af-4a26-80c5-906f98e1f8ab</th>\n",
       "      <td>1989</td>\n",
       "      <td>[balloon, stabil, analysi, jet, hmode, dischar...</td>\n",
       "      <td>[(40, 2), (156, 1), (223, 2), (293, 2), (328, ...</td>\n",
       "    </tr>\n",
       "    <tr>\n",
       "      <th>18b1a861-afef-4fff-bc80-d02e05be18c4</th>\n",
       "      <td>2013</td>\n",
       "      <td>[queri, process, data, integr, chapter, illust...</td>\n",
       "      <td>[(40, 1), (229, 1), (253, 1), (319, 2), (330, ...</td>\n",
       "    </tr>\n",
       "    <tr>\n",
       "      <th>309fdbfc-227b-4588-9264-f0f4e3cadfcb</th>\n",
       "      <td>1994</td>\n",
       "      <td>[comprehens, syntax, syntax, comprehens, close...</td>\n",
       "      <td>[(90, 3), (123, 1), (186, 1), (189, 5), (196, ...</td>\n",
       "    </tr>\n",
       "    <tr>\n",
       "      <th>d5814bab-5fc2-4c31-92b7-543c7ce75cb4</th>\n",
       "      <td>2012</td>\n",
       "      <td>[evalu, speaker, verif, secur, detect, hmmbase...</td>\n",
       "      <td>[(18, 1), (28, 1), (29, 2), (30, 1), (63, 1), ...</td>\n",
       "    </tr>\n",
       "  </tbody>\n",
       "</table>\n",
       "</div>"
      ],
      "text/plain": [
       "                                      year  \\\n",
       "pub_id                                       \n",
       "400818dc-63af-4a26-80c5-906f98e1f8ab  1989   \n",
       "18b1a861-afef-4fff-bc80-d02e05be18c4  2013   \n",
       "309fdbfc-227b-4588-9264-f0f4e3cadfcb  1994   \n",
       "d5814bab-5fc2-4c31-92b7-543c7ce75cb4  2012   \n",
       "\n",
       "                                                                           summary_toks  \\\n",
       "pub_id                                                                                    \n",
       "400818dc-63af-4a26-80c5-906f98e1f8ab  [balloon, stabil, analysi, jet, hmode, dischar...   \n",
       "18b1a861-afef-4fff-bc80-d02e05be18c4  [queri, process, data, integr, chapter, illust...   \n",
       "309fdbfc-227b-4588-9264-f0f4e3cadfcb  [comprehens, syntax, syntax, comprehens, close...   \n",
       "d5814bab-5fc2-4c31-92b7-543c7ce75cb4  [evalu, speaker, verif, secur, detect, hmmbase...   \n",
       "\n",
       "                                                                                    bow  \n",
       "pub_id                                                                                   \n",
       "400818dc-63af-4a26-80c5-906f98e1f8ab  [(40, 2), (156, 1), (223, 2), (293, 2), (328, ...  \n",
       "18b1a861-afef-4fff-bc80-d02e05be18c4  [(40, 1), (229, 1), (253, 1), (319, 2), (330, ...  \n",
       "309fdbfc-227b-4588-9264-f0f4e3cadfcb  [(90, 3), (123, 1), (186, 1), (189, 5), (196, ...  \n",
       "d5814bab-5fc2-4c31-92b7-543c7ce75cb4  [(18, 1), (28, 1), (29, 2), (30, 1), (63, 1), ...  "
      ]
     },
     "execution_count": 9,
     "metadata": {},
     "output_type": "execute_result"
    }
   ],
   "source": [
    "pub_toks.head(4)"
   ]
  },
  {
   "cell_type": "code",
   "execution_count": 10,
   "metadata": {
    "ExecuteTime": {
     "end_time": "2017-11-23T13:47:16.598901Z",
     "start_time": "2017-11-23T13:47:16.583327Z"
    }
   },
   "outputs": [],
   "source": [
    "# load the LDA models:\n",
    "fullpubLDA = models.LdaModel.load('fullpub.ldamodel')"
   ]
  },
  {
   "cell_type": "code",
   "execution_count": 13,
   "metadata": {
    "ExecuteTime": {
     "end_time": "2017-11-23T13:47:16.652168Z",
     "start_time": "2017-11-23T13:47:16.637484Z"
    }
   },
   "outputs": [],
   "source": [
    "def inference(ldaModel, ldaVector):\n",
    "    num_topics = ldaModel.num_topics\n",
    "    topic_dist = ldaModel[ldaVector]\n",
    "    \n",
    "    # index the topic_distribution according to the distribution:\n",
    "    out = [0]*num_topics\n",
    "    for (i,v) in topic_dist:\n",
    "        out[i] = v\n",
    "    assert len(out) == num_topics\n",
    "    return out"
   ]
  },
  {
   "cell_type": "code",
   "execution_count": 14,
   "metadata": {
    "ExecuteTime": {
     "end_time": "2017-11-23T13:47:43.262320Z",
     "start_time": "2017-11-23T13:47:16.659302Z"
    }
   },
   "outputs": [],
   "source": [
    "_inference = lambda row: inference(fullpubLDA, row.bow)\n",
    "pub_toks['topic_distribution'] = pub_toks.apply(_inference, axis=1)"
   ]
  },
  {
   "cell_type": "code",
   "execution_count": 15,
   "metadata": {
    "ExecuteTime": {
     "end_time": "2017-11-23T13:47:43.467544Z",
     "start_time": "2017-11-23T13:47:43.275934Z"
    },
    "scrolled": true
   },
   "outputs": [
    {
     "data": {
      "text/html": [
       "<div>\n",
       "<style scoped>\n",
       "    .dataframe tbody tr th:only-of-type {\n",
       "        vertical-align: middle;\n",
       "    }\n",
       "\n",
       "    .dataframe tbody tr th {\n",
       "        vertical-align: top;\n",
       "    }\n",
       "\n",
       "    .dataframe thead th {\n",
       "        text-align: right;\n",
       "    }\n",
       "</style>\n",
       "<table border=\"1\" class=\"dataframe\">\n",
       "  <thead>\n",
       "    <tr style=\"text-align: right;\">\n",
       "      <th></th>\n",
       "      <th>year</th>\n",
       "      <th>summary_toks</th>\n",
       "      <th>bow</th>\n",
       "      <th>topic_distribution</th>\n",
       "    </tr>\n",
       "    <tr>\n",
       "      <th>pub_id</th>\n",
       "      <th></th>\n",
       "      <th></th>\n",
       "      <th></th>\n",
       "      <th></th>\n",
       "    </tr>\n",
       "  </thead>\n",
       "  <tbody>\n",
       "    <tr>\n",
       "      <th>400818dc-63af-4a26-80c5-906f98e1f8ab</th>\n",
       "      <td>1989</td>\n",
       "      <td>[balloon, stabil, analysi, jet, hmode, dischar...</td>\n",
       "      <td>[(40, 2), (156, 1), (223, 2), (293, 2), (328, ...</td>\n",
       "      <td>[0, 0.0982922003593, 0, 0.0248418858752, 0.422...</td>\n",
       "    </tr>\n",
       "    <tr>\n",
       "      <th>18b1a861-afef-4fff-bc80-d02e05be18c4</th>\n",
       "      <td>2013</td>\n",
       "      <td>[queri, process, data, integr, chapter, illust...</td>\n",
       "      <td>[(40, 1), (229, 1), (253, 1), (319, 2), (330, ...</td>\n",
       "      <td>[0, 0, 0, 0, 0, 0.153429075164, 0, 0, 0.341365...</td>\n",
       "    </tr>\n",
       "    <tr>\n",
       "      <th>309fdbfc-227b-4588-9264-f0f4e3cadfcb</th>\n",
       "      <td>1994</td>\n",
       "      <td>[comprehens, syntax, syntax, comprehens, close...</td>\n",
       "      <td>[(90, 3), (123, 1), (186, 1), (189, 5), (196, ...</td>\n",
       "      <td>[0, 0.298135265913, 0, 0, 0, 0, 0, 0, 0, 0.181...</td>\n",
       "    </tr>\n",
       "    <tr>\n",
       "      <th>d5814bab-5fc2-4c31-92b7-543c7ce75cb4</th>\n",
       "      <td>2012</td>\n",
       "      <td>[evalu, speaker, verif, secur, detect, hmmbase...</td>\n",
       "      <td>[(18, 1), (28, 1), (29, 2), (30, 1), (63, 1), ...</td>\n",
       "      <td>[0, 0, 0, 0, 0.132472201269, 0, 0, 0, 0.122855...</td>\n",
       "    </tr>\n",
       "  </tbody>\n",
       "</table>\n",
       "</div>"
      ],
      "text/plain": [
       "                                      year  \\\n",
       "pub_id                                       \n",
       "400818dc-63af-4a26-80c5-906f98e1f8ab  1989   \n",
       "18b1a861-afef-4fff-bc80-d02e05be18c4  2013   \n",
       "309fdbfc-227b-4588-9264-f0f4e3cadfcb  1994   \n",
       "d5814bab-5fc2-4c31-92b7-543c7ce75cb4  2012   \n",
       "\n",
       "                                                                           summary_toks  \\\n",
       "pub_id                                                                                    \n",
       "400818dc-63af-4a26-80c5-906f98e1f8ab  [balloon, stabil, analysi, jet, hmode, dischar...   \n",
       "18b1a861-afef-4fff-bc80-d02e05be18c4  [queri, process, data, integr, chapter, illust...   \n",
       "309fdbfc-227b-4588-9264-f0f4e3cadfcb  [comprehens, syntax, syntax, comprehens, close...   \n",
       "d5814bab-5fc2-4c31-92b7-543c7ce75cb4  [evalu, speaker, verif, secur, detect, hmmbase...   \n",
       "\n",
       "                                                                                    bow  \\\n",
       "pub_id                                                                                    \n",
       "400818dc-63af-4a26-80c5-906f98e1f8ab  [(40, 2), (156, 1), (223, 2), (293, 2), (328, ...   \n",
       "18b1a861-afef-4fff-bc80-d02e05be18c4  [(40, 1), (229, 1), (253, 1), (319, 2), (330, ...   \n",
       "309fdbfc-227b-4588-9264-f0f4e3cadfcb  [(90, 3), (123, 1), (186, 1), (189, 5), (196, ...   \n",
       "d5814bab-5fc2-4c31-92b7-543c7ce75cb4  [(18, 1), (28, 1), (29, 2), (30, 1), (63, 1), ...   \n",
       "\n",
       "                                                                     topic_distribution  \n",
       "pub_id                                                                                   \n",
       "400818dc-63af-4a26-80c5-906f98e1f8ab  [0, 0.0982922003593, 0, 0.0248418858752, 0.422...  \n",
       "18b1a861-afef-4fff-bc80-d02e05be18c4  [0, 0, 0, 0, 0, 0.153429075164, 0, 0, 0.341365...  \n",
       "309fdbfc-227b-4588-9264-f0f4e3cadfcb  [0, 0.298135265913, 0, 0, 0, 0, 0, 0, 0, 0.181...  \n",
       "d5814bab-5fc2-4c31-92b7-543c7ce75cb4  [0, 0, 0, 0, 0.132472201269, 0, 0, 0, 0.122855...  "
      ]
     },
     "execution_count": 15,
     "metadata": {},
     "output_type": "execute_result"
    }
   ],
   "source": [
    "pub_toks.head(4)"
   ]
  },
  {
   "cell_type": "code",
   "execution_count": 90,
   "metadata": {
    "ExecuteTime": {
     "end_time": "2017-11-23T15:35:47.005545Z",
     "start_time": "2017-11-23T15:35:46.999334Z"
    }
   },
   "outputs": [],
   "source": [
    "def best_topic(topic_dist):\n",
    "    \"\"\"\n",
    "    Assign the pulbication with the topic that best describes it;\n",
    "    this is equivalent to the index that have the highest topic_distribution\n",
    "    \"\"\"\n",
    "    a = np.argmax(topic_dist)\n",
    "    assert a < 20\n",
    "    assert a >= 0\n",
    "    return a"
   ]
  },
  {
   "cell_type": "code",
   "execution_count": 91,
   "metadata": {
    "ExecuteTime": {
     "end_time": "2017-11-23T15:36:17.591262Z",
     "start_time": "2017-11-23T15:36:17.042130Z"
    }
   },
   "outputs": [],
   "source": [
    "pub_toks['best_topic'] = pub_toks.apply(lambda row: best_topic(row.topic_distribution), axis=1)"
   ]
  },
  {
   "cell_type": "code",
   "execution_count": 92,
   "metadata": {
    "ExecuteTime": {
     "end_time": "2017-11-23T15:36:28.170746Z",
     "start_time": "2017-11-23T15:36:28.013971Z"
    }
   },
   "outputs": [
    {
     "data": {
      "text/html": [
       "<div>\n",
       "<style scoped>\n",
       "    .dataframe tbody tr th:only-of-type {\n",
       "        vertical-align: middle;\n",
       "    }\n",
       "\n",
       "    .dataframe tbody tr th {\n",
       "        vertical-align: top;\n",
       "    }\n",
       "\n",
       "    .dataframe thead th {\n",
       "        text-align: right;\n",
       "    }\n",
       "</style>\n",
       "<table border=\"1\" class=\"dataframe\">\n",
       "  <thead>\n",
       "    <tr style=\"text-align: right;\">\n",
       "      <th></th>\n",
       "      <th>year</th>\n",
       "      <th>summary_toks</th>\n",
       "      <th>bow</th>\n",
       "      <th>topic_distribution</th>\n",
       "      <th>best_topic</th>\n",
       "    </tr>\n",
       "    <tr>\n",
       "      <th>pub_id</th>\n",
       "      <th></th>\n",
       "      <th></th>\n",
       "      <th></th>\n",
       "      <th></th>\n",
       "      <th></th>\n",
       "    </tr>\n",
       "  </thead>\n",
       "  <tbody>\n",
       "    <tr>\n",
       "      <th>400818dc-63af-4a26-80c5-906f98e1f8ab</th>\n",
       "      <td>1989</td>\n",
       "      <td>[balloon, stabil, analysi, jet, hmode, dischar...</td>\n",
       "      <td>[(40, 2), (156, 1), (223, 2), (293, 2), (328, ...</td>\n",
       "      <td>[0, 0.0982922003593, 0, 0.0248418858752, 0.422...</td>\n",
       "      <td>4</td>\n",
       "    </tr>\n",
       "    <tr>\n",
       "      <th>18b1a861-afef-4fff-bc80-d02e05be18c4</th>\n",
       "      <td>2013</td>\n",
       "      <td>[queri, process, data, integr, chapter, illust...</td>\n",
       "      <td>[(40, 1), (229, 1), (253, 1), (319, 2), (330, ...</td>\n",
       "      <td>[0, 0, 0, 0, 0, 0.153429075164, 0, 0, 0.341365...</td>\n",
       "      <td>18</td>\n",
       "    </tr>\n",
       "    <tr>\n",
       "      <th>309fdbfc-227b-4588-9264-f0f4e3cadfcb</th>\n",
       "      <td>1994</td>\n",
       "      <td>[comprehens, syntax, syntax, comprehens, close...</td>\n",
       "      <td>[(90, 3), (123, 1), (186, 1), (189, 5), (196, ...</td>\n",
       "      <td>[0, 0.298135265913, 0, 0, 0, 0, 0, 0, 0, 0.181...</td>\n",
       "      <td>18</td>\n",
       "    </tr>\n",
       "    <tr>\n",
       "      <th>d5814bab-5fc2-4c31-92b7-543c7ce75cb4</th>\n",
       "      <td>2012</td>\n",
       "      <td>[evalu, speaker, verif, secur, detect, hmmbase...</td>\n",
       "      <td>[(18, 1), (28, 1), (29, 2), (30, 1), (63, 1), ...</td>\n",
       "      <td>[0, 0, 0, 0, 0.132472201269, 0, 0, 0, 0.122855...</td>\n",
       "      <td>13</td>\n",
       "    </tr>\n",
       "  </tbody>\n",
       "</table>\n",
       "</div>"
      ],
      "text/plain": [
       "                                      year  \\\n",
       "pub_id                                       \n",
       "400818dc-63af-4a26-80c5-906f98e1f8ab  1989   \n",
       "18b1a861-afef-4fff-bc80-d02e05be18c4  2013   \n",
       "309fdbfc-227b-4588-9264-f0f4e3cadfcb  1994   \n",
       "d5814bab-5fc2-4c31-92b7-543c7ce75cb4  2012   \n",
       "\n",
       "                                                                           summary_toks  \\\n",
       "pub_id                                                                                    \n",
       "400818dc-63af-4a26-80c5-906f98e1f8ab  [balloon, stabil, analysi, jet, hmode, dischar...   \n",
       "18b1a861-afef-4fff-bc80-d02e05be18c4  [queri, process, data, integr, chapter, illust...   \n",
       "309fdbfc-227b-4588-9264-f0f4e3cadfcb  [comprehens, syntax, syntax, comprehens, close...   \n",
       "d5814bab-5fc2-4c31-92b7-543c7ce75cb4  [evalu, speaker, verif, secur, detect, hmmbase...   \n",
       "\n",
       "                                                                                    bow  \\\n",
       "pub_id                                                                                    \n",
       "400818dc-63af-4a26-80c5-906f98e1f8ab  [(40, 2), (156, 1), (223, 2), (293, 2), (328, ...   \n",
       "18b1a861-afef-4fff-bc80-d02e05be18c4  [(40, 1), (229, 1), (253, 1), (319, 2), (330, ...   \n",
       "309fdbfc-227b-4588-9264-f0f4e3cadfcb  [(90, 3), (123, 1), (186, 1), (189, 5), (196, ...   \n",
       "d5814bab-5fc2-4c31-92b7-543c7ce75cb4  [(18, 1), (28, 1), (29, 2), (30, 1), (63, 1), ...   \n",
       "\n",
       "                                                                     topic_distribution  \\\n",
       "pub_id                                                                                    \n",
       "400818dc-63af-4a26-80c5-906f98e1f8ab  [0, 0.0982922003593, 0, 0.0248418858752, 0.422...   \n",
       "18b1a861-afef-4fff-bc80-d02e05be18c4  [0, 0, 0, 0, 0, 0.153429075164, 0, 0, 0.341365...   \n",
       "309fdbfc-227b-4588-9264-f0f4e3cadfcb  [0, 0.298135265913, 0, 0, 0, 0, 0, 0, 0, 0.181...   \n",
       "d5814bab-5fc2-4c31-92b7-543c7ce75cb4  [0, 0, 0, 0, 0.132472201269, 0, 0, 0, 0.122855...   \n",
       "\n",
       "                                      best_topic  \n",
       "pub_id                                            \n",
       "400818dc-63af-4a26-80c5-906f98e1f8ab           4  \n",
       "18b1a861-afef-4fff-bc80-d02e05be18c4          18  \n",
       "309fdbfc-227b-4588-9264-f0f4e3cadfcb          18  \n",
       "d5814bab-5fc2-4c31-92b7-543c7ce75cb4          13  "
      ]
     },
     "execution_count": 92,
     "metadata": {},
     "output_type": "execute_result"
    }
   ],
   "source": [
    "pub_toks.head(4)"
   ]
  },
  {
   "cell_type": "markdown",
   "metadata": {},
   "source": [
    "## Clustering"
   ]
  },
  {
   "cell_type": "code",
   "execution_count": 62,
   "metadata": {
    "ExecuteTime": {
     "end_time": "2017-11-23T15:05:25.164916Z",
     "start_time": "2017-11-23T15:05:25.159127Z"
    }
   },
   "outputs": [],
   "source": [
    "## Our dataset will be the topic_distribution:\n",
    "data = pub_toks.topic_distribution.values"
   ]
  },
  {
   "cell_type": "code",
   "execution_count": 67,
   "metadata": {
    "ExecuteTime": {
     "end_time": "2017-11-23T15:05:51.503806Z",
     "start_time": "2017-11-23T15:05:51.493711Z"
    }
   },
   "outputs": [
    {
     "data": {
      "text/plain": [
       "[0,\n",
       " 0,\n",
       " 0,\n",
       " 0,\n",
       " 0,\n",
       " 0.15342907516391038,\n",
       " 0,\n",
       " 0,\n",
       " 0.34136581260169824,\n",
       " 0,\n",
       " 0,\n",
       " 0,\n",
       " 0.043999393776760681,\n",
       " 0,\n",
       " 0,\n",
       " 0,\n",
       " 0,\n",
       " 0,\n",
       " 0.44908450613435019,\n",
       " 0]"
      ]
     },
     "execution_count": 67,
     "metadata": {},
     "output_type": "execute_result"
    }
   ],
   "source": [
    "data = list(data)\n",
    "data[1]"
   ]
  },
  {
   "cell_type": "code",
   "execution_count": 70,
   "metadata": {
    "ExecuteTime": {
     "end_time": "2017-11-23T15:11:30.599100Z",
     "start_time": "2017-11-23T15:11:30.593958Z"
    }
   },
   "outputs": [],
   "source": [
    "import numpy as np"
   ]
  },
  {
   "cell_type": "code",
   "execution_count": 72,
   "metadata": {
    "ExecuteTime": {
     "end_time": "2017-11-23T15:11:50.533338Z",
     "start_time": "2017-11-23T15:11:50.499117Z"
    }
   },
   "outputs": [],
   "source": [
    "data = np.array(data)"
   ]
  },
  {
   "cell_type": "code",
   "execution_count": 76,
   "metadata": {
    "ExecuteTime": {
     "end_time": "2017-11-23T15:18:37.470429Z",
     "start_time": "2017-11-23T15:18:37.465896Z"
    }
   },
   "outputs": [],
   "source": [
    "n_samples, n_features = data.shape"
   ]
  },
  {
   "cell_type": "markdown",
   "metadata": {},
   "source": [
    "### Visualisation"
   ]
  },
  {
   "cell_type": "code",
   "execution_count": 79,
   "metadata": {
    "ExecuteTime": {
     "end_time": "2017-11-23T15:21:36.291381Z",
     "start_time": "2017-11-23T15:21:36.281221Z"
    }
   },
   "outputs": [],
   "source": [
    "import matplotlib.pyplot as plt\n",
    "%matplotlib inline\n",
    "rng = np.random.RandomState(1234567)"
   ]
  },
  {
   "cell_type": "code",
   "execution_count": 104,
   "metadata": {
    "ExecuteTime": {
     "end_time": "2017-11-23T15:41:31.710082Z",
     "start_time": "2017-11-23T15:41:31.705209Z"
    }
   },
   "outputs": [],
   "source": [
    "from sklearn import manifold"
   ]
  },
  {
   "cell_type": "markdown",
   "metadata": {},
   "source": [
    "#### `TSNE`"
   ]
  },
  {
   "cell_type": "code",
   "execution_count": 80,
   "metadata": {
    "ExecuteTime": {
     "end_time": "2017-11-23T15:27:20.018391Z",
     "start_time": "2017-11-23T15:21:42.887066Z"
    }
   },
   "outputs": [],
   "source": [
    "x_components = manifold.TSNE(n_components=2, init='pca', random_state=rng).fit_transform(data)"
   ]
  },
  {
   "cell_type": "code",
   "execution_count": 103,
   "metadata": {
    "ExecuteTime": {
     "end_time": "2017-11-23T15:39:48.325540Z",
     "start_time": "2017-11-23T15:39:47.557981Z"
    }
   },
   "outputs": [
    {
     "data": {
      "image/png": "[encoded data removed]",
      "text/plain": [
       "<matplotlib.figure.Figure at 0x1a27781e50>"
      ]
     },
     "metadata": {},
     "output_type": "display_data"
    }
   ],
   "source": [
    "f = plt.figure(figsize=(10,10))\n",
    "ax = f.add_subplot(111)\n",
    "ax.scatter(x_components[:,0], x_components[:,1], c=list(pub_toks.best_topic), cmap=plt.cm.jet, s=8)\n",
    "ax.legend(loc='best')\n",
    "ax.axis('off')\n",
    "plt.show()"
   ]
  },
  {
   "cell_type": "markdown",
   "metadata": {},
   "source": [
    "#### `MDS`"
   ]
  },
  {
   "cell_type": "code",
   "execution_count": null,
   "metadata": {
    "ExecuteTime": {
     "start_time": "2017-11-23T16:53:21.228Z"
    }
   },
   "outputs": [],
   "source": [
    "# Multidimensional Scaling\n",
    "mds_components = manifold.MDS(n_components=2, random_state=rng).fit_transform(data)"
   ]
  },
  {
   "cell_type": "code",
   "execution_count": null,
   "metadata": {
    "ExecuteTime": {
     "end_time": "2017-11-23T16:43:08.575137Z",
     "start_time": "2017-11-23T15:52:27.214Z"
    }
   },
   "outputs": [],
   "source": [
    "f = plt.figure(figsize=(10,10))\n",
    "ax = f.add_subplot(111)\n",
    "ax.scatter(mds_components[:,0], mds_components[:,1], c=list(pub_toks.best_topic), cmap=plt.cm.jet, s=8)\n",
    "ax.legend(loc='best')\n",
    "ax.axis('off')\n",
    "plt.show()"
   ]
  },
  {
   "cell_type": "markdown",
   "metadata": {},
   "source": [
    "### Nearest Neighbors"
   ]
  },
  {
   "cell_type": "code",
   "execution_count": null,
   "metadata": {},
   "outputs": [],
   "source": [
    "from sklearn.neighbors import NearestNeighbors"
   ]
  },
  {
   "cell_type": "markdown",
   "metadata": {},
   "source": [
    "# Topic Distribution of PoInf"
   ]
  },
  {
   "cell_type": "code",
   "execution_count": 16,
   "metadata": {
    "ExecuteTime": {
     "end_time": "2017-11-23T13:47:45.858759Z",
     "start_time": "2017-11-23T13:47:43.473120Z"
    }
   },
   "outputs": [],
   "source": [
    "# Create a new pandas table that merge the lookup_poinf and lookup_pub\n",
    "# each pub in lookup_pub have a collab_id that have a list of collaborators by id\n",
    "# We can ignore those that are not in the list of id for PoInf\n",
    "\n",
    "# Create the list of ids for easy checking:\n",
    "poinf_id = set(lookup_poinf.index)\n",
    "\n",
    "# we can now create such an index:\n",
    "pub_mapping = {str(_id):set() for _id in list(poinf_id)}\n",
    "\n",
    "for row in lookup_pub.iterrows():\n",
    "    pub_id = row[0]\n",
    "    collab_ids = row[1]['collab_id']\n",
    "    for _id in collab_ids:\n",
    "        if _id in poinf_id:\n",
    "            pub_mapping[_id].add(pub_id)"
   ]
  },
  {
   "cell_type": "code",
   "execution_count": 17,
   "metadata": {
    "ExecuteTime": {
     "end_time": "2017-11-23T13:47:45.873842Z",
     "start_time": "2017-11-23T13:47:45.863482Z"
    }
   },
   "outputs": [],
   "source": [
    "row_list = [{'id':k, 'pub_ids':v} for (k,v) in pub_mapping.items()]"
   ]
  },
  {
   "cell_type": "code",
   "execution_count": 18,
   "metadata": {
    "ExecuteTime": {
     "end_time": "2017-11-23T13:47:45.890540Z",
     "start_time": "2017-11-23T13:47:45.881727Z"
    }
   },
   "outputs": [],
   "source": [
    "# Add these pub_ids to the pandas df:\n",
    "df_pubmapping = pd.DataFrame(row_list)"
   ]
  },
  {
   "cell_type": "code",
   "execution_count": 19,
   "metadata": {
    "ExecuteTime": {
     "end_time": "2017-11-23T13:47:45.920462Z",
     "start_time": "2017-11-23T13:47:45.896368Z"
    }
   },
   "outputs": [],
   "source": [
    "lookup_poinf_more = lookup_poinf.join(df_pubmapping.set_index('id'))"
   ]
  },
  {
   "cell_type": "code",
   "execution_count": 37,
   "metadata": {
    "ExecuteTime": {
     "end_time": "2017-11-23T14:15:51.888924Z",
     "start_time": "2017-11-23T14:15:51.550297Z"
    },
    "scrolled": false
   },
   "outputs": [
    {
     "data": {
      "text/html": [
       "<div>\n",
       "<style scoped>\n",
       "    .dataframe tbody tr th:only-of-type {\n",
       "        vertical-align: middle;\n",
       "    }\n",
       "\n",
       "    .dataframe tbody tr th {\n",
       "        vertical-align: top;\n",
       "    }\n",
       "\n",
       "    .dataframe thead th {\n",
       "        text-align: right;\n",
       "    }\n",
       "</style>\n",
       "<table border=\"1\" class=\"dataframe\">\n",
       "  <thead>\n",
       "    <tr style=\"text-align: right;\">\n",
       "      <th></th>\n",
       "      <th>last_name</th>\n",
       "      <th>first_name</th>\n",
       "      <th>perseonal_url</th>\n",
       "      <th>position</th>\n",
       "      <th>parent</th>\n",
       "      <th>institute</th>\n",
       "      <th>full_name</th>\n",
       "      <th>institute_class</th>\n",
       "      <th>alias</th>\n",
       "      <th>pub_ids</th>\n",
       "      <th>toks</th>\n",
       "    </tr>\n",
       "    <tr>\n",
       "      <th>id</th>\n",
       "      <th></th>\n",
       "      <th></th>\n",
       "      <th></th>\n",
       "      <th></th>\n",
       "      <th></th>\n",
       "      <th></th>\n",
       "      <th></th>\n",
       "      <th></th>\n",
       "      <th></th>\n",
       "      <th></th>\n",
       "      <th></th>\n",
       "    </tr>\n",
       "  </thead>\n",
       "  <tbody>\n",
       "    <tr>\n",
       "      <th>0ed800f5-a3a0-47d7-a8b3-f97a4f2b6931</th>\n",
       "      <td>steuwer</td>\n",
       "      <td>michel</td>\n",
       "      <td>http://www.research.ed.ac.uk/portal/en/persons...</td>\n",
       "      <td>unknown</td>\n",
       "      <td>institute for computing systems architecture</td>\n",
       "      <td>laboratory for foundations of computer science</td>\n",
       "      <td>steuwer michel</td>\n",
       "      <td>3</td>\n",
       "      <td>steuwer, m.</td>\n",
       "      <td>{20cb2fdd-6d93-40b9-9cab-e9d818eb166e, b74a3be...</td>\n",
       "      <td>[[highlevel, program, medic, imag, multigpu, s...</td>\n",
       "    </tr>\n",
       "    <tr>\n",
       "      <th>102286ee-5f21-4aed-abfd-e4ea1a615223</th>\n",
       "      <td>oberlander</td>\n",
       "      <td>jon</td>\n",
       "      <td>http://www.research.ed.ac.uk/portal/en/persons...</td>\n",
       "      <td>professor</td>\n",
       "      <td>school of informatics</td>\n",
       "      <td>institute of language cognition and computation</td>\n",
       "      <td>oberlander jon</td>\n",
       "      <td>2</td>\n",
       "      <td>oberlander, j.</td>\n",
       "      <td>{5be3a6b1-5ee4-4a39-9fff-88b22238fb98, 4629e88...</td>\n",
       "      <td>[[verbal, effect, visual, program, inform, typ...</td>\n",
       "    </tr>\n",
       "    <tr>\n",
       "      <th>10ff8e7a-53b2-4d2f-adad-ef695bc595a7</th>\n",
       "      <td>wen</td>\n",
       "      <td>zhenyu</td>\n",
       "      <td>http://www.research.ed.ac.uk/portal/en/persons...</td>\n",
       "      <td>research associate</td>\n",
       "      <td>school of informatics</td>\n",
       "      <td>laboratory for foundations of computer science</td>\n",
       "      <td>wen zhenyu</td>\n",
       "      <td>3</td>\n",
       "      <td>wen, z.</td>\n",
       "      <td>{872e450f-87e9-4956-9678-5b09f3cd4f84, a4cad99...</td>\n",
       "      <td>[[cost, effici, schedul, mapreduc, applic, pub...</td>\n",
       "    </tr>\n",
       "    <tr>\n",
       "      <th>114a78ef-c940-4653-8429-7c2897a96043</th>\n",
       "      <td>jovanovic</td>\n",
       "      <td>jelena</td>\n",
       "      <td>http://www.research.ed.ac.uk/portal/en/persons...</td>\n",
       "      <td>visitor official visitor</td>\n",
       "      <td>school of informatics</td>\n",
       "      <td>institute of language cognition and computation</td>\n",
       "      <td>jovanovic jelena</td>\n",
       "      <td>2</td>\n",
       "      <td>jovanovic, j.</td>\n",
       "      <td>{b4b0b45d-72d9-4f39-929c-ea451288f253}</td>\n",
       "      <td>[[analyticsbas, framework, support, teach, lea...</td>\n",
       "    </tr>\n",
       "  </tbody>\n",
       "</table>\n",
       "</div>"
      ],
      "text/plain": [
       "                                       last_name first_name  \\\n",
       "id                                                            \n",
       "0ed800f5-a3a0-47d7-a8b3-f97a4f2b6931     steuwer     michel   \n",
       "102286ee-5f21-4aed-abfd-e4ea1a615223  oberlander        jon   \n",
       "10ff8e7a-53b2-4d2f-adad-ef695bc595a7         wen     zhenyu   \n",
       "114a78ef-c940-4653-8429-7c2897a96043   jovanovic     jelena   \n",
       "\n",
       "                                                                          perseonal_url  \\\n",
       "id                                                                                        \n",
       "0ed800f5-a3a0-47d7-a8b3-f97a4f2b6931  http://www.research.ed.ac.uk/portal/en/persons...   \n",
       "102286ee-5f21-4aed-abfd-e4ea1a615223  http://www.research.ed.ac.uk/portal/en/persons...   \n",
       "10ff8e7a-53b2-4d2f-adad-ef695bc595a7  http://www.research.ed.ac.uk/portal/en/persons...   \n",
       "114a78ef-c940-4653-8429-7c2897a96043  http://www.research.ed.ac.uk/portal/en/persons...   \n",
       "\n",
       "                                                      position  \\\n",
       "id                                                               \n",
       "0ed800f5-a3a0-47d7-a8b3-f97a4f2b6931                   unknown   \n",
       "102286ee-5f21-4aed-abfd-e4ea1a615223                 professor   \n",
       "10ff8e7a-53b2-4d2f-adad-ef695bc595a7        research associate   \n",
       "114a78ef-c940-4653-8429-7c2897a96043  visitor official visitor   \n",
       "\n",
       "                                                                            parent  \\\n",
       "id                                                                                   \n",
       "0ed800f5-a3a0-47d7-a8b3-f97a4f2b6931  institute for computing systems architecture   \n",
       "102286ee-5f21-4aed-abfd-e4ea1a615223                         school of informatics   \n",
       "10ff8e7a-53b2-4d2f-adad-ef695bc595a7                         school of informatics   \n",
       "114a78ef-c940-4653-8429-7c2897a96043                         school of informatics   \n",
       "\n",
       "                                                                            institute  \\\n",
       "id                                                                                      \n",
       "0ed800f5-a3a0-47d7-a8b3-f97a4f2b6931   laboratory for foundations of computer science   \n",
       "102286ee-5f21-4aed-abfd-e4ea1a615223  institute of language cognition and computation   \n",
       "10ff8e7a-53b2-4d2f-adad-ef695bc595a7   laboratory for foundations of computer science   \n",
       "114a78ef-c940-4653-8429-7c2897a96043  institute of language cognition and computation   \n",
       "\n",
       "                                             full_name  institute_class  \\\n",
       "id                                                                        \n",
       "0ed800f5-a3a0-47d7-a8b3-f97a4f2b6931    steuwer michel                3   \n",
       "102286ee-5f21-4aed-abfd-e4ea1a615223    oberlander jon                2   \n",
       "10ff8e7a-53b2-4d2f-adad-ef695bc595a7        wen zhenyu                3   \n",
       "114a78ef-c940-4653-8429-7c2897a96043  jovanovic jelena                2   \n",
       "\n",
       "                                               alias  \\\n",
       "id                                                     \n",
       "0ed800f5-a3a0-47d7-a8b3-f97a4f2b6931     steuwer, m.   \n",
       "102286ee-5f21-4aed-abfd-e4ea1a615223  oberlander, j.   \n",
       "10ff8e7a-53b2-4d2f-adad-ef695bc595a7         wen, z.   \n",
       "114a78ef-c940-4653-8429-7c2897a96043   jovanovic, j.   \n",
       "\n",
       "                                                                                pub_ids  \\\n",
       "id                                                                                        \n",
       "0ed800f5-a3a0-47d7-a8b3-f97a4f2b6931  {20cb2fdd-6d93-40b9-9cab-e9d818eb166e, b74a3be...   \n",
       "102286ee-5f21-4aed-abfd-e4ea1a615223  {5be3a6b1-5ee4-4a39-9fff-88b22238fb98, 4629e88...   \n",
       "10ff8e7a-53b2-4d2f-adad-ef695bc595a7  {872e450f-87e9-4956-9678-5b09f3cd4f84, a4cad99...   \n",
       "114a78ef-c940-4653-8429-7c2897a96043             {b4b0b45d-72d9-4f39-929c-ea451288f253}   \n",
       "\n",
       "                                                                                   toks  \n",
       "id                                                                                       \n",
       "0ed800f5-a3a0-47d7-a8b3-f97a4f2b6931  [[highlevel, program, medic, imag, multigpu, s...  \n",
       "102286ee-5f21-4aed-abfd-e4ea1a615223  [[verbal, effect, visual, program, inform, typ...  \n",
       "10ff8e7a-53b2-4d2f-adad-ef695bc595a7  [[cost, effici, schedul, mapreduc, applic, pub...  \n",
       "114a78ef-c940-4653-8429-7c2897a96043  [[analyticsbas, framework, support, teach, lea...  "
      ]
     },
     "execution_count": 37,
     "metadata": {},
     "output_type": "execute_result"
    }
   ],
   "source": [
    "lookup_poinf_more.iloc[20:24]"
   ]
  },
  {
   "cell_type": "code",
   "execution_count": 43,
   "metadata": {
    "ExecuteTime": {
     "end_time": "2017-11-23T14:19:15.831455Z",
     "start_time": "2017-11-23T14:19:15.822242Z"
    }
   },
   "outputs": [],
   "source": [
    "def getToks(pub_ids):\n",
    "    out = []\n",
    "    try:\n",
    "        if len(pub_ids):\n",
    "            for pub_id in pub_ids:\n",
    "                out.extend(pub_toks[pub_toks.index == pub_id].summary_toks)\n",
    "            # Convert the list of lists to a single list:\n",
    "            out = [tok for tokList in out for tok in tokList]\n",
    "    except TypeError:\n",
    "        print(pub_ids)\n",
    "        \n",
    "    return out"
   ]
  },
  {
   "cell_type": "code",
   "execution_count": 48,
   "metadata": {
    "ExecuteTime": {
     "end_time": "2017-11-23T14:22:16.145784Z",
     "start_time": "2017-11-23T14:21:56.239089Z"
    }
   },
   "outputs": [
    {
     "name": "stdout",
     "output_type": "stream",
     "text": [
      "nan\n",
      "nan\n",
      "nan\n",
      "nan\n"
     ]
    }
   ],
   "source": [
    "lookup_poinf_more['summary_toks'] = lookup_poinf_more.apply(lambda row: getToks(row.pub_ids), axis=1)"
   ]
  },
  {
   "cell_type": "code",
   "execution_count": 49,
   "metadata": {
    "ExecuteTime": {
     "end_time": "2017-11-23T14:22:20.245873Z",
     "start_time": "2017-11-23T14:22:19.141676Z"
    }
   },
   "outputs": [],
   "source": [
    "# Conert to BOW using bowified:\n",
    "lookup_poinf_more['bow'] = lookup_poinf_more.apply(bowified, axis=1)"
   ]
  },
  {
   "cell_type": "code",
   "execution_count": 50,
   "metadata": {
    "ExecuteTime": {
     "end_time": "2017-11-23T14:22:40.673420Z",
     "start_time": "2017-11-23T14:22:39.036703Z"
    }
   },
   "outputs": [],
   "source": [
    "lookup_poinf_more['topic_distribution'] = lookup_poinf_more.apply(_inference, axis=1)"
   ]
  },
  {
   "cell_type": "code",
   "execution_count": 51,
   "metadata": {
    "ExecuteTime": {
     "end_time": "2017-11-23T14:22:50.403854Z",
     "start_time": "2017-11-23T14:22:50.276012Z"
    }
   },
   "outputs": [
    {
     "data": {
      "text/html": [
       "<div>\n",
       "<style scoped>\n",
       "    .dataframe tbody tr th:only-of-type {\n",
       "        vertical-align: middle;\n",
       "    }\n",
       "\n",
       "    .dataframe tbody tr th {\n",
       "        vertical-align: top;\n",
       "    }\n",
       "\n",
       "    .dataframe thead th {\n",
       "        text-align: right;\n",
       "    }\n",
       "</style>\n",
       "<table border=\"1\" class=\"dataframe\">\n",
       "  <thead>\n",
       "    <tr style=\"text-align: right;\">\n",
       "      <th></th>\n",
       "      <th>last_name</th>\n",
       "      <th>first_name</th>\n",
       "      <th>perseonal_url</th>\n",
       "      <th>position</th>\n",
       "      <th>parent</th>\n",
       "      <th>institute</th>\n",
       "      <th>full_name</th>\n",
       "      <th>institute_class</th>\n",
       "      <th>alias</th>\n",
       "      <th>pub_ids</th>\n",
       "      <th>toks</th>\n",
       "      <th>summary_toks</th>\n",
       "      <th>bow</th>\n",
       "      <th>topic_distribution</th>\n",
       "    </tr>\n",
       "    <tr>\n",
       "      <th>id</th>\n",
       "      <th></th>\n",
       "      <th></th>\n",
       "      <th></th>\n",
       "      <th></th>\n",
       "      <th></th>\n",
       "      <th></th>\n",
       "      <th></th>\n",
       "      <th></th>\n",
       "      <th></th>\n",
       "      <th></th>\n",
       "      <th></th>\n",
       "      <th></th>\n",
       "      <th></th>\n",
       "      <th></th>\n",
       "    </tr>\n",
       "  </thead>\n",
       "  <tbody>\n",
       "    <tr>\n",
       "      <th>003ec9bb-18aa-4e6e-95e9-359f0968262a</th>\n",
       "      <td>gray</td>\n",
       "      <td>gavin</td>\n",
       "      <td>http://www.research.ed.ac.uk/portal/en/persons...</td>\n",
       "      <td>research assistant</td>\n",
       "      <td>school of informatics</td>\n",
       "      <td>institute for computing systems architecture</td>\n",
       "      <td>gray gavin</td>\n",
       "      <td>5</td>\n",
       "      <td>NaN</td>\n",
       "      <td>{}</td>\n",
       "      <td>[]</td>\n",
       "      <td>[]</td>\n",
       "      <td>[]</td>\n",
       "      <td>[0.05, 0.05, 0.05, 0.05, 0.05, 0.05, 0.05, 0.0...</td>\n",
       "    </tr>\n",
       "    <tr>\n",
       "      <th>010f9bf0-c04c-4cfb-ab3d-ca150de1e706</th>\n",
       "      <td>jackson</td>\n",
       "      <td>paul</td>\n",
       "      <td>http://www.research.ed.ac.uk/portal/en/persons...</td>\n",
       "      <td>senior lecturer</td>\n",
       "      <td>school of informatics</td>\n",
       "      <td>institute for computing systems architecture</td>\n",
       "      <td>jackson paul</td>\n",
       "      <td>5</td>\n",
       "      <td>jackson, p. b.|jackson, p.</td>\n",
       "      <td>{c5754b06-fcf9-4362-aa3a-1142589b5402, 167c4b6...</td>\n",
       "      <td>[nuprl, use, circuit, design, nuprl, interact,...</td>\n",
       "      <td>[nuprl, use, circuit, design, nuprl, interact,...</td>\n",
       "      <td>[(22, 2), (27, 1), (29, 15), (39, 1), (40, 1),...</td>\n",
       "      <td>[0, 0.326083956289, 0.120584281776, 0.05047796...</td>\n",
       "    </tr>\n",
       "  </tbody>\n",
       "</table>\n",
       "</div>"
      ],
      "text/plain": [
       "                                     last_name first_name  \\\n",
       "id                                                          \n",
       "003ec9bb-18aa-4e6e-95e9-359f0968262a      gray      gavin   \n",
       "010f9bf0-c04c-4cfb-ab3d-ca150de1e706   jackson       paul   \n",
       "\n",
       "                                                                          perseonal_url  \\\n",
       "id                                                                                        \n",
       "003ec9bb-18aa-4e6e-95e9-359f0968262a  http://www.research.ed.ac.uk/portal/en/persons...   \n",
       "010f9bf0-c04c-4cfb-ab3d-ca150de1e706  http://www.research.ed.ac.uk/portal/en/persons...   \n",
       "\n",
       "                                                position  \\\n",
       "id                                                         \n",
       "003ec9bb-18aa-4e6e-95e9-359f0968262a  research assistant   \n",
       "010f9bf0-c04c-4cfb-ab3d-ca150de1e706     senior lecturer   \n",
       "\n",
       "                                                     parent  \\\n",
       "id                                                            \n",
       "003ec9bb-18aa-4e6e-95e9-359f0968262a  school of informatics   \n",
       "010f9bf0-c04c-4cfb-ab3d-ca150de1e706  school of informatics   \n",
       "\n",
       "                                                                         institute  \\\n",
       "id                                                                                   \n",
       "003ec9bb-18aa-4e6e-95e9-359f0968262a  institute for computing systems architecture   \n",
       "010f9bf0-c04c-4cfb-ab3d-ca150de1e706  institute for computing systems architecture   \n",
       "\n",
       "                                         full_name  institute_class  \\\n",
       "id                                                                    \n",
       "003ec9bb-18aa-4e6e-95e9-359f0968262a    gray gavin                5   \n",
       "010f9bf0-c04c-4cfb-ab3d-ca150de1e706  jackson paul                5   \n",
       "\n",
       "                                                           alias  \\\n",
       "id                                                                 \n",
       "003ec9bb-18aa-4e6e-95e9-359f0968262a                         NaN   \n",
       "010f9bf0-c04c-4cfb-ab3d-ca150de1e706  jackson, p. b.|jackson, p.   \n",
       "\n",
       "                                                                                pub_ids  \\\n",
       "id                                                                                        \n",
       "003ec9bb-18aa-4e6e-95e9-359f0968262a                                                 {}   \n",
       "010f9bf0-c04c-4cfb-ab3d-ca150de1e706  {c5754b06-fcf9-4362-aa3a-1142589b5402, 167c4b6...   \n",
       "\n",
       "                                                                                   toks  \\\n",
       "id                                                                                        \n",
       "003ec9bb-18aa-4e6e-95e9-359f0968262a                                                 []   \n",
       "010f9bf0-c04c-4cfb-ab3d-ca150de1e706  [nuprl, use, circuit, design, nuprl, interact,...   \n",
       "\n",
       "                                                                           summary_toks  \\\n",
       "id                                                                                        \n",
       "003ec9bb-18aa-4e6e-95e9-359f0968262a                                                 []   \n",
       "010f9bf0-c04c-4cfb-ab3d-ca150de1e706  [nuprl, use, circuit, design, nuprl, interact,...   \n",
       "\n",
       "                                                                                    bow  \\\n",
       "id                                                                                        \n",
       "003ec9bb-18aa-4e6e-95e9-359f0968262a                                                 []   \n",
       "010f9bf0-c04c-4cfb-ab3d-ca150de1e706  [(22, 2), (27, 1), (29, 15), (39, 1), (40, 1),...   \n",
       "\n",
       "                                                                     topic_distribution  \n",
       "id                                                                                       \n",
       "003ec9bb-18aa-4e6e-95e9-359f0968262a  [0.05, 0.05, 0.05, 0.05, 0.05, 0.05, 0.05, 0.0...  \n",
       "010f9bf0-c04c-4cfb-ab3d-ca150de1e706  [0, 0.326083956289, 0.120584281776, 0.05047796...  "
      ]
     },
     "execution_count": 51,
     "metadata": {},
     "output_type": "execute_result"
    }
   ],
   "source": [
    "lookup_poinf_more.head(2)"
   ]
  },
  {
   "cell_type": "markdown",
   "metadata": {},
   "source": [
    "## Clustering"
   ]
  },
  {
   "cell_type": "code",
   "execution_count": null,
   "metadata": {},
   "outputs": [],
   "source": []
  }
 ],
 "metadata": {
  "kernelspec": {
   "display_name": "Python 2",
   "language": "python",
   "name": "python2"
  },
  "language_info": {
   "codemirror_mode": {
    "name": "ipython",
    "version": 2
   },
   "file_extension": ".py",
   "mimetype": "text/x-python",
   "name": "python",
   "nbconvert_exporter": "python",
   "pygments_lexer": "ipython2",
   "version": "2.7.14"
  },
  "toc": {
   "nav_menu": {},
   "number_sections": true,
   "sideBar": true,
   "skip_h1_title": false,
   "toc_cell": false,
   "toc_position": {},
   "toc_section_display": "block",
   "toc_window_display": false
  },
  "varInspector": {
   "cols": {
    "lenName": 16,
    "lenType": 16,
    "lenVar": 40
   },
   "kernels_config": {
    "python": {
     "delete_cmd_postfix": "",
     "delete_cmd_prefix": "del ",
     "library": "var_list.py",
     "varRefreshCmd": "print(var_dic_list())"
    },
    "r": {
     "delete_cmd_postfix": ") ",
     "delete_cmd_prefix": "rm(",
     "library": "var_list.r",
     "varRefreshCmd": "cat(var_dic_list()) "
    }
   },
   "types_to_exclude": [
    "module",
    "function",
    "builtin_function_or_method",
    "instance",
    "_Feature"
   ],
   "window_display": false
  }
 },
 "nbformat": 4,
 "nbformat_minor": 2
}
