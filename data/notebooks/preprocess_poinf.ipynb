{
 "cells": [
  {
   "cell_type": "markdown",
   "metadata": {
    "toc": true
   },
   "source": [
    "<h1>Table of Contents<span class=\"tocSkip\"></span></h1>\n",
    "<div class=\"toc\" style=\"margin-top: 1em;\"><ul class=\"toc-item\"><li><span><a href=\"#Preprocess-Scrapped-Data-for-collaboration-network\" data-toc-modified-id=\"Preprocess-Scrapped-Data-for-collaboration-network-1\"><span class=\"toc-item-num\">1&nbsp;&nbsp;</span>Preprocess Scrapped Data for collaboration network</a></span></li><li><span><a href=\"#PeopleOfInformatics.csv:\" data-toc-modified-id=\"PeopleOfInformatics.csv:-2\"><span class=\"toc-item-num\">2&nbsp;&nbsp;</span><code>PeopleOfInformatics</code>.csv:</a></span><ul class=\"toc-item\"><li><span><a href=\"#Check-for-duplicated-names\" data-toc-modified-id=\"Check-for-duplicated-names-2.1\"><span class=\"toc-item-num\">2.1&nbsp;&nbsp;</span>Check for duplicated <code>names</code></a></span></li><li><span><a href=\"#Check-the-institute-field\" data-toc-modified-id=\"Check-the-institute-field-2.2\"><span class=\"toc-item-num\">2.2&nbsp;&nbsp;</span>Check the <code>institute</code> field</a></span></li><li><span><a href=\"#Create-a-mapping-for-the-institutes-found\" data-toc-modified-id=\"Create-a-mapping-for-the-institutes-found-2.3\"><span class=\"toc-item-num\">2.3&nbsp;&nbsp;</span>Create a mapping for the <code>institutes</code> found</a></span></li><li><span><a href=\"#Alias/shortnames\" data-toc-modified-id=\"Alias/shortnames-2.4\"><span class=\"toc-item-num\">2.4&nbsp;&nbsp;</span>Alias/shortnames</a></span></li></ul></li><li><span><a href=\"#Using-publications.csv-information:\" data-toc-modified-id=\"Using-publications.csv-information:-3\"><span class=\"toc-item-num\">3&nbsp;&nbsp;</span>Using <code>publications.csv</code> information:</a></span><ul class=\"toc-item\"><li><span><a href=\"#Assigning-unique-ID-to-external-academic\" data-toc-modified-id=\"Assigning-unique-ID-to-external-academic-3.1\"><span class=\"toc-item-num\">3.1&nbsp;&nbsp;</span>Assigning unique ID to external academic</a></span></li><li><span><a href=\"#Add-id-of-collaborators-into-lookup_pub\" data-toc-modified-id=\"Add-id-of-collaborators-into-lookup_pub-3.2\"><span class=\"toc-item-num\">3.2&nbsp;&nbsp;</span>Add id of collaborators into <code>lookup_pub</code></a></span></li><li><span><a href=\"#Generate-Edgelist\" data-toc-modified-id=\"Generate-Edgelist-3.3\"><span class=\"toc-item-num\">3.3&nbsp;&nbsp;</span>Generate Edgelist</a></span></li><li><span><a href=\"#Additional-metrics\" data-toc-modified-id=\"Additional-metrics-3.4\"><span class=\"toc-item-num\">3.4&nbsp;&nbsp;</span>Additional metrics</a></span></li><li><span><a href=\"#Store-the-dataset\" data-toc-modified-id=\"Store-the-dataset-3.5\"><span class=\"toc-item-num\">3.5&nbsp;&nbsp;</span>Store the dataset</a></span></li></ul></li><li><span><a href=\"#Add-information-onlookup_poinf\" data-toc-modified-id=\"Add-information-onlookup_poinf-4\"><span class=\"toc-item-num\">4&nbsp;&nbsp;</span>Add information on<code>lookup_poinf</code></a></span><ul class=\"toc-item\"><li><span><a href=\"#investigate-researchers-w/o-publications\" data-toc-modified-id=\"investigate-researchers-w/o-publications-4.1\"><span class=\"toc-item-num\">4.1&nbsp;&nbsp;</span>investigate researchers w/o publications</a></span></li></ul></li><li><span><a href=\"#Visualising-data,-generative-statistics\" data-toc-modified-id=\"Visualising-data,-generative-statistics-5\"><span class=\"toc-item-num\">5&nbsp;&nbsp;</span>Visualising data, generative statistics</a></span><ul class=\"toc-item\"><li><span><a href=\"#Researchers\" data-toc-modified-id=\"Researchers-5.1\"><span class=\"toc-item-num\">5.1&nbsp;&nbsp;</span>Researchers</a></span></li><li><span><a href=\"#Distribution-of-institutes\" data-toc-modified-id=\"Distribution-of-institutes-5.2\"><span class=\"toc-item-num\">5.2&nbsp;&nbsp;</span>Distribution of institutes</a></span></li><li><span><a href=\"#Distribution-of-publications-(by-year)\" data-toc-modified-id=\"Distribution-of-publications-(by-year)-5.3\"><span class=\"toc-item-num\">5.3&nbsp;&nbsp;</span>Distribution of publications (by year)</a></span></li><li><span><a href=\"#Distribution-of-publications-(number-of-coauthors)\" data-toc-modified-id=\"Distribution-of-publications-(number-of-coauthors)-5.4\"><span class=\"toc-item-num\">5.4&nbsp;&nbsp;</span>Distribution of publications (number of coauthors)</a></span></li></ul></li></ul></div>"
   ]
  },
  {
   "cell_type": "markdown",
   "metadata": {},
   "source": [
    "---\n",
    "# Preprocess Scrapped Data for collaboration network\n",
    "\n",
    "In this notebook, we clean the data that was scrapped from Edinbugh Research Explorer for the School of Informatics. Preprocessing the data is critical especially for this dataset, as it was noted by many other researchers on collaboration networks that the data collected are usually fuzzy (the problem of alias being used inconsistently for many individuals will resurface later). "
   ]
  },
  {
   "cell_type": "code",
   "execution_count": 9,
   "metadata": {
    "ExecuteTime": {
     "end_time": "2018-04-03T03:27:52.726670Z",
     "start_time": "2018-04-03T03:27:52.723623Z"
    }
   },
   "outputs": [],
   "source": [
    "import pandas as pd\n",
    "import os, csv"
   ]
  },
  {
   "cell_type": "code",
   "execution_count": 10,
   "metadata": {
    "ExecuteTime": {
     "end_time": "2018-04-03T03:27:52.898617Z",
     "start_time": "2018-04-03T03:27:52.893679Z"
    }
   },
   "outputs": [],
   "source": [
    "peopleOfInf_csv = '../data_schoolofinf/peopleOfInformatics.csv'\n",
    "publications_csv = '../data_schoolofinf/publications.csv'\n",
    "\n",
    "INST = [\n",
    "    \"institute for adaptive and neural computation\",\n",
    "    \"institute for computing systems architecture\",\n",
    "    \"institute of language cognition and computation\",\n",
    "    \"institute of perception action and behaviour\",\n",
    "    \"laboratory for foundations of computer science\",\n",
    "    \"centre for intelligent systems and their applications\",\n",
    "    \"neuroinformatics dtc\"\n",
    "]"
   ]
  },
  {
   "cell_type": "markdown",
   "metadata": {},
   "source": [
    "# `PeopleOfInformatics`.csv:\n",
    "This file contains information about the individuals in the School of Informatics. Information scrapped includes \n",
    "\n",
    "1. An unique individual id,\n",
    "2. First and Last name,\n",
    "3. indvidual's position in the school, and\n",
    "4. institute they belong to"
   ]
  },
  {
   "cell_type": "code",
   "execution_count": 3,
   "metadata": {
    "ExecuteTime": {
     "end_time": "2018-04-02T23:44:27.199654Z",
     "start_time": "2018-04-02T23:44:27.057607Z"
    },
    "code_folding": []
   },
   "outputs": [],
   "source": [
    "# Import the csv:\n",
    "pd_pplOfInf = \\\n",
    "pd.read_csv(\n",
    "    filepath_or_buffer=peopleOfInf_csv,\n",
    "    names=[\n",
    "        'id', 'last_name', 'first_name', 'personal_url', 'position', 'parent',\n",
    "        'institute'\n",
    "    ],\n",
    "    index_col='id')"
   ]
  },
  {
   "cell_type": "code",
   "execution_count": 5,
   "metadata": {
    "ExecuteTime": {
     "end_time": "2018-04-02T23:44:40.996200Z",
     "start_time": "2018-04-02T23:44:40.988145Z"
    },
    "code_folding": []
   },
   "outputs": [
    {
     "name": "stdout",
     "output_type": "stream",
     "text": [
      "imported:  291\n",
      "number of indivudals = 288\n"
     ]
    }
   ],
   "source": [
    "# create a column for the full name (= last_name + full_name)\n",
    "_join_names = lambda x_y: \" \".join([x_y[0], x_y[1]])\n",
    "pd_pplOfInf['full_name'] = list(\n",
    "    map(_join_names, list(zip(pd_pplOfInf['last_name'], pd_pplOfInf['first_name']))))\n",
    "\n",
    "print('imported: ', len(pd_pplOfInf.index))\n",
    "print('number of indivudals =', len(pd.unique(pd_pplOfInf['full_name'])))"
   ]
  },
  {
   "cell_type": "markdown",
   "metadata": {},
   "source": [
    "There are some names, three to be specific, that are duplicated!"
   ]
  },
  {
   "cell_type": "markdown",
   "metadata": {},
   "source": [
    "## Check for duplicated `names`"
   ]
  },
  {
   "cell_type": "code",
   "execution_count": 6,
   "metadata": {
    "ExecuteTime": {
     "end_time": "2018-04-02T23:44:59.881329Z",
     "start_time": "2018-04-02T23:44:59.859090Z"
    }
   },
   "outputs": [
    {
     "data": {
      "text/html": [
       "<div>\n",
       "<style scoped>\n",
       "    .dataframe tbody tr th:only-of-type {\n",
       "        vertical-align: middle;\n",
       "    }\n",
       "\n",
       "    .dataframe tbody tr th {\n",
       "        vertical-align: top;\n",
       "    }\n",
       "\n",
       "    .dataframe thead th {\n",
       "        text-align: right;\n",
       "    }\n",
       "</style>\n",
       "<table border=\"1\" class=\"dataframe\">\n",
       "  <thead>\n",
       "    <tr style=\"text-align: right;\">\n",
       "      <th></th>\n",
       "      <th>last_name</th>\n",
       "      <th>first_name</th>\n",
       "      <th>personal_url</th>\n",
       "      <th>position</th>\n",
       "      <th>parent</th>\n",
       "      <th>institute</th>\n",
       "      <th>full_name</th>\n",
       "    </tr>\n",
       "    <tr>\n",
       "      <th>id</th>\n",
       "      <th></th>\n",
       "      <th></th>\n",
       "      <th></th>\n",
       "      <th></th>\n",
       "      <th></th>\n",
       "      <th></th>\n",
       "      <th></th>\n",
       "    </tr>\n",
       "  </thead>\n",
       "  <tbody>\n",
       "    <tr>\n",
       "      <th>003ec9bb-18aa-4e6e-95e9-359f0968262a</th>\n",
       "      <td>gray</td>\n",
       "      <td>gavin</td>\n",
       "      <td>http://www.research.ed.ac.uk/portal/en/persons...</td>\n",
       "      <td>research assistant</td>\n",
       "      <td>school of informatics</td>\n",
       "      <td>institute for adaptive and neural computation</td>\n",
       "      <td>gray gavin</td>\n",
       "    </tr>\n",
       "    <tr>\n",
       "      <th>11447e11-aff5-438e-8fb6-264da9fb5483</th>\n",
       "      <td>gray</td>\n",
       "      <td>gavin</td>\n",
       "      <td>http://www.research.ed.ac.uk/portal/en/persons...</td>\n",
       "      <td>unknown</td>\n",
       "      <td>neuroinformatics dtc</td>\n",
       "      <td>UNKNOWN</td>\n",
       "      <td>gray gavin</td>\n",
       "    </tr>\n",
       "    <tr>\n",
       "      <th>265079a1-b5d5-4ff1-bf46-d0ad26e0d424</th>\n",
       "      <td>maneth</td>\n",
       "      <td>sebastian</td>\n",
       "      <td>http://www.research.ed.ac.uk/portal/en/persons...</td>\n",
       "      <td>unknown</td>\n",
       "      <td>laboratory for foundations of computer science</td>\n",
       "      <td>UNKNOWN</td>\n",
       "      <td>maneth sebastian</td>\n",
       "    </tr>\n",
       "    <tr>\n",
       "      <th>ef703785-d96b-49af-9b95-df74fa8fc4a2</th>\n",
       "      <td>maneth</td>\n",
       "      <td>sebastian</td>\n",
       "      <td>http://www.research.ed.ac.uk/portal/en/persons...</td>\n",
       "      <td>visitor official visitor</td>\n",
       "      <td>school of informatics</td>\n",
       "      <td>UNKNOWN</td>\n",
       "      <td>maneth sebastian</td>\n",
       "    </tr>\n",
       "    <tr>\n",
       "      <th>0ed800f5-a3a0-47d7-a8b3-f97a4f2b6931</th>\n",
       "      <td>steuwer</td>\n",
       "      <td>michel</td>\n",
       "      <td>http://www.research.ed.ac.uk/portal/en/persons...</td>\n",
       "      <td>unknown</td>\n",
       "      <td>institute for computing systems architecture</td>\n",
       "      <td>UNKNOWN</td>\n",
       "      <td>steuwer michel</td>\n",
       "    </tr>\n",
       "    <tr>\n",
       "      <th>5ddb75bd-0bf1-4792-ba2f-52821719fc3b</th>\n",
       "      <td>steuwer</td>\n",
       "      <td>michel</td>\n",
       "      <td>http://www.research.ed.ac.uk/portal/en/persons...</td>\n",
       "      <td>visitor official visitor</td>\n",
       "      <td>school of informatics</td>\n",
       "      <td>UNKNOWN</td>\n",
       "      <td>steuwer michel</td>\n",
       "    </tr>\n",
       "  </tbody>\n",
       "</table>\n",
       "</div>"
      ],
      "text/plain": [
       "                                     last_name first_name  \\\n",
       "id                                                          \n",
       "003ec9bb-18aa-4e6e-95e9-359f0968262a      gray      gavin   \n",
       "11447e11-aff5-438e-8fb6-264da9fb5483      gray      gavin   \n",
       "265079a1-b5d5-4ff1-bf46-d0ad26e0d424    maneth  sebastian   \n",
       "ef703785-d96b-49af-9b95-df74fa8fc4a2    maneth  sebastian   \n",
       "0ed800f5-a3a0-47d7-a8b3-f97a4f2b6931   steuwer     michel   \n",
       "5ddb75bd-0bf1-4792-ba2f-52821719fc3b   steuwer     michel   \n",
       "\n",
       "                                                                           personal_url  \\\n",
       "id                                                                                        \n",
       "003ec9bb-18aa-4e6e-95e9-359f0968262a  http://www.research.ed.ac.uk/portal/en/persons...   \n",
       "11447e11-aff5-438e-8fb6-264da9fb5483  http://www.research.ed.ac.uk/portal/en/persons...   \n",
       "265079a1-b5d5-4ff1-bf46-d0ad26e0d424  http://www.research.ed.ac.uk/portal/en/persons...   \n",
       "ef703785-d96b-49af-9b95-df74fa8fc4a2  http://www.research.ed.ac.uk/portal/en/persons...   \n",
       "0ed800f5-a3a0-47d7-a8b3-f97a4f2b6931  http://www.research.ed.ac.uk/portal/en/persons...   \n",
       "5ddb75bd-0bf1-4792-ba2f-52821719fc3b  http://www.research.ed.ac.uk/portal/en/persons...   \n",
       "\n",
       "                                                      position  \\\n",
       "id                                                               \n",
       "003ec9bb-18aa-4e6e-95e9-359f0968262a        research assistant   \n",
       "11447e11-aff5-438e-8fb6-264da9fb5483                   unknown   \n",
       "265079a1-b5d5-4ff1-bf46-d0ad26e0d424                   unknown   \n",
       "ef703785-d96b-49af-9b95-df74fa8fc4a2  visitor official visitor   \n",
       "0ed800f5-a3a0-47d7-a8b3-f97a4f2b6931                   unknown   \n",
       "5ddb75bd-0bf1-4792-ba2f-52821719fc3b  visitor official visitor   \n",
       "\n",
       "                                                                              parent  \\\n",
       "id                                                                                     \n",
       "003ec9bb-18aa-4e6e-95e9-359f0968262a                           school of informatics   \n",
       "11447e11-aff5-438e-8fb6-264da9fb5483                            neuroinformatics dtc   \n",
       "265079a1-b5d5-4ff1-bf46-d0ad26e0d424  laboratory for foundations of computer science   \n",
       "ef703785-d96b-49af-9b95-df74fa8fc4a2                           school of informatics   \n",
       "0ed800f5-a3a0-47d7-a8b3-f97a4f2b6931    institute for computing systems architecture   \n",
       "5ddb75bd-0bf1-4792-ba2f-52821719fc3b                           school of informatics   \n",
       "\n",
       "                                                                          institute  \\\n",
       "id                                                                                    \n",
       "003ec9bb-18aa-4e6e-95e9-359f0968262a  institute for adaptive and neural computation   \n",
       "11447e11-aff5-438e-8fb6-264da9fb5483                                        UNKNOWN   \n",
       "265079a1-b5d5-4ff1-bf46-d0ad26e0d424                                        UNKNOWN   \n",
       "ef703785-d96b-49af-9b95-df74fa8fc4a2                                        UNKNOWN   \n",
       "0ed800f5-a3a0-47d7-a8b3-f97a4f2b6931                                        UNKNOWN   \n",
       "5ddb75bd-0bf1-4792-ba2f-52821719fc3b                                        UNKNOWN   \n",
       "\n",
       "                                             full_name  \n",
       "id                                                      \n",
       "003ec9bb-18aa-4e6e-95e9-359f0968262a        gray gavin  \n",
       "11447e11-aff5-438e-8fb6-264da9fb5483        gray gavin  \n",
       "265079a1-b5d5-4ff1-bf46-d0ad26e0d424  maneth sebastian  \n",
       "ef703785-d96b-49af-9b95-df74fa8fc4a2  maneth sebastian  \n",
       "0ed800f5-a3a0-47d7-a8b3-f97a4f2b6931    steuwer michel  \n",
       "5ddb75bd-0bf1-4792-ba2f-52821719fc3b    steuwer michel  "
      ]
     },
     "execution_count": 6,
     "metadata": {},
     "output_type": "execute_result"
    }
   ],
   "source": [
    "dups_full_name = pd_pplOfInf.duplicated(subset='full_name', keep=False)\n",
    "small = pd_pplOfInf[dups_full_name]\n",
    "small"
   ]
  },
  {
   "cell_type": "markdown",
   "metadata": {},
   "source": [
    "Manually checking the data gives us:\n",
    "\n",
    "1) `gray gavin`\n",
    "    - (11447e11-aff5-438e-8fb6-264da9fb5483) is the main page with multiple research output\n",
    "    - (003ec9bb-18aa-4e6e-95e9-359f0968262a) does not have any research output\n",
    "\n",
    "2) `maneth,sebastian`\n",
    "    - (265079a1-b5d5-4ff1-bf46-d0ad26e0d424) is the main page with multiple research output\n",
    "    - (ef703785-d96b-49af-9b95-df74fa8fc4a2) does not have any research output\n",
    "\n",
    "3) `steuwer,michel`\n",
    "    - (0ed800f5-a3a0-47d7-a8b3-f97a4f2b6931) is the main page with multiple output\n",
    "    - (5ddb75bd-0bf1-4792-ba2f-52821719fc3b) does not have any research output\n",
    "\n"
   ]
  },
  {
   "cell_type": "code",
   "execution_count": 7,
   "metadata": {
    "ExecuteTime": {
     "end_time": "2018-04-02T23:45:05.796414Z",
     "start_time": "2018-04-02T23:45:05.793750Z"
    }
   },
   "outputs": [],
   "source": [
    "# Corresponding IDs to be dropped!\n",
    "to_drop = [\n",
    "    '003ec9bb-18aa-4e6e-95e9-359f0968262a',  # Gray\n",
    "    'ef703785-d96b-49af-9b95-df74fa8fc4a2',  # Maneth\n",
    "    '5ddb75bd-0bf1-4792-ba2f-52821719fc3b'  # Steuwer\n",
    "]"
   ]
  },
  {
   "cell_type": "code",
   "execution_count": 8,
   "metadata": {
    "ExecuteTime": {
     "end_time": "2018-04-02T23:45:09.884300Z",
     "start_time": "2018-04-02T23:45:09.881184Z"
    }
   },
   "outputs": [],
   "source": [
    "# manually remove these individuals\n",
    "pd_pplOfInf_dropped = pd_pplOfInf[~pd_pplOfInf.index.isin(to_drop)]"
   ]
  },
  {
   "cell_type": "code",
   "execution_count": 9,
   "metadata": {
    "ExecuteTime": {
     "end_time": "2018-04-02T23:45:16.013991Z",
     "start_time": "2018-04-02T23:45:16.010383Z"
    },
    "scrolled": true
   },
   "outputs": [
    {
     "name": "stdout",
     "output_type": "stream",
     "text": [
      "size of df:  288\n",
      "number of indivudals = 288\n"
     ]
    }
   ],
   "source": [
    "# Confirm that the number of individuals tallies:\n",
    "print('size of df: ', len(pd_pplOfInf_dropped))\n",
    "print('number of indivudals =', len(\n",
    "    pd.unique(pd_pplOfInf_dropped['full_name'])))"
   ]
  },
  {
   "cell_type": "markdown",
   "metadata": {},
   "source": [
    "## Check the `institute` field\n",
    "There are multiple institutes field where `school of informatics` was present; while most are labelled `UNKNOWN` by the scrapper as no such information is present."
   ]
  },
  {
   "cell_type": "markdown",
   "metadata": {},
   "source": [
    "`Before processing institute field:`"
   ]
  },
  {
   "cell_type": "code",
   "execution_count": 10,
   "metadata": {
    "ExecuteTime": {
     "end_time": "2018-04-02T23:45:55.087502Z",
     "start_time": "2018-04-02T23:45:55.078386Z"
    }
   },
   "outputs": [
    {
     "name": "stdout",
     "output_type": "stream",
     "text": [
      "UNKNOWN: 82\n",
      "centre for intelligent systems and their applications: 18\n",
      "deanery of clinical sciences: 1\n",
      "deanery of molecular genetic and population health sciences: 1\n",
      "edinburgh neuroscience: 1\n",
      "institute for adaptive and neural computation: 28\n",
      "institute for computing systems architecture: 24\n",
      "institute of language cognition and computation: 54\n",
      "institute of perception action and behaviour: 18\n",
      "laboratory for foundations of computer science: 58\n",
      "school of informatics: 2\n",
      "school of philosophy psychology and language sciences: 1\n"
     ]
    }
   ],
   "source": [
    "# separate the individuals by community:\n",
    "gb = pd_pplOfInf_dropped.groupby('institute')\n",
    "for k, group in gb:\n",
    "    print('{}: {}'.format(k, len(group)))"
   ]
  },
  {
   "cell_type": "markdown",
   "metadata": {},
   "source": [
    "The distribution of the individuals in the institutes is not ideal; some of the institutes name may fall into the parent field. To avoid such instances, we copy the `parent`'s field into the `institute`'s field if the entry in the parent's field belongs to one of the institute names"
   ]
  },
  {
   "cell_type": "code",
   "execution_count": 11,
   "metadata": {
    "ExecuteTime": {
     "end_time": "2018-04-02T23:45:55.097960Z",
     "start_time": "2018-04-02T23:45:55.090002Z"
    }
   },
   "outputs": [],
   "source": [
    "pd_pplOfInf_c = pd_pplOfInf_dropped.copy()"
   ]
  },
  {
   "cell_type": "code",
   "execution_count": 18,
   "metadata": {
    "ExecuteTime": {
     "end_time": "2018-04-02T23:48:10.322108Z",
     "start_time": "2018-04-02T23:48:10.299351Z"
    },
    "scrolled": true
   },
   "outputs": [],
   "source": [
    "def check_inst(row):\n",
    "    \"\"\"\n",
    "    # check that the dataset for institute names:\n",
    "    # if parent is not 'school of informatics', and institute is unknown, copy it over:\n",
    "    \"\"\"\n",
    "    INST = [\n",
    "        \"institute for adaptive and neural computation\",\n",
    "        \"institute for computing systems architecture\",\n",
    "        \"institute of language cognition and computation\",\n",
    "        \"institute of perception action and behaviour\",\n",
    "        \"laboratory for foundations of computer science\",\n",
    "        \"centre for intelligent systems and their applications\",\n",
    "        \"neuroinformatics dtc\"\n",
    "    ]\n",
    "\n",
    "    inst = row.institute\n",
    "    par = row.parent\n",
    "\n",
    "    if inst in INST:\n",
    "        return inst\n",
    "    if par in INST:\n",
    "        return par\n",
    "    elif inst == 'UNKNOWN' or inst == 'school of informatics':\n",
    "        # We want to remove institute=school of informatics:\n",
    "        if par == 'school of informatics':\n",
    "            inst = 'UNKNOWN'\n",
    "        else:\n",
    "            inst = par\n",
    "    else:\n",
    "        print('unknown inst : {} or par: {}'.format(inst,par))\n",
    "\n",
    "    return inst"
   ]
  },
  {
   "cell_type": "code",
   "execution_count": 19,
   "metadata": {
    "ExecuteTime": {
     "end_time": "2018-04-02T23:48:10.979176Z",
     "start_time": "2018-04-02T23:48:10.961097Z"
    }
   },
   "outputs": [
    {
     "name": "stdout",
     "output_type": "stream",
     "text": [
      "unknown inst : deanery of clinical sciences or par: centre for clinical brain sciences\n",
      "unknown inst : school of philosophy psychology and language sciences or par: school of informatics\n"
     ]
    }
   ],
   "source": [
    "pd_pplOfInf_c['institute'] = pd_pplOfInf_c.apply(check_inst, axis=1)"
   ]
  },
  {
   "cell_type": "code",
   "execution_count": 20,
   "metadata": {
    "ExecuteTime": {
     "end_time": "2018-04-02T23:48:12.328468Z",
     "start_time": "2018-04-02T23:48:12.324386Z"
    }
   },
   "outputs": [
    {
     "name": "stdout",
     "output_type": "stream",
     "text": [
      "size of df:  288\n",
      "number of indivudals = 288\n"
     ]
    }
   ],
   "source": [
    "# Confirm that the number of individuals tallies:\n",
    "print('size of df: ', len(pd_pplOfInf_c))\n",
    "print('number of indivudals =', len(pd.unique(pd_pplOfInf_c['full_name'])))"
   ]
  },
  {
   "cell_type": "markdown",
   "metadata": {},
   "source": [
    "`After processing institute field`"
   ]
  },
  {
   "cell_type": "code",
   "execution_count": 21,
   "metadata": {
    "ExecuteTime": {
     "end_time": "2018-04-02T23:48:13.702921Z",
     "start_time": "2018-04-02T23:48:13.695199Z"
    }
   },
   "outputs": [
    {
     "name": "stdout",
     "output_type": "stream",
     "text": [
      "AFTER PROCESSING\n",
      "UNKNOWN: 46\n",
      "centre for intelligent systems and their applications: 24\n",
      "deanery of clinical sciences: 1\n",
      "institute for adaptive and neural computation: 29\n",
      "institute for computing systems architecture: 28\n",
      "institute of language cognition and computation: 59\n",
      "institute of perception action and behaviour: 19\n",
      "laboratory for foundations of computer science: 64\n",
      "neuroinformatics dtc: 17\n",
      "school of philosophy psychology and language sciences: 1\n"
     ]
    }
   ],
   "source": [
    "print('AFTER PROCESSING')\n",
    "# separate the individuals by community:\n",
    "infcommunity = {}\n",
    "gb = pd_pplOfInf_c.groupby('institute')\n",
    "for k, group in gb:\n",
    "    print('{}: {}'.format(k, len(group)))"
   ]
  },
  {
   "cell_type": "markdown",
   "metadata": {},
   "source": [
    "## Create a mapping for the `institutes` found"
   ]
  },
  {
   "cell_type": "code",
   "execution_count": 22,
   "metadata": {
    "ExecuteTime": {
     "end_time": "2018-04-02T23:48:24.319443Z",
     "start_time": "2018-04-02T23:48:24.313486Z"
    }
   },
   "outputs": [
    {
     "name": "stdout",
     "output_type": "stream",
     "text": [
      "number of institutes found: 10\n"
     ]
    }
   ],
   "source": [
    "# Creat a mapping for the institutes to classes:\n",
    "institutes = dict()\n",
    "k = 0\n",
    "for i in pd.unique(pd_pplOfInf_c['institute']):\n",
    "    institutes[i] = k\n",
    "    k += 1\n",
    "print('number of institutes found: {}'.format(len(institutes)))"
   ]
  },
  {
   "cell_type": "code",
   "execution_count": 23,
   "metadata": {
    "ExecuteTime": {
     "end_time": "2018-04-02T23:48:25.455689Z",
     "start_time": "2018-04-02T23:48:25.446611Z"
    }
   },
   "outputs": [],
   "source": [
    "# Save the institutes info:\n",
    "import pickle as pkl\n",
    "pkl.dump(institutes, open('../data_schoolofinf/institutes.pkl', 'wb'), pkl.HIGHEST_PROTOCOL)"
   ]
  },
  {
   "cell_type": "markdown",
   "metadata": {},
   "source": [
    "Add the numeric class for institute:"
   ]
  },
  {
   "cell_type": "code",
   "execution_count": 24,
   "metadata": {
    "ExecuteTime": {
     "end_time": "2018-04-02T23:48:37.858083Z",
     "start_time": "2018-04-02T23:48:37.849851Z"
    },
    "scrolled": false
   },
   "outputs": [],
   "source": [
    "# Set the class to each of the institute instance:\n",
    "pd_pplOfInf_c['institute_class'] = pd_pplOfInf_c.apply(\n",
    "    lambda row: institutes[row['institute']], axis=1)"
   ]
  },
  {
   "cell_type": "code",
   "execution_count": 25,
   "metadata": {
    "ExecuteTime": {
     "end_time": "2018-04-02T23:48:40.183560Z",
     "start_time": "2018-04-02T23:48:40.160727Z"
    }
   },
   "outputs": [
    {
     "name": "stdout",
     "output_type": "stream",
     "text": [
      "class 0-UNKNOWN: 46\n",
      "class 1-centre for intelligent systems and their applications: 24\n",
      "class 2-institute of language cognition and computation: 59\n",
      "class 3-laboratory for foundations of computer science: 64\n",
      "class 4-institute for adaptive and neural computation: 29\n",
      "class 5-institute for computing systems architecture: 28\n",
      "class 6-neuroinformatics dtc: 17\n",
      "class 7-institute of perception action and behaviour: 19\n",
      "class 8-deanery of clinical sciences: 1\n",
      "class 9-school of philosophy psychology and language sciences: 1\n"
     ]
    }
   ],
   "source": [
    "# separate the individuals by community:\n",
    "infcommunity = {}\n",
    "gb = pd_pplOfInf_c.groupby('institute_class')\n",
    "x = []\n",
    "y = []\n",
    "for k, group in gb:\n",
    "    infcommunity[k] = group\n",
    "    className = [name for (name, _k) in list(institutes.items()) if _k == k][0]\n",
    "    x.append(className)\n",
    "    y.append(len(group))\n",
    "    print('class {}-{}: {}'.format(k, className, len(group)))"
   ]
  },
  {
   "cell_type": "markdown",
   "metadata": {},
   "source": [
    "From the Edinburgh Research Explorer, we know that [school of informatics](http://www.research.ed.ac.uk/portal/en/organisations/school-of-informatics%28d9a3581f-93a4-4d74-bf29-14c86a1da9f4%29.html) have the following institutes:\n",
    "- Centre for Intelligent Systems and their Applications (1)\n",
    "- Institute of Language, Cognition and Computation (2)\n",
    "- Laboratory for Foundations of Computer Science (3)\n",
    "- Institute for Adaptive and Neural Computation (4)\n",
    "- Institute for Computing Systems Architecture (5)\n",
    "- Neuroinformatics DTC (6)\n",
    "- Institute of Perception, Action and Behaviour (7)\n",
    "\n",
    "with the numbers in the brackets corresponding to the mapping in the institutes dictionary. This will be useful later for our visualisation and creation of subgraphs"
   ]
  },
  {
   "cell_type": "markdown",
   "metadata": {},
   "source": [
    "## Alias/shortnames"
   ]
  },
  {
   "cell_type": "markdown",
   "metadata": {},
   "source": [
    "In publications, author's name are not spelled in full when cited. Rather, they are represented in contracted forms, such as `Calautti, M., Libkin, L. & Pieris, A` instead of `Marco Calautti, Leonid Libkin, & Andreas Pieris` respectively. This could be a problem down stream as an individual's name (in publication) may presented in full for some, and in shortname for others. This make mapping the a certain publication to individuals a challenge.\n",
    "\n",
    "To mitigate this, additional information (scrapped from Edinburgh research explorer) to assign shortnames (aliases) to an individual will be useful. These shortnames are assign to an individual in the school if the name is linked to their personal page on the research explorer"
   ]
  },
  {
   "cell_type": "code",
   "execution_count": 26,
   "metadata": {
    "ExecuteTime": {
     "end_time": "2018-04-02T23:49:13.504792Z",
     "start_time": "2018-04-02T23:49:13.499668Z"
    }
   },
   "outputs": [],
   "source": [
    "# assign the alias to each individuals, if exists:\n",
    "poinf_alias = '../data_schoolofinf/peopleOfInformatics_ALIAS.csv'\n",
    "pd_poinf_alias = pd.read_csv(poinf_alias, names=['id', 'alias'])"
   ]
  },
  {
   "cell_type": "code",
   "execution_count": 27,
   "metadata": {
    "ExecuteTime": {
     "end_time": "2018-04-02T23:49:14.814642Z",
     "start_time": "2018-04-02T23:49:14.805247Z"
    }
   },
   "outputs": [
    {
     "data": {
      "text/html": [
       "<div>\n",
       "<style scoped>\n",
       "    .dataframe tbody tr th:only-of-type {\n",
       "        vertical-align: middle;\n",
       "    }\n",
       "\n",
       "    .dataframe tbody tr th {\n",
       "        vertical-align: top;\n",
       "    }\n",
       "\n",
       "    .dataframe thead th {\n",
       "        text-align: right;\n",
       "    }\n",
       "</style>\n",
       "<table border=\"1\" class=\"dataframe\">\n",
       "  <thead>\n",
       "    <tr style=\"text-align: right;\">\n",
       "      <th></th>\n",
       "      <th>id</th>\n",
       "      <th>alias</th>\n",
       "    </tr>\n",
       "  </thead>\n",
       "  <tbody>\n",
       "  </tbody>\n",
       "</table>\n",
       "</div>"
      ],
      "text/plain": [
       "Empty DataFrame\n",
       "Columns: [id, alias]\n",
       "Index: []"
      ]
     },
     "execution_count": 27,
     "metadata": {},
     "output_type": "execute_result"
    }
   ],
   "source": [
    "# Check that we correctly drop the publications...\n",
    "pd_poinf_alias[pd_poinf_alias['id'].isin(to_drop)]"
   ]
  },
  {
   "cell_type": "code",
   "execution_count": 28,
   "metadata": {
    "ExecuteTime": {
     "end_time": "2018-04-02T23:49:19.275612Z",
     "start_time": "2018-04-02T23:49:19.268485Z"
    }
   },
   "outputs": [],
   "source": [
    "# Merge the two pandas dataset to include the alias\n",
    "lookup_poinf = pd_pplOfInf_c.join(pd_poinf_alias.set_index('id'), how='left')"
   ]
  },
  {
   "cell_type": "code",
   "execution_count": 29,
   "metadata": {
    "ExecuteTime": {
     "end_time": "2018-04-02T23:49:22.859771Z",
     "start_time": "2018-04-02T23:49:22.844629Z"
    }
   },
   "outputs": [
    {
     "data": {
      "text/html": [
       "<div>\n",
       "<style scoped>\n",
       "    .dataframe tbody tr th:only-of-type {\n",
       "        vertical-align: middle;\n",
       "    }\n",
       "\n",
       "    .dataframe tbody tr th {\n",
       "        vertical-align: top;\n",
       "    }\n",
       "\n",
       "    .dataframe thead th {\n",
       "        text-align: right;\n",
       "    }\n",
       "</style>\n",
       "<table border=\"1\" class=\"dataframe\">\n",
       "  <thead>\n",
       "    <tr style=\"text-align: right;\">\n",
       "      <th></th>\n",
       "      <th>last_name</th>\n",
       "      <th>first_name</th>\n",
       "      <th>personal_url</th>\n",
       "      <th>position</th>\n",
       "      <th>parent</th>\n",
       "      <th>institute</th>\n",
       "      <th>full_name</th>\n",
       "      <th>institute_class</th>\n",
       "      <th>alias</th>\n",
       "    </tr>\n",
       "    <tr>\n",
       "      <th>id</th>\n",
       "      <th></th>\n",
       "      <th></th>\n",
       "      <th></th>\n",
       "      <th></th>\n",
       "      <th></th>\n",
       "      <th></th>\n",
       "      <th></th>\n",
       "      <th></th>\n",
       "      <th></th>\n",
       "    </tr>\n",
       "  </thead>\n",
       "  <tbody>\n",
       "    <tr>\n",
       "      <th>23d17ab4-123f-4929-9373-763bd7587df8</th>\n",
       "      <td>alay</td>\n",
       "      <td>ozgu</td>\n",
       "      <td>http://www.research.ed.ac.uk/portal/en/persons...</td>\n",
       "      <td>visitor official visitor</td>\n",
       "      <td>school of informatics</td>\n",
       "      <td>UNKNOWN</td>\n",
       "      <td>alay ozgu</td>\n",
       "      <td>0</td>\n",
       "      <td>NaN</td>\n",
       "    </tr>\n",
       "    <tr>\n",
       "      <th>d089bb44-7d0b-4b3f-b556-27def993d1d1</th>\n",
       "      <td>albrecht</td>\n",
       "      <td>stefano</td>\n",
       "      <td>http://www.research.ed.ac.uk/portal/en/persons...</td>\n",
       "      <td>lecturer in artificial intelligence</td>\n",
       "      <td>school of informatics</td>\n",
       "      <td>centre for intelligent systems and their appli...</td>\n",
       "      <td>albrecht stefano</td>\n",
       "      <td>1</td>\n",
       "      <td>albrecht, s. v.|albrecht, s.</td>\n",
       "    </tr>\n",
       "    <tr>\n",
       "      <th>ecd799fb-4f63-44ae-a078-b009099f2c8c</th>\n",
       "      <td>alex</td>\n",
       "      <td>beatrice</td>\n",
       "      <td>http://www.research.ed.ac.uk/portal/en/persons...</td>\n",
       "      <td>research fellow</td>\n",
       "      <td>school of informatics</td>\n",
       "      <td>institute of language cognition and computation</td>\n",
       "      <td>alex beatrice</td>\n",
       "      <td>2</td>\n",
       "      <td>alex, b.  (ed.)|alex, b.|symington, b.</td>\n",
       "    </tr>\n",
       "  </tbody>\n",
       "</table>\n",
       "</div>"
      ],
      "text/plain": [
       "                                     last_name first_name  \\\n",
       "id                                                          \n",
       "23d17ab4-123f-4929-9373-763bd7587df8      alay       ozgu   \n",
       "d089bb44-7d0b-4b3f-b556-27def993d1d1  albrecht    stefano   \n",
       "ecd799fb-4f63-44ae-a078-b009099f2c8c      alex   beatrice   \n",
       "\n",
       "                                                                           personal_url  \\\n",
       "id                                                                                        \n",
       "23d17ab4-123f-4929-9373-763bd7587df8  http://www.research.ed.ac.uk/portal/en/persons...   \n",
       "d089bb44-7d0b-4b3f-b556-27def993d1d1  http://www.research.ed.ac.uk/portal/en/persons...   \n",
       "ecd799fb-4f63-44ae-a078-b009099f2c8c  http://www.research.ed.ac.uk/portal/en/persons...   \n",
       "\n",
       "                                                                 position  \\\n",
       "id                                                                          \n",
       "23d17ab4-123f-4929-9373-763bd7587df8             visitor official visitor   \n",
       "d089bb44-7d0b-4b3f-b556-27def993d1d1  lecturer in artificial intelligence   \n",
       "ecd799fb-4f63-44ae-a078-b009099f2c8c                      research fellow   \n",
       "\n",
       "                                                     parent  \\\n",
       "id                                                            \n",
       "23d17ab4-123f-4929-9373-763bd7587df8  school of informatics   \n",
       "d089bb44-7d0b-4b3f-b556-27def993d1d1  school of informatics   \n",
       "ecd799fb-4f63-44ae-a078-b009099f2c8c  school of informatics   \n",
       "\n",
       "                                                                              institute  \\\n",
       "id                                                                                        \n",
       "23d17ab4-123f-4929-9373-763bd7587df8                                            UNKNOWN   \n",
       "d089bb44-7d0b-4b3f-b556-27def993d1d1  centre for intelligent systems and their appli...   \n",
       "ecd799fb-4f63-44ae-a078-b009099f2c8c    institute of language cognition and computation   \n",
       "\n",
       "                                             full_name  institute_class  \\\n",
       "id                                                                        \n",
       "23d17ab4-123f-4929-9373-763bd7587df8         alay ozgu                0   \n",
       "d089bb44-7d0b-4b3f-b556-27def993d1d1  albrecht stefano                1   \n",
       "ecd799fb-4f63-44ae-a078-b009099f2c8c     alex beatrice                2   \n",
       "\n",
       "                                                                       alias  \n",
       "id                                                                            \n",
       "23d17ab4-123f-4929-9373-763bd7587df8                                     NaN  \n",
       "d089bb44-7d0b-4b3f-b556-27def993d1d1            albrecht, s. v.|albrecht, s.  \n",
       "ecd799fb-4f63-44ae-a078-b009099f2c8c  alex, b.  (ed.)|alex, b.|symington, b.  "
      ]
     },
     "execution_count": 29,
     "metadata": {},
     "output_type": "execute_result"
    }
   ],
   "source": [
    "lookup_poinf.head(3)"
   ]
  },
  {
   "cell_type": "code",
   "execution_count": 30,
   "metadata": {
    "ExecuteTime": {
     "end_time": "2018-04-02T23:49:24.354627Z",
     "start_time": "2018-04-02T23:49:24.345698Z"
    }
   },
   "outputs": [
    {
     "name": "stdout",
     "output_type": "stream",
     "text": [
      "<class 'pandas.core.frame.DataFrame'>\n",
      "Index: 288 entries, 23d17ab4-123f-4929-9373-763bd7587df8 to ccd9cd8c-9aee-4ede-a388-f82641ee8d29\n",
      "Data columns (total 9 columns):\n",
      "last_name          288 non-null object\n",
      "first_name         288 non-null object\n",
      "personal_url       288 non-null object\n",
      "position           288 non-null object\n",
      "parent             288 non-null object\n",
      "institute          288 non-null object\n",
      "full_name          288 non-null object\n",
      "institute_class    288 non-null int64\n",
      "alias              229 non-null object\n",
      "dtypes: int64(1), object(8)\n",
      "memory usage: 32.5+ KB\n"
     ]
    }
   ],
   "source": [
    "lookup_poinf.info()"
   ]
  },
  {
   "cell_type": "markdown",
   "metadata": {},
   "source": [
    "Note the discrepancy in number of alias object and number of index"
   ]
  },
  {
   "cell_type": "code",
   "execution_count": 31,
   "metadata": {
    "ExecuteTime": {
     "end_time": "2018-04-02T23:50:24.382799Z",
     "start_time": "2018-04-02T23:50:24.378450Z"
    },
    "scrolled": true
   },
   "outputs": [
    {
     "name": "stdout",
     "output_type": "stream",
     "text": [
      "# poinf without any alias: 59\n"
     ]
    }
   ],
   "source": [
    "# Investigating these individual with un defined aliases...\n",
    "noAlias = lookup_poinf[lookup_poinf.alias.isna()]\n",
    "print('# poinf without any alias: {}'.format(len(noAlias)))"
   ]
  },
  {
   "cell_type": "code",
   "execution_count": 32,
   "metadata": {
    "ExecuteTime": {
     "end_time": "2018-04-02T23:50:28.116750Z",
     "start_time": "2018-04-02T23:50:28.111093Z"
    }
   },
   "outputs": [
    {
     "data": {
      "text/plain": [
       "array(['UNKNOWN', 'institute of language cognition and computation',\n",
       "       'centre for intelligent systems and their applications',\n",
       "       'laboratory for foundations of computer science',\n",
       "       'institute for computing systems architecture',\n",
       "       'neuroinformatics dtc',\n",
       "       'institute for adaptive and neural computation',\n",
       "       'institute of perception action and behaviour'], dtype=object)"
      ]
     },
     "execution_count": 32,
     "metadata": {},
     "output_type": "execute_result"
    }
   ],
   "source": [
    "pd.unique(noAlias.institute)"
   ]
  },
  {
   "cell_type": "markdown",
   "metadata": {},
   "source": [
    "Seems like most are visitor..."
   ]
  },
  {
   "cell_type": "code",
   "execution_count": 34,
   "metadata": {
    "ExecuteTime": {
     "end_time": "2018-04-02T23:50:43.662535Z",
     "start_time": "2018-04-02T23:50:43.656515Z"
    }
   },
   "outputs": [
    {
     "data": {
      "text/plain": [
       "visitor official visitor                         20\n",
       "unknown                                           9\n",
       "research associate                                9\n",
       "research assistant                                5\n",
       "visitor staff uoe associated institution          3\n",
       "uoe honorary staff                                3\n",
       "visitor non payroll staff                         3\n",
       "visitor default visitor                           2\n",
       "uoe temporary staff                               1\n",
       "marie curie earlystage researcher                 1\n",
       "lecturer reader in image and vision computing     1\n",
       "visitor post graduate worker                      1\n",
       "visitor staff  non uk hei                         1\n",
       "Name: position, dtype: int64"
      ]
     },
     "execution_count": 34,
     "metadata": {},
     "output_type": "execute_result"
    }
   ],
   "source": [
    "noAlias.position.str.lower().value_counts()"
   ]
  },
  {
   "cell_type": "code",
   "execution_count": null,
   "metadata": {
    "ExecuteTime": {
     "end_time": "2018-02-11T16:06:47.594456Z",
     "start_time": "2018-02-11T16:06:47.590260Z"
    }
   },
   "outputs": [],
   "source": [
    "# noAlias.to_csv('../data_schoolofinf/peopleOfInformatics_NOALIAS.csv')"
   ]
  },
  {
   "cell_type": "markdown",
   "metadata": {},
   "source": [
    "This means that 60 individuals did not have any publications listed under their name! We would expect the collaboration network created with all the available publications to contain only 288-60=228 nodes (individuals)"
   ]
  },
  {
   "cell_type": "markdown",
   "metadata": {},
   "source": [
    "---\n",
    "# Using `publications.csv` information:\n",
    "There are two csv files related to information from publications:\n",
    "1. `publications.csv`\n",
    "2. `pubpage_aliases.csv`\n",
    "\n",
    "`publcations.csv` contains data scrapped from the each publication under the school of informatics. The fields are:`pub_id`,`date`,`year`,`title`,`authors`,`pub_url`,`doi_url`,`pdf_url`,`abstract`, and `publications`. \\\n",
    "\n",
    "For our collaboration network, we are only interested in the `pub_id`, `year` (for temporal study), and `authors`.\n",
    "\n",
    "`pubpage_aliases.csv` contains mapping of `shortnames` of authors for each publication. As mentioned in the [previous section](#Alias/shortnames)."
   ]
  },
  {
   "cell_type": "code",
   "execution_count": 35,
   "metadata": {
    "ExecuteTime": {
     "end_time": "2018-04-02T23:51:07.708654Z",
     "start_time": "2018-04-02T23:51:07.557168Z"
    }
   },
   "outputs": [
    {
     "data": {
      "text/html": [
       "<div>\n",
       "<style scoped>\n",
       "    .dataframe tbody tr th:only-of-type {\n",
       "        vertical-align: middle;\n",
       "    }\n",
       "\n",
       "    .dataframe tbody tr th {\n",
       "        vertical-align: top;\n",
       "    }\n",
       "\n",
       "    .dataframe thead th {\n",
       "        text-align: right;\n",
       "    }\n",
       "</style>\n",
       "<table border=\"1\" class=\"dataframe\">\n",
       "  <thead>\n",
       "    <tr style=\"text-align: right;\">\n",
       "      <th></th>\n",
       "      <th>pub_id</th>\n",
       "      <th>date</th>\n",
       "      <th>year</th>\n",
       "      <th>title</th>\n",
       "      <th>authors</th>\n",
       "      <th>pub_url</th>\n",
       "      <th>doi_url</th>\n",
       "      <th>pdf_url</th>\n",
       "      <th>abstract</th>\n",
       "      <th>publications</th>\n",
       "    </tr>\n",
       "  </thead>\n",
       "  <tbody>\n",
       "    <tr>\n",
       "      <th>0</th>\n",
       "      <td>400818dc-63af-4a26-80c5-906f98e1f8ab</td>\n",
       "      <td>1989</td>\n",
       "      <td>1989</td>\n",
       "      <td>ballooning stability analysis of jet hmode dis...</td>\n",
       "      <td>d.p. o'brien|r. galvao|m. keilhacker|e. lazzar...</td>\n",
       "      <td>http://www.research.ed.ac.uk/portal/en/publica...</td>\n",
       "      <td>UNKNOWN</td>\n",
       "      <td>UNKNOWN</td>\n",
       "      <td>previous studies of the stability of a large a...</td>\n",
       "      <td>proceedings 16th european conference on contr...</td>\n",
       "    </tr>\n",
       "    <tr>\n",
       "      <th>1</th>\n",
       "      <td>18b1a861-afef-4fff-bc80-d02e05be18c4</td>\n",
       "      <td>2013</td>\n",
       "      <td>2013</td>\n",
       "      <td>query processing in data integration</td>\n",
       "      <td>paolo guagliardo|piotr wieczorek</td>\n",
       "      <td>http://www.research.ed.ac.uk/portal/en/publica...</td>\n",
       "      <td>UNKNOWN</td>\n",
       "      <td>UNKNOWN</td>\n",
       "      <td>in this chapter we illustrate the main techniq...</td>\n",
       "      <td>data exchange, integration, and streams,dagstu...</td>\n",
       "    </tr>\n",
       "    <tr>\n",
       "      <th>2</th>\n",
       "      <td>309fdbfc-227b-4588-9264-f0f4e3cadfcb</td>\n",
       "      <td>Mar 1994</td>\n",
       "      <td>1994</td>\n",
       "      <td>comprehension syntax</td>\n",
       "      <td>p. buneman|l. libkin|d. suciu|v. tannen|l. wong</td>\n",
       "      <td>http://www.research.ed.ac.uk/portal/en/publica...</td>\n",
       "      <td>http://dx.doi.org/10.1145/181550.181564</td>\n",
       "      <td>http://www.research.ed.ac.uk/portal/files/1651...</td>\n",
       "      <td>the syntax of comprehensions is very close to ...</td>\n",
       "      <td>sigmod record</td>\n",
       "    </tr>\n",
       "  </tbody>\n",
       "</table>\n",
       "</div>"
      ],
      "text/plain": [
       "                                 pub_id      date  year  \\\n",
       "0  400818dc-63af-4a26-80c5-906f98e1f8ab      1989  1989   \n",
       "1  18b1a861-afef-4fff-bc80-d02e05be18c4      2013  2013   \n",
       "2  309fdbfc-227b-4588-9264-f0f4e3cadfcb  Mar 1994  1994   \n",
       "\n",
       "                                               title  \\\n",
       "0  ballooning stability analysis of jet hmode dis...   \n",
       "1               query processing in data integration   \n",
       "2                               comprehension syntax   \n",
       "\n",
       "                                             authors  \\\n",
       "0  d.p. o'brien|r. galvao|m. keilhacker|e. lazzar...   \n",
       "1                   paolo guagliardo|piotr wieczorek   \n",
       "2    p. buneman|l. libkin|d. suciu|v. tannen|l. wong   \n",
       "\n",
       "                                             pub_url  \\\n",
       "0  http://www.research.ed.ac.uk/portal/en/publica...   \n",
       "1  http://www.research.ed.ac.uk/portal/en/publica...   \n",
       "2  http://www.research.ed.ac.uk/portal/en/publica...   \n",
       "\n",
       "                                   doi_url  \\\n",
       "0                                  UNKNOWN   \n",
       "1                                  UNKNOWN   \n",
       "2  http://dx.doi.org/10.1145/181550.181564   \n",
       "\n",
       "                                             pdf_url  \\\n",
       "0                                            UNKNOWN   \n",
       "1                                            UNKNOWN   \n",
       "2  http://www.research.ed.ac.uk/portal/files/1651...   \n",
       "\n",
       "                                            abstract  \\\n",
       "0  previous studies of the stability of a large a...   \n",
       "1  in this chapter we illustrate the main techniq...   \n",
       "2  the syntax of comprehensions is very close to ...   \n",
       "\n",
       "                                        publications  \n",
       "0   proceedings 16th european conference on contr...  \n",
       "1  data exchange, integration, and streams,dagstu...  \n",
       "2                                      sigmod record  "
      ]
     },
     "execution_count": 35,
     "metadata": {},
     "output_type": "execute_result"
    }
   ],
   "source": [
    "pd_publications = pd.read_csv(publications_csv)\n",
    "pd_publications.head(3)"
   ]
  },
  {
   "cell_type": "code",
   "execution_count": 36,
   "metadata": {
    "ExecuteTime": {
     "end_time": "2018-04-02T23:51:09.382639Z",
     "start_time": "2018-04-02T23:51:09.360673Z"
    }
   },
   "outputs": [
    {
     "name": "stdout",
     "output_type": "stream",
     "text": [
      "<class 'pandas.core.frame.DataFrame'>\n",
      "RangeIndex: 8867 entries, 0 to 8866\n",
      "Data columns (total 10 columns):\n",
      "pub_id          8867 non-null object\n",
      "date            8867 non-null object\n",
      "year            8867 non-null object\n",
      "title           8863 non-null object\n",
      "authors         8867 non-null object\n",
      "pub_url         8867 non-null object\n",
      "doi_url         8867 non-null object\n",
      "pdf_url         8867 non-null object\n",
      "abstract        8853 non-null object\n",
      "publications    8867 non-null object\n",
      "dtypes: object(10)\n",
      "memory usage: 692.8+ KB\n"
     ]
    }
   ],
   "source": [
    "pd_publications.info()"
   ]
  },
  {
   "cell_type": "code",
   "execution_count": 37,
   "metadata": {
    "ExecuteTime": {
     "end_time": "2018-04-02T23:51:11.153863Z",
     "start_time": "2018-04-02T23:51:11.120589Z"
    },
    "scrolled": true
   },
   "outputs": [
    {
     "data": {
      "text/html": [
       "<div>\n",
       "<style scoped>\n",
       "    .dataframe tbody tr th:only-of-type {\n",
       "        vertical-align: middle;\n",
       "    }\n",
       "\n",
       "    .dataframe tbody tr th {\n",
       "        vertical-align: top;\n",
       "    }\n",
       "\n",
       "    .dataframe thead th {\n",
       "        text-align: right;\n",
       "    }\n",
       "</style>\n",
       "<table border=\"1\" class=\"dataframe\">\n",
       "  <thead>\n",
       "    <tr style=\"text-align: right;\">\n",
       "      <th></th>\n",
       "      <th>pub_id</th>\n",
       "      <th>names</th>\n",
       "      <th>shortnames</th>\n",
       "    </tr>\n",
       "  </thead>\n",
       "  <tbody>\n",
       "    <tr>\n",
       "      <th>0</th>\n",
       "      <td>400818dc-63af-4a26-80c5-906f98e1f8ab</td>\n",
       "      <td>d.p. o'brien|r. galvao|m. keilhacker|e. lazzar...</td>\n",
       "      <td>brien, d. p.|galvao, r.|keilhacker, m.|lazzaro...</td>\n",
       "    </tr>\n",
       "    <tr>\n",
       "      <th>1</th>\n",
       "      <td>1ee2f37d-9e90-47e7-bffe-dfa498f384f1</td>\n",
       "      <td>marco console|josé mora|riccardo rosati|valeri...</td>\n",
       "      <td>console, m.|mora, j.|rosati, r.|santarelli, v....</td>\n",
       "    </tr>\n",
       "    <tr>\n",
       "      <th>2</th>\n",
       "      <td>309fdbfc-227b-4588-9264-f0f4e3cadfcb</td>\n",
       "      <td>p. buneman|l. libkin|d. suciu|v. tannen|l. wong</td>\n",
       "      <td>buneman, p.|libkin, l.|suciu, d.|tannen, v. |w...</td>\n",
       "    </tr>\n",
       "  </tbody>\n",
       "</table>\n",
       "</div>"
      ],
      "text/plain": [
       "                                 pub_id  \\\n",
       "0  400818dc-63af-4a26-80c5-906f98e1f8ab   \n",
       "1  1ee2f37d-9e90-47e7-bffe-dfa498f384f1   \n",
       "2  309fdbfc-227b-4588-9264-f0f4e3cadfcb   \n",
       "\n",
       "                                               names  \\\n",
       "0  d.p. o'brien|r. galvao|m. keilhacker|e. lazzar...   \n",
       "1  marco console|josé mora|riccardo rosati|valeri...   \n",
       "2    p. buneman|l. libkin|d. suciu|v. tannen|l. wong   \n",
       "\n",
       "                                          shortnames  \n",
       "0  brien, d. p.|galvao, r.|keilhacker, m.|lazzaro...  \n",
       "1  console, m.|mora, j.|rosati, r.|santarelli, v....  \n",
       "2  buneman, p.|libkin, l.|suciu, d.|tannen, v. |w...  "
      ]
     },
     "execution_count": 37,
     "metadata": {},
     "output_type": "execute_result"
    }
   ],
   "source": [
    "# Alias from researcher's list of publications\n",
    "pubpage_alias = pd.read_csv(\n",
    "    '../data_schoolofinf/pubpage_aliases.csv',\n",
    "    names=['pub_id', 'names', 'shortnames'])\n",
    "pubpage_alias.head(3)"
   ]
  },
  {
   "cell_type": "code",
   "execution_count": 38,
   "metadata": {
    "ExecuteTime": {
     "end_time": "2018-04-02T23:51:41.627935Z",
     "start_time": "2018-04-02T23:51:41.619268Z"
    }
   },
   "outputs": [
    {
     "name": "stdout",
     "output_type": "stream",
     "text": [
      "<class 'pandas.core.frame.DataFrame'>\n",
      "RangeIndex: 8867 entries, 0 to 8866\n",
      "Data columns (total 3 columns):\n",
      "pub_id        8867 non-null object\n",
      "names         8867 non-null object\n",
      "shortnames    8866 non-null object\n",
      "dtypes: object(3)\n",
      "memory usage: 207.9+ KB\n"
     ]
    }
   ],
   "source": [
    "pubpage_alias.info()"
   ]
  },
  {
   "cell_type": "code",
   "execution_count": 39,
   "metadata": {
    "ExecuteTime": {
     "end_time": "2018-04-02T23:51:43.484744Z",
     "start_time": "2018-04-02T23:51:43.467399Z"
    }
   },
   "outputs": [],
   "source": [
    "# merge the dataframes:\n",
    "lookup_pub = pd_publications.set_index('pub_id').join(\n",
    "    pubpage_alias.set_index('pub_id'), how='left')"
   ]
  },
  {
   "cell_type": "markdown",
   "metadata": {},
   "source": [
    "in previous dataset, we had 8810 publications. There is an increase of about 50 publications since then."
   ]
  },
  {
   "cell_type": "code",
   "execution_count": 40,
   "metadata": {
    "ExecuteTime": {
     "end_time": "2018-04-02T23:51:49.602292Z",
     "start_time": "2018-04-02T23:51:49.587253Z"
    },
    "scrolled": false
   },
   "outputs": [],
   "source": [
    "# Remove columns that are not required for us to generate the colaboration graph\n",
    "lookup_pub.drop(\n",
    "    labels=[\n",
    "        'title', 'date', 'pub_url', 'pdf_url', 'doi_url', 'abstract',\n",
    "        'publications', 'names'\n",
    "    ],\n",
    "    axis=1,\n",
    "    inplace=True)"
   ]
  },
  {
   "cell_type": "code",
   "execution_count": 41,
   "metadata": {
    "ExecuteTime": {
     "end_time": "2018-04-02T23:51:51.363403Z",
     "start_time": "2018-04-02T23:51:51.351784Z"
    },
    "scrolled": false
   },
   "outputs": [
    {
     "data": {
      "text/html": [
       "<div>\n",
       "<style scoped>\n",
       "    .dataframe tbody tr th:only-of-type {\n",
       "        vertical-align: middle;\n",
       "    }\n",
       "\n",
       "    .dataframe tbody tr th {\n",
       "        vertical-align: top;\n",
       "    }\n",
       "\n",
       "    .dataframe thead th {\n",
       "        text-align: right;\n",
       "    }\n",
       "</style>\n",
       "<table border=\"1\" class=\"dataframe\">\n",
       "  <thead>\n",
       "    <tr style=\"text-align: right;\">\n",
       "      <th></th>\n",
       "      <th>year</th>\n",
       "      <th>authors</th>\n",
       "      <th>shortnames</th>\n",
       "    </tr>\n",
       "    <tr>\n",
       "      <th>pub_id</th>\n",
       "      <th></th>\n",
       "      <th></th>\n",
       "      <th></th>\n",
       "    </tr>\n",
       "  </thead>\n",
       "  <tbody>\n",
       "    <tr>\n",
       "      <th>400818dc-63af-4a26-80c5-906f98e1f8ab</th>\n",
       "      <td>1989</td>\n",
       "      <td>d.p. o'brien|r. galvao|m. keilhacker|e. lazzar...</td>\n",
       "      <td>brien, d. p.|galvao, r.|keilhacker, m.|lazzaro...</td>\n",
       "    </tr>\n",
       "    <tr>\n",
       "      <th>18b1a861-afef-4fff-bc80-d02e05be18c4</th>\n",
       "      <td>2013</td>\n",
       "      <td>paolo guagliardo|piotr wieczorek</td>\n",
       "      <td>guagliardo, p.|wieczorek, p.</td>\n",
       "    </tr>\n",
       "    <tr>\n",
       "      <th>309fdbfc-227b-4588-9264-f0f4e3cadfcb</th>\n",
       "      <td>1994</td>\n",
       "      <td>p. buneman|l. libkin|d. suciu|v. tannen|l. wong</td>\n",
       "      <td>buneman, p.|libkin, l.|suciu, d.|tannen, v. |w...</td>\n",
       "    </tr>\n",
       "  </tbody>\n",
       "</table>\n",
       "</div>"
      ],
      "text/plain": [
       "                                      year  \\\n",
       "pub_id                                       \n",
       "400818dc-63af-4a26-80c5-906f98e1f8ab  1989   \n",
       "18b1a861-afef-4fff-bc80-d02e05be18c4  2013   \n",
       "309fdbfc-227b-4588-9264-f0f4e3cadfcb  1994   \n",
       "\n",
       "                                                                                authors  \\\n",
       "pub_id                                                                                    \n",
       "400818dc-63af-4a26-80c5-906f98e1f8ab  d.p. o'brien|r. galvao|m. keilhacker|e. lazzar...   \n",
       "18b1a861-afef-4fff-bc80-d02e05be18c4                   paolo guagliardo|piotr wieczorek   \n",
       "309fdbfc-227b-4588-9264-f0f4e3cadfcb    p. buneman|l. libkin|d. suciu|v. tannen|l. wong   \n",
       "\n",
       "                                                                             shortnames  \n",
       "pub_id                                                                                   \n",
       "400818dc-63af-4a26-80c5-906f98e1f8ab  brien, d. p.|galvao, r.|keilhacker, m.|lazzaro...  \n",
       "18b1a861-afef-4fff-bc80-d02e05be18c4                       guagliardo, p.|wieczorek, p.  \n",
       "309fdbfc-227b-4588-9264-f0f4e3cadfcb  buneman, p.|libkin, l.|suciu, d.|tannen, v. |w...  "
      ]
     },
     "execution_count": 41,
     "metadata": {},
     "output_type": "execute_result"
    }
   ],
   "source": [
    "lookup_pub.head(3)"
   ]
  },
  {
   "cell_type": "code",
   "execution_count": 42,
   "metadata": {
    "ExecuteTime": {
     "end_time": "2018-04-02T23:51:53.227737Z",
     "start_time": "2018-04-02T23:51:53.222661Z"
    }
   },
   "outputs": [
    {
     "data": {
      "text/plain": [
       "array(['1989', '2013', '1994', '2012', '2014', '2007', '2010', '2016',\n",
       "       '1991', '2001', '2009', '2015', '1985', '2004', '2003', '2002',\n",
       "       '2008', '2011', '1999', '2017', '2006', '1988', '1990', '1995',\n",
       "       '2000', '2005', '1987', '1997', '1982', '1984', '1998', '1981',\n",
       "       '1996', '1977', '1993', '2018', '1992', '1986', '8/04/08', '1980',\n",
       "       '1974', '1983', '1979', '1969', '1978', '1975', '22/11/10', '1976',\n",
       "       '1/09/99', '1970', '26/03/02', '30/03/01', '1971', '28/09/05',\n",
       "       '1973', '28/03/02', '2/07/03'], dtype=object)"
      ]
     },
     "execution_count": 42,
     "metadata": {},
     "output_type": "execute_result"
    }
   ],
   "source": [
    "pd.unique(lookup_pub.year)"
   ]
  },
  {
   "cell_type": "code",
   "execution_count": 43,
   "metadata": {
    "ExecuteTime": {
     "end_time": "2018-04-02T23:51:59.774744Z",
     "start_time": "2018-04-02T23:51:56.777654Z"
    }
   },
   "outputs": [],
   "source": [
    "# Lets fix the data st it only display the year in full (e.g. 1999 instead of 99)\n",
    "from preprocess import fix_date\n",
    "lookup_pub.year = lookup_pub.year.apply(lambda x: fix_date(x))"
   ]
  },
  {
   "cell_type": "markdown",
   "metadata": {},
   "source": [
    "## Assigning unique ID to external academic\n",
    "\n",
    "In the previous section on alias for People of informatics, we attempt to unravel the aliases for each individuals. Our dataset, however, have many individuals who may not be from the school of informatics (external academics)**, but have collaborated with individuals from the school of informatics.\n",
    "\n",
    "Our task for the external academics are:\n",
    "1. Assign an unique ID for them\n",
    "2. Unravel through the publication and assign ids for the publications\n",
    "\n",
    "** note that `external` could also mean that they were once from Informatics, but have left - i.e. not in the list of staff when we were scraping!"
   ]
  },
  {
   "cell_type": "code",
   "execution_count": 44,
   "metadata": {
    "ExecuteTime": {
     "end_time": "2018-04-02T23:52:21.604640Z",
     "start_time": "2018-04-02T23:52:21.537069Z"
    }
   },
   "outputs": [],
   "source": [
    "# authors are the expanded name in the publication page\n",
    "# shortnames are those that appear on the list of publication of individuals' page\n",
    "# lets check if the number of names saw are the same:\n",
    "lookup_pub['nb_authors'] = lookup_pub.authors.apply(lambda x: len(str(x).split(\"|\")))\n",
    "lookup_pub['nb_shortnames'] = lookup_pub.shortnames.apply(lambda x: len(str(x).split(\"|\")))\n",
    "lookup_pub['shortnames'] = lookup_pub.shortnames.apply(lambda x: [str(i.strip()) for i in str(x).split(\"|\")])\n",
    "lookup_pub['authors'] = lookup_pub.authors.apply(lambda x: [str(i.strip()) for i in str(x).split(\"|\")])"
   ]
  },
  {
   "cell_type": "code",
   "execution_count": 78,
   "metadata": {
    "ExecuteTime": {
     "end_time": "2018-04-03T00:09:43.177763Z",
     "start_time": "2018-04-03T00:09:43.173448Z"
    }
   },
   "outputs": [
    {
     "data": {
      "text/plain": [
       "(30522, 31399)"
      ]
     },
     "execution_count": 78,
     "metadata": {},
     "output_type": "execute_result"
    }
   ],
   "source": [
    "lookup_pub.nb_authors.sum(), lookup_pub.nb_shortnames.sum()"
   ]
  },
  {
   "cell_type": "code",
   "execution_count": 92,
   "metadata": {
    "ExecuteTime": {
     "end_time": "2018-04-03T00:15:02.782654Z",
     "start_time": "2018-04-03T00:15:00.142010Z"
    },
    "deletable": false,
    "editable": false,
    "run_control": {
     "frozen": true
    },
    "scrolled": true
   },
   "outputs": [
    {
     "name": "stdout",
     "output_type": "stream",
     "text": [
      "('work enabled by edinburgh genomics', 'nan')\n",
      "('feng, liu', 'liu, f.')\n",
      "('feng, liu', 'liu, f.')\n",
      "('du boulay ben', 'ben, d. b.')\n",
      "('wei ji ma', 'ma, w. j.')\n",
      "('l. n. ma', 'ma, l. n.')\n",
      "0\n"
     ]
    }
   ],
   "source": [
    "_lookup_pub = lookup_pub[lookup_pub.same]\n",
    "_pairs =set()\n",
    "not_eq = 0\n",
    "for (names, shortnames) in zip(_lookup_pub.authors, _lookup_pub.shortnames):\n",
    "\n",
    "    if len(names) == len(shortnames):\n",
    "        for p in zip(names, shortnames):\n",
    "            if check_names(p[0], p[1]):\n",
    "                _pairs.add(p)\n",
    "            else:\n",
    "                print(p)\n",
    "    else:\n",
    "        not_eq += 1\n",
    "        for p in product(names, shortnames):\n",
    "            if check_names(p[0], p[1]):\n",
    "                pairs.add(p)\n",
    "\n",
    "_allNames = [p[0] for p in list(_pairs)]\n",
    "_allShortNames = [p[1] for p in list(_pairs)]\n",
    "print(not_eq)"
   ]
  },
  {
   "cell_type": "code",
   "execution_count": 95,
   "metadata": {
    "ExecuteTime": {
     "end_time": "2018-04-03T00:15:44.569102Z",
     "start_time": "2018-04-03T00:15:44.563293Z"
    },
    "deletable": false,
    "editable": false,
    "run_control": {
     "frozen": true
    }
   },
   "outputs": [
    {
     "name": "stdout",
     "output_type": "stream",
     "text": [
      "10067 10067\n",
      "10005 8048\n"
     ]
    }
   ],
   "source": [
    "print(len(_allNames),len(_allShortNames))\n",
    "print(len(set(_allNames)),len(set(_allShortNames)))"
   ]
  },
  {
   "cell_type": "code",
   "execution_count": 45,
   "metadata": {
    "ExecuteTime": {
     "end_time": "2018-04-02T23:52:23.594324Z",
     "start_time": "2018-04-02T23:52:23.371087Z"
    },
    "deletable": false,
    "editable": false,
    "run_control": {
     "frozen": true
    }
   },
   "outputs": [
    {
     "name": "stdout",
     "output_type": "stream",
     "text": [
      "same: 8688\n",
      "179\n"
     ]
    }
   ],
   "source": [
    "lookup_pub['same'] = lookup_pub.apply(lambda x: x.nb_authors == x.nb_shortnames, axis=1)\n",
    "tmp = sum(list(map(int,lookup_pub.same.tolist())))\n",
    "print('same:',tmp)\n",
    "print(len(lookup_pub)-tmp)"
   ]
  },
  {
   "cell_type": "code",
   "execution_count": 117,
   "metadata": {
    "ExecuteTime": {
     "end_time": "2018-04-03T00:27:41.989095Z",
     "start_time": "2018-04-03T00:27:38.543806Z"
    },
    "scrolled": true
   },
   "outputs": [
    {
     "name": "stdout",
     "output_type": "stream",
     "text": [
      "('work enabled by edinburgh genomics', 'nan')\n",
      "('feng, liu', 'liu, f.')\n",
      "('feng, liu', 'liu, f.')\n",
      "('du boulay ben', 'ben, d. b.')\n",
      "('wei ji ma', 'ma, w. j.')\n",
      "('l. n. ma', 'ma, l. n.')\n",
      "179\n"
     ]
    }
   ],
   "source": [
    "import re, random, nameparser  # use human parser to automatically infer the first and last name...\n",
    "from itertools import product\n",
    "\n",
    "\n",
    "def check_names(name, shortname):\n",
    "    _lastname_1 = nameparser.HumanName(name).last\n",
    "    _lastname_2 = nameparser.HumanName(shortname).last\n",
    "    if _lastname_1 == _lastname_2:\n",
    "        return True\n",
    "    elif len(_lastname_1) > len(_lastname_2):  # slicing\n",
    "        if _lastname_1[-len(_lastname_2):] == _lastname_2:\n",
    "            return True\n",
    "    elif len(_lastname_2) > len(_lastname_1):  # slicing\n",
    "        if _lastname_2[-len(_lastname_1):] == _lastname_1:\n",
    "            return True\n",
    "    return False\n",
    "\n",
    "\n",
    "# simple matching for names scrapped from the publication's website and those\n",
    "# in the list of names\n",
    "pairs = set()\n",
    "not_eq = 0\n",
    "\n",
    "for (names, shortnames) in zip(lookup_pub.authors, lookup_pub.shortnames):\n",
    "\n",
    "    if len(names) == len(shortnames):\n",
    "        for p in zip(names, shortnames):\n",
    "            if check_names(p[0], p[1]):\n",
    "                pairs.add(p)\n",
    "            else:\n",
    "                print(p)\n",
    "    else:\n",
    "        not_eq += 1\n",
    "        for p in product(names, shortnames):\n",
    "            # try all combination to generate a matching pair\n",
    "            if check_names(p[0], p[1]):\n",
    "                pairs.add(p)\n",
    "\n",
    "allNames = [p[0] for p in list(pairs)]\n",
    "allShortNames = [p[1] for p in list(pairs)]\n",
    "print(not_eq)"
   ]
  },
  {
   "cell_type": "code",
   "execution_count": 61,
   "metadata": {
    "ExecuteTime": {
     "end_time": "2018-04-03T00:04:40.117240Z",
     "start_time": "2018-04-03T00:04:40.108945Z"
    },
    "scrolled": true
   },
   "outputs": [
    {
     "name": "stdout",
     "output_type": "stream",
     "text": [
      "Number of unique names in collaboration network:  10217\n",
      "corresponding number of alias:  8225\n"
     ]
    }
   ],
   "source": [
    "print('Number of unique names in collaboration network: ', str(\n",
    "    len(set(allNames))))\n",
    "print('corresponding number of alias: ', str(len(set(allShortNames))))"
   ]
  },
  {
   "cell_type": "code",
   "execution_count": 51,
   "metadata": {
    "ExecuteTime": {
     "end_time": "2018-04-02T23:57:29.602824Z",
     "start_time": "2018-04-02T23:57:29.596700Z"
    }
   },
   "outputs": [],
   "source": [
    "# Note that we have accurate representation of indv from informatics using the embedded metadata!\n",
    "# Combine all the alias for individuals in the school of informatics into a list\n",
    "poinf_aliases = []\n",
    "for aliases in lookup_poinf.alias:\n",
    "    if type(aliases) is str:\n",
    "        poinf_aliases.extend(aliases.split(\"|\"))"
   ]
  },
  {
   "cell_type": "code",
   "execution_count": 79,
   "metadata": {
    "ExecuteTime": {
     "end_time": "2018-04-03T00:10:35.868766Z",
     "start_time": "2018-04-03T00:10:35.857980Z"
    }
   },
   "outputs": [
    {
     "name": "stdout",
     "output_type": "stream",
     "text": [
      "Number of external aliases in collaboration network:  7922\n"
     ]
    }
   ],
   "source": [
    "# External researchers are those who are not in the list of alias we saw so far...\n",
    "external_aliases = set(allShortNames).difference(set(poinf_aliases))\n",
    "print('Number of external aliases in collaboration network: ',\n",
    "      str(len(external_aliases)))"
   ]
  },
  {
   "cell_type": "markdown",
   "metadata": {},
   "source": [
    "Create a dictionary for fast lookup of individuals who are NOT in school of informatics"
   ]
  },
  {
   "cell_type": "code",
   "execution_count": 53,
   "metadata": {
    "ExecuteTime": {
     "end_time": "2018-04-02T23:58:47.348396Z",
     "start_time": "2018-04-02T23:58:47.344661Z"
    }
   },
   "outputs": [],
   "source": [
    "# Give an unique id to each alias:\n",
    "from itertools import count\n",
    "from collections import defaultdict\n",
    "lookup_ext_academic = defaultdict(count().__next__)"
   ]
  },
  {
   "cell_type": "code",
   "execution_count": 54,
   "metadata": {
    "ExecuteTime": {
     "end_time": "2018-04-02T23:58:49.331517Z",
     "start_time": "2018-04-02T23:58:49.323894Z"
    }
   },
   "outputs": [],
   "source": [
    "for i in list(external_aliases):\n",
    "    # {alias:id} where id is an increasing count\n",
    "    lookup_ext_academic[i]"
   ]
  },
  {
   "cell_type": "markdown",
   "metadata": {},
   "source": [
    "create a dictionary for fast lookup of individuals in school of informatics, it has the form: \n",
    "```{alias: id}``` where `id` is the unique identifier saw in the index of `lookup_poinf`"
   ]
  },
  {
   "cell_type": "code",
   "execution_count": 55,
   "metadata": {
    "ExecuteTime": {
     "end_time": "2018-04-02T23:58:56.258834Z",
     "start_time": "2018-04-02T23:58:56.253372Z"
    }
   },
   "outputs": [],
   "source": [
    "lookup_poinf_alias = {}\n",
    "for pers_id, aliases in zip(lookup_poinf.index, lookup_poinf.alias):\n",
    "    if type(aliases) is str:\n",
    "        _aliases = aliases.split(\"|\")\n",
    "        for alias in _aliases:\n",
    "            lookup_poinf_alias[str(alias).strip()] = pers_id"
   ]
  },
  {
   "cell_type": "markdown",
   "metadata": {},
   "source": [
    "## Add id of collaborators into `lookup_pub`\n",
    "Now that we have an assigned ID for external individuals and individuals who are in school of informatics, we can use these IDs to represent these individuals for each collaboration."
   ]
  },
  {
   "cell_type": "code",
   "execution_count": 70,
   "metadata": {
    "ExecuteTime": {
     "end_time": "2018-04-03T00:07:02.465255Z",
     "start_time": "2018-04-03T00:07:02.458895Z"
    }
   },
   "outputs": [],
   "source": [
    "# convert shortnames and authors into list\n",
    "splittolist = lambda x: [a.strip() for a in str(x).split('|')]"
   ]
  },
  {
   "cell_type": "code",
   "execution_count": 125,
   "metadata": {
    "ExecuteTime": {
     "end_time": "2018-04-03T00:31:48.756017Z",
     "start_time": "2018-04-03T00:31:48.735737Z"
    }
   },
   "outputs": [],
   "source": [
    "def collabIds(_shortnames):\n",
    "    # collaborators id\n",
    "    collab_id = []\n",
    "    if not isinstance(_shortnames, list):\n",
    "        _shortnames = splittolist(_shortnames)\n",
    "    try:\n",
    "        for i in _shortnames:\n",
    "            i=str(i.strip())\n",
    "            if i in lookup_poinf_alias.keys():\n",
    "                collab_id.append(lookup_poinf_alias[i])\n",
    "            elif i in lookup_ext_academic.keys():\n",
    "                collab_id.append(lookup_ext_academic[i])\n",
    "            elif i in set(allShortNames): # should not happen..! (never happen)\n",
    "                print(i)\n",
    "#             else: # those that we failed to evaluate when the len is different!\n",
    "#                 print('..',i)\n",
    "    except:\n",
    "        return None\n",
    "    return collab_id"
   ]
  },
  {
   "cell_type": "code",
   "execution_count": 126,
   "metadata": {
    "ExecuteTime": {
     "end_time": "2018-04-03T00:31:51.385970Z",
     "start_time": "2018-04-03T00:31:50.927528Z"
    },
    "scrolled": true
   },
   "outputs": [],
   "source": [
    "lookup_pub['collab_id'] = lookup_pub.shortnames.apply(collabIds)"
   ]
  },
  {
   "cell_type": "code",
   "execution_count": 106,
   "metadata": {
    "ExecuteTime": {
     "end_time": "2018-04-03T00:20:11.133558Z",
     "start_time": "2018-04-03T00:20:11.123854Z"
    },
    "scrolled": true
   },
   "outputs": [
    {
     "data": {
      "text/html": [
       "<div>\n",
       "<style scoped>\n",
       "    .dataframe tbody tr th:only-of-type {\n",
       "        vertical-align: middle;\n",
       "    }\n",
       "\n",
       "    .dataframe tbody tr th {\n",
       "        vertical-align: top;\n",
       "    }\n",
       "\n",
       "    .dataframe thead th {\n",
       "        text-align: right;\n",
       "    }\n",
       "</style>\n",
       "<table border=\"1\" class=\"dataframe\">\n",
       "  <thead>\n",
       "    <tr style=\"text-align: right;\">\n",
       "      <th></th>\n",
       "      <th>year</th>\n",
       "      <th>authors</th>\n",
       "      <th>shortnames</th>\n",
       "      <th>nb_authors</th>\n",
       "      <th>nb_shortnames</th>\n",
       "      <th>same</th>\n",
       "      <th>collab_id</th>\n",
       "    </tr>\n",
       "    <tr>\n",
       "      <th>pub_id</th>\n",
       "      <th></th>\n",
       "      <th></th>\n",
       "      <th></th>\n",
       "      <th></th>\n",
       "      <th></th>\n",
       "      <th></th>\n",
       "      <th></th>\n",
       "    </tr>\n",
       "  </thead>\n",
       "  <tbody>\n",
       "  </tbody>\n",
       "</table>\n",
       "</div>"
      ],
      "text/plain": [
       "Empty DataFrame\n",
       "Columns: [year, authors, shortnames, nb_authors, nb_shortnames, same, collab_id]\n",
       "Index: []"
      ]
     },
     "execution_count": 106,
     "metadata": {},
     "output_type": "execute_result"
    }
   ],
   "source": [
    "lookup_pub[lookup_pub.collab_id.isna()]"
   ]
  },
  {
   "cell_type": "code",
   "execution_count": 127,
   "metadata": {
    "ExecuteTime": {
     "end_time": "2018-04-03T00:32:38.503004Z",
     "start_time": "2018-04-03T00:32:38.495659Z"
    }
   },
   "outputs": [],
   "source": [
    "# Remove this publication...\n",
    "lookup_pub = lookup_pub[~lookup_pub.collab_id.isna()]"
   ]
  },
  {
   "cell_type": "code",
   "execution_count": 128,
   "metadata": {
    "ExecuteTime": {
     "end_time": "2018-04-03T00:32:41.593250Z",
     "start_time": "2018-04-03T00:32:41.579297Z"
    }
   },
   "outputs": [
    {
     "name": "stdout",
     "output_type": "stream",
     "text": [
      "<class 'pandas.core.frame.DataFrame'>\n",
      "Index: 8867 entries, 400818dc-63af-4a26-80c5-906f98e1f8ab to b2920a27-5293-4f4a-8874-4a0ea804d91a\n",
      "Data columns (total 5 columns):\n",
      "year          8867 non-null int64\n",
      "authors       8867 non-null object\n",
      "shortnames    8867 non-null object\n",
      "nb_authors    8867 non-null int64\n",
      "collab_id     8867 non-null object\n",
      "dtypes: int64(2), object(3)\n",
      "memory usage: 415.6+ KB\n"
     ]
    }
   ],
   "source": [
    "lookup_pub.drop(labels=['nb_shortnames','same'],axis=1,inplace=True)\n",
    "lookup_pub.info()"
   ]
  },
  {
   "cell_type": "code",
   "execution_count": 129,
   "metadata": {
    "ExecuteTime": {
     "end_time": "2018-04-03T00:32:43.787359Z",
     "start_time": "2018-04-03T00:32:43.771290Z"
    }
   },
   "outputs": [
    {
     "data": {
      "text/html": [
       "<div>\n",
       "<style scoped>\n",
       "    .dataframe tbody tr th:only-of-type {\n",
       "        vertical-align: middle;\n",
       "    }\n",
       "\n",
       "    .dataframe tbody tr th {\n",
       "        vertical-align: top;\n",
       "    }\n",
       "\n",
       "    .dataframe thead th {\n",
       "        text-align: right;\n",
       "    }\n",
       "</style>\n",
       "<table border=\"1\" class=\"dataframe\">\n",
       "  <thead>\n",
       "    <tr style=\"text-align: right;\">\n",
       "      <th></th>\n",
       "      <th>year</th>\n",
       "      <th>authors</th>\n",
       "      <th>shortnames</th>\n",
       "      <th>nb_authors</th>\n",
       "      <th>collab_id</th>\n",
       "    </tr>\n",
       "    <tr>\n",
       "      <th>pub_id</th>\n",
       "      <th></th>\n",
       "      <th></th>\n",
       "      <th></th>\n",
       "      <th></th>\n",
       "      <th></th>\n",
       "    </tr>\n",
       "  </thead>\n",
       "  <tbody>\n",
       "    <tr>\n",
       "      <th>400818dc-63af-4a26-80c5-906f98e1f8ab</th>\n",
       "      <td>1989</td>\n",
       "      <td>[d.p. o'brien, r. galvao, m. keilhacker, e. la...</td>\n",
       "      <td>[brien, d. p., galvao, r., keilhacker, m., laz...</td>\n",
       "      <td>6</td>\n",
       "      <td>[4780, 383, 778, 4832, 1712, a78a09b5-138e-407...</td>\n",
       "    </tr>\n",
       "    <tr>\n",
       "      <th>18b1a861-afef-4fff-bc80-d02e05be18c4</th>\n",
       "      <td>2013</td>\n",
       "      <td>[paolo guagliardo, piotr wieczorek]</td>\n",
       "      <td>[guagliardo, p., wieczorek, p.]</td>\n",
       "      <td>2</td>\n",
       "      <td>[653c9723-b374-4ad3-9cef-0f7e7f45d812, 685]</td>\n",
       "    </tr>\n",
       "    <tr>\n",
       "      <th>309fdbfc-227b-4588-9264-f0f4e3cadfcb</th>\n",
       "      <td>1994</td>\n",
       "      <td>[p. buneman, l. libkin, d. suciu, v. tannen, l...</td>\n",
       "      <td>[buneman, p., libkin, l., suciu, d., tannen, v...</td>\n",
       "      <td>5</td>\n",
       "      <td>[90396347-473b-4fba-8b1d-a1d25ea18b6b, a22b33f...</td>\n",
       "    </tr>\n",
       "    <tr>\n",
       "      <th>d5814bab-5fc2-4c31-92b7-543c7ce75cb4</th>\n",
       "      <td>2012</td>\n",
       "      <td>[p.l. de leon, m. pucher, j. yamagishi, i. her...</td>\n",
       "      <td>[leon, p. l., pucher, m., yamagishi, j., herna...</td>\n",
       "      <td>5</td>\n",
       "      <td>[6153, 5355, 4d11a99a-0d04-42f4-8089-d433a57c2...</td>\n",
       "    </tr>\n",
       "  </tbody>\n",
       "</table>\n",
       "</div>"
      ],
      "text/plain": [
       "                                      year  \\\n",
       "pub_id                                       \n",
       "400818dc-63af-4a26-80c5-906f98e1f8ab  1989   \n",
       "18b1a861-afef-4fff-bc80-d02e05be18c4  2013   \n",
       "309fdbfc-227b-4588-9264-f0f4e3cadfcb  1994   \n",
       "d5814bab-5fc2-4c31-92b7-543c7ce75cb4  2012   \n",
       "\n",
       "                                                                                authors  \\\n",
       "pub_id                                                                                    \n",
       "400818dc-63af-4a26-80c5-906f98e1f8ab  [d.p. o'brien, r. galvao, m. keilhacker, e. la...   \n",
       "18b1a861-afef-4fff-bc80-d02e05be18c4                [paolo guagliardo, piotr wieczorek]   \n",
       "309fdbfc-227b-4588-9264-f0f4e3cadfcb  [p. buneman, l. libkin, d. suciu, v. tannen, l...   \n",
       "d5814bab-5fc2-4c31-92b7-543c7ce75cb4  [p.l. de leon, m. pucher, j. yamagishi, i. her...   \n",
       "\n",
       "                                                                             shortnames  \\\n",
       "pub_id                                                                                    \n",
       "400818dc-63af-4a26-80c5-906f98e1f8ab  [brien, d. p., galvao, r., keilhacker, m., laz...   \n",
       "18b1a861-afef-4fff-bc80-d02e05be18c4                    [guagliardo, p., wieczorek, p.]   \n",
       "309fdbfc-227b-4588-9264-f0f4e3cadfcb  [buneman, p., libkin, l., suciu, d., tannen, v...   \n",
       "d5814bab-5fc2-4c31-92b7-543c7ce75cb4  [leon, p. l., pucher, m., yamagishi, j., herna...   \n",
       "\n",
       "                                      nb_authors  \\\n",
       "pub_id                                             \n",
       "400818dc-63af-4a26-80c5-906f98e1f8ab           6   \n",
       "18b1a861-afef-4fff-bc80-d02e05be18c4           2   \n",
       "309fdbfc-227b-4588-9264-f0f4e3cadfcb           5   \n",
       "d5814bab-5fc2-4c31-92b7-543c7ce75cb4           5   \n",
       "\n",
       "                                                                              collab_id  \n",
       "pub_id                                                                                   \n",
       "400818dc-63af-4a26-80c5-906f98e1f8ab  [4780, 383, 778, 4832, 1712, a78a09b5-138e-407...  \n",
       "18b1a861-afef-4fff-bc80-d02e05be18c4        [653c9723-b374-4ad3-9cef-0f7e7f45d812, 685]  \n",
       "309fdbfc-227b-4588-9264-f0f4e3cadfcb  [90396347-473b-4fba-8b1d-a1d25ea18b6b, a22b33f...  \n",
       "d5814bab-5fc2-4c31-92b7-543c7ce75cb4  [6153, 5355, 4d11a99a-0d04-42f4-8089-d433a57c2...  "
      ]
     },
     "execution_count": 129,
     "metadata": {},
     "output_type": "execute_result"
    }
   ],
   "source": [
    "lookup_pub.head(4)"
   ]
  },
  {
   "cell_type": "markdown",
   "metadata": {},
   "source": [
    "## Generate Edgelist"
   ]
  },
  {
   "cell_type": "code",
   "execution_count": 130,
   "metadata": {
    "ExecuteTime": {
     "end_time": "2018-04-03T00:32:56.193245Z",
     "start_time": "2018-04-03T00:32:56.182328Z"
    }
   },
   "outputs": [],
   "source": [
    "# Create egelist\n",
    "from itertools import product\n",
    "\n",
    "def generateEdges(ids):\n",
    "    products = product(ids, ids)\n",
    "    differentPairs = []\n",
    "    for (i, v) in products:\n",
    "        if i != v and (v, i) not in differentPairs:\n",
    "            differentPairs.append((i, v))\n",
    "    return differentPairs"
   ]
  },
  {
   "cell_type": "code",
   "execution_count": 131,
   "metadata": {
    "ExecuteTime": {
     "end_time": "2018-04-03T00:32:58.586261Z",
     "start_time": "2018-04-03T00:32:58.459282Z"
    }
   },
   "outputs": [],
   "source": [
    "lookup_pub['edges'] = lookup_pub.collab_id.apply(generateEdges)"
   ]
  },
  {
   "cell_type": "code",
   "execution_count": 132,
   "metadata": {
    "ExecuteTime": {
     "end_time": "2018-04-03T00:33:00.960939Z",
     "start_time": "2018-04-03T00:33:00.956200Z"
    }
   },
   "outputs": [
    {
     "data": {
      "text/plain": [
       "[\"d.p. o'brien\",\n",
       " 'r. galvao',\n",
       " 'm. keilhacker',\n",
       " 'e. lazzaro',\n",
       " 'm.l. watkins',\n",
       " 'c.m. bishop']"
      ]
     },
     "execution_count": 132,
     "metadata": {},
     "output_type": "execute_result"
    }
   ],
   "source": [
    "lookup_pub.iloc[0].authors"
   ]
  },
  {
   "cell_type": "code",
   "execution_count": 133,
   "metadata": {
    "ExecuteTime": {
     "end_time": "2018-04-03T00:33:00.971736Z",
     "start_time": "2018-04-03T00:33:00.963367Z"
    }
   },
   "outputs": [
    {
     "data": {
      "text/plain": [
       "[(4780, 383),\n",
       " (4780, 778),\n",
       " (4780, 4832),\n",
       " (4780, 1712),\n",
       " (4780, 'a78a09b5-138e-407e-8c09-34414853eb20'),\n",
       " (383, 778),\n",
       " (383, 4832),\n",
       " (383, 1712),\n",
       " (383, 'a78a09b5-138e-407e-8c09-34414853eb20'),\n",
       " (778, 4832),\n",
       " (778, 1712),\n",
       " (778, 'a78a09b5-138e-407e-8c09-34414853eb20'),\n",
       " (4832, 1712),\n",
       " (4832, 'a78a09b5-138e-407e-8c09-34414853eb20'),\n",
       " (1712, 'a78a09b5-138e-407e-8c09-34414853eb20')]"
      ]
     },
     "execution_count": 133,
     "metadata": {},
     "output_type": "execute_result"
    }
   ],
   "source": [
    "lookup_pub.iloc[0].edges"
   ]
  },
  {
   "cell_type": "markdown",
   "metadata": {},
   "source": [
    "## Additional metrics"
   ]
  },
  {
   "cell_type": "code",
   "execution_count": 137,
   "metadata": {
    "ExecuteTime": {
     "end_time": "2018-04-03T00:37:34.824891Z",
     "start_time": "2018-04-03T00:37:34.821717Z"
    }
   },
   "outputs": [],
   "source": [
    "# nb_poinf - number of collaborators from inf\n",
    "def extract_inf(collab_id, lookup_poinf):\n",
    "    return len([a for a in collab_id if a in lookup_poinf.index.tolist()])"
   ]
  },
  {
   "cell_type": "code",
   "execution_count": 142,
   "metadata": {
    "ExecuteTime": {
     "end_time": "2018-04-03T00:38:57.237259Z",
     "start_time": "2018-04-03T00:38:56.779591Z"
    }
   },
   "outputs": [],
   "source": [
    "lookup_pub['nb_poinf'] = lookup_pub.collab_id.apply(lambda x: extract_inf(x,lookup_poinf))"
   ]
  },
  {
   "cell_type": "code",
   "execution_count": 146,
   "metadata": {
    "ExecuteTime": {
     "end_time": "2018-04-03T00:43:54.153104Z",
     "start_time": "2018-04-03T00:43:54.149332Z"
    }
   },
   "outputs": [],
   "source": [
    "# id of poinf\n",
    "def extract_poinf(collab_id, lookup_poinf):\n",
    "    return [a for a in collab_id if a in lookup_poinf.index.tolist()]"
   ]
  },
  {
   "cell_type": "code",
   "execution_count": 147,
   "metadata": {
    "ExecuteTime": {
     "end_time": "2018-04-03T00:44:32.717255Z",
     "start_time": "2018-04-03T00:44:32.279312Z"
    }
   },
   "outputs": [],
   "source": [
    "lookup_pub['poinf_collaborators'] = lookup_pub.collab_id.apply(lambda x: extract_poinf(x,lookup_poinf))"
   ]
  },
  {
   "cell_type": "code",
   "execution_count": 148,
   "metadata": {
    "ExecuteTime": {
     "end_time": "2018-04-03T00:44:35.062443Z",
     "start_time": "2018-04-03T00:44:35.043114Z"
    }
   },
   "outputs": [
    {
     "data": {
      "text/html": [
       "<div>\n",
       "<style scoped>\n",
       "    .dataframe tbody tr th:only-of-type {\n",
       "        vertical-align: middle;\n",
       "    }\n",
       "\n",
       "    .dataframe tbody tr th {\n",
       "        vertical-align: top;\n",
       "    }\n",
       "\n",
       "    .dataframe thead th {\n",
       "        text-align: right;\n",
       "    }\n",
       "</style>\n",
       "<table border=\"1\" class=\"dataframe\">\n",
       "  <thead>\n",
       "    <tr style=\"text-align: right;\">\n",
       "      <th></th>\n",
       "      <th>year</th>\n",
       "      <th>authors</th>\n",
       "      <th>shortnames</th>\n",
       "      <th>nb_authors</th>\n",
       "      <th>collab_id</th>\n",
       "      <th>edges</th>\n",
       "      <th>nb_poinf</th>\n",
       "      <th>poinf_collaborators</th>\n",
       "    </tr>\n",
       "    <tr>\n",
       "      <th>pub_id</th>\n",
       "      <th></th>\n",
       "      <th></th>\n",
       "      <th></th>\n",
       "      <th></th>\n",
       "      <th></th>\n",
       "      <th></th>\n",
       "      <th></th>\n",
       "      <th></th>\n",
       "    </tr>\n",
       "  </thead>\n",
       "  <tbody>\n",
       "    <tr>\n",
       "      <th>400818dc-63af-4a26-80c5-906f98e1f8ab</th>\n",
       "      <td>1989</td>\n",
       "      <td>[d.p. o'brien, r. galvao, m. keilhacker, e. la...</td>\n",
       "      <td>[brien, d. p., galvao, r., keilhacker, m., laz...</td>\n",
       "      <td>6</td>\n",
       "      <td>[4780, 383, 778, 4832, 1712, a78a09b5-138e-407...</td>\n",
       "      <td>[(4780, 383), (4780, 778), (4780, 4832), (4780...</td>\n",
       "      <td>1</td>\n",
       "      <td>[a78a09b5-138e-407e-8c09-34414853eb20]</td>\n",
       "    </tr>\n",
       "    <tr>\n",
       "      <th>18b1a861-afef-4fff-bc80-d02e05be18c4</th>\n",
       "      <td>2013</td>\n",
       "      <td>[paolo guagliardo, piotr wieczorek]</td>\n",
       "      <td>[guagliardo, p., wieczorek, p.]</td>\n",
       "      <td>2</td>\n",
       "      <td>[653c9723-b374-4ad3-9cef-0f7e7f45d812, 685]</td>\n",
       "      <td>[(653c9723-b374-4ad3-9cef-0f7e7f45d812, 685)]</td>\n",
       "      <td>1</td>\n",
       "      <td>[653c9723-b374-4ad3-9cef-0f7e7f45d812]</td>\n",
       "    </tr>\n",
       "    <tr>\n",
       "      <th>309fdbfc-227b-4588-9264-f0f4e3cadfcb</th>\n",
       "      <td>1994</td>\n",
       "      <td>[p. buneman, l. libkin, d. suciu, v. tannen, l...</td>\n",
       "      <td>[buneman, p., libkin, l., suciu, d., tannen, v...</td>\n",
       "      <td>5</td>\n",
       "      <td>[90396347-473b-4fba-8b1d-a1d25ea18b6b, a22b33f...</td>\n",
       "      <td>[(90396347-473b-4fba-8b1d-a1d25ea18b6b, a22b33...</td>\n",
       "      <td>2</td>\n",
       "      <td>[90396347-473b-4fba-8b1d-a1d25ea18b6b, a22b33f...</td>\n",
       "    </tr>\n",
       "  </tbody>\n",
       "</table>\n",
       "</div>"
      ],
      "text/plain": [
       "                                      year  \\\n",
       "pub_id                                       \n",
       "400818dc-63af-4a26-80c5-906f98e1f8ab  1989   \n",
       "18b1a861-afef-4fff-bc80-d02e05be18c4  2013   \n",
       "309fdbfc-227b-4588-9264-f0f4e3cadfcb  1994   \n",
       "\n",
       "                                                                                authors  \\\n",
       "pub_id                                                                                    \n",
       "400818dc-63af-4a26-80c5-906f98e1f8ab  [d.p. o'brien, r. galvao, m. keilhacker, e. la...   \n",
       "18b1a861-afef-4fff-bc80-d02e05be18c4                [paolo guagliardo, piotr wieczorek]   \n",
       "309fdbfc-227b-4588-9264-f0f4e3cadfcb  [p. buneman, l. libkin, d. suciu, v. tannen, l...   \n",
       "\n",
       "                                                                             shortnames  \\\n",
       "pub_id                                                                                    \n",
       "400818dc-63af-4a26-80c5-906f98e1f8ab  [brien, d. p., galvao, r., keilhacker, m., laz...   \n",
       "18b1a861-afef-4fff-bc80-d02e05be18c4                    [guagliardo, p., wieczorek, p.]   \n",
       "309fdbfc-227b-4588-9264-f0f4e3cadfcb  [buneman, p., libkin, l., suciu, d., tannen, v...   \n",
       "\n",
       "                                      nb_authors  \\\n",
       "pub_id                                             \n",
       "400818dc-63af-4a26-80c5-906f98e1f8ab           6   \n",
       "18b1a861-afef-4fff-bc80-d02e05be18c4           2   \n",
       "309fdbfc-227b-4588-9264-f0f4e3cadfcb           5   \n",
       "\n",
       "                                                                              collab_id  \\\n",
       "pub_id                                                                                    \n",
       "400818dc-63af-4a26-80c5-906f98e1f8ab  [4780, 383, 778, 4832, 1712, a78a09b5-138e-407...   \n",
       "18b1a861-afef-4fff-bc80-d02e05be18c4        [653c9723-b374-4ad3-9cef-0f7e7f45d812, 685]   \n",
       "309fdbfc-227b-4588-9264-f0f4e3cadfcb  [90396347-473b-4fba-8b1d-a1d25ea18b6b, a22b33f...   \n",
       "\n",
       "                                                                                  edges  \\\n",
       "pub_id                                                                                    \n",
       "400818dc-63af-4a26-80c5-906f98e1f8ab  [(4780, 383), (4780, 778), (4780, 4832), (4780...   \n",
       "18b1a861-afef-4fff-bc80-d02e05be18c4      [(653c9723-b374-4ad3-9cef-0f7e7f45d812, 685)]   \n",
       "309fdbfc-227b-4588-9264-f0f4e3cadfcb  [(90396347-473b-4fba-8b1d-a1d25ea18b6b, a22b33...   \n",
       "\n",
       "                                      nb_poinf  \\\n",
       "pub_id                                           \n",
       "400818dc-63af-4a26-80c5-906f98e1f8ab         1   \n",
       "18b1a861-afef-4fff-bc80-d02e05be18c4         1   \n",
       "309fdbfc-227b-4588-9264-f0f4e3cadfcb         2   \n",
       "\n",
       "                                                                    poinf_collaborators  \n",
       "pub_id                                                                                   \n",
       "400818dc-63af-4a26-80c5-906f98e1f8ab             [a78a09b5-138e-407e-8c09-34414853eb20]  \n",
       "18b1a861-afef-4fff-bc80-d02e05be18c4             [653c9723-b374-4ad3-9cef-0f7e7f45d812]  \n",
       "309fdbfc-227b-4588-9264-f0f4e3cadfcb  [90396347-473b-4fba-8b1d-a1d25ea18b6b, a22b33f...  "
      ]
     },
     "execution_count": 148,
     "metadata": {},
     "output_type": "execute_result"
    }
   ],
   "source": [
    "lookup_pub.head(3)"
   ]
  },
  {
   "cell_type": "markdown",
   "metadata": {},
   "source": [
    "## Store the dataset"
   ]
  },
  {
   "cell_type": "code",
   "execution_count": 144,
   "metadata": {
    "ExecuteTime": {
     "end_time": "2018-04-03T00:39:55.567945Z",
     "start_time": "2018-04-03T00:39:55.497410Z"
    },
    "deletable": false,
    "editable": false,
    "run_control": {
     "frozen": true
    }
   },
   "outputs": [],
   "source": [
    "lookup_pub.to_pickle('../data_schoolofinf/lookup_pub.pkl')"
   ]
  },
  {
   "cell_type": "code",
   "execution_count": 145,
   "metadata": {
    "ExecuteTime": {
     "end_time": "2018-04-03T00:39:55.779949Z",
     "start_time": "2018-04-03T00:39:55.570027Z"
    },
    "deletable": false,
    "editable": false,
    "run_control": {
     "frozen": true
    }
   },
   "outputs": [],
   "source": [
    "# Write the dataset to csv file for portability:\n",
    "lookup_pub.to_csv(\n",
    "    path_or_buf='../data_schoolofinf/lookup_pub.csv',\n",
    "    header=True,\n",
    "    index=True,\n",
    "    index_label='pub_id')"
   ]
  },
  {
   "cell_type": "code",
   "execution_count": 149,
   "metadata": {
    "ExecuteTime": {
     "end_time": "2018-04-03T00:46:29.541464Z",
     "start_time": "2018-04-03T00:46:29.521003Z"
    },
    "deletable": false,
    "editable": false,
    "run_control": {
     "frozen": true
    }
   },
   "outputs": [],
   "source": [
    "# store the mapping for external collab:\n",
    "pkl.dump(lookup_ext_academic, open('../data_schoolofinf/lookup_ext_academic.pkl','wb'))\n",
    "with open('../data_schoolofinf/lookup_ext_academic.csv','w') as f:\n",
    "    for k,v in lookup_ext_academic.items():\n",
    "        f.write('{},{}\\n'.format(k,v))"
   ]
  },
  {
   "cell_type": "markdown",
   "metadata": {},
   "source": [
    "# Add information on`lookup_poinf`"
   ]
  },
  {
   "cell_type": "code",
   "execution_count": 151,
   "metadata": {
    "ExecuteTime": {
     "end_time": "2018-04-03T00:48:22.582847Z",
     "start_time": "2018-04-03T00:48:22.576402Z"
    }
   },
   "outputs": [],
   "source": [
    "# 1) First publication\n",
    "def get_firstPublishDate(poinf_id, lookup_pub):\n",
    "    \n",
    "    for collab in lookup_pub.iterrows():\n",
    "        poinf_collabs = collab[1]['poinf_collaborators']\n",
    "        if poinf_id in poinf_collabs:\n",
    "            return int(collab[1]['year'])\n",
    "    return None"
   ]
  },
  {
   "cell_type": "code",
   "execution_count": 152,
   "metadata": {
    "ExecuteTime": {
     "end_time": "2018-04-03T00:49:09.743293Z",
     "start_time": "2018-04-03T00:48:25.188363Z"
    }
   },
   "outputs": [],
   "source": [
    "lookup_poinf['first_pub_year'] = lookup_poinf.index.map(lambda x: get_firstPublishDate(x,lookup_pub))"
   ]
  },
  {
   "cell_type": "markdown",
   "metadata": {},
   "source": [
    "## investigate researchers w/o publications"
   ]
  },
  {
   "cell_type": "code",
   "execution_count": 156,
   "metadata": {
    "ExecuteTime": {
     "end_time": "2018-04-03T00:50:32.969806Z",
     "start_time": "2018-04-03T00:50:32.947329Z"
    }
   },
   "outputs": [
    {
     "data": {
      "text/plain": [
       "unknown                                                  36\n",
       "institute of language cognition and computation           7\n",
       "laboratory for foundations of computer science            5\n",
       "neuroinformatics dtc                                      4\n",
       "institute of perception action and behaviour              4\n",
       "institute for computing systems architecture              4\n",
       "centre for intelligent systems and their applications     3\n",
       "institute for adaptive and neural computation             1\n",
       "Name: institute, dtype: int64"
      ]
     },
     "execution_count": 156,
     "metadata": {},
     "output_type": "execute_result"
    }
   ],
   "source": [
    "lookup_poinf[lookup_poinf.first_pub_year.isna()].institute.str.lower().value_counts()"
   ]
  },
  {
   "cell_type": "code",
   "execution_count": 158,
   "metadata": {
    "ExecuteTime": {
     "end_time": "2018-04-03T00:50:59.691957Z",
     "start_time": "2018-04-03T00:50:59.684988Z"
    }
   },
   "outputs": [
    {
     "data": {
      "text/plain": [
       "visitor official visitor                         20\n",
       "research associate                               12\n",
       "unknown                                           9\n",
       "research assistant                                5\n",
       "visitor staff uoe associated institution          3\n",
       "uoe honorary staff                                3\n",
       "visitor non payroll staff                         3\n",
       "visitor default visitor                           2\n",
       "uoe temporary staff                               1\n",
       "marie curie earlystage researcher                 1\n",
       "research associate in speech synthesis            1\n",
       "personal chair in computer science                1\n",
       "lecturer reader in image and vision computing     1\n",
       "visitor post graduate worker                      1\n",
       "visitor staff  non uk hei                         1\n",
       "Name: position, dtype: int64"
      ]
     },
     "execution_count": 158,
     "metadata": {},
     "output_type": "execute_result"
    }
   ],
   "source": [
    "lookup_poinf[lookup_poinf.first_pub_year.isna()].position.str.lower().value_counts()"
   ]
  },
  {
   "cell_type": "code",
   "execution_count": 178,
   "metadata": {
    "ExecuteTime": {
     "end_time": "2018-04-03T01:23:30.175462Z",
     "start_time": "2018-04-03T01:23:30.170803Z"
    }
   },
   "outputs": [
    {
     "data": {
      "text/plain": [
       "64"
      ]
     },
     "execution_count": 178,
     "metadata": {},
     "output_type": "execute_result"
    }
   ],
   "source": [
    "len(lookup_poinf[lookup_poinf.first_pub_year.isna()])"
   ]
  },
  {
   "cell_type": "code",
   "execution_count": 170,
   "metadata": {
    "ExecuteTime": {
     "end_time": "2018-04-03T01:03:26.259359Z",
     "start_time": "2018-04-03T01:03:26.246078Z"
    }
   },
   "outputs": [],
   "source": [
    "# total number of publications\n",
    "# we are intersted in three periods: total in collection, 1997-2017 and 2012-2017\n",
    "def count_pubs(poinf_id, lookup_pub, lower_limit=None, upper_limit=None):\n",
    "    count = 0\n",
    "    if lower_limit and upper_limit:\n",
    "        _lookup_pub = lookup_pub[(lookup_pub.year.ge(lower_limit)\n",
    "                                  & lookup_pub.year.le(upper_limit))]\n",
    "    else:\n",
    "        _lookup_pub = lookup_pub\n",
    "    for pub in _lookup_pub.iterrows():\n",
    "        poinf_collabs = pub[1]['poinf_collaborators']\n",
    "        if poinf_id in poinf_collabs:\n",
    "            count += 1\n",
    "    return count"
   ]
  },
  {
   "cell_type": "code",
   "execution_count": 171,
   "metadata": {
    "ExecuteTime": {
     "end_time": "2018-04-03T01:05:56.737339Z",
     "start_time": "2018-04-03T01:03:28.765723Z"
    }
   },
   "outputs": [],
   "source": [
    "lookup_poinf['total_pub'] = lookup_poinf.index.map(lambda x: count_pubs(x, lookup_pub))"
   ]
  },
  {
   "cell_type": "code",
   "execution_count": 172,
   "metadata": {
    "ExecuteTime": {
     "end_time": "2018-04-03T01:09:32.740091Z",
     "start_time": "2018-04-03T01:05:59.049181Z"
    }
   },
   "outputs": [],
   "source": [
    "lookup_poinf['total_pub_1997'] = lookup_poinf.index.map(lambda x: count_pubs(x,\n",
    "                                                                             lookup_pub, \n",
    "                                                                             lower_limit=1997, upper_limit=2017))\n",
    "lookup_poinf['total_pub_2012'] = lookup_poinf.index.map(lambda x: count_pubs(x,\n",
    "                                                                             lookup_pub,\n",
    "                                                                             lower_limit=2012, upper_limit=2017))"
   ]
  },
  {
   "cell_type": "code",
   "execution_count": 174,
   "metadata": {
    "ExecuteTime": {
     "end_time": "2018-04-03T01:19:22.517055Z",
     "start_time": "2018-04-03T01:19:22.509199Z"
    }
   },
   "outputs": [
    {
     "name": "stdout",
     "output_type": "stream",
     "text": [
      "<class 'pandas.core.frame.DataFrame'>\n",
      "Index: 288 entries, 23d17ab4-123f-4929-9373-763bd7587df8 to ccd9cd8c-9aee-4ede-a388-f82641ee8d29\n",
      "Data columns (total 13 columns):\n",
      "last_name          288 non-null object\n",
      "first_name         288 non-null object\n",
      "personal_url       288 non-null object\n",
      "position           288 non-null object\n",
      "parent             288 non-null object\n",
      "institute          288 non-null object\n",
      "full_name          288 non-null object\n",
      "institute_class    288 non-null int64\n",
      "alias              229 non-null object\n",
      "first_pub_year     224 non-null float64\n",
      "total_pub          288 non-null int64\n",
      "total_pub_1997     288 non-null int64\n",
      "total_pub_2012     288 non-null int64\n",
      "dtypes: float64(1), int64(4), object(8)\n",
      "memory usage: 41.5+ KB\n"
     ]
    }
   ],
   "source": [
    "lookup_poinf.info()"
   ]
  },
  {
   "cell_type": "code",
   "execution_count": 176,
   "metadata": {
    "ExecuteTime": {
     "end_time": "2018-04-03T01:21:39.564819Z",
     "start_time": "2018-04-03T01:21:39.513938Z"
    },
    "deletable": false,
    "editable": false,
    "run_control": {
     "frozen": true
    }
   },
   "outputs": [],
   "source": [
    "# Write the lookup_poinf to the index:\n",
    "lookup_poinf.to_csv(\n",
    "    path_or_buf='../data_schoolofinf/lookup_poinf.csv',\n",
    "    index=True,\n",
    "    index_label='id',\n",
    "    header=True)"
   ]
  },
  {
   "cell_type": "code",
   "execution_count": 177,
   "metadata": {
    "ExecuteTime": {
     "end_time": "2018-04-03T01:21:39.581474Z",
     "start_time": "2018-04-03T01:21:39.566790Z"
    },
    "deletable": false,
    "editable": false,
    "run_control": {
     "frozen": true
    }
   },
   "outputs": [],
   "source": [
    "lookup_poinf.to_pickle(path='../data_schoolofinf/lookup_poinf.pkl')"
   ]
  },
  {
   "cell_type": "markdown",
   "metadata": {},
   "source": [
    "---\n",
    "# Visualising data, generative statistics\n",
    "Gen graphs for report"
   ]
  },
  {
   "cell_type": "code",
   "execution_count": 1,
   "metadata": {
    "ExecuteTime": {
     "end_time": "2018-04-03T03:27:24.181823Z",
     "start_time": "2018-04-03T03:27:23.361338Z"
    }
   },
   "outputs": [],
   "source": [
    "%matplotlib inline\n",
    "import matplotlib.pyplot as plt\n",
    "import seaborn as sns\n",
    "import pandas as pd\n",
    "import pickle as pkl\n",
    "plt.style.use(['seaborn-poster'])"
   ]
  },
  {
   "cell_type": "code",
   "execution_count": 2,
   "metadata": {
    "ExecuteTime": {
     "end_time": "2018-04-03T03:27:24.286813Z",
     "start_time": "2018-04-03T03:27:24.183955Z"
    }
   },
   "outputs": [],
   "source": [
    "# import data\n",
    "lookup_pub = pd.read_pickle('../data_schoolofinf/lookup_pub.pkl')\n",
    "lookup_poinf = pd.read_pickle('../data_schoolofinf/lookup_poinf.pkl')\n",
    "institute = pkl.load(open('../data_schoolofinf/institutes.pkl','rb'))"
   ]
  },
  {
   "cell_type": "code",
   "execution_count": 3,
   "metadata": {
    "ExecuteTime": {
     "end_time": "2018-04-03T03:27:24.312324Z",
     "start_time": "2018-04-03T03:27:24.289574Z"
    }
   },
   "outputs": [
    {
     "data": {
      "text/html": [
       "<div>\n",
       "<style scoped>\n",
       "    .dataframe tbody tr th:only-of-type {\n",
       "        vertical-align: middle;\n",
       "    }\n",
       "\n",
       "    .dataframe tbody tr th {\n",
       "        vertical-align: top;\n",
       "    }\n",
       "\n",
       "    .dataframe thead th {\n",
       "        text-align: right;\n",
       "    }\n",
       "</style>\n",
       "<table border=\"1\" class=\"dataframe\">\n",
       "  <thead>\n",
       "    <tr style=\"text-align: right;\">\n",
       "      <th></th>\n",
       "      <th>year</th>\n",
       "      <th>authors</th>\n",
       "      <th>shortnames</th>\n",
       "      <th>nb_authors</th>\n",
       "      <th>collab_id</th>\n",
       "      <th>edges</th>\n",
       "      <th>nb_poinf</th>\n",
       "    </tr>\n",
       "    <tr>\n",
       "      <th>pub_id</th>\n",
       "      <th></th>\n",
       "      <th></th>\n",
       "      <th></th>\n",
       "      <th></th>\n",
       "      <th></th>\n",
       "      <th></th>\n",
       "      <th></th>\n",
       "    </tr>\n",
       "  </thead>\n",
       "  <tbody>\n",
       "    <tr>\n",
       "      <th>400818dc-63af-4a26-80c5-906f98e1f8ab</th>\n",
       "      <td>1989</td>\n",
       "      <td>[d.p. o'brien, r. galvao, m. keilhacker, e. la...</td>\n",
       "      <td>[brien, d. p., galvao, r., keilhacker, m., laz...</td>\n",
       "      <td>6</td>\n",
       "      <td>[4780, 383, 778, 4832, 1712, a78a09b5-138e-407...</td>\n",
       "      <td>[(4780, 383), (4780, 778), (4780, 4832), (4780...</td>\n",
       "      <td>1</td>\n",
       "    </tr>\n",
       "    <tr>\n",
       "      <th>18b1a861-afef-4fff-bc80-d02e05be18c4</th>\n",
       "      <td>2013</td>\n",
       "      <td>[paolo guagliardo, piotr wieczorek]</td>\n",
       "      <td>[guagliardo, p., wieczorek, p.]</td>\n",
       "      <td>2</td>\n",
       "      <td>[653c9723-b374-4ad3-9cef-0f7e7f45d812, 685]</td>\n",
       "      <td>[(653c9723-b374-4ad3-9cef-0f7e7f45d812, 685)]</td>\n",
       "      <td>1</td>\n",
       "    </tr>\n",
       "    <tr>\n",
       "      <th>309fdbfc-227b-4588-9264-f0f4e3cadfcb</th>\n",
       "      <td>1994</td>\n",
       "      <td>[p. buneman, l. libkin, d. suciu, v. tannen, l...</td>\n",
       "      <td>[buneman, p., libkin, l., suciu, d., tannen, v...</td>\n",
       "      <td>5</td>\n",
       "      <td>[90396347-473b-4fba-8b1d-a1d25ea18b6b, a22b33f...</td>\n",
       "      <td>[(90396347-473b-4fba-8b1d-a1d25ea18b6b, a22b33...</td>\n",
       "      <td>2</td>\n",
       "    </tr>\n",
       "  </tbody>\n",
       "</table>\n",
       "</div>"
      ],
      "text/plain": [
       "                                      year  \\\n",
       "pub_id                                       \n",
       "400818dc-63af-4a26-80c5-906f98e1f8ab  1989   \n",
       "18b1a861-afef-4fff-bc80-d02e05be18c4  2013   \n",
       "309fdbfc-227b-4588-9264-f0f4e3cadfcb  1994   \n",
       "\n",
       "                                                                                authors  \\\n",
       "pub_id                                                                                    \n",
       "400818dc-63af-4a26-80c5-906f98e1f8ab  [d.p. o'brien, r. galvao, m. keilhacker, e. la...   \n",
       "18b1a861-afef-4fff-bc80-d02e05be18c4                [paolo guagliardo, piotr wieczorek]   \n",
       "309fdbfc-227b-4588-9264-f0f4e3cadfcb  [p. buneman, l. libkin, d. suciu, v. tannen, l...   \n",
       "\n",
       "                                                                             shortnames  \\\n",
       "pub_id                                                                                    \n",
       "400818dc-63af-4a26-80c5-906f98e1f8ab  [brien, d. p., galvao, r., keilhacker, m., laz...   \n",
       "18b1a861-afef-4fff-bc80-d02e05be18c4                    [guagliardo, p., wieczorek, p.]   \n",
       "309fdbfc-227b-4588-9264-f0f4e3cadfcb  [buneman, p., libkin, l., suciu, d., tannen, v...   \n",
       "\n",
       "                                      nb_authors  \\\n",
       "pub_id                                             \n",
       "400818dc-63af-4a26-80c5-906f98e1f8ab           6   \n",
       "18b1a861-afef-4fff-bc80-d02e05be18c4           2   \n",
       "309fdbfc-227b-4588-9264-f0f4e3cadfcb           5   \n",
       "\n",
       "                                                                              collab_id  \\\n",
       "pub_id                                                                                    \n",
       "400818dc-63af-4a26-80c5-906f98e1f8ab  [4780, 383, 778, 4832, 1712, a78a09b5-138e-407...   \n",
       "18b1a861-afef-4fff-bc80-d02e05be18c4        [653c9723-b374-4ad3-9cef-0f7e7f45d812, 685]   \n",
       "309fdbfc-227b-4588-9264-f0f4e3cadfcb  [90396347-473b-4fba-8b1d-a1d25ea18b6b, a22b33f...   \n",
       "\n",
       "                                                                                  edges  \\\n",
       "pub_id                                                                                    \n",
       "400818dc-63af-4a26-80c5-906f98e1f8ab  [(4780, 383), (4780, 778), (4780, 4832), (4780...   \n",
       "18b1a861-afef-4fff-bc80-d02e05be18c4      [(653c9723-b374-4ad3-9cef-0f7e7f45d812, 685)]   \n",
       "309fdbfc-227b-4588-9264-f0f4e3cadfcb  [(90396347-473b-4fba-8b1d-a1d25ea18b6b, a22b33...   \n",
       "\n",
       "                                      nb_poinf  \n",
       "pub_id                                          \n",
       "400818dc-63af-4a26-80c5-906f98e1f8ab         1  \n",
       "18b1a861-afef-4fff-bc80-d02e05be18c4         1  \n",
       "309fdbfc-227b-4588-9264-f0f4e3cadfcb         2  "
      ]
     },
     "execution_count": 3,
     "metadata": {},
     "output_type": "execute_result"
    }
   ],
   "source": [
    "lookup_pub.head(3)"
   ]
  },
  {
   "cell_type": "markdown",
   "metadata": {},
   "source": [
    "## Researchers"
   ]
  },
  {
   "cell_type": "code",
   "execution_count": 4,
   "metadata": {
    "ExecuteTime": {
     "end_time": "2018-04-03T03:27:24.337880Z",
     "start_time": "2018-04-03T03:27:24.314709Z"
    }
   },
   "outputs": [
    {
     "data": {
      "text/html": [
       "<div>\n",
       "<style scoped>\n",
       "    .dataframe tbody tr th:only-of-type {\n",
       "        vertical-align: middle;\n",
       "    }\n",
       "\n",
       "    .dataframe tbody tr th {\n",
       "        vertical-align: top;\n",
       "    }\n",
       "\n",
       "    .dataframe thead th {\n",
       "        text-align: right;\n",
       "    }\n",
       "</style>\n",
       "<table border=\"1\" class=\"dataframe\">\n",
       "  <thead>\n",
       "    <tr style=\"text-align: right;\">\n",
       "      <th></th>\n",
       "      <th>last_name</th>\n",
       "      <th>first_name</th>\n",
       "      <th>personal_url</th>\n",
       "      <th>position</th>\n",
       "      <th>parent</th>\n",
       "      <th>institute</th>\n",
       "      <th>full_name</th>\n",
       "      <th>institute_class</th>\n",
       "      <th>alias</th>\n",
       "      <th>first_pub_year</th>\n",
       "      <th>total_pub</th>\n",
       "      <th>total_pub_1997</th>\n",
       "      <th>total_pub_2012</th>\n",
       "    </tr>\n",
       "    <tr>\n",
       "      <th>id</th>\n",
       "      <th></th>\n",
       "      <th></th>\n",
       "      <th></th>\n",
       "      <th></th>\n",
       "      <th></th>\n",
       "      <th></th>\n",
       "      <th></th>\n",
       "      <th></th>\n",
       "      <th></th>\n",
       "      <th></th>\n",
       "      <th></th>\n",
       "      <th></th>\n",
       "      <th></th>\n",
       "    </tr>\n",
       "  </thead>\n",
       "  <tbody>\n",
       "    <tr>\n",
       "      <th>23d17ab4-123f-4929-9373-763bd7587df8</th>\n",
       "      <td>alay</td>\n",
       "      <td>ozgu</td>\n",
       "      <td>http://www.research.ed.ac.uk/portal/en/persons...</td>\n",
       "      <td>visitor official visitor</td>\n",
       "      <td>school of informatics</td>\n",
       "      <td>UNKNOWN</td>\n",
       "      <td>alay ozgu</td>\n",
       "      <td>0</td>\n",
       "      <td>NaN</td>\n",
       "      <td>NaN</td>\n",
       "      <td>0</td>\n",
       "      <td>0</td>\n",
       "      <td>0</td>\n",
       "    </tr>\n",
       "    <tr>\n",
       "      <th>d089bb44-7d0b-4b3f-b556-27def993d1d1</th>\n",
       "      <td>albrecht</td>\n",
       "      <td>stefano</td>\n",
       "      <td>http://www.research.ed.ac.uk/portal/en/persons...</td>\n",
       "      <td>lecturer in artificial intelligence</td>\n",
       "      <td>school of informatics</td>\n",
       "      <td>centre for intelligent systems and their appli...</td>\n",
       "      <td>albrecht stefano</td>\n",
       "      <td>1</td>\n",
       "      <td>albrecht, s. v.|albrecht, s.</td>\n",
       "      <td>2014.0</td>\n",
       "      <td>12</td>\n",
       "      <td>12</td>\n",
       "      <td>12</td>\n",
       "    </tr>\n",
       "    <tr>\n",
       "      <th>ecd799fb-4f63-44ae-a078-b009099f2c8c</th>\n",
       "      <td>alex</td>\n",
       "      <td>beatrice</td>\n",
       "      <td>http://www.research.ed.ac.uk/portal/en/persons...</td>\n",
       "      <td>research fellow</td>\n",
       "      <td>school of informatics</td>\n",
       "      <td>institute of language cognition and computation</td>\n",
       "      <td>alex beatrice</td>\n",
       "      <td>2</td>\n",
       "      <td>alex, b.  (ed.)|alex, b.|symington, b.</td>\n",
       "      <td>2012.0</td>\n",
       "      <td>43</td>\n",
       "      <td>43</td>\n",
       "      <td>20</td>\n",
       "    </tr>\n",
       "  </tbody>\n",
       "</table>\n",
       "</div>"
      ],
      "text/plain": [
       "                                     last_name first_name  \\\n",
       "id                                                          \n",
       "23d17ab4-123f-4929-9373-763bd7587df8      alay       ozgu   \n",
       "d089bb44-7d0b-4b3f-b556-27def993d1d1  albrecht    stefano   \n",
       "ecd799fb-4f63-44ae-a078-b009099f2c8c      alex   beatrice   \n",
       "\n",
       "                                                                           personal_url  \\\n",
       "id                                                                                        \n",
       "23d17ab4-123f-4929-9373-763bd7587df8  http://www.research.ed.ac.uk/portal/en/persons...   \n",
       "d089bb44-7d0b-4b3f-b556-27def993d1d1  http://www.research.ed.ac.uk/portal/en/persons...   \n",
       "ecd799fb-4f63-44ae-a078-b009099f2c8c  http://www.research.ed.ac.uk/portal/en/persons...   \n",
       "\n",
       "                                                                 position  \\\n",
       "id                                                                          \n",
       "23d17ab4-123f-4929-9373-763bd7587df8             visitor official visitor   \n",
       "d089bb44-7d0b-4b3f-b556-27def993d1d1  lecturer in artificial intelligence   \n",
       "ecd799fb-4f63-44ae-a078-b009099f2c8c                      research fellow   \n",
       "\n",
       "                                                     parent  \\\n",
       "id                                                            \n",
       "23d17ab4-123f-4929-9373-763bd7587df8  school of informatics   \n",
       "d089bb44-7d0b-4b3f-b556-27def993d1d1  school of informatics   \n",
       "ecd799fb-4f63-44ae-a078-b009099f2c8c  school of informatics   \n",
       "\n",
       "                                                                              institute  \\\n",
       "id                                                                                        \n",
       "23d17ab4-123f-4929-9373-763bd7587df8                                            UNKNOWN   \n",
       "d089bb44-7d0b-4b3f-b556-27def993d1d1  centre for intelligent systems and their appli...   \n",
       "ecd799fb-4f63-44ae-a078-b009099f2c8c    institute of language cognition and computation   \n",
       "\n",
       "                                             full_name  institute_class  \\\n",
       "id                                                                        \n",
       "23d17ab4-123f-4929-9373-763bd7587df8         alay ozgu                0   \n",
       "d089bb44-7d0b-4b3f-b556-27def993d1d1  albrecht stefano                1   \n",
       "ecd799fb-4f63-44ae-a078-b009099f2c8c     alex beatrice                2   \n",
       "\n",
       "                                                                       alias  \\\n",
       "id                                                                             \n",
       "23d17ab4-123f-4929-9373-763bd7587df8                                     NaN   \n",
       "d089bb44-7d0b-4b3f-b556-27def993d1d1            albrecht, s. v.|albrecht, s.   \n",
       "ecd799fb-4f63-44ae-a078-b009099f2c8c  alex, b.  (ed.)|alex, b.|symington, b.   \n",
       "\n",
       "                                      first_pub_year  total_pub  \\\n",
       "id                                                                \n",
       "23d17ab4-123f-4929-9373-763bd7587df8             NaN          0   \n",
       "d089bb44-7d0b-4b3f-b556-27def993d1d1          2014.0         12   \n",
       "ecd799fb-4f63-44ae-a078-b009099f2c8c          2012.0         43   \n",
       "\n",
       "                                      total_pub_1997  total_pub_2012  \n",
       "id                                                                    \n",
       "23d17ab4-123f-4929-9373-763bd7587df8               0               0  \n",
       "d089bb44-7d0b-4b3f-b556-27def993d1d1              12              12  \n",
       "ecd799fb-4f63-44ae-a078-b009099f2c8c              43              20  "
      ]
     },
     "execution_count": 4,
     "metadata": {},
     "output_type": "execute_result"
    }
   ],
   "source": [
    "lookup_poinf.head(3)"
   ]
  },
  {
   "cell_type": "code",
   "execution_count": 6,
   "metadata": {
    "ExecuteTime": {
     "end_time": "2018-04-03T03:27:34.960817Z",
     "start_time": "2018-04-03T03:27:34.950222Z"
    }
   },
   "outputs": [
    {
     "name": "stdout",
     "output_type": "stream",
     "text": [
      "288\n",
      "212\n"
     ]
    }
   ],
   "source": [
    "print((len(lookup_poinf)))\n",
    "# remove those without publications, i.e. no first_pub_year\n",
    "lookup_poinf_concise = lookup_poinf.drop(\n",
    "    lookup_poinf[lookup_poinf.first_pub_year.isna()].index).drop(\n",
    "        lookup_poinf[lookup_poinf.first_pub_year.lt(1997)\n",
    "                     | lookup_poinf.first_pub_year.gt(2017)].index)\n",
    "print((len(lookup_poinf_concise)))"
   ]
  },
  {
   "cell_type": "code",
   "execution_count": 7,
   "metadata": {
    "ExecuteTime": {
     "end_time": "2018-04-03T03:27:37.270424Z",
     "start_time": "2018-04-03T03:27:37.267675Z"
    }
   },
   "outputs": [],
   "source": [
    "import numpy as np"
   ]
  },
  {
   "cell_type": "code",
   "execution_count": 12,
   "metadata": {
    "ExecuteTime": {
     "end_time": "2018-04-03T03:28:03.610178Z",
     "start_time": "2018-04-03T03:28:03.606321Z"
    }
   },
   "outputs": [],
   "source": [
    "def rand_jitter(arr):\n",
    "    stdev = .005*(max(arr)-min(arr))\n",
    "    return (arr + np.random.randn(len(arr)) * stdev)"
   ]
  },
  {
   "cell_type": "code",
   "execution_count": 13,
   "metadata": {
    "ExecuteTime": {
     "end_time": "2018-04-03T03:28:04.406094Z",
     "start_time": "2018-04-03T03:28:03.765985Z"
    }
   },
   "outputs": [
    {
     "data": {
      "image/png": "[encoded data removed]",
      "text/plain": [
       "<matplotlib.figure.Figure at 0x7f3224c1ad30>"
      ]
     },
     "metadata": {},
     "output_type": "display_data"
    }
   ],
   "source": [
    "from artist import inst_by_color\n",
    "from collections import Counter\n",
    "### plot distribution of nb_pub:\n",
    "f = plt.figure(figsize=(8, 8))\n",
    "ax = f.add_subplot(111)\n",
    "markers = ['o', 's', '*', 'X', 'D', '^', '1']\n",
    "i = 0\n",
    "# for k, gb in lookup_poinf.groupby('institute'):\n",
    "#     if k in INST:\n",
    "#         c = Counter(gb.total_pub_1997.values)\n",
    "#         ax.plot(\n",
    "#             list(c.values()),\n",
    "#             list(c.keys()),\n",
    "#             alpha=.3,\n",
    "#             s=60,\n",
    "#             edgecolors=inst_by_color[institute[k]],\n",
    "#             marker=markers[i])\n",
    "#         i+=1\n",
    "c = Counter(lookup_poinf_concise.total_pub_1997.values)\n",
    "ax.scatter(\n",
    "    rand_jitter(list(c.values())),\n",
    "    list(c.keys()),\n",
    "#     s=70,\n",
    "    alpha=.4,\n",
    "    label='1997-2012',\n",
    "    marker=markers[1],\n",
    "    facecolor='',\n",
    "    edgecolors='g',\n",
    "    linewidths=2.4)\n",
    "c = Counter(lookup_poinf_concise.total_pub_2012.values)\n",
    "ax.scatter(\n",
    "    rand_jitter(list(c.values())),\n",
    "    list(c.keys()),\n",
    "#     s=70,\n",
    "    alpha=.7,\n",
    "    label='2012-2017',\n",
    "    marker=markers[-2],\n",
    "    facecolor='',\n",
    "    edgecolors='b',\n",
    "    linewidths=2.4)\n",
    "\n",
    "# sns.distplot(lookup_poinf.total_pub_2012.tolist()label='2012-2017', ax=ax, hist=False)\n",
    "ax.set_ylabel('Number of publications per author')\n",
    "ax.set_xlabel('Numer of author')\n",
    "# ax.set_yscale('log')\n",
    "ax.set_xscale('log')\n",
    "ax.set_xlim(left=0.6)\n",
    "\n",
    "ax.legend(loc=0, title='Period of collection')\n",
    "f.tight_layout()"
   ]
  },
  {
   "cell_type": "code",
   "execution_count": 172,
   "metadata": {
    "ExecuteTime": {
     "end_time": "2018-04-03T02:38:21.645390Z",
     "start_time": "2018-04-03T02:38:21.486971Z"
    }
   },
   "outputs": [],
   "source": [
    "# Number of publications per author within each collection period against the number of authors \n",
    "# - power law more prominent in the concise publication\n",
    "f.savefig('img/pub_per_author.png', format='png', bbox_inches='tight')"
   ]
  },
  {
   "cell_type": "markdown",
   "metadata": {},
   "source": [
    "## Distribution of institutes"
   ]
  },
  {
   "cell_type": "code",
   "execution_count": 26,
   "metadata": {
    "ExecuteTime": {
     "end_time": "2018-04-03T03:36:26.094270Z",
     "start_time": "2018-04-03T03:36:25.426638Z"
    },
    "code_folding": [],
    "scrolled": false
   },
   "outputs": [
    {
     "name": "stdout",
     "output_type": "stream",
     "text": [
      "(1998.0, 2017.0)\n"
     ]
    },
    {
     "name": "stderr",
     "output_type": "stream",
     "text": [
      "/home/goweiting/.local/lib/python3.6/site-packages/ipykernel/__main__.py:11: DeprecationWarning: object of type <class 'numpy.float64'> cannot be safely interpreted as an integer.\n"
     ]
    },
    {
     "data": {
      "image/png": "[encoded data removed]",
      "text/plain": [
       "<matplotlib.figure.Figure at 0x7f322032e668>"
      ]
     },
     "metadata": {},
     "output_type": "display_data"
    }
   ],
   "source": [
    "import operator\n",
    "# Across time : x-axis = year; y-axis : eaech institute scatter with an individual when they exist\n",
    "f = plt.figure(figsize=(10, 3.5))\n",
    "# sns.set(font_scale=3)\n",
    "i = 1\n",
    "_xs = pd.unique(lookup_poinf_concise.first_pub_year)\n",
    "_min = np.min(_xs)\n",
    "_max = np.max(_xs)\n",
    "print((_min, _max))\n",
    "\n",
    "xs = np.linspace(_min, _max, _max - _min + 1, dtype=int)\n",
    "\n",
    "mat = np.zeros([len(INST), len(xs)])\n",
    "# print(mat.shape)\n",
    "i = 0\n",
    "for k, gb in lookup_poinf_concise.groupby('institute'):\n",
    "    if k in INST:\n",
    "        years = np.array(gb.first_pub_year.tolist())\n",
    "        c = Counter(years)\n",
    "        yrs = np.zeros_like(xs)\n",
    "        for yr, v in sorted(list(c.items()), key=operator.itemgetter(0)):\n",
    "            yrs[int(yr - _min)] = v\n",
    "        vals = np.cumsum(yrs)\n",
    "        mat[i] = vals\n",
    "        #             print(yr)\n",
    "        #             y=int(yr-_min)\n",
    "        #             if y==0:\n",
    "        #                 mat[i][y] = v\n",
    "        #             else:\n",
    "        #                 mat[i][y] = v + mat[i][y-1]\n",
    "        #         mat[i][-1] = np.sum(mat[i])\n",
    "        i += 1\n",
    "total = np.sum(mat, axis=1)\n",
    "# print(total)\n",
    "xlabels = list(map(int, sorted(_xs)))\n",
    "# mask = np.zeros_like(mat)\n",
    "# mask[:,-1] = True\n",
    "ax = sns.heatmap(\n",
    "    mat,\n",
    "    xticklabels=xlabels,\n",
    "    yticklabels=INST,\n",
    "    square=True,\n",
    "    annot=True,\n",
    "    robust=True,\n",
    "    cbar=False,\n",
    "    annot_kws={'fontweight': 'bold'},\n",
    "    linewidths=1)\n",
    "# ax2 = ax.twinx()\n",
    "# ax2.set_yticklabels(total)\n",
    "# ax2.set_yticks([0.05, 0.2, 0.35, 0.5, .63, 0.8, .95])\n",
    "# print(locs)\n",
    "# f.tight_layout()"
   ]
  },
  {
   "cell_type": "code",
   "execution_count": 27,
   "metadata": {
    "ExecuteTime": {
     "end_time": "2018-04-03T03:36:45.498297Z",
     "start_time": "2018-04-03T03:36:45.146580Z"
    }
   },
   "outputs": [],
   "source": [
    "f.savefig('img/growth_inst.png', format='png', bbox_inches='tight')"
   ]
  },
  {
   "cell_type": "code",
   "execution_count": 33,
   "metadata": {
    "ExecuteTime": {
     "end_time": "2018-04-03T03:39:24.571484Z",
     "start_time": "2018-04-03T03:39:24.554911Z"
    }
   },
   "outputs": [
    {
     "name": "stdout",
     "output_type": "stream",
     "text": [
      "UNKNOWN 10\n",
      "centre for intelligent systems and their applications 19\n",
      "deanery of clinical sciences 1\n",
      "institute for adaptive and neural computation 27\n",
      "institute for computing systems architecture 24\n",
      "institute of language cognition and computation 48\n",
      "institute of perception action and behaviour 15\n",
      "laboratory for foundations of computer science 54\n",
      "neuroinformatics dtc 13\n",
      "school of philosophy psychology and language sciences 1\n",
      "212 200\n"
     ]
    }
   ],
   "source": [
    "t= 0\n",
    "t_in = 0\n",
    "for k,v in lookup_poinf_concise.groupby('institute'):\n",
    "    print(k,len(v))\n",
    "    t+=len(v)\n",
    "    if k in INST:\n",
    "        t_in += len(v)\n",
    "print(t, t_in)    "
   ]
  },
  {
   "cell_type": "markdown",
   "metadata": {
    "ExecuteTime": {
     "end_time": "2018-04-03T03:38:20.849909Z",
     "start_time": "2018-04-03T03:38:20.842256Z"
    }
   },
   "source": [
    "```\n",
    "class 0-UNKNOWN: 46\n",
    "class 1-centre for intelligent systems and their applications: 24\n",
    "class 2-institute of language cognition and computation: 59\n",
    "class 3-laboratory for foundations of computer science: 64\n",
    "class 4-institute for adaptive and neural computation: 29\n",
    "class 5-institute for computing systems architecture: 28\n",
    "class 6-neuroinformatics dtc: 17\n",
    "class 7-institute of perception action and behaviour: 19\n",
    "class 8-deanery of clinical sciences: 1\n",
    "class 9-school of philosophy psychology and language sciences: 1\n",
    "```"
   ]
  },
  {
   "cell_type": "markdown",
   "metadata": {},
   "source": [
    "## Distribution of publications (by year)"
   ]
  },
  {
   "cell_type": "code",
   "execution_count": null,
   "metadata": {
    "ExecuteTime": {
     "end_time": "2018-01-18T23:46:05.335045Z",
     "start_time": "2018-01-18T23:46:05.285488Z"
    }
   },
   "outputs": [],
   "source": [
    "years = set()\n",
    "data = {}\n",
    "num_authors = {}\n",
    "\n",
    "gb = lookup_pub.groupby('year')\n",
    "for k, group in gb:\n",
    "    if len(k) > 4:\n",
    "        year = k[-2:]\n",
    "        if int(year) > 17:  # 2017\n",
    "            year = 1900 + int(year)\n",
    "        else:\n",
    "            year = 2000 + int(year)\n",
    "    else:\n",
    "        year = int(k)\n",
    "    years.add(k)\n",
    "\n",
    "    if year in data.keys():\n",
    "        data[year] += len(group)\n",
    "    else:\n",
    "        data[year] = len(group)\n",
    "\n",
    "    for pub in group.authors:\n",
    "        num = len(pub.split(\"|\"))\n",
    "        if num in num_authors.keys():\n",
    "            num_authors[num] += 1\n",
    "        else:\n",
    "            num_authors[num] = 1"
   ]
  },
  {
   "cell_type": "code",
   "execution_count": null,
   "metadata": {
    "ExecuteTime": {
     "end_time": "2018-01-18T23:46:06.354185Z",
     "start_time": "2018-01-18T23:46:05.340597Z"
    }
   },
   "outputs": [],
   "source": [
    "fig, ax = plt.subplots(1, 1, figsize=(10, 8))\n",
    "sns.barplot(data.keys(), data.values(), ax=ax, palette=\"Set3\")\n",
    "ax.set_xticklabels(data.keys(), rotation=60)\n",
    "ax.set_xlabel('Year')\n",
    "ax.set_ylabel('Number of publications')\n",
    "fig.savefig('./img/distr_pub_year.pdf', format='pdf', bbox_inches='tight')"
   ]
  },
  {
   "cell_type": "markdown",
   "metadata": {},
   "source": [
    "## Distribution of publications (number of coauthors)"
   ]
  },
  {
   "cell_type": "code",
   "execution_count": null,
   "metadata": {
    "ExecuteTime": {
     "end_time": "2018-01-18T23:46:06.837191Z",
     "start_time": "2018-01-18T23:46:06.359797Z"
    }
   },
   "outputs": [],
   "source": [
    "fig, ax = plt.subplots(1, 1, figsize=(10, 8))\n",
    "sns.barplot(num_authors.keys(), num_authors.values(), ax=ax, palette=\"Set3\")\n",
    "ax.set_xlabel('Number of (co)authors')\n",
    "ax.set_ylabel('Number of publications')\n",
    "fig.savefig('./img/distr_pub_num_cauthors.pdf', format='pdf', bbox_inches='tight')"
   ]
  }
 ],
 "metadata": {
  "kernelspec": {
   "display_name": "Python [default]",
   "language": "python",
   "name": "python3"
  },
  "language_info": {
   "codemirror_mode": {
    "name": "ipython",
    "version": 3
   },
   "file_extension": ".py",
   "mimetype": "text/x-python",
   "name": "python",
   "nbconvert_exporter": "python",
   "pygments_lexer": "ipython3",
   "version": "3.6.4"
  },
  "notify_time": "10",
  "toc": {
   "nav_menu": {},
   "number_sections": true,
   "sideBar": true,
   "skip_h1_title": false,
   "toc_cell": true,
   "toc_position": {
    "height": "743px",
    "left": "0px",
    "right": "-0.25px",
    "top": "110px",
    "width": "184px"
   },
   "toc_section_display": "block",
   "toc_window_display": true
  },
  "varInspector": {
   "cols": {
    "lenName": 16,
    "lenType": 16,
    "lenVar": 40
   },
   "kernels_config": {
    "python": {
     "delete_cmd_postfix": "",
     "delete_cmd_prefix": "del ",
     "library": "var_list.py",
     "varRefreshCmd": "print(var_dic_list())"
    },
    "r": {
     "delete_cmd_postfix": ") ",
     "delete_cmd_prefix": "rm(",
     "library": "var_list.r",
     "varRefreshCmd": "cat(var_dic_list()) "
    }
   },
   "position": {
    "height": "523px",
    "left": "794.883px",
    "right": "125.233px",
    "top": "101px",
    "width": "553px"
   },
   "types_to_exclude": [
    "module",
    "function",
    "builtin_function_or_method",
    "instance",
    "_Feature"
   ],
   "window_display": false
  }
 },
 "nbformat": 4,
 "nbformat_minor": 2
}
