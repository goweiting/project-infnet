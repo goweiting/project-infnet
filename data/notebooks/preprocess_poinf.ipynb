{
 "cells": [
  {
   "cell_type": "markdown",
   "metadata": {},
   "source": [
    "---\n",
    "# Preprocess Scrapped Data for collaboration network\n",
    "\n",
    "In this notebook, we clean the data that was scrapped from Edinbugh Research Explorer for the School of Informatics. Preprocessing the data is critical especially for this dataset, as it was noted by many other researchers on collaboration networks that the data collected are usually fuzzy (the problem of alias being used inconsistently for many individuals will resurface later). "
   ]
  },
  {
   "cell_type": "code",
   "execution_count": 1,
   "metadata": {
    "ExecuteTime": {
     "end_time": "2018-04-04T13:14:26.076852Z",
     "start_time": "2018-04-04T13:14:25.482759Z"
    }
   },
   "outputs": [],
   "source": [
    "import pandas as pd\n",
    "import os, csv"
   ]
  },
  {
   "cell_type": "code",
   "execution_count": 12,
   "metadata": {
    "ExecuteTime": {
     "end_time": "2018-04-04T13:54:13.841217Z",
     "start_time": "2018-04-04T13:54:13.835028Z"
    }
   },
   "outputs": [],
   "source": [
    "peopleOfInf_csv = '../data_schoolofinf/peopleOfInformatics.csv'\n",
    "publications_csv = '../data_schoolofinf/publications.csv'\n",
    "\n",
    "INST = [\n",
    "    \"institute for adaptive and neural computation\",\n",
    "    \"institute for computing systems architecture\",\n",
    "    \"institute of language cognition and computation\",\n",
    "    \"institute of perception action and behaviour\",\n",
    "    \"laboratory for foundations of computer science\",\n",
    "    \"centre for intelligent systems and their applications\",\n",
    "    \"neuroinformatics dtc\"\n",
    "]"
   ]
  },
  {
   "cell_type": "markdown",
   "metadata": {},
   "source": [
    "# `PeopleOfInformatics`.csv:\n",
    "This file contains information about the individuals in the School of Informatics. Information scrapped includes \n",
    "\n",
    "1. An unique individual id,\n",
    "2. First and Last name,\n",
    "3. indvidual's position in the school, and\n",
    "4. institute they belong to"
   ]
  },
  {
   "cell_type": "code",
   "execution_count": 3,
   "metadata": {
    "ExecuteTime": {
     "end_time": "2018-04-04T13:14:27.577720Z",
     "start_time": "2018-04-04T13:14:27.548419Z"
    },
    "code_folding": []
   },
   "outputs": [],
   "source": [
    "# Import the csv:\n",
    "pd_pplOfInf = \\\n",
    "pd.read_csv(\n",
    "    filepath_or_buffer=peopleOfInf_csv,\n",
    "    names=[\n",
    "        'id', 'last_name', 'first_name', 'personal_url', 'position', 'parent',\n",
    "        'institute'\n",
    "    ],\n",
    "    index_col='id')"
   ]
  },
  {
   "cell_type": "code",
   "execution_count": 4,
   "metadata": {
    "ExecuteTime": {
     "end_time": "2018-04-04T13:14:27.591588Z",
     "start_time": "2018-04-04T13:14:27.580212Z"
    },
    "code_folding": []
   },
   "outputs": [
    {
     "name": "stdout",
     "output_type": "stream",
     "text": [
      "imported:  291\n",
      "number of indivudals = 288\n"
     ]
    }
   ],
   "source": [
    "# create a column for the full name (= last_name + full_name)\n",
    "_join_names = lambda x_y: \" \".join([x_y[0], x_y[1]])\n",
    "pd_pplOfInf['full_name'] = list(\n",
    "    map(_join_names, list(zip(pd_pplOfInf['last_name'], pd_pplOfInf['first_name']))))\n",
    "\n",
    "print('imported: ', len(pd_pplOfInf.index))\n",
    "print('number of indivudals =', len(pd.unique(pd_pplOfInf['full_name'])))"
   ]
  },
  {
   "cell_type": "markdown",
   "metadata": {},
   "source": [
    "There are some names, three to be specific, that are duplicated!"
   ]
  },
  {
   "cell_type": "markdown",
   "metadata": {},
   "source": [
    "## Check for duplicated `names`"
   ]
  },
  {
   "cell_type": "code",
   "execution_count": 5,
   "metadata": {
    "ExecuteTime": {
     "end_time": "2018-04-04T13:14:40.167194Z",
     "start_time": "2018-04-04T13:14:40.118574Z"
    },
    "scrolled": true
   },
   "outputs": [
    {
     "data": {
      "text/html": [
       "<div>\n",
       "<style scoped>\n",
       "    .dataframe tbody tr th:only-of-type {\n",
       "        vertical-align: middle;\n",
       "    }\n",
       "\n",
       "    .dataframe tbody tr th {\n",
       "        vertical-align: top;\n",
       "    }\n",
       "\n",
       "    .dataframe thead th {\n",
       "        text-align: right;\n",
       "    }\n",
       "</style>\n",
       "<table border=\"1\" class=\"dataframe\">\n",
       "  <thead>\n",
       "    <tr style=\"text-align: right;\">\n",
       "      <th></th>\n",
       "      <th>last_name</th>\n",
       "      <th>first_name</th>\n",
       "      <th>personal_url</th>\n",
       "      <th>position</th>\n",
       "      <th>parent</th>\n",
       "      <th>institute</th>\n",
       "      <th>full_name</th>\n",
       "    </tr>\n",
       "    <tr>\n",
       "      <th>id</th>\n",
       "      <th></th>\n",
       "      <th></th>\n",
       "      <th></th>\n",
       "      <th></th>\n",
       "      <th></th>\n",
       "      <th></th>\n",
       "      <th></th>\n",
       "    </tr>\n",
       "  </thead>\n",
       "  <tbody>\n",
       "    <tr>\n",
       "      <th>003ec9bb-18aa-4e6e-95e9-359f0968262a</th>\n",
       "      <td>gray</td>\n",
       "      <td>gavin</td>\n",
       "      <td>http://www.research.ed.ac.uk/portal/en/persons...</td>\n",
       "      <td>research assistant</td>\n",
       "      <td>school of informatics</td>\n",
       "      <td>institute for adaptive and neural computation</td>\n",
       "      <td>gray gavin</td>\n",
       "    </tr>\n",
       "    <tr>\n",
       "      <th>11447e11-aff5-438e-8fb6-264da9fb5483</th>\n",
       "      <td>gray</td>\n",
       "      <td>gavin</td>\n",
       "      <td>http://www.research.ed.ac.uk/portal/en/persons...</td>\n",
       "      <td>unknown</td>\n",
       "      <td>neuroinformatics dtc</td>\n",
       "      <td>UNKNOWN</td>\n",
       "      <td>gray gavin</td>\n",
       "    </tr>\n",
       "    <tr>\n",
       "      <th>265079a1-b5d5-4ff1-bf46-d0ad26e0d424</th>\n",
       "      <td>maneth</td>\n",
       "      <td>sebastian</td>\n",
       "      <td>http://www.research.ed.ac.uk/portal/en/persons...</td>\n",
       "      <td>unknown</td>\n",
       "      <td>laboratory for foundations of computer science</td>\n",
       "      <td>UNKNOWN</td>\n",
       "      <td>maneth sebastian</td>\n",
       "    </tr>\n",
       "    <tr>\n",
       "      <th>ef703785-d96b-49af-9b95-df74fa8fc4a2</th>\n",
       "      <td>maneth</td>\n",
       "      <td>sebastian</td>\n",
       "      <td>http://www.research.ed.ac.uk/portal/en/persons...</td>\n",
       "      <td>visitor official visitor</td>\n",
       "      <td>school of informatics</td>\n",
       "      <td>UNKNOWN</td>\n",
       "      <td>maneth sebastian</td>\n",
       "    </tr>\n",
       "    <tr>\n",
       "      <th>0ed800f5-a3a0-47d7-a8b3-f97a4f2b6931</th>\n",
       "      <td>steuwer</td>\n",
       "      <td>michel</td>\n",
       "      <td>http://www.research.ed.ac.uk/portal/en/persons...</td>\n",
       "      <td>unknown</td>\n",
       "      <td>institute for computing systems architecture</td>\n",
       "      <td>UNKNOWN</td>\n",
       "      <td>steuwer michel</td>\n",
       "    </tr>\n",
       "    <tr>\n",
       "      <th>5ddb75bd-0bf1-4792-ba2f-52821719fc3b</th>\n",
       "      <td>steuwer</td>\n",
       "      <td>michel</td>\n",
       "      <td>http://www.research.ed.ac.uk/portal/en/persons...</td>\n",
       "      <td>visitor official visitor</td>\n",
       "      <td>school of informatics</td>\n",
       "      <td>UNKNOWN</td>\n",
       "      <td>steuwer michel</td>\n",
       "    </tr>\n",
       "  </tbody>\n",
       "</table>\n",
       "</div>"
      ],
      "text/plain": [
       "                                     last_name first_name  \\\n",
       "id                                                          \n",
       "003ec9bb-18aa-4e6e-95e9-359f0968262a      gray      gavin   \n",
       "11447e11-aff5-438e-8fb6-264da9fb5483      gray      gavin   \n",
       "265079a1-b5d5-4ff1-bf46-d0ad26e0d424    maneth  sebastian   \n",
       "ef703785-d96b-49af-9b95-df74fa8fc4a2    maneth  sebastian   \n",
       "0ed800f5-a3a0-47d7-a8b3-f97a4f2b6931   steuwer     michel   \n",
       "5ddb75bd-0bf1-4792-ba2f-52821719fc3b   steuwer     michel   \n",
       "\n",
       "                                                                           personal_url  \\\n",
       "id                                                                                        \n",
       "003ec9bb-18aa-4e6e-95e9-359f0968262a  http://www.research.ed.ac.uk/portal/en/persons...   \n",
       "11447e11-aff5-438e-8fb6-264da9fb5483  http://www.research.ed.ac.uk/portal/en/persons...   \n",
       "265079a1-b5d5-4ff1-bf46-d0ad26e0d424  http://www.research.ed.ac.uk/portal/en/persons...   \n",
       "ef703785-d96b-49af-9b95-df74fa8fc4a2  http://www.research.ed.ac.uk/portal/en/persons...   \n",
       "0ed800f5-a3a0-47d7-a8b3-f97a4f2b6931  http://www.research.ed.ac.uk/portal/en/persons...   \n",
       "5ddb75bd-0bf1-4792-ba2f-52821719fc3b  http://www.research.ed.ac.uk/portal/en/persons...   \n",
       "\n",
       "                                                      position  \\\n",
       "id                                                               \n",
       "003ec9bb-18aa-4e6e-95e9-359f0968262a        research assistant   \n",
       "11447e11-aff5-438e-8fb6-264da9fb5483                   unknown   \n",
       "265079a1-b5d5-4ff1-bf46-d0ad26e0d424                   unknown   \n",
       "ef703785-d96b-49af-9b95-df74fa8fc4a2  visitor official visitor   \n",
       "0ed800f5-a3a0-47d7-a8b3-f97a4f2b6931                   unknown   \n",
       "5ddb75bd-0bf1-4792-ba2f-52821719fc3b  visitor official visitor   \n",
       "\n",
       "                                                                              parent  \\\n",
       "id                                                                                     \n",
       "003ec9bb-18aa-4e6e-95e9-359f0968262a                           school of informatics   \n",
       "11447e11-aff5-438e-8fb6-264da9fb5483                            neuroinformatics dtc   \n",
       "265079a1-b5d5-4ff1-bf46-d0ad26e0d424  laboratory for foundations of computer science   \n",
       "ef703785-d96b-49af-9b95-df74fa8fc4a2                           school of informatics   \n",
       "0ed800f5-a3a0-47d7-a8b3-f97a4f2b6931    institute for computing systems architecture   \n",
       "5ddb75bd-0bf1-4792-ba2f-52821719fc3b                           school of informatics   \n",
       "\n",
       "                                                                          institute  \\\n",
       "id                                                                                    \n",
       "003ec9bb-18aa-4e6e-95e9-359f0968262a  institute for adaptive and neural computation   \n",
       "11447e11-aff5-438e-8fb6-264da9fb5483                                        UNKNOWN   \n",
       "265079a1-b5d5-4ff1-bf46-d0ad26e0d424                                        UNKNOWN   \n",
       "ef703785-d96b-49af-9b95-df74fa8fc4a2                                        UNKNOWN   \n",
       "0ed800f5-a3a0-47d7-a8b3-f97a4f2b6931                                        UNKNOWN   \n",
       "5ddb75bd-0bf1-4792-ba2f-52821719fc3b                                        UNKNOWN   \n",
       "\n",
       "                                             full_name  \n",
       "id                                                      \n",
       "003ec9bb-18aa-4e6e-95e9-359f0968262a        gray gavin  \n",
       "11447e11-aff5-438e-8fb6-264da9fb5483        gray gavin  \n",
       "265079a1-b5d5-4ff1-bf46-d0ad26e0d424  maneth sebastian  \n",
       "ef703785-d96b-49af-9b95-df74fa8fc4a2  maneth sebastian  \n",
       "0ed800f5-a3a0-47d7-a8b3-f97a4f2b6931    steuwer michel  \n",
       "5ddb75bd-0bf1-4792-ba2f-52821719fc3b    steuwer michel  "
      ]
     },
     "execution_count": 5,
     "metadata": {},
     "output_type": "execute_result"
    }
   ],
   "source": [
    "dups_full_name = pd_pplOfInf.duplicated(subset='full_name', keep=False)\n",
    "small = pd_pplOfInf[dups_full_name]\n",
    "small"
   ]
  },
  {
   "cell_type": "markdown",
   "metadata": {},
   "source": [
    "Manually checking the data gives us:\n",
    "\n",
    "1) `gray gavin`\n",
    "    - (11447e11-aff5-438e-8fb6-264da9fb5483) is the main page with multiple research output\n",
    "    - (003ec9bb-18aa-4e6e-95e9-359f0968262a) does not have any research output\n",
    "\n",
    "2) `maneth,sebastian`\n",
    "    - (265079a1-b5d5-4ff1-bf46-d0ad26e0d424) is the main page with multiple research output\n",
    "    - (ef703785-d96b-49af-9b95-df74fa8fc4a2) does not have any research output\n",
    "\n",
    "3) `steuwer,michel`\n",
    "    - (0ed800f5-a3a0-47d7-a8b3-f97a4f2b6931) is the main page with multiple output\n",
    "    - (5ddb75bd-0bf1-4792-ba2f-52821719fc3b) does not have any research output\n",
    "\n"
   ]
  },
  {
   "cell_type": "code",
   "execution_count": 6,
   "metadata": {
    "ExecuteTime": {
     "end_time": "2018-04-04T13:14:40.192211Z",
     "start_time": "2018-04-04T13:14:40.170103Z"
    }
   },
   "outputs": [],
   "source": [
    "# Corresponding IDs to be dropped!\n",
    "to_drop = [\n",
    "    '003ec9bb-18aa-4e6e-95e9-359f0968262a',  # Gray\n",
    "    'ef703785-d96b-49af-9b95-df74fa8fc4a2',  # Maneth\n",
    "    '5ddb75bd-0bf1-4792-ba2f-52821719fc3b'  # Steuwer\n",
    "]"
   ]
  },
  {
   "cell_type": "code",
   "execution_count": 7,
   "metadata": {
    "ExecuteTime": {
     "end_time": "2018-04-04T13:14:40.225430Z",
     "start_time": "2018-04-04T13:14:40.194796Z"
    }
   },
   "outputs": [],
   "source": [
    "# manually remove these individuals\n",
    "pd_pplOfInf_dropped = pd_pplOfInf[~pd_pplOfInf.index.isin(to_drop)]"
   ]
  },
  {
   "cell_type": "code",
   "execution_count": 8,
   "metadata": {
    "ExecuteTime": {
     "end_time": "2018-04-04T13:14:40.255206Z",
     "start_time": "2018-04-04T13:14:40.227740Z"
    },
    "scrolled": true
   },
   "outputs": [
    {
     "name": "stdout",
     "output_type": "stream",
     "text": [
      "size of df:  288\n",
      "number of indivudals = 288\n"
     ]
    }
   ],
   "source": [
    "# Confirm that the number of individuals tallies:\n",
    "print('size of df: ', len(pd_pplOfInf_dropped))\n",
    "print('number of indivudals =', len(\n",
    "    pd.unique(pd_pplOfInf_dropped['full_name'])))"
   ]
  },
  {
   "cell_type": "markdown",
   "metadata": {},
   "source": [
    "## Check the `institute` field\n",
    "There are multiple institutes field where `school of informatics` was present; while most are labelled `UNKNOWN` by the scrapper as no such information is present."
   ]
  },
  {
   "cell_type": "markdown",
   "metadata": {},
   "source": [
    "`Before processing institute field:`"
   ]
  },
  {
   "cell_type": "code",
   "execution_count": 9,
   "metadata": {
    "ExecuteTime": {
     "end_time": "2018-04-04T13:14:40.289958Z",
     "start_time": "2018-04-04T13:14:40.258348Z"
    }
   },
   "outputs": [
    {
     "name": "stdout",
     "output_type": "stream",
     "text": [
      "UNKNOWN: 82\n",
      "centre for intelligent systems and their applications: 18\n",
      "deanery of clinical sciences: 1\n",
      "deanery of molecular genetic and population health sciences: 1\n",
      "edinburgh neuroscience: 1\n",
      "institute for adaptive and neural computation: 28\n",
      "institute for computing systems architecture: 24\n",
      "institute of language cognition and computation: 54\n",
      "institute of perception action and behaviour: 18\n",
      "laboratory for foundations of computer science: 58\n",
      "school of informatics: 2\n",
      "school of philosophy psychology and language sciences: 1\n"
     ]
    }
   ],
   "source": [
    "# separate the individuals by community:\n",
    "gb = pd_pplOfInf_dropped.groupby('institute')\n",
    "for k, group in gb:\n",
    "    print('{}: {}'.format(k, len(group)))"
   ]
  },
  {
   "cell_type": "markdown",
   "metadata": {},
   "source": [
    "The distribution of the individuals in the institutes is not ideal; some of the institutes name may fall into the parent field. To avoid such instances, we copy the `parent`'s field into the `institute`'s field if the entry in the parent's field belongs to one of the institute names"
   ]
  },
  {
   "cell_type": "code",
   "execution_count": 10,
   "metadata": {
    "ExecuteTime": {
     "end_time": "2018-04-04T13:14:40.311025Z",
     "start_time": "2018-04-04T13:14:40.292643Z"
    }
   },
   "outputs": [],
   "source": [
    "pd_pplOfInf_c = pd_pplOfInf_dropped.copy()"
   ]
  },
  {
   "cell_type": "code",
   "execution_count": 11,
   "metadata": {
    "ExecuteTime": {
     "end_time": "2018-04-04T13:14:40.342951Z",
     "start_time": "2018-04-04T13:14:40.313639Z"
    },
    "scrolled": true
   },
   "outputs": [],
   "source": [
    "def check_inst(row):\n",
    "    \"\"\"\n",
    "    # check that the dataset for institute names:\n",
    "    # if parent is not 'school of informatics', and institute is unknown, copy it over:\n",
    "    \"\"\"\n",
    "    INST = [\n",
    "        \"institute for adaptive and neural computation\",\n",
    "        \"institute for computing systems architecture\",\n",
    "        \"institute of language cognition and computation\",\n",
    "        \"institute of perception action and behaviour\",\n",
    "        \"laboratory for foundations of computer science\",\n",
    "        \"centre for intelligent systems and their applications\",\n",
    "        \"neuroinformatics dtc\"\n",
    "    ]\n",
    "\n",
    "    inst = row.institute\n",
    "    par = row.parent\n",
    "\n",
    "    if inst in INST:\n",
    "        return inst\n",
    "    if par in INST:\n",
    "        return par\n",
    "    elif inst == 'UNKNOWN' or inst == 'school of informatics':\n",
    "        # We want to remove institute=school of informatics:\n",
    "        if par == 'school of informatics':\n",
    "            inst = 'UNKNOWN'\n",
    "        else:\n",
    "            inst = par\n",
    "    else:\n",
    "        print('unknown inst : {} or par: {}'.format(inst,par))\n",
    "\n",
    "    return inst"
   ]
  },
  {
   "cell_type": "code",
   "execution_count": 12,
   "metadata": {
    "ExecuteTime": {
     "end_time": "2018-04-04T13:14:40.381399Z",
     "start_time": "2018-04-04T13:14:40.345281Z"
    }
   },
   "outputs": [
    {
     "name": "stdout",
     "output_type": "stream",
     "text": [
      "unknown inst : deanery of clinical sciences or par: centre for clinical brain sciences\n",
      "unknown inst : school of philosophy psychology and language sciences or par: school of informatics\n"
     ]
    }
   ],
   "source": [
    "pd_pplOfInf_c['institute'] = pd_pplOfInf_c.apply(check_inst, axis=1)"
   ]
  },
  {
   "cell_type": "code",
   "execution_count": 13,
   "metadata": {
    "ExecuteTime": {
     "end_time": "2018-04-04T13:14:40.408626Z",
     "start_time": "2018-04-04T13:14:40.383491Z"
    }
   },
   "outputs": [
    {
     "name": "stdout",
     "output_type": "stream",
     "text": [
      "size of df:  288\n",
      "number of indivudals = 288\n"
     ]
    }
   ],
   "source": [
    "# Confirm that the number of individuals tallies:\n",
    "print('size of df: ', len(pd_pplOfInf_c))\n",
    "print('number of indivudals =', len(pd.unique(pd_pplOfInf_c['full_name'])))"
   ]
  },
  {
   "cell_type": "markdown",
   "metadata": {},
   "source": [
    "`After processing institute field`"
   ]
  },
  {
   "cell_type": "code",
   "execution_count": 14,
   "metadata": {
    "ExecuteTime": {
     "end_time": "2018-04-04T13:14:40.438125Z",
     "start_time": "2018-04-04T13:14:40.410894Z"
    }
   },
   "outputs": [
    {
     "name": "stdout",
     "output_type": "stream",
     "text": [
      "AFTER PROCESSING\n",
      "UNKNOWN: 46\n",
      "centre for intelligent systems and their applications: 24\n",
      "deanery of clinical sciences: 1\n",
      "institute for adaptive and neural computation: 29\n",
      "institute for computing systems architecture: 28\n",
      "institute of language cognition and computation: 59\n",
      "institute of perception action and behaviour: 19\n",
      "laboratory for foundations of computer science: 64\n",
      "neuroinformatics dtc: 17\n",
      "school of philosophy psychology and language sciences: 1\n"
     ]
    }
   ],
   "source": [
    "print('AFTER PROCESSING')\n",
    "# separate the individuals by community:\n",
    "infcommunity = {}\n",
    "gb = pd_pplOfInf_c.groupby('institute')\n",
    "for k, group in gb:\n",
    "    print('{}: {}'.format(k, len(group)))"
   ]
  },
  {
   "cell_type": "markdown",
   "metadata": {},
   "source": [
    "## Create a mapping for the `institutes` found"
   ]
  },
  {
   "cell_type": "code",
   "execution_count": 15,
   "metadata": {
    "ExecuteTime": {
     "end_time": "2018-04-04T13:14:40.458383Z",
     "start_time": "2018-04-04T13:14:40.440442Z"
    }
   },
   "outputs": [
    {
     "name": "stdout",
     "output_type": "stream",
     "text": [
      "number of institutes found: 10\n"
     ]
    }
   ],
   "source": [
    "# Creat a mapping for the institutes to classes:\n",
    "institutes = dict()\n",
    "k = 0\n",
    "for i in pd.unique(pd_pplOfInf_c['institute']):\n",
    "    institutes[i] = k\n",
    "    k += 1\n",
    "print('number of institutes found: {}'.format(len(institutes)))"
   ]
  },
  {
   "cell_type": "code",
   "execution_count": 16,
   "metadata": {
    "ExecuteTime": {
     "end_time": "2018-04-04T13:14:40.481605Z",
     "start_time": "2018-04-04T13:14:40.460722Z"
    }
   },
   "outputs": [],
   "source": [
    "# Save the institutes info:\n",
    "import pickle as pkl\n",
    "pkl.dump(institutes, open('../data_schoolofinf/institutes.pkl', 'wb'), pkl.HIGHEST_PROTOCOL)"
   ]
  },
  {
   "cell_type": "markdown",
   "metadata": {},
   "source": [
    "Add the numeric class for institute:"
   ]
  },
  {
   "cell_type": "code",
   "execution_count": 17,
   "metadata": {
    "ExecuteTime": {
     "end_time": "2018-04-04T13:14:40.512492Z",
     "start_time": "2018-04-04T13:14:40.484121Z"
    },
    "scrolled": false
   },
   "outputs": [],
   "source": [
    "# Set the class to each of the institute instance:\n",
    "pd_pplOfInf_c['institute_class'] = pd_pplOfInf_c.apply(\n",
    "    lambda row: institutes[row['institute']], axis=1)"
   ]
  },
  {
   "cell_type": "code",
   "execution_count": 18,
   "metadata": {
    "ExecuteTime": {
     "end_time": "2018-04-04T13:14:40.540195Z",
     "start_time": "2018-04-04T13:14:40.514990Z"
    }
   },
   "outputs": [
    {
     "name": "stdout",
     "output_type": "stream",
     "text": [
      "class 0-UNKNOWN: 46\n",
      "class 1-centre for intelligent systems and their applications: 24\n",
      "class 2-institute of language cognition and computation: 59\n",
      "class 3-laboratory for foundations of computer science: 64\n",
      "class 4-institute for adaptive and neural computation: 29\n",
      "class 5-institute for computing systems architecture: 28\n",
      "class 6-neuroinformatics dtc: 17\n",
      "class 7-institute of perception action and behaviour: 19\n",
      "class 8-deanery of clinical sciences: 1\n",
      "class 9-school of philosophy psychology and language sciences: 1\n"
     ]
    }
   ],
   "source": [
    "# separate the individuals by community:\n",
    "infcommunity = {}\n",
    "gb = pd_pplOfInf_c.groupby('institute_class')\n",
    "x = []\n",
    "y = []\n",
    "for k, group in gb:\n",
    "    infcommunity[k] = group\n",
    "    className = [name for (name, _k) in list(institutes.items()) if _k == k][0]\n",
    "    x.append(className)\n",
    "    y.append(len(group))\n",
    "    print('class {}-{}: {}'.format(k, className, len(group)))"
   ]
  },
  {
   "cell_type": "markdown",
   "metadata": {},
   "source": [
    "From the Edinburgh Research Explorer, we know that [school of informatics](http://www.research.ed.ac.uk/portal/en/organisations/school-of-informatics%28d9a3581f-93a4-4d74-bf29-14c86a1da9f4%29.html) have the following institutes:\n",
    "- Centre for Intelligent Systems and their Applications (1)\n",
    "- Institute of Language, Cognition and Computation (2)\n",
    "- Laboratory for Foundations of Computer Science (3)\n",
    "- Institute for Adaptive and Neural Computation (4)\n",
    "- Institute for Computing Systems Architecture (5)\n",
    "- Neuroinformatics DTC (6)\n",
    "- Institute of Perception, Action and Behaviour (7)\n",
    "\n",
    "with the numbers in the brackets corresponding to the mapping in the institutes dictionary. This will be useful later for our visualisation and creation of subgraphs"
   ]
  },
  {
   "cell_type": "markdown",
   "metadata": {},
   "source": [
    "## Aliases/shortnames"
   ]
  },
  {
   "cell_type": "markdown",
   "metadata": {},
   "source": [
    "In publications, author's name are not spelled in full when cited. Rather, they are represented in contracted forms, such as `Calautti, M., Libkin, L. & Pieris, A` instead of `Marco Calautti, Leonid Libkin, & Andreas Pieris` respectively. This could be a problem down stream as an individual's name (in publication) may presented in full for some, and in shortname for others. This make mapping the a certain publication to individuals a challenge.\n",
    "\n",
    "To mitigate this, additional information (scrapped from Edinburgh research explorer) to assign shortnames (aliases) to an individual will be useful. These shortnames are assign to an individual in the school if the name is linked to their personal page on the research explorer"
   ]
  },
  {
   "cell_type": "code",
   "execution_count": 19,
   "metadata": {
    "ExecuteTime": {
     "end_time": "2018-04-04T13:15:04.883148Z",
     "start_time": "2018-04-04T13:15:04.874386Z"
    }
   },
   "outputs": [],
   "source": [
    "# assign the alias to each individuals, if exists:\n",
    "poinf_alias = '../data_schoolofinf/peopleOfInformatics_ALIAS.csv'\n",
    "pd_poinf_alias = pd.read_csv(poinf_alias, names=['id', 'alias'])"
   ]
  },
  {
   "cell_type": "code",
   "execution_count": 20,
   "metadata": {
    "ExecuteTime": {
     "end_time": "2018-04-04T13:15:04.924612Z",
     "start_time": "2018-04-04T13:15:04.885579Z"
    }
   },
   "outputs": [
    {
     "data": {
      "text/html": [
       "<div>\n",
       "<style scoped>\n",
       "    .dataframe tbody tr th:only-of-type {\n",
       "        vertical-align: middle;\n",
       "    }\n",
       "\n",
       "    .dataframe tbody tr th {\n",
       "        vertical-align: top;\n",
       "    }\n",
       "\n",
       "    .dataframe thead th {\n",
       "        text-align: right;\n",
       "    }\n",
       "</style>\n",
       "<table border=\"1\" class=\"dataframe\">\n",
       "  <thead>\n",
       "    <tr style=\"text-align: right;\">\n",
       "      <th></th>\n",
       "      <th>id</th>\n",
       "      <th>alias</th>\n",
       "    </tr>\n",
       "  </thead>\n",
       "  <tbody>\n",
       "    <tr>\n",
       "      <th>0</th>\n",
       "      <td>350d5a79-901a-4018-9e1a-87114b8dbe0b</td>\n",
       "      <td>bilen, h.</td>\n",
       "    </tr>\n",
       "    <tr>\n",
       "      <th>1</th>\n",
       "      <td>e554cc1b-7106-4355-afce-280d0a04e34a</td>\n",
       "      <td>etessami, k.</td>\n",
       "    </tr>\n",
       "  </tbody>\n",
       "</table>\n",
       "</div>"
      ],
      "text/plain": [
       "                                     id         alias\n",
       "0  350d5a79-901a-4018-9e1a-87114b8dbe0b     bilen, h.\n",
       "1  e554cc1b-7106-4355-afce-280d0a04e34a  etessami, k."
      ]
     },
     "execution_count": 20,
     "metadata": {},
     "output_type": "execute_result"
    }
   ],
   "source": [
    "pd_poinf_alias.head(2)"
   ]
  },
  {
   "cell_type": "code",
   "execution_count": 21,
   "metadata": {
    "ExecuteTime": {
     "end_time": "2018-04-04T13:15:04.958786Z",
     "start_time": "2018-04-04T13:15:04.927099Z"
    }
   },
   "outputs": [
    {
     "data": {
      "text/html": [
       "<div>\n",
       "<style scoped>\n",
       "    .dataframe tbody tr th:only-of-type {\n",
       "        vertical-align: middle;\n",
       "    }\n",
       "\n",
       "    .dataframe tbody tr th {\n",
       "        vertical-align: top;\n",
       "    }\n",
       "\n",
       "    .dataframe thead th {\n",
       "        text-align: right;\n",
       "    }\n",
       "</style>\n",
       "<table border=\"1\" class=\"dataframe\">\n",
       "  <thead>\n",
       "    <tr style=\"text-align: right;\">\n",
       "      <th></th>\n",
       "      <th>id</th>\n",
       "      <th>alias</th>\n",
       "    </tr>\n",
       "  </thead>\n",
       "  <tbody>\n",
       "  </tbody>\n",
       "</table>\n",
       "</div>"
      ],
      "text/plain": [
       "Empty DataFrame\n",
       "Columns: [id, alias]\n",
       "Index: []"
      ]
     },
     "execution_count": 21,
     "metadata": {},
     "output_type": "execute_result"
    }
   ],
   "source": [
    "# Check that we correctly drop the publications...\n",
    "pd_poinf_alias[pd_poinf_alias['id'].isin(to_drop)]"
   ]
  },
  {
   "cell_type": "code",
   "execution_count": 22,
   "metadata": {
    "ExecuteTime": {
     "end_time": "2018-04-04T13:15:04.989632Z",
     "start_time": "2018-04-04T13:15:04.961574Z"
    }
   },
   "outputs": [],
   "source": [
    "# Merge the two pandas dataset to include the alias\n",
    "lookup_poinf = pd_pplOfInf_c.join(pd_poinf_alias.set_index('id'), how='left')"
   ]
  },
  {
   "cell_type": "code",
   "execution_count": 23,
   "metadata": {
    "ExecuteTime": {
     "end_time": "2018-04-04T13:15:05.034415Z",
     "start_time": "2018-04-04T13:15:04.992198Z"
    }
   },
   "outputs": [
    {
     "data": {
      "text/html": [
       "<div>\n",
       "<style scoped>\n",
       "    .dataframe tbody tr th:only-of-type {\n",
       "        vertical-align: middle;\n",
       "    }\n",
       "\n",
       "    .dataframe tbody tr th {\n",
       "        vertical-align: top;\n",
       "    }\n",
       "\n",
       "    .dataframe thead th {\n",
       "        text-align: right;\n",
       "    }\n",
       "</style>\n",
       "<table border=\"1\" class=\"dataframe\">\n",
       "  <thead>\n",
       "    <tr style=\"text-align: right;\">\n",
       "      <th></th>\n",
       "      <th>last_name</th>\n",
       "      <th>first_name</th>\n",
       "      <th>personal_url</th>\n",
       "      <th>position</th>\n",
       "      <th>parent</th>\n",
       "      <th>institute</th>\n",
       "      <th>full_name</th>\n",
       "      <th>institute_class</th>\n",
       "      <th>alias</th>\n",
       "    </tr>\n",
       "    <tr>\n",
       "      <th>id</th>\n",
       "      <th></th>\n",
       "      <th></th>\n",
       "      <th></th>\n",
       "      <th></th>\n",
       "      <th></th>\n",
       "      <th></th>\n",
       "      <th></th>\n",
       "      <th></th>\n",
       "      <th></th>\n",
       "    </tr>\n",
       "  </thead>\n",
       "  <tbody>\n",
       "    <tr>\n",
       "      <th>23d17ab4-123f-4929-9373-763bd7587df8</th>\n",
       "      <td>alay</td>\n",
       "      <td>ozgu</td>\n",
       "      <td>http://www.research.ed.ac.uk/portal/en/persons...</td>\n",
       "      <td>visitor official visitor</td>\n",
       "      <td>school of informatics</td>\n",
       "      <td>UNKNOWN</td>\n",
       "      <td>alay ozgu</td>\n",
       "      <td>0</td>\n",
       "      <td>NaN</td>\n",
       "    </tr>\n",
       "    <tr>\n",
       "      <th>d089bb44-7d0b-4b3f-b556-27def993d1d1</th>\n",
       "      <td>albrecht</td>\n",
       "      <td>stefano</td>\n",
       "      <td>http://www.research.ed.ac.uk/portal/en/persons...</td>\n",
       "      <td>lecturer in artificial intelligence</td>\n",
       "      <td>school of informatics</td>\n",
       "      <td>centre for intelligent systems and their appli...</td>\n",
       "      <td>albrecht stefano</td>\n",
       "      <td>1</td>\n",
       "      <td>albrecht, s. v.|albrecht, s.</td>\n",
       "    </tr>\n",
       "    <tr>\n",
       "      <th>ecd799fb-4f63-44ae-a078-b009099f2c8c</th>\n",
       "      <td>alex</td>\n",
       "      <td>beatrice</td>\n",
       "      <td>http://www.research.ed.ac.uk/portal/en/persons...</td>\n",
       "      <td>research fellow</td>\n",
       "      <td>school of informatics</td>\n",
       "      <td>institute of language cognition and computation</td>\n",
       "      <td>alex beatrice</td>\n",
       "      <td>2</td>\n",
       "      <td>alex, b.  (ed.)|alex, b.|symington, b.</td>\n",
       "    </tr>\n",
       "  </tbody>\n",
       "</table>\n",
       "</div>"
      ],
      "text/plain": [
       "                                     last_name first_name  \\\n",
       "id                                                          \n",
       "23d17ab4-123f-4929-9373-763bd7587df8      alay       ozgu   \n",
       "d089bb44-7d0b-4b3f-b556-27def993d1d1  albrecht    stefano   \n",
       "ecd799fb-4f63-44ae-a078-b009099f2c8c      alex   beatrice   \n",
       "\n",
       "                                                                           personal_url  \\\n",
       "id                                                                                        \n",
       "23d17ab4-123f-4929-9373-763bd7587df8  http://www.research.ed.ac.uk/portal/en/persons...   \n",
       "d089bb44-7d0b-4b3f-b556-27def993d1d1  http://www.research.ed.ac.uk/portal/en/persons...   \n",
       "ecd799fb-4f63-44ae-a078-b009099f2c8c  http://www.research.ed.ac.uk/portal/en/persons...   \n",
       "\n",
       "                                                                 position  \\\n",
       "id                                                                          \n",
       "23d17ab4-123f-4929-9373-763bd7587df8             visitor official visitor   \n",
       "d089bb44-7d0b-4b3f-b556-27def993d1d1  lecturer in artificial intelligence   \n",
       "ecd799fb-4f63-44ae-a078-b009099f2c8c                      research fellow   \n",
       "\n",
       "                                                     parent  \\\n",
       "id                                                            \n",
       "23d17ab4-123f-4929-9373-763bd7587df8  school of informatics   \n",
       "d089bb44-7d0b-4b3f-b556-27def993d1d1  school of informatics   \n",
       "ecd799fb-4f63-44ae-a078-b009099f2c8c  school of informatics   \n",
       "\n",
       "                                                                              institute  \\\n",
       "id                                                                                        \n",
       "23d17ab4-123f-4929-9373-763bd7587df8                                            UNKNOWN   \n",
       "d089bb44-7d0b-4b3f-b556-27def993d1d1  centre for intelligent systems and their appli...   \n",
       "ecd799fb-4f63-44ae-a078-b009099f2c8c    institute of language cognition and computation   \n",
       "\n",
       "                                             full_name  institute_class  \\\n",
       "id                                                                        \n",
       "23d17ab4-123f-4929-9373-763bd7587df8         alay ozgu                0   \n",
       "d089bb44-7d0b-4b3f-b556-27def993d1d1  albrecht stefano                1   \n",
       "ecd799fb-4f63-44ae-a078-b009099f2c8c     alex beatrice                2   \n",
       "\n",
       "                                                                       alias  \n",
       "id                                                                            \n",
       "23d17ab4-123f-4929-9373-763bd7587df8                                     NaN  \n",
       "d089bb44-7d0b-4b3f-b556-27def993d1d1            albrecht, s. v.|albrecht, s.  \n",
       "ecd799fb-4f63-44ae-a078-b009099f2c8c  alex, b.  (ed.)|alex, b.|symington, b.  "
      ]
     },
     "execution_count": 23,
     "metadata": {},
     "output_type": "execute_result"
    }
   ],
   "source": [
    "lookup_poinf.head(3)"
   ]
  },
  {
   "cell_type": "code",
   "execution_count": 24,
   "metadata": {
    "ExecuteTime": {
     "end_time": "2018-04-04T13:15:05.066166Z",
     "start_time": "2018-04-04T13:15:05.036662Z"
    },
    "scrolled": true
   },
   "outputs": [
    {
     "name": "stdout",
     "output_type": "stream",
     "text": [
      "<class 'pandas.core.frame.DataFrame'>\n",
      "Index: 288 entries, 23d17ab4-123f-4929-9373-763bd7587df8 to ccd9cd8c-9aee-4ede-a388-f82641ee8d29\n",
      "Data columns (total 9 columns):\n",
      "last_name          288 non-null object\n",
      "first_name         288 non-null object\n",
      "personal_url       288 non-null object\n",
      "position           288 non-null object\n",
      "parent             288 non-null object\n",
      "institute          288 non-null object\n",
      "full_name          288 non-null object\n",
      "institute_class    288 non-null int64\n",
      "alias              229 non-null object\n",
      "dtypes: int64(1), object(8)\n",
      "memory usage: 32.5+ KB\n"
     ]
    }
   ],
   "source": [
    "lookup_poinf.info()"
   ]
  },
  {
   "cell_type": "markdown",
   "metadata": {},
   "source": [
    "Note the discrepancy in number of alias object and number of index"
   ]
  },
  {
   "cell_type": "code",
   "execution_count": 25,
   "metadata": {
    "ExecuteTime": {
     "end_time": "2018-04-04T13:15:18.376872Z",
     "start_time": "2018-04-04T13:15:18.369739Z"
    },
    "scrolled": true
   },
   "outputs": [
    {
     "name": "stdout",
     "output_type": "stream",
     "text": [
      "# poinf without any alias: 59\n"
     ]
    }
   ],
   "source": [
    "# Investigating these individual with un defined aliases...\n",
    "noAlias = lookup_poinf[lookup_poinf.alias.isna()]\n",
    "print('# poinf without any alias: {}'.format(len(noAlias)))"
   ]
  },
  {
   "cell_type": "code",
   "execution_count": 26,
   "metadata": {
    "ExecuteTime": {
     "end_time": "2018-04-04T13:15:26.477945Z",
     "start_time": "2018-04-04T13:15:26.471437Z"
    }
   },
   "outputs": [
    {
     "data": {
      "text/plain": [
       "array(['UNKNOWN', 'institute of language cognition and computation',\n",
       "       'centre for intelligent systems and their applications',\n",
       "       'laboratory for foundations of computer science',\n",
       "       'institute for computing systems architecture',\n",
       "       'neuroinformatics dtc',\n",
       "       'institute for adaptive and neural computation',\n",
       "       'institute of perception action and behaviour'], dtype=object)"
      ]
     },
     "execution_count": 26,
     "metadata": {},
     "output_type": "execute_result"
    }
   ],
   "source": [
    "pd.unique(noAlias.institute)"
   ]
  },
  {
   "cell_type": "markdown",
   "metadata": {},
   "source": [
    "Seems like most are visitor..."
   ]
  },
  {
   "cell_type": "code",
   "execution_count": 27,
   "metadata": {
    "ExecuteTime": {
     "end_time": "2018-04-04T13:15:26.511487Z",
     "start_time": "2018-04-04T13:15:26.497859Z"
    }
   },
   "outputs": [
    {
     "data": {
      "text/plain": [
       "visitor official visitor                         20\n",
       "unknown                                           9\n",
       "research associate                                9\n",
       "research assistant                                5\n",
       "visitor non payroll staff                         3\n",
       "uoe honorary staff                                3\n",
       "visitor staff uoe associated institution          3\n",
       "visitor default visitor                           2\n",
       "visitor staff  non uk hei                         1\n",
       "marie curie earlystage researcher                 1\n",
       "lecturer reader in image and vision computing     1\n",
       "uoe temporary staff                               1\n",
       "visitor post graduate worker                      1\n",
       "Name: position, dtype: int64"
      ]
     },
     "execution_count": 27,
     "metadata": {},
     "output_type": "execute_result"
    }
   ],
   "source": [
    "noAlias.position.str.lower().value_counts()"
   ]
  },
  {
   "cell_type": "code",
   "execution_count": 28,
   "metadata": {
    "ExecuteTime": {
     "end_time": "2018-04-04T13:15:26.539304Z",
     "start_time": "2018-04-04T13:15:26.513643Z"
    }
   },
   "outputs": [],
   "source": [
    "# noAlias.to_csv('../data_schoolofinf/peopleOfInformatics_NOALIAS.csv')"
   ]
  },
  {
   "cell_type": "markdown",
   "metadata": {},
   "source": [
    "This means that 60 individuals did not have any publications listed under their name! We would expect the collaboration network created with all the available publications to contain only 288-60=228 nodes (individuals)"
   ]
  },
  {
   "cell_type": "markdown",
   "metadata": {},
   "source": [
    "---\n",
    "# Using `publications.csv` information:\n",
    "There are two csv files related to information from publications:\n",
    "1. `publications.csv`\n",
    "2. `pubpage_aliases.csv`\n",
    "\n",
    "`publcations.csv` contains data scrapped from the each publication under the school of informatics. The fields are:`pub_id`,`date`,`year`,`title`,`authors`,`pub_url`,`doi_url`,`pdf_url`,`abstract`, and `publications`. \n",
    "\n",
    "For our collaboration network, we are only interested in the `pub_id`, `year` (for temporal study), and `authors`.\n",
    "\n",
    "`pubpage_aliases.csv` contains mapping of `shortnames` of authors for each publication. As mentioned in the [previous section](#Alias/shortnames)."
   ]
  },
  {
   "cell_type": "code",
   "execution_count": 29,
   "metadata": {
    "ExecuteTime": {
     "end_time": "2018-04-04T13:15:56.353178Z",
     "start_time": "2018-04-04T13:15:56.164185Z"
    }
   },
   "outputs": [
    {
     "data": {
      "text/html": [
       "<div>\n",
       "<style scoped>\n",
       "    .dataframe tbody tr th:only-of-type {\n",
       "        vertical-align: middle;\n",
       "    }\n",
       "\n",
       "    .dataframe tbody tr th {\n",
       "        vertical-align: top;\n",
       "    }\n",
       "\n",
       "    .dataframe thead th {\n",
       "        text-align: right;\n",
       "    }\n",
       "</style>\n",
       "<table border=\"1\" class=\"dataframe\">\n",
       "  <thead>\n",
       "    <tr style=\"text-align: right;\">\n",
       "      <th></th>\n",
       "      <th>pub_id</th>\n",
       "      <th>date</th>\n",
       "      <th>year</th>\n",
       "      <th>title</th>\n",
       "      <th>authors</th>\n",
       "      <th>pub_url</th>\n",
       "      <th>doi_url</th>\n",
       "      <th>pdf_url</th>\n",
       "      <th>abstract</th>\n",
       "      <th>publications</th>\n",
       "    </tr>\n",
       "  </thead>\n",
       "  <tbody>\n",
       "    <tr>\n",
       "      <th>0</th>\n",
       "      <td>400818dc-63af-4a26-80c5-906f98e1f8ab</td>\n",
       "      <td>1989</td>\n",
       "      <td>1989</td>\n",
       "      <td>ballooning stability analysis of jet hmode dis...</td>\n",
       "      <td>d.p. o'brien|r. galvao|m. keilhacker|e. lazzar...</td>\n",
       "      <td>http://www.research.ed.ac.uk/portal/en/publica...</td>\n",
       "      <td>UNKNOWN</td>\n",
       "      <td>UNKNOWN</td>\n",
       "      <td>previous studies of the stability of a large a...</td>\n",
       "      <td>proceedings 16th european conference on contr...</td>\n",
       "    </tr>\n",
       "    <tr>\n",
       "      <th>1</th>\n",
       "      <td>18b1a861-afef-4fff-bc80-d02e05be18c4</td>\n",
       "      <td>2013</td>\n",
       "      <td>2013</td>\n",
       "      <td>query processing in data integration</td>\n",
       "      <td>paolo guagliardo|piotr wieczorek</td>\n",
       "      <td>http://www.research.ed.ac.uk/portal/en/publica...</td>\n",
       "      <td>UNKNOWN</td>\n",
       "      <td>UNKNOWN</td>\n",
       "      <td>in this chapter we illustrate the main techniq...</td>\n",
       "      <td>data exchange, integration, and streams,dagstu...</td>\n",
       "    </tr>\n",
       "    <tr>\n",
       "      <th>2</th>\n",
       "      <td>309fdbfc-227b-4588-9264-f0f4e3cadfcb</td>\n",
       "      <td>Mar 1994</td>\n",
       "      <td>1994</td>\n",
       "      <td>comprehension syntax</td>\n",
       "      <td>p. buneman|l. libkin|d. suciu|v. tannen|l. wong</td>\n",
       "      <td>http://www.research.ed.ac.uk/portal/en/publica...</td>\n",
       "      <td>http://dx.doi.org/10.1145/181550.181564</td>\n",
       "      <td>http://www.research.ed.ac.uk/portal/files/1651...</td>\n",
       "      <td>the syntax of comprehensions is very close to ...</td>\n",
       "      <td>sigmod record</td>\n",
       "    </tr>\n",
       "  </tbody>\n",
       "</table>\n",
       "</div>"
      ],
      "text/plain": [
       "                                 pub_id      date  year  \\\n",
       "0  400818dc-63af-4a26-80c5-906f98e1f8ab      1989  1989   \n",
       "1  18b1a861-afef-4fff-bc80-d02e05be18c4      2013  2013   \n",
       "2  309fdbfc-227b-4588-9264-f0f4e3cadfcb  Mar 1994  1994   \n",
       "\n",
       "                                               title  \\\n",
       "0  ballooning stability analysis of jet hmode dis...   \n",
       "1               query processing in data integration   \n",
       "2                               comprehension syntax   \n",
       "\n",
       "                                             authors  \\\n",
       "0  d.p. o'brien|r. galvao|m. keilhacker|e. lazzar...   \n",
       "1                   paolo guagliardo|piotr wieczorek   \n",
       "2    p. buneman|l. libkin|d. suciu|v. tannen|l. wong   \n",
       "\n",
       "                                             pub_url  \\\n",
       "0  http://www.research.ed.ac.uk/portal/en/publica...   \n",
       "1  http://www.research.ed.ac.uk/portal/en/publica...   \n",
       "2  http://www.research.ed.ac.uk/portal/en/publica...   \n",
       "\n",
       "                                   doi_url  \\\n",
       "0                                  UNKNOWN   \n",
       "1                                  UNKNOWN   \n",
       "2  http://dx.doi.org/10.1145/181550.181564   \n",
       "\n",
       "                                             pdf_url  \\\n",
       "0                                            UNKNOWN   \n",
       "1                                            UNKNOWN   \n",
       "2  http://www.research.ed.ac.uk/portal/files/1651...   \n",
       "\n",
       "                                            abstract  \\\n",
       "0  previous studies of the stability of a large a...   \n",
       "1  in this chapter we illustrate the main techniq...   \n",
       "2  the syntax of comprehensions is very close to ...   \n",
       "\n",
       "                                        publications  \n",
       "0   proceedings 16th european conference on contr...  \n",
       "1  data exchange, integration, and streams,dagstu...  \n",
       "2                                      sigmod record  "
      ]
     },
     "execution_count": 29,
     "metadata": {},
     "output_type": "execute_result"
    }
   ],
   "source": [
    "pd_publications = pd.read_csv(publications_csv)\n",
    "pd_publications.head(3)"
   ]
  },
  {
   "cell_type": "code",
   "execution_count": 30,
   "metadata": {
    "ExecuteTime": {
     "end_time": "2018-04-04T13:15:56.365077Z",
     "start_time": "2018-04-04T13:15:56.354707Z"
    }
   },
   "outputs": [
    {
     "name": "stdout",
     "output_type": "stream",
     "text": [
      "<class 'pandas.core.frame.DataFrame'>\n",
      "RangeIndex: 8867 entries, 0 to 8866\n",
      "Data columns (total 10 columns):\n",
      "pub_id          8867 non-null object\n",
      "date            8867 non-null object\n",
      "year            8867 non-null object\n",
      "title           8863 non-null object\n",
      "authors         8867 non-null object\n",
      "pub_url         8867 non-null object\n",
      "doi_url         8867 non-null object\n",
      "pdf_url         8867 non-null object\n",
      "abstract        8853 non-null object\n",
      "publications    8867 non-null object\n",
      "dtypes: object(10)\n",
      "memory usage: 692.8+ KB\n"
     ]
    }
   ],
   "source": [
    "pd_publications.info()"
   ]
  },
  {
   "cell_type": "code",
   "execution_count": 31,
   "metadata": {
    "ExecuteTime": {
     "end_time": "2018-04-04T13:15:56.417871Z",
     "start_time": "2018-04-04T13:15:56.366621Z"
    },
    "scrolled": true
   },
   "outputs": [
    {
     "data": {
      "text/html": [
       "<div>\n",
       "<style scoped>\n",
       "    .dataframe tbody tr th:only-of-type {\n",
       "        vertical-align: middle;\n",
       "    }\n",
       "\n",
       "    .dataframe tbody tr th {\n",
       "        vertical-align: top;\n",
       "    }\n",
       "\n",
       "    .dataframe thead th {\n",
       "        text-align: right;\n",
       "    }\n",
       "</style>\n",
       "<table border=\"1\" class=\"dataframe\">\n",
       "  <thead>\n",
       "    <tr style=\"text-align: right;\">\n",
       "      <th></th>\n",
       "      <th>pub_id</th>\n",
       "      <th>names</th>\n",
       "      <th>shortnames</th>\n",
       "    </tr>\n",
       "  </thead>\n",
       "  <tbody>\n",
       "    <tr>\n",
       "      <th>0</th>\n",
       "      <td>400818dc-63af-4a26-80c5-906f98e1f8ab</td>\n",
       "      <td>d.p. o'brien|r. galvao|m. keilhacker|e. lazzar...</td>\n",
       "      <td>brien, d. p.|galvao, r.|keilhacker, m.|lazzaro...</td>\n",
       "    </tr>\n",
       "    <tr>\n",
       "      <th>1</th>\n",
       "      <td>1ee2f37d-9e90-47e7-bffe-dfa498f384f1</td>\n",
       "      <td>marco console|josé mora|riccardo rosati|valeri...</td>\n",
       "      <td>console, m.|mora, j.|rosati, r.|santarelli, v....</td>\n",
       "    </tr>\n",
       "    <tr>\n",
       "      <th>2</th>\n",
       "      <td>309fdbfc-227b-4588-9264-f0f4e3cadfcb</td>\n",
       "      <td>p. buneman|l. libkin|d. suciu|v. tannen|l. wong</td>\n",
       "      <td>buneman, p.|libkin, l.|suciu, d.|tannen, v. |w...</td>\n",
       "    </tr>\n",
       "  </tbody>\n",
       "</table>\n",
       "</div>"
      ],
      "text/plain": [
       "                                 pub_id  \\\n",
       "0  400818dc-63af-4a26-80c5-906f98e1f8ab   \n",
       "1  1ee2f37d-9e90-47e7-bffe-dfa498f384f1   \n",
       "2  309fdbfc-227b-4588-9264-f0f4e3cadfcb   \n",
       "\n",
       "                                               names  \\\n",
       "0  d.p. o'brien|r. galvao|m. keilhacker|e. lazzar...   \n",
       "1  marco console|josé mora|riccardo rosati|valeri...   \n",
       "2    p. buneman|l. libkin|d. suciu|v. tannen|l. wong   \n",
       "\n",
       "                                          shortnames  \n",
       "0  brien, d. p.|galvao, r.|keilhacker, m.|lazzaro...  \n",
       "1  console, m.|mora, j.|rosati, r.|santarelli, v....  \n",
       "2  buneman, p.|libkin, l.|suciu, d.|tannen, v. |w...  "
      ]
     },
     "execution_count": 31,
     "metadata": {},
     "output_type": "execute_result"
    }
   ],
   "source": [
    "# Alias from researcher's list of publications\n",
    "pubpage_alias = pd.read_csv(\n",
    "    '../data_schoolofinf/pubpage_aliases.csv',\n",
    "    names=['pub_id', 'names', 'shortnames'])\n",
    "pubpage_alias.head(3)"
   ]
  },
  {
   "cell_type": "code",
   "execution_count": 32,
   "metadata": {
    "ExecuteTime": {
     "end_time": "2018-04-04T13:15:56.426267Z",
     "start_time": "2018-04-04T13:15:56.419862Z"
    }
   },
   "outputs": [
    {
     "name": "stdout",
     "output_type": "stream",
     "text": [
      "<class 'pandas.core.frame.DataFrame'>\n",
      "RangeIndex: 8867 entries, 0 to 8866\n",
      "Data columns (total 3 columns):\n",
      "pub_id        8867 non-null object\n",
      "names         8867 non-null object\n",
      "shortnames    8866 non-null object\n",
      "dtypes: object(3)\n",
      "memory usage: 207.9+ KB\n"
     ]
    }
   ],
   "source": [
    "pubpage_alias.info()"
   ]
  },
  {
   "cell_type": "code",
   "execution_count": 33,
   "metadata": {
    "ExecuteTime": {
     "end_time": "2018-04-04T13:15:56.463487Z",
     "start_time": "2018-04-04T13:15:56.427873Z"
    }
   },
   "outputs": [],
   "source": [
    "# merge the dataframes:\n",
    "lookup_pub = pd_publications.set_index('pub_id').join(\n",
    "    pubpage_alias.set_index('pub_id'), how='left')"
   ]
  },
  {
   "cell_type": "code",
   "execution_count": 34,
   "metadata": {
    "ExecuteTime": {
     "end_time": "2018-04-04T13:16:13.695777Z",
     "start_time": "2018-04-04T13:16:13.659937Z"
    }
   },
   "outputs": [
    {
     "name": "stdout",
     "output_type": "stream",
     "text": [
      "<class 'pandas.core.frame.DataFrame'>\n",
      "Index: 8867 entries, 400818dc-63af-4a26-80c5-906f98e1f8ab to b2920a27-5293-4f4a-8874-4a0ea804d91a\n",
      "Data columns (total 11 columns):\n",
      "date            8867 non-null object\n",
      "year            8867 non-null object\n",
      "title           8863 non-null object\n",
      "authors         8867 non-null object\n",
      "pub_url         8867 non-null object\n",
      "doi_url         8867 non-null object\n",
      "pdf_url         8867 non-null object\n",
      "abstract        8853 non-null object\n",
      "publications    8867 non-null object\n",
      "names           8867 non-null object\n",
      "shortnames      8866 non-null object\n",
      "dtypes: object(11)\n",
      "memory usage: 1.1+ MB\n"
     ]
    }
   ],
   "source": [
    "lookup_pub.info()"
   ]
  },
  {
   "cell_type": "code",
   "execution_count": 35,
   "metadata": {
    "ExecuteTime": {
     "end_time": "2018-04-04T13:16:51.217613Z",
     "start_time": "2018-04-04T13:16:51.208379Z"
    },
    "scrolled": false
   },
   "outputs": [],
   "source": [
    "# Remove columns that are not required for us to generate the colaboration graph\n",
    "lookup_pub.drop(\n",
    "    labels=[\n",
    "        'date', 'pub_url', 'pdf_url', 'doi_url', 'abstract',\n",
    "        'publications', 'names'\n",
    "    ],\n",
    "    axis=1,\n",
    "    inplace=True)"
   ]
  },
  {
   "cell_type": "code",
   "execution_count": 36,
   "metadata": {
    "ExecuteTime": {
     "end_time": "2018-04-04T13:16:51.260554Z",
     "start_time": "2018-04-04T13:16:51.220110Z"
    },
    "scrolled": false
   },
   "outputs": [
    {
     "data": {
      "text/html": [
       "<div>\n",
       "<style scoped>\n",
       "    .dataframe tbody tr th:only-of-type {\n",
       "        vertical-align: middle;\n",
       "    }\n",
       "\n",
       "    .dataframe tbody tr th {\n",
       "        vertical-align: top;\n",
       "    }\n",
       "\n",
       "    .dataframe thead th {\n",
       "        text-align: right;\n",
       "    }\n",
       "</style>\n",
       "<table border=\"1\" class=\"dataframe\">\n",
       "  <thead>\n",
       "    <tr style=\"text-align: right;\">\n",
       "      <th></th>\n",
       "      <th>year</th>\n",
       "      <th>title</th>\n",
       "      <th>authors</th>\n",
       "      <th>shortnames</th>\n",
       "    </tr>\n",
       "    <tr>\n",
       "      <th>pub_id</th>\n",
       "      <th></th>\n",
       "      <th></th>\n",
       "      <th></th>\n",
       "      <th></th>\n",
       "    </tr>\n",
       "  </thead>\n",
       "  <tbody>\n",
       "    <tr>\n",
       "      <th>400818dc-63af-4a26-80c5-906f98e1f8ab</th>\n",
       "      <td>1989</td>\n",
       "      <td>ballooning stability analysis of jet hmode dis...</td>\n",
       "      <td>d.p. o'brien|r. galvao|m. keilhacker|e. lazzar...</td>\n",
       "      <td>brien, d. p.|galvao, r.|keilhacker, m.|lazzaro...</td>\n",
       "    </tr>\n",
       "    <tr>\n",
       "      <th>18b1a861-afef-4fff-bc80-d02e05be18c4</th>\n",
       "      <td>2013</td>\n",
       "      <td>query processing in data integration</td>\n",
       "      <td>paolo guagliardo|piotr wieczorek</td>\n",
       "      <td>guagliardo, p.|wieczorek, p.</td>\n",
       "    </tr>\n",
       "    <tr>\n",
       "      <th>309fdbfc-227b-4588-9264-f0f4e3cadfcb</th>\n",
       "      <td>1994</td>\n",
       "      <td>comprehension syntax</td>\n",
       "      <td>p. buneman|l. libkin|d. suciu|v. tannen|l. wong</td>\n",
       "      <td>buneman, p.|libkin, l.|suciu, d.|tannen, v. |w...</td>\n",
       "    </tr>\n",
       "  </tbody>\n",
       "</table>\n",
       "</div>"
      ],
      "text/plain": [
       "                                      year  \\\n",
       "pub_id                                       \n",
       "400818dc-63af-4a26-80c5-906f98e1f8ab  1989   \n",
       "18b1a861-afef-4fff-bc80-d02e05be18c4  2013   \n",
       "309fdbfc-227b-4588-9264-f0f4e3cadfcb  1994   \n",
       "\n",
       "                                                                                  title  \\\n",
       "pub_id                                                                                    \n",
       "400818dc-63af-4a26-80c5-906f98e1f8ab  ballooning stability analysis of jet hmode dis...   \n",
       "18b1a861-afef-4fff-bc80-d02e05be18c4               query processing in data integration   \n",
       "309fdbfc-227b-4588-9264-f0f4e3cadfcb                               comprehension syntax   \n",
       "\n",
       "                                                                                authors  \\\n",
       "pub_id                                                                                    \n",
       "400818dc-63af-4a26-80c5-906f98e1f8ab  d.p. o'brien|r. galvao|m. keilhacker|e. lazzar...   \n",
       "18b1a861-afef-4fff-bc80-d02e05be18c4                   paolo guagliardo|piotr wieczorek   \n",
       "309fdbfc-227b-4588-9264-f0f4e3cadfcb    p. buneman|l. libkin|d. suciu|v. tannen|l. wong   \n",
       "\n",
       "                                                                             shortnames  \n",
       "pub_id                                                                                   \n",
       "400818dc-63af-4a26-80c5-906f98e1f8ab  brien, d. p.|galvao, r.|keilhacker, m.|lazzaro...  \n",
       "18b1a861-afef-4fff-bc80-d02e05be18c4                       guagliardo, p.|wieczorek, p.  \n",
       "309fdbfc-227b-4588-9264-f0f4e3cadfcb  buneman, p.|libkin, l.|suciu, d.|tannen, v. |w...  "
      ]
     },
     "execution_count": 36,
     "metadata": {},
     "output_type": "execute_result"
    }
   ],
   "source": [
    "lookup_pub.head(3)"
   ]
  },
  {
   "cell_type": "code",
   "execution_count": 37,
   "metadata": {
    "ExecuteTime": {
     "end_time": "2018-04-04T13:16:52.222007Z",
     "start_time": "2018-04-04T13:16:51.263147Z"
    }
   },
   "outputs": [],
   "source": [
    "# Lets fix the data st it only display the year in full (e.g. 1999 instead of 99)\n",
    "from preprocess import fix_date\n",
    "lookup_pub.year = lookup_pub.year.apply(lambda x: fix_date(x))"
   ]
  },
  {
   "cell_type": "code",
   "execution_count": 38,
   "metadata": {
    "ExecuteTime": {
     "end_time": "2018-04-04T13:16:52.228183Z",
     "start_time": "2018-04-04T13:16:52.223953Z"
    }
   },
   "outputs": [
    {
     "data": {
      "text/plain": [
       "array([1989, 2013, 1994, 2012, 2014, 2007, 2010, 2016, 1991, 2001, 2009,\n",
       "       2015, 1985, 2004, 2003, 2002, 2008, 2011, 1999, 2017, 2006, 1988,\n",
       "       1990, 1995, 2000, 2005, 1987, 1997, 1982, 1984, 1998, 1981, 1996,\n",
       "       1977, 1993, 2018, 1992, 1986, 1980, 1974, 1983, 1979, 1969, 1978,\n",
       "       1975, 1976, 1970, 1971, 1973])"
      ]
     },
     "execution_count": 38,
     "metadata": {},
     "output_type": "execute_result"
    }
   ],
   "source": [
    "pd.unique(lookup_pub.year)"
   ]
  },
  {
   "cell_type": "markdown",
   "metadata": {},
   "source": [
    "## Assigning unique ID to external academic\n",
    "\n",
    "In the previous section on alias for People of informatics, we attempt to unravel the aliases for each individuals. Our dataset, however, have many individuals who may not be from the school of informatics (external academics)**, but have collaborated with individuals from the school of informatics.\n",
    "\n",
    "Our task for the external academics are:\n",
    "1. Assign an unique ID for them\n",
    "2. Unravel through the publication and assign ids for the publications\n",
    "\n",
    "** note that `external` could also mean that they were once from Informatics, but have left - i.e. not in the list of staff when we were scraping!"
   ]
  },
  {
   "cell_type": "code",
   "execution_count": 39,
   "metadata": {
    "ExecuteTime": {
     "end_time": "2018-04-04T13:17:41.581801Z",
     "start_time": "2018-04-04T13:17:41.430626Z"
    }
   },
   "outputs": [],
   "source": [
    "# authors are the expanded name in the publication page\n",
    "# shortnames are those that appear on the list of publication of individuals' page\n",
    "# lets check if the number of names saw are the same:\n",
    "# Convert to list!\n",
    "lookup_pub['shortnames'] = lookup_pub.shortnames.apply(\n",
    "    lambda x: [str(i.strip()) for i in str(x).split(\"|\")])\n",
    "lookup_pub['authors'] = lookup_pub.authors.apply(\n",
    "    lambda x: [str(i.strip()) for i in str(x).split(\"|\")])\n",
    "lookup_pub['nb_authors'] = lookup_pub.authors.apply(\n",
    "    lambda x: len(x))\n",
    "lookup_pub['nb_shortnames'] = lookup_pub.shortnames.apply(\n",
    "    lambda x: len(x))"
   ]
  },
  {
   "cell_type": "code",
   "execution_count": 40,
   "metadata": {
    "ExecuteTime": {
     "end_time": "2018-04-04T13:17:42.766237Z",
     "start_time": "2018-04-04T13:17:42.759983Z"
    }
   },
   "outputs": [
    {
     "data": {
      "text/plain": [
       "(30522, 31399)"
      ]
     },
     "execution_count": 40,
     "metadata": {},
     "output_type": "execute_result"
    }
   ],
   "source": [
    "lookup_pub.nb_authors.sum(), lookup_pub.nb_shortnames.sum()"
   ]
  },
  {
   "cell_type": "markdown",
   "metadata": {},
   "source": [
    "More shortnames that author names, because for large publication it is easier to list down the aliases of most individuals, but usually writing `with 20 others` is observed in the list of names in publication page"
   ]
  },
  {
   "cell_type": "code",
   "execution_count": null,
   "metadata": {
    "ExecuteTime": {
     "end_time": "2018-04-02T23:52:23.594324Z",
     "start_time": "2018-04-02T23:52:23.371087Z"
    },
    "deletable": false,
    "editable": false,
    "run_control": {
     "frozen": true
    }
   },
   "outputs": [],
   "source": [
    "lookup_pub['same'] = lookup_pub.apply(lambda x: x.nb_authors == x.nb_shortnames, axis=1)\n",
    "tmp = sum(list(map(int,lookup_pub.same.tolist())))\n",
    "print('same:',tmp)\n",
    "print(len(lookup_pub)-tmp)"
   ]
  },
  {
   "cell_type": "code",
   "execution_count": null,
   "metadata": {
    "ExecuteTime": {
     "end_time": "2018-04-03T00:15:02.782654Z",
     "start_time": "2018-04-03T00:15:00.142010Z"
    },
    "deletable": false,
    "editable": false,
    "run_control": {
     "frozen": true
    },
    "scrolled": true
   },
   "outputs": [],
   "source": [
    "_lookup_pub = lookup_pub[lookup_pub.same]\n",
    "_pairs =set()\n",
    "not_eq = 0\n",
    "for (names, shortnames) in zip(_lookup_pub.authors, _lookup_pub.shortnames):\n",
    "\n",
    "    if len(names) == len(shortnames):\n",
    "        for p in zip(names, shortnames):\n",
    "            if check_names(p[0], p[1]):\n",
    "                _pairs.add(p)\n",
    "            else:\n",
    "                print(p)\n",
    "    else:\n",
    "        not_eq += 1\n",
    "        for p in product(names, shortnames):\n",
    "            if check_names(p[0], p[1]):\n",
    "                pairs.add(p)\n",
    "\n",
    "_allNames = [p[0] for p in list(_pairs)]\n",
    "_allShortNames = [p[1] for p in list(_pairs)]\n",
    "print(not_eq)"
   ]
  },
  {
   "cell_type": "code",
   "execution_count": null,
   "metadata": {
    "ExecuteTime": {
     "end_time": "2018-04-03T00:15:44.569102Z",
     "start_time": "2018-04-03T00:15:44.563293Z"
    },
    "deletable": false,
    "editable": false,
    "run_control": {
     "frozen": true
    }
   },
   "outputs": [],
   "source": [
    "print(len(_allNames),len(_allShortNames))\n",
    "print(len(set(_allNames)),len(set(_allShortNames)))"
   ]
  },
  {
   "cell_type": "code",
   "execution_count": 41,
   "metadata": {
    "ExecuteTime": {
     "end_time": "2018-04-04T13:18:53.670461Z",
     "start_time": "2018-04-04T13:18:50.260068Z"
    },
    "scrolled": true
   },
   "outputs": [
    {
     "name": "stdout",
     "output_type": "stream",
     "text": [
      "('work enabled by edinburgh genomics', 'nan')\n",
      "('feng, liu', 'liu, f.')\n",
      "('feng, liu', 'liu, f.')\n",
      "('du boulay ben', 'ben, d. b.')\n",
      "('wei ji ma', 'ma, w. j.')\n",
      "('l. n. ma', 'ma, l. n.')\n",
      "179\n"
     ]
    }
   ],
   "source": [
    "import re, random, nameparser  # use human parser to automatically infer the first and last name...\n",
    "from itertools import product\n",
    "\n",
    "\n",
    "def check_names(name, shortname):\n",
    "    _lastname_1 = nameparser.HumanName(name).last\n",
    "    _lastname_2 = nameparser.HumanName(shortname).last\n",
    "    if _lastname_1 == _lastname_2:\n",
    "        return True\n",
    "    elif len(_lastname_1) > len(_lastname_2):  # slicing\n",
    "        if _lastname_1[-len(_lastname_2):] == _lastname_2:\n",
    "            return True\n",
    "    elif len(_lastname_2) > len(_lastname_1):  # slicing\n",
    "        if _lastname_2[-len(_lastname_1):] == _lastname_1:\n",
    "            return True\n",
    "    return False\n",
    "\n",
    "\n",
    "# simple matching for names scrapped from the publication's website and those\n",
    "# in the list of names\n",
    "pairs = set()\n",
    "not_eq = 0\n",
    "\n",
    "for (names, shortnames) in zip(lookup_pub.authors, lookup_pub.shortnames):\n",
    "\n",
    "    if len(names) == len(shortnames):\n",
    "        for p in zip(names, shortnames):\n",
    "            if check_names(p[0], p[1]):\n",
    "                pairs.add(p)\n",
    "            else:\n",
    "                print(p)\n",
    "    else:\n",
    "        not_eq += 1\n",
    "        for p in product(names, shortnames):\n",
    "            # try all combination to generate a matching pair\n",
    "            if check_names(p[0], p[1]):\n",
    "                pairs.add(p)\n",
    "\n",
    "allNames = [p[0] for p in list(pairs)]\n",
    "allShortNames = [p[1] for p in list(pairs)]\n",
    "print(not_eq)"
   ]
  },
  {
   "cell_type": "code",
   "execution_count": 43,
   "metadata": {
    "ExecuteTime": {
     "end_time": "2018-04-04T13:21:44.181179Z",
     "start_time": "2018-04-04T13:21:44.172116Z"
    },
    "scrolled": true
   },
   "outputs": [
    {
     "name": "stdout",
     "output_type": "stream",
     "text": [
      "Number of unique names in collaboration network:  10217\n",
      "Number of unique alias:  8225\n"
     ]
    }
   ],
   "source": [
    "print('Number of unique names in collaboration network: ', str(\n",
    "    len(set(allNames))))\n",
    "print('Number of unique alias: ', str(len(set(allShortNames))))"
   ]
  },
  {
   "cell_type": "code",
   "execution_count": 53,
   "metadata": {
    "ExecuteTime": {
     "end_time": "2018-04-04T13:27:44.734209Z",
     "start_time": "2018-04-04T13:27:44.726530Z"
    }
   },
   "outputs": [],
   "source": [
    "# Note that we have accurate representation of indv from informatics using the embedded metadata!\n",
    "# Combine all the alias for individuals in the school of informatics into a list\n",
    "poinf_aliases = []\n",
    "for aliases in lookup_poinf.alias:\n",
    "    if type(aliases) is str:\n",
    "        poinf_aliases.extend([a.strip() for a in aliases.split(\"|\")])"
   ]
  },
  {
   "cell_type": "code",
   "execution_count": 44,
   "metadata": {
    "ExecuteTime": {
     "end_time": "2018-04-04T13:21:45.597507Z",
     "start_time": "2018-04-04T13:21:45.590037Z"
    }
   },
   "outputs": [
    {
     "name": "stdout",
     "output_type": "stream",
     "text": [
      "Number of external aliases in collaboration network:  7922\n"
     ]
    }
   ],
   "source": [
    "# # External researchers are those who are not in the list of alias we saw so far...\n",
    "# external_aliases = set(allShortNames).difference(set(poinf_aliases))\n",
    "# print('Number of external aliases in collaboration network: ',\n",
    "#       str(len(external_aliases)))"
   ]
  },
  {
   "cell_type": "code",
   "execution_count": 48,
   "metadata": {
    "ExecuteTime": {
     "end_time": "2018-04-04T13:25:31.554148Z",
     "start_time": "2018-04-04T13:25:31.545832Z"
    }
   },
   "outputs": [],
   "source": [
    "allAliases = []\n",
    "for a in lookup_pub.shortnames:\n",
    "    allAliases.extend(a)"
   ]
  },
  {
   "cell_type": "code",
   "execution_count": 54,
   "metadata": {
    "ExecuteTime": {
     "end_time": "2018-04-04T13:27:46.565617Z",
     "start_time": "2018-04-04T13:27:46.551441Z"
    }
   },
   "outputs": [
    {
     "name": "stdout",
     "output_type": "stream",
     "text": [
      "Total number of aliases: 8936\n",
      "Total Number of exteral aliases: 8633\n",
      "Total number of internal aliases: 353\n"
     ]
    }
   ],
   "source": [
    "print('Total number of aliases: {}'.format(len(set(allAliases))))\n",
    "print('Total number of exteral aliases: {}'.format(len(set(allAliases).difference(set(poinf_aliases)))))\n",
    "print('Total number of internal aliases: {}'.format(len(set(poinf_aliases))))"
   ]
  },
  {
   "cell_type": "markdown",
   "metadata": {},
   "source": [
    "Create a dictionary for fast lookup of individuals who are NOT in school of informatics"
   ]
  },
  {
   "cell_type": "code",
   "execution_count": 55,
   "metadata": {
    "ExecuteTime": {
     "end_time": "2018-04-04T13:28:16.443826Z",
     "start_time": "2018-04-04T13:28:16.438508Z"
    }
   },
   "outputs": [],
   "source": [
    "# Give an unique id to each alias:\n",
    "from itertools import count\n",
    "from collections import defaultdict\n",
    "lookup_ext_academic = defaultdict(count().__next__)"
   ]
  },
  {
   "cell_type": "code",
   "execution_count": 56,
   "metadata": {
    "ExecuteTime": {
     "end_time": "2018-04-04T13:28:43.738836Z",
     "start_time": "2018-04-04T13:28:43.722764Z"
    }
   },
   "outputs": [],
   "source": [
    "external_aliases = set(allAliases).difference(set(poinf_aliases))\n",
    "for i in list(external_aliases):\n",
    "    # {alias:id} where id is an increasing count\n",
    "    lookup_ext_academic[i]"
   ]
  },
  {
   "cell_type": "code",
   "execution_count": 57,
   "metadata": {
    "ExecuteTime": {
     "end_time": "2018-04-04T13:28:47.178680Z",
     "start_time": "2018-04-04T13:28:47.173572Z"
    }
   },
   "outputs": [
    {
     "data": {
      "text/plain": [
       "8633"
      ]
     },
     "execution_count": 57,
     "metadata": {},
     "output_type": "execute_result"
    }
   ],
   "source": [
    "len(lookup_ext_academic)"
   ]
  },
  {
   "cell_type": "markdown",
   "metadata": {},
   "source": [
    "create a dictionary for fast lookup of individuals in school of informatics, it has the form: \n",
    "```{alias: id}``` where `id` is the unique identifier saw in the index of `lookup_poinf`"
   ]
  },
  {
   "cell_type": "code",
   "execution_count": 58,
   "metadata": {
    "ExecuteTime": {
     "end_time": "2018-04-04T13:29:02.544923Z",
     "start_time": "2018-04-04T13:29:02.535140Z"
    }
   },
   "outputs": [],
   "source": [
    "lookup_poinf_alias = {}\n",
    "for pers_id, aliases in zip(lookup_poinf.index, lookup_poinf.alias):\n",
    "    if type(aliases) is str:\n",
    "        _aliases = aliases.split(\"|\")\n",
    "        for alias in _aliases:\n",
    "            lookup_poinf_alias[str(alias).strip()] = pers_id"
   ]
  },
  {
   "cell_type": "code",
   "execution_count": 59,
   "metadata": {
    "ExecuteTime": {
     "end_time": "2018-04-04T13:29:07.196817Z",
     "start_time": "2018-04-04T13:29:07.192204Z"
    }
   },
   "outputs": [
    {
     "data": {
      "text/plain": [
       "353"
      ]
     },
     "execution_count": 59,
     "metadata": {},
     "output_type": "execute_result"
    }
   ],
   "source": [
    "len(lookup_poinf_alias)"
   ]
  },
  {
   "cell_type": "markdown",
   "metadata": {},
   "source": [
    "## Add id of collaborators into `lookup_pub`\n",
    "Now that we have an assigned ID for external individuals and individuals who are in school of informatics, we can use these IDs to represent these individuals for each collaboration."
   ]
  },
  {
   "cell_type": "code",
   "execution_count": null,
   "metadata": {
    "ExecuteTime": {
     "end_time": "2018-04-03T00:07:02.465255Z",
     "start_time": "2018-04-03T00:07:02.458895Z"
    }
   },
   "outputs": [],
   "source": [
    "# convert shortnames and authors into list\n",
    "splittolist = lambda x: [a.strip() for a in str(x).split('|')]"
   ]
  },
  {
   "cell_type": "code",
   "execution_count": 60,
   "metadata": {
    "ExecuteTime": {
     "end_time": "2018-04-04T13:29:19.470901Z",
     "start_time": "2018-04-04T13:29:19.443616Z"
    }
   },
   "outputs": [],
   "source": [
    "def collabIds(_shortnames):\n",
    "    # collaborators id\n",
    "    collab_id = []\n",
    "    if not isinstance(_shortnames, list):\n",
    "        _shortnames = splittolist(_shortnames)\n",
    "    try:\n",
    "        for i in _shortnames:\n",
    "            i=str(i.strip())\n",
    "            if i in lookup_poinf_alias.keys():\n",
    "                collab_id.append(lookup_poinf_alias[i])\n",
    "            elif i in lookup_ext_academic.keys():\n",
    "                collab_id.append(lookup_ext_academic[i])\n",
    "            elif i in set(allShortNames): # should not happen..! (never happen)\n",
    "                print(i)\n",
    "            else: # those that we failed to evaluate when the len is different!\n",
    "                print('..',i)\n",
    "    except:\n",
    "        return None\n",
    "    return collab_id"
   ]
  },
  {
   "cell_type": "code",
   "execution_count": 61,
   "metadata": {
    "ExecuteTime": {
     "end_time": "2018-04-04T13:29:20.413273Z",
     "start_time": "2018-04-04T13:29:20.359866Z"
    },
    "scrolled": true
   },
   "outputs": [],
   "source": [
    "# convert the shortnames to unique identifier\n",
    "lookup_pub['collab_id'] = lookup_pub.shortnames.apply(collabIds)"
   ]
  },
  {
   "cell_type": "code",
   "execution_count": 62,
   "metadata": {
    "ExecuteTime": {
     "end_time": "2018-04-04T13:29:25.600025Z",
     "start_time": "2018-04-04T13:29:25.583631Z"
    },
    "scrolled": true
   },
   "outputs": [
    {
     "data": {
      "text/html": [
       "<div>\n",
       "<style scoped>\n",
       "    .dataframe tbody tr th:only-of-type {\n",
       "        vertical-align: middle;\n",
       "    }\n",
       "\n",
       "    .dataframe tbody tr th {\n",
       "        vertical-align: top;\n",
       "    }\n",
       "\n",
       "    .dataframe thead th {\n",
       "        text-align: right;\n",
       "    }\n",
       "</style>\n",
       "<table border=\"1\" class=\"dataframe\">\n",
       "  <thead>\n",
       "    <tr style=\"text-align: right;\">\n",
       "      <th></th>\n",
       "      <th>year</th>\n",
       "      <th>title</th>\n",
       "      <th>authors</th>\n",
       "      <th>shortnames</th>\n",
       "      <th>nb_authors</th>\n",
       "      <th>nb_shortnames</th>\n",
       "      <th>collab_id</th>\n",
       "    </tr>\n",
       "    <tr>\n",
       "      <th>pub_id</th>\n",
       "      <th></th>\n",
       "      <th></th>\n",
       "      <th></th>\n",
       "      <th></th>\n",
       "      <th></th>\n",
       "      <th></th>\n",
       "      <th></th>\n",
       "    </tr>\n",
       "  </thead>\n",
       "  <tbody>\n",
       "  </tbody>\n",
       "</table>\n",
       "</div>"
      ],
      "text/plain": [
       "Empty DataFrame\n",
       "Columns: [year, title, authors, shortnames, nb_authors, nb_shortnames, collab_id]\n",
       "Index: []"
      ]
     },
     "execution_count": 62,
     "metadata": {},
     "output_type": "execute_result"
    }
   ],
   "source": [
    "lookup_pub[lookup_pub.collab_id.isna()]"
   ]
  },
  {
   "cell_type": "code",
   "execution_count": 63,
   "metadata": {
    "ExecuteTime": {
     "end_time": "2018-04-04T13:29:30.921852Z",
     "start_time": "2018-04-04T13:29:30.896621Z"
    }
   },
   "outputs": [
    {
     "data": {
      "text/html": [
       "<div>\n",
       "<style scoped>\n",
       "    .dataframe tbody tr th:only-of-type {\n",
       "        vertical-align: middle;\n",
       "    }\n",
       "\n",
       "    .dataframe tbody tr th {\n",
       "        vertical-align: top;\n",
       "    }\n",
       "\n",
       "    .dataframe thead th {\n",
       "        text-align: right;\n",
       "    }\n",
       "</style>\n",
       "<table border=\"1\" class=\"dataframe\">\n",
       "  <thead>\n",
       "    <tr style=\"text-align: right;\">\n",
       "      <th></th>\n",
       "      <th>year</th>\n",
       "      <th>title</th>\n",
       "      <th>authors</th>\n",
       "      <th>shortnames</th>\n",
       "      <th>nb_authors</th>\n",
       "      <th>nb_shortnames</th>\n",
       "      <th>collab_id</th>\n",
       "    </tr>\n",
       "    <tr>\n",
       "      <th>pub_id</th>\n",
       "      <th></th>\n",
       "      <th></th>\n",
       "      <th></th>\n",
       "      <th></th>\n",
       "      <th></th>\n",
       "      <th></th>\n",
       "      <th></th>\n",
       "    </tr>\n",
       "  </thead>\n",
       "  <tbody>\n",
       "    <tr>\n",
       "      <th>400818dc-63af-4a26-80c5-906f98e1f8ab</th>\n",
       "      <td>1989</td>\n",
       "      <td>ballooning stability analysis of jet hmode dis...</td>\n",
       "      <td>[d.p. o'brien, r. galvao, m. keilhacker, e. la...</td>\n",
       "      <td>[brien, d. p., galvao, r., keilhacker, m., laz...</td>\n",
       "      <td>6</td>\n",
       "      <td>6</td>\n",
       "      <td>[7131, 4327, 5425, 7466, 3245, a78a09b5-138e-4...</td>\n",
       "    </tr>\n",
       "    <tr>\n",
       "      <th>18b1a861-afef-4fff-bc80-d02e05be18c4</th>\n",
       "      <td>2013</td>\n",
       "      <td>query processing in data integration</td>\n",
       "      <td>[paolo guagliardo, piotr wieczorek]</td>\n",
       "      <td>[guagliardo, p., wieczorek, p.]</td>\n",
       "      <td>2</td>\n",
       "      <td>2</td>\n",
       "      <td>[653c9723-b374-4ad3-9cef-0f7e7f45d812, 4886]</td>\n",
       "    </tr>\n",
       "    <tr>\n",
       "      <th>309fdbfc-227b-4588-9264-f0f4e3cadfcb</th>\n",
       "      <td>1994</td>\n",
       "      <td>comprehension syntax</td>\n",
       "      <td>[p. buneman, l. libkin, d. suciu, v. tannen, l...</td>\n",
       "      <td>[buneman, p., libkin, l., suciu, d., tannen, v...</td>\n",
       "      <td>5</td>\n",
       "      <td>5</td>\n",
       "      <td>[90396347-473b-4fba-8b1d-a1d25ea18b6b, a22b33f...</td>\n",
       "    </tr>\n",
       "    <tr>\n",
       "      <th>d5814bab-5fc2-4c31-92b7-543c7ce75cb4</th>\n",
       "      <td>2012</td>\n",
       "      <td>evaluation of speaker verification security an...</td>\n",
       "      <td>[p.l. de leon, m. pucher, j. yamagishi, i. her...</td>\n",
       "      <td>[leon, p. l., pucher, m., yamagishi, j., herna...</td>\n",
       "      <td>5</td>\n",
       "      <td>5</td>\n",
       "      <td>[3084, 4137, 4d11a99a-0d04-42f4-8089-d433a57c2...</td>\n",
       "    </tr>\n",
       "  </tbody>\n",
       "</table>\n",
       "</div>"
      ],
      "text/plain": [
       "                                      year  \\\n",
       "pub_id                                       \n",
       "400818dc-63af-4a26-80c5-906f98e1f8ab  1989   \n",
       "18b1a861-afef-4fff-bc80-d02e05be18c4  2013   \n",
       "309fdbfc-227b-4588-9264-f0f4e3cadfcb  1994   \n",
       "d5814bab-5fc2-4c31-92b7-543c7ce75cb4  2012   \n",
       "\n",
       "                                                                                  title  \\\n",
       "pub_id                                                                                    \n",
       "400818dc-63af-4a26-80c5-906f98e1f8ab  ballooning stability analysis of jet hmode dis...   \n",
       "18b1a861-afef-4fff-bc80-d02e05be18c4               query processing in data integration   \n",
       "309fdbfc-227b-4588-9264-f0f4e3cadfcb                               comprehension syntax   \n",
       "d5814bab-5fc2-4c31-92b7-543c7ce75cb4  evaluation of speaker verification security an...   \n",
       "\n",
       "                                                                                authors  \\\n",
       "pub_id                                                                                    \n",
       "400818dc-63af-4a26-80c5-906f98e1f8ab  [d.p. o'brien, r. galvao, m. keilhacker, e. la...   \n",
       "18b1a861-afef-4fff-bc80-d02e05be18c4                [paolo guagliardo, piotr wieczorek]   \n",
       "309fdbfc-227b-4588-9264-f0f4e3cadfcb  [p. buneman, l. libkin, d. suciu, v. tannen, l...   \n",
       "d5814bab-5fc2-4c31-92b7-543c7ce75cb4  [p.l. de leon, m. pucher, j. yamagishi, i. her...   \n",
       "\n",
       "                                                                             shortnames  \\\n",
       "pub_id                                                                                    \n",
       "400818dc-63af-4a26-80c5-906f98e1f8ab  [brien, d. p., galvao, r., keilhacker, m., laz...   \n",
       "18b1a861-afef-4fff-bc80-d02e05be18c4                    [guagliardo, p., wieczorek, p.]   \n",
       "309fdbfc-227b-4588-9264-f0f4e3cadfcb  [buneman, p., libkin, l., suciu, d., tannen, v...   \n",
       "d5814bab-5fc2-4c31-92b7-543c7ce75cb4  [leon, p. l., pucher, m., yamagishi, j., herna...   \n",
       "\n",
       "                                      nb_authors  nb_shortnames  \\\n",
       "pub_id                                                            \n",
       "400818dc-63af-4a26-80c5-906f98e1f8ab           6              6   \n",
       "18b1a861-afef-4fff-bc80-d02e05be18c4           2              2   \n",
       "309fdbfc-227b-4588-9264-f0f4e3cadfcb           5              5   \n",
       "d5814bab-5fc2-4c31-92b7-543c7ce75cb4           5              5   \n",
       "\n",
       "                                                                              collab_id  \n",
       "pub_id                                                                                   \n",
       "400818dc-63af-4a26-80c5-906f98e1f8ab  [7131, 4327, 5425, 7466, 3245, a78a09b5-138e-4...  \n",
       "18b1a861-afef-4fff-bc80-d02e05be18c4       [653c9723-b374-4ad3-9cef-0f7e7f45d812, 4886]  \n",
       "309fdbfc-227b-4588-9264-f0f4e3cadfcb  [90396347-473b-4fba-8b1d-a1d25ea18b6b, a22b33f...  \n",
       "d5814bab-5fc2-4c31-92b7-543c7ce75cb4  [3084, 4137, 4d11a99a-0d04-42f4-8089-d433a57c2...  "
      ]
     },
     "execution_count": 63,
     "metadata": {},
     "output_type": "execute_result"
    }
   ],
   "source": [
    "lookup_pub.head(4)"
   ]
  },
  {
   "cell_type": "code",
   "execution_count": 64,
   "metadata": {
    "ExecuteTime": {
     "end_time": "2018-04-04T13:29:45.402644Z",
     "start_time": "2018-04-04T13:29:45.390743Z"
    }
   },
   "outputs": [],
   "source": [
    "lookup_pub['nb_collab_id'] = lookup_pub.collab_id.apply(lambda x: len(x))"
   ]
  },
  {
   "cell_type": "code",
   "execution_count": 65,
   "metadata": {
    "ExecuteTime": {
     "end_time": "2018-04-04T13:29:45.712492Z",
     "start_time": "2018-04-04T13:29:45.405238Z"
    }
   },
   "outputs": [],
   "source": [
    "lookup_pub['same'] = lookup_pub.apply(lambda row: len(row.collab_id) == row.nb_shortnames, axis=1)"
   ]
  },
  {
   "cell_type": "code",
   "execution_count": 66,
   "metadata": {
    "ExecuteTime": {
     "end_time": "2018-04-04T13:29:45.721133Z",
     "start_time": "2018-04-04T13:29:45.714270Z"
    }
   },
   "outputs": [
    {
     "data": {
      "text/html": [
       "<div>\n",
       "<style scoped>\n",
       "    .dataframe tbody tr th:only-of-type {\n",
       "        vertical-align: middle;\n",
       "    }\n",
       "\n",
       "    .dataframe tbody tr th {\n",
       "        vertical-align: top;\n",
       "    }\n",
       "\n",
       "    .dataframe thead th {\n",
       "        text-align: right;\n",
       "    }\n",
       "</style>\n",
       "<table border=\"1\" class=\"dataframe\">\n",
       "  <thead>\n",
       "    <tr style=\"text-align: right;\">\n",
       "      <th></th>\n",
       "      <th>year</th>\n",
       "      <th>title</th>\n",
       "      <th>authors</th>\n",
       "      <th>shortnames</th>\n",
       "      <th>nb_authors</th>\n",
       "      <th>nb_shortnames</th>\n",
       "      <th>collab_id</th>\n",
       "      <th>nb_collab_id</th>\n",
       "      <th>same</th>\n",
       "    </tr>\n",
       "    <tr>\n",
       "      <th>pub_id</th>\n",
       "      <th></th>\n",
       "      <th></th>\n",
       "      <th></th>\n",
       "      <th></th>\n",
       "      <th></th>\n",
       "      <th></th>\n",
       "      <th></th>\n",
       "      <th></th>\n",
       "      <th></th>\n",
       "    </tr>\n",
       "  </thead>\n",
       "  <tbody>\n",
       "  </tbody>\n",
       "</table>\n",
       "</div>"
      ],
      "text/plain": [
       "Empty DataFrame\n",
       "Columns: [year, title, authors, shortnames, nb_authors, nb_shortnames, collab_id, nb_collab_id, same]\n",
       "Index: []"
      ]
     },
     "execution_count": 66,
     "metadata": {},
     "output_type": "execute_result"
    }
   ],
   "source": [
    "lookup_pub[~lookup_pub.same]"
   ]
  },
  {
   "cell_type": "code",
   "execution_count": 68,
   "metadata": {
    "ExecuteTime": {
     "end_time": "2018-04-04T13:30:32.347728Z",
     "start_time": "2018-04-04T13:30:32.340914Z"
    }
   },
   "outputs": [],
   "source": [
    "lookup_pub.drop(labels=['same','nb_collab_id'],axis=1, inplace=True)"
   ]
  },
  {
   "cell_type": "markdown",
   "metadata": {},
   "source": [
    "## Generate Edgelist"
   ]
  },
  {
   "cell_type": "code",
   "execution_count": 69,
   "metadata": {
    "ExecuteTime": {
     "end_time": "2018-04-04T13:30:44.467366Z",
     "start_time": "2018-04-04T13:30:44.455717Z"
    }
   },
   "outputs": [],
   "source": [
    "# Create egelist\n",
    "from itertools import product\n",
    "\n",
    "def generateEdges(ids):\n",
    "    products = product(ids, ids)\n",
    "    differentPairs = []\n",
    "    for (i, v) in products:\n",
    "        if i != v and (v, i) not in differentPairs:\n",
    "            differentPairs.append((i, v))\n",
    "    return differentPairs"
   ]
  },
  {
   "cell_type": "code",
   "execution_count": 70,
   "metadata": {
    "ExecuteTime": {
     "end_time": "2018-04-04T13:30:45.786552Z",
     "start_time": "2018-04-04T13:30:44.469819Z"
    }
   },
   "outputs": [],
   "source": [
    "lookup_pub['edges'] = lookup_pub.collab_id.apply(generateEdges)"
   ]
  },
  {
   "cell_type": "code",
   "execution_count": 71,
   "metadata": {
    "ExecuteTime": {
     "end_time": "2018-04-04T13:30:45.792181Z",
     "start_time": "2018-04-04T13:30:45.788374Z"
    }
   },
   "outputs": [
    {
     "data": {
      "text/plain": [
       "[\"d.p. o'brien\",\n",
       " 'r. galvao',\n",
       " 'm. keilhacker',\n",
       " 'e. lazzaro',\n",
       " 'm.l. watkins',\n",
       " 'c.m. bishop']"
      ]
     },
     "execution_count": 71,
     "metadata": {},
     "output_type": "execute_result"
    }
   ],
   "source": [
    "lookup_pub.iloc[0].authors"
   ]
  },
  {
   "cell_type": "code",
   "execution_count": 72,
   "metadata": {
    "ExecuteTime": {
     "end_time": "2018-04-04T13:30:45.823097Z",
     "start_time": "2018-04-04T13:30:45.793671Z"
    }
   },
   "outputs": [
    {
     "data": {
      "text/plain": [
       "[(7131, 4327),\n",
       " (7131, 5425),\n",
       " (7131, 7466),\n",
       " (7131, 3245),\n",
       " (7131, 'a78a09b5-138e-407e-8c09-34414853eb20'),\n",
       " (4327, 5425),\n",
       " (4327, 7466),\n",
       " (4327, 3245),\n",
       " (4327, 'a78a09b5-138e-407e-8c09-34414853eb20'),\n",
       " (5425, 7466),\n",
       " (5425, 3245),\n",
       " (5425, 'a78a09b5-138e-407e-8c09-34414853eb20'),\n",
       " (7466, 3245),\n",
       " (7466, 'a78a09b5-138e-407e-8c09-34414853eb20'),\n",
       " (3245, 'a78a09b5-138e-407e-8c09-34414853eb20')]"
      ]
     },
     "execution_count": 72,
     "metadata": {},
     "output_type": "execute_result"
    }
   ],
   "source": [
    "lookup_pub.iloc[0].edges"
   ]
  },
  {
   "cell_type": "markdown",
   "metadata": {},
   "source": [
    "## Additional metrics"
   ]
  },
  {
   "cell_type": "code",
   "execution_count": 74,
   "metadata": {
    "ExecuteTime": {
     "end_time": "2018-04-04T13:31:13.391359Z",
     "start_time": "2018-04-04T13:31:13.386803Z"
    }
   },
   "outputs": [],
   "source": [
    "# nb_poinf - number of collaborators from inf\n",
    "def extract_inf(collab_id, lookup_poinf):\n",
    "    return [a for a in collab_id if a in lookup_poinf.index.tolist()]"
   ]
  },
  {
   "cell_type": "code",
   "execution_count": 75,
   "metadata": {
    "ExecuteTime": {
     "end_time": "2018-04-04T13:31:14.758720Z",
     "start_time": "2018-04-04T13:31:14.337943Z"
    }
   },
   "outputs": [],
   "source": [
    "lookup_pub['collab_poinf'] = lookup_pub.collab_id.apply(lambda x: extract_inf(x,lookup_poinf))"
   ]
  },
  {
   "cell_type": "code",
   "execution_count": 77,
   "metadata": {
    "ExecuteTime": {
     "end_time": "2018-04-04T13:31:54.163522Z",
     "start_time": "2018-04-04T13:31:54.151673Z"
    }
   },
   "outputs": [],
   "source": [
    "lookup_pub['nb_poinf'] = lookup_pub.collab_poinf.apply(lambda x: len(x))"
   ]
  },
  {
   "cell_type": "code",
   "execution_count": 78,
   "metadata": {
    "ExecuteTime": {
     "end_time": "2018-04-04T13:31:55.204609Z",
     "start_time": "2018-04-04T13:31:55.183006Z"
    }
   },
   "outputs": [
    {
     "data": {
      "text/html": [
       "<div>\n",
       "<style scoped>\n",
       "    .dataframe tbody tr th:only-of-type {\n",
       "        vertical-align: middle;\n",
       "    }\n",
       "\n",
       "    .dataframe tbody tr th {\n",
       "        vertical-align: top;\n",
       "    }\n",
       "\n",
       "    .dataframe thead th {\n",
       "        text-align: right;\n",
       "    }\n",
       "</style>\n",
       "<table border=\"1\" class=\"dataframe\">\n",
       "  <thead>\n",
       "    <tr style=\"text-align: right;\">\n",
       "      <th></th>\n",
       "      <th>year</th>\n",
       "      <th>title</th>\n",
       "      <th>authors</th>\n",
       "      <th>shortnames</th>\n",
       "      <th>nb_authors</th>\n",
       "      <th>nb_shortnames</th>\n",
       "      <th>collab_id</th>\n",
       "      <th>edges</th>\n",
       "      <th>collab_poinf</th>\n",
       "      <th>nb_poinf</th>\n",
       "    </tr>\n",
       "    <tr>\n",
       "      <th>pub_id</th>\n",
       "      <th></th>\n",
       "      <th></th>\n",
       "      <th></th>\n",
       "      <th></th>\n",
       "      <th></th>\n",
       "      <th></th>\n",
       "      <th></th>\n",
       "      <th></th>\n",
       "      <th></th>\n",
       "      <th></th>\n",
       "    </tr>\n",
       "  </thead>\n",
       "  <tbody>\n",
       "    <tr>\n",
       "      <th>400818dc-63af-4a26-80c5-906f98e1f8ab</th>\n",
       "      <td>1989</td>\n",
       "      <td>ballooning stability analysis of jet hmode dis...</td>\n",
       "      <td>[d.p. o'brien, r. galvao, m. keilhacker, e. la...</td>\n",
       "      <td>[brien, d. p., galvao, r., keilhacker, m., laz...</td>\n",
       "      <td>6</td>\n",
       "      <td>6</td>\n",
       "      <td>[7131, 4327, 5425, 7466, 3245, a78a09b5-138e-4...</td>\n",
       "      <td>[(7131, 4327), (7131, 5425), (7131, 7466), (71...</td>\n",
       "      <td>[a78a09b5-138e-407e-8c09-34414853eb20]</td>\n",
       "      <td>1</td>\n",
       "    </tr>\n",
       "    <tr>\n",
       "      <th>18b1a861-afef-4fff-bc80-d02e05be18c4</th>\n",
       "      <td>2013</td>\n",
       "      <td>query processing in data integration</td>\n",
       "      <td>[paolo guagliardo, piotr wieczorek]</td>\n",
       "      <td>[guagliardo, p., wieczorek, p.]</td>\n",
       "      <td>2</td>\n",
       "      <td>2</td>\n",
       "      <td>[653c9723-b374-4ad3-9cef-0f7e7f45d812, 4886]</td>\n",
       "      <td>[(653c9723-b374-4ad3-9cef-0f7e7f45d812, 4886)]</td>\n",
       "      <td>[653c9723-b374-4ad3-9cef-0f7e7f45d812]</td>\n",
       "      <td>1</td>\n",
       "    </tr>\n",
       "    <tr>\n",
       "      <th>309fdbfc-227b-4588-9264-f0f4e3cadfcb</th>\n",
       "      <td>1994</td>\n",
       "      <td>comprehension syntax</td>\n",
       "      <td>[p. buneman, l. libkin, d. suciu, v. tannen, l...</td>\n",
       "      <td>[buneman, p., libkin, l., suciu, d., tannen, v...</td>\n",
       "      <td>5</td>\n",
       "      <td>5</td>\n",
       "      <td>[90396347-473b-4fba-8b1d-a1d25ea18b6b, a22b33f...</td>\n",
       "      <td>[(90396347-473b-4fba-8b1d-a1d25ea18b6b, a22b33...</td>\n",
       "      <td>[90396347-473b-4fba-8b1d-a1d25ea18b6b, a22b33f...</td>\n",
       "      <td>2</td>\n",
       "    </tr>\n",
       "  </tbody>\n",
       "</table>\n",
       "</div>"
      ],
      "text/plain": [
       "                                      year  \\\n",
       "pub_id                                       \n",
       "400818dc-63af-4a26-80c5-906f98e1f8ab  1989   \n",
       "18b1a861-afef-4fff-bc80-d02e05be18c4  2013   \n",
       "309fdbfc-227b-4588-9264-f0f4e3cadfcb  1994   \n",
       "\n",
       "                                                                                  title  \\\n",
       "pub_id                                                                                    \n",
       "400818dc-63af-4a26-80c5-906f98e1f8ab  ballooning stability analysis of jet hmode dis...   \n",
       "18b1a861-afef-4fff-bc80-d02e05be18c4               query processing in data integration   \n",
       "309fdbfc-227b-4588-9264-f0f4e3cadfcb                               comprehension syntax   \n",
       "\n",
       "                                                                                authors  \\\n",
       "pub_id                                                                                    \n",
       "400818dc-63af-4a26-80c5-906f98e1f8ab  [d.p. o'brien, r. galvao, m. keilhacker, e. la...   \n",
       "18b1a861-afef-4fff-bc80-d02e05be18c4                [paolo guagliardo, piotr wieczorek]   \n",
       "309fdbfc-227b-4588-9264-f0f4e3cadfcb  [p. buneman, l. libkin, d. suciu, v. tannen, l...   \n",
       "\n",
       "                                                                             shortnames  \\\n",
       "pub_id                                                                                    \n",
       "400818dc-63af-4a26-80c5-906f98e1f8ab  [brien, d. p., galvao, r., keilhacker, m., laz...   \n",
       "18b1a861-afef-4fff-bc80-d02e05be18c4                    [guagliardo, p., wieczorek, p.]   \n",
       "309fdbfc-227b-4588-9264-f0f4e3cadfcb  [buneman, p., libkin, l., suciu, d., tannen, v...   \n",
       "\n",
       "                                      nb_authors  nb_shortnames  \\\n",
       "pub_id                                                            \n",
       "400818dc-63af-4a26-80c5-906f98e1f8ab           6              6   \n",
       "18b1a861-afef-4fff-bc80-d02e05be18c4           2              2   \n",
       "309fdbfc-227b-4588-9264-f0f4e3cadfcb           5              5   \n",
       "\n",
       "                                                                              collab_id  \\\n",
       "pub_id                                                                                    \n",
       "400818dc-63af-4a26-80c5-906f98e1f8ab  [7131, 4327, 5425, 7466, 3245, a78a09b5-138e-4...   \n",
       "18b1a861-afef-4fff-bc80-d02e05be18c4       [653c9723-b374-4ad3-9cef-0f7e7f45d812, 4886]   \n",
       "309fdbfc-227b-4588-9264-f0f4e3cadfcb  [90396347-473b-4fba-8b1d-a1d25ea18b6b, a22b33f...   \n",
       "\n",
       "                                                                                  edges  \\\n",
       "pub_id                                                                                    \n",
       "400818dc-63af-4a26-80c5-906f98e1f8ab  [(7131, 4327), (7131, 5425), (7131, 7466), (71...   \n",
       "18b1a861-afef-4fff-bc80-d02e05be18c4     [(653c9723-b374-4ad3-9cef-0f7e7f45d812, 4886)]   \n",
       "309fdbfc-227b-4588-9264-f0f4e3cadfcb  [(90396347-473b-4fba-8b1d-a1d25ea18b6b, a22b33...   \n",
       "\n",
       "                                                                           collab_poinf  \\\n",
       "pub_id                                                                                    \n",
       "400818dc-63af-4a26-80c5-906f98e1f8ab             [a78a09b5-138e-407e-8c09-34414853eb20]   \n",
       "18b1a861-afef-4fff-bc80-d02e05be18c4             [653c9723-b374-4ad3-9cef-0f7e7f45d812]   \n",
       "309fdbfc-227b-4588-9264-f0f4e3cadfcb  [90396347-473b-4fba-8b1d-a1d25ea18b6b, a22b33f...   \n",
       "\n",
       "                                      nb_poinf  \n",
       "pub_id                                          \n",
       "400818dc-63af-4a26-80c5-906f98e1f8ab         1  \n",
       "18b1a861-afef-4fff-bc80-d02e05be18c4         1  \n",
       "309fdbfc-227b-4588-9264-f0f4e3cadfcb         2  "
      ]
     },
     "execution_count": 78,
     "metadata": {},
     "output_type": "execute_result"
    }
   ],
   "source": [
    "lookup_pub.head(3)"
   ]
  },
  {
   "cell_type": "markdown",
   "metadata": {},
   "source": [
    "## Store the dataset"
   ]
  },
  {
   "cell_type": "code",
   "execution_count": 83,
   "metadata": {
    "ExecuteTime": {
     "end_time": "2018-04-04T13:35:34.757694Z",
     "start_time": "2018-04-04T13:35:34.665119Z"
    },
    "deletable": false,
    "editable": false,
    "run_control": {
     "frozen": true
    }
   },
   "outputs": [],
   "source": [
    "lookup_pub.to_pickle('../data_schoolofinf/lookup_pub.pkl')"
   ]
  },
  {
   "cell_type": "code",
   "execution_count": 80,
   "metadata": {
    "ExecuteTime": {
     "end_time": "2018-04-04T13:32:55.641892Z",
     "start_time": "2018-04-04T13:32:55.421600Z"
    },
    "deletable": false,
    "editable": false,
    "run_control": {
     "frozen": true
    }
   },
   "outputs": [],
   "source": [
    "# Write the dataset to csv file for portability:\n",
    "lookup_pub.to_csv(\n",
    "    path_or_buf='../data_schoolofinf/lookup_pub.csv',\n",
    "    header=True,\n",
    "    index=True,\n",
    "    index_label='pub_id')"
   ]
  },
  {
   "cell_type": "code",
   "execution_count": 81,
   "metadata": {
    "ExecuteTime": {
     "end_time": "2018-04-04T13:32:55.656387Z",
     "start_time": "2018-04-04T13:32:55.643738Z"
    },
    "deletable": false,
    "editable": false,
    "run_control": {
     "frozen": true
    }
   },
   "outputs": [],
   "source": [
    "# store the mapping for external collab:\n",
    "pkl.dump(lookup_ext_academic, open('../data_schoolofinf/lookup_ext_academic.pkl','wb'))\n",
    "with open('../data_schoolofinf/lookup_ext_academic.csv','w') as f:\n",
    "    for k,v in lookup_ext_academic.items():\n",
    "        f.write('{},{}\\n'.format(k,v))"
   ]
  },
  {
   "cell_type": "markdown",
   "metadata": {},
   "source": [
    "# Add information on`lookup_poinf`"
   ]
  },
  {
   "cell_type": "code",
   "execution_count": 88,
   "metadata": {
    "ExecuteTime": {
     "end_time": "2018-04-04T13:39:46.539672Z",
     "start_time": "2018-04-04T13:39:46.530377Z"
    }
   },
   "outputs": [],
   "source": [
    "# 1) First publication\n",
    "def get_firstPublishDate(poinf_id, lookup_pub):\n",
    "    \n",
    "    for collab in lookup_pub.iterrows():\n",
    "        poinf_collabs = collab[1]['collab_poinf']\n",
    "        if poinf_id in poinf_collabs:\n",
    "            return int(collab[1]['year'])\n",
    "    return None"
   ]
  },
  {
   "cell_type": "code",
   "execution_count": 89,
   "metadata": {
    "ExecuteTime": {
     "end_time": "2018-04-04T13:40:31.779504Z",
     "start_time": "2018-04-04T13:39:47.510834Z"
    }
   },
   "outputs": [],
   "source": [
    "lookup_poinf['first_pub_year'] = lookup_poinf.index.map(lambda x: get_firstPublishDate(x,lookup_pub))"
   ]
  },
  {
   "cell_type": "markdown",
   "metadata": {},
   "source": [
    "## investigate researchers w/o publications"
   ]
  },
  {
   "cell_type": "code",
   "execution_count": 90,
   "metadata": {
    "ExecuteTime": {
     "end_time": "2018-04-04T13:40:32.644867Z",
     "start_time": "2018-04-04T13:40:32.638877Z"
    }
   },
   "outputs": [
    {
     "data": {
      "text/plain": [
       "unknown                                                  36\n",
       "institute of language cognition and computation           7\n",
       "laboratory for foundations of computer science            5\n",
       "neuroinformatics dtc                                      4\n",
       "institute of perception action and behaviour              4\n",
       "institute for computing systems architecture              4\n",
       "centre for intelligent systems and their applications     3\n",
       "institute for adaptive and neural computation             1\n",
       "Name: institute, dtype: int64"
      ]
     },
     "execution_count": 90,
     "metadata": {},
     "output_type": "execute_result"
    }
   ],
   "source": [
    "lookup_poinf[lookup_poinf.first_pub_year.isna()].institute.str.lower().value_counts()"
   ]
  },
  {
   "cell_type": "code",
   "execution_count": 91,
   "metadata": {
    "ExecuteTime": {
     "end_time": "2018-04-04T13:40:32.679442Z",
     "start_time": "2018-04-04T13:40:32.646458Z"
    }
   },
   "outputs": [
    {
     "data": {
      "text/plain": [
       "visitor official visitor                         20\n",
       "research associate                               12\n",
       "unknown                                           9\n",
       "research assistant                                5\n",
       "visitor non payroll staff                         3\n",
       "uoe honorary staff                                3\n",
       "visitor staff uoe associated institution          3\n",
       "visitor default visitor                           2\n",
       "research associate in speech synthesis            1\n",
       "marie curie earlystage researcher                 1\n",
       "personal chair in computer science                1\n",
       "lecturer reader in image and vision computing     1\n",
       "uoe temporary staff                               1\n",
       "visitor post graduate worker                      1\n",
       "visitor staff  non uk hei                         1\n",
       "Name: position, dtype: int64"
      ]
     },
     "execution_count": 91,
     "metadata": {},
     "output_type": "execute_result"
    }
   ],
   "source": [
    "lookup_poinf[lookup_poinf.first_pub_year.isna()].position.str.lower().value_counts()"
   ]
  },
  {
   "cell_type": "code",
   "execution_count": 92,
   "metadata": {
    "ExecuteTime": {
     "end_time": "2018-04-04T13:40:32.708078Z",
     "start_time": "2018-04-04T13:40:32.681253Z"
    }
   },
   "outputs": [
    {
     "data": {
      "text/plain": [
       "64"
      ]
     },
     "execution_count": 92,
     "metadata": {},
     "output_type": "execute_result"
    }
   ],
   "source": [
    "len(lookup_poinf[lookup_poinf.first_pub_year.isna()])"
   ]
  },
  {
   "cell_type": "code",
   "execution_count": 95,
   "metadata": {
    "ExecuteTime": {
     "end_time": "2018-04-04T13:41:55.320760Z",
     "start_time": "2018-04-04T13:41:55.302462Z"
    }
   },
   "outputs": [],
   "source": [
    "# total number of publications\n",
    "# we are intersted in three periods: total in collection, 1997-2017 and 2012-2017\n",
    "def count_pubs(poinf_id, lookup_pub, lower_limit=None, upper_limit=None):\n",
    "    count = 0\n",
    "    if lower_limit and upper_limit:\n",
    "        _lookup_pub = lookup_pub[(lookup_pub.year.ge(lower_limit)\n",
    "                                  & lookup_pub.year.le(upper_limit))]\n",
    "    else:\n",
    "        _lookup_pub = lookup_pub\n",
    "    for pub in _lookup_pub.iterrows():\n",
    "        poinf_collabs = pub[1]['collab_poinf']\n",
    "        if poinf_id in poinf_collabs:\n",
    "            count += 1\n",
    "    return count"
   ]
  },
  {
   "cell_type": "code",
   "execution_count": 96,
   "metadata": {
    "ExecuteTime": {
     "end_time": "2018-04-04T13:44:36.103140Z",
     "start_time": "2018-04-04T13:41:56.281258Z"
    }
   },
   "outputs": [],
   "source": [
    "lookup_poinf['total_pub'] = lookup_poinf.index.map(lambda x: count_pubs(x, lookup_pub))"
   ]
  },
  {
   "cell_type": "code",
   "execution_count": 97,
   "metadata": {
    "ExecuteTime": {
     "end_time": "2018-04-04T13:48:10.066652Z",
     "start_time": "2018-04-04T13:44:36.993172Z"
    }
   },
   "outputs": [],
   "source": [
    "lookup_poinf['total_pub_1997'] = lookup_poinf.index.map(lambda x: count_pubs(x,\n",
    "                                                                             lookup_pub, \n",
    "                                                                             lower_limit=1997, upper_limit=2017))\n",
    "lookup_poinf['total_pub_2012'] = lookup_poinf.index.map(lambda x: count_pubs(x,\n",
    "                                                                             lookup_pub,\n",
    "                                                                             lower_limit=2012, upper_limit=2017))"
   ]
  },
  {
   "cell_type": "code",
   "execution_count": 98,
   "metadata": {
    "ExecuteTime": {
     "end_time": "2018-04-04T13:48:10.976841Z",
     "start_time": "2018-04-04T13:48:10.969804Z"
    }
   },
   "outputs": [
    {
     "name": "stdout",
     "output_type": "stream",
     "text": [
      "<class 'pandas.core.frame.DataFrame'>\n",
      "Index: 288 entries, 23d17ab4-123f-4929-9373-763bd7587df8 to ccd9cd8c-9aee-4ede-a388-f82641ee8d29\n",
      "Data columns (total 13 columns):\n",
      "last_name          288 non-null object\n",
      "first_name         288 non-null object\n",
      "personal_url       288 non-null object\n",
      "position           288 non-null object\n",
      "parent             288 non-null object\n",
      "institute          288 non-null object\n",
      "full_name          288 non-null object\n",
      "institute_class    288 non-null int64\n",
      "alias              229 non-null object\n",
      "first_pub_year     224 non-null float64\n",
      "total_pub          288 non-null int64\n",
      "total_pub_1997     288 non-null int64\n",
      "total_pub_2012     288 non-null int64\n",
      "dtypes: float64(1), int64(4), object(8)\n",
      "memory usage: 41.5+ KB\n"
     ]
    }
   ],
   "source": [
    "lookup_poinf.info()"
   ]
  },
  {
   "cell_type": "markdown",
   "metadata": {},
   "source": [
    "# Create `pub_mapping`"
   ]
  },
  {
   "cell_type": "code",
   "execution_count": 99,
   "metadata": {
    "ExecuteTime": {
     "end_time": "2018-04-04T13:49:59.588999Z",
     "start_time": "2018-04-04T13:49:59.499568Z"
    }
   },
   "outputs": [],
   "source": [
    "lookup_poinf = pd.read_pickle('../data_schoolofinf/lookup_poinf.pkl')\n",
    "lookup_pub = pd.read_pickle('../data_schoolofinf/lookup_pub.pkl')"
   ]
  },
  {
   "cell_type": "code",
   "execution_count": 100,
   "metadata": {
    "ExecuteTime": {
     "end_time": "2018-04-04T13:49:59.598888Z",
     "start_time": "2018-04-04T13:49:59.590840Z"
    }
   },
   "outputs": [],
   "source": [
    "DATA_DIR = '../../data/data_schoolofinf'\n",
    "df_pubmapping = pd.read_pickle(\n",
    "        os.path.join(DATA_DIR, 'poinf_to_pub_mapping.pkl'))"
   ]
  },
  {
   "cell_type": "code",
   "execution_count": 101,
   "metadata": {
    "ExecuteTime": {
     "end_time": "2018-04-04T13:49:59.631266Z",
     "start_time": "2018-04-04T13:49:59.600972Z"
    }
   },
   "outputs": [
    {
     "data": {
      "text/html": [
       "<div>\n",
       "<style scoped>\n",
       "    .dataframe tbody tr th:only-of-type {\n",
       "        vertical-align: middle;\n",
       "    }\n",
       "\n",
       "    .dataframe tbody tr th {\n",
       "        vertical-align: top;\n",
       "    }\n",
       "\n",
       "    .dataframe thead th {\n",
       "        text-align: right;\n",
       "    }\n",
       "</style>\n",
       "<table border=\"1\" class=\"dataframe\">\n",
       "  <thead>\n",
       "    <tr style=\"text-align: right;\">\n",
       "      <th></th>\n",
       "      <th>id</th>\n",
       "      <th>pub_ids</th>\n",
       "    </tr>\n",
       "  </thead>\n",
       "  <tbody>\n",
       "    <tr>\n",
       "      <th>0</th>\n",
       "      <td>032aa96c-607a-4357-a6e6-ab8499142b4a</td>\n",
       "      <td>{}</td>\n",
       "    </tr>\n",
       "    <tr>\n",
       "      <th>1</th>\n",
       "      <td>9b178bbd-a1bc-4aaf-aad4-25c30eb3f498</td>\n",
       "      <td>{5bbc102e-755c-4a9b-8ac7-38ffcfd12ce1}</td>\n",
       "    </tr>\n",
       "    <tr>\n",
       "      <th>2</th>\n",
       "      <td>f114fb6f-9c71-4c26-bb75-d4d3f70d2bb6</td>\n",
       "      <td>{}</td>\n",
       "    </tr>\n",
       "  </tbody>\n",
       "</table>\n",
       "</div>"
      ],
      "text/plain": [
       "                                     id  \\\n",
       "0  032aa96c-607a-4357-a6e6-ab8499142b4a   \n",
       "1  9b178bbd-a1bc-4aaf-aad4-25c30eb3f498   \n",
       "2  f114fb6f-9c71-4c26-bb75-d4d3f70d2bb6   \n",
       "\n",
       "                                  pub_ids  \n",
       "0                                      {}  \n",
       "1  {5bbc102e-755c-4a9b-8ac7-38ffcfd12ce1}  \n",
       "2                                      {}  "
      ]
     },
     "execution_count": 101,
     "metadata": {},
     "output_type": "execute_result"
    }
   ],
   "source": [
    "df_pubmapping.head(3)"
   ]
  },
  {
   "cell_type": "code",
   "execution_count": 102,
   "metadata": {
    "ExecuteTime": {
     "end_time": "2018-04-04T13:50:00.185779Z",
     "start_time": "2018-04-04T13:49:59.633391Z"
    }
   },
   "outputs": [],
   "source": [
    "d = {}\n",
    "with open('../data_schoolofinf/poinf2pub.csv','w') as f:\n",
    "    f.write('id,pub_id\\n') # header\n",
    "    for indv in lookup_poinf.index.tolist():\n",
    "        d[indv] = set()\n",
    "        for pub_id, collab_id in lookup_pub.collab_id.iteritems():\n",
    "            if indv in collab_id:\n",
    "                d[indv].add(pub_id)\n",
    "        f.write('{},\"{}\"\\n'.format(indv, \",\".join(list(d[indv]))))"
   ]
  },
  {
   "cell_type": "code",
   "execution_count": 104,
   "metadata": {
    "ExecuteTime": {
     "end_time": "2018-04-04T13:50:23.863206Z",
     "start_time": "2018-04-04T13:50:23.850054Z"
    }
   },
   "outputs": [],
   "source": [
    "import numpy as np\n",
    "def get_pub_ids(poinf_id, dict_mapping):\n",
    "    r= d[poinf_id]\n",
    "    if len(r):\n",
    "        return r\n",
    "    else:\n",
    "        return np.NaN\n",
    "    \n",
    "lookup_poinf['pub_ids'] = lookup_poinf.index.map(lambda x: get_pub_ids(x,d))"
   ]
  },
  {
   "cell_type": "code",
   "execution_count": 105,
   "metadata": {
    "ExecuteTime": {
     "end_time": "2018-04-04T13:50:24.989452Z",
     "start_time": "2018-04-04T13:50:24.971572Z"
    }
   },
   "outputs": [
    {
     "data": {
      "text/html": [
       "<div>\n",
       "<style scoped>\n",
       "    .dataframe tbody tr th:only-of-type {\n",
       "        vertical-align: middle;\n",
       "    }\n",
       "\n",
       "    .dataframe tbody tr th {\n",
       "        vertical-align: top;\n",
       "    }\n",
       "\n",
       "    .dataframe thead th {\n",
       "        text-align: right;\n",
       "    }\n",
       "</style>\n",
       "<table border=\"1\" class=\"dataframe\">\n",
       "  <thead>\n",
       "    <tr style=\"text-align: right;\">\n",
       "      <th></th>\n",
       "      <th>last_name</th>\n",
       "      <th>first_name</th>\n",
       "      <th>personal_url</th>\n",
       "      <th>position</th>\n",
       "      <th>parent</th>\n",
       "      <th>institute</th>\n",
       "      <th>full_name</th>\n",
       "      <th>institute_class</th>\n",
       "      <th>alias</th>\n",
       "      <th>first_pub_year</th>\n",
       "      <th>total_pub</th>\n",
       "      <th>total_pub_1997</th>\n",
       "      <th>total_pub_2012</th>\n",
       "      <th>pub_ids</th>\n",
       "    </tr>\n",
       "    <tr>\n",
       "      <th>id</th>\n",
       "      <th></th>\n",
       "      <th></th>\n",
       "      <th></th>\n",
       "      <th></th>\n",
       "      <th></th>\n",
       "      <th></th>\n",
       "      <th></th>\n",
       "      <th></th>\n",
       "      <th></th>\n",
       "      <th></th>\n",
       "      <th></th>\n",
       "      <th></th>\n",
       "      <th></th>\n",
       "      <th></th>\n",
       "    </tr>\n",
       "  </thead>\n",
       "  <tbody>\n",
       "    <tr>\n",
       "      <th>23d17ab4-123f-4929-9373-763bd7587df8</th>\n",
       "      <td>alay</td>\n",
       "      <td>ozgu</td>\n",
       "      <td>http://www.research.ed.ac.uk/portal/en/persons...</td>\n",
       "      <td>visitor official visitor</td>\n",
       "      <td>school of informatics</td>\n",
       "      <td>UNKNOWN</td>\n",
       "      <td>alay ozgu</td>\n",
       "      <td>0</td>\n",
       "      <td>NaN</td>\n",
       "      <td>NaN</td>\n",
       "      <td>0</td>\n",
       "      <td>0</td>\n",
       "      <td>0</td>\n",
       "      <td>NaN</td>\n",
       "    </tr>\n",
       "    <tr>\n",
       "      <th>d089bb44-7d0b-4b3f-b556-27def993d1d1</th>\n",
       "      <td>albrecht</td>\n",
       "      <td>stefano</td>\n",
       "      <td>http://www.research.ed.ac.uk/portal/en/persons...</td>\n",
       "      <td>lecturer in artificial intelligence</td>\n",
       "      <td>school of informatics</td>\n",
       "      <td>centre for intelligent systems and their appli...</td>\n",
       "      <td>albrecht stefano</td>\n",
       "      <td>1</td>\n",
       "      <td>albrecht, s. v.|albrecht, s.</td>\n",
       "      <td>2014.0</td>\n",
       "      <td>12</td>\n",
       "      <td>12</td>\n",
       "      <td>12</td>\n",
       "      <td>{8399f53e-73e5-42f1-ba10-4846ff911f2a, f82f110...</td>\n",
       "    </tr>\n",
       "    <tr>\n",
       "      <th>ecd799fb-4f63-44ae-a078-b009099f2c8c</th>\n",
       "      <td>alex</td>\n",
       "      <td>beatrice</td>\n",
       "      <td>http://www.research.ed.ac.uk/portal/en/persons...</td>\n",
       "      <td>research fellow</td>\n",
       "      <td>school of informatics</td>\n",
       "      <td>institute of language cognition and computation</td>\n",
       "      <td>alex beatrice</td>\n",
       "      <td>2</td>\n",
       "      <td>alex, b.  (ed.)|alex, b.|symington, b.</td>\n",
       "      <td>2012.0</td>\n",
       "      <td>43</td>\n",
       "      <td>43</td>\n",
       "      <td>20</td>\n",
       "      <td>{6b8df6e9-705a-43be-bdce-8b612e39e71d, 130fe45...</td>\n",
       "    </tr>\n",
       "  </tbody>\n",
       "</table>\n",
       "</div>"
      ],
      "text/plain": [
       "                                     last_name first_name  \\\n",
       "id                                                          \n",
       "23d17ab4-123f-4929-9373-763bd7587df8      alay       ozgu   \n",
       "d089bb44-7d0b-4b3f-b556-27def993d1d1  albrecht    stefano   \n",
       "ecd799fb-4f63-44ae-a078-b009099f2c8c      alex   beatrice   \n",
       "\n",
       "                                                                           personal_url  \\\n",
       "id                                                                                        \n",
       "23d17ab4-123f-4929-9373-763bd7587df8  http://www.research.ed.ac.uk/portal/en/persons...   \n",
       "d089bb44-7d0b-4b3f-b556-27def993d1d1  http://www.research.ed.ac.uk/portal/en/persons...   \n",
       "ecd799fb-4f63-44ae-a078-b009099f2c8c  http://www.research.ed.ac.uk/portal/en/persons...   \n",
       "\n",
       "                                                                 position  \\\n",
       "id                                                                          \n",
       "23d17ab4-123f-4929-9373-763bd7587df8             visitor official visitor   \n",
       "d089bb44-7d0b-4b3f-b556-27def993d1d1  lecturer in artificial intelligence   \n",
       "ecd799fb-4f63-44ae-a078-b009099f2c8c                      research fellow   \n",
       "\n",
       "                                                     parent  \\\n",
       "id                                                            \n",
       "23d17ab4-123f-4929-9373-763bd7587df8  school of informatics   \n",
       "d089bb44-7d0b-4b3f-b556-27def993d1d1  school of informatics   \n",
       "ecd799fb-4f63-44ae-a078-b009099f2c8c  school of informatics   \n",
       "\n",
       "                                                                              institute  \\\n",
       "id                                                                                        \n",
       "23d17ab4-123f-4929-9373-763bd7587df8                                            UNKNOWN   \n",
       "d089bb44-7d0b-4b3f-b556-27def993d1d1  centre for intelligent systems and their appli...   \n",
       "ecd799fb-4f63-44ae-a078-b009099f2c8c    institute of language cognition and computation   \n",
       "\n",
       "                                             full_name  institute_class  \\\n",
       "id                                                                        \n",
       "23d17ab4-123f-4929-9373-763bd7587df8         alay ozgu                0   \n",
       "d089bb44-7d0b-4b3f-b556-27def993d1d1  albrecht stefano                1   \n",
       "ecd799fb-4f63-44ae-a078-b009099f2c8c     alex beatrice                2   \n",
       "\n",
       "                                                                       alias  \\\n",
       "id                                                                             \n",
       "23d17ab4-123f-4929-9373-763bd7587df8                                     NaN   \n",
       "d089bb44-7d0b-4b3f-b556-27def993d1d1            albrecht, s. v.|albrecht, s.   \n",
       "ecd799fb-4f63-44ae-a078-b009099f2c8c  alex, b.  (ed.)|alex, b.|symington, b.   \n",
       "\n",
       "                                      first_pub_year  total_pub  \\\n",
       "id                                                                \n",
       "23d17ab4-123f-4929-9373-763bd7587df8             NaN          0   \n",
       "d089bb44-7d0b-4b3f-b556-27def993d1d1          2014.0         12   \n",
       "ecd799fb-4f63-44ae-a078-b009099f2c8c          2012.0         43   \n",
       "\n",
       "                                      total_pub_1997  total_pub_2012  \\\n",
       "id                                                                     \n",
       "23d17ab4-123f-4929-9373-763bd7587df8               0               0   \n",
       "d089bb44-7d0b-4b3f-b556-27def993d1d1              12              12   \n",
       "ecd799fb-4f63-44ae-a078-b009099f2c8c              43              20   \n",
       "\n",
       "                                                                                pub_ids  \n",
       "id                                                                                       \n",
       "23d17ab4-123f-4929-9373-763bd7587df8                                                NaN  \n",
       "d089bb44-7d0b-4b3f-b556-27def993d1d1  {8399f53e-73e5-42f1-ba10-4846ff911f2a, f82f110...  \n",
       "ecd799fb-4f63-44ae-a078-b009099f2c8c  {6b8df6e9-705a-43be-bdce-8b612e39e71d, 130fe45...  "
      ]
     },
     "execution_count": 105,
     "metadata": {},
     "output_type": "execute_result"
    }
   ],
   "source": [
    "lookup_poinf.head(3)"
   ]
  },
  {
   "cell_type": "code",
   "execution_count": 106,
   "metadata": {
    "ExecuteTime": {
     "end_time": "2018-04-04T13:50:32.139693Z",
     "start_time": "2018-04-04T13:50:31.962325Z"
    }
   },
   "outputs": [
    {
     "name": "stdout",
     "output_type": "stream",
     "text": [
      "before=288\n",
      "after=224\n"
     ]
    },
    {
     "name": "stderr",
     "output_type": "stream",
     "text": [
      "/afs/inf.ed.ac.uk/user/s14/s1450710/miniconda3/envs/infnet3/lib/python3.6/site-packages/ipykernel_launcher.py:3: SettingWithCopyWarning: \n",
      "A value is trying to be set on a copy of a slice from a DataFrame\n",
      "\n",
      "See the caveats in the documentation: http://pandas.pydata.org/pandas-docs/stable/indexing.html#indexing-view-versus-copy\n",
      "  This is separate from the ipykernel package so we can avoid doing imports until\n"
     ]
    }
   ],
   "source": [
    "poinf2pub_mapping = lookup_poinf[['pub_ids']]\n",
    "print(('before={}'.format(len(poinf2pub_mapping))))\n",
    "poinf2pub_mapping.dropna(inplace=True)\n",
    "print(('after={}'.format(len(poinf2pub_mapping))))"
   ]
  },
  {
   "cell_type": "code",
   "execution_count": 108,
   "metadata": {
    "ExecuteTime": {
     "end_time": "2018-04-04T13:51:36.030235Z",
     "start_time": "2018-04-04T13:51:36.014970Z"
    },
    "deletable": false,
    "editable": false,
    "run_control": {
     "frozen": true
    }
   },
   "outputs": [],
   "source": [
    "import pickle as pkl\n",
    "pkl.dump(d, open('../data_schoolofinf/poinf2pub.dict.pkl', 'wb'))\n",
    "poinf2pub_mapping.to_pickle('../data_schoolofinf/poinf2pub.df.pkl')"
   ]
  },
  {
   "cell_type": "code",
   "execution_count": 109,
   "metadata": {
    "ExecuteTime": {
     "end_time": "2018-04-04T13:51:36.079574Z",
     "start_time": "2018-04-04T13:51:36.049071Z"
    },
    "deletable": false,
    "editable": false,
    "run_control": {
     "frozen": true
    }
   },
   "outputs": [],
   "source": [
    "# Write the lookup_poinf to the index:\n",
    "lookup_poinf.to_csv(\n",
    "    path_or_buf='../data_schoolofinf/lookup_poinf.csv',\n",
    "    index=True,\n",
    "    index_label='id',\n",
    "    header=True)"
   ]
  },
  {
   "cell_type": "code",
   "execution_count": 110,
   "metadata": {
    "ExecuteTime": {
     "end_time": "2018-04-04T13:51:36.088932Z",
     "start_time": "2018-04-04T13:51:36.081826Z"
    },
    "deletable": false,
    "editable": false,
    "run_control": {
     "frozen": true
    }
   },
   "outputs": [],
   "source": [
    "lookup_poinf.to_pickle(path='../data_schoolofinf/lookup_poinf.pkl')"
   ]
  },
  {
   "cell_type": "markdown",
   "metadata": {},
   "source": [
    "---\n",
    "# Visualising data, generative statistics\n",
    "Gen graphs for report"
   ]
  },
  {
   "cell_type": "code",
   "execution_count": 1,
   "metadata": {
    "ExecuteTime": {
     "end_time": "2018-04-05T12:21:05.745994Z",
     "start_time": "2018-04-05T12:20:59.653003Z"
    }
   },
   "outputs": [],
   "source": [
    "%matplotlib inline\n",
    "import matplotlib.pyplot as plt\n",
    "import seaborn as sns\n",
    "import pandas as pd\n",
    "import pickle as pkl\n",
    "import network_artist as artist\n",
    "plt.style.use(['seaborn-poster'])\n",
    "INST = [\n",
    "    \"institute for adaptive and neural computation\",\n",
    "    \"institute for computing systems architecture\",\n",
    "    \"institute of language cognition and computation\",\n",
    "    \"institute of perception action and behaviour\",\n",
    "    \"laboratory for foundations of computer science\",\n",
    "    \"centre for intelligent systems and their applications\",\n",
    "    \"neuroinformatics dtc\"\n",
    "]"
   ]
  },
  {
   "cell_type": "code",
   "execution_count": 2,
   "metadata": {
    "ExecuteTime": {
     "end_time": "2018-04-05T12:21:06.013014Z",
     "start_time": "2018-04-05T12:21:05.753183Z"
    }
   },
   "outputs": [],
   "source": [
    "# import data\n",
    "lookup_pub = pd.read_pickle('../data_schoolofinf/lookup_pub.pkl')\n",
    "lookup_poinf = pd.read_pickle('../data_schoolofinf/lookup_poinf.pkl')\n",
    "institute = pkl.load(open('../data_schoolofinf/institutes.pkl','rb'))"
   ]
  },
  {
   "cell_type": "code",
   "execution_count": 3,
   "metadata": {
    "ExecuteTime": {
     "end_time": "2018-04-05T12:21:06.390454Z",
     "start_time": "2018-04-05T12:21:06.353191Z"
    },
    "scrolled": false
   },
   "outputs": [
    {
     "data": {
      "text/html": [
       "<div>\n",
       "<style scoped>\n",
       "    .dataframe tbody tr th:only-of-type {\n",
       "        vertical-align: middle;\n",
       "    }\n",
       "\n",
       "    .dataframe tbody tr th {\n",
       "        vertical-align: top;\n",
       "    }\n",
       "\n",
       "    .dataframe thead th {\n",
       "        text-align: right;\n",
       "    }\n",
       "</style>\n",
       "<table border=\"1\" class=\"dataframe\">\n",
       "  <thead>\n",
       "    <tr style=\"text-align: right;\">\n",
       "      <th></th>\n",
       "      <th>year</th>\n",
       "      <th>title</th>\n",
       "      <th>authors</th>\n",
       "      <th>shortnames</th>\n",
       "      <th>nb_authors</th>\n",
       "      <th>nb_shortnames</th>\n",
       "      <th>collab_id</th>\n",
       "      <th>edges</th>\n",
       "      <th>collab_poinf</th>\n",
       "      <th>nb_poinf</th>\n",
       "    </tr>\n",
       "    <tr>\n",
       "      <th>pub_id</th>\n",
       "      <th></th>\n",
       "      <th></th>\n",
       "      <th></th>\n",
       "      <th></th>\n",
       "      <th></th>\n",
       "      <th></th>\n",
       "      <th></th>\n",
       "      <th></th>\n",
       "      <th></th>\n",
       "      <th></th>\n",
       "    </tr>\n",
       "  </thead>\n",
       "  <tbody>\n",
       "    <tr>\n",
       "      <th>400818dc-63af-4a26-80c5-906f98e1f8ab</th>\n",
       "      <td>1989</td>\n",
       "      <td>ballooning stability analysis of jet hmode dis...</td>\n",
       "      <td>[d.p. o'brien, r. galvao, m. keilhacker, e. la...</td>\n",
       "      <td>[brien, d. p., galvao, r., keilhacker, m., laz...</td>\n",
       "      <td>6</td>\n",
       "      <td>6</td>\n",
       "      <td>[7131, 4327, 5425, 7466, 3245, a78a09b5-138e-4...</td>\n",
       "      <td>[(7131, 4327), (7131, 5425), (7131, 7466), (71...</td>\n",
       "      <td>[a78a09b5-138e-407e-8c09-34414853eb20]</td>\n",
       "      <td>1</td>\n",
       "    </tr>\n",
       "    <tr>\n",
       "      <th>18b1a861-afef-4fff-bc80-d02e05be18c4</th>\n",
       "      <td>2013</td>\n",
       "      <td>query processing in data integration</td>\n",
       "      <td>[paolo guagliardo, piotr wieczorek]</td>\n",
       "      <td>[guagliardo, p., wieczorek, p.]</td>\n",
       "      <td>2</td>\n",
       "      <td>2</td>\n",
       "      <td>[653c9723-b374-4ad3-9cef-0f7e7f45d812, 4886]</td>\n",
       "      <td>[(653c9723-b374-4ad3-9cef-0f7e7f45d812, 4886)]</td>\n",
       "      <td>[653c9723-b374-4ad3-9cef-0f7e7f45d812]</td>\n",
       "      <td>1</td>\n",
       "    </tr>\n",
       "    <tr>\n",
       "      <th>309fdbfc-227b-4588-9264-f0f4e3cadfcb</th>\n",
       "      <td>1994</td>\n",
       "      <td>comprehension syntax</td>\n",
       "      <td>[p. buneman, l. libkin, d. suciu, v. tannen, l...</td>\n",
       "      <td>[buneman, p., libkin, l., suciu, d., tannen, v...</td>\n",
       "      <td>5</td>\n",
       "      <td>5</td>\n",
       "      <td>[90396347-473b-4fba-8b1d-a1d25ea18b6b, a22b33f...</td>\n",
       "      <td>[(90396347-473b-4fba-8b1d-a1d25ea18b6b, a22b33...</td>\n",
       "      <td>[90396347-473b-4fba-8b1d-a1d25ea18b6b, a22b33f...</td>\n",
       "      <td>2</td>\n",
       "    </tr>\n",
       "  </tbody>\n",
       "</table>\n",
       "</div>"
      ],
      "text/plain": [
       "                                      year  \\\n",
       "pub_id                                       \n",
       "400818dc-63af-4a26-80c5-906f98e1f8ab  1989   \n",
       "18b1a861-afef-4fff-bc80-d02e05be18c4  2013   \n",
       "309fdbfc-227b-4588-9264-f0f4e3cadfcb  1994   \n",
       "\n",
       "                                                                                  title  \\\n",
       "pub_id                                                                                    \n",
       "400818dc-63af-4a26-80c5-906f98e1f8ab  ballooning stability analysis of jet hmode dis...   \n",
       "18b1a861-afef-4fff-bc80-d02e05be18c4               query processing in data integration   \n",
       "309fdbfc-227b-4588-9264-f0f4e3cadfcb                               comprehension syntax   \n",
       "\n",
       "                                                                                authors  \\\n",
       "pub_id                                                                                    \n",
       "400818dc-63af-4a26-80c5-906f98e1f8ab  [d.p. o'brien, r. galvao, m. keilhacker, e. la...   \n",
       "18b1a861-afef-4fff-bc80-d02e05be18c4                [paolo guagliardo, piotr wieczorek]   \n",
       "309fdbfc-227b-4588-9264-f0f4e3cadfcb  [p. buneman, l. libkin, d. suciu, v. tannen, l...   \n",
       "\n",
       "                                                                             shortnames  \\\n",
       "pub_id                                                                                    \n",
       "400818dc-63af-4a26-80c5-906f98e1f8ab  [brien, d. p., galvao, r., keilhacker, m., laz...   \n",
       "18b1a861-afef-4fff-bc80-d02e05be18c4                    [guagliardo, p., wieczorek, p.]   \n",
       "309fdbfc-227b-4588-9264-f0f4e3cadfcb  [buneman, p., libkin, l., suciu, d., tannen, v...   \n",
       "\n",
       "                                      nb_authors  nb_shortnames  \\\n",
       "pub_id                                                            \n",
       "400818dc-63af-4a26-80c5-906f98e1f8ab           6              6   \n",
       "18b1a861-afef-4fff-bc80-d02e05be18c4           2              2   \n",
       "309fdbfc-227b-4588-9264-f0f4e3cadfcb           5              5   \n",
       "\n",
       "                                                                              collab_id  \\\n",
       "pub_id                                                                                    \n",
       "400818dc-63af-4a26-80c5-906f98e1f8ab  [7131, 4327, 5425, 7466, 3245, a78a09b5-138e-4...   \n",
       "18b1a861-afef-4fff-bc80-d02e05be18c4       [653c9723-b374-4ad3-9cef-0f7e7f45d812, 4886]   \n",
       "309fdbfc-227b-4588-9264-f0f4e3cadfcb  [90396347-473b-4fba-8b1d-a1d25ea18b6b, a22b33f...   \n",
       "\n",
       "                                                                                  edges  \\\n",
       "pub_id                                                                                    \n",
       "400818dc-63af-4a26-80c5-906f98e1f8ab  [(7131, 4327), (7131, 5425), (7131, 7466), (71...   \n",
       "18b1a861-afef-4fff-bc80-d02e05be18c4     [(653c9723-b374-4ad3-9cef-0f7e7f45d812, 4886)]   \n",
       "309fdbfc-227b-4588-9264-f0f4e3cadfcb  [(90396347-473b-4fba-8b1d-a1d25ea18b6b, a22b33...   \n",
       "\n",
       "                                                                           collab_poinf  \\\n",
       "pub_id                                                                                    \n",
       "400818dc-63af-4a26-80c5-906f98e1f8ab             [a78a09b5-138e-407e-8c09-34414853eb20]   \n",
       "18b1a861-afef-4fff-bc80-d02e05be18c4             [653c9723-b374-4ad3-9cef-0f7e7f45d812]   \n",
       "309fdbfc-227b-4588-9264-f0f4e3cadfcb  [90396347-473b-4fba-8b1d-a1d25ea18b6b, a22b33f...   \n",
       "\n",
       "                                      nb_poinf  \n",
       "pub_id                                          \n",
       "400818dc-63af-4a26-80c5-906f98e1f8ab         1  \n",
       "18b1a861-afef-4fff-bc80-d02e05be18c4         1  \n",
       "309fdbfc-227b-4588-9264-f0f4e3cadfcb         2  "
      ]
     },
     "execution_count": 3,
     "metadata": {},
     "output_type": "execute_result"
    }
   ],
   "source": [
    "lookup_pub.head(3)"
   ]
  },
  {
   "cell_type": "code",
   "execution_count": 4,
   "metadata": {
    "ExecuteTime": {
     "end_time": "2018-04-05T12:21:06.428382Z",
     "start_time": "2018-04-05T12:21:06.392333Z"
    }
   },
   "outputs": [
    {
     "data": {
      "text/html": [
       "<div>\n",
       "<style scoped>\n",
       "    .dataframe tbody tr th:only-of-type {\n",
       "        vertical-align: middle;\n",
       "    }\n",
       "\n",
       "    .dataframe tbody tr th {\n",
       "        vertical-align: top;\n",
       "    }\n",
       "\n",
       "    .dataframe thead th {\n",
       "        text-align: right;\n",
       "    }\n",
       "</style>\n",
       "<table border=\"1\" class=\"dataframe\">\n",
       "  <thead>\n",
       "    <tr style=\"text-align: right;\">\n",
       "      <th></th>\n",
       "      <th>last_name</th>\n",
       "      <th>first_name</th>\n",
       "      <th>personal_url</th>\n",
       "      <th>position</th>\n",
       "      <th>parent</th>\n",
       "      <th>institute</th>\n",
       "      <th>full_name</th>\n",
       "      <th>institute_class</th>\n",
       "      <th>alias</th>\n",
       "      <th>first_pub_year</th>\n",
       "      <th>total_pub</th>\n",
       "      <th>total_pub_1997</th>\n",
       "      <th>total_pub_2012</th>\n",
       "      <th>pub_ids</th>\n",
       "    </tr>\n",
       "    <tr>\n",
       "      <th>id</th>\n",
       "      <th></th>\n",
       "      <th></th>\n",
       "      <th></th>\n",
       "      <th></th>\n",
       "      <th></th>\n",
       "      <th></th>\n",
       "      <th></th>\n",
       "      <th></th>\n",
       "      <th></th>\n",
       "      <th></th>\n",
       "      <th></th>\n",
       "      <th></th>\n",
       "      <th></th>\n",
       "      <th></th>\n",
       "    </tr>\n",
       "  </thead>\n",
       "  <tbody>\n",
       "    <tr>\n",
       "      <th>23d17ab4-123f-4929-9373-763bd7587df8</th>\n",
       "      <td>alay</td>\n",
       "      <td>ozgu</td>\n",
       "      <td>http://www.research.ed.ac.uk/portal/en/persons...</td>\n",
       "      <td>visitor official visitor</td>\n",
       "      <td>school of informatics</td>\n",
       "      <td>UNKNOWN</td>\n",
       "      <td>alay ozgu</td>\n",
       "      <td>0</td>\n",
       "      <td>NaN</td>\n",
       "      <td>NaN</td>\n",
       "      <td>0</td>\n",
       "      <td>0</td>\n",
       "      <td>0</td>\n",
       "      <td>NaN</td>\n",
       "    </tr>\n",
       "    <tr>\n",
       "      <th>d089bb44-7d0b-4b3f-b556-27def993d1d1</th>\n",
       "      <td>albrecht</td>\n",
       "      <td>stefano</td>\n",
       "      <td>http://www.research.ed.ac.uk/portal/en/persons...</td>\n",
       "      <td>lecturer in artificial intelligence</td>\n",
       "      <td>school of informatics</td>\n",
       "      <td>centre for intelligent systems and their appli...</td>\n",
       "      <td>albrecht stefano</td>\n",
       "      <td>1</td>\n",
       "      <td>albrecht, s. v.|albrecht, s.</td>\n",
       "      <td>2014.0</td>\n",
       "      <td>12</td>\n",
       "      <td>12</td>\n",
       "      <td>12</td>\n",
       "      <td>{f250eafa-e98c-4aa9-be32-3fa1b7cf5654, adfbbf9...</td>\n",
       "    </tr>\n",
       "    <tr>\n",
       "      <th>ecd799fb-4f63-44ae-a078-b009099f2c8c</th>\n",
       "      <td>alex</td>\n",
       "      <td>beatrice</td>\n",
       "      <td>http://www.research.ed.ac.uk/portal/en/persons...</td>\n",
       "      <td>research fellow</td>\n",
       "      <td>school of informatics</td>\n",
       "      <td>institute of language cognition and computation</td>\n",
       "      <td>alex beatrice</td>\n",
       "      <td>2</td>\n",
       "      <td>alex, b.  (ed.)|alex, b.|symington, b.</td>\n",
       "      <td>2012.0</td>\n",
       "      <td>43</td>\n",
       "      <td>43</td>\n",
       "      <td>20</td>\n",
       "      <td>{ef6d26cd-7202-44fa-aa16-5eed1ce6caed, d0378fc...</td>\n",
       "    </tr>\n",
       "  </tbody>\n",
       "</table>\n",
       "</div>"
      ],
      "text/plain": [
       "                                     last_name first_name  \\\n",
       "id                                                          \n",
       "23d17ab4-123f-4929-9373-763bd7587df8      alay       ozgu   \n",
       "d089bb44-7d0b-4b3f-b556-27def993d1d1  albrecht    stefano   \n",
       "ecd799fb-4f63-44ae-a078-b009099f2c8c      alex   beatrice   \n",
       "\n",
       "                                                                           personal_url  \\\n",
       "id                                                                                        \n",
       "23d17ab4-123f-4929-9373-763bd7587df8  http://www.research.ed.ac.uk/portal/en/persons...   \n",
       "d089bb44-7d0b-4b3f-b556-27def993d1d1  http://www.research.ed.ac.uk/portal/en/persons...   \n",
       "ecd799fb-4f63-44ae-a078-b009099f2c8c  http://www.research.ed.ac.uk/portal/en/persons...   \n",
       "\n",
       "                                                                 position  \\\n",
       "id                                                                          \n",
       "23d17ab4-123f-4929-9373-763bd7587df8             visitor official visitor   \n",
       "d089bb44-7d0b-4b3f-b556-27def993d1d1  lecturer in artificial intelligence   \n",
       "ecd799fb-4f63-44ae-a078-b009099f2c8c                      research fellow   \n",
       "\n",
       "                                                     parent  \\\n",
       "id                                                            \n",
       "23d17ab4-123f-4929-9373-763bd7587df8  school of informatics   \n",
       "d089bb44-7d0b-4b3f-b556-27def993d1d1  school of informatics   \n",
       "ecd799fb-4f63-44ae-a078-b009099f2c8c  school of informatics   \n",
       "\n",
       "                                                                              institute  \\\n",
       "id                                                                                        \n",
       "23d17ab4-123f-4929-9373-763bd7587df8                                            UNKNOWN   \n",
       "d089bb44-7d0b-4b3f-b556-27def993d1d1  centre for intelligent systems and their appli...   \n",
       "ecd799fb-4f63-44ae-a078-b009099f2c8c    institute of language cognition and computation   \n",
       "\n",
       "                                             full_name  institute_class  \\\n",
       "id                                                                        \n",
       "23d17ab4-123f-4929-9373-763bd7587df8         alay ozgu                0   \n",
       "d089bb44-7d0b-4b3f-b556-27def993d1d1  albrecht stefano                1   \n",
       "ecd799fb-4f63-44ae-a078-b009099f2c8c     alex beatrice                2   \n",
       "\n",
       "                                                                       alias  \\\n",
       "id                                                                             \n",
       "23d17ab4-123f-4929-9373-763bd7587df8                                     NaN   \n",
       "d089bb44-7d0b-4b3f-b556-27def993d1d1            albrecht, s. v.|albrecht, s.   \n",
       "ecd799fb-4f63-44ae-a078-b009099f2c8c  alex, b.  (ed.)|alex, b.|symington, b.   \n",
       "\n",
       "                                      first_pub_year  total_pub  \\\n",
       "id                                                                \n",
       "23d17ab4-123f-4929-9373-763bd7587df8             NaN          0   \n",
       "d089bb44-7d0b-4b3f-b556-27def993d1d1          2014.0         12   \n",
       "ecd799fb-4f63-44ae-a078-b009099f2c8c          2012.0         43   \n",
       "\n",
       "                                      total_pub_1997  total_pub_2012  \\\n",
       "id                                                                     \n",
       "23d17ab4-123f-4929-9373-763bd7587df8               0               0   \n",
       "d089bb44-7d0b-4b3f-b556-27def993d1d1              12              12   \n",
       "ecd799fb-4f63-44ae-a078-b009099f2c8c              43              20   \n",
       "\n",
       "                                                                                pub_ids  \n",
       "id                                                                                       \n",
       "23d17ab4-123f-4929-9373-763bd7587df8                                                NaN  \n",
       "d089bb44-7d0b-4b3f-b556-27def993d1d1  {f250eafa-e98c-4aa9-be32-3fa1b7cf5654, adfbbf9...  \n",
       "ecd799fb-4f63-44ae-a078-b009099f2c8c  {ef6d26cd-7202-44fa-aa16-5eed1ce6caed, d0378fc...  "
      ]
     },
     "execution_count": 4,
     "metadata": {},
     "output_type": "execute_result"
    }
   ],
   "source": [
    "lookup_poinf.head(3)"
   ]
  },
  {
   "cell_type": "code",
   "execution_count": 5,
   "metadata": {
    "ExecuteTime": {
     "end_time": "2018-04-05T12:21:09.701199Z",
     "start_time": "2018-04-05T12:21:09.659855Z"
    }
   },
   "outputs": [
    {
     "name": "stdout",
     "output_type": "stream",
     "text": [
      "288\n",
      "212\n"
     ]
    }
   ],
   "source": [
    "print((len(lookup_poinf)))\n",
    "# remove those without publications, i.e. no first_pub_year\n",
    "lookup_poinf_concise = lookup_poinf.drop(\n",
    "    lookup_poinf[lookup_poinf.first_pub_year.isna()].index).drop(\n",
    "        lookup_poinf[lookup_poinf.first_pub_year.lt(1997)\n",
    "                     | lookup_poinf.first_pub_year.gt(2017)].index)\n",
    "print((len(lookup_poinf_concise)))"
   ]
  },
  {
   "cell_type": "code",
   "execution_count": 6,
   "metadata": {
    "ExecuteTime": {
     "end_time": "2018-04-05T12:21:09.717612Z",
     "start_time": "2018-04-05T12:21:09.703589Z"
    }
   },
   "outputs": [],
   "source": [
    "import numpy as np\n",
    "from matplotlib.ticker import ScalarFormatter"
   ]
  },
  {
   "cell_type": "code",
   "execution_count": 7,
   "metadata": {
    "ExecuteTime": {
     "end_time": "2018-04-05T12:21:09.735999Z",
     "start_time": "2018-04-05T12:21:09.720044Z"
    }
   },
   "outputs": [],
   "source": [
    "def rand_jitter(arr):\n",
    "    #     move points away from each other so that they dont over lap so much\n",
    "    #     helps to visualise the density around a single point essentially.\n",
    "    stdev = .005*(max(arr)-min(arr))\n",
    "    return (arr + np.random.randn(len(arr)) * stdev)"
   ]
  },
  {
   "cell_type": "markdown",
   "metadata": {
    "ExecuteTime": {
     "end_time": "2018-04-04T17:20:02.357123Z",
     "start_time": "2018-04-04T17:20:02.353926Z"
    }
   },
   "source": [
    "## Num publication per author"
   ]
  },
  {
   "cell_type": "code",
   "execution_count": 69,
   "metadata": {
    "ExecuteTime": {
     "end_time": "2018-04-05T12:53:25.311798Z",
     "start_time": "2018-04-05T12:53:24.899221Z"
    }
   },
   "outputs": [
    {
     "name": "stderr",
     "output_type": "stream",
     "text": [
      "Calculating best minimal value for power law fit\n",
      "/afs/inf.ed.ac.uk/user/s14/s1450710/miniconda3/envs/infnet3/lib/python3.6/site-packages/powerlaw.py:697: RuntimeWarning: invalid value encountered in true_divide\n",
      "  (Theoretical_CDF * (1 - Theoretical_CDF))\n"
     ]
    },
    {
     "name": "stdout",
     "output_type": "stream",
     "text": [
      "2.786117041489509\n"
     ]
    },
    {
     "data": {
      "image/png": "[encoded data removed]",
      "text/plain": [
       "<matplotlib.figure.Figure at 0x7ff3a2843630>"
      ]
     },
     "metadata": {},
     "output_type": "display_data"
    }
   ],
   "source": [
    "from network_artist import inst_by_color\n",
    "from collections import Counter\n",
    "### plot distribution of nb_pub:\n",
    "f = plt.figure(figsize=(8, 8))\n",
    "ax = f.add_subplot(111)\n",
    "markers = ['o', 's', '*', 'X', 'D', '^', '1']\n",
    "i = 0\n",
    "# for k, gb in lookup_poinf.groupby('institute'):\n",
    "#     if k in INST:\n",
    "#         c = Counter(gb.total_pub_1997.values)\n",
    "#         ax.plot(\n",
    "#             list(c.values()),\n",
    "#             list(c.keys()),\n",
    "#             alpha=.3,\n",
    "#             s=60,\n",
    "#             edgecolors=inst_by_color[institute[k]],\n",
    "#             marker=markers[i])\n",
    "#         i+=1\n",
    "c1 = Counter(lookup_poinf_concise.total_pub_1997.values)\n",
    "ax.scatter(\n",
    "    list(c1.keys()),\n",
    "    rand_jitter(list(c1.values())),\n",
    "#     s=70,\n",
    "    alpha=.6,\n",
    "    label='1997-2017',\n",
    "    marker=markers[1],\n",
    "    facecolor='',\n",
    "    edgecolors='g',\n",
    "    linewidths=2.4)\n",
    "\n",
    "c2 = Counter(lookup_poinf_concise.total_pub_2012.values)\n",
    "if 0 in c2.keys(): c2.pop(0)\n",
    "ax.scatter(\n",
    "    list(c2.keys()),\n",
    "    rand_jitter(list(c2.values())),\n",
    "#     s=70,\n",
    "    alpha=.7,\n",
    "    label='2012-2017',\n",
    "    marker=markers[-2],\n",
    "    facecolor='',\n",
    "    edgecolors='b',\n",
    "    linewidths=2.4)\n",
    "\n",
    "# sns.distplot(lookup_poinf.total_pub_2012.tolist()label='2012-2017', ax=ax, hist=False)\n",
    "ax.set_xlabel('Number of publications per author')\n",
    "ax.set_ylabel('Numer of authors')\n",
    "ax.set_yscale('log')\n",
    "ax.set_xscale('log')\n",
    "ax.set_xlim(left=0.6)\n",
    "ax.xaxis.set_major_formatter(ScalarFormatter())\n",
    "ax.yaxis.set_major_formatter(ScalarFormatter())\n",
    "ax.legend(loc=0, title='Period of collection')\n",
    "f.tight_layout()"
   ]
  },
  {
   "cell_type": "code",
   "execution_count": 76,
   "metadata": {
    "ExecuteTime": {
     "end_time": "2018-04-05T12:57:14.629550Z",
     "start_time": "2018-04-05T12:57:14.574738Z"
    }
   },
   "outputs": [
    {
     "name": "stdout",
     "output_type": "stream",
     "text": [
      "2.7495677044644333\n",
      "3.128633441204321\n"
     ]
    },
    {
     "name": "stderr",
     "output_type": "stream",
     "text": [
      "Calculating best minimal value for power law fit\n",
      "/afs/inf.ed.ac.uk/user/s14/s1450710/miniconda3/envs/infnet3/lib/python3.6/site-packages/powerlaw.py:697: RuntimeWarning: invalid value encountered in true_divide\n",
      "  (Theoretical_CDF * (1 - Theoretical_CDF))\n",
      "/afs/inf.ed.ac.uk/user/s14/s1450710/miniconda3/envs/infnet3/lib/python3.6/site-packages/powerlaw.py:697: RuntimeWarning: divide by zero encountered in true_divide\n",
      "  (Theoretical_CDF * (1 - Theoretical_CDF))\n",
      "Values less than or equal to 0 in data. Throwing out 0 or negative values\n",
      "Calculating best minimal value for power law fit\n"
     ]
    }
   ],
   "source": [
    "x = powerlaw.Fit(lookup_poinf_concise.total_pub_1997.values, discrete=True)\n",
    "print(x.alpha)\n",
    "x = powerlaw.Fit(lookup_poinf_concise.total_pub_2012.values, discrete=True)\n",
    "print(x.alpha)"
   ]
  },
  {
   "cell_type": "code",
   "execution_count": 68,
   "metadata": {
    "ExecuteTime": {
     "end_time": "2018-04-05T12:51:18.208439Z",
     "start_time": "2018-04-05T12:51:18.019979Z"
    }
   },
   "outputs": [],
   "source": [
    "# Number of publications per author within each collection period against the number of authors \n",
    "# - power law more prominent in the concise publication\n",
    "f.savefig('img/pub_per_author.png', format='png', bbox_inches='tight')"
   ]
  },
  {
   "cell_type": "markdown",
   "metadata": {},
   "source": [
    "## Cumulative Distribution of institutes"
   ]
  },
  {
   "cell_type": "code",
   "execution_count": 23,
   "metadata": {
    "ExecuteTime": {
     "end_time": "2018-04-04T17:29:37.626240Z",
     "start_time": "2018-04-04T17:29:36.768709Z"
    },
    "code_folding": [],
    "scrolled": false
   },
   "outputs": [
    {
     "name": "stdout",
     "output_type": "stream",
     "text": [
      "(1998.0, 2017.0)\n"
     ]
    },
    {
     "name": "stderr",
     "output_type": "stream",
     "text": [
      "/afs/inf.ed.ac.uk/user/s14/s1450710/miniconda3/envs/infnet3/lib/python3.6/site-packages/ipykernel_launcher.py:11: DeprecationWarning: object of type <class 'numpy.float64'> cannot be safely interpreted as an integer.\n",
      "  # This is added back by InteractiveShellApp.init_path()\n"
     ]
    },
    {
     "data": {
      "image/png": "[encoded data removed]",
      "text/plain": [
       "<matplotlib.figure.Figure at 0x7fea2854bb00>"
      ]
     },
     "metadata": {},
     "output_type": "display_data"
    }
   ],
   "source": [
    "import operator\n",
    "# Across time : x-axis = year; y-axis : eaech institute scatter with an individual when they exist\n",
    "f = plt.figure(figsize=(10, 3.5))\n",
    "# sns.set(font_scale=3)\n",
    "i = 1\n",
    "_xs = pd.unique(lookup_poinf_concise.first_pub_year)\n",
    "_min = np.min(_xs)\n",
    "_max = np.max(_xs)\n",
    "print((_min, _max))\n",
    "\n",
    "xs = np.linspace(_min, _max, _max - _min + 1, dtype=int)\n",
    "\n",
    "mat = np.zeros([len(INST), len(xs)])\n",
    "# print(mat.shape)\n",
    "i = 0\n",
    "for k, gb in lookup_poinf_concise.groupby('institute'):\n",
    "    if k in INST:\n",
    "        years = np.array(gb.first_pub_year.tolist())\n",
    "        c = Counter(years)\n",
    "        yrs = np.zeros_like(xs)\n",
    "        for yr, v in sorted(list(c.items()), key=operator.itemgetter(0)):\n",
    "            yrs[int(yr - _min)] = v\n",
    "        vals = np.cumsum(yrs)\n",
    "        mat[i] = vals\n",
    "        #             print(yr)\n",
    "        #             y=int(yr-_min)\n",
    "        #             if y==0:\n",
    "        #                 mat[i][y] = v\n",
    "        #             else:\n",
    "        #                 mat[i][y] = v + mat[i][y-1]\n",
    "        #         mat[i][-1] = np.sum(mat[i])\n",
    "        i += 1\n",
    "total = np.sum(mat, axis=1)\n",
    "# print(total)\n",
    "xlabels = list(map(int, sorted(_xs)))\n",
    "# mask = np.zeros_like(mat)\n",
    "# mask[:,-1] = True\n",
    "ax = sns.heatmap(\n",
    "    mat,\n",
    "    xticklabels=xlabels,\n",
    "    yticklabels=INST,\n",
    "    square=True,\n",
    "    annot=True,\n",
    "    robust=True,\n",
    "    cbar=False,\n",
    "    annot_kws={'fontweight': 'bold'},\n",
    "    linewidths=1)\n",
    "# ax2 = ax.twinx()\n",
    "# ax2.set_yticklabels(total)\n",
    "# ax2.set_yticks([0.05, 0.2, 0.35, 0.5, .63, 0.8, .95])\n",
    "# print(locs)\n",
    "# f.tight_layout()"
   ]
  },
  {
   "cell_type": "code",
   "execution_count": 24,
   "metadata": {
    "ExecuteTime": {
     "end_time": "2018-04-04T17:29:41.530297Z",
     "start_time": "2018-04-04T17:29:41.132226Z"
    }
   },
   "outputs": [],
   "source": [
    "f.savefig('img/growth_inst.png', format='png', bbox_inches='tight')"
   ]
  },
  {
   "cell_type": "code",
   "execution_count": 25,
   "metadata": {
    "ExecuteTime": {
     "end_time": "2018-04-04T17:29:43.304349Z",
     "start_time": "2018-04-04T17:29:43.294990Z"
    }
   },
   "outputs": [
    {
     "name": "stdout",
     "output_type": "stream",
     "text": [
      "('UNKNOWN', 10)\n",
      "('centre for intelligent systems and their applications', 19)\n",
      "('deanery of clinical sciences', 1)\n",
      "('institute for adaptive and neural computation', 27)\n",
      "('institute for computing systems architecture', 24)\n",
      "('institute of language cognition and computation', 48)\n",
      "('institute of perception action and behaviour', 15)\n",
      "('laboratory for foundations of computer science', 54)\n",
      "('neuroinformatics dtc', 13)\n",
      "('school of philosophy psychology and language sciences', 1)\n",
      "(212, 200)\n"
     ]
    }
   ],
   "source": [
    "# Check the number of authors\n",
    "t = 0\n",
    "t_in = 0\n",
    "for k, v in lookup_poinf_concise.groupby('institute'):\n",
    "    print((k, len(v)))\n",
    "    t += len(v)\n",
    "    if k in INST:\n",
    "        t_in += len(v)\n",
    "print((t, t_in))"
   ]
  },
  {
   "cell_type": "markdown",
   "metadata": {},
   "source": [
    "## Bipartite mapping between pubs and poinf"
   ]
  },
  {
   "cell_type": "code",
   "execution_count": 13,
   "metadata": {
    "ExecuteTime": {
     "end_time": "2018-04-04T17:26:05.985860Z",
     "start_time": "2018-04-04T17:26:05.981883Z"
    }
   },
   "outputs": [],
   "source": [
    "import networkx as nx\n",
    "g_bi = nx.DiGraph()"
   ]
  },
  {
   "cell_type": "code",
   "execution_count": 14,
   "metadata": {
    "ExecuteTime": {
     "end_time": "2018-04-04T17:26:10.510855Z",
     "start_time": "2018-04-04T17:26:07.821095Z"
    }
   },
   "outputs": [],
   "source": [
    "for pub_id, attr in lookup_pub.iterrows():\n",
    "    g_bi.add_node(pub_id, title=attr['title'], nodetype=2)\n",
    "    collab_poinf= attr['collab_poinf']\n",
    "    print\n",
    "    for poinf_id in collab_poinf:\n",
    "        g_bi.add_node(pub_id, name=lookup_poinf.loc[poinf_id]['full_name'], nodetype=1)\n",
    "        g_bi.add_edge(pub_id, poinf_id)"
   ]
  },
  {
   "cell_type": "code",
   "execution_count": 15,
   "metadata": {
    "ExecuteTime": {
     "end_time": "2018-04-04T17:26:12.304896Z",
     "start_time": "2018-04-04T17:26:12.291022Z"
    }
   },
   "outputs": [
    {
     "name": "stdout",
     "output_type": "stream",
     "text": [
      "Name: \n",
      "Type: DiGraph\n",
      "Number of nodes: 9091\n",
      "Number of edges: 10050\n",
      "Average in degree:   1.1055\n",
      "Average out degree:   1.1055\n"
     ]
    }
   ],
   "source": [
    "print(nx.info(g_bi))"
   ]
  },
  {
   "cell_type": "code",
   "execution_count": 81,
   "metadata": {
    "ExecuteTime": {
     "end_time": "2018-04-04T15:11:22.512451Z",
     "start_time": "2018-04-04T15:11:22.495238Z"
    }
   },
   "outputs": [],
   "source": [
    "# create dictionary of year-pubs\n",
    "tmp = lookup_pub.year.to_dict()\n",
    "years = [i for i in range(2012,2018)]\n",
    "year_dict = {a:set() for a in years}\n",
    "for (k,v) in tmp.items():\n",
    "    if v in years:\n",
    "        year_dict[v].add(k)"
   ]
  },
  {
   "cell_type": "code",
   "execution_count": 82,
   "metadata": {
    "ExecuteTime": {
     "end_time": "2018-04-04T15:11:24.288889Z",
     "start_time": "2018-04-04T15:11:24.284118Z"
    }
   },
   "outputs": [],
   "source": [
    "pub_nodelist = []\n",
    "for yr in sorted(years):\n",
    "    pub_nodelist.extend(list(year_dict[yr]))"
   ]
  },
  {
   "cell_type": "code",
   "execution_count": 106,
   "metadata": {
    "ExecuteTime": {
     "end_time": "2018-04-04T15:20:58.555302Z",
     "start_time": "2018-04-04T15:20:58.547852Z"
    }
   },
   "outputs": [],
   "source": [
    "# position of pub_nodes\n",
    "spacing = 100    \n",
    "pos_pubs_x = np.linspace(0,len(pub_nodelist)*2,num=len(pub_nodelist),dtype=int)\n",
    "pos_pubs_y = np.ones_like(pos_pubs_x) *.1\n",
    "gen_pos = zip(pos_pubs_x,pos_pubs_y)"
   ]
  },
  {
   "cell_type": "code",
   "execution_count": 107,
   "metadata": {
    "ExecuteTime": {
     "end_time": "2018-04-04T15:20:59.520735Z",
     "start_time": "2018-04-04T15:20:59.515605Z"
    }
   },
   "outputs": [],
   "source": [
    "pos_pub_dict = {}\n",
    "for yr in years:\n",
    "    _pubs = year_dict[yr]\n",
    "    for pub_id in _pubs:\n",
    "        pos_pub_dict[pub_id] = gen_pos.__next__()"
   ]
  },
  {
   "cell_type": "code",
   "execution_count": 203,
   "metadata": {
    "ExecuteTime": {
     "end_time": "2018-04-04T16:21:10.728807Z",
     "start_time": "2018-04-04T16:21:10.717672Z"
    }
   },
   "outputs": [],
   "source": [
    "research_nodelist = []\n",
    "for k,gb in lookup_poinf.groupby(by='institute'):\n",
    "    research_nodelist.extend(gb.index.tolist())"
   ]
  },
  {
   "cell_type": "code",
   "execution_count": 204,
   "metadata": {
    "ExecuteTime": {
     "end_time": "2018-04-04T16:21:16.271344Z",
     "start_time": "2018-04-04T16:21:16.266441Z"
    }
   },
   "outputs": [
    {
     "data": {
      "text/plain": [
       "288"
      ]
     },
     "execution_count": 204,
     "metadata": {},
     "output_type": "execute_result"
    }
   ],
   "source": [
    "len(research_nodelist)"
   ]
  },
  {
   "cell_type": "code",
   "execution_count": 116,
   "metadata": {
    "ExecuteTime": {
     "end_time": "2018-04-04T15:25:30.167661Z",
     "start_time": "2018-04-04T15:25:30.162126Z"
    }
   },
   "outputs": [],
   "source": [
    "pos_researcher_y = np.linspace(0,len(pub_nodelist)*2, num=len(research_nodelist))\n",
    "pos_researcher = {a:[pos_researcher_y[i], .2] for i,a in enumerate(research_nodelist)}"
   ]
  },
  {
   "cell_type": "code",
   "execution_count": 157,
   "metadata": {
    "ExecuteTime": {
     "end_time": "2018-04-04T15:55:18.951411Z",
     "start_time": "2018-04-04T15:55:18.682810Z"
    }
   },
   "outputs": [],
   "source": [
    "# store the bipartite graph for igraph:\n",
    "# nx.readwrite.write_edgelist(g_bi,'../data_schoolofinf/bipart_full.edgelist')\n",
    "nx.readwrite.gml.write_gml(g_bi,'../data_schoolofinf/bipart_full.gml')"
   ]
  },
  {
   "cell_type": "code",
   "execution_count": 126,
   "metadata": {
    "ExecuteTime": {
     "end_time": "2018-04-04T15:45:01.590823Z",
     "start_time": "2018-04-04T15:45:01.587543Z"
    }
   },
   "outputs": [],
   "source": [
    "import igraph as ig"
   ]
  },
  {
   "cell_type": "code",
   "execution_count": 158,
   "metadata": {
    "ExecuteTime": {
     "end_time": "2018-04-04T15:55:20.198629Z",
     "start_time": "2018-04-04T15:55:20.044012Z"
    }
   },
   "outputs": [],
   "source": [
    "g_bi_ig = ig.Graph.Read_GML('../data_schoolofinf/bipart_full.gml')"
   ]
  },
  {
   "cell_type": "code",
   "execution_count": 159,
   "metadata": {
    "ExecuteTime": {
     "end_time": "2018-04-04T15:55:21.229799Z",
     "start_time": "2018-04-04T15:55:21.226720Z"
    }
   },
   "outputs": [
    {
     "data": {
      "text/plain": [
       "['id', 'label', 'title', 'name', 'nodetype']"
      ]
     },
     "execution_count": 159,
     "metadata": {},
     "output_type": "execute_result"
    }
   ],
   "source": [
    "g_bi_ig.vs.attribute_names()"
   ]
  },
  {
   "cell_type": "code",
   "execution_count": 161,
   "metadata": {
    "ExecuteTime": {
     "end_time": "2018-04-04T15:55:30.501988Z",
     "start_time": "2018-04-04T15:55:30.309856Z"
    }
   },
   "outputs": [],
   "source": [
    "pos = g_bi_ig.layout_bipartite('nodetype')"
   ]
  },
  {
   "cell_type": "code",
   "execution_count": 174,
   "metadata": {
    "ExecuteTime": {
     "end_time": "2018-04-04T16:06:35.711910Z",
     "start_time": "2018-04-04T16:06:35.708582Z"
    }
   },
   "outputs": [],
   "source": [
    "vs = g_bi_ig.vs"
   ]
  },
  {
   "cell_type": "code",
   "execution_count": 185,
   "metadata": {
    "ExecuteTime": {
     "end_time": "2018-04-04T16:12:54.036518Z",
     "start_time": "2018-04-04T16:12:54.018519Z"
    }
   },
   "outputs": [],
   "source": [
    "pos_dict = {}\n",
    "coord = pos.coords\n",
    "for i,v in enumerate(vs):\n",
    "    v_id = v['label']\n",
    "    pos_dict[v_id] = coord[i]"
   ]
  },
  {
   "cell_type": "code",
   "execution_count": 212,
   "metadata": {
    "ExecuteTime": {
     "end_time": "2018-04-04T16:24:02.158585Z",
     "start_time": "2018-04-04T16:24:02.106117Z"
    }
   },
   "outputs": [
    {
     "name": "stdout",
     "output_type": "stream",
     "text": [
      "Name: \n",
      "Type: SubDiGraph\n",
      "Number of nodes: 224\n",
      "Number of edges: 0\n",
      "Average in degree:   0.0000\n",
      "Average out degree:   0.0000\n"
     ]
    }
   ],
   "source": [
    "x = g_bi.subgraph(research_nodelist)\n",
    "print(nx.info(x))"
   ]
  },
  {
   "cell_type": "code",
   "execution_count": 277,
   "metadata": {
    "ExecuteTime": {
     "end_time": "2018-04-04T17:07:02.490888Z",
     "start_time": "2018-04-04T17:07:02.265410Z"
    }
   },
   "outputs": [],
   "source": [
    "poinf_labels = {}\n",
    "pos_labels_dict ={}\n",
    "research_nodelist = []\n",
    "for i,v in enumerate(vs): # in x.nodes:\n",
    "    v_id = v['label']\n",
    "    if v_id in lookup_poinf.index.tolist():\n",
    "        research_nodelist.append(v_id)\n",
    "        poinf_labels[v_id] = lookup_poinf.loc[v_id]['full_name']\n",
    "        node_coord = coord[i]\n",
    "        pos_labels_dict[v_id] = [node_coord[0], node_coord[1]+.3]"
   ]
  },
  {
   "cell_type": "code",
   "execution_count": 250,
   "metadata": {
    "ExecuteTime": {
     "end_time": "2018-04-04T16:43:00.702897Z",
     "start_time": "2018-04-04T16:43:00.691815Z"
    }
   },
   "outputs": [
    {
     "data": {
      "text/plain": [
       "8866.0"
      ]
     },
     "execution_count": 250,
     "metadata": {},
     "output_type": "execute_result"
    }
   ],
   "source": [
    "np.max( np.array(coord))"
   ]
  },
  {
   "cell_type": "code",
   "execution_count": 267,
   "metadata": {
    "ExecuteTime": {
     "end_time": "2018-04-04T17:05:01.311450Z",
     "start_time": "2018-04-04T17:05:01.301374Z"
    }
   },
   "outputs": [],
   "source": [
    "def color_by_inst(g, lookup_poinf):\n",
    "    # light up the nodes based on the institutes they belong to:\n",
    "    node_color = []\n",
    "    poinf = lookup_poinf.index.tolist()\n",
    "    for node in g:\n",
    "        if node in poinf:\n",
    "            node_color.append(inst_by_color[int(\n",
    "                lookup_poinf.institute_class.loc[[str(node)]])])\n",
    "    return node_color"
   ]
  },
  {
   "cell_type": "code",
   "execution_count": 285,
   "metadata": {
    "ExecuteTime": {
     "end_time": "2018-04-04T17:08:25.962080Z",
     "start_time": "2018-04-04T17:08:23.146807Z"
    }
   },
   "outputs": [
    {
     "data": {
      "image/png": "[encoded data removed]",
      "text/plain": [
       "<matplotlib.figure.Figure at 0x7f0a8f5c36a0>"
      ]
     },
     "metadata": {},
     "output_type": "display_data"
    }
   ],
   "source": [
    "f = plt.figure(figsize=(18, 3))\n",
    "ax = f.add_subplot(111)\n",
    "nx.draw_networkx_nodes(\n",
    "    g_bi,\n",
    "    pos_dict,\n",
    "    nodelist=pub_nodelist,\n",
    "    node_size=50,\n",
    "    alpha=.2,\n",
    "    node_shape='^',\n",
    "    node_color='k',\n",
    "    ax=ax,\n",
    "    linewidths=2)\n",
    "nx.draw_networkx_nodes(\n",
    "    g_bi,\n",
    "    pos_dict,\n",
    "    nodelist=research_nodelist,\n",
    "    node_size=100,\n",
    "    alpha=.5,\n",
    "    linewidths=2,\n",
    "    ax=ax,\n",
    "    node_color=artist.color_by_inst(g_bi.subgraph(research_nodelist), lookup_poinf))\n",
    "# Subgraph preserves node order!\n",
    "# nx.draw_networkx_labels(g_bi, pos_labels_dict, poinf_labels)\n",
    "nx.draw_networkx_edges(\n",
    "    g_bi, pos_dict, width=.2, style=':', ax=ax, edge_color='#505050',arrows=False)\n",
    "ax.axis('off')\n",
    "ax.set_xlim(left=0,right=8870)\n",
    "f.tight_layout()"
   ]
  },
  {
   "cell_type": "code",
   "execution_count": 291,
   "metadata": {
    "ExecuteTime": {
     "end_time": "2018-04-04T17:11:34.754895Z",
     "start_time": "2018-04-04T17:11:33.017303Z"
    }
   },
   "outputs": [],
   "source": [
    "f.savefig('./img/bipartite_graph.png', format='png', bbox_inches='tight')"
   ]
  },
  {
   "cell_type": "markdown",
   "metadata": {},
   "source": [
    "## Distribution of publication by number of collab_poinf"
   ]
  },
  {
   "cell_type": "code",
   "execution_count": 213,
   "metadata": {
    "ExecuteTime": {
     "end_time": "2018-04-04T19:12:21.506445Z",
     "start_time": "2018-04-04T19:12:19.575840Z"
    }
   },
   "outputs": [
    {
     "data": {
      "image/png": "[encoded data removed]",
      "text/plain": [
       "<matplotlib.figure.Figure at 0x7feaebed1b38>"
      ]
     },
     "metadata": {},
     "output_type": "display_data"
    }
   ],
   "source": [
    "selected_years = [1997, 2000, 2010, 2012, 2013, 2014, 2015, 2016, 2017]\n",
    "fig = plt.figure(figsize=(40, 10))\n",
    "count = 0\n",
    "ind = [1, 2, 3, 4, 5]\n",
    "xs = [1, 2, 3, 4, 5]  #, '>5']\n",
    "width = .7\n",
    "_ax_ref = None\n",
    "more_than = []\n",
    "for yr in selected_years:\n",
    "    df = lookup_pub[lookup_pub.year.eq(yr)]\n",
    "    count += 1\n",
    "    if count == 1:\n",
    "        ax = fig.add_subplot(1, 21, count)\n",
    "        ax.set_ylabel('Number of publications')\n",
    "        _ax_ref = ax\n",
    "\n",
    "    else:\n",
    "        ax = fig.add_subplot(1, 21, count, sharey=ax)\n",
    "        for tk in ax.get_yticklabels():\n",
    "            tk.set_visible(False)\n",
    "\n",
    "    total_pub = len(df)\n",
    "    num_authors = []\n",
    "    num_poinfs = []\n",
    "    for i in ind:\n",
    "        _df = df[df.nb_authors.eq(i)]\n",
    "        num_authors.append(len(_df))\n",
    "\n",
    "    more_than.append(total_pub - np.sum(num_authors))  # more than 5\n",
    "    #     bar_auth = ax.bar(\n",
    "    #         xs,\n",
    "    #         num_authors,\n",
    "    #         width=width,\n",
    "    #         label=\"Max\",\n",
    "    #         align=\"center\",\n",
    "    #     )\n",
    "\n",
    "    bars_mat = np.zeros([len(ind), len(ind) + 1])\n",
    "    offset_mat = np.zeros([len(ind), len(ind) + 1])\n",
    "\n",
    "    for num_collab_i in ind:  # upper limit\n",
    "        _df = df[df.nb_authors.eq(num_collab_i)]\n",
    "\n",
    "        for possible_inf_i in range(num_collab_i + 1):\n",
    "            bars_mat[num_collab_i - 1][possible_inf_i] = len(\n",
    "                _df[_df.nb_poinf.eq(possible_inf_i)])\n",
    "        offset_mat[num_collab_i - 1] = bars_mat[num_collab_i - 1]\n",
    "    bars_mat = np.transpose(bars_mat)\n",
    "    #     print(bars_mat)\n",
    "    _c = sns.color_palette('tab10', n_colors=len(xs) + 1)\n",
    "    for row in range(len(xs)):\n",
    "        if row == 0:\n",
    "            btm = np.zeros_like(bars_mat[row])\n",
    "        else:\n",
    "            btm = np.sum(bars_mat[:row], axis=0)\n",
    "        ax.bar(\n",
    "            ind,\n",
    "            bars_mat[row],\n",
    "            bottom=btm,\n",
    "            align='center',\n",
    "            width=width,\n",
    "            log=False,\n",
    "            label='{}'.format(row),\n",
    "            facecolor=_c[row])\n",
    "    ax.set_xticks(xs)\n",
    "    ax.set_xlabel('{} ({})'.format(yr, len(df)))\n",
    "\n",
    "legend = plt.legend(\n",
    "    loc='upper right',\n",
    "    ncol=5,\n",
    "    title='Number of collaborators from Informatics',\n",
    "    fancybox=True)\n",
    "\n",
    "ax = fig.add_subplot(3, 11, 1)\n",
    "ax.bar(\n",
    "    list(map(str, selected_years)),\n",
    "    more_than,\n",
    "    facecolor='k',\n",
    "    label='>5 collaborators')\n",
    "ax.set_facecolor((1,1,1))\n",
    "ax.yaxis.set_ticks_position('right')\n",
    "ax.set_xticklabels(selected_years, rotation=90)\n",
    "\n",
    "plt.setp(legend.get_title(), fontsize=20)\n",
    "plt.subplots_adjust(wspace=0)\n",
    "# plt.tight_layout()"
   ]
  },
  {
   "cell_type": "code",
   "execution_count": 214,
   "metadata": {
    "ExecuteTime": {
     "end_time": "2018-04-04T19:12:25.194209Z",
     "start_time": "2018-04-04T19:12:24.598239Z"
    }
   },
   "outputs": [],
   "source": [
    "fig.savefig(\n",
    "    'img/distr_by_yr_1-5.png',\n",
    "    format='png',\n",
    "    transparent=True,\n",
    "    bbox_inches='tight')"
   ]
  },
  {
   "cell_type": "markdown",
   "metadata": {},
   "source": [
    "## Number of collaborator per author against number of author"
   ]
  },
  {
   "cell_type": "code",
   "execution_count": 51,
   "metadata": {
    "ExecuteTime": {
     "end_time": "2018-04-05T12:47:16.336395Z",
     "start_time": "2018-04-05T12:47:16.333216Z"
    }
   },
   "outputs": [],
   "source": [
    "from networkx.utils.misc import flatten"
   ]
  },
  {
   "cell_type": "code",
   "execution_count": 52,
   "metadata": {
    "ExecuteTime": {
     "end_time": "2018-04-05T12:47:17.130508Z",
     "start_time": "2018-04-05T12:47:16.585617Z"
    }
   },
   "outputs": [
    {
     "name": "stderr",
     "output_type": "stream",
     "text": [
      "/afs/inf.ed.ac.uk/user/s14/s1450710/miniconda3/envs/infnet3/lib/python3.6/site-packages/ipykernel_launcher.py:11: FutureWarning: \n",
      "Passing list-likes to .loc or [] with any missing label will raise\n",
      "KeyError in the future, you can use .reindex() as an alternative.\n",
      "\n",
      "See the documentation here:\n",
      "http://pandas.pydata.org/pandas-docs/stable/indexing.html#deprecate-loc-reindex-listlike\n",
      "  # This is added back by InteractiveShellApp.init_path()\n",
      "/afs/inf.ed.ac.uk/user/s14/s1450710/miniconda3/envs/infnet3/lib/python3.6/site-packages/ipykernel_launcher.py:12: FutureWarning: \n",
      "Passing list-likes to .loc or [] with any missing label will raise\n",
      "KeyError in the future, you can use .reindex() as an alternative.\n",
      "\n",
      "See the documentation here:\n",
      "http://pandas.pydata.org/pandas-docs/stable/indexing.html#deprecate-loc-reindex-listlike\n",
      "  if sys.path[0] == '':\n"
     ]
    }
   ],
   "source": [
    "_lookup_poinf = lookup_poinf.dropna(subset=['pub_ids'])\n",
    "pubmapping = _lookup_poinf.pub_ids.to_dict()\n",
    "lookup_pub1997 = lookup_pub[(lookup_pub.year >= 1997)\n",
    "                            & (lookup_pub.year <= 2017)]\n",
    "# lookup_pub2012 = lookup_pub[(lookup_pub.year >= 2012)\n",
    "#                             & (lookup_pub.year <= 2017)]\n",
    "tmp ={}\n",
    "\n",
    "for poinf_id, pub_ids in pubmapping.items():\n",
    "    pubs = lookup_pub1997.loc[[a for a in pub_ids if a in lookup_pub1997.index]]\n",
    "    internal = flatten(lookup_pub1997.loc[pub_ids].collab_poinf.tolist())\n",
    "    external = flatten(lookup_pub1997.loc[pub_ids].collab_id.tolist())\n",
    "    tmp[poinf_id] = {\"internal\": len(set(internal))-1,\n",
    "                     \"total\": len(set(external))-1\n",
    "                    }"
   ]
  },
  {
   "cell_type": "code",
   "execution_count": 53,
   "metadata": {
    "ExecuteTime": {
     "end_time": "2018-04-05T12:47:17.391991Z",
     "start_time": "2018-04-05T12:47:17.388184Z"
    }
   },
   "outputs": [],
   "source": [
    "# do the counting\n",
    "num_internal = Counter()\n",
    "num_total = Counter()\n",
    "for _, d in tmp.items():\n",
    "    num_internal[d['internal']]+=1\n",
    "    num_total[d['total']]+=1"
   ]
  },
  {
   "cell_type": "code",
   "execution_count": 79,
   "metadata": {
    "ExecuteTime": {
     "end_time": "2018-04-05T13:06:43.585047Z",
     "start_time": "2018-04-05T13:06:43.196054Z"
    }
   },
   "outputs": [
    {
     "data": {
      "image/png": "[encoded data removed]",
      "text/plain": [
       "<matplotlib.figure.Figure at 0x7ff3a3312080>"
      ]
     },
     "metadata": {},
     "output_type": "display_data"
    }
   ],
   "source": [
    "\n",
    "### plot distribution of nb_pub:\n",
    "f = plt.figure(figsize=(8, 8))\n",
    "ax = f.add_subplot(111)\n",
    "markers = ['o', 's', '*', 'X', 'D', '^', '1']\n",
    "i = 0\n",
    "ax.scatter(\n",
    "    list(num_internal.keys()),\n",
    "    rand_jitter(list(num_internal.values())),\n",
    "#     s=70,\n",
    "    alpha=.8,\n",
    "    label='Informatics',\n",
    "    marker=markers[0],\n",
    "    facecolor='',\n",
    "    edgecolors='b',\n",
    "    linewidths=2.4)\n",
    "ax.scatter(\n",
    "    list(num_total.keys()),\n",
    "    rand_jitter(list(num_total.values())),\n",
    "#     s=70,\n",
    "    alpha=.5,\n",
    "    label='All',\n",
    "    marker=markers[4],\n",
    "    facecolor='',\n",
    "    edgecolors='m',\n",
    "    linewidths=2.4)\n",
    "\n",
    "# ax.scatter(np.mean([a*b for (a,b) in c.items()]), 2, label='Average number of collaborators (187)')\n",
    "# sns.distplot(lookup_poinf.total_pub_2012.tolist()label='2012-2017', ax=ax, hist=False)\n",
    "ax.set_xlabel('Number of collaborators per author')\n",
    "ax.set_ylabel('Numer of authors')\n",
    "ax.set_yscale('log')\n",
    "ax.set_xscale('log')\n",
    "# ax.set_ylim(0.9,)\n",
    "ax.xaxis.set_major_formatter(ScalarFormatter())\n",
    "ax.yaxis.set_major_formatter(ScalarFormatter())\n",
    "\n",
    "ax.legend(loc=0, title='Author type')\n",
    "f.tight_layout()"
   ]
  },
  {
   "cell_type": "code",
   "execution_count": 85,
   "metadata": {
    "ExecuteTime": {
     "end_time": "2018-04-05T13:10:02.322006Z",
     "start_time": "2018-04-05T13:10:02.277902Z"
    }
   },
   "outputs": [
    {
     "name": "stdout",
     "output_type": "stream",
     "text": [
      "7.388369235016853\n",
      "3.888090323853723\n"
     ]
    },
    {
     "name": "stderr",
     "output_type": "stream",
     "text": [
      "Values less than or equal to 0 in data. Throwing out 0 or negative values\n",
      "Calculating best minimal value for power law fit\n",
      "/afs/inf.ed.ac.uk/user/s14/s1450710/miniconda3/envs/infnet3/lib/python3.6/site-packages/powerlaw.py:697: RuntimeWarning: invalid value encountered in true_divide\n",
      "  (Theoretical_CDF * (1 - Theoretical_CDF))\n",
      "Calculating best minimal value for power law fit\n"
     ]
    }
   ],
   "source": [
    "tmp_internal = [b['internal'] for (a,b) in tmp.items()]\n",
    "tmp_total = [b['total'] for (a,b) in tmp.items()]\n",
    "print(powerlaw.Fit(tmp_internal).alpha)\n",
    "print(powerlaw.Fit(tmp_total).alpha)"
   ]
  },
  {
   "cell_type": "code",
   "execution_count": 80,
   "metadata": {
    "ExecuteTime": {
     "end_time": "2018-04-05T13:06:43.999552Z",
     "start_time": "2018-04-05T13:06:43.845826Z"
    }
   },
   "outputs": [],
   "source": [
    "f.savefig('img/num_collab_num_author.png', format='png', bbox_inches='tight')"
   ]
  },
  {
   "cell_type": "markdown",
   "metadata": {},
   "source": [
    "##  Number of authors on paper"
   ]
  },
  {
   "cell_type": "code",
   "execution_count": 60,
   "metadata": {
    "ExecuteTime": {
     "end_time": "2018-04-05T12:48:56.245062Z",
     "start_time": "2018-04-05T12:48:56.238143Z"
    }
   },
   "outputs": [],
   "source": [
    "# number of authors - type of author -inf , all\n",
    "inf_author = Counter(lookup_pub1997.nb_poinf.tolist())\n",
    "all_author = Counter(lookup_pub1997.nb_shortnames.tolist())"
   ]
  },
  {
   "cell_type": "code",
   "execution_count": 77,
   "metadata": {
    "ExecuteTime": {
     "end_time": "2018-04-05T13:04:21.766290Z",
     "start_time": "2018-04-05T13:04:21.356429Z"
    }
   },
   "outputs": [
    {
     "data": {
      "image/png": "[encoded data removed]",
      "text/plain": [
       "<matplotlib.figure.Figure at 0x7ff3a31056a0>"
      ]
     },
     "metadata": {},
     "output_type": "display_data"
    }
   ],
   "source": [
    "### plot distribution of nb_pub:\n",
    "f = plt.figure(figsize=(8, 8))\n",
    "ax = f.add_subplot(111)\n",
    "markers = ['o', 's', '*', 'X', 'D', '^', '1']\n",
    "i = 0\n",
    "ax.scatter(\n",
    "    list(inf_author.keys()),\n",
    "    rand_jitter(list(inf_author.values())),\n",
    "    #     s=70,\n",
    "    alpha=.8,\n",
    "    label='Informatics',\n",
    "    marker=markers[0],\n",
    "    facecolor='',\n",
    "    edgecolors='b',\n",
    "    linewidths=2.4)\n",
    "ax.scatter(\n",
    "    list(all_author.keys()),\n",
    "    rand_jitter(list(all_author.values())),\n",
    "    #     s=70,\n",
    "    alpha=.5,\n",
    "    label='All',\n",
    "    marker=markers[4],\n",
    "    facecolor='',\n",
    "    edgecolors='m',\n",
    "    linewidths=2.4)\n",
    "\n",
    "ax.set_xlabel('Number of authors per paper')\n",
    "ax.set_ylabel('Number of papers')\n",
    "# ax.set_ylim(1,7000)\n",
    "\n",
    "ax.set_yscale('log')\n",
    "ax.set_xscale('log')\n",
    "ax.xaxis.set_major_formatter(ScalarFormatter())\n",
    "ax.yaxis.set_major_formatter(ScalarFormatter())\n",
    "\n",
    "\n",
    "ax.legend(loc=0, title='Author type')\n",
    "f.tight_layout()"
   ]
  },
  {
   "cell_type": "code",
   "execution_count": 78,
   "metadata": {
    "ExecuteTime": {
     "end_time": "2018-04-05T13:04:26.708692Z",
     "start_time": "2018-04-05T13:04:26.517637Z"
    }
   },
   "outputs": [],
   "source": [
    "f.savefig('img/num_authors_on_pp.png',format='png',bbox_inches='tight')"
   ]
  },
  {
   "cell_type": "code",
   "execution_count": 86,
   "metadata": {
    "ExecuteTime": {
     "end_time": "2018-04-05T13:13:45.151488Z",
     "start_time": "2018-04-05T13:13:45.119197Z"
    }
   },
   "outputs": [
    {
     "name": "stdout",
     "output_type": "stream",
     "text": [
      "5.850366228734107\n",
      "3.3392966222372684\n"
     ]
    },
    {
     "name": "stderr",
     "output_type": "stream",
     "text": [
      "Values less than or equal to 0 in data. Throwing out 0 or negative values\n",
      "Calculating best minimal value for power law fit\n",
      "/afs/inf.ed.ac.uk/user/s14/s1450710/miniconda3/envs/infnet3/lib/python3.6/site-packages/powerlaw.py:697: RuntimeWarning: invalid value encountered in true_divide\n",
      "  (Theoretical_CDF * (1 - Theoretical_CDF))\n",
      "Calculating best minimal value for power law fit\n",
      "/afs/inf.ed.ac.uk/user/s14/s1450710/miniconda3/envs/infnet3/lib/python3.6/site-packages/powerlaw.py:697: RuntimeWarning: divide by zero encountered in true_divide\n",
      "  (Theoretical_CDF * (1 - Theoretical_CDF))\n"
     ]
    }
   ],
   "source": [
    "# number of authors - type of author -inf , all\n",
    "print(powerlaw.Fit(lookup_pub1997.nb_poinf.tolist(),discrete=True).alpha)\n",
    "print(powerlaw.Fit(lookup_pub1997.nb_shortnames.tolist(),discrete=True).alpha)"
   ]
  },
  {
   "cell_type": "code",
   "execution_count": 87,
   "metadata": {
    "ExecuteTime": {
     "end_time": "2018-04-05T13:13:57.978142Z",
     "start_time": "2018-04-05T13:13:57.971284Z"
    }
   },
   "outputs": [
    {
     "data": {
      "text/plain": [
       "1.1420029895366217"
      ]
     },
     "execution_count": 87,
     "metadata": {},
     "output_type": "execute_result"
    }
   ],
   "source": [
    "np.mean(lookup_pub1997.nb_poinf.tolist())"
   ]
  },
  {
   "cell_type": "code",
   "execution_count": 88,
   "metadata": {
    "ExecuteTime": {
     "end_time": "2018-04-05T13:14:06.382568Z",
     "start_time": "2018-04-05T13:14:06.376014Z"
    }
   },
   "outputs": [
    {
     "data": {
      "text/plain": [
       "3.652217239661186"
      ]
     },
     "execution_count": 88,
     "metadata": {},
     "output_type": "execute_result"
    }
   ],
   "source": [
    "np.mean(lookup_pub1997.nb_shortnames.tolist())"
   ]
  },
  {
   "cell_type": "code",
   "execution_count": null,
   "metadata": {},
   "outputs": [],
   "source": []
  }
 ],
 "metadata": {
  "kernelspec": {
   "display_name": "Python 3",
   "language": "python",
   "name": "python3"
  },
  "language_info": {
   "codemirror_mode": {
    "name": "ipython",
    "version": 3
   },
   "file_extension": ".py",
   "mimetype": "text/x-python",
   "name": "python",
   "nbconvert_exporter": "python",
   "pygments_lexer": "ipython3",
   "version": "3.6.4"
  },
  "notify_time": "10",
  "toc": {
   "nav_menu": {},
   "number_sections": true,
   "sideBar": false,
   "skip_h1_title": false,
   "toc_cell": false,
   "toc_position": {
    "height": "40px",
    "left": "551px",
    "right": "355.75px",
    "top": "234px",
    "width": "317px"
   },
   "toc_section_display": "none",
   "toc_window_display": false
  },
  "varInspector": {
   "cols": {
    "lenName": 16,
    "lenType": 16,
    "lenVar": 40
   },
   "kernels_config": {
    "python": {
     "delete_cmd_postfix": "",
     "delete_cmd_prefix": "del ",
     "library": "var_list.py",
     "varRefreshCmd": "print(var_dic_list())"
    },
    "r": {
     "delete_cmd_postfix": ") ",
     "delete_cmd_prefix": "rm(",
     "library": "var_list.r",
     "varRefreshCmd": "cat(var_dic_list()) "
    }
   },
   "position": {
    "height": "523px",
    "left": "794.883px",
    "right": "125.233px",
    "top": "101px",
    "width": "553px"
   },
   "types_to_exclude": [
    "module",
    "function",
    "builtin_function_or_method",
    "instance",
    "_Feature"
   ],
   "window_display": false
  }
 },
 "nbformat": 4,
 "nbformat_minor": 2
}
